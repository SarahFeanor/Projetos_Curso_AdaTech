{
 "cells": [
  {
   "cell_type": "markdown",
   "id": "e940193d",
   "metadata": {},
   "source": [
    "# Aula 8 - Funções de listas\n",
    " \n",
    "As listas possuem diversas funções prontas bastante úteis. Veremos algumas das mais usadas. Não se preocupe em _decorar_ todas elas: sempre podemos consultar nosso material quando precisarmos de um lembrete! Com tempo e prática você irá aos poucos memorizar algumas delas.\n",
    " \n",
    "## 1. Adicionando elementos\n",
    "Podemos adicionar novos elementos na lista de duas maneiras. A primeira delas, mais simples, é o _append_. Ele adiciona um elemento ao final da lista. Veja o exemplo abaixo:"
   ]
  },
  {
   "cell_type": "code",
   "execution_count": 26,
   "id": "3c297feb",
   "metadata": {},
   "outputs": [
    {
     "name": "stdout",
     "output_type": "stream",
     "text": [
      "[0, 2, 4, 6, 8, 10]\n"
     ]
    }
   ],
   "source": [
    "pares = [0, 2, 4, 6, 8]\n",
    "pares.append(10)\n",
    "print(pares) # resultado: [0, 2, 4, 6, 8, 10]"
   ]
  },
  {
   "cell_type": "markdown",
   "id": "e5ef698c",
   "metadata": {},
   "source": [
    "Outra maneira é com o _insert_: além do elemento, ele recebe a **posição** do novo elemento. O primeiro parâmetro é a posição, e a segunda é o valor."
   ]
  },
  {
   "cell_type": "code",
   "execution_count": 27,
   "id": "ef581128",
   "metadata": {},
   "outputs": [
    {
     "name": "stdout",
     "output_type": "stream",
     "text": [
      "[0, 2, 4, 6, 8, 10]\n"
     ]
    }
   ],
   "source": [
    "pares = [0, 2, 4, 8, 10]\n",
    "pares.insert(3, 6)\n",
    "print(pares) #resultado: [0, 2, 4, 6, 8, 10]"
   ]
  },
  {
   "cell_type": "markdown",
   "id": "a5882dcb",
   "metadata": {},
   "source": [
    "Note que o valor que ocupava a posição anteriormente não é substituído, mas \"empurrado\" para a próxima posição.\n",
    " \n",
    "## 2. Removendo elementos\n",
    "Podemos remover o elemento de 2 jeitos: por **valor** e por **posição**.\n",
    "O _remove_ irá remover o primeiro elemento encontrado na lista com um dado valor. Ex:"
   ]
  },
  {
   "cell_type": "code",
   "execution_count": null,
   "id": "7146b965",
   "metadata": {},
   "outputs": [],
   "source": [
    "impares = [1, 3, 3, 5, 7, 9]\n",
    "impares.remove(3)\n",
    "print(impares) # resultado: [1, 3, 5, 7, 9]"
   ]
  },
  {
   "cell_type": "markdown",
   "id": "9169d4d3",
   "metadata": {},
   "source": [
    "O _pop_ remove o elemento que estiver em uma dada posição, independentemente de seu valor:"
   ]
  },
  {
   "cell_type": "code",
   "execution_count": 30,
   "id": "0a51f833",
   "metadata": {},
   "outputs": [
    {
     "name": "stdout",
     "output_type": "stream",
     "text": [
      "[1, 3, 5, 7, 9]\n"
     ]
    }
   ],
   "source": [
    "impares = [1, 3, 5, 7, 8, 9]\n",
    "impares.pop(4)\n",
    "print(impares) # resultado: [1, 3, 5, 7, 9]"
   ]
  },
  {
   "cell_type": "markdown",
   "id": "7ffa5338",
   "metadata": {},
   "source": [
    "> Se nenhum valor for passado no pop, ele irá remover necessariamente o último elemento da lista.\n",
    " \n",
    "## 3. Ordenando a lista\n",
    "Podemos ordenar a lista usando o _sort_."
   ]
  },
  {
   "cell_type": "code",
   "execution_count": 31,
   "id": "287e139d",
   "metadata": {},
   "outputs": [
    {
     "name": "stdout",
     "output_type": "stream",
     "text": [
      "[0, 1, 1, 2, 3, 5, 8, 13]\n"
     ]
    }
   ],
   "source": [
    "fibonacci = [8, 1, 0, 5, 13, 1, 3, 2]\n",
    "fibonacci.sort()\n",
    "print(fibonacci) # resultado: [0, 1, 1, 2, 3, 5, 8, 13]"
   ]
  },
  {
   "cell_type": "markdown",
   "id": "6acd1380",
   "metadata": {},
   "source": [
    "Caso desejássemos ordenar em ordem decrescente, podemos passar a opção ```reverse = True``` para o _sort_:"
   ]
  },
  {
   "cell_type": "code",
   "execution_count": 32,
   "id": "b33af3c6",
   "metadata": {},
   "outputs": [
    {
     "name": "stdout",
     "output_type": "stream",
     "text": [
      "[13, 8, 5, 3, 2, 1, 1, 0]\n"
     ]
    }
   ],
   "source": [
    "fibonacci = [8, 1, 0, 5, 13, 1, 3, 2]\n",
    "fibonacci.sort(reverse = True)\n",
    "print(fibonacci) # resultado: [13, 8, 5, 3, 2, 1, 1, 0]"
   ]
  },
  {
   "cell_type": "code",
   "execution_count": 37,
   "id": "70e7a69e",
   "metadata": {},
   "outputs": [
    {
     "name": "stdout",
     "output_type": "stream",
     "text": [
      "JORGE\n"
     ]
    }
   ],
   "source": [
    "fibonacci = ['jorge', 'Jorge', 'Thiago', 'Valter', 'Matheus']\n",
    "fibonacci.sort(reverse = True)\n",
    "print(fibonacci) # resultado: [13, 8, 5, 3, 2, 1, 1, 0]\n",
    "\n",
    "# Ascci: 'j', 'J' '0', '_'"
   ]
  },
  {
   "cell_type": "markdown",
   "id": "31a7494b",
   "metadata": {},
   "source": [
    "> **Importante:** o _sort_ só irá funcionar caso sua lista possua apenas elementos que podem ser comparados entre si (apenas _strings_ ou apenas números, por exemplo). Se uma lista contém tanto _strings_ quanto números, o _sort_ não saberá o que vem primeiro.\n",
    " \n",
    "Um problema do _sort_ é que ele irá reordenar a própria lista. Muitas vezes precisamos preservar a lista original, e obter uma nova com a ordenação desejada. Neste caso, podemos utilizar o _sorted_:"
   ]
  },
  {
   "cell_type": "code",
   "execution_count": 40,
   "id": "82545027",
   "metadata": {},
   "outputs": [
    {
     "name": "stdout",
     "output_type": "stream",
     "text": [
      "[0, 1, 1, 2, 3, 5, 8, 13] [8, 1, 0, 5, 13, 1, 3, 2]\n"
     ]
    }
   ],
   "source": [
    "fibonacci = [8, 1, 0, 5, 13, 1, 3, 2]\n",
    "fibonacci_ordenada = sorted(fibonacci)\n",
    "\n",
    "# fibonacci_ordenada =  fibonacci.copy()\n",
    "# fibonacci_ordenada.sort()\n",
    "\n",
    "print(fibonacci_ordenada, fibonacci) # resultado: [0, 1, 1, 2, 3, 5, 8, 13] [8, 1, 0, 5, 13, 1, 3, 2]"
   ]
  },
  {
   "cell_type": "markdown",
   "id": "ace28532",
   "metadata": {},
   "source": [
    "O _sorted_ também aceita o parâmetro _reverse_ para aplicar ordem decrescente.\n",
    " \n",
    "Falando em ordem decrescente, é possível simplesmente inverter a ordem dos elementos de uma lista utilizando o _reverse_:"
   ]
  },
  {
   "cell_type": "code",
   "execution_count": 41,
   "id": "9a6f724a",
   "metadata": {},
   "outputs": [
    {
     "name": "stdout",
     "output_type": "stream",
     "text": [
      "[3.14, 4, 'dois', 5, 1]\n"
     ]
    }
   ],
   "source": [
    "lista = [1, 5, 'dois', 4, 3.14]\n",
    "lista.reverse()\n",
    "print(lista) # resultado: [3.14, 4, 'dois', 5, 1]"
   ]
  },
  {
   "cell_type": "markdown",
   "id": "07247ae8",
   "metadata": {},
   "source": [
    "## 4. Buscando um elemento\n",
    "Podemos buscar um elemento (descobrir sua posição) utilizando a função _index_. Ela irá informar a **primeira** posição onde um elemento for encontrado:"
   ]
  },
  {
   "cell_type": "code",
   "execution_count": 63,
   "id": "dc526dc8",
   "metadata": {},
   "outputs": [
    {
     "name": "stdout",
     "output_type": "stream",
     "text": [
      "4\n"
     ]
    }
   ],
   "source": [
    "pi = [3, 1, 4, 1, 5, 9, 2, 6, 5]\n",
    "\n",
    "elemento_procurado = 5\n",
    "\n",
    "posicao = pi.index(elemento_procurado)\n",
    "    \n",
    "print(posicao) # resultado: 4"
   ]
  },
  {
   "cell_type": "code",
   "execution_count": 65,
   "id": "085894cc",
   "metadata": {},
   "outputs": [
    {
     "name": "stdout",
     "output_type": "stream",
     "text": [
      "[4, 8]\n"
     ]
    }
   ],
   "source": [
    "pi = [3, 1, 4, 1, 5, 9, 2, 6, 5]\n",
    "\n",
    "elemento_procurado = 5\n",
    "copia_pi = pi.copy()\n",
    "\n",
    "ans = []\n",
    "\n",
    "# elemento 5\n",
    "while (elemento_procurado in copia_pi):\n",
    "    posicao = copia_pi.index(elemento_procurado)\n",
    "    copia_pi[posicao] = 'C' \n",
    "    ans.append(posicao)\n",
    "\n",
    "print(ans)"
   ]
  },
  {
   "cell_type": "markdown",
   "id": "a37ad0d6",
   "metadata": {},
   "source": [
    "> **Atenção:** caso o elemento buscado não exista, a função *index* dará erro. Considere utilizar o *in* para verificar se o elemento existe na lista antes de usar o *index*.\n",
    " \n",
    "## 5. Informações sobre a lista\n",
    "Podemos obter alguns dados sobre a nossa lista: seu tamanho atual (_len_), seu maior valor (_max_) e seu menor valor (_min_)."
   ]
  },
  {
   "cell_type": "code",
   "execution_count": 68,
   "id": "9dd76c0e",
   "metadata": {},
   "outputs": [
    {
     "name": "stdout",
     "output_type": "stream",
     "text": [
      "8 9 1 31\n"
     ]
    }
   ],
   "source": [
    "pi = [3, 1, 4, 1, 5, 9, 2, 6]\n",
    "tamanho = len(pi)\n",
    "maior = max(pi)\n",
    "menor = min(pi)\n",
    "soma = sum(pi)\n",
    "print(tamanho, maior, menor, soma) # resultado: 8 9 1"
   ]
  },
  {
   "cell_type": "code",
   "execution_count": 75,
   "id": "ed832ec9",
   "metadata": {},
   "outputs": [
    {
     "name": "stdout",
     "output_type": "stream",
     "text": [
      "3.14\n"
     ]
    }
   ],
   "source": [
    "lista = [3, 3.14]\n",
    "soma = max(lista)\n",
    "\n",
    "print(soma)"
   ]
  },
  {
   "cell_type": "markdown",
   "id": "42b90cb8",
   "metadata": {},
   "source": [
    "### Exercício 1:\n",
    "\n",
    "Existe uma linguagem de programação com apenas quatro operações e uma variável X:\n",
    "\n",
    "- ```++X``` e ```X++``` incrementam o valor da variável X em 1.\n",
    "- ```--X``` e ```X--``` decrementa o valor da variável X em 1.\n",
    "\n",
    "Inicialmente, o valor de X é 0.\n",
    "\n",
    "Dada uma lista de strings de operações contendo uma lista de operações, retorne o valor final de X após realizar todas as operações.\n",
    "\n",
    " \n",
    "\n",
    "#### Exemplo 1:\n",
    "\n",
    "- **Entrada:** operações = [\"--X\",\"X++\",\"X++\"]\n",
    "- **Saída:** 1\n",
    "\n",
    "_Explicação:_ As operações são executadas da seguinte forma:\n",
    "- Inicialmente, X = 0.\n",
    "- ```--X:``` X é decrementado em 1, X = 0 - 1 = -1.\n",
    "- ```X++:``` X é incrementado em 1, X = -1 + 1 = 0.\n",
    "- ```X++:``` X é incrementado em 1, X = 0 + 1 = 1.\n",
    "\n",
    "#### Exemplo 2:\n",
    "\n",
    "**Entrada:** operações = [\"++X\",\"++X\",\"X++\"]\n",
    "\n",
    "**Saída:** 3\n",
    "\n",
    "_Explicação:_ As operações são executadas da seguinte forma:\n",
    "- Inicialmente, X = 0.\n",
    "- ```++X:``` X é incrementado em 1, X = 0 + 1 = 1.\n",
    "- ```++X:``` X é incrementado em 1, X = 1 + 1 = 2.\n",
    "- ```X++:``` X é incrementado em 1, X = 2 + 1 = 3."
   ]
  },
  {
   "cell_type": "code",
   "execution_count": 3,
   "id": "8a984789",
   "metadata": {},
   "outputs": [
    {
     "name": "stdout",
     "output_type": "stream",
     "text": [
      "A operacao asdas nao eh valida.\n",
      "O valor final da variavel X foi 3.\n"
     ]
    }
   ],
   "source": []
  },
  {
   "cell_type": "markdown",
   "id": "759ee4fc",
   "metadata": {},
   "source": [
    "### Exercício 2:\n",
    "\n",
    "Dada uma lista de inteiros 'nums', retorne o número de pares bons.\n",
    "\n",
    "Um ```par (i, j)``` é considerado bom se ```nums[i] == nums[j]``` e ```i < j```.\n",
    "\n",
    " \n",
    "\n",
    "#### Exemplo 1:\n",
    "\n",
    "- **Entrada:** nums = [1,2,3,1,1,3]\n",
    "- **Saída:** 4\n",
    "\n",
    "_Explicação:_ Existem 4 pares bons (0,3), (0,4), (3,4), (2,5).\n",
    "\n",
    "#### Exemplo 2:\n",
    "\n",
    "- **Entrada:** nums = [1,1,1,1]\n",
    "- **Saída:** 6\n",
    "\n",
    "_Explicação:_ Cada par na matriz é bom."
   ]
  },
  {
   "cell_type": "code",
   "execution_count": 15,
   "id": "8d7bddb1",
   "metadata": {},
   "outputs": [
    {
     "name": "stdout",
     "output_type": "stream",
     "text": [
      "1\n"
     ]
    }
   ],
   "source": []
  }
 ],
 "metadata": {
  "kernelspec": {
   "display_name": "Python 3 (ipykernel)",
   "language": "python",
   "name": "python3"
  },
  "language_info": {
   "codemirror_mode": {
    "name": "ipython",
    "version": 3
   },
   "file_extension": ".py",
   "mimetype": "text/x-python",
   "name": "python",
   "nbconvert_exporter": "python",
   "pygments_lexer": "ipython3",
   "version": "3.10.5"
  }
 },
 "nbformat": 4,
 "nbformat_minor": 5
}
