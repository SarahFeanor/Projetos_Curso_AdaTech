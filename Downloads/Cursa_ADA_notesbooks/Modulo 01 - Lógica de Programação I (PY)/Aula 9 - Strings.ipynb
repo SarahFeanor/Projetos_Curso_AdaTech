{
 "cells": [
  {
   "cell_type": "markdown",
   "id": "04c6fc8e",
   "metadata": {},
   "source": [
    "# Aula 9 - Strings\n",
    " \n",
    "## 1. Strings\n",
    "No primeiro capítulo mencionamos quatro tipos primitivos de dados: inteiro, real, lógico e texto/literal (_string_). Na verdade, o quarto tipo básico seria um _caractere_. Uma _string_ é uma **coleção** de caracteres - como se fosse uma lista, mas aceitando apenas elementos textuais.\n",
    "Vamos verificar algumas propriedades das _strings_!\n",
    " \n",
    "### 1.1. Acessando elementos em uma _string_\n",
    "No capítulo sobre Listas, vimos que podemos acessar elementos individuais de uma lista utilizando um índice entre colchetes. Vamos testar a mesma lógica com _strings_?"
   ]
  },
  {
   "cell_type": "code",
   "execution_count": null,
   "id": "fd427847",
   "metadata": {},
   "outputs": [],
   "source": [
    "frase = \"Ada\"\n",
    "\n",
    "print(frase[0])\n",
    "print(frase[1])\n",
    "print(frase[2])"
   ]
  },
  {
   "cell_type": "code",
   "execution_count": null,
   "id": "933a2e59",
   "metadata": {},
   "outputs": [],
   "source": [
    "lista = ['A', 'B', 'C']\n",
    "\n",
    "lista[1] = 'D'\n",
    "\n",
    "lista\n"
   ]
  },
  {
   "cell_type": "markdown",
   "id": "5fafc4cd",
   "metadata": {},
   "source": [
    "Note que o programa acima imprime \"Ada\", com um caractere por linha. Ou seja, ele considerou frase[0] como \"A\", frase[1] como \"d\", e assim sucessivamente. Uma _string_ é, de fato, uma coleção de caracteres.\n",
    " \n",
    "Porém, ao contrário de uma lista, dizemos que uma _string_ é **imutável**. Isso significa que não podemos alterar um elemento individual da _string_.\n",
    "O programa abaixo produz um erro:"
   ]
  },
  {
   "cell_type": "code",
   "execution_count": null,
   "id": "55b83325",
   "metadata": {},
   "outputs": [],
   "source": [
    "frase = \"ada\"\n",
    "frase[0] = 'A'"
   ]
  },
  {
   "cell_type": "markdown",
   "id": "3bb49d24",
   "metadata": {},
   "source": [
    "Para alterar uma _string_, é necessário **redefini-la**, de modo que a _string_ original será descartada e a nova (alterada) será escrita por cima da original. Ou, alternativamente, podemos gerar uma cópia da _string_ com alterações. Veremos mais detalhes adiante.\n",
    " \n",
    "### 1.2. Operações entre _strings_\n",
    " \n",
    "#### 1.2.1. Operadores aritméticos\n",
    "Alguns operadores aritméticos funcionam com _strings_ também. Naturalmente, eles não servem para fazer contas, mas nos permitem fazer de forma intuitiva algumas operações bastante úteis.\n",
    " \n",
    "O operador **+** serve como um operador de **concatenação** de _strings_: unir duas _strings_. Observe o exemplo abaixo:"
   ]
  },
  {
   "cell_type": "code",
   "execution_count": null,
   "id": "411fb0ba",
   "metadata": {},
   "outputs": [],
   "source": [
    "string1 = 'Olá'\n",
    "string2 = 'Mundo'\n",
    "resultado = string1 + string2\n",
    "print(resultado) # Na tela: 'OláMundo'"
   ]
  },
  {
   "cell_type": "markdown",
   "id": "ba334c15",
   "metadata": {},
   "source": [
    "Outro operador que funciona é o operador **\\***. Este operador não é usado entre duas _strings_, mas entre uma _string_ e um **int**. Ele repetirá a _string_ o número de vezes dado pelo **int**."
   ]
  },
  {
   "cell_type": "code",
   "execution_count": null,
   "id": "73aafa53",
   "metadata": {},
   "outputs": [],
   "source": [
    "string = 'Olá mundo!'\n",
    "multi = string * 2\n",
    "\n",
    "print(multi) # Na tela: 'Olá mundo!Olá mundo!Olá mundo!'"
   ]
  },
  {
   "cell_type": "code",
   "execution_count": null,
   "id": "8d35da1e",
   "metadata": {},
   "outputs": [],
   "source": [
    "if 'Jorge' > 'Jarge':\n",
    "    print('Funcionou!')"
   ]
  },
  {
   "cell_type": "markdown",
   "id": "7da81194",
   "metadata": {},
   "source": [
    "#### 1.2.2. Operadores lógicos\n",
    " \n",
    "Os operadores lógicos (```<```, ```>```, ```<=```, ```=>```, ```!=``` e ```==```) também funcionam com strings. Esses operadores são _case sensitive_, ou seja, diferenciam maiúsculas de minúsculas.\n",
    " \n",
    "De maneira muito simplificada e desconsiderando diferenças entre maiúsculas e minúsculas, podemos dizer que eles consideram ordem alfabética: 'banana' é maior do que 'abacaxi'.\n",
    " \n",
    "A explicação mais completa é a seguinte: internamente, cada caractere é armazenado como um número. Quando utilizamos qualquer tipo de aplicação que irá exibir um texto (um editor de textos, navegador de internet, ou mesmo os nossos programinhas em Python rodando no terminal), a aplicação usa esses números como índices em uma **tabela de codificação de caracteres**.\n",
    " \n",
    "Temos diversos esquemas diferentes de codificação de caracteres em uso pelo mundo, e quando você está usando um programa ou navegando por um site e você nota símbolos estranhos no texto (frequentemente onde teríamos caracteres especiais, como letras com acento), é provável que o autor do texto tenha utilizado uma tabela e o seu computador esteja usando outra.\n",
    " \n",
    "Vários programas permitem a conversão entre essas tabelas, e você já deve ter visto essa \"sopa de letrinhas\" em alguma aba ou janela de configuração em algum editor de textos: **utf-8**, **utf-16**, **windows-1252** (ou **cp-2152**), e até mesmo alguns padrões ISO.\n",
    " \n",
    "Para ilustrar a ideia, vamos colocar aqui uma das tabelas mais simples, a tabela ASCII:\n",
    " \n",
    "![](https://upload.wikimedia.org/wikipedia/commons/thumb/1/1b/ASCII-Table-wide.svg/1200px-ASCII-Table-wide.svg.png)\n",
    " \n",
    "Fonte: https://upload.wikimedia.org/wikipedia/commons/thumb/1/1b/ASCII-Table-wide.svg/1200px-ASCII-Table-wide.svg.png\n",
    " \n",
    "Note que o caractere 'A' está no índice 65, o 'B' está no índice 66, e assim sucessivamente. Por isso, 'Abacate' < 'Banana' é verdadeiro: a primeira string começa com uma letra no índice 65 da tabela, a segunda com uma letra no índice 66.\n",
    " \n",
    "No caso de 'Abacate' e 'Abacaxi', temos um \"empate\" das 5 primeiras letras. Então é a sexta letra que vai mandar: 'x' é maior do que 't', por estar em uma posição superior na tabela.\n",
    " \n",
    "Note que a ordem não é exatamente alfabética: entre os caracteres maiúsculos, seguimos ordem alfabética. Entre os minúsculos, idem. E entre os dígitos numéricos, também temos ordem crescente correspondente aos valores. Mas todos os minúsculos são \"maiores\" do que qualquer maiúsculo, que por sua vez são \"maiores\" do que qualquer dígito numérico. Símbolos, operadores e sinais de pontuação estão em posições diversas.\n",
    "\n",
    "O Python disponibiliza 2 funções que são bastante uteis quando estamos trabalhando com o sistema ASCII. A primeira é a função ord() , que recebe uma letra como parâmetro e retorna o código ASCII da mesma. A segunda função, é a chr() , onde passamos o código ASCII e nos é retornado a respectiva letra.\n",
    "\n",
    "A seguir, temos 2 exemplos utilizando as funções builtin do Python ord() e chr().\n",
    " \n"
   ]
  },
  {
   "cell_type": "code",
   "execution_count": null,
   "id": "cc81878c",
   "metadata": {},
   "outputs": [],
   "source": [
    "print(ord('a'))\n",
    "\n",
    "print(chr(97))"
   ]
  },
  {
   "cell_type": "markdown",
   "id": "2ab4caf0",
   "metadata": {},
   "source": [
    "#### 1.2.3. Copiando uma _string_ através de concatenação\n",
    "Caso você já tenha resolvido problemas de somatório (a essa altura, espera-se que tenha resolvido vários!), você já deve estar acostumado a utilizar um _loop_ onde novos valores são somados em uma mesma variável. Somar os números de uma lista, por exemplo, tem mais ou menos essa carinha:"
   ]
  },
  {
   "cell_type": "code",
   "execution_count": null,
   "id": "9618e901",
   "metadata": {},
   "outputs": [],
   "source": [
    "lista = [1, 2, 3]\n",
    "soma = 0\n",
    "for numero in lista:\n",
    "    soma = soma + numero\n",
    "\n",
    "soma"
   ]
  },
  {
   "cell_type": "code",
   "execution_count": null,
   "id": "7e5cd735",
   "metadata": {},
   "outputs": [],
   "source": [
    "string_inicial = 'Olá Mundo'\n",
    "string_final = '' # cria uma string vazia\n",
    "\n",
    "for letra in string_inicial:\n",
    "    if letra == 'O':\n",
    "        string_final = string_final + 'o'\n",
    "    else:\n",
    "        string_final = string_final + letra\n",
    "    \n",
    "print(string_final)"
   ]
  },
  {
   "cell_type": "markdown",
   "id": "4c3d3331",
   "metadata": {},
   "source": [
    "Isso é útil porque antes de \"somar\" cada letra à _string_ final podemos fazer alterações (como transformar em maiúscula ou minúscula, acrescentar caracteres entre 2 letras etc.). É um jeito de fazer tratamento de _strings_. Veremos mais sobre tratamento de _strings_ no capítulo de funções de _strings_.\n",
    " \n",
    "## 1.3. Transformando uma _string_ em lista\n",
    "_Strings_ são imutáveis, e isso pode nos dar um pouco de trabalho quando queremos fazer pequenas alterações, como forçar um caractere a ser maiúsculo ou acrescentar um caractere à _string_. Uma das formas de fazer envolve a \"soma cumulativa\" apresentada acima. Outra forma envolve transformar a nossa _string_ em lista, que é uma estrutura mutável. Execute o programa abaixo:"
   ]
  },
  {
   "cell_type": "code",
   "execution_count": null,
   "id": "cc47161a",
   "metadata": {},
   "outputs": [],
   "source": [
    "string = \"let's Code from Ada\"\n",
    "lista = list(string)\n",
    "\n",
    "lista[0] = 'L'\n",
    "lista.append('!')\n",
    "\n",
    "print(lista)"
   ]
  },
  {
   "cell_type": "markdown",
   "id": "fe621e8e",
   "metadata": {},
   "source": [
    "Como a lista é mutável, nela conseguimos alterar uma letra e adicionar um símbolo ao final sem dificuldades! Porém, infelizmente nosso resultado é uma lista, o que não ficou muito legível para o usuário. Podemos resolver isso utilizando a função _join_. Veremos em breve como ele realmente funciona, mas por hora podemos utilizá-lo da seguinte maneira para transformar lista em _string_:"
   ]
  },
  {
   "cell_type": "code",
   "execution_count": null,
   "id": "2d3e07e4",
   "metadata": {},
   "outputs": [],
   "source": [
    "string_original = \"let's Code from Ada\"\n",
    "\n",
    "lista = list(string_original)\n",
    "lista[0] = 'L'\n",
    "lista.append('!')\n",
    "\n",
    "string_final = ''.join(lista) # antes do . temos uma string vazia\n",
    "\n",
    "print(string_final)"
   ]
  },
  {
   "cell_type": "markdown",
   "id": "f74b3ba0",
   "metadata": {},
   "source": [
    "Para as modificações mais comuns, temos algumas funções prontas que poderão ser bastante úteis!\n",
    " \n",
    "## 2. Símbolos especiais\n",
    "Além de letras, números, sinais de pontuação, símbolos matemáticos etc., uma _string_ pode conter alguns operadores especiais de controle. Esses operadores podem indicar, por exemplo, uma quebra de linha ou uma tabulação. Vejamos os mais comuns:\n",
    " \n",
    "### 2.1. Quebra de linha\n",
    "Uma quebra de linha indica que o programa exibindo a _string_ deverá quebrar a linha atual e exibir o restante da _string_ na linha seguinte, e é representada na maioria dos sistemas e na _web_ pelo símbolo ```\\n```. Execute o programa abaixo e veja o resultado na tela:"
   ]
  },
  {
   "cell_type": "code",
   "execution_count": null,
   "id": "34907026",
   "metadata": {},
   "outputs": [],
   "source": [
    "print('Olá\\nMundo')"
   ]
  },
  {
   "cell_type": "markdown",
   "id": "3595afa3",
   "metadata": {},
   "source": [
    "### 2.2. Tabulação\n",
    "A tabulação indica um recuo equivalente ao da tecla _Tab_ - um recuo de início de parágrafo, ou o recuo que usamos para aninhar linhas de código em Python. Ela é representada pelo símbolo ```\\t```. Verifique o resultado do exemplo abaixo:"
   ]
  },
  {
   "cell_type": "code",
   "execution_count": null,
   "id": "3a8a4b65",
   "metadata": {},
   "outputs": [],
   "source": [
    "aprovados = ['Mario', 'Peach', 'Luigi12112']\n",
    "reprovados = ['Wario', 'Bowser']\n",
    " \n",
    "print('Candidatos aprovados:')\n",
    "for nome in aprovados:\n",
    "    print(f'{nome:^15}:')\n",
    " \n",
    "print('Candidatos reprovados:')\n",
    "for nome in reprovados:\n",
    "    print('\\t', nome)"
   ]
  },
  {
   "cell_type": "markdown",
   "id": "d5c35aac",
   "metadata": {},
   "source": [
    "### 2.3. Barra\n",
    "E se nós quiséssemos representar uma _string_ que explica o significado de ```\\n```, por exemplo, como proceder? Afinal, ao ver o símbolo ```\\n``` o programa entenderá que é uma quebra de linha e fará isso ao invés de escrever ```\\n``` na tela.\n",
    " \n",
    "Podemos utilizar 2 barras: ```\\\\```. Ao fazermos isso, o programa entende que é para representar a barra na tela ao invés de interpretá-la como início de outro símbolo especial."
   ]
  },
  {
   "cell_type": "code",
   "execution_count": null,
   "id": "017dc0fd",
   "metadata": {},
   "outputs": [],
   "source": [
    "print('utilizamos o \\\\n para quebrar linhas.')"
   ]
  },
  {
   "cell_type": "code",
   "execution_count": null,
   "id": "ce6438a1",
   "metadata": {},
   "outputs": [],
   "source": [
    "print(r'utilizamos o \\n para quebrar linhas.')"
   ]
  },
  {
   "cell_type": "markdown",
   "id": "0b21173a",
   "metadata": {},
   "source": [
    "### 2.4 Aspas\n",
    "Um problema que você deve ter se deparado é que parece impossível representar o símbolo ```'``` em uma _string_ que foi aberta por esse símbolo, já que a segunda ocorrência dele fechará a string. Idem para o símbolo ```\"```. Podemos resolver isso da mesma forma que fizemos com a barra: ```\\'``` irá sempre representar o símbolo ```'``` e ```\\\"``` irá sempre representar o símbolo ```\"``` ao invés de fechar uma _string_."
   ]
  },
  {
   "cell_type": "code",
   "execution_count": null,
   "id": "2e20e4d2",
   "metadata": {},
   "outputs": [],
   "source": [
    "print('Imprimindo uma aspa simples(\\') dentro de uma string sem problemas')\n",
    "print(\"Imprimindo aspas duplas(\\\") dentro de uma string sem problemas\")"
   ]
  },
  {
   "cell_type": "markdown",
   "id": "87832088",
   "metadata": {},
   "source": [
    "### 2.5 Funções úteis\n",
    "\n",
    "**1. split()**\n",
    "\n",
    "A função split() divide um texto todas as vezes que a String passada como argumento for localizada. No código a seguir, definimos uma frase e sem seguida, invocamos a função split(), definindo como argumento, uma String que contém um único espaço em branco."
   ]
  },
  {
   "cell_type": "code",
   "execution_count": null,
   "id": "01108707",
   "metadata": {},
   "outputs": [],
   "source": [
    "s = \"Toda string em Python é imutável\"\n",
    "\n",
    "lista = s.split(\" \")\n",
    "\n",
    "lista"
   ]
  },
  {
   "cell_type": "markdown",
   "id": "3f2835d2",
   "metadata": {},
   "source": [
    "**2. replace()**\n",
    "\n",
    "A função replace() substitui uma parte do texto por uma outra String. A palavra replace(), do Inglês, siginifca substituir e é isso que a função replace() da classe String do Python faz.\n",
    "\n",
    "No código a seguir, iremos definir uma String e em seguida, substituiremos uma parte do texto por outra."
   ]
  },
  {
   "cell_type": "code",
   "execution_count": null,
   "id": "18d8c8ab",
   "metadata": {},
   "outputs": [],
   "source": [
    "s = \"A função replace aa substitui parte de um texto por outro texto\"\n",
    "\n",
    "str_saida = s.replace(\"e\", \"123\")\n",
    "\n",
    "str_saida"
   ]
  },
  {
   "cell_type": "markdown",
   "id": "5c7bae83",
   "metadata": {},
   "source": [
    "**3. Outras funções:**\n",
    "\n",
    "Agora vamos contar o numero de vezes que a palavra especificada aparece na string, nesse caso estou apenas procurando por um caracter 'r'."
   ]
  },
  {
   "cell_type": "code",
   "execution_count": null,
   "id": "c0baee90",
   "metadata": {},
   "outputs": [],
   "source": [
    "test = 'Este é um EXEMPLO de string.' \n",
    "\n",
    "num_coincidencias = test.count('e')\n",
    "\n",
    "num_coincidencias"
   ]
  },
  {
   "cell_type": "markdown",
   "id": "14a3d666",
   "metadata": {},
   "source": [
    "Podemos também achar em que posição está certa levra ou palavra."
   ]
  },
  {
   "cell_type": "code",
   "execution_count": null,
   "id": "81655662",
   "metadata": {},
   "outputs": [],
   "source": [
    "posicao = test.find('e')\n",
    "\n",
    "print(posicao)\n",
    "\n",
    "if (posicao >= 0):\n",
    "    print(test[posicao])\n",
    "    \n",
    "else:\n",
    "    print('String nao encontrado')"
   ]
  },
  {
   "cell_type": "markdown",
   "id": "3be09964",
   "metadata": {},
   "source": [
    "Separar uma string é uma coisa que eu frequentemente faço.O método split é usado para isso."
   ]
  },
  {
   "cell_type": "code",
   "execution_count": null,
   "id": "8cf97637",
   "metadata": {},
   "outputs": [],
   "source": [
    "test.split()"
   ]
  },
  {
   "cell_type": "markdown",
   "id": "c7acd611",
   "metadata": {},
   "source": [
    "Podemos escolher o ponto a ser separado."
   ]
  },
  {
   "cell_type": "code",
   "execution_count": null,
   "id": "8d8cab1a",
   "metadata": {},
   "outputs": [],
   "source": [
    "test.split('um')"
   ]
  },
  {
   "cell_type": "markdown",
   "id": "77458d15",
   "metadata": {},
   "source": [
    "Para juntar nossa string separada, podemos usar o método join."
   ]
  },
  {
   "cell_type": "code",
   "execution_count": null,
   "id": "c6b35ed6",
   "metadata": {},
   "outputs": [],
   "source": [
    "' intermediario '.join(test.split('um'))"
   ]
  },
  {
   "cell_type": "markdown",
   "id": "4cd207a3",
   "metadata": {},
   "source": [
    "Podemos brincar com a caixa das letras (maiúsculo ou minúsculo). Vamos deixar tudo maiúsculo.\n"
   ]
  },
  {
   "cell_type": "code",
   "execution_count": null,
   "id": "70a3215b",
   "metadata": {},
   "outputs": [],
   "source": [
    "test.upper()"
   ]
  },
  {
   "cell_type": "markdown",
   "id": "81ef2255",
   "metadata": {},
   "source": [
    "Agora vamos deixar tudo minúsculo."
   ]
  },
  {
   "cell_type": "code",
   "execution_count": null,
   "id": "b83e19b3",
   "metadata": {},
   "outputs": [],
   "source": [
    "test.lower()"
   ]
  },
  {
   "cell_type": "markdown",
   "id": "3d8b0fde",
   "metadata": {},
   "source": [
    "Vamos deixar apenas a primeira letra maiúscula de uma string minúscula."
   ]
  },
  {
   "cell_type": "code",
   "execution_count": null,
   "id": "4eabd83b",
   "metadata": {},
   "outputs": [],
   "source": [
    "test.capitalize()"
   ]
  },
  {
   "cell_type": "markdown",
   "id": "2761ab4c",
   "metadata": {},
   "source": [
    "Podemos usar o método title, que deixa as letras de cada palavra da string maiúscula."
   ]
  },
  {
   "cell_type": "code",
   "execution_count": null,
   "id": "fae2c329",
   "metadata": {},
   "outputs": [],
   "source": [
    " test.title()"
   ]
  },
  {
   "cell_type": "markdown",
   "id": "8aa29945",
   "metadata": {},
   "source": [
    "Uma troca também é possível.O que for maiúsculo vira minúsculo e vice-versa."
   ]
  },
  {
   "cell_type": "code",
   "execution_count": null,
   "id": "edac90c2",
   "metadata": {},
   "outputs": [],
   "source": [
    "nova_str = test.swapcase()\n",
    "\n",
    "nova_str"
   ]
  },
  {
   "cell_type": "markdown",
   "id": "2eb25499",
   "metadata": {},
   "source": [
    "Podemos rodar alguns testes numa string usando poucos métodos. Vamos ver se a string dada é totalmente maiúscula."
   ]
  },
  {
   "cell_type": "code",
   "execution_count": null,
   "id": "13fcf0f8",
   "metadata": {},
   "outputs": [],
   "source": [
    "print('UPPER'.isupper())\n",
    "\n",
    "print('UpPEr'.isupper())"
   ]
  },
  {
   "cell_type": "markdown",
   "id": "a044c55b",
   "metadata": {},
   "source": [
    "Do mesmo modo, podemos checar se a string dada é minúscula."
   ]
  },
  {
   "cell_type": "code",
   "execution_count": null,
   "id": "267b48f2",
   "metadata": {},
   "outputs": [],
   "source": [
    "print('lower'.islower())\n",
    "\n",
    "print('Lower'.islower())"
   ]
  },
  {
   "cell_type": "markdown",
   "id": "3aeb8a61",
   "metadata": {},
   "source": [
    "Checando se ela é um title, no caso, todas as palavras com a primeira letra maiúscula."
   ]
  },
  {
   "cell_type": "code",
   "execution_count": null,
   "id": "c6205ed9",
   "metadata": {},
   "outputs": [],
   "source": [
    "print('This Is A Title'.istitle())\n",
    "\n",
    "print('This is A title'.istitle())"
   ]
  },
  {
   "cell_type": "markdown",
   "id": "395dcf94",
   "metadata": {},
   "source": [
    "Podemos checar se a string é alfa-numérica, ou seja, contém apenas letras e números, sem caracteres especiais."
   ]
  },
  {
   "cell_type": "code",
   "execution_count": null,
   "id": "54cb89aa",
   "metadata": {},
   "outputs": [],
   "source": [
    "print('aa44'.isalnum())\n",
    "\n",
    "print('a$44'.isalnum())"
   ]
  },
  {
   "cell_type": "markdown",
   "id": "ab28ff27",
   "metadata": {},
   "source": [
    "É possível checar se uma string contém apenas letras."
   ]
  },
  {
   "cell_type": "code",
   "execution_count": null,
   "id": "61c55d64",
   "metadata": {},
   "outputs": [],
   "source": [
    "print('letters'.isalpha())\n",
    "\n",
    "print('letters4'.isalpha())"
   ]
  },
  {
   "cell_type": "markdown",
   "id": "6b458b37",
   "metadata": {},
   "source": [
    "Agora checando se ela contém apenas números."
   ]
  },
  {
   "cell_type": "code",
   "execution_count": null,
   "id": "defe49d6",
   "metadata": {},
   "outputs": [],
   "source": [
    "print('306090'.isdigit())\n",
    "\n",
    "print('30-60-90 Triangle'.isdigit())\n"
   ]
  },
  {
   "cell_type": "markdown",
   "id": "ffeb72d9",
   "metadata": {},
   "source": [
    "Podemos checar se uma string contém apenas espacos."
   ]
  },
  {
   "cell_type": "code",
   "execution_count": null,
   "id": "e4e53e84",
   "metadata": {},
   "outputs": [],
   "source": [
    "print('   '.isspace())\n",
    "\n",
    "print(''.isspace())"
   ]
  },
  {
   "cell_type": "markdown",
   "id": "8e508db6",
   "metadata": {},
   "source": [
    "Falando em espços, podemos adicionar espacos em ambos os lados de uma string.Vamos adicionar espacos no lado direito de uma string."
   ]
  },
  {
   "cell_type": "code",
   "execution_count": null,
   "id": "89290747",
   "metadata": {},
   "outputs": [],
   "source": [
    "str_a = 'A string.'.ljust(15)\n",
    "\n",
    "texto = 'A string.'\n",
    "\n",
    "str_b = f'{texto:<15}'\n",
    "\n",
    "print(str_a)\n",
    "print(str_b)"
   ]
  },
  {
   "cell_type": "markdown",
   "id": "bab5c39f",
   "metadata": {},
   "source": [
    "Para adicionar espacos do lado esquerdo, o método rjust é usado."
   ]
  },
  {
   "cell_type": "code",
   "execution_count": null,
   "id": "64db0316",
   "metadata": {},
   "outputs": [],
   "source": [
    "str_a = 'A string.'.rjust(15)\n",
    "\n",
    "texto = 'A string.'\n",
    "\n",
    "str_b = f'{texto:>15}'\n",
    "\n",
    "print(str_a)\n",
    "print(str_b)"
   ]
  },
  {
   "cell_type": "markdown",
   "id": "08aba33f",
   "metadata": {},
   "source": [
    "O método center é usado para centralizar uma string dentro de espacos."
   ]
  },
  {
   "cell_type": "code",
   "execution_count": null,
   "id": "0ec06061",
   "metadata": {},
   "outputs": [],
   "source": [
    "'A string.'.center(15)"
   ]
  },
  {
   "cell_type": "markdown",
   "id": "0ba5c076",
   "metadata": {},
   "source": [
    "Podemos separar os espacos de ambos os lados de uma string."
   ]
  },
  {
   "cell_type": "code",
   "execution_count": null,
   "id": "711e3be1",
   "metadata": {},
   "outputs": [],
   "source": [
    "'  String.   '.strip()"
   ]
  },
  {
   "cell_type": "code",
   "execution_count": null,
   "id": "52e762a0",
   "metadata": {},
   "outputs": [],
   "source": [
    "'  String.   '.lstrip()"
   ]
  },
  {
   "cell_type": "code",
   "execution_count": null,
   "id": "e9162302",
   "metadata": {},
   "outputs": [],
   "source": [
    "'  String.   '.rstrip()"
   ]
  },
  {
   "cell_type": "code",
   "execution_count": null,
   "id": "f367c183",
   "metadata": {},
   "outputs": [],
   "source": [
    "if 'Jorge'.strip() == 'Jorge     '.strip():\n",
    "    print('Sao iguais')\n",
    "else:\n",
    "    print('Sao diferentes')"
   ]
  },
  {
   "cell_type": "markdown",
   "id": "8011759d",
   "metadata": {},
   "source": [
    "### Exercício 1:\n",
    "\n",
    "Dado um endereço IP válido (IPv4), retorne uma versão 'desativada' desse endereço IP.\n",
    "\n",
    "Um endereço IP desativado substitui cada ponto \".\" com \"[.]\".\n",
    "\n",
    "Exemplo 1:\n",
    "\n",
    "- **Entrada:** endereço = \"1.1.1.1\"\n",
    "- **Saída:** \"1[.]1[.]1[.]1\"\n",
    "\n",
    "Exemplo 2:\n",
    "\n",
    "- **Entrada:** endereço = \"255.100.50.0\"\n",
    "- **Saída:** \"255[.]100[.]50[.]0\""
   ]
  },
  {
   "cell_type": "code",
   "execution_count": null,
   "id": "26f63711",
   "metadata": {},
   "outputs": [],
   "source": []
  },
  {
   "cell_type": "markdown",
   "id": "a29a1057",
   "metadata": {},
   "source": [
    "### Exercício 2:\n",
    "\n",
    "Um pangrama é uma frase em que cada letra do alfabeto aparece pelo menos uma vez.\n",
    "\n",
    "Dada uma frase de string contendo apenas letras minúsculas, retorne true se a frase for um pangrama ou false caso contrário.\n",
    "\n",
    "Exemplo 1:\n",
    "\n",
    "- **Entrada:** frase = \"thequickbrownfoxjumpsoverthelazydog\"\n",
    "- **Saída:** verdadeiro\n",
    "\n",
    "Explicação: a frase contém pelo menos uma de cada letra do alfabeto.\n",
    "\n",
    "Exemplo 2:\n",
    "\n",
    "- **Entrada:** frase = \"letscode\"\n",
    "- **Saída:** falso"
   ]
  },
  {
   "cell_type": "code",
   "execution_count": null,
   "id": "dc5b91b5",
   "metadata": {},
   "outputs": [],
   "source": []
  }
 ],
 "metadata": {
  "kernelspec": {
   "display_name": "Python 3 (ipykernel)",
   "language": "python",
   "name": "python3"
  },
  "language_info": {
   "codemirror_mode": {
    "name": "ipython",
    "version": 3
   },
   "file_extension": ".py",
   "mimetype": "text/x-python",
   "name": "python",
   "nbconvert_exporter": "python",
   "pygments_lexer": "ipython3",
   "version": "3.10.5"
  }
 },
 "nbformat": 4,
 "nbformat_minor": 5
}
