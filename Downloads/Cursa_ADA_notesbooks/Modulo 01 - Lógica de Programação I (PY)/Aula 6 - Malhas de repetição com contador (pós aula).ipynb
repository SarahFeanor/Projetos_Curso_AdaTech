{
 "cells": [
  {
   "cell_type": "markdown",
   "id": "4d5b2d98",
   "metadata": {},
   "source": [
    "# Aula 6 - Malhas de repetição com contador\n",
    "No capítulo de malhas de repetição vimos casos em que precisamos **contar** quantas vezes o _loop_ se repete, e parar quando a contagem atinge um certo valor. Em outras ocasiões, apenas precisamos de algum tipo de sequência numérica. Nestes casos, era normal utilizar uma variável de contador, incrementá-la em cada passo e utilizar seu valor como condição de parada. O exemplo abaixo imprime todos os números pares entre 0 e 100:"
   ]
  },
  {
   "cell_type": "code",
   "execution_count": null,
   "id": "9d7fd0f3",
   "metadata": {},
   "outputs": [],
   "source": [
    "contador = 0\n",
    "while contador < 100:\n",
    "    print(contador)\n",
    "    contador = contador + 2"
   ]
  },
  {
   "cell_type": "markdown",
   "id": "425285de",
   "metadata": {},
   "source": [
    "Existe um meio de automatizar todas as operações envolvidas: atribuir um valor inicial, atribuir um valor final e realizar o incremento.\n",
    " \n",
    "## 1.1 _Loops_ do tipo \"para\"\n",
    "Dizemos que o exemplo acima é um _loop_ do tipo \"para\": para contador de 0 até 100 com passo 2 faça: imprima contador.\n",
    "Em Python, podemos criar esse tipo de _loop_ utilizando os comandos _for_ e _range_. O exemplo abaixo imprime os números de 0 até 9 na tela:"
   ]
  },
  {
   "cell_type": "code",
   "execution_count": null,
   "id": "0514e90c",
   "metadata": {},
   "outputs": [],
   "source": [
    "range(n) # So um parametro -> [0, 1, 2 -- , (n-1)]\n",
    "range(n, m) # Dois parametros -> [n, (n+1), (n+2), ..., (m - 1)]\n",
    "range(n, m, step) # Tres parametros -> [n, (n+step), (n+step*2), (n+step*3)]"
   ]
  },
  {
   "cell_type": "code",
   "execution_count": 7,
   "id": "cd8973d8",
   "metadata": {},
   "outputs": [
    {
     "name": "stdout",
     "output_type": "stream",
     "text": [
      "+++++++++++\n",
      "+++++++++++\n",
      "+++++++++++\n",
      "+++++++++++\n",
      "+++++++++++\n",
      "+++++++++++\n",
      "+++++++++++\n",
      "+++++++++++\n",
      "7\n"
     ]
    }
   ],
   "source": [
    "for contador2 in range(8):\n",
    "    print(\"+++++++++++\")\n",
    "    \n",
    "print(contador2)"
   ]
  },
  {
   "cell_type": "markdown",
   "id": "c239263b",
   "metadata": {},
   "source": [
    "O código acima é equivalente ao seguinte código utilizando ```while```:"
   ]
  },
  {
   "cell_type": "code",
   "execution_count": 4,
   "id": "de1aa5c7",
   "metadata": {},
   "outputs": [
    {
     "name": "stdout",
     "output_type": "stream",
     "text": [
      "1\n",
      "5\n"
     ]
    }
   ],
   "source": [
    "contador = 1\n",
    "while contador < 7:\n",
    "    print(contador)\n",
    "    contador += 4"
   ]
  },
  {
   "cell_type": "markdown",
   "id": "86bd074f",
   "metadata": {},
   "source": [
    "A palavra \"contador\" é apenas uma variável. Ela não precisa ser criada previamente: qualquer nome utilizado nesta construção será automaticamente inicializado pelo _for_.\n",
    " \n",
    "O programa acima atribui o valor inicial 0 à variável. Em seguida, ele executa tudo que vier dentro do _loop_, e ao chegar ao final, ele retorna ao início, soma 1 na variável e testa se o seu valor atingiu o número entre parênteses. Caso não tenha atingido, ele repete a execução. Dizemos que aquele número é o valor final *exclusivo* (pois o _loop_ exclui esse valor).\n",
    " \n",
    "De forma geral, tudo que vier dentro de um ```for contador in range(x)``` irá executar \"x\" vezes. É o jeito fácil de dizer \"repita essas linhas x vezes\" em Python.\n",
    " \n",
    "## 1.2 Parâmetros do _range_\n",
    "Foi dito que _loops_ do tipo \"para\" seguem a forma \"para contador de X até Y passo Z faça:\". No exemplo acima, os valores iniciais (0) e passo (1) foram atribuídos de forma automática. Caso eles sejam omitidos, 0 e 1 são os valores padrão, respectivamente. Porém, podemos determiná-los, se necessário. O exemplo abaixo inicia a impressão dos números em 1 ao invés de 0:"
   ]
  },
  {
   "cell_type": "code",
   "execution_count": null,
   "id": "060e0208",
   "metadata": {},
   "outputs": [],
   "source": [
    "for contador in range(1, 10):\n",
    "    print(contador)"
   ]
  },
  {
   "cell_type": "markdown",
   "id": "0b1cbb22",
   "metadata": {},
   "source": [
    "Dizemos que esse _loop_ possui valor inicial 1, valor final (exclusivo) 10 e passo 1.\n",
    " \n",
    "O código acima é equivalente ao seguinte código utilizando ```while```:"
   ]
  },
  {
   "cell_type": "code",
   "execution_count": null,
   "id": "b034b4fd",
   "metadata": {},
   "outputs": [],
   "source": [
    "contador = 1\n",
    "while contador < 10:\n",
    "    print(contador)\n",
    "    contador += 1"
   ]
  },
  {
   "cell_type": "markdown",
   "id": "48c6c20f",
   "metadata": {},
   "source": [
    "Assim como manipulamos o valor inicial e o final, podemos manipular também o passo. Veja o exemplo abaixo:"
   ]
  },
  {
   "cell_type": "code",
   "execution_count": null,
   "id": "e303b5dd",
   "metadata": {},
   "outputs": [],
   "source": [
    "for contador in range(0, 100, 2):\n",
    "    print(contador)"
   ]
  },
  {
   "cell_type": "code",
   "execution_count": 15,
   "id": "9af61f44",
   "metadata": {},
   "outputs": [
    {
     "name": "stdout",
     "output_type": "stream",
     "text": [
      "entrei!\n",
      "entrei!\n",
      "entrei!\n",
      "entrei!\n",
      "entrei!\n",
      "entrei!\n",
      "entrei!\n",
      "entrei!\n",
      "entrei!\n",
      "entrei!\n",
      "Sai do for :)\n"
     ]
    }
   ],
   "source": [
    "# reversa\n",
    "for contador in range(10, 0, -1):\n",
    "    print('entrei!')\n",
    "    continue\n",
    "    print(contador)\n",
    "    \n",
    "print('Sai do for :)')"
   ]
  },
  {
   "cell_type": "code",
   "execution_count": 10,
   "id": "8512c87e",
   "metadata": {},
   "outputs": [
    {
     "name": "stdout",
     "output_type": "stream",
     "text": [
      "10\n",
      "9\n",
      "8\n",
      "7\n",
      "6\n",
      "5\n",
      "4\n",
      "3\n",
      "2\n",
      "1\n"
     ]
    }
   ],
   "source": [
    "contador = 10\n",
    "while contador > 0:\n",
    "    print(contador)\n",
    "    continue\n",
    "    contador -= 1\n",
    "\n",
    "# nova linha\n"
   ]
  },
  {
   "cell_type": "markdown",
   "id": "9a370edf",
   "metadata": {},
   "source": [
    "O código acima é equivalente ao seguinte código utilizando ```while```:"
   ]
  },
  {
   "cell_type": "code",
   "execution_count": null,
   "id": "88b0e238",
   "metadata": {},
   "outputs": [],
   "source": [
    "contador = 0\n",
    "while contador < 100:\n",
    "    print(contador)\n",
    "    contador += 2"
   ]
  },
  {
   "cell_type": "markdown",
   "id": "3372a1fa",
   "metadata": {},
   "source": [
    "Note que o resultado dele na tela é exatamente o mesmo do exemplo com _while_ do início deste capítulo! Valor inicial 0, valor final (exclusivo) 100 e passo 2. Porém, não precisamos nos preocupar em criar o contador, atribuir valor inicial, incrementar e criar uma condição de parada. Apenas colocamos os números dentro do _range_ e ele fez a mágica por nós.\n",
    " \n",
    "Antes de finalizar, vamos reforçar: o comportamento de cada parâmetro passado para o *range* depende de quantos parâmetros foram passados e da ordem que eles foram passados:\n",
    "* 1 parâmetro = valor final exclusivo\n",
    "* 2 parâmetros = valor inicial, valor final exclusivo\n",
    "* 3 parâmetros = valor inicial, valor final exclusivo, passo\n",
    " \n",
    "Quantos exercícios de _while_ você fez que podem ser resolvidos de maneira mais fácil com o _for_?\n",
    " \n",
    "> **Dica**: é possível utilizar o _for_ para gerar sequências numéricas decrescentes também. Basta adotar valor final menor do que o inicial e incremento negativo.\n",
    "> ```python\n",
    "> for contador in range(20, 0, -1):\n",
    ">   print(contador)\n",
    "> ```\n",
    "> Qual valor será excluído da sequência: o 20 ou o 0? Tente deduzir e execute o programa para ver se acertou!\n",
    " \n",
    "## 1.3. Comandos de desvio de fluxo\n",
    "Os comandos de desvio de fluxo que estudamos junto do *while* (*break*, *continue* e *else*) também funcionam da mesma maneira com o *for*. Algumas observações sobre eles:\n",
    " \n",
    "* **break:** irá encerrar o loop antes de atingir o fim da sequência\n",
    "* **else:** será executado caso um break seja executado e ignorado caso o loop chegue ao final da sequência\n",
    "* **continue:** encerra o passo atual e passa para o próximo **avançando na sequência** automaticamente\n"
   ]
  },
  {
   "cell_type": "markdown",
   "id": "4a41c4fd",
   "metadata": {},
   "source": [
    "### Exercício 1: (pensar se é melhor usar for ou while)\n",
    "\n",
    "Dado um número inteiro positivo, retorne o número de inteiros positivos menor ou igual a num cujas somas de dígitos são pares.\n",
    "\n",
    "A soma dos dígitos de um inteiro positivo é a soma de todos os seus dígitos.\n",
    "\n",
    "Exemplo 1:\n",
    "\n",
    "**Entrada:** num = 4\n",
    "\n",
    "**Saída:** 2\n",
    "\n",
    "**Explicação:**\n",
    "Os únicos inteiros menores ou iguais a 4 cujas somas de dígitos são pares são 2 e 4.\n",
    "\n",
    "Exemplo 2:\n",
    "\n",
    "**Entrada:** num = 30\n",
    "\n",
    "**Saída:** 14\n",
    "\n",
    "**Explicação:**\n",
    "Os 14 inteiros menores ou iguais a 30 cujas somas de dígitos são pares são\n",
    "2, 4, 6, 8, 11, 13, 15, 17, 19, 20, 22, 24, 26 e 28."
   ]
  },
  {
   "cell_type": "code",
   "execution_count": 60,
   "id": "805b6075",
   "metadata": {},
   "outputs": [
    {
     "data": {
      "text/plain": [
       "30"
      ]
     },
     "execution_count": 60,
     "metadata": {},
     "output_type": "execute_result"
    }
   ],
   "source": [
    "numero = 456456\n",
    "soma_digitos = 0\n",
    "\n",
    "while numero > 0:\n",
    "    soma_digitos = soma_digitos + numero % 10\n",
    "    numero = numero // 10\n",
    "\n",
    "soma_digitos"
   ]
  },
  {
   "cell_type": "code",
   "execution_count": 59,
   "id": "36c4a403",
   "metadata": {},
   "outputs": [
    {
     "data": {
      "text/plain": [
       "30"
      ]
     },
     "execution_count": 59,
     "metadata": {},
     "output_type": "execute_result"
    }
   ],
   "source": [
    "numero = 456456 # str(456456) -> \"456456\" = [\"4\", \"5\", \"6\", \"4\", \"5\", \"6\"]\n",
    "\n",
    "soma_digitos = 0\n",
    "\n",
    "for caractere in str(numero):\n",
    "    soma_digitos = soma_digitos + int(caractere)\n",
    "    \n",
    "soma_digitos"
   ]
  },
  {
   "cell_type": "code",
   "execution_count": 49,
   "id": "cec75386",
   "metadata": {},
   "outputs": [
    {
     "data": {
      "text/plain": [
       "6"
      ]
     },
     "execution_count": 49,
     "metadata": {},
     "output_type": "execute_result"
    }
   ],
   "source": [
    "numero = 2\n",
    "\n",
    "soma_digitos = numero % 10 # 3\n",
    "\n",
    "numero = numero // 10 # 21\n",
    "\n",
    "soma_digitos += numero % 10 # [3] + 1\n",
    "\n",
    "numero = numero // 10 # 2\n",
    "\n",
    "soma_digitos += numero % 10 # [4] + 2\n",
    "\n",
    "numero = numero // 10 # 0\n",
    "\n",
    "\n",
    "\n",
    "soma_digitos\n",
    "# daria para colocar um if ( Condicionar se o numero \n",
    "# é uma dezena, centena, milhar...) e depois colcamos a divisão por % 10 ou por %100 ,  %1000"
   ]
  },
  {
   "cell_type": "markdown",
   "id": "9221fc8a",
   "metadata": {},
   "source": [
    "### Exercício 2:\n",
    "\n",
    "Dado um inteiro x com sinal, retorne x com seus dígitos invertidos.\n",
    "\n",
    "Exemplo 1:\n",
    "\n",
    "**Entrada:** x = 123\n",
    "\n",
    "**Saída:** 321\n",
    "\n",
    "Exemplo 2:\n",
    "\n",
    "**Entrada:** x = -123\n",
    "\n",
    "**Saída:** -321"
   ]
  },
  {
   "cell_type": "code",
   "execution_count": null,
   "id": "d8412497",
   "metadata": {},
   "outputs": [],
   "source": []
  }
 ],
 "metadata": {
  "kernelspec": {
   "display_name": "Python 3 (ipykernel)",
   "language": "python",
   "name": "python3"
  },
  "language_info": {
   "codemirror_mode": {
    "name": "ipython",
    "version": 3
   },
   "file_extension": ".py",
   "mimetype": "text/x-python",
   "name": "python",
   "nbconvert_exporter": "python",
   "pygments_lexer": "ipython3",
   "version": "3.11.2"
  }
 },
 "nbformat": 4,
 "nbformat_minor": 5
}
