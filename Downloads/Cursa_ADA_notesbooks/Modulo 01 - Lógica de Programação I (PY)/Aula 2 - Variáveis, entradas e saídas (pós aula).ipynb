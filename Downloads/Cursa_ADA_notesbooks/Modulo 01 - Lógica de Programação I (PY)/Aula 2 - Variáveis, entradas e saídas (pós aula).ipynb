{
 "cells": [
  {
   "cell_type": "markdown",
   "id": "e85aac73",
   "metadata": {},
   "source": [
    "# Aula 2 - Variáveis, entradas e saídas\n",
    "## 1. Variáveis\n",
    "Em nossos programas, frequentemente precisaremos armazenar dados temporariamente. Esses dados podem ser adquiridos de alguma maneira (digitados pelo teclado, lidos de um arquivo etc.) ou calculados pelo nosso programa com base em outros dados. Imagine, por exemplo, que você gostaria de calcular a média de um aluno a partir de suas notas. Precisaremos que o aluno digite suas notas, e o programa irá calcular um novo valor, a média. Armazenaremos nossos dados temporariamente em **variáveis**.\n",
    " \n",
    "Variáveis são \"pedacinhos de memória\" onde guardamos dados. Sempre que referenciamos o nome, o pedacinho de memória é acessado e seu dado é recuperado.\n",
    " \n",
    "Criamos variáveis dando um nome a elas e usando o operador de atribuição (o sinal de igualdade: **=**) para atribuir um valor inicial.\n"
   ]
  },
  {
   "cell_type": "code",
   "execution_count": null,
   "id": "405bb910",
   "metadata": {},
   "outputs": [],
   "source": [
    "nome = 'Jorge' \n",
    "\n",
    "temperatura_atual = 25.4"
   ]
  },
  {
   "cell_type": "markdown",
   "id": "283cc8f5",
   "metadata": {},
   "source": [
    "No exemplo acima, foi criada uma variável chamada **x** que guarda o valor **10**. Ou seja, reservamos um pedacinho de memória e guardamos o número 10 lá.\n",
    " \n",
    "Tente sempre utilizar nomes intuitivos para suas variáveis. O nome deveria ser uma boa descrição do dado que a variável guarda. Nomes como 'x', 'y', 'z', 'a', 'b', 'c', 'a1', 'a2', 'a3' etc. podem se tornar bastante confusos quando nossos códigos são muito grandes. Quanto mais descritivos os nomes forem, melhor.\n",
    " \n",
    "Os nomes de variáveis podem conter letras, números e o símbolo ```_```, mas eles não podem começar com número.\n",
    " \n",
    "> Dica: existe uma grande variedade de padrões diferentes que podemos adotar para nomear nossas variáveis. Em Python é recomendável utilizar o padrão conhecido como _snake case_, em que nomes de variáveis com múltiplas palavras adotam o símbolo ```_``` para separar as palavras. Exemplos: ```nome_completo```, ```nota_da_prova``` etc.\n",
    " \n",
    "## 2. Tipos de variáveis\n",
    "Variáveis podem ter diferentes tipos. Alguns tipos são considerados **tipos primitivos**, ou seja, eles são tipos de dados mais básicos que podem ser utilizados para compor outros tipos mais complexos. Em Python esses tipos levam os seguintes nomes:\n",
    " \n",
    "* **int**: números _inteiros_, ou seja, números sem parte decimal: 0, 5, -1, 1000\n",
    "* **float**: números _reais_, ou seja, números com parte decimal: 1.0, -2.7, 3.14\n",
    "* **str**: cadeias de _caracteres_ (_strings_), ou seja, dados textuais: 'Olá Mundo!', \"eu tenho 18 anos\"\n",
    "* **bool**: valores _lógicos_ (_booleanos_), ou seja, apenas um entre dois valores possíveis: _True_ ou _False_\n"
   ]
  },
  {
   "cell_type": "code",
   "execution_count": 29,
   "id": "e8c8f2df",
   "metadata": {},
   "outputs": [],
   "source": [
    "nome = 'Jorge' # entre aspas = texto ou string \n",
    "\n",
    "idade = 24 # valor inteiro 4 uni\n",
    "\n",
    "temperatura = 25.4 # valor float - usamos ponto, não vírgula  8 uni\n",
    "\n",
    "vai_chover = True # uma variável bool True/False"
   ]
  },
  {
   "cell_type": "code",
   "execution_count": 2,
   "id": "dad6f3e7",
   "metadata": {},
   "outputs": [],
   "source": [
    "idade_float = 24.0"
   ]
  },
  {
   "cell_type": "code",
   "execution_count": 21,
   "id": "8ac6782e",
   "metadata": {},
   "outputs": [
    {
     "data": {
      "text/plain": [
       "float"
      ]
     },
     "execution_count": 21,
     "metadata": {},
     "output_type": "execute_result"
    }
   ],
   "source": [
    "# y = f(x)   X^2\n",
    "\n",
    "type(temperatura)"
   ]
  },
  {
   "cell_type": "code",
   "execution_count": 30,
   "id": "8a6bf5cc",
   "metadata": {},
   "outputs": [
    {
     "data": {
      "text/plain": [
       "1"
      ]
     },
     "execution_count": 30,
     "metadata": {},
     "output_type": "execute_result"
    }
   ],
   "source": [
    "temperatura_int = int(vai_chover)\n",
    "\n",
    "temperatura_int\n",
    "\n",
    "#type(temperatura_int)"
   ]
  },
  {
   "cell_type": "code",
   "execution_count": 18,
   "id": "aa3e4039",
   "metadata": {},
   "outputs": [
    {
     "data": {
      "text/plain": [
       "24"
      ]
     },
     "execution_count": 18,
     "metadata": {},
     "output_type": "execute_result"
    }
   ],
   "source": [
    "import sys\n",
    "\n",
    "temperatura = 24.5\n",
    "\n",
    "sys.getsizeof(temperatura)"
   ]
  },
  {
   "cell_type": "code",
   "execution_count": 19,
   "id": "73c64650",
   "metadata": {},
   "outputs": [
    {
     "data": {
      "text/plain": [
       "28"
      ]
     },
     "execution_count": 19,
     "metadata": {},
     "output_type": "execute_result"
    }
   ],
   "source": [
    "idade_int = 4\n",
    "\n",
    "sys.getsizeof(idade_int)"
   ]
  },
  {
   "cell_type": "markdown",
   "id": "8165eba6",
   "metadata": {},
   "source": [
    "O Python é uma linguagem **dinamicamente tipada**. Isso significa que não precisamos especificar o tipo de uma variável: a própria linguagem tenta determinar o tipo de acordo com o dado atribuído à variável.\n",
    " \n",
    "## 3. Comentários\n",
    "Note que nos exemplos acima, escrevemos textos no meio do código utilizando o símbolo **#**.\n",
    "Esses textos são **comentários**: quando utilizamos o símbolo **#**, o Python irá ignorar tudo o que vier em seguida (na mesma linha). Utilizamos comentários para explicar pedaços do nosso código para que nós mesmos ou outros colegas no futuro entendam o que fizemos e possam modificar ou corrigir o código com mais facilidade.\n",
    "Também podemos escrever comentários de múltiplas linhas utilizando aspas triplas - neste caso, as utilizamos para abrir e depois para fechar o bloco de comentários."
   ]
  },
  {
   "cell_type": "code",
   "execution_count": null,
   "id": "ec49b81f",
   "metadata": {},
   "outputs": [],
   "source": [
    "# linha comentario 1\n",
    "# asdasd\n",
    "# asdsada"
   ]
  },
  {
   "cell_type": "code",
   "execution_count": 42,
   "id": "19310592",
   "metadata": {},
   "outputs": [
    {
     "name": "stdout",
     "output_type": "stream",
     "text": [
      "Jo\"rge\n",
      "Jo'rge\n"
     ]
    }
   ],
   "source": [
    "nome = 'Jo\"rge'\n",
    "nome2 = \"Jo'rge\"\n",
    "\n",
    "print(nome)\n",
    "print(nome2)"
   ]
  },
  {
   "cell_type": "code",
   "execution_count": 39,
   "id": "3621a9f1",
   "metadata": {},
   "outputs": [
    {
     "name": "stdout",
     "output_type": "stream",
     "text": [
      "\n",
      "Este é um comentário de várias linhas.\n",
      "Tudo que veio após o primeiro trio de aspas e antes do segundo\n",
      "será ignorado pelo Python.\n",
      "\n"
     ]
    }
   ],
   "source": [
    "string = \"\"\"\n",
    "Este é um comentário de várias linhas.\n",
    "Tudo que veio após o primeiro trio de aspas e antes do segundo\n",
    "será ignorado pelo Python.\n",
    "\"\"\"\n",
    "\n",
    "# Este é um comentário de várias linhas.\n",
    "# Tudo que veio após o primeiro trio de aspas e antes do segundo\n",
    "# será ignorado pelo Python.\n",
    "\n",
    "# print(string)"
   ]
  },
  {
   "cell_type": "markdown",
   "id": "f13abbf7",
   "metadata": {},
   "source": [
    "Na verdade, esse tipo de comentário não é exatamente um comentário, mas uma string com múltiplas linhas. O Python enxerga que apenas \"declaramos\" uma string no meio do código, sem utilizá-la ou atribuí-la para qualquer variável, e por conta disso ela é ignorada, funcionando na prática como um comentário.\n",
    " \n",
    "> Na maioria das IDEs você possui teclas de atalho para facilmente transformar um bloco inteiro de código em comentário para temporariamente desabilitá-lo. Isso pode ser útil quando estamos testando soluções alternativas para um problema ou corrigindo erros. No Visual Studio Code, por exemplo, você pode utilizar ```ctrl+/``` para transformar uma seleção em comentário. \n",
    " \n",
    " \n",
    "## 4. Saídas\n",
    "\n",
    "Chamamos de **saídas** do nosso programa todos os dados que são gerados pelo programa e serão fornecidos para o usuário.\n",
    "A função de saída em tela no Python é o **print**. Colocamos entre parênteses o dado que queremos que apareça."
   ]
  },
  {
   "cell_type": "code",
   "execution_count": null,
   "id": "0cd7e56d",
   "metadata": {},
   "outputs": [],
   "source": [
    "print('olá mundo!') # exibe a frase 'olá mundo' na tela"
   ]
  },
  {
   "cell_type": "markdown",
   "id": "c28415af",
   "metadata": {},
   "source": [
    "Os dados a serem exibidos não precisam ser valores constantes, como a frase fixa acima. Eles podem ser variáveis:"
   ]
  },
  {
   "cell_type": "code",
   "execution_count": 43,
   "id": "a029dc86",
   "metadata": {},
   "outputs": [
    {
     "name": "stdout",
     "output_type": "stream",
     "text": [
      "False\n"
     ]
    }
   ],
   "source": [
    "idade = 20\n",
    "print(False)"
   ]
  },
  {
   "cell_type": "markdown",
   "id": "be4610fb",
   "metadata": {},
   "source": [
    "> Note que quando usamos aspas, o Python trata o valor como uma _string_, um texto literal. Quando não usamos aspas, o Python irá considerar que aquele é o nome de uma variável e irá acessá-la para buscar seu valor.\n",
    " \n",
    "Podemos exibir múltiplos dados em um **print**. Para isso, basta separá-los por vírgula e eles irão aparecer na tela na mesma ordem que apareceram no código:"
   ]
  },
  {
   "cell_type": "code",
   "execution_count": 47,
   "id": "7ac68c5c",
   "metadata": {},
   "outputs": [
    {
     "name": "stdout",
     "output_type": "stream",
     "text": [
      "Oi, eu sou o_Jorge_e eu programo em_Python12345789"
     ]
    }
   ],
   "source": [
    "nome = 'Jorge'\n",
    "linguagem = 'Python'\n",
    "print('Oi, eu sou o', nome, 'e eu programo em', linguagem, sep='_', end=\"12345789\")"
   ]
  },
  {
   "cell_type": "markdown",
   "id": "3596537d",
   "metadata": {},
   "source": [
    "Note que os dados aparecem em tela separados por um espaço automaticamente. Dois prints sucessivos também possuem uma quebra de linha entre eles. Você pode passar as opções ```sep``` e ```end``` dentro de seu print para especificar diferentes comportamentos. Exemplo:\n"
   ]
  },
  {
   "cell_type": "code",
   "execution_count": 45,
   "id": "23a0af42",
   "metadata": {},
   "outputs": [
    {
     "name": "stdout",
     "output_type": "stream",
     "text": [
      "Oi, eu sou o@Jorge***"
     ]
    }
   ],
   "source": [
    "nome = 'Jorge'\n",
    "linguagem = 'Python'\n",
    "print('Oi, eu sou o', nome, sep='@', end='***')\n",
    "# print('Eu programo em', linguagem, sep='@')"
   ]
  },
  {
   "cell_type": "markdown",
   "id": "fcbe464b",
   "metadata": {},
   "source": [
    "> Dica: caso você ache confuso separar os dados por vírgulas, você pode alternativamente utilizar uma _f-string_. Não entraremos em detalhes agora, mas o funcionamento básico é simples: coloque um _f_ antes de abrir aspas, e dentro do texto você pode colocar o nome das variáveis entre chaves. o ```print``` abaixo terá o mesmo resultado que o exemplo anterior:"
   ]
  },
  {
   "cell_type": "code",
   "execution_count": 52,
   "id": "fd80740b",
   "metadata": {},
   "outputs": [
    {
     "name": "stdout",
     "output_type": "stream",
     "text": [
      "Meu nome eh Jorge e tenho 20 anos!"
     ]
    }
   ],
   "source": [
    "print('Meu nome eh', nome, \"e tenho\", idade, 'anos', end='!')"
   ]
  },
  {
   "cell_type": "code",
   "execution_count": 48,
   "id": "98fa1220",
   "metadata": {},
   "outputs": [
    {
     "name": "stdout",
     "output_type": "stream",
     "text": [
      "Meu nome eh Jorge e tenho 20 anos!"
     ]
    }
   ],
   "source": [
    "print(f'Meu nome eh {nome} e tenho {idade} anos', end='!') # OK OK OK"
   ]
  },
  {
   "cell_type": "code",
   "execution_count": 54,
   "id": "3fa55444",
   "metadata": {},
   "outputs": [
    {
     "name": "stdout",
     "output_type": "stream",
     "text": [
      "Meu nome eh Jorge e tenho 20 anos!"
     ]
    }
   ],
   "source": [
    "print('Meu nome eh %s e tenho %d anos' % (nome, idade), end='!')"
   ]
  },
  {
   "cell_type": "code",
   "execution_count": 57,
   "id": "b3814ac4",
   "metadata": {},
   "outputs": [
    {
     "name": "stdout",
     "output_type": "stream",
     "text": [
      "Meu nome eh Jorge e tenho 20 anos!"
     ]
    }
   ],
   "source": [
    "print('Meu nome eh {0} e tenho {1} anos'.format(nome, idade), end='!')"
   ]
  },
  {
   "cell_type": "code",
   "execution_count": 60,
   "id": "ee595c59",
   "metadata": {},
   "outputs": [
    {
     "name": "stdout",
     "output_type": "stream",
     "text": [
      "Meu nome eh Jorge e tenho 20 anos\n"
     ]
    }
   ],
   "source": [
    "variavel = 'Meu nome eh %s e tenho %d anos' % (nome, idade)\n",
    "\n",
    "print(variavel)"
   ]
  },
  {
   "cell_type": "markdown",
   "id": "8f7ac0a9",
   "metadata": {},
   "source": [
    "## 5. Entradas\n",
    "Assim como temos dados de saída - dados gerados pelo código e fornecidos para o usuário - também temos dados de **entrada**: informações que o usuário possui e deve fornecer ao código. \n",
    "Para receber entradas pelo teclado, utilizaremos a função **input**. Devemos levar uma variável a receber o valor capturado pelo input."
   ]
  },
  {
   "cell_type": "code",
   "execution_count": 62,
   "id": "66cd48ac",
   "metadata": {
    "tags": []
   },
   "outputs": [
    {
     "name": "stdout",
     "output_type": "stream",
     "text": [
      "Olá 123132141566!!"
     ]
    }
   ],
   "source": [
    "nome = input()\n",
    "\n",
    "print('Olá', nome, end='!!')"
   ]
  },
  {
   "cell_type": "markdown",
   "id": "77bbce07",
   "metadata": {},
   "source": [
    "O programa acima captura o nome do usuário e em seguida mostra a mensagem \"olá\" seguida do nome do usuário. \n",
    "Note que o programa fica parado em uma tela em branco com um cursor piscando aguardando a digitação pelo usuário. Isso pode ser confuso para o usuário, que não sabe o que o programa está esperando. Por isso, dentro dos parênteses do input podemos colocar uma mensagem simples informando o que o programa gostaria que ele fizesse:"
   ]
  },
  {
   "cell_type": "code",
   "execution_count": 64,
   "id": "587fa997",
   "metadata": {},
   "outputs": [
    {
     "name": "stdout",
     "output_type": "stream",
     "text": [
      "Olá Jorge 21!!"
     ]
    }
   ],
   "source": [
    "nome = input('Me informe seu nome: ')\n",
    "\n",
    "idade = input('Me informe sua idade: ')\n",
    "\n",
    "print('Olá', nome, idade, end='!!')"
   ]
  },
  {
   "cell_type": "markdown",
   "id": "967bb66c",
   "metadata": {},
   "source": [
    "### 5.1. Determinando o tipo da entrada\n",
    "Vamos imaginar um programa que informa quantos anos falta para que uma criança atinja a maioridade. Podemos ler a idade da criança pelo teclado (_entrada_), subtrair a idade do número 18 (_processamento_) e exibir o resultado da conta na tela (_saída_). Considere a solução abaixo:"
   ]
  },
  {
   "cell_type": "code",
   "execution_count": 67,
   "id": "09524d61",
   "metadata": {},
   "outputs": [
    {
     "data": {
      "text/plain": [
       "int"
      ]
     },
     "execution_count": 67,
     "metadata": {},
     "output_type": "execute_result"
    }
   ],
   "source": [
    "# Objetivo: Informar para o usuario quanto anos faltam para ele ter 50\n",
    "\n",
    "idade = input('Digite a sua idade: ')\n",
    "\n",
    "type(int(idade))\n",
    "\n",
    "# resto = 50 - idade\n",
    "\n",
    "# print('Faltam', resto, 'para ter 50 anos.')"
   ]
  },
  {
   "cell_type": "markdown",
   "id": "7c9e26ab",
   "metadata": {},
   "source": [
    "Se você copiar e executar o programa, ele dará erro na segunda linha. Isso ocorre porque o teclado é uma \"máquina de escrever\" um pouco mais moderna. Portanto, tudo que entra pelo teclado é considerado pelo Python como texto (ou seja, _str_). Porém, não podemos \"fazer contas\" com textos. Fazemos contas com números. Portanto, neste caso, precisamos falar para o Python interpretar a nossa entrada como um número. Um bom tipo de dado para \"idade\" seria um número inteiro. Fazemos isso colocando o nome do tipo desejado, e entre parênteses colocamos nosso input:"
   ]
  },
  {
   "cell_type": "code",
   "execution_count": 68,
   "id": "27f87bdd",
   "metadata": {},
   "outputs": [
    {
     "name": "stdout",
     "output_type": "stream",
     "text": [
      "Faltam 29 para ter 50 anos.\n"
     ]
    }
   ],
   "source": [
    "idade = input('Digite a sua idade: ')\n",
    "\n",
    "resto = 50 - int(idade)\n",
    "\n",
    "print('Faltam', resto, 'para ter 50 anos.')"
   ]
  },
  {
   "cell_type": "code",
   "execution_count": 71,
   "id": "9780c1e0",
   "metadata": {},
   "outputs": [
    {
     "name": "stdout",
     "output_type": "stream",
     "text": [
      "24\n"
     ]
    }
   ],
   "source": [
    "temperatura = 24.545678\n",
    "\n",
    "print(int(temperatura))"
   ]
  },
  {
   "cell_type": "markdown",
   "id": "b2cf2bc1",
   "metadata": {},
   "source": [
    "Chamamos essa operação de **coerção de tipo**. Em materiais em inglês você verá essa operação com o nome *casting*. Tome cuidado: operações de coerção podem resultar em perdas de dados. Se você converter o número float 3.9 para int, ele **não** arredondará para 4, e sim descartará a parte fracionária, resultando em 3.\n",
    " \n",
    "> Neste início, mensagens de erro podem parecer intimidadoras. Elas aparecem em vermelho e frequentemente possuem nomes técnicos e expressões em inglês. Mas crie o hábito de tentar compreendê-las. A partir da versão 3.10 do Python elas se tornaram significativamente mais amigáveis. Elas também indicam a linha com erro. Além disso, se você pesquisar em sites de busca por uma mensagem de erro, provavelmente encontrará diversos exemplos e explicações do que pode tê-la provocado e como consertar!\n",
    " \n",
    "## 6. Expressões aritméticas\n",
    "Como podemos observar no exemplo anterior, o Python faz operações aritméticas de maneira bastante intuitiva, similar ao que estamos acostumados.\n",
    "Os operadores aceitos são:\n",
    "* Soma: **+** \n",
    "* Subtração: **-**\n",
    "* Multiplicação: **\\***\n",
    "* Divisão: **/**\n",
    "* Divisão inteira: **//**\n",
    "* Resto da divisão: **%**\n",
    "* Potência: **\\*\\***"
   ]
  },
  {
   "cell_type": "code",
   "execution_count": null,
   "id": "c3f44c76",
   "metadata": {},
   "outputs": [],
   "source": []
  },
  {
   "cell_type": "code",
   "execution_count": 105,
   "id": "1ae58cba",
   "metadata": {
    "scrolled": true
   },
   "outputs": [],
   "source": [
    "variavel1 = '12345'\n",
    "variavel2 = 2"
   ]
  },
  {
   "cell_type": "code",
   "execution_count": 87,
   "id": "d54f166a",
   "metadata": {},
   "outputs": [
    {
     "data": {
      "text/plain": [
       "1"
      ]
     },
     "execution_count": 87,
     "metadata": {},
     "output_type": "execute_result"
    }
   ],
   "source": [
    "valor_informado = 123477\n",
    "\n",
    "valor_informado % 2"
   ]
  },
  {
   "cell_type": "markdown",
   "id": "46205572",
   "metadata": {},
   "source": [
    "**Operadores de divisão**: Note que temos 3 operadores de divisão. O que seria cada um deles? Vamos supor que numero1 seja 15 e numero2 seja 6. \n",
    "```\n",
    " 15 |__ 6\n",
    "```\n",
    "Quantas vezes o número 6 cabe dentro do 15? Um bom primeiro \"chute\" é 2:\n",
    " \n",
    "``` \n",
    " 15 |__ 6\n",
    "     2\n",
    "``` \n",
    " \n",
    "Podemos multiplicar 6 por 2, que dará 12. E então subtraímos esse valor de 15:\n",
    "``` \n",
    " 15 |__ 6\n",
    "-12     2\n",
    "---\n",
    " 03\n",
    "```\n",
    " \n",
    "Note que, considerando apenas números inteiros, não conseguimos mais prosseguir com a divisão. Neste caso, a **divisão inteira** (```numero1 // numero2```) dará 2. Já o **resto da divisão** (```numero1 % numero2```) dará 3.\n",
    " \n",
    "Porém, considerando casas decimais é possível prosseguir com a divisão:\n",
    "```\n",
    " 15 |__ 6 \n",
    "-12     2.5\n",
    "---\n",
    " 03\n",
    "  30\n",
    "- 30\n",
    "----\n",
    "   0\n",
    "```\n",
    " \n",
    "Portanto, a **divisão** real (```numero1 / numero2```) dará 2.5.\n",
    " \n",
    "> **Atenção:** números reais em Python usam ponto para separar as casas decimais, não vírgula:\n",
    ">  - **Errado:** 2,5\n",
    ">  - **Correto:** 2.5"
   ]
  },
  {
   "cell_type": "code",
   "execution_count": null,
   "id": "0e9e93a7",
   "metadata": {},
   "outputs": [],
   "source": [
    "numero = 23.5"
   ]
  },
  {
   "cell_type": "markdown",
   "id": "2023f5df",
   "metadata": {},
   "source": [
    "## Exercícios \n",
    "\n",
    "1. Suponha que o preço de capa de um livro seja R\\\\$ 24,95, mas as livrarias recebem um desconto de 40\\%. O transporte custa R\\\\$ 3,00 para o primeiro exemplar e 75 centavos para cada exemplar adicional. Qual é o custo total de atacado para 60 cópias?"
   ]
  },
  {
   "cell_type": "code",
   "execution_count": 2,
   "id": "2f9c9aa0",
   "metadata": {},
   "outputs": [
    {
     "name": "stdout",
     "output_type": "stream",
     "text": [
      "O custo total pelas 60 copias foi de 945.45 reais.\n"
     ]
    }
   ],
   "source": [
    "preco_capa_livro = 24.95\n",
    "valor_desconto = 40\n",
    "\n",
    "valor_livro_desconto = preco_capa_livro - (preco_capa_livro * valor_desconto / 100)\n",
    "\n",
    "custo_total = 1 * (valor_livro_desconto + 3) + 59 * (valor_livro_desconto + 0.75)\n",
    "\n",
    "# round(# a ser aredondado, # de casas decimais)\n",
    "print(f'O custo total pelas 60 copias foi de {round(custo_total, 2)} reais.')"
   ]
  },
  {
   "cell_type": "markdown",
   "id": "07dfc618",
   "metadata": {},
   "source": [
    "2. Se eu sair da minha casa às 6:52 e correr 1 quilômetro a um certo passo (8min15s por quilômetro), então 3 quilômetros a um passo mais rápido (7min12s por quilômetro) e 1 quilômetro no mesmo passo usado em primeiro lugar, que horas chego em casa para o café da manhã?"
   ]
  },
  {
   "cell_type": "code",
   "execution_count": 24,
   "id": "3868e81d",
   "metadata": {},
   "outputs": [
    {
     "name": "stdout",
     "output_type": "stream",
     "text": [
      "8.456459999084473\n"
     ]
    }
   ],
   "source": [
    "numero = 36900001.45646\n",
    "\n",
    "print(numero % 13)"
   ]
  },
  {
   "cell_type": "code",
   "execution_count": 29,
   "id": "f8923c7a",
   "metadata": {},
   "outputs": [
    {
     "data": {
      "text/plain": [
       "0"
      ]
     },
     "execution_count": 29,
     "metadata": {},
     "output_type": "execute_result"
    }
   ],
   "source": [
    "0 // 60"
   ]
  },
  {
   "cell_type": "code",
   "execution_count": 33,
   "id": "560c237d",
   "metadata": {},
   "outputs": [
    {
     "name": "stdout",
     "output_type": "stream",
     "text": [
      "Chegarei em casa às 7 horas 30 minutos e 6 segundos!\n"
     ]
    }
   ],
   "source": [
    "# 1 hora = 60 * 60 = 3600 segundos\n",
    "# 1 minuto = 60 segundos\n",
    "hora_saiu_de_casa = 6*3600 + 52*60 \n",
    "\n",
    "passolento = 8 * 60 + 15\n",
    "passorapido = 7 * 60 + 12\n",
    "\n",
    "tempo_percurso = hora_saiu_de_casa + 1*passolento + 3*passorapido + 1*passolento\n",
    "\n",
    "# numero ->  H:m:s\n",
    "\n",
    "# 3601 = 1h + 1s = 3601 - (1 * 3600) = 1\n",
    "# 3661 = 1h + 1m + 1s\n",
    "# 3599 = 3599 / 3600 = 0.9999\n",
    "\n",
    "# 60 = 1m\n",
    "# 61 = 1m + 1s\n",
    "# 59 = 0m + 59s \n",
    "\n",
    "# 3599 = 59\n",
    "# 0 = 0\n",
    "# usando a formula para calcular juros\n",
    "tempo_horas = tempo_percurso // 3600\n",
    "\n",
    "tempo_minutos = (tempo_percurso - tempo_horas * 3600) // 60\n",
    "\n",
    "tempo_segundos = tempo_percurso - tempo_horas * 3600 - tempo_minutos * 60\n",
    "\n",
    "print(f'Chegarei em casa às {tempo_horas} horas {tempo_minutos} minutos e {tempo_segundos} segundos!')"
   ]
  },
  {
   "cell_type": "markdown",
   "id": "32976d1a",
   "metadata": {},
   "source": [
    "3. Escreva um programa que realize transformações de graus celsius a fahrenheit. O programa deve solicitar por teclado os graus celsius, e deve mostrar uma mensagem mostrando o valor equivalente em graus fahrenheit. A fórmula é:  \n",
    "$$\n",
    "    F = C * 1,8 + 32\n",
    "$$\n"
   ]
  },
  {
   "cell_type": "code",
   "execution_count": 36,
   "id": "db7da243",
   "metadata": {},
   "outputs": [
    {
     "name": "stdout",
     "output_type": "stream",
     "text": [
      "Meu valor em fahrenheit é 89.6.\n"
     ]
    }
   ],
   "source": [
    "valor_celsius = int(input('Informe o valor em graus celsius:'))\n",
    "\n",
    "valor_fahrenheit = valor_celsius * 1.8 + 32\n",
    "\n",
    "print(f'Meu valor em fahrenheit é {valor_fahrenheit}.')"
   ]
  }
 ],
 "metadata": {
  "kernelspec": {
   "display_name": "Python 3 (ipykernel)",
   "language": "python",
   "name": "python3"
  },
  "language_info": {
   "codemirror_mode": {
    "name": "ipython",
    "version": 3
   },
   "file_extension": ".py",
   "mimetype": "text/x-python",
   "name": "python",
   "nbconvert_exporter": "python",
   "pygments_lexer": "ipython3",
   "version": "3.11.2"
  }
 },
 "nbformat": 4,
 "nbformat_minor": 5
}
