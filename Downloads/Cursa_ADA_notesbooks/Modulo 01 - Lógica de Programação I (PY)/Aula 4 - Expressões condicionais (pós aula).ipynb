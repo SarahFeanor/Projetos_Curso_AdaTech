{
 "cells": [
  {
   "cell_type": "markdown",
   "id": "81ca0b2b",
   "metadata": {},
   "source": [
    "# Aula 4 - Expressões condicionais\n",
    "## 1.1. Se \n",
    "Os programas do capítulo _Operações Lógicas_ não são \"amigáveis\" para o usuário. Ao invés de mostrar _True_ ou _False_, por exemplo, seria mais útil exibir se o aluno foi \"Aprovado\" ou \"Reprovado\".\n",
    " \n",
    "Para que possamos escrever na tela as mensagens \"Aprovado\" ou \"Reprovado\", é necessário que haja em algum ponto do código o trecho _print('Aprovado')_ e o trecho _print('Reprovado')_. Porém, não gostaríamos que ambos fossem exibidos ao mesmo tempo.\n",
    " \n",
    "Precisamos *ramificar* o fluxo de execução de nosso programa: em certas circunstâncias, o fluxo deve executar algumas linhas de código e ignorar outras.\n",
    " \n",
    "Uma **condicional** é uma instrução em Python que decide se outras linhas serão ou não executadas dependendo do resultado de uma condição. A condição nada mais é do que uma expressão lógica. Se a condição for verdadeira, as linhas são executadas. Senão, são ignoradas.\n",
    " \n",
    "A condicional mais básica em Python é o **if** (se):"
   ]
  },
  {
   "cell_type": "code",
   "execution_count": 5,
   "id": "8b7316e0",
   "metadata": {},
   "outputs": [
    {
     "name": "stdout",
     "output_type": "stream",
     "text": [
      "Nao Aprovado\n",
      "Média:  4.5\n"
     ]
    }
   ],
   "source": [
    "nota1 = 5\n",
    "nota2 = 4\n",
    " \n",
    "media = (nota1 + nota2) / 2\n",
    " \n",
    "if media >= 6.0:\n",
    "    print('Aprovado')\n",
    "    print('Média: ', media)\n",
    "    \n",
    "if not (media >= 6.0):\n",
    "    print('Nao Aprovado')\n",
    "    print('Média: ', media)\n",
    "    "
   ]
  },
  {
   "cell_type": "markdown",
   "id": "21dbec23",
   "metadata": {},
   "source": [
    "Execute o programa acima. Note que **se** (if) a média é maior ou igual a 6.0, ele exibe a mensagem \"Aprovado\" e depois a média. Caso contrário, ele apenas exibe a média.\n",
    " \n",
    "> Para dizermos que uma ou mais linhas \"pertencem\" ao nosso **if**, usamos um símbolo de parágrafo (tecla \"Tab\" no teclado). O programa sabe que o _if_ \"acabou\" quando as linhas param de ter \"tabs\". Esses tabs são chamados de **indentação**. Tanto no _if_ quanto no restante das estruturas de controle que estudaremos é obrigatório ter pelo menos 1 linha indentada abaixo da linha de controle.\n",
    " \n",
    "## 1.2. Senão\n",
    "Note que conseguimos fazer nosso programa decidir se ele exibe a mensagem \"Aprovado\" ou não. O próximo passo seria fazer ele decidir entre 2 mensagens diferentes: \"Aprovado\" ou \"Reprovado\". Um primeiro jeito de fazer isso seria um segundo **if** invertendo a condição:"
   ]
  },
  {
   "cell_type": "code",
   "execution_count": 4,
   "id": "40d298dc",
   "metadata": {},
   "outputs": [
    {
     "ename": "ValueError",
     "evalue": "could not convert string to float: ''",
     "output_type": "error",
     "traceback": [
      "\u001b[1;31m---------------------------------------------------------------------------\u001b[0m",
      "\u001b[1;31mValueError\u001b[0m                                Traceback (most recent call last)",
      "\u001b[1;32mc:\\Users\\jcham\\Downloads\\Ada\\Logica de Programacao I\\Aula 4\\Aula 4 - Expressões condicionais.ipynb Cell 4\u001b[0m line \u001b[0;36m1\n\u001b[1;32m----> <a href='vscode-notebook-cell:/c%3A/Users/jcham/Downloads/Ada/Logica%20de%20Programacao%20I/Aula%204/Aula%204%20-%20Express%C3%B5es%20condicionais.ipynb#W3sZmlsZQ%3D%3D?line=0'>1</a>\u001b[0m nota1 \u001b[39m=\u001b[39m \u001b[39mfloat\u001b[39;49m(\u001b[39minput\u001b[39;49m(\u001b[39m'\u001b[39;49m\u001b[39mDigite a nota 1: \u001b[39;49m\u001b[39m'\u001b[39;49m))\n\u001b[0;32m      <a href='vscode-notebook-cell:/c%3A/Users/jcham/Downloads/Ada/Logica%20de%20Programacao%20I/Aula%204/Aula%204%20-%20Express%C3%B5es%20condicionais.ipynb#W3sZmlsZQ%3D%3D?line=1'>2</a>\u001b[0m nota2 \u001b[39m=\u001b[39m \u001b[39mfloat\u001b[39m(\u001b[39minput\u001b[39m(\u001b[39m'\u001b[39m\u001b[39mDigite a noat 2: \u001b[39m\u001b[39m'\u001b[39m))\n\u001b[0;32m      <a href='vscode-notebook-cell:/c%3A/Users/jcham/Downloads/Ada/Logica%20de%20Programacao%20I/Aula%204/Aula%204%20-%20Express%C3%B5es%20condicionais.ipynb#W3sZmlsZQ%3D%3D?line=3'>4</a>\u001b[0m media \u001b[39m=\u001b[39m (nota1 \u001b[39m+\u001b[39m nota2)\u001b[39m/\u001b[39m\u001b[39m2\u001b[39m\n",
      "\u001b[1;31mValueError\u001b[0m: could not convert string to float: ''"
     ]
    }
   ],
   "source": [
    "nota1 = float(input('Digite a nota 1: '))\n",
    "nota2 = float(input('Digite a noat 2: '))\n",
    " \n",
    "media = (nota1 + nota2)/2\n",
    " \n",
    "if media >= 6.0:\n",
    "    print('Aprovado')\n",
    "if media < 6.0:\n",
    "    print('Reprovado')\n",
    "    \n",
    "print('Média: ', media)"
   ]
  },
  {
   "cell_type": "markdown",
   "id": "fdb0676c",
   "metadata": {},
   "source": [
    "O programa acima funciona. Porém, conforme nossos programas começam a ficar mais complexos e nossos **if** começam a ter linhas demais, podemos nos perder e esquecer que esses 2 **if** são 2 casos mutuamente exclusivos. Pior ainda, podemos vir a acrescentar condições novas em um e esquecer de atualizar no outro. \n",
    " \n",
    "Nos casos em que temos condições mutuamente exclusivas, podemos utilizar um par **if**/**else** (se/senão). **Se** a condição for verdadeira, faça tal coisa. **Senão**, faça outra coisa."
   ]
  },
  {
   "cell_type": "code",
   "execution_count": 8,
   "id": "0ac92f70",
   "metadata": {},
   "outputs": [
    {
     "name": "stdout",
     "output_type": "stream",
     "text": [
      "Reprovado\n",
      "Média:  5.0\n"
     ]
    }
   ],
   "source": [
    "nota1 = 5\n",
    "nota2 = 5\n",
    " \n",
    "media = (nota1 + nota2)/2\n",
    " \n",
    "if media >= 6.0:\n",
    "    print('Aprovado')\n",
    "else:\n",
    "    print('Reprovado')\n",
    "    \n",
    "print('Média: ', media)"
   ]
  },
  {
   "cell_type": "markdown",
   "id": "39ba32eb",
   "metadata": {},
   "source": [
    "> Note que o **else** não possui condição. A condição dele é implícita: é a negação da condição do **if**. Se o **if** executar, o **else** não executa e vice-versa. Consequentemente, **o else não pode existir sem um if**.\n",
    " \n",
    "## 1.3. Aninhando condições\n",
    "É possível _aninhar_ condições: ou seja, colocar um novo **if** dentro de outro **if** ou **else**. Imagine que nossa escola não reprova direto o aluno com nota inferior a 6, e sim permite que ele faça uma recuperação. Porém, o aluno precisa ter tirado no mínimo média 3 para que permitam que faça a recuperação. Assim temos:\n",
    " \n",
    "* Se nota maior ou igual a 6: aprovado.\n",
    "* Senão:\n",
    "* * Se nota entre 6 e 3: recuperação.\n",
    "* * Senão: reprovado.\n",
    "Em Python:\n",
    " "
   ]
  },
  {
   "cell_type": "code",
   "execution_count": null,
   "id": "3e7b58a6",
   "metadata": {},
   "outputs": [],
   "source": [
    "nota1 = float(input('Digite a nota 1: '))\n",
    "nota2 = float(input('Digite a nota 2: '))\n",
    " \n",
    "media = (nota1 + nota2)/2\n",
    " \n",
    "if media >= 6.0:\n",
    "    print('Aprovado')\n",
    "else:\n",
    "    if media >= 3.0:\n",
    "        print('Recuperação')\n",
    "    else:\n",
    "        print('Reprovado')\n",
    "    \n",
    "print('Média: ', media)"
   ]
  },
  {
   "cell_type": "markdown",
   "id": "e4682257",
   "metadata": {},
   "source": [
    "#### 1.4. Senão-se \n",
    "Note que se começarmos a aninhar muitas condições (if dentro de else dentro de else dentro de else...), nosso código pode começar a ficar confuso, com a aparência de uma \"escadinha\":\n",
    " \n",
    "```\n",
    "Se\n",
    "Senão:\n",
    "    Se\n",
    "    Senão:\n",
    "        Se\n",
    "        Senão:\n",
    "            Se:\n",
    "            Senão:\n",
    "                Se:\n",
    "                 ...\n",
    "```\n",
    " \n",
    "Isso pode tornar o código bastante complexo e difícil de atualizar ou corrigir erros posteriormente. Para quebrar a \"escadinha\", existe a possibilidade de juntarmos o \"se\" do próximo nível com o \"senão\" do nível anterior: o **elif**: **else** + **if** (senão + se).\n",
    "\n",
    "O elif só é executado se um **if** der errado (ou seja, ele é um **else**), mas ele também tem uma condição que deve ser respeitada (ou seja, ele também é um **if**). Podemos reescrever nosso código anterior utilizando um **elif**:\n",
    " "
   ]
  },
  {
   "cell_type": "code",
   "execution_count": 19,
   "id": "0a2d4a63",
   "metadata": {},
   "outputs": [
    {
     "name": "stdout",
     "output_type": "stream",
     "text": [
      "Recuperação\n",
      "Média:  5.0\n"
     ]
    }
   ],
   "source": [
    "nota1 = 5\n",
    "nota2 = 5\n",
    " \n",
    "media = (nota1 + nota2) / 2\n",
    " \n",
    "if media >= 6.0:\n",
    "    print('Aprovado')       \n",
    "elif media >= 3.0:\n",
    "    print('Recuperação')\n",
    "else:\n",
    "    print('Reprovado')\n",
    "    \n",
    "print('Média: ', media)"
   ]
  },
  {
   "cell_type": "markdown",
   "id": "72d9ffb8",
   "metadata": {},
   "source": [
    "Podemos usar quantos **elif** nós quisermos. Sempre que um deles der errado, o próximo será testado. Quando algum deles der certo, todo o restante será ignorado. \n",
    " \n",
    "Opcionalmente, podemos ter um **else** ao final do bloco, que só será executado se o **if** e todos os **elif** derem errado.  \n",
    " \n",
    "O bloco, **obrigatoriamente**, deve ser iniciado com um _if_.\n",
    " \n",
    "### Atenção\n",
    " \n",
    "> Você lembra dos valores *truthy* e *falsy*? Nós conversamos sobre eles no capítulo *Operações Lógicas*. Uma variável, qualquer que seja seu tipo, pode ser interpretada pelo **if** como se fosse uma expressão lógica.\n",
    "> \n",
    "> Se ```x```  for um\n",
    "inteiro, o bloco ```if x:``` será executado caso ```x``` seja diferente de zero, por exemplo.\n",
    "> \n",
    "> Uma fonte comum de erros em iniciantes envolve o uso de **and** ou **or** em condicionais e a forma como Python lida com valores *truthy* e *falsy*. Execute o trecho de código abaixo:"
   ]
  },
  {
   "cell_type": "code",
   "execution_count": 44,
   "id": "c77ff1bd",
   "metadata": {},
   "outputs": [
    {
     "ename": "ZeroDivisionError",
     "evalue": "division by zero",
     "output_type": "error",
     "traceback": [
      "\u001b[1;31m---------------------------------------------------------------------------\u001b[0m",
      "\u001b[1;31mZeroDivisionError\u001b[0m                         Traceback (most recent call last)",
      "\u001b[1;32mc:\\Users\\jcham\\Downloads\\Ada\\Logica de Programacao I\\Aula 4\\Aula 4 - Expressões condicionais.ipynb Cell 12\u001b[0m line \u001b[0;36m1\n\u001b[1;32m----> <a href='vscode-notebook-cell:/c%3A/Users/jcham/Downloads/Ada/Logica%20de%20Programacao%20I/Aula%204/Aula%204%20-%20Express%C3%B5es%20condicionais.ipynb#X33sZmlsZQ%3D%3D?line=0'>1</a>\u001b[0m \u001b[39m12\u001b[39;49m \u001b[39m/\u001b[39;49m \u001b[39m0\u001b[39;49m\n",
      "\u001b[1;31mZeroDivisionError\u001b[0m: division by zero"
     ]
    }
   ],
   "source": [
    "12 / 0"
   ]
  },
  {
   "cell_type": "code",
   "execution_count": 46,
   "id": "9b000538",
   "metadata": {},
   "outputs": [
    {
     "data": {
      "text/plain": [
       "True"
      ]
     },
     "execution_count": 46,
     "metadata": {},
     "output_type": "execute_result"
    }
   ],
   "source": [
    "# lazy evaluation\n",
    "\n",
    "# funcoes: y = f(x)\n",
    "\n",
    "(a < 10 and f(122))\n",
    "\n",
    "(f(122) and a < 10)"
   ]
  },
  {
   "cell_type": "code",
   "execution_count": 38,
   "id": "f0f07f89",
   "metadata": {},
   "outputs": [
    {
     "data": {
      "text/plain": [
       "'não'"
      ]
     },
     "execution_count": 38,
     "metadata": {},
     "output_type": "execute_result"
    }
   ],
   "source": [
    "('não' or 'sim')"
   ]
  },
  {
   "cell_type": "code",
   "execution_count": 33,
   "id": "0c1377af",
   "metadata": {},
   "outputs": [
    {
     "name": "stdout",
     "output_type": "stream",
     "text": [
      "Você digitou uma opção inválida\n"
     ]
    }
   ],
   "source": [
    "seguro = 'sim'\n",
    " \n",
    "if seguro != ('sim' and 'não'):\n",
    "    print('Você digitou uma opção inválida')\n",
    "else:\n",
    "    print('Você digitou uma opção válida')"
   ]
  },
  {
   "cell_type": "markdown",
   "id": "66ea9548",
   "metadata": {},
   "source": [
    "> Você verá que ele nem sempre se comporta como você imaginaria. O Python não irá interpretar a condição do **if** como \"seguro diferente de 'sim' e seguro diferente de 'não'\", e sim como \"(seguro diferente de 'sim') e ('não').\n",
    "> \n",
    "> Isso ocorre porque no **if** temos uma expressão lógica do tipo\n",
    "\"expressão1 and expressão2\". Nossa expressão1 é \"seguro != 'sim'\", e nossa expressão2 é apenas a string 'não'. \n",
    "> \n",
    "> A expressão2 é, portanto, uma string não-vazia, portanto ela é *truthy*. O Python irá implicitamente convertê-la para o valor lógico **True**.\n",
    "Portanto, temos a expressão ```(seguro !='sim') and (True)```. Logo, a condição será verdadeira se ```seguro !='sim'``` e falsa caso contrário. Logo, se você digitar \"não\", a expressão é falsa e o programa dirá que você digitou algo inválido. \n",
    "> \n",
    "> Para evitar esse problema, você precisa ser explícito em suas condições:"
   ]
  },
  {
   "cell_type": "code",
   "execution_count": null,
   "id": "d7b838c6",
   "metadata": {},
   "outputs": [],
   "source": [
    "seguro = input('Deseja adquirir um seguro opcional (sim/não): ')\n",
    " \n",
    "if seguro != 'sim' and seguro != 'não':\n",
    "    print('Você não digitou uma opção válida')"
   ]
  },
  {
   "cell_type": "markdown",
   "id": "8889aa35",
   "metadata": {},
   "source": [
    "## Exercícios \n",
    "\n",
    "1. Escreva um programa que retorna a parte decimal de um número. O programa deve solicitar por teclado um número, se a parte decimal for 0 mostrar a mensagem 'O número informado é um inteiro.'. Se a parte decimal for diferente de 0, mostrar a mensagem 'A parte decimal é: x' ('x' é o valor decimal)."
   ]
  },
  {
   "cell_type": "code",
   "execution_count": 2,
   "id": "34c67807",
   "metadata": {},
   "outputs": [
    {
     "name": "stdout",
     "output_type": "stream",
     "text": [
      "0.23555550000000025\n",
      "A parte decimal é: 0.24\n"
     ]
    }
   ],
   "source": [
    "numero = 12.2355555\n",
    "\n",
    "parte_decimal = numero % 1\n",
    "\n",
    "print(parte_decimal)\n",
    "\n",
    "if parte_decimal == 0 :\n",
    "    print('O número informado é um inteiro')\n",
    "else:\n",
    "    print(f'A parte decimal é: {parte_decimal:.2f}')"
   ]
  },
  {
   "cell_type": "code",
   "execution_count": 11,
   "id": "245744ec",
   "metadata": {},
   "outputs": [
    {
     "name": "stdout",
     "output_type": "stream",
     "text": [
      "0.09999999999999997779553950750\n"
     ]
    }
   ],
   "source": [
    "from decimal import Decimal\n",
    "\n",
    "resultado = Decimal(0.3) - Decimal(0.2)\n",
    "\n",
    "print(resultado)"
   ]
  },
  {
   "cell_type": "code",
   "execution_count": 10,
   "id": "a5c9835a",
   "metadata": {},
   "outputs": [
    {
     "name": "stdout",
     "output_type": "stream",
     "text": [
      "Correto!\n"
     ]
    }
   ],
   "source": [
    "num1 = 0.6 \n",
    "num2 = 0.2\n",
    "\n",
    "if round(num1 - num2, 2) == 0.4:\n",
    "    print('Correto!')\n",
    "else:\n",
    "    print('Incorreto!')"
   ]
  },
  {
   "cell_type": "markdown",
   "id": "955c8cb3",
   "metadata": {},
   "source": [
    "2. Uma empresa decidiu dar bonificação de 5% ao funcionário se o seu tempo de serviço for superior a 5 anos. Pergunte ao usuário seu salário e anos de serviço e imprima o valor líquido do bônus."
   ]
  },
  {
   "cell_type": "code",
   "execution_count": 16,
   "id": "c37aa660",
   "metadata": {},
   "outputs": [
    {
     "name": "stdout",
     "output_type": "stream",
     "text": [
      "Parabéns pelos seus 6 anos!\n",
      "Seu novo salário passou a ser R$2100.00!\n",
      "Seu bônus foi de R$100.00\n"
     ]
    }
   ],
   "source": [
    "tempo_trabalhado = 6\n",
    "salario_atual = 2000\n",
    "\n",
    "percentual_bonus = 0.05\n",
    "tempo_bonus = 5\n",
    "\n",
    "bonus = salario_atual * percentual_bonus\n",
    "\n",
    "if tempo_trabalhado >= tempo_bonus:\n",
    "    salario_novo = salario_atual + (bonus)\n",
    "    print(f'Parabéns pelos seus {tempo_trabalhado} anos!\\nSeu novo salário passou a ser R${salario_novo:.2f}!\\nSeu bônus foi de R${bonus:.2f}')\n",
    "else:\n",
    "    tempo_bonus = tempo_bonus - tempo_trabalhado\n",
    "    print(f'Continue trabalhando duro que depois vai ganhar mais :)')"
   ]
  },
  {
   "cell_type": "markdown",
   "id": "077b806b",
   "metadata": {},
   "source": [
    "3. A Ada decidiu organizar um bolão para a copa do Mundo. As regras para atribuir pontos são as seguintes:\n",
    "\n",
    "- Acertar o placar exato dá 25 pontos.\n",
    "- Acertar o vencedor e o número de gols da equipe vencedora dá 18 pontos.\n",
    "- Acertar o vencedor e a diferença de gols entre o vencedor e perdedor dá 15 pontos.\n",
    "- Acertar que a partida terminaria em empate dá 15 pontos.\n",
    "- Acertar o time vencedor e o número de gols do time perdedor dá 12 pontos.\n",
    "- Acertar apenas o vencedor da partida dá 10 pontos.\n",
    "- Previu que o jogo seria um empate e não foi empate dá 4 pontos.\n",
    "- Qualquer outro caso, serão 0 pontos.\n",
    "\n",
    "Construa um programa que verifique quantos pontos a usuário ganhou em uma partida. O programa deve solicitar os valores do escore real e os valores preditos pelo usuário.\n",
    "\n",
    "Exemplos:\n",
    "\n",
    "O resultado do jogo foi: Time_A vs Time_B (2 - 3)\n",
    "\n",
    "- Para o palpite (1 - 3), o usuário ganha 18 pontos (acertou vencedor e numero de gols da equipe vencedora.)\n",
    "- Para o palpite (0 - 1), o usuário ganha 15 pontos (acertou vencedor e diferença de gols.)\n",
    "- Para o palpite (0 - 2), o usuário ganha 10 pontos (acertou unicamente o vencedor.)\n",
    "- Para o palpite (2 - 2), o usuário unicamente ganha 4 pontos.\n"
   ]
  },
  {
   "cell_type": "code",
   "execution_count": null,
   "id": "e030d031",
   "metadata": {},
   "outputs": [],
   "source": [
    "a_real = 2\n",
    "b_real = 3\n",
    "\n",
    "a_chute = 2\n",
    "b_chute = 2\n",
    "\n",
    "\n",
    "# Qual time venceu realmente\n",
    "\n",
    "if (b_real > a_real):\n",
    "    vencedor_real = 'time b'\n",
    "elif (b_real < a_real):\n",
    "    vencedor_real = 'time a'\n",
    "else:\n",
    "    vencedor_real = 'empate'\n",
    "\n",
    "# Qual time eu achei que ia ganhar\n",
    "    \n",
    "if (b_chute > a_chute):\n",
    "    vencedor_chute = 'time b'\n",
    "elif (b_chute < a_chute):\n",
    "    vencedor_chute = 'time a'\n",
    "else:\n",
    "    vencedor_chute = 'empate'\n",
    "    \n",
    "# Solucao\n",
    "\n",
    "if (vencedor_real == vencedor_chute):\n",
    "    \n",
    "    if (b_real == b_chute) and (a_real == a_chute):\n",
    "        print('Ganhou 25 pontos')\n",
    "        \n",
    "    elif (vencedor_real == 'time a'):\n",
    "        \n",
    "        if (a_real == a_chute):\n",
    "            print('Ganhou 18 pontos') \n",
    "            \n",
    "        elif (a_real - b_real) == (a_chute - b_chute):\n",
    "            print('Ganhou 15 pontos')\n",
    "            \n",
    "        elif (b_real == b_chute):\n",
    "            print('Ganhou 12 pontos')\n",
    "            \n",
    "        else :\n",
    "            print('Ganhou 10 pontos')\n",
    "            \n",
    "    elif (vencedor_real == 'time b'):\n",
    "        \n",
    "        if (b_real == b_chute):\n",
    "            print('Ganhou 18 pontos')\n",
    "            \n",
    "        elif (b_real - a_real) == (b_chute - a_chute):\n",
    "            print('Ganhou 15 pontos')\n",
    "            \n",
    "        elif (a_real == a_chute):\n",
    "            print('Ganhou 12 pontos')\n",
    "            \n",
    "        else:\n",
    "            print('Ganhou 10 pontos')\n",
    "            \n",
    "    elif (vencedor_real == 'empate'):\n",
    "        \n",
    "        print('Ganhou 10 pontos')\n",
    "        \n",
    "else:\n",
    "    if (vencedor_chute == 'empate'):\n",
    "        print('Ganhou 4 pontos.')\n",
    "        \n",
    "    else:\n",
    "        print('Ganhou 0 pontos.')    "
   ]
  }
 ],
 "metadata": {
  "kernelspec": {
   "display_name": "Python 3 (ipykernel)",
   "language": "python",
   "name": "python3"
  },
  "language_info": {
   "codemirror_mode": {
    "name": "ipython",
    "version": 3
   },
   "file_extension": ".py",
   "mimetype": "text/x-python",
   "name": "python",
   "nbconvert_exporter": "python",
   "pygments_lexer": "ipython3",
   "version": "3.11.2"
  }
 },
 "nbformat": 4,
 "nbformat_minor": 5
}
