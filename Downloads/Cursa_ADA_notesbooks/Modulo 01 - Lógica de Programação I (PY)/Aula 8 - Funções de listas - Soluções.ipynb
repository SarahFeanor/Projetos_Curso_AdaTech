{
 "cells": [
  {
   "cell_type": "markdown",
   "id": "e940193d",
   "metadata": {},
   "source": [
    "# Aula 8 - Funções de listas\n",
    " \n",
    "As listas possuem diversas funções prontas bastante úteis. Veremos algumas das mais usadas. Não se preocupe em _decorar_ todas elas: sempre podemos consultar nosso material quando precisarmos de um lembrete! Com tempo e prática você irá aos poucos memorizar algumas delas.\n",
    " \n",
    "## 1. Adicionando elementos\n",
    "Podemos adicionar novos elementos na lista de duas maneiras. A primeira delas, mais simples, é o _append_. Ele adiciona um elemento ao final da lista. Veja o exemplo abaixo:"
   ]
  },
  {
   "cell_type": "code",
   "execution_count": 1,
   "id": "3c297feb",
   "metadata": {},
   "outputs": [
    {
     "name": "stdout",
     "output_type": "stream",
     "text": [
      "[0, 2, 4, 6, 8, 10]\n"
     ]
    }
   ],
   "source": [
    "pares = [0, 2, 4, 6, 8]\n",
    "pares.append(10)\n",
    "print(pares) # resultado: [0, 2, 4, 6, 8, 10]"
   ]
  },
  {
   "cell_type": "code",
   "execution_count": 3,
   "id": "4d94bda4",
   "metadata": {},
   "outputs": [
    {
     "name": "stdout",
     "output_type": "stream",
     "text": [
      "[0, 2, 4, 6, 8, 10, 12, 12, 14, 16, 18, 20]\n"
     ]
    }
   ],
   "source": [
    "pares.append(12)\n",
    "pares.append(14)\n",
    "pares.append(16)\n",
    "pares.append(18)\n",
    "pares.append(20)\n",
    "\n",
    "print(pares)"
   ]
  },
  {
   "cell_type": "markdown",
   "id": "e5ef698c",
   "metadata": {},
   "source": [
    "Outra maneira é com o _insert_: além do elemento, ele recebe a **posição** do novo elemento. O primeiro parâmetro é a posição, e a segunda é o valor."
   ]
  },
  {
   "cell_type": "code",
   "execution_count": 4,
   "id": "ef581128",
   "metadata": {},
   "outputs": [
    {
     "name": "stdout",
     "output_type": "stream",
     "text": [
      "[0, 2, 4, 6, 8, 10]\n"
     ]
    }
   ],
   "source": [
    "pares = [0, 2, 4, 8, 10]\n",
    "pares.insert(3, 6) # (posição onde vai ser inserido, valor)\n",
    "print(pares) #resultado: [0, 2, 4, 6, 8, 10]"
   ]
  },
  {
   "cell_type": "code",
   "execution_count": 16,
   "id": "17534198",
   "metadata": {},
   "outputs": [
    {
     "name": "stdout",
     "output_type": "stream",
     "text": [
      "[0, 2, 4, 8, 10, 12]\n"
     ]
    }
   ],
   "source": [
    "pares = [0, 2, 4, 8, 10] # __, __\n",
    "\n",
    "pares.insert(5, 12)\n",
    "\n",
    "print(pares)"
   ]
  },
  {
   "cell_type": "code",
   "execution_count": 22,
   "id": "c1fac35a",
   "metadata": {},
   "outputs": [
    {
     "name": "stdout",
     "output_type": "stream",
     "text": [
      "[0, 2, 4, 8, 10, 12, 12, 12]\n"
     ]
    }
   ],
   "source": [
    "\n",
    "pares = [0, 2, 4, 8, 10]\n",
    "\n",
    "num_vezes = 3\n",
    "posicao = 5\n",
    "valor = 12\n",
    "\n",
    "for index in range(num_vezes):\n",
    "    pares.insert(posicao, valor)\n",
    "\n",
    "print(pares)"
   ]
  },
  {
   "cell_type": "markdown",
   "id": "a5882dcb",
   "metadata": {},
   "source": [
    "Note que o valor que ocupava a posição anteriormente não é substituído, mas \"empurrado\" para a próxima posição.\n",
    " \n",
    "## 2. Removendo elementos\n",
    "Podemos remover o elemento de 2 jeitos: por **valor** e por **posição**.\n",
    "O _remove_ irá remover o primeiro elemento encontrado na lista com um dado valor. Ex:"
   ]
  },
  {
   "cell_type": "code",
   "execution_count": 58,
   "id": "7146b965",
   "metadata": {},
   "outputs": [
    {
     "name": "stdout",
     "output_type": "stream",
     "text": [
      "[1, 5, 7, 9, 3]\n"
     ]
    }
   ],
   "source": [
    "impares = [1, 3, 5, 7, 9, 3]\n",
    "impares.remove(3)\n",
    "print(impares) # resultado: [1, 3, 5, 7, 9]"
   ]
  },
  {
   "cell_type": "markdown",
   "id": "9169d4d3",
   "metadata": {},
   "source": [
    "O _pop_ remove o elemento que estiver em uma dada posição, independentemente de seu valor:"
   ]
  },
  {
   "cell_type": "code",
   "execution_count": 27,
   "id": "0a51f833",
   "metadata": {},
   "outputs": [
    {
     "name": "stdout",
     "output_type": "stream",
     "text": [
      "[1, 3, 5, 7, 9, 10, 11]\n"
     ]
    }
   ],
   "source": [
    "impares = [1, 3, 5, 7, 8, 9, 10, 11]\n",
    "impares.pop(4)\n",
    "print(impares) # resultado: [1, 3, 5, 7, 9]"
   ]
  },
  {
   "cell_type": "code",
   "execution_count": 53,
   "id": "df7ad150",
   "metadata": {},
   "outputs": [
    {
     "name": "stdout",
     "output_type": "stream",
     "text": [
      "[1, 3, 5, 7, 8, 9, 10, 11, 1, 2, 3]\n"
     ]
    }
   ],
   "source": [
    "impares = [1, 3, 5, 7, 8, 9, 10, 11]\n",
    "\n",
    "impares.extend([1, 2, 3])\n",
    "\n",
    "print(impares)\n"
   ]
  },
  {
   "cell_type": "code",
   "execution_count": 59,
   "id": "e19c227a",
   "metadata": {},
   "outputs": [
    {
     "name": "stdout",
     "output_type": "stream",
     "text": [
      "[1, 3, 5, 7, 8, 9, 10]\n"
     ]
    }
   ],
   "source": [
    "impares = [1, 3, 5, 7, 8, 9, 10, 11]\n",
    "\n",
    "impares.pop(7)\n",
    "\n",
    "print(impares)"
   ]
  },
  {
   "cell_type": "code",
   "execution_count": 68,
   "id": "b0ce7790",
   "metadata": {},
   "outputs": [
    {
     "data": {
      "text/plain": [
       "[12, 0.5, True, 'Jorge']"
      ]
     },
     "execution_count": 68,
     "metadata": {},
     "output_type": "execute_result"
    }
   ],
   "source": [
    "lista = [12, 0.5, True, 'Jorge']\n",
    "\n",
    "lista"
   ]
  },
  {
   "cell_type": "code",
   "execution_count": 69,
   "id": "ea8a226b",
   "metadata": {},
   "outputs": [
    {
     "name": "stdout",
     "output_type": "stream",
     "text": [
      "[1, 3, 5, [1, 2, 3], 7, 8, 9, 10, 11]\n"
     ]
    }
   ],
   "source": [
    "impares = [1, 3, 5, 7, 8, 9, 10, 11]\n",
    "\n",
    "impares.insert(3, [1, 2, 3])\n",
    "\n",
    "print(impares) "
   ]
  },
  {
   "cell_type": "code",
   "execution_count": 64,
   "id": "55b1b679",
   "metadata": {},
   "outputs": [
    {
     "name": "stdout",
     "output_type": "stream",
     "text": [
      "[1, 3, 5, 7, 8, 9, 10, 1, 2, 3, 1, 2, 3, 1, 2, 3]\n"
     ]
    }
   ],
   "source": [
    "impares.extend(( 1,2,3 ))\n",
    "\n",
    "impares.extend([1])\n",
    "\n",
    "impares.extend([2])\n",
    "\n",
    "\n",
    "impares.extend([3])\n",
    "\n",
    "\n",
    "print(impares)"
   ]
  },
  {
   "cell_type": "code",
   "execution_count": null,
   "id": "03136fcf",
   "metadata": {},
   "outputs": [],
   "source": []
  },
  {
   "cell_type": "markdown",
   "id": "7ffa5338",
   "metadata": {},
   "source": [
    "> Se nenhum valor for passado no pop, ele irá remover necessariamente o último elemento da lista.\n",
    " \n",
    "## 3. Ordenando a lista\n",
    "Podemos ordenar a lista usando o _sort_."
   ]
  },
  {
   "cell_type": "code",
   "execution_count": 72,
   "id": "287e139d",
   "metadata": {},
   "outputs": [
    {
     "name": "stdout",
     "output_type": "stream",
     "text": [
      "[0, 1, 1, 2, 3, 5, 8, 13]\n",
      "[8, 1, 0, 5, 13, 1, 3, 2]\n"
     ]
    }
   ],
   "source": [
    "fibonacci = [8, 1, 0, 5, 13, 1, 3, 2]\n",
    "\n",
    "fibonacci_copia = fibonacci.copy()\n",
    "\n",
    "fibonacci_copia.sort()\n",
    "\n",
    "print(fibonacci_copia) # resultado: [0, 1, 1, 2, 3, 5, 8, 13]\n",
    "\n",
    "print(fibonacci)"
   ]
  },
  {
   "cell_type": "markdown",
   "id": "6acd1380",
   "metadata": {},
   "source": [
    "Caso desejássemos ordenar em ordem decrescente, podemos passar a opção ```reverse = True``` para o _sort_:"
   ]
  },
  {
   "cell_type": "code",
   "execution_count": 73,
   "id": "b33af3c6",
   "metadata": {},
   "outputs": [
    {
     "name": "stdout",
     "output_type": "stream",
     "text": [
      "[13, 8, 5, 3, 2, 1, 1, 0]\n"
     ]
    }
   ],
   "source": [
    "fibonacci = [8, 1, 0, 5, 13, 1, 3, 2]\n",
    "fibonacci.sort(reverse = True)\n",
    "print(fibonacci) # resultado: [13, 8, 5, 3, 2, 1, 1, 0]"
   ]
  },
  {
   "cell_type": "code",
   "execution_count": 83,
   "id": "03b88d08",
   "metadata": {},
   "outputs": [
    {
     "name": "stdout",
     "output_type": "stream",
     "text": [
      "97\n",
      "65\n"
     ]
    }
   ],
   "source": [
    "print(ord('a'))\n",
    "\n",
    "print(ord('A'))\n",
    "\n",
    "# A, B, C, D, ...., Z, a, b, c, ..., z"
   ]
  },
  {
   "cell_type": "code",
   "execution_count": 74,
   "id": "70e7a69e",
   "metadata": {},
   "outputs": [
    {
     "name": "stdout",
     "output_type": "stream",
     "text": [
      "['jorge', 'Valter', 'Thiago', 'Matheus', 'Jorge']\n"
     ]
    }
   ],
   "source": [
    "fibonacci = ['jorge', 'Jorge', 'Thiago', 'Valter', 'Matheus']\n",
    "fibonacci.sort(reverse = True)\n",
    "print(fibonacci) \n",
    "\n",
    "# Ascci: 'j', 'J' '0', '_'"
   ]
  },
  {
   "cell_type": "markdown",
   "id": "31a7494b",
   "metadata": {},
   "source": [
    "> **Importante:** o _sort_ só irá funcionar caso sua lista possua apenas elementos que podem ser comparados entre si (apenas _strings_ ou apenas números, por exemplo). Se uma lista contém tanto _strings_ quanto números, o _sort_ não saberá o que vem primeiro.\n",
    " \n",
    "Um problema do _sort_ é que ele irá reordenar a própria lista. Muitas vezes precisamos preservar a lista original, e obter uma nova com a ordenação desejada. Neste caso, podemos utilizar o _sorted_:"
   ]
  },
  {
   "cell_type": "code",
   "execution_count": 84,
   "id": "82545027",
   "metadata": {},
   "outputs": [
    {
     "name": "stdout",
     "output_type": "stream",
     "text": [
      "[0, 1, 1, 2, 3, 5, 8, 13] [8, 1, 0, 5, 13, 1, 3, 2]\n"
     ]
    }
   ],
   "source": [
    "fibonacci = [8, 1, 0, 5, 13, 1, 3, 2]\n",
    "fibonacci_ordenada = sorted(fibonacci)\n",
    "\n",
    "# fibonacci_ordenada =  fibonacci.copy()\n",
    "# fibonacci_ordenada.sort()\n",
    "\n",
    "print(fibonacci_ordenada, fibonacci) # resultado: [0, 1, 1, 2, 3, 5, 8, 13] [8, 1, 0, 5, 13, 1, 3, 2]"
   ]
  },
  {
   "cell_type": "markdown",
   "id": "ace28532",
   "metadata": {},
   "source": [
    "O _sorted_ também aceita o parâmetro _reverse_ para aplicar ordem decrescente.\n",
    " \n",
    "Falando em ordem decrescente, é possível simplesmente inverter a ordem dos elementos de uma lista utilizando o _reverse_:"
   ]
  },
  {
   "cell_type": "code",
   "execution_count": 99,
   "id": "601c8b6f",
   "metadata": {},
   "outputs": [
    {
     "ename": "TypeError",
     "evalue": "'<' not supported between instances of 'int' and 'str'",
     "output_type": "error",
     "traceback": [
      "\u001b[1;31m---------------------------------------------------------------------------\u001b[0m",
      "\u001b[1;31mTypeError\u001b[0m                                 Traceback (most recent call last)",
      "\u001b[1;32mc:\\Users\\jcham\\Downloads\\Ada\\Logica de Programacao I\\Aula 8\\Aula 8 - Funções de listas - Aula.ipynb Cell 27\u001b[0m line \u001b[0;36m1\n\u001b[1;32m----> <a href='vscode-notebook-cell:/c%3A/Users/jcham/Downloads/Ada/Logica%20de%20Programacao%20I/Aula%208/Aula%208%20-%20Fun%C3%A7%C3%B5es%20de%20listas%20-%20Aula.ipynb#X55sZmlsZQ%3D%3D?line=0'>1</a>\u001b[0m \u001b[39m4\u001b[39;49m \u001b[39m<\u001b[39;49m \u001b[39m'\u001b[39;49m\u001b[39mdois\u001b[39;49m\u001b[39m'\u001b[39;49m\n",
      "\u001b[1;31mTypeError\u001b[0m: '<' not supported between instances of 'int' and 'str'"
     ]
    }
   ],
   "source": [
    "4 < 'dois'"
   ]
  },
  {
   "cell_type": "code",
   "execution_count": 111,
   "id": "6378fef5",
   "metadata": {},
   "outputs": [
    {
     "data": {
      "text/plain": [
       "245"
      ]
     },
     "execution_count": 111,
     "metadata": {},
     "output_type": "execute_result"
    }
   ],
   "source": [
    "int('245')"
   ]
  },
  {
   "cell_type": "code",
   "execution_count": 112,
   "id": "9a6f724a",
   "metadata": {},
   "outputs": [
    {
     "ename": "TypeError",
     "evalue": "'<' not supported between instances of 'list' and 'int'",
     "output_type": "error",
     "traceback": [
      "\u001b[1;31m---------------------------------------------------------------------------\u001b[0m",
      "\u001b[1;31mTypeError\u001b[0m                                 Traceback (most recent call last)",
      "\u001b[1;32mc:\\Users\\jcham\\Downloads\\Ada\\Logica de Programacao I\\Aula 8\\Aula 8 - Funções de listas - Aula.ipynb Cell 29\u001b[0m line \u001b[0;36m2\n\u001b[0;32m      <a href='vscode-notebook-cell:/c%3A/Users/jcham/Downloads/Ada/Logica%20de%20Programacao%20I/Aula%208/Aula%208%20-%20Fun%C3%A7%C3%B5es%20de%20listas%20-%20Aula.ipynb#X22sZmlsZQ%3D%3D?line=0'>1</a>\u001b[0m lista \u001b[39m=\u001b[39m [\u001b[39m1\u001b[39m, \u001b[39m5\u001b[39m, [\u001b[39m1\u001b[39m, \u001b[39m2\u001b[39m], \u001b[39m4\u001b[39m, \u001b[39m3.14\u001b[39m]\n\u001b[1;32m----> <a href='vscode-notebook-cell:/c%3A/Users/jcham/Downloads/Ada/Logica%20de%20Programacao%20I/Aula%208/Aula%208%20-%20Fun%C3%A7%C3%B5es%20de%20listas%20-%20Aula.ipynb#X22sZmlsZQ%3D%3D?line=1'>2</a>\u001b[0m lista\u001b[39m.\u001b[39;49msort()\n\u001b[0;32m      <a href='vscode-notebook-cell:/c%3A/Users/jcham/Downloads/Ada/Logica%20de%20Programacao%20I/Aula%208/Aula%208%20-%20Fun%C3%A7%C3%B5es%20de%20listas%20-%20Aula.ipynb#X22sZmlsZQ%3D%3D?line=2'>3</a>\u001b[0m \u001b[39mprint\u001b[39m(lista) \u001b[39m# resultado: [3.14, 4, 'dois', 5, 1]\u001b[39;00m\n",
      "\u001b[1;31mTypeError\u001b[0m: '<' not supported between instances of 'list' and 'int'"
     ]
    }
   ],
   "source": [
    "lista = [1, 5, [1, 2], 4, 3.14]\n",
    "lista.sort()\n",
    "print(lista) # resultado: [3.14, 4, 'dois', 5, 1]"
   ]
  },
  {
   "cell_type": "code",
   "execution_count": 96,
   "id": "a41ae81c",
   "metadata": {},
   "outputs": [
    {
     "data": {
      "text/plain": [
       "[5, 4, 3, 2, 1]"
      ]
     },
     "execution_count": 96,
     "metadata": {},
     "output_type": "execute_result"
    }
   ],
   "source": [
    "lista = [1, 2, 3, 4, 5]\n",
    "lista[::-1]"
   ]
  },
  {
   "cell_type": "markdown",
   "id": "07247ae8",
   "metadata": {},
   "source": [
    "## 4. Buscando um elemento\n",
    "Podemos buscar um elemento (descobrir sua posição) utilizando a função _index_. Ela irá informar a **primeira** posição onde um elemento for encontrado:"
   ]
  },
  {
   "cell_type": "code",
   "execution_count": 120,
   "id": "dc526dc8",
   "metadata": {},
   "outputs": [
    {
     "name": "stdout",
     "output_type": "stream",
     "text": [
      "9\n"
     ]
    }
   ],
   "source": [
    "pi = [3, 1, 4, 1, '4564', 9, 2, 6, 'a', 5]\n",
    "\n",
    "elemento_procurado = 5\n",
    "\n",
    "posicao = pi.index(elemento_procurado)\n",
    "    \n",
    "print(posicao) # resultado: 4"
   ]
  },
  {
   "cell_type": "code",
   "execution_count": 118,
   "id": "ed089f06",
   "metadata": {},
   "outputs": [
    {
     "name": "stdout",
     "output_type": "stream",
     "text": [
      "4\n"
     ]
    }
   ],
   "source": [
    "posicao = pi.index(elemento_procurado)\n",
    "    \n",
    "print(posicao) # resultado: 4"
   ]
  },
  {
   "cell_type": "code",
   "execution_count": 121,
   "id": "085894cc",
   "metadata": {},
   "outputs": [
    {
     "name": "stdout",
     "output_type": "stream",
     "text": [
      "[4, 8]\n"
     ]
    }
   ],
   "source": [
    "# retornando todas as posicoes onde o elemento procurado está\n",
    "\n",
    "pi = [3, 1, 4, 1, 5, 9, 2, 6, 5]\n",
    "\n",
    "elemento_procurado = 5\n",
    "\n",
    "copia_pi = pi.copy()\n",
    "\n",
    "ans = []\n",
    "\n",
    "# elemento 5\n",
    "while (elemento_procurado in copia_pi):\n",
    "    posicao = copia_pi.index(elemento_procurado)\n",
    "    ans.append(posicao)\n",
    "    copia_pi[posicao] = 'C'\n",
    "    \n",
    "print(ans)"
   ]
  },
  {
   "cell_type": "code",
   "execution_count": 125,
   "id": "f6b6b53c",
   "metadata": {},
   "outputs": [
    {
     "ename": "ValueError",
     "evalue": "20 is not in list",
     "output_type": "error",
     "traceback": [
      "\u001b[1;31m---------------------------------------------------------------------------\u001b[0m",
      "\u001b[1;31mValueError\u001b[0m                                Traceback (most recent call last)",
      "\u001b[1;32mc:\\Users\\jcham\\Downloads\\Ada\\Logica de Programacao I\\Aula 8\\Aula 8 - Funções de listas - Aula.ipynb Cell 35\u001b[0m line \u001b[0;36m3\n\u001b[0;32m      <a href='vscode-notebook-cell:/c%3A/Users/jcham/Downloads/Ada/Logica%20de%20Programacao%20I/Aula%208/Aula%208%20-%20Fun%C3%A7%C3%B5es%20de%20listas%20-%20Aula.ipynb#X61sZmlsZQ%3D%3D?line=0'>1</a>\u001b[0m pi \u001b[39m=\u001b[39m [\u001b[39m3\u001b[39m, \u001b[39m1\u001b[39m, \u001b[39m4\u001b[39m, \u001b[39m1\u001b[39m, \u001b[39m5\u001b[39m, \u001b[39m9\u001b[39m, \u001b[39m2\u001b[39m, \u001b[39m6\u001b[39m, \u001b[39m5\u001b[39m]\n\u001b[1;32m----> <a href='vscode-notebook-cell:/c%3A/Users/jcham/Downloads/Ada/Logica%20de%20Programacao%20I/Aula%208/Aula%208%20-%20Fun%C3%A7%C3%B5es%20de%20listas%20-%20Aula.ipynb#X61sZmlsZQ%3D%3D?line=2'>3</a>\u001b[0m pi\u001b[39m.\u001b[39;49mindex(\u001b[39m20\u001b[39;49m)\n",
      "\u001b[1;31mValueError\u001b[0m: 20 is not in list"
     ]
    }
   ],
   "source": [
    "pi = [3, 1, 4, 1, 5, 9, 2, 6, 5]\n",
    "\n",
    "pi.index(20)"
   ]
  },
  {
   "cell_type": "markdown",
   "id": "a37ad0d6",
   "metadata": {},
   "source": [
    "> **Atenção:** caso o elemento buscado não exista, a função *index* dará erro. Considere utilizar o *in* para verificar se o elemento existe na lista antes de usar o *index*.\n",
    " \n",
    "## 5. Informações sobre a lista\n",
    "Podemos obter alguns dados sobre a nossa lista: seu tamanho atual (_len_), seu maior valor (_max_) e seu menor valor (_min_)."
   ]
  },
  {
   "cell_type": "code",
   "execution_count": 126,
   "id": "9dd76c0e",
   "metadata": {},
   "outputs": [
    {
     "name": "stdout",
     "output_type": "stream",
     "text": [
      "8 9 1 31\n"
     ]
    }
   ],
   "source": [
    "pi = [3, 1, 4, 1, 5, 9, 2, 6]\n",
    "tamanho = len(pi)\n",
    "maior = max(pi)\n",
    "menor = min(pi)\n",
    "soma = sum(pi)\n",
    "print(tamanho, maior, menor, soma) # resultado: 8 9 1"
   ]
  },
  {
   "cell_type": "code",
   "execution_count": 132,
   "id": "2329e42f",
   "metadata": {},
   "outputs": [
    {
     "ename": "TypeError",
     "evalue": "can only concatenate str (not \"float\") to str",
     "output_type": "error",
     "traceback": [
      "\u001b[1;31m---------------------------------------------------------------------------\u001b[0m",
      "\u001b[1;31mTypeError\u001b[0m                                 Traceback (most recent call last)",
      "\u001b[1;32mc:\\Users\\jcham\\Downloads\\Ada\\Logica de Programacao I\\Aula 8\\Aula 8 - Funções de listas - Aula.ipynb Cell 38\u001b[0m line \u001b[0;36m1\n\u001b[1;32m----> <a href='vscode-notebook-cell:/c%3A/Users/jcham/Downloads/Ada/Logica%20de%20Programacao%20I/Aula%208/Aula%208%20-%20Fun%C3%A7%C3%B5es%20de%20listas%20-%20Aula.ipynb#X62sZmlsZQ%3D%3D?line=0'>1</a>\u001b[0m \u001b[39m'\u001b[39;49m\u001b[39mJorge\u001b[39;49m\u001b[39m'\u001b[39;49m \u001b[39m+\u001b[39;49m \u001b[39m3.14\u001b[39;49m\n",
      "\u001b[1;31mTypeError\u001b[0m: can only concatenate str (not \"float\") to str"
     ]
    }
   ],
   "source": [
    "'Jorge' + 3.14 \n",
    "# java >  'Jorge3.14'\n",
    "# python > erro"
   ]
  },
  {
   "cell_type": "code",
   "execution_count": 157,
   "id": "d86fb164",
   "metadata": {},
   "outputs": [
    {
     "data": {
      "text/plain": [
       "False"
      ]
     },
     "execution_count": 157,
     "metadata": {},
     "output_type": "execute_result"
    }
   ],
   "source": [
    "[1, 2, 4, 0] < [1, 2, 4]"
   ]
  },
  {
   "cell_type": "code",
   "execution_count": 145,
   "id": "da09c9de",
   "metadata": {},
   "outputs": [
    {
     "data": {
      "text/plain": [
       "'String1String2'"
      ]
     },
     "execution_count": 145,
     "metadata": {},
     "output_type": "execute_result"
    }
   ],
   "source": [
    "'String1' + 'String2' "
   ]
  },
  {
   "cell_type": "code",
   "execution_count": 161,
   "id": "856e4857",
   "metadata": {},
   "outputs": [
    {
     "data": {
      "text/plain": [
       "[1, 2, 3]"
      ]
     },
     "execution_count": 161,
     "metadata": {},
     "output_type": "execute_result"
    }
   ],
   "source": [
    "listona = [[4,5,6], [1,2,3]]\n",
    "\n",
    "sum(listona)\n"
   ]
  },
  {
   "cell_type": "code",
   "execution_count": 135,
   "id": "ed832ec9",
   "metadata": {},
   "outputs": [
    {
     "name": "stdout",
     "output_type": "stream",
     "text": [
      "7.140000000000001\n"
     ]
    }
   ],
   "source": [
    "lista = [3, 3.14, True]\n",
    "soma = sum(lista)\n",
    "\n",
    "print(soma)"
   ]
  },
  {
   "cell_type": "code",
   "execution_count": 168,
   "id": "d1f373d2",
   "metadata": {},
   "outputs": [
    {
     "data": {
      "text/plain": [
       "53"
      ]
     },
     "execution_count": 168,
     "metadata": {},
     "output_type": "execute_result"
    }
   ],
   "source": [
    "ord('5')"
   ]
  },
  {
   "cell_type": "markdown",
   "id": "42b90cb8",
   "metadata": {},
   "source": [
    "### Exercício 1:\n",
    "\n",
    "Existe uma linguagem de programação com apenas quatro operações e uma variável X:\n",
    "\n",
    "- ```++X``` e ```X++``` incrementam o valor da variável X em 1.\n",
    "- ```--X``` e ```X--``` decrementa o valor da variável X em 1.\n",
    "\n",
    "Inicialmente, o valor de X é 0.\n",
    "\n",
    "Dada uma lista de strings de operações contendo uma lista de operações, retorne o valor final de X após realizar todas as operações.\n",
    "\n",
    " \n",
    "\n",
    "#### Exemplo 1:\n",
    "\n",
    "- **Entrada:** operações = [\"--X\",\"X++\",\"X++\"]\n",
    "- **Saída:** 1\n",
    "\n",
    "_Explicação:_ As operações são executadas da seguinte forma:\n",
    "- Inicialmente, X = 0.\n",
    "- ```--X:``` X é decrementado em 1, X = 0 - 1 = -1.\n",
    "- ```X++:``` X é incrementado em 1, X = -1 + 1 = 0.\n",
    "- ```X++:``` X é incrementado em 1, X = 0 + 1 = 1.\n",
    "\n",
    "#### Exemplo 2:\n",
    "\n",
    "**Entrada:** operações = [\"++X\",\"++X\",\"X++\"]\n",
    "\n",
    "**Saída:** 3\n",
    "\n",
    "_Explicação:_ As operações são executadas da seguinte forma:\n",
    "- Inicialmente, X = 0.\n",
    "- ```++X:``` X é incrementado em 1, X = 0 + 1 = 1.\n",
    "- ```++X:``` X é incrementado em 1, X = 1 + 1 = 2.\n",
    "- ```X++:``` X é incrementado em 1, X = 2 + 1 = 3."
   ]
  },
  {
   "cell_type": "code",
   "execution_count": null,
   "id": "8a984789",
   "metadata": {},
   "outputs": [],
   "source": [
    "operacoes = [\"++X\",\"++X\",\"X++\"]\n",
    "\n",
    "x = 0\n",
    "\n",
    "for operacao in operacoes:\n",
    "    if operacao == '++X' or operacao == 'X++':\n",
    "        x = x + 1\n",
    "    elif operacao == '--X' or operacao == 'X--':\n",
    "        x = x - 1\n",
    "    else:\n",
    "        print(f'A operacao {operacao} nao eh valida.')\n",
    "\n",
    "print(f'O valor final da variavel X foi {x}.')"
   ]
  },
  {
   "cell_type": "markdown",
   "id": "759ee4fc",
   "metadata": {},
   "source": [
    "### Exercício 2:\n",
    "\n",
    "Dada uma lista de inteiros 'nums', retorne o número de pares bons.\n",
    "\n",
    "Um ```par (i, j)``` é considerado bom se ```nums[i] == nums[j]``` e ```i < j```.\n",
    "\n",
    " \n",
    "\n",
    "#### Exemplo 1:\n",
    "\n",
    "- **Entrada:** nums = [1,2,3,1,1,3]\n",
    "- **Saída:** 4\n",
    "\n",
    "_Explicação:_ Existem 4 pares bons (0,3), (0,4), (3,4), (2,5).\n",
    "\n",
    "#### Exemplo 2:\n",
    "\n",
    "- **Entrada:** nums = [1,1,1,1]\n",
    "- **Saída:** 6\n",
    "\n",
    "_Explicação:_ Cada par na matriz é bom."
   ]
  },
  {
   "cell_type": "code",
   "execution_count": null,
   "id": "8d7bddb1",
   "metadata": {},
   "outputs": [],
   "source": [
    "nums = [1,1,1,1]\n",
    "\n",
    "resposta = 0\n",
    "\n",
    "# Usamos um for aninhado para montar todos os pares possíveis (i, j)\n",
    "for i in range(0, len(nums)):\n",
    "    for j in range(i + 1, len(nums)): # Note que o range começa em 'i + i'\n",
    "        # Como já está garantido que i < j ('j' começou com 'i + i')\n",
    "        if nums[i] == nums[j]:\n",
    "            # Se a cumpre a condição, aumentamos o contador de pares bons\n",
    "            print(f'{i} - {j}')\n",
    "            resposta = resposta + 1\n",
    "            \n",
    "print(f'O numero de pares bons eh {resposta}.')"
   ]
  }
 ],
 "metadata": {
  "kernelspec": {
   "display_name": "Python 3 (ipykernel)",
   "language": "python",
   "name": "python3"
  },
  "language_info": {
   "codemirror_mode": {
    "name": "ipython",
    "version": 3
   },
   "file_extension": ".py",
   "mimetype": "text/x-python",
   "name": "python",
   "nbconvert_exporter": "python",
   "pygments_lexer": "ipython3",
   "version": "3.11.2"
  }
 },
 "nbformat": 4,
 "nbformat_minor": 5
}
