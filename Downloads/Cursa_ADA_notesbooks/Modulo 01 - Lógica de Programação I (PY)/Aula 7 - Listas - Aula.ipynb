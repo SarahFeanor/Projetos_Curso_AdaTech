{
 "cells": [
  {
   "cell_type": "markdown",
   "id": "1d01eb33",
   "metadata": {},
   "source": [
    "# Aula 7 - Listas\n",
    "Já fizemos alguns programas para ler 2 ou 3 notas e calcular a média. Inclusive já fomos além e aprendemos a verificar se o aluno passou ou não. Vamos rever um exemplo desses:"
   ]
  },
  {
   "cell_type": "code",
   "execution_count": null,
   "id": "633ee059",
   "metadata": {},
   "outputs": [],
   "source": [
    "nota1 = float(input('Digite a primeira nota: '))\n",
    "nota2 = float(input('Digite a segunda nota: '))\n",
    " \n",
    "media = (nota1 + nota2)/2\n",
    " \n",
    "print(media)"
   ]
  },
  {
   "cell_type": "markdown",
   "id": "dae7e4ca",
   "metadata": {},
   "source": [
    "Simples, certo? Mas e se a regra da escola mudasse, e agora cada professor precisasse aplicar 4 provas? Modificaríamos nosso programa:"
   ]
  },
  {
   "cell_type": "code",
   "execution_count": null,
   "id": "12a4c7e5",
   "metadata": {},
   "outputs": [],
   "source": [
    "nota1 = float(input('Digite a primeira nota: '))\n",
    "nota2 = float(input('Digite a segunda nota: '))\n",
    "nota3 = float(input('Digite a terceira nota: '))\n",
    "nota4 = float(input('Digite a quarta nota: '))\n",
    " \n",
    "media = (nota1 + nota2 + nota3 + nota4)/4\n",
    " \n",
    "print(media)"
   ]
  },
  {
   "cell_type": "markdown",
   "id": "239fc0fe",
   "metadata": {},
   "source": [
    "Até aqui tudo bem. Mas e se o objetivo fosse testar o quanto o professor consegue ensinar? Para isso, poderíamos calcular a média das médias de todos os alunos do professor. Mas e se o professor trabalha em uma faculdade muito grande e suas turmas têm 80 alunos?"
   ]
  },
  {
   "cell_type": "code",
   "execution_count": null,
   "id": "77161eb1",
   "metadata": {},
   "outputs": [],
   "source": [
    "aluno1 = float(input('Digite a nota do aluno 1: '))\n",
    "aluno2 = float(input('Digite a nota do aluno 2: '))\n",
    "aluno3 = float(input('Digite a nota do aluno 3: '))\n",
    "aluno4 = float(input('Digite a nota do aluno 4: '))\n",
    "aluno5 = float(input('Digite a nota do aluno 5: '))\n",
    "aluno6 = float(input('Digite a nota do aluno 6: '))\n",
    "aluno7 = float(input('Digite a nota do aluno 7: '))\n",
    "aluno8 = float(input('Digite a nota do aluno 8: '))\n",
    "aluno9 = float(input('Digite a nota do aluno 9: '))\n",
    "aluno10 = float(input('Digite a nota do aluno 10: '))\n",
    " \n",
    "# ...\n",
    " \n",
    "'''\n",
    "Nota do programador: eu me demito.\n",
    "Não ganho bem o suficiente para ISSO!\n",
    "'''"
   ]
  },
  {
   "cell_type": "markdown",
   "id": "265fc2f3",
   "metadata": {},
   "source": [
    "Para trabalhar com poucos valores, é fácil e conveniente criar uma variável para cada valor e realizar operações individualmente sobre cada uma. Porém, dizemos que esse tipo de solução não é _escalável_: o programa não está preparado para lidar com variações no tamanho da base de dados, e modificá-lo para comportá-las pode ser difícil, trabalhoso ou mesmo inviável. \n",
    "\n",
    "Imagine se para cada novo perfil em uma rede social o estagiário precisasse criar uma variável nova para o nome, uma para o e-mail, uma para a data de nascimento, e assim sucessivamente... E depois ainda precisasse de linhas novas de código para ler cada um desses valores do novo usuário!\n",
    " \n",
    "## 1. Listas\n",
    "É aí que entram as listas. Listas são _coleções de objetos_ em Python. Falando de maneira simplificada, são variáveis que comportam diversos valores ao mesmo tempo.  Vejamos alguns jeitos de criar listas em Python:\n"
   ]
  },
  {
   "cell_type": "code",
   "execution_count": null,
   "id": "88859826",
   "metadata": {},
   "outputs": [],
   "source": [
    "primeira_lista = [] # cria uma lista vazia\n",
    "segunda_lista = list() # cria uma lista vazia\n",
    "terceira_lista = [1, 3.14, 5, 7, 9, 'onze'] # lista com valores"
   ]
  },
  {
   "cell_type": "markdown",
   "id": "c2b03287",
   "metadata": {},
   "source": [
    "Note que podemos misturar tipos de dados. A ```terceira_lista``` possui 4 **int**, um **float** e uma **str**.\n",
    " \n",
    "Bom, e agora, como fazemos para acessar cada valor? Podemos imaginar a lista da seguinte maneira: imagine que ao invés de ter uma caixa para guardar cada item, temos uma cômoda com várias gavetas. Cada item está em uma gaveta. Não estamos acostumados a dizer que algo está na terceira gaveta do armário? A ideia é a mesma: a lista é uma coleção **indexada**, ou seja, podemos acessar cada elemento através de **índices**, que são números indicando a posição.\n",
    "A indexação é automática e começa a partir do zero:\n",
    " \n",
    "| elemento | 1 | 3.14 | 5 | 7 | 9 | onze |\n",
    "|:--------:|:-:|:----:|:-:|:-:|:-:|:--:|\n",
    "|  índice  | 0 |   1  | 2 | 3 | 4 |  5 |\n",
    " \n",
    "Portanto, para acessar o elemento \"7\" da nossa lista, utilizaríamos o índice 3. Informamos o índice entre colchetes:"
   ]
  },
  {
   "cell_type": "code",
   "execution_count": null,
   "id": "51db8b00",
   "metadata": {},
   "outputs": [],
   "source": [
    "terceira_lista = [1, 3.14, 5, 7, 9, 'onze'] # lista com valores\n",
    "\n",
    "print(terceira_lista[3])"
   ]
  },
  {
   "cell_type": "markdown",
   "id": "a8bce05c",
   "metadata": {},
   "source": [
    "A lista é mutável. Isso significa que podemos modificar os valores já existentes:"
   ]
  },
  {
   "cell_type": "code",
   "execution_count": null,
   "id": "8894a745",
   "metadata": {},
   "outputs": [],
   "source": [
    "terceira_lista = [1, 3.14, 5, 7, 9, 'onze'] # lista com valores\n",
    "terceira_lista[3] = 'sete' # troca 7 por 'sete' na lista\n",
    "print(terceira_lista)"
   ]
  },
  {
   "cell_type": "markdown",
   "id": "25b3970e",
   "metadata": {},
   "source": [
    "> É possível utilizar índices negativos. ```lista[-1]``` pega o último elemento, ```lista[-2]``` o penúltimo, e assim sucessivamente. Mas **não** é possível acessar índices iguais ou superiores ao tamanho da lista. A tentativa de acessar um índice inexistente resultará em erro.\n",
    " \n",
    "# 2. Quebrando listas\n",
    "É possível pegar subconjuntos de nossas listas utilizando o conceito de _slices_. Ao invés de passar apenas 1 valor entre colchetes (o índice desejado), podemos passar faixas de valores. Veja o exemplo abaixo:"
   ]
  },
  {
   "cell_type": "code",
   "execution_count": null,
   "id": "62632f96",
   "metadata": {},
   "outputs": [],
   "source": [
    "impares = [1, 3, 5, 7, 9, 11, 13, 15, 17]\n",
    "meio = impares[3:6]\n",
    "print(meio) # resultado na tela: [7, 9, 11]"
   ]
  },
  {
   "cell_type": "markdown",
   "id": "05b36016",
   "metadata": {},
   "source": [
    "O primeiro valor é o índice inicial da _sublista_ a ser gerada, e o segundo é o índice final (exclusivo). Podemos omitir um desses valores para indicar que será desde o início ou até o final:"
   ]
  },
  {
   "cell_type": "code",
   "execution_count": null,
   "id": "0b707f0b",
   "metadata": {},
   "outputs": [],
   "source": [
    "impares = [1, 3, 5, 7, 9, 11, 13, 15, 17, 19]\n",
    "primeira_metade = impares[:5]\n",
    "segunda_metade = impares[5:]\n",
    "print(primeira_metade) # resultado: [1, 3, 5, 7, 9]\n",
    "print(segunda_metade) # resultado: [11, 13, 15, 17, 19]"
   ]
  },
  {
   "cell_type": "markdown",
   "id": "67399528",
   "metadata": {},
   "source": [
    "Além de índices inicial e final, podemos também passar um _passo_ para os índices. Veja o exemplo abaixo:"
   ]
  },
  {
   "cell_type": "code",
   "execution_count": null,
   "id": "a445ed73",
   "metadata": {},
   "outputs": [],
   "source": [
    "numeros = [0, 1, 2, 3, 4, 5, 6, 7, 8, 9, 10, 11, 12, 13, 14, 15]\n",
    "# múltiplos de 3 abaixo de 10:\n",
    "mult3_sub10 = numeros[3:16:3]\n",
    "print(mult3_sub10) # resultado: [3, 6, 9]"
   ]
  },
  {
   "cell_type": "markdown",
   "id": "eef413bb",
   "metadata": {},
   "source": [
    "> **Atenção:** quando nós atribuímos uma lista a outra variável, a lista **não** é copiada. Observe o exemplo abaixo:"
   ]
  },
  {
   "cell_type": "code",
   "execution_count": null,
   "id": "3e64f12f",
   "metadata": {},
   "outputs": [],
   "source": [
    "lista1 = [1, 3, 5]\n",
    "\n",
    "# designando a mesmo espaco de memoria\n",
    "lista2 = lista1\n",
    "\n",
    "lista2.append(7)\n",
    "lista2.append(9)\n",
    "lista2.append(11)\n",
    "lista2.append(13)\n",
    "\n",
    "print(lista2) # resultado: [1, 3, 5, 7]\n",
    "\n",
    "\n",
    "print(lista1)"
   ]
  },
  {
   "cell_type": "code",
   "execution_count": null,
   "id": "6f65f356",
   "metadata": {},
   "outputs": [],
   "source": []
  },
  {
   "cell_type": "markdown",
   "id": "72d0ef00",
   "metadata": {},
   "source": [
    "> Modificações aplicadas em lista2 também afetarão a lista1. Isso ocorre porque não foi criada uma lista. O Python apenas fez com que ambas as variáveis (lista1 e lista2) referenciassem a mesma estrutura na memória.\n",
    "> Quando utilizamos _slices_, isso não ocorre. O Python cria uma lista contendo os valores restritos pelos índices. Sendo assim, uma estratégia fácil para copiar uma lista para outra é utilizar um _slice_ indo da primeira à última posição:"
   ]
  },
  {
   "cell_type": "code",
   "execution_count": null,
   "id": "45eca71a",
   "metadata": {},
   "outputs": [],
   "source": [
    "lista1 = [1, 3, 5]\n",
    "\n",
    "# atribuindo valores a uma variavel nova\n",
    "lista2 = lista1[:]\n",
    "lista2.append(7)\n",
    "print(lista1) # resultado: [1, 3, 5]\n",
    "print(lista2) # resultado: [1, 3, 5, 7]"
   ]
  },
  {
   "cell_type": "code",
   "execution_count": null,
   "id": "5ec9b164",
   "metadata": {},
   "outputs": [],
   "source": [
    "lista1 = [1, 3, 5]\n",
    "\n",
    "lista2 = lista1.copy() # equivalente a 'lista1[:]'\n",
    "\n",
    "lista2.append(7)\n",
    "print(lista1) # resultado: [1, 3, 5]\n",
    "print(lista2) # resultado: [1, 3, 5, 7]"
   ]
  },
  {
   "cell_type": "markdown",
   "id": "4ba3607d",
   "metadata": {},
   "source": [
    "# 3. Percorrendo listas\n",
    "Suponha que você queira acessar cada elemento de sua lista individualmente. Digitar todos os índices manualmente cancelaria a _escalabilidade_ do programa, certo? Portanto, podemos usar um _loop_ para gerar os índices:"
   ]
  },
  {
   "cell_type": "code",
   "execution_count": null,
   "id": "519d9689",
   "metadata": {},
   "outputs": [],
   "source": [
    "pares = [0, 2, 4, 6, 8]\n",
    "tamanho = len(pares) # len(): calcula o tamanho da lista\n",
    " \n",
    "# tamanho vale 5, logo índice recebe os valores 0, 1, 2, 3 e 4\n",
    "for indice in range(tamanho):\n",
    "      print(pares[indice])"
   ]
  },
  {
   "cell_type": "markdown",
   "id": "bd6b95d1",
   "metadata": {},
   "source": [
    "Porém, tem um jeito ainda **mais** fácil de percorrer a lista. O _for_ não serve apenas para gerar sequências numéricas junto do _range_: ele serve para percorrer coleções. Portanto, podemos trocar o _range_ pela própria lista:"
   ]
  },
  {
   "cell_type": "code",
   "execution_count": null,
   "id": "0514cdc5",
   "metadata": {},
   "outputs": [],
   "source": [
    "pares = [0, 2, 4, 6, 8]\n",
    " \n",
    "for elemento in pares:\n",
    "      print(elemento)"
   ]
  },
  {
   "cell_type": "markdown",
   "id": "eb600814",
   "metadata": {},
   "source": [
    "Assim como no caso das contagens, \"elemento\" é apenas uma variável que será criada de forma automática e poderia ter qualquer nome. Em cada repetição do _loop_, um valor diferente da lista será **copiado** para _elemento_.\n",
    " \n",
    "> **Importante:** Como os elementos são copiados, caso você modifique o valor de _elemento_ você **não** irá modificar o valor na lista, e sim uma cópia dele. Além disso, como este _loop_ serve especificamente para percorrer listas, se dentro dele você fizer operações que alterem o tamanho da lista (_append_ ou _remove_, por exemplo), o _loop_ poderá executar incorretamente, pulando ou repetindo elementos.\n",
    " \n",
    "> O ```for``` serve, primariamente, para percorrer coleções. Ou seja, para **iterar** coleções. O **range** age, na prática, como se fosse uma lista contendo os valores determinados por seu parâmetro. Dizemos que a função **range** gera um **iterável**, ou seja, um tipo especial de dado que pode ser percorrido através de um loop.\n",
    " \n",
    "# 4. Testando a existência de valores\n",
    " \n",
    "Existe um comando que temos visto bastante recentemente: o *in*. Ele costuma aparecer no *for* para indicar a lista ou a sequência a ser percorrida. Mas ele também possui outra utilidade.\n",
    " \n",
    "O *in* pode ser utilizado para informar se um elemento está presente em uma lista ou não. Observe a saída do código abaixo."
   ]
  },
  {
   "cell_type": "code",
   "execution_count": null,
   "id": "1cf7fa04",
   "metadata": {},
   "outputs": [],
   "source": [
    "linguagens = ['Python', 'JavaScript', 'C#', 'Java']\n",
    " \n",
    "existe_html = 'HTML' in linguagens\n",
    "existe_java = 'Java' in linguagens\n",
    " \n",
    "print('HTML:', existe_html) # HTML: False\n",
    "print('Java:', existe_java) # Java: True"
   ]
  },
  {
   "cell_type": "markdown",
   "id": "e4cdfd8a",
   "metadata": {},
   "source": [
    "Normalmente utilizamos esse comando junto de um *if* quando precisamos checar se um elemento existe:"
   ]
  },
  {
   "cell_type": "code",
   "execution_count": null,
   "id": "ba2aa16f",
   "metadata": {},
   "outputs": [],
   "source": [
    "linguagem_desejada = input('Digite a linguagem que você gostaria de aprender: ')\n",
    " \n",
    "linguagens = ['Python', 'JavaScript', 'C#', 'Java']\n",
    " \n",
    "if 'JavaScript' in linguagens:\n",
    "  print('Faça o curso conosco! :)')\n",
    "else:\n",
    "  print('Não temos esse curso disponível no momento :(')"
   ]
  },
  {
   "cell_type": "markdown",
   "id": "3127a266",
   "metadata": {},
   "source": [
    "### Exercício 1:\n",
    "\n",
    "Dada uma lista de inteiros ('nums') de comprimento n, você deseja criar uma lista 'ans' de comprimento 2n onde:\n",
    "\n",
    "- ans[i] == nums[i] e \n",
    "- ans[i + n] == nums[i] \n",
    "\n",
    "para 0 <= i < n (0-index).\n",
    "\n",
    "Especificamente, ans é a concatenação de duas listas 'nums'.\n",
    "\n",
    "Retorne a lista ans.\n",
    " \n",
    "#### Exemplo 1:\n",
    "\n",
    "- **Entrada:** nums = [1,2,1]\n",
    "\n",
    "- **Saída:** [1,2,1,1,2,1]\n",
    "\n",
    "_Explicação:_ A lista ans é formada da seguinte forma:\n",
    "\n",
    "- ans = [nums[0],nums[1],nums[2],nums[0],nums[1],nums[2]]\n",
    "- ans = [1,2,1,1,2,1]\n",
    "\n",
    "#### Exemplo 2:\n",
    "\n",
    "- **Entrada:** nums = [1,3,2,1]\n",
    "\n",
    "- **Saída:** [1,3,2,1,1,3,2,1]\n",
    "\n",
    "_Explicação:_ A lista ans é formada da seguinte forma:\n",
    "- ans = [nums[0],nums[1],nums[2],nums[3],nums[0],nums[1],nums[2],nums[3]]\n",
    "- ans = [1,3,2,1,1,3,2,1]"
   ]
  },
  {
   "cell_type": "code",
   "execution_count": null,
   "id": "3297a7c4",
   "metadata": {},
   "outputs": [],
   "source": []
  },
  {
   "cell_type": "markdown",
   "id": "f55f1382",
   "metadata": {},
   "source": [
    "### Exercício 2:\n",
    "\n",
    "Dada uma lista nums. Definimos uma soma acumulada de uma lista como runningSum[i] = sum(nums[0]…nums[i]).\n",
    "\n",
    "Retorne a soma acumulada de nums.\n",
    "\n",
    "#### Exemplo 1:\n",
    "\n",
    "- **Entrada:** nums = [1,2,3,4]\n",
    "\n",
    "- **Saída:** [1,3,6,10]\n",
    "\n",
    "_Explicação:_ A soma acumulada é obtida da seguinte forma: [1, 1+2, 1+2+3, 1+2+3+4].\n",
    "\n",
    "#### Exemplo 2:\n",
    "\n",
    "- **Entrada:** nums = [1,1,1,1,1]\n",
    "- **Saída:** [1,2,3,4,5]\n",
    "\n",
    "_Explicação:_ A soma acumulada é obtida da seguinte forma: [1, 1+1, 1+1+1, 1+1+1+1, 1+1+1+1+1]."
   ]
  },
  {
   "cell_type": "code",
   "execution_count": null,
   "id": "bc1eec78",
   "metadata": {},
   "outputs": [],
   "source": [
    "\n"
   ]
  }
 ],
 "metadata": {
  "kernelspec": {
   "display_name": "Python 3 (ipykernel)",
   "language": "python",
   "name": "python3"
  },
  "language_info": {
   "codemirror_mode": {
    "name": "ipython",
    "version": 3
   },
   "file_extension": ".py",
   "mimetype": "text/x-python",
   "name": "python",
   "nbconvert_exporter": "python",
   "pygments_lexer": "ipython3",
   "version": "3.10.5"
  }
 },
 "nbformat": 4,
 "nbformat_minor": 5
}
