{
 "cells": [
  {
   "cell_type": "markdown",
   "id": "70ae4063",
   "metadata": {},
   "source": [
    "# Aula 3 - Operações lógicas\n",
    " \n",
    "## 1. Operações booleanas\n",
    "Quando estudamos variáveis, vimos que existem alguns tipos primitivos: _str_ (texto), _int_ (número inteiro), _float_ (número real) e _bool_ (lógico).\n",
    "Vimos diversas operações **aritméticas** também, como a soma, a divisão ou a potência, cujos resultados são _int_ ou _float_. \n",
    "Porém, podemos ter também operações cujo resultado é _bool_: são operações lógicas.\n",
    " \n",
    "## 1.1. Comparações\n",
    "Algumas das operações lógicas mais conhecidas são as comparações:"
   ]
  },
  {
   "cell_type": "code",
   "execution_count": 2,
   "id": "93c7cc28",
   "metadata": {},
   "outputs": [],
   "source": [
    "# Operadore basicos: > , < , == (bem diferente do '=')\n",
    "\n",
    "comparacao1 = (5 > 3) \n",
    "\n",
    "comparacao2 = (5 < 3)\n",
    "\n",
    "comparacao3 = (5 == 3)"
   ]
  },
  {
   "cell_type": "markdown",
   "id": "4bcf213d",
   "metadata": {},
   "source": [
    "Se visualizarmos os resultados do código acima, a saída que teremos na tela será:"
   ]
  },
  {
   "cell_type": "code",
   "execution_count": 4,
   "id": "6d283e0d",
   "metadata": {},
   "outputs": [
    {
     "name": "stdout",
     "output_type": "stream",
     "text": [
      "True\n",
      "False\n",
      "False\n",
      "<class 'bool'>\n"
     ]
    }
   ],
   "source": [
    "print(comparacao1)\n",
    "\n",
    "print(comparacao2)\n",
    "\n",
    "print(comparacao3)"
   ]
  },
  {
   "cell_type": "markdown",
   "id": "84051b47",
   "metadata": {},
   "source": [
    "Isso ocorre porque 5 é maior que 3. Portanto, comparacao1 recebeu uma expressão cujo valor lógico é **verdadeiro**, portanto seu resultado foi _True_, e o oposto ocorreu para comparacao2.\n",
    "O Python possui 6 operadores de comparação:\n",
    "\n",
    "\n",
    "* Maior que: **>**\n",
    "* Maior ou igual: **>=**\n",
    "* Menor que: **<**\n",
    "* Menor ou igual: **<=**\n",
    "* Igual: **==**\n",
    "* Diferente: **!=**\n",
    " \n",
    "> Note que o operador para comparar se 2 valores são iguais é **==**, e não **=**. Isso ocorre porque o operador **=** é o nosso operador de **atribuição**: ele diz que a variável à sua esquerda deve receber o valor da expressão à direita. O operador de **==** irá testar **se** o valor à sua esquerda é igual ao valor à sua direita e irá responder _True_ ou _False_, como todos os outros operadores de comparação.\n",
    " \n",
    "## 1.2 Negação lógica\n",
    "Outra operação lógica bastante importante é a negação. Ela inverte o resultado de uma expressão lógica. Caso a expressão resulte em _True_, a sua negação irá resultar em _False_, e vice-versa. \n",
    " \n",
    "A negação em Python é representada pela palavra **not**. Vamos modificar o exemplo anterior:"
   ]
  },
  {
   "cell_type": "code",
   "execution_count": 5,
   "id": "b98f236a",
   "metadata": {},
   "outputs": [
    {
     "name": "stdout",
     "output_type": "stream",
     "text": [
      "False\n",
      "True\n"
     ]
    }
   ],
   "source": [
    "comparacao1 = not (5 > 3)\n",
    "print(comparacao1)\n",
    "\n",
    "comparacao2 = not (5 < 3)\n",
    "print(comparacao2)"
   ]
  },
  {
   "cell_type": "markdown",
   "id": "aeeb19b1",
   "metadata": {},
   "source": [
    "Podemos resumir o funcionamento do **not** utilizando uma **tabela-verdade**. Nela testamos os diferentes valores possíveis para a entrada e anotamos o resultado para cada conjunto de valores:\n",
    " \n",
    "| A     | not A     |\n",
    "|-------|-----------|\n",
    "| True  | **False** |\n",
    "| False | **True**  |\n",
    " \n",
    " \n",
    "### 1.2. Conjunção lógica\n",
    "Em alguns casos precisamos testar se duas ou mais condições são verdadeiras. \n",
    " \n",
    "Imagine, por exemplo, que o critério de aprovação em uma escola seja a média superior a 6.0 **e** presença superior a 75%. Neste caso, o aluno precisa atender a ambos os critérios para ser aprovado. Se ele tirou uma ótima nota, mas faltou demais, será reprovado. Se ele compareceu a todas as aulas, mas teve notas baixas, idem. \n",
    " \n",
    "A conjunção lógica, também conhecida como **e lógico**, é representada em Python pela palavra **and**.\n",
    " \n",
    "O código abaixo testa se é verdade que o aluno foi aprovado:"
   ]
  },
  {
   "cell_type": "code",
   "execution_count": 10,
   "id": "921cde00",
   "metadata": {},
   "outputs": [
    {
     "name": "stdout",
     "output_type": "stream",
     "text": [
      "O aluno aprovou?: True\n"
     ]
    }
   ],
   "source": [
    "media = float(input('Digite a média do aluno: '))\n",
    "presenca = float(input('Digite as presenças do aluno: '))\n",
    "\n",
    "aprovado = media >= 6.0 and presenca >= 0.75\n",
    "print('O aluno foi aprovado?', aprovado)"
   ]
  },
  {
   "cell_type": "markdown",
   "id": "64f908d7",
   "metadata": {},
   "source": [
    "Execute o código acima e teste algumas combinações diferentes de valores. Note que basta uma das condições ser falsa para que o resultado total seja _False_.\n",
    " \n",
    "A tabela-verdade para o **e lógico** entre duas entradas A e B é:\n",
    " \n",
    "| A     | B     | A and B   |\n",
    "|-------|-------|-----------|\n",
    "| False | False | **False** |\n",
    "| False | True  | **False** |\n",
    "| True  | False | **False** |\n",
    "| True  | True  | **True**  |\n",
    " \n",
    "### 1.3. Disjunção lógica\n",
    " \n",
    "Nem sempre precisamos que ambas as condições sejam verdadeiras. Vários de nós já nos deparamos com promoções de queima de estoque anunciadas da seguinte maneira: \"promoção válida até o dia 15 deste mês **ou** enquanto durarem os estoques\". \n",
    "\n",
    "Neste caso, para a promoção acabar, não é necessário que ambas as coisas ocorram (atingir o dia 15 e zerar o estoque). Se ainda temos 10 itens no estoque, mas hoje é dia 16, a promoção acabou. Se hoje é dia 5, mas o estoque está zerado, a promoção acabou.\n",
    " \n",
    "A disjunção lógica, também chamada de **ou lógico**, é representada em Python pela palavra **or**.\n",
    " \n",
    "O programa abaixo testa se a promoção acabou:"
   ]
  },
  {
   "cell_type": "code",
   "execution_count": 13,
   "id": "44ab0778",
   "metadata": {},
   "outputs": [
    {
     "name": "stdout",
     "output_type": "stream",
     "text": [
      "tem promocao? : True\n"
     ]
    }
   ],
   "source": [
    "dia_final = int(input('Digite o dia do mês para encerrar a promoção: '))\n",
    "dia_atual = int(input('Digite o dia do mês atual: '))\n",
    "estoque = int(input('Digite a quantidade de itens no estoque: '))\n",
    " \n",
    "acabou = dia_atual > dia_final or estoque == 0\n",
    "print(acabou)"
   ]
  },
  {
   "cell_type": "markdown",
   "id": "0a236426",
   "metadata": {},
   "source": [
    "Faça alguns testes com o programa acima e note que basta uma condição ser verdadeira para seu resultado ser _True_.\n",
    " \n",
    "A tabela-verdade para o **ou lógico** é:\n",
    " \n",
    "| A     | B     | A or B   |\n",
    "|-------|-------|-----------|\n",
    "| False | False | **False** |\n",
    "| False | True  | **True**  |\n",
    "| True  | False | **True**  |\n",
    "| True  | True  | **True**  |\n",
    " \n",
    " \n",
    ">**Resumo**: \n",
    "> * **not**: inverte a expressão original\n",
    "> * **and**: verdadeiro apenas se ambas as condições forem verdadeiras\n",
    "> * **or**: falso apenas se ambas as condições forem falsas\n",
    " \n",
    "## 2. Valores _truthy_ e _falsy_\n",
    "Valores não-booleanos em Python, como inteiros ou strings, podem ser convertidos para booleanos utilizando a função ```bool```, da mesma maneira que utilizamos ```int``` e ```float``` em exemplos anteriores para converter entradas de string para número.\n",
    " \n",
    "Certos valores serão convertidos para ```True```, enquanto outros serão convertidos para ```False```. Em certos contextos, como expressões condicionais - que serão estudadas muito em breve - essa conversão ocorre de maneira implícita. Quando um valor pode ser interpretado como ```True```, dizemos que ele é um valor *truthy*, e quando ele pode ser interpretado como ```False```, ele é conhecido como um valor *falsy*.\n",
    " \n",
    "Valores *Falsy* comuns são:\n",
    "\n",
    "* O valor inteiro 0\n",
    "* O valor real 0.0\n",
    "* Strings vazias (strings com 0 caracteres)\n",
    "* Coleções vazias (listas, tuplas, dicionários etc. com 0 elementos)\n",
    "  \n",
    "Valores *Truthy* comuns são:\n",
    "\n",
    "* Inteiros diferentes de 0\n",
    "* Reais diferentes de 0.0\n",
    "* Strings contendo ao menos 1 caractere\n",
    "* Coleções (listas, tuplas, dicionários etc.) com pelo menos 1 elemento \n",
    "* A constante ```None```, que representa uma variável \"vazia\"\n",
    " \n",
    "Não se preocupe se não estiver familiarizado com todos os dados exemplificados aqui. Estudaremos cada um deles em outros momentos.\n"
   ]
  }
 ],
 "metadata": {
  "kernelspec": {
   "display_name": "Python 3 (ipykernel)",
   "language": "python",
   "name": "python3"
  },
  "language_info": {
   "codemirror_mode": {
    "name": "ipython",
    "version": 3
   },
   "file_extension": ".py",
   "mimetype": "text/x-python",
   "name": "python",
   "nbconvert_exporter": "python",
   "pygments_lexer": "ipython3",
   "version": "3.10.5"
  }
 },
 "nbformat": 4,
 "nbformat_minor": 5
}
