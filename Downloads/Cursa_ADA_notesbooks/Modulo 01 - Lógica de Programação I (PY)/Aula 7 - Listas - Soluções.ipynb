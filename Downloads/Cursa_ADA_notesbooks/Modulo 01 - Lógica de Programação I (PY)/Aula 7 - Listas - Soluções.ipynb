{
 "cells": [
  {
   "cell_type": "markdown",
   "id": "1d01eb33",
   "metadata": {},
   "source": [
    "# Aula 7 - Listas\n",
    "Já fizemos alguns programas para ler 2 ou 3 notas e calcular a média. Inclusive já fomos além e aprendemos a verificar se o aluno passou ou não. Vamos rever um exemplo desses:"
   ]
  },
  {
   "cell_type": "code",
   "execution_count": null,
   "id": "633ee059",
   "metadata": {},
   "outputs": [],
   "source": [
    "nota1 = float(input('Digite a primeira nota: '))\n",
    "nota2 = float(input('Digite a segunda nota: '))\n",
    " \n",
    "media = (nota1 + nota2)/2\n",
    " \n",
    "print(media)"
   ]
  },
  {
   "cell_type": "markdown",
   "id": "dae7e4ca",
   "metadata": {},
   "source": [
    "Simples, certo? Mas e se a regra da escola mudasse, e agora cada professor precisasse aplicar 4 provas? Modificaríamos nosso programa:"
   ]
  },
  {
   "cell_type": "code",
   "execution_count": null,
   "id": "12a4c7e5",
   "metadata": {},
   "outputs": [],
   "source": [
    "nota1 = float(input('Digite a primeira nota: '))\n",
    "nota2 = float(input('Digite a segunda nota: '))\n",
    "nota3 = float(input('Digite a terceira nota: '))\n",
    "nota4 = float(input('Digite a quarta nota: '))\n",
    " \n",
    "media = (nota1 + nota2 + nota3 + nota4)/4\n",
    " \n",
    "print(media)"
   ]
  },
  {
   "cell_type": "markdown",
   "id": "239fc0fe",
   "metadata": {},
   "source": [
    "Até aqui tudo bem. Mas e se o objetivo fosse testar o quanto o professor consegue ensinar? Para isso, poderíamos calcular a média das médias de todos os alunos do professor. Mas e se o professor trabalha em uma faculdade muito grande e suas turmas têm 80 alunos?"
   ]
  },
  {
   "cell_type": "code",
   "execution_count": null,
   "id": "77161eb1",
   "metadata": {},
   "outputs": [],
   "source": [
    "aluno1 = float(input('Digite a nota do aluno 1: '))\n",
    "aluno2 = float(input('Digite a nota do aluno 2: '))\n",
    "aluno3 = float(input('Digite a nota do aluno 3: '))\n",
    "aluno4 = float(input('Digite a nota do aluno 4: '))\n",
    "aluno5 = float(input('Digite a nota do aluno 5: '))\n",
    "aluno6 = float(input('Digite a nota do aluno 6: '))\n",
    "aluno7 = float(input('Digite a nota do aluno 7: '))\n",
    "aluno8 = float(input('Digite a nota do aluno 8: '))\n",
    "aluno9 = float(input('Digite a nota do aluno 9: '))\n",
    "aluno10 = float(input('Digite a nota do aluno 10: '))\n",
    " \n",
    "# ...\n",
    " \n",
    "'''\n",
    "Nota do programador: eu me demito.\n",
    "Não ganho bem o suficiente para ISSO!\n",
    "'''"
   ]
  },
  {
   "cell_type": "markdown",
   "id": "265fc2f3",
   "metadata": {},
   "source": [
    "Para trabalhar com poucos valores, é fácil e conveniente criar uma variável para cada valor e realizar operações individualmente sobre cada uma. Porém, dizemos que esse tipo de solução não é _escalável_: o programa não está preparado para lidar com variações no tamanho da base de dados, e modificá-lo para comportá-las pode ser difícil, trabalhoso ou mesmo inviável. \n",
    "\n",
    "Imagine se para cada novo perfil em uma rede social o estagiário precisasse criar uma variável nova para o nome, uma para o e-mail, uma para a data de nascimento, e assim sucessivamente... E depois ainda precisasse de linhas novas de código para ler cada um desses valores do novo usuário!\n",
    " \n",
    "## 1. Listas\n",
    "É aí que entram as listas. Listas são _coleções de objetos_ em Python. Falando de maneira simplificada, são variáveis que comportam diversos valores ao mesmo tempo.  Vejamos alguns jeitos de criar listas em Python:\n"
   ]
  },
  {
   "cell_type": "code",
   "execution_count": 2,
   "id": "88859826",
   "metadata": {},
   "outputs": [],
   "source": [
    "primeira_lista = [] # cria uma lista vazia\n",
    "segunda_lista = list() # cria uma lista vazia\n",
    "terceira_lista = [1, 3.14, 5, 7, 9, 'onze'] # lista com valores"
   ]
  },
  {
   "cell_type": "code",
   "execution_count": 6,
   "id": "82e06561",
   "metadata": {},
   "outputs": [
    {
     "data": {
      "text/plain": [
       "list"
      ]
     },
     "execution_count": 6,
     "metadata": {},
     "output_type": "execute_result"
    }
   ],
   "source": [
    "type(terceira_lista)"
   ]
  },
  {
   "cell_type": "markdown",
   "id": "c2b03287",
   "metadata": {},
   "source": [
    "Note que podemos misturar tipos de dados. A ```terceira_lista``` possui 4 **int**, um **float** e uma **str**.\n",
    " \n",
    "Bom, e agora, como fazemos para acessar cada valor? Podemos imaginar a lista da seguinte maneira: imagine que ao invés de ter uma caixa para guardar cada item, temos uma cômoda com várias gavetas. Cada item está em uma gaveta. Não estamos acostumados a dizer que algo está na terceira gaveta do armário? A ideia é a mesma: a lista é uma coleção **indexada**, ou seja, podemos acessar cada elemento através de **índices**, que são números indicando a posição.\n",
    "A indexação é automática e começa a partir do zero:\n",
    " \n",
    "| elemento | 1 | 3.14 | 5 | 7 | 9 | onze |\n",
    "|:--------:|:-:|:----:|:-:|:-:|:-:|:--:|\n",
    "|  índice  | 0 |   1  | 2 | 3 | 4 |  5 |\n",
    " \n",
    "Portanto, para acessar o elemento \"7\" da nossa lista, utilizaríamos o índice 3. Informamos o índice entre colchetes:"
   ]
  },
  {
   "cell_type": "code",
   "execution_count": null,
   "id": "d1a21927",
   "metadata": {},
   "outputs": [],
   "source": [
    "#|0|1|0|1|0|1|1|0|"
   ]
  },
  {
   "cell_type": "code",
   "execution_count": 8,
   "id": "51db8b00",
   "metadata": {},
   "outputs": [
    {
     "name": "stdout",
     "output_type": "stream",
     "text": [
      "1\n"
     ]
    },
    {
     "ename": "IndexError",
     "evalue": "list index out of range",
     "output_type": "error",
     "traceback": [
      "\u001b[1;31m---------------------------------------------------------------------------\u001b[0m",
      "\u001b[1;31mIndexError\u001b[0m                                Traceback (most recent call last)",
      "\u001b[1;32mc:\\Users\\jcham\\Downloads\\Ada\\Logica de Programacao I\\Aula 7\\Aula 7 - Listas - Aula.ipynb Cell 12\u001b[0m line \u001b[0;36m6\n\u001b[0;32m      <a href='vscode-notebook-cell:/c%3A/Users/jcham/Downloads/Ada/Logica%20de%20Programacao%20I/Aula%207/Aula%207%20-%20Listas%20-%20Aula.ipynb#X12sZmlsZQ%3D%3D?line=0'>1</a>\u001b[0m terceira_lista \u001b[39m=\u001b[39m [\u001b[39m1\u001b[39m, \u001b[39m3.14\u001b[39m, \u001b[39m5\u001b[39m, \u001b[39m7\u001b[39m, \u001b[39m9\u001b[39m, \u001b[39m'\u001b[39m\u001b[39monze\u001b[39m\u001b[39m'\u001b[39m] \u001b[39m# lista com valores\u001b[39;00m\n\u001b[0;32m      <a href='vscode-notebook-cell:/c%3A/Users/jcham/Downloads/Ada/Logica%20de%20Programacao%20I/Aula%207/Aula%207%20-%20Listas%20-%20Aula.ipynb#X12sZmlsZQ%3D%3D?line=2'>3</a>\u001b[0m \u001b[39mprint\u001b[39m(terceira_lista[\u001b[39m0\u001b[39m])\n\u001b[1;32m----> <a href='vscode-notebook-cell:/c%3A/Users/jcham/Downloads/Ada/Logica%20de%20Programacao%20I/Aula%207/Aula%207%20-%20Listas%20-%20Aula.ipynb#X12sZmlsZQ%3D%3D?line=5'>6</a>\u001b[0m terceira_lista[\u001b[39m6\u001b[39;49m]\n",
      "\u001b[1;31mIndexError\u001b[0m: list index out of range"
     ]
    }
   ],
   "source": [
    "terceira_lista = [1, 3.14, 5, 7, 9, 'onze'] # lista com valores\n",
    "\n",
    "print(terceira_lista[0])\n",
    "\n",
    "terceira_lista[6]"
   ]
  },
  {
   "cell_type": "markdown",
   "id": "a8bce05c",
   "metadata": {},
   "source": [
    "A lista é mutável. Isso significa que podemos modificar os valores já existentes:"
   ]
  },
  {
   "cell_type": "code",
   "execution_count": 18,
   "id": "8894a745",
   "metadata": {},
   "outputs": [
    {
     "name": "stdout",
     "output_type": "stream",
     "text": [
      "[1, 3.14, 5, 'sete', 9, 'onze']\n"
     ]
    }
   ],
   "source": [
    "terceira_lista = [1, 3.14, 5, 7, 9, 'onze'] # lista com valores\n",
    "terceira_lista[3] = 'sete' # troca 7 por 'sete' na lista\n",
    "print(terceira_lista)"
   ]
  },
  {
   "cell_type": "code",
   "execution_count": null,
   "id": "ec0f915a",
   "metadata": {},
   "outputs": [],
   "source": [
    "# tipo int, float, string, bool : imutaveis\n",
    "# list, dicionarios : mutaveis\n",
    "\n",
    "\n",
    "funcionarios = ['Jorge', 'Samara', 'Andrew', 'Sarah']\n",
    "funcionarios_id = [0, 1, 2, 4, ...., 1000000]\n",
    "\n",
    "\n",
    "funcionarios = ['Jorge':2, 'Samara', 'Andrew', None, 'Sarah', None, None, '1000000']\n",
    "\n",
    "# qual o funcionario com ID = 2\n",
    "\n",
    "funcionarios[2]\n",
    "\n",
    "id = 3 -> 1\n",
    "\n",
    "id = 4 -> 2\n",
    "\n",
    "\n"
   ]
  },
  {
   "cell_type": "code",
   "execution_count": null,
   "id": "3ef0dc2f",
   "metadata": {},
   "outputs": [],
   "source": []
  },
  {
   "cell_type": "code",
   "execution_count": 9,
   "id": "8a957eef",
   "metadata": {},
   "outputs": [],
   "source": [
    "a = 10"
   ]
  },
  {
   "cell_type": "code",
   "execution_count": 10,
   "id": "8d59d849",
   "metadata": {},
   "outputs": [
    {
     "data": {
      "text/plain": [
       "140733726323784"
      ]
     },
     "execution_count": 10,
     "metadata": {},
     "output_type": "execute_result"
    }
   ],
   "source": [
    "id(a)"
   ]
  },
  {
   "cell_type": "code",
   "execution_count": 11,
   "id": "6fd15dce",
   "metadata": {},
   "outputs": [],
   "source": [
    "a = 11"
   ]
  },
  {
   "cell_type": "code",
   "execution_count": 12,
   "id": "4116776b",
   "metadata": {},
   "outputs": [
    {
     "data": {
      "text/plain": [
       "140733726323816"
      ]
     },
     "execution_count": 12,
     "metadata": {},
     "output_type": "execute_result"
    }
   ],
   "source": [
    "id(a)"
   ]
  },
  {
   "cell_type": "code",
   "execution_count": 13,
   "id": "d0eeee9c",
   "metadata": {},
   "outputs": [
    {
     "data": {
      "text/plain": [
       "1872400888832"
      ]
     },
     "execution_count": 13,
     "metadata": {},
     "output_type": "execute_result"
    }
   ],
   "source": [
    "lista = [1, 2 , 3]\n",
    "\n",
    "id(lista)"
   ]
  },
  {
   "cell_type": "code",
   "execution_count": 16,
   "id": "20808a19",
   "metadata": {},
   "outputs": [
    {
     "data": {
      "text/plain": [
       "[10, 2, 3]"
      ]
     },
     "execution_count": 16,
     "metadata": {},
     "output_type": "execute_result"
    }
   ],
   "source": [
    "lista[0] = 10\n",
    "\n",
    "lista"
   ]
  },
  {
   "cell_type": "code",
   "execution_count": 17,
   "id": "df6c0f93",
   "metadata": {},
   "outputs": [
    {
     "data": {
      "text/plain": [
       "1872400888832"
      ]
     },
     "execution_count": 17,
     "metadata": {},
     "output_type": "execute_result"
    }
   ],
   "source": [
    "id(lista)"
   ]
  },
  {
   "cell_type": "markdown",
   "id": "25b3970e",
   "metadata": {},
   "source": [
    "> É possível utilizar índices negativos. ```lista[-1]``` pega o último elemento, ```lista[-2]``` o penúltimo, e assim sucessivamente. Mas **não** é possível acessar índices iguais ou superiores ao tamanho da lista. A tentativa de acessar um índice inexistente resultará em erro.\n",
    " \n",
    "# 2. Quebrando listas\n",
    "É possível pegar subconjuntos de nossas listas utilizando o conceito de _slices_. Ao invés de passar apenas 1 valor entre colchetes (o índice desejado), podemos passar faixas de valores. Veja o exemplo abaixo:"
   ]
  },
  {
   "cell_type": "code",
   "execution_count": null,
   "id": "7970993a",
   "metadata": {},
   "outputs": [],
   "source": [
    "# 2021-01-05   2000\n",
    "# 2021-01-06   150\n",
    "# ...\n",
    "# 2021-10-01   5000\n",
    "\n",
    "\n"
   ]
  },
  {
   "cell_type": "code",
   "execution_count": 25,
   "id": "365689b2",
   "metadata": {},
   "outputs": [
    {
     "name": "stdout",
     "output_type": "stream",
     "text": [
      "9\n",
      "11\n",
      "13\n"
     ]
    }
   ],
   "source": [
    "impares = [1, 3, 5, 7, 9, 11, 13, 15, 17]\n",
    "\n",
    "print(impares[4])\n",
    "print(impares[5])\n",
    "print(impares[6])"
   ]
  },
  {
   "cell_type": "code",
   "execution_count": 77,
   "id": "926b87b1",
   "metadata": {},
   "outputs": [
    {
     "data": {
      "text/plain": [
       "[17, 15, 13]"
      ]
     },
     "execution_count": 77,
     "metadata": {},
     "output_type": "execute_result"
    }
   ],
   "source": [
    "impares[ : 5 : -1]\n"
   ]
  },
  {
   "cell_type": "code",
   "execution_count": 62,
   "id": "e1632e73",
   "metadata": {},
   "outputs": [
    {
     "data": {
      "text/plain": [
       "9"
      ]
     },
     "execution_count": 62,
     "metadata": {},
     "output_type": "execute_result"
    }
   ],
   "source": [
    "impares[-5]\n",
    "\n",
    "# VALORES INDIVIDUAIS: recupero 1 unico valor\n",
    "# quando o valor for positivo, começo do indice 0\n",
    "# quando o valor for negativo, começamos desde o ultimo elemento (usando -1), e dai vamos até o começo\n",
    "\n",
    "# SLICES: recupera varios elementos da lista\n",
    "# [ inicio : fim : step] permitido inicio > fim e fim > inicio\n",
    "# [ inicio : fim] -> step = 1\n",
    "# [ inicio : ] : elemento desde a posiçao 'inicio' até o final(step positivo) / começo (step negativo) \n",
    "# [ : fim ] : elemento desde a primeira posição ate a posição 'fim - 1'\n",
    "# [ : ] : pego tudo\n",
    "# [ inicio : : -1] "
   ]
  },
  {
   "cell_type": "code",
   "execution_count": 56,
   "id": "62632f96",
   "metadata": {},
   "outputs": [
    {
     "name": "stdout",
     "output_type": "stream",
     "text": [
      "[11, 13, 15, 17]\n"
     ]
    }
   ],
   "source": [
    "impares = [1, 3, 5, 7, 9, 11, 13, 15, 17]\n",
    "meio = impares[0:5]\n",
    "\n",
    "meio = impares[5:10]\n",
    "##meio = meio + impares[4:]\n",
    "print(meio) # resultado na tela: [7, 9, 11]"
   ]
  },
  {
   "cell_type": "code",
   "execution_count": 99,
   "id": "254fb841",
   "metadata": {},
   "outputs": [
    {
     "data": {
      "text/plain": [
       "[3, 5, 7, 9]"
      ]
     },
     "execution_count": 99,
     "metadata": {},
     "output_type": "execute_result"
    }
   ],
   "source": [
    "lista = [1, 2 , 3, 4, 5, 6, 7, 8, 9, 10, 11, 12, 13, 14]\n",
    " \n",
    "# [3, 5, 7, 9]\n",
    "\n",
    "lista[ 2 : 9 : 2]"
   ]
  },
  {
   "cell_type": "markdown",
   "id": "05b36016",
   "metadata": {},
   "source": [
    "O primeiro valor é o índice inicial da _sublista_ a ser gerada, e o segundo é o índice final (exclusivo). Podemos omitir um desses valores para indicar que será desde o início ou até o final:"
   ]
  },
  {
   "cell_type": "code",
   "execution_count": 100,
   "id": "0b707f0b",
   "metadata": {},
   "outputs": [
    {
     "name": "stdout",
     "output_type": "stream",
     "text": [
      "[1, 3, 5, 7, 9]\n",
      "[11, 13, 15, 17, 19]\n"
     ]
    }
   ],
   "source": [
    "impares = [1, 3, 5, 7, 9, 11, 13, 15, 17, 19]\n",
    "primeira_metade = impares[:5]\n",
    "segunda_metade = impares[5:]\n",
    "print(primeira_metade) # resultado: [1, 3, 5, 7, 9]\n",
    "print(segunda_metade) # resultado: [11, 13, 15, 17, 19]"
   ]
  },
  {
   "cell_type": "markdown",
   "id": "67399528",
   "metadata": {},
   "source": [
    "Além de índices inicial e final, podemos também passar um _passo_ para os índices. Veja o exemplo abaixo:"
   ]
  },
  {
   "cell_type": "code",
   "execution_count": 101,
   "id": "a445ed73",
   "metadata": {},
   "outputs": [
    {
     "name": "stdout",
     "output_type": "stream",
     "text": [
      "[3, 6, 9, 12, 15]\n"
     ]
    }
   ],
   "source": [
    "numeros = [0, 1, 2, 3, 4, 5, 6, 7, 8, 9, 10, 11, 12, 13, 14, 15]\n",
    "# múltiplos de 3 abaixo de 16:\n",
    "mult3_sub10 = numeros[3:16:3]\n",
    "print(mult3_sub10) # resultado: [3, 6, 9, 12, 15]"
   ]
  },
  {
   "cell_type": "markdown",
   "id": "eef413bb",
   "metadata": {},
   "source": [
    "> **Atenção:** quando nós atribuímos uma lista a outra variável, a lista **não** é copiada. Observe o exemplo abaixo:"
   ]
  },
  {
   "cell_type": "code",
   "execution_count": 105,
   "id": "90a5dcad",
   "metadata": {},
   "outputs": [
    {
     "name": "stdout",
     "output_type": "stream",
     "text": [
      "10\n"
     ]
    }
   ],
   "source": [
    "a = 10\n",
    "\n",
    "b = a \n",
    "\n",
    "print(b)"
   ]
  },
  {
   "cell_type": "code",
   "execution_count": 121,
   "id": "f18906df",
   "metadata": {},
   "outputs": [
    {
     "name": "stdout",
     "output_type": "stream",
     "text": [
      "1872401186304\n",
      "1872401201920\n",
      "[7, 3, 1, 5]\n",
      "[3, 1]\n"
     ]
    }
   ],
   "source": [
    "lista1 = [7, 3, 1, 5]\n",
    "\n",
    "lista2 = lista1[1:3]\n",
    "\n",
    "print(id(lista1))\n",
    "\n",
    "print(id(lista2))\n",
    "\n",
    "print(lista1)\n",
    "\n",
    "print(lista2)"
   ]
  },
  {
   "cell_type": "code",
   "execution_count": 111,
   "id": "c2efb0cd",
   "metadata": {},
   "outputs": [
    {
     "name": "stdout",
     "output_type": "stream",
     "text": [
      "[10, 3, 5, 7]\n"
     ]
    }
   ],
   "source": [
    "lista1[0] = 10\n",
    "\n",
    "print(lista2)"
   ]
  },
  {
   "cell_type": "code",
   "execution_count": 114,
   "id": "71464d0b",
   "metadata": {},
   "outputs": [
    {
     "name": "stdout",
     "output_type": "stream",
     "text": [
      "1872400371200\n",
      "1872400371200\n"
     ]
    }
   ],
   "source": [
    "print(id(lista1))\n",
    "\n",
    "print(id(lista2))"
   ]
  },
  {
   "cell_type": "code",
   "execution_count": null,
   "id": "3e64f12f",
   "metadata": {},
   "outputs": [],
   "source": [
    "lista1 = [1, 3, 5]\n",
    "\n",
    "# designando a mesmo espaco de memoria\n",
    "lista2 = lista1\n",
    "\n",
    "lista2.append(7)\n",
    "lista2.append(9)\n",
    "lista2.append(11)\n",
    "lista2.append(13)\n",
    "\n",
    "print(lista2) # resultado: [1, 3, 5, 7]\n",
    "\n",
    "\n",
    "print(lista1)"
   ]
  },
  {
   "cell_type": "code",
   "execution_count": null,
   "id": "6f65f356",
   "metadata": {},
   "outputs": [],
   "source": []
  },
  {
   "cell_type": "markdown",
   "id": "72d0ef00",
   "metadata": {},
   "source": [
    "> Modificações aplicadas em lista2 também afetarão a lista1. Isso ocorre porque não foi criada uma lista. O Python apenas fez com que ambas as variáveis (lista1 e lista2) referenciassem a mesma estrutura na memória.\n",
    "> Quando utilizamos _slices_, isso não ocorre. O Python cria uma lista contendo os valores restritos pelos índices. Sendo assim, uma estratégia fácil para copiar uma lista para outra é utilizar um _slice_ indo da primeira à última posição:"
   ]
  },
  {
   "cell_type": "code",
   "execution_count": null,
   "id": "45eca71a",
   "metadata": {},
   "outputs": [],
   "source": [
    "lista1 = [1, 3, 5]\n",
    "\n",
    "# atribuindo valores a uma variavel nova\n",
    "lista2 = lista1[:]\n",
    "lista2.append(7)\n",
    "print(lista1) # resultado: [1, 3, 5]\n",
    "print(lista2) # resultado: [1, 3, 5, 7]"
   ]
  },
  {
   "cell_type": "code",
   "execution_count": null,
   "id": "5ec9b164",
   "metadata": {},
   "outputs": [],
   "source": [
    "lista1 = [1, 3, 5]\n",
    "\n",
    "lista2 = lista1.copy() # equivalente a 'lista1[:]'\n",
    "\n",
    "lista2.append(7)\n",
    "print(lista1) # resultado: [1, 3, 5]\n",
    "print(lista2) # resultado: [1, 3, 5, 7]"
   ]
  },
  {
   "cell_type": "markdown",
   "id": "4ba3607d",
   "metadata": {},
   "source": [
    "# 3. Percorrendo listas\n",
    "Suponha que você queira acessar cada elemento de sua lista individualmente. Digitar todos os índices manualmente cancelaria a _escalabilidade_ do programa, certo? Portanto, podemos usar um _loop_ para gerar os índices:"
   ]
  },
  {
   "cell_type": "code",
   "execution_count": 4,
   "id": "73baf9da",
   "metadata": {},
   "outputs": [
    {
     "data": {
      "text/plain": [
       "[0, 1, 2, 3, 4, 5]"
      ]
     },
     "execution_count": 4,
     "metadata": {},
     "output_type": "execute_result"
    }
   ],
   "source": [
    "list(range(6))\n"
   ]
  },
  {
   "cell_type": "code",
   "execution_count": 6,
   "id": "519d9689",
   "metadata": {},
   "outputs": [
    {
     "name": "stdout",
     "output_type": "stream",
     "text": [
      "0\n",
      "2\n",
      "4\n",
      "6\n",
      "8\n"
     ]
    }
   ],
   "source": [
    "pares = [0, 2, 4, 6, 8]\n",
    "tamanho = len(pares) # len(): calcula o tamanho da lista\n",
    " \n",
    "# tamanho vale 5, logo índice recebe os valores 0, 1, 2, 3 e 4\n",
    "for indice in range(tamanho):\n",
    "      print(pares[indice])"
   ]
  },
  {
   "cell_type": "markdown",
   "id": "bd6b95d1",
   "metadata": {},
   "source": [
    "Porém, tem um jeito ainda **mais** fácil de percorrer a lista. O _for_ não serve apenas para gerar sequências numéricas junto do _range_: ele serve para percorrer coleções. Portanto, podemos trocar o _range_ pela própria lista:"
   ]
  },
  {
   "cell_type": "code",
   "execution_count": 5,
   "id": "0514cdc5",
   "metadata": {},
   "outputs": [
    {
     "name": "stdout",
     "output_type": "stream",
     "text": [
      "0\n",
      "2\n",
      "4\n",
      "6\n",
      "8\n"
     ]
    }
   ],
   "source": [
    "pares = [0, 2, 4, 6, 8]\n",
    "\n",
    "contador = 0\n",
    " \n",
    "for elemento in pares:\n",
    "      print(elemento)\n",
    "      contador = contador + 1"
   ]
  },
  {
   "cell_type": "markdown",
   "id": "eb600814",
   "metadata": {},
   "source": [
    "Assim como no caso das contagens, \"elemento\" é apenas uma variável que será criada de forma automática e poderia ter qualquer nome. Em cada repetição do _loop_, um valor diferente da lista será **copiado** para _elemento_.\n",
    " \n",
    "> **Importante:** Como os elementos são copiados, caso você modifique o valor de _elemento_ você **não** irá modificar o valor na lista, e sim uma cópia dele. Além disso, como este _loop_ serve especificamente para percorrer listas, se dentro dele você fizer operações que alterem o tamanho da lista (_append_ ou _remove_, por exemplo), o _loop_ poderá executar incorretamente, pulando ou repetindo elementos.\n",
    " \n",
    "> O ```for``` serve, primariamente, para percorrer coleções. Ou seja, para **iterar** coleções. O **range** age, na prática, como se fosse uma lista contendo os valores determinados por seu parâmetro. Dizemos que a função **range** gera um **iterável**, ou seja, um tipo especial de dado que pode ser percorrido através de um loop.\n",
    " \n",
    "# 4. Testando a existência de valores\n",
    " \n",
    "Existe um comando que temos visto bastante recentemente: o *in*. Ele costuma aparecer no *for* para indicar a lista ou a sequência a ser percorrida. Mas ele também possui outra utilidade.\n",
    " \n",
    "O *in* pode ser utilizado para informar se um elemento está presente em uma lista ou não. Observe a saída do código abaixo."
   ]
  },
  {
   "cell_type": "code",
   "execution_count": 12,
   "id": "6995b44c",
   "metadata": {},
   "outputs": [
    {
     "name": "stdout",
     "output_type": "stream",
     "text": [
      "Existeeeeee!\n",
      "Existeeeeee!\n"
     ]
    }
   ],
   "source": [
    "linguagens = ['HTML', 'Python', 'JavaScript', 'C#', 'Java' ]\n",
    "\n",
    "for elemento in linguagens:\n",
    "    if elemento == 'HTML':\n",
    "        print('Existeeeeee!')\n",
    "        break\n",
    "    \n",
    "if 'HTML' in linguagens:\n",
    "        print('Existeeeeee!')"
   ]
  },
  {
   "cell_type": "code",
   "execution_count": 17,
   "id": "f705ddb5",
   "metadata": {},
   "outputs": [
    {
     "name": "stdout",
     "output_type": "stream",
     "text": [
      "['HTML', 'Python', 'JavaScript', 'C#', 'Java']\n"
     ]
    }
   ],
   "source": [
    "linguagens = ['HTML', 'Python', 'JavaScript', 'C#', 'Java', 'HTML' ]\n",
    "\n",
    "palavras_diferentes = []\n",
    "\n",
    "for palavra in linguagens:\n",
    "    if not (palavra in palavras_diferentes):\n",
    "        palavras_diferentes.append(palavra)\n",
    "        \n",
    "print(palavras_diferentes)"
   ]
  },
  {
   "cell_type": "code",
   "execution_count": 16,
   "id": "8eb2af70",
   "metadata": {},
   "outputs": [
    {
     "name": "stdout",
     "output_type": "stream",
     "text": [
      "0\n"
     ]
    }
   ],
   "source": [
    "linguagens = ['HTML', 'Python', 'JavaScript', 'C#', 'Java', 'HTML' ]\n",
    "\n",
    "# palavras diferentes\n",
    "\n",
    "for palavras in linguagens:\n",
    "\n",
    "\n",
    "contador = 0\n",
    "for elemento in linguagens:\n",
    "    if elemento == 'HTML':\n",
    "        contador = contador + 1\n",
    "        \n",
    "print(contador)"
   ]
  },
  {
   "cell_type": "code",
   "execution_count": 14,
   "id": "5b60df2d",
   "metadata": {},
   "outputs": [
    {
     "data": {
      "text/plain": [
       "0"
      ]
     },
     "execution_count": 14,
     "metadata": {},
     "output_type": "execute_result"
    }
   ],
   "source": [
    "linguagens = ['HTML', 'Python', 'JavaScript', 'C#', 'Java', 'HTML' ]\n",
    "\n",
    "# linguagens.count('HTMLC')"
   ]
  },
  {
   "cell_type": "code",
   "execution_count": 10,
   "id": "1cf7fa04",
   "metadata": {},
   "outputs": [
    {
     "name": "stdout",
     "output_type": "stream",
     "text": [
      "Esxiteeeeee!\n"
     ]
    }
   ],
   "source": [
    "linguagens = ['Python', 'JavaScript', 'C#', 'Java', 'HTML']\n",
    " \n",
    "existe_html = 'HTML' in linguagens\n",
    "existe_java = 'Java' in linguagens\n",
    " \n",
    "if  existe_html:\n",
    "    print('Esxiteeeeee!')\n",
    "\n",
    "#print('HTML:', existe_html) # HTML: False\n",
    "#print('Java:', existe_java) # Java: True"
   ]
  },
  {
   "cell_type": "code",
   "execution_count": 9,
   "id": "ece9b870",
   "metadata": {},
   "outputs": [
    {
     "data": {
      "text/plain": [
       "bool"
      ]
     },
     "execution_count": 9,
     "metadata": {},
     "output_type": "execute_result"
    }
   ],
   "source": [
    "type(existe_html)"
   ]
  },
  {
   "cell_type": "markdown",
   "id": "e4cdfd8a",
   "metadata": {},
   "source": [
    "Normalmente utilizamos esse comando junto de um *if* quando precisamos checar se um elemento existe:"
   ]
  },
  {
   "cell_type": "code",
   "execution_count": null,
   "id": "ba2aa16f",
   "metadata": {},
   "outputs": [],
   "source": [
    "linguagem_desejada = input('Digite a linguagem que você gostaria de aprender: ')\n",
    " \n",
    "linguagens = ['Python', 'JavaScript', 'C#', 'Java']\n",
    " \n",
    "if 'JavaScript' in linguagens:\n",
    "  print('Faça o curso conosco! :)')\n",
    "else:\n",
    "  print('Não temos esse curso disponível no momento :(')"
   ]
  },
  {
   "cell_type": "markdown",
   "id": "3127a266",
   "metadata": {},
   "source": [
    "### Exercício 1:\n",
    "\n",
    "Dada uma lista de inteiros ('nums') de comprimento n, você deseja criar uma lista 'ans' de comprimento 2n onde:\n",
    "\n",
    "- ans[i] == nums[i] e \n",
    "- ans[i + n] == nums[i] \n",
    "\n",
    "para 0 <= i < n (0-index).\n",
    "\n",
    "Especificamente, ans é a concatenação de duas listas 'nums'.\n",
    "\n",
    "Retorne a lista ans.\n",
    " \n",
    "#### Exemplo 1:\n",
    "\n",
    "- **Entrada:** nums = [1,2,1]\n",
    "\n",
    "- **Saída:** [1,2,1,1,2,1]\n",
    "\n",
    "_Explicação:_ A lista ans é formada da seguinte forma:\n",
    "\n",
    "- ans = [nums[0],nums[1],nums[2],nums[0],nums[1],nums[2]]\n",
    "- ans = [1,2,1,1,2,1]\n",
    "\n",
    "#### Exemplo 2:\n",
    "\n",
    "- **Entrada:** nums = [1,3,2,1]\n",
    "\n",
    "- **Saída:** [1,3,2,1,1,3,2,1]\n",
    "\n",
    "_Explicação:_ A lista ans é formada da seguinte forma:\n",
    "- ans = [nums[0],nums[1],nums[2],nums[3],nums[0],nums[1],nums[2],nums[3]]\n",
    "- ans = [1,3,2,1,1,3,2,1]"
   ]
  },
  {
   "cell_type": "code",
   "execution_count": 1,
   "id": "3297a7c4",
   "metadata": {},
   "outputs": [
    {
     "name": "stdout",
     "output_type": "stream",
     "text": [
      "[1, 3, 2, 1, 1, 3, 2, 1]\n",
      "[1, 3, 2, 1, 1, 3, 2, 1]\n"
     ]
    }
   ],
   "source": [
    "nums = [1,3,2,1]\n",
    "\n",
    "# Solução 1: Usando 'append'\n",
    "ans = nums.copy()\n",
    "\n",
    "for n in range(1): \n",
    "    for elemento in nums:\n",
    "        ans.append(elemento)\n",
    "\n",
    "print(ans)\n",
    "\n",
    "# Solução 2: Usando operações com listas\n",
    "\n",
    "ans2 = nums + nums\n",
    "\n",
    "print(ans)"
   ]
  },
  {
   "cell_type": "markdown",
   "id": "f55f1382",
   "metadata": {},
   "source": [
    "### Exercício 2:\n",
    "\n",
    "Dada uma lista nums. Definimos uma soma acumulada de uma lista como runningSum[i] = sum(nums[0]…nums[i]).\n",
    "\n",
    "Retorne a soma acumulada de nums.\n",
    "\n",
    "#### Exemplo 1:\n",
    "\n",
    "- **Entrada:** nums = [1,2,3,4]\n",
    "\n",
    "- **Saída:** [1,3,6,10]\n",
    "\n",
    "_Explicação:_ A soma acumulada é obtida da seguinte forma: [1, 1+2, 1+2+3, 1+2+3+4].\n",
    "\n",
    "#### Exemplo 2:\n",
    "\n",
    "- **Entrada:** nums = [1,1,1,1,1]\n",
    "- **Saída:** [1,2,3,4,5]\n",
    "\n",
    "_Explicação:_ A soma acumulada é obtida da seguinte forma: [1, 1+1, 1+1+1, 1+1+1+1, 1+1+1+1+1]."
   ]
  },
  {
   "cell_type": "code",
   "execution_count": 4,
   "id": "bc1eec78",
   "metadata": {},
   "outputs": [
    {
     "name": "stdout",
     "output_type": "stream",
     "text": [
      "[1, 3, 6, 10]\n",
      "[1, 3, 6, 10]\n",
      "[1, 3, 6, 10]\n"
     ]
    }
   ],
   "source": [
    "\n",
    "nums = [1,2,3,4]\n",
    "\n",
    "ans = []\n",
    "\n",
    "soma_temporal = 0\n",
    "\n",
    "# Solução 1: Soma por elemento, e usamos append\n",
    "for elemento in nums:\n",
    "    soma_temporal = soma_temporal + elemento\n",
    "    ans.append(soma_temporal)\n",
    "\n",
    "print(ans)\n",
    "    \n",
    "ans = []\n",
    "\n",
    "# Solução 2: Soma por indice\n",
    "for indice in range(len(nums)):\n",
    "    if indice == 0:\n",
    "        ans.append(nums[0])\n",
    "    else:\n",
    "        ans.append(nums[indice] + ans[indice - 1])\n",
    "\n",
    "print(ans)\n",
    "\n",
    "# Solução 3: Atualizando sobre a mesma variavel\n",
    "ans = [nums[0]]\n",
    "\n",
    "for i in range(1, len(nums)):\n",
    "    ans.append(nums[i] + ans[i - 1])\n",
    "\n",
    "print(ans)"
   ]
  }
 ],
 "metadata": {
  "kernelspec": {
   "display_name": "Python 3 (ipykernel)",
   "language": "python",
   "name": "python3"
  },
  "language_info": {
   "codemirror_mode": {
    "name": "ipython",
    "version": 3
   },
   "file_extension": ".py",
   "mimetype": "text/x-python",
   "name": "python",
   "nbconvert_exporter": "python",
   "pygments_lexer": "ipython3",
   "version": "3.11.2"
  }
 },
 "nbformat": 4,
 "nbformat_minor": 5
}
