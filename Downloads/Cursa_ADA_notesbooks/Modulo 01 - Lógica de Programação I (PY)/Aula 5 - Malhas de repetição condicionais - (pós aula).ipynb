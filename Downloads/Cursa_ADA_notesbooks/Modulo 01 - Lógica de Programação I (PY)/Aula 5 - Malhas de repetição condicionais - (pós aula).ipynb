{
 "cells": [
  {
   "cell_type": "markdown",
   "id": "31abafaa",
   "metadata": {},
   "source": [
    "# Aula 5 - Malhas de repetição condicionais\n",
    " \n",
    "Imagine que você queira fazer um programa que exibe os números de 1 até 5, em ordem crescente. Uma possibilidade seria:"
   ]
  },
  {
   "cell_type": "code",
   "execution_count": null,
   "id": "4eeeaeb8",
   "metadata": {},
   "outputs": [],
   "source": []
  },
  {
   "cell_type": "markdown",
   "id": "31bc711d",
   "metadata": {},
   "source": [
    "Porém, imagine que os requisitos do programa acabam sendo alterados, e agora o seu programa deverá ir até 1000. Ou, pior, imagine que o usuário irá digitar um valor e seu programa deverá contar apenas até o valor digitado. Note como fica difícil resolver esses problemas apenas copiando e colando linhas de código.\n",
    " \n",
    "Vamos pensar em outro tipo de problema. Na aula passada, fizemos um exercício onde precisávamos validar algumas entradas do usuário. Uma dessas entradas era a idade, e gostaríamos de aceitar apenas valores entre 0 e 150. Sua solução provavelmente foi parecida com o código abaixo:"
   ]
  },
  {
   "cell_type": "code",
   "execution_count": null,
   "id": "81e28238",
   "metadata": {},
   "outputs": [],
   "source": [
    "idade = int(input('Digite a idade: '))\n",
    " \n",
    "if idade < 0 or idade > 150:\n",
    "  print('Erro')"
   ]
  },
  {
   "cell_type": "markdown",
   "id": "ede801f9",
   "metadata": {},
   "source": [
    "Mas imagine que, ao invés de apenas mostrar uma mensagem de erro, nós devêssemos obrigar o usuário a continuar digitando valores novos para idade até que ele digite um valor válido (entre 0 e 150). Isso não seria possível utilizando apenas **if**, **elif** e **else**.\n",
    " \n",
    "## 1.1. Enquanto\n",
    " \n",
    "Os problemas enunciados acima podem ser resolvidos utilizando estruturas do tipo \"enquanto\".\n",
    "Em Python, a instrução **while** é bastante parecida com o **if**: ela possui uma expressão lógica, e seu conteúdo só será executado se a expressão for verdadeira. Porém, após chegar ao final, ela retorna ao início e testa novamente a condição. \n",
    "\n",
    "Se ela for verdadeira, seu conteúdo será executado de novo. Ao final da nova execução, a condição é testada novamente, e assim sucessivamente. A execução só será interrompida quando o teste se tornar falso.\n",
    "Vejamos como resolver o problema da idade utilizando o **while**:"
   ]
  },
  {
   "cell_type": "code",
   "execution_count": null,
   "id": "ca1e7ed7",
   "metadata": {},
   "outputs": [],
   "source": [
    "idade = int(input('Digite a idade: '))\n",
    " \n",
    "while idade < 0 or idade > 150:\n",
    "  print('Erro! Idade deve estar entre 0 e 150!')\n",
    "  idade = int(input('Digite a idade: '))\n",
    " \n",
    "print('Obrigado!')"
   ]
  },
  {
   "cell_type": "markdown",
   "id": "17d9a0fd",
   "metadata": {},
   "source": [
    "Faça alguns testes com o programa acima. Note que se você digitar uma idade válida desde o início, ele nunca chega a mostrar erro: o **while** é como um **if** e será ignorado se sua condição for falsa. Porém, caso você digite valores inválidos, a condição será verdadeira e ele irá executar _enquanto_ você estiver digitando valores falsos.\n",
    " \n",
    "Estruturas do tipo \"enquanto\" são conhecidas como _malhas de repetição_ ou _loops_.\n",
    " \n",
    "## 1.2. Condição de parada\n",
    " \n",
    "No exemplo anterior, o que determina se o _loop_ prossegue ou não é o valor de idade. Esse valor, por sua vez, pode mudar em cada execução do _loop_, já que temos um **input** lá dentro.\n",
    "Experimente rodar o programa sem aquele **input** e verifique o que ocorre."
   ]
  },
  {
   "cell_type": "code",
   "execution_count": null,
   "id": "ef16485f",
   "metadata": {},
   "outputs": [],
   "source": [
    "idade = int(input('Digite a idade: '))\n",
    " \n",
    "while idade < 0 or idade > 150:\n",
    "  print('Erro! Idade deve estar entre 0 e 150!')  \n",
    "print('Obrigado!')"
   ]
  },
  {
   "cell_type": "markdown",
   "id": "a02a9840",
   "metadata": {},
   "source": [
    "O que ocorreu é o que chamamos de _loop infinito_: se a condição for verdadeira uma vez, ela será para sempre, já que nunca mais alteramos o valor da variável envolvida no teste lógico.\n",
    "É importante criar caminhos para que a condição possa se tornar falsa em algum momento. Isso é o que chamamos de **condição de parada** do nosso loop.\n",
    " \n",
    "## 1.3. Sequências numéricas\n",
    " \n",
    "Iniciamos essa aula enunciando um problema onde gostaríamos de exibir números sequencialmente na tela. Isso é possível de resolver utilizando _loops_.\n",
    "Primeiro, observe o exemplo abaixo e responda: qual valor aparecerá na tela?"
   ]
  },
  {
   "cell_type": "code",
   "execution_count": null,
   "id": "264f63c9",
   "metadata": {},
   "outputs": [],
   "source": [
    "x = 5\n",
    "x = x + 1\n",
    "print(x)"
   ]
  },
  {
   "cell_type": "markdown",
   "id": "efa3976e",
   "metadata": {},
   "source": [
    "Essa construção parece pouco intuitiva porque na matemática o operador **=** é bidirecional: a expressão \"**a = b**\" significa que **a** é igual a **b** e **b** é igual a **a**.\n",
    "Ao vermos **x** aparecendo em ambos os lados, parece que podemos simplesmente cortar dos dois lados, resultando em **0 = 1**, o que é uma inverdade.\n",
    "\n",
    "Em Python o operador **=** na verdade **não é** o operador de igualdade da matemática, e sim o operador de **atribuição** de valores. Ou seja, o que ele diz é \"pegue o resultado da expressão à direita e guarde na variável à esquerda\".\n",
    "Portanto, o exemplo acima pega primeiro o valor antigo de **x**, que era 5, adiciona 1, resultando em 6, e guarda este novo resultado na variável **x**, substituindo o valor antigo. Logo, a resposta na tela é 6.\n",
    " \n",
    "Se colocarmos uma expressão desse tipo dentro de um loop, podemos gerar sequências numéricas:"
   ]
  },
  {
   "cell_type": "code",
   "execution_count": null,
   "id": "98c9f314",
   "metadata": {},
   "outputs": [],
   "source": [
    "final = int(input('Digite o valor final da sequência: '))\n",
    "numero = 1\n",
    " \n",
    "while numero <= final:\n",
    "  print(numero)\n",
    "  numero = numero + 1"
   ]
  },
  {
   "cell_type": "markdown",
   "id": "a366c9bb",
   "metadata": {},
   "source": [
    "O programa acima pede para o usuário digitar um número, que será o valor final da sequência. Então ele irá imprimir a variável **numero**, que vale 1, e somar +1 nela. Em seguida imprimirá de novo a variável, agora valendo 2, e somará +1 nela. E assim sucessivamente até que ela ultrapasse o valor final, quando o _loop_ deixará de ser executado.\n",
    " \n",
    "Você consegue modificar o programa acima para fazer uma sequência decrescente? E para gerar a tabuada de um número dado pelo usuário? Você precisará mexer na expressão lógica do loop e no incremento de **numero**.\n",
    "> Em expressões onde uma variável aparece de ambos os lados, podemos utilizar uma abreviação. Por exemplo, a expressão\n",
    "> ```x = x + 5```\n",
    "> Pode ser reescrita como:\n",
    "> ```x += 5```\n",
    "> Isso vale para todas as outras expressões aritméticas (subtração, multiplicação, divisão etc.).\n",
    " \n",
    "# 2. Comandos de manipulação de fluxo\n",
    " \n",
    "É possível manipular de algumas maneiras a forma como uma malha de repetição se comporta: nós podemos interromper sua execução sem que sua condição de parada tenha sido atingida e podemos saltar para o próximo passo sem finalizar o atual.\n",
    " \n",
    "## 2.1. Break\n",
    " \n",
    "Vamos montar um exemplo simples: imagine que você irá fazer um joguinho onde o usuário terá 10 tentativas para adivinhar um número secreto. Um bom primeiro passo seria criar um loop que conta as 10 tentativas:\n",
    " "
   ]
  },
  {
   "cell_type": "code",
   "execution_count": 2,
   "id": "fc6e346e",
   "metadata": {},
   "outputs": [
    {
     "name": "stdout",
     "output_type": "stream",
     "text": [
      "Errou\n",
      "Errou\n",
      "Acertou\n",
      "Acertou\n",
      "Acertou\n",
      "Acertou\n",
      "Acertou\n",
      "Acertou\n",
      "Errou\n",
      "Acertou\n"
     ]
    }
   ],
   "source": [
    "numero_secreto = 42\n",
    " \n",
    "contador = 0\n",
    " \n",
    "while contador < 10:\n",
    "  tentativa = int(input('Adivinhe o número secreto: '))\n",
    "  if tentativa == numero_secreto:\n",
    "    print('Acertou')\n",
    "  else:\n",
    "    print('Errou')\n",
    "  contador += 1"
   ]
  },
  {
   "cell_type": "markdown",
   "id": "824f8c0c",
   "metadata": {},
   "source": [
    "No momento, mesmo que o usuário acerte, ele irá contar até a décima tentativa. Com o que já aprendemos até o momento, poderíamos consertar isso colocando uma segunda condição de parada:"
   ]
  },
  {
   "cell_type": "code",
   "execution_count": 3,
   "id": "5cc97c36",
   "metadata": {},
   "outputs": [
    {
     "name": "stdout",
     "output_type": "stream",
     "text": [
      "Errou\n",
      "Acertou\n"
     ]
    }
   ],
   "source": [
    "numero_secreto = 42\n",
    " \n",
    "contador = 0\n",
    " \n",
    "tentativa = 0\n",
    " \n",
    "while contador < 10 and tentativa != numero_secreto:\n",
    "  tentativa = int(input('Adivinhe o número secreto: '))\n",
    "  if tentativa == numero_secreto:\n",
    "    print('Acertou')\n",
    "    \n",
    "  else:\n",
    "    print('Errou')\n",
    "  contador += 1"
   ]
  },
  {
   "cell_type": "markdown",
   "id": "243b592c",
   "metadata": {},
   "source": [
    "Se você executar o programa, verá que ele funciona: caso o usuário acerte **ou** 10 tentativas sejam feitas, o programa encerra sua execução. Mas note que o código ficou um pouquinho mais bagunçado: estamos testando duas vezes o valor de ```tentativa```: na condição do ```while``` e na condição do ```if```. Não seria mais prático dentro do próprio ```if```, logo após informar para o usuário que ele acertou, se a gente já pudesse falar para o loop parar de ser executado?\n",
    " \n",
    "É aí que entra o **break**: quando estamos em uma malha de repetição e encontramos o comando **break**, a malha é interrompida imediatamente. Podemos reescrever o programa acima utilizando esse comando:"
   ]
  },
  {
   "cell_type": "code",
   "execution_count": 7,
   "id": "d32eac23",
   "metadata": {},
   "outputs": [
    {
     "name": "stdout",
     "output_type": "stream",
     "text": [
      "Errou\n",
      "Errou\n",
      "Errou\n"
     ]
    }
   ],
   "source": [
    "numero_secreto = 42\n",
    " \n",
    "contador = 0\n",
    " \n",
    "while (contador < 3):  \n",
    "  tentativa = int(input('Adivinhe o número secreto: '))\n",
    "  if tentativa == numero_secreto:\n",
    "    print('Acertou')\n",
    "    break\n",
    "  print('Errou')\n",
    "  contador += 1\n",
    "  \n",
    "  \n",
    "# nova linha "
   ]
  },
  {
   "cell_type": "markdown",
   "id": "da6ebdc1",
   "metadata": {},
   "source": [
    "> Alguns programadores utilizam ```while True:``` (ou seja, um loop a princípio infinito) e no corpo do loop espalham combinações de ```if``` + ```break```. Exceto em situações muito específicas e raras, isso é uma má prática e deve ser evitada, pois compromete bastante a legibilidade do código, e consequentemente sua manutenção no futuro.\n",
    " \n",
    "## 2.2. Else\n",
    " \n",
    "Você pode observar que no programa acima, respondemos \"Errou\" para cada chute errado do usuário. Mas o programa ainda não informou para ele que as tentativas dele se esgotaram. Temos algumas possibilidades aqui!\n",
    " \n",
    "Uma delas seria testar o valor do contador no final do loop:"
   ]
  },
  {
   "cell_type": "code",
   "execution_count": 8,
   "id": "334890c4",
   "metadata": {},
   "outputs": [
    {
     "name": "stdout",
     "output_type": "stream",
     "text": [
      "Errou\n",
      "Errou\n",
      "Errou\n",
      "Acabaram as tentativas. Você perdeu.\n"
     ]
    }
   ],
   "source": [
    "numero_secreto = 42\n",
    " \n",
    "contador = 0\n",
    " \n",
    "while contador < 3:\n",
    "  tentativa = int(input('Adivinhe o número secreto: '))\n",
    "  if tentativa == numero_secreto:\n",
    "    print('Acertou')\n",
    "    break\n",
    "  print('Errou')\n",
    "  contador += 1\n",
    "  if contador == 3:\n",
    "    print('Acabaram as tentativas. Você perdeu.')"
   ]
  },
  {
   "cell_type": "markdown",
   "id": "c8f2be9e",
   "metadata": {},
   "source": [
    "Outra seria utilizar uma **flag**: uma variável booleana que indica se entramos no ```if``` ou não:"
   ]
  },
  {
   "cell_type": "code",
   "execution_count": 10,
   "id": "bb0436b0",
   "metadata": {},
   "outputs": [
    {
     "name": "stdout",
     "output_type": "stream",
     "text": [
      "Acertou!\n"
     ]
    }
   ],
   "source": [
    "numero_secreto = 42\n",
    " \n",
    "contador = 0\n",
    " \n",
    "acertou = False\n",
    " \n",
    "while contador < 3:\n",
    "  tentativa = int(input('Adivinhe o número secreto: '))\n",
    "  if tentativa == numero_secreto:\n",
    "    acertou = True\n",
    "    break\n",
    "  print('Errou')\n",
    "  contador += 1\n",
    " \n",
    "if acertou:\n",
    "  print('Acertou!')\n",
    "else:\n",
    "  print('Acabaram as tentativas. Você perdeu.')"
   ]
  },
  {
   "cell_type": "markdown",
   "id": "2bb3f045",
   "metadata": {},
   "source": [
    "Na maioria das linguagens de programação, teríamos que optar por uma dessas alternativas. Comandos que estudamos aqui em Python são comuns a várias linguagens diferentes, incluindo o par ```if```/```else```, o ```while``` e o ```break```.\n",
    " \n",
    "Mas o Python possui uma ferramenta adicional bastante incomum, mas que pode simplificar problemas desse tipo. Ele permite a utilização de um ```else``` para um loop. A estrutura deve ser a seguinte:\n",
    "\n",
    "```python\n",
    " \n",
    "while (condicao_principal):\n",
    "  ...\n",
    "  ...\n",
    "  if (condicao_secundaria):\n",
    "    break\n",
    "  ...\n",
    "  ...\n",
    "else:\n",
    "  ...\n",
    "```\n",
    " \n",
    "Esse código funcionará da seguinte maneira: se o loop parar pela condição principal (ou seja, executou a quantidade \"correta\" de repetições), o **else** será executado. Se o loop parar pela condição secundária (ou seja, por conta de um **break**), o **else** será ignorado.\n",
    " \n",
    "Sendo assim, podemos reescrever nosso programa principal de maneira mais *pythonica* utilizando esse recurso:"
   ]
  },
  {
   "cell_type": "code",
   "execution_count": null,
   "id": "3ef12826",
   "metadata": {},
   "outputs": [],
   "source": [
    "numero_secreto = 42\n",
    " \n",
    "contador = 0\n",
    " \n",
    "while contador < 10:\n",
    "  tentativa = int(input('Adivinhe o número secreto: '))\n",
    "  if tentativa == numero_secreto:\n",
    "    print('Acertou!')\n",
    "    break\n",
    "  print('Errou')\n",
    "  contador += 1\n",
    "else:\n",
    "  print('Acabaram as tentativas. Você perdeu.')"
   ]
  },
  {
   "cell_type": "markdown",
   "id": "0e54a000",
   "metadata": {},
   "source": [
    "Execute o programa e veja que ele só irá mostrar a mensagem de derrota quando as 10 tentativas forem concluídas.\n",
    " \n",
    "## 2.3. Continue\n",
    " \n",
    "Existe outro comando de desvio de fluxo de malhas de repetição: o ```continue```. A diferença entre ele e o ```break``` é que o ```continue``` encerra apenas o passo atual de repetição, mas ele não encerra o loop como um todo. Quando executamos esse comando, o loop irá voltar para o topo, testar novamente sua condição de parada, e caso ela não tenha sido atingida, ele iniciará uma nova **iteração** (ou seja, um novo passo em um loop).\n",
    " \n",
    "Vamos reescrever nosso programa anterior invertendo a verificação para vermos o ```continue``` em ação."
   ]
  },
  {
   "cell_type": "code",
   "execution_count": 3,
   "id": "ced93f1c",
   "metadata": {},
   "outputs": [
    {
     "name": "stdout",
     "output_type": "stream",
     "text": [
      "Acertou!\n"
     ]
    }
   ],
   "source": [
    "numero_secreto = 42\n",
    " \n",
    "contador = 0\n",
    " \n",
    "while contador < 3:\n",
    "    tentativa = int(input('Adivinhe o número secreto: '))\n",
    "    \n",
    "    if tentativa != numero_secreto:\n",
    "        contador += 1    \n",
    "        print('Errou!')\n",
    "        continue\n",
    "        \n",
    "    print('Acertou!')\n",
    "    break    \n",
    "\n",
    "if contador >= 3:\n",
    "    print('Acabaram as tentativas. Você perdeu.')\n",
    "\n",
    "\n",
    "# nova linha"
   ]
  },
  {
   "cell_type": "markdown",
   "id": "e564bf25",
   "metadata": {},
   "source": [
    "Sempre que o usuário errar o chute, o ```continue``` irá desviar o fluxo de execução de volta para o início do loop, impedindo que as duas últimas linhas do loop sejam executadas. Ou seja, ele não irá dizer \"acertou\", tampouco executar o ```break```.\n",
    " \n",
    "> **Atenção:** todos os desvios estudados aqui podem ser utilizados, caso contrário, não existiriam. Porém, em certas situações eles podem tornar o código mais confuso. Por exemplo, quando temos diversos loops aninhados, pode não ficar claro para alguém lendo o código qual dos loops está sendo encerrado. Sempre que for utilizar esses recursos, verifiquem se eles estão melhorando ou piorando a legibilidade do código."
   ]
  },
  {
   "cell_type": "markdown",
   "id": "5da90d5c",
   "metadata": {},
   "source": [
    "### Exercício 1:\n",
    "\n",
    "Dado um número inteiro, retorne o número de etapas para reduzi-lo a zero.\n",
    "\n",
    "Em uma etapa, se o número atual for par, você deve dividi-lo por 2, caso contrário, deve subtrair 1 dele. Exemplo:\n",
    "\n",
    "**Entrada:** num = 14\n",
    "\n",
    "**Saída:** 6\n",
    "\n",
    "Explicação:\n",
    "- Etapa 1) 14 é par; divida por 2 e obtenha 7.\n",
    "- Etapa 2) 7 é ímpar; subtraia 1 e obtenha 6.\n",
    "- Etapa 3) 6 é par; divida por 2 e obtenha 3.\n",
    "- Etapa 4) 3 é ímpar; subtraia 1 e obtenha 2.\n",
    "- Etapa 5) 2 é par; divida por 2 e obtenha 1.\n",
    "- Etapa 6) 1 é ímpar; subtraia 1 e obtenha 0."
   ]
  },
  {
   "cell_type": "code",
   "execution_count": null,
   "id": "17fd2126",
   "metadata": {},
   "outputs": [],
   "source": [
    "if (a > b): "
   ]
  },
  {
   "cell_type": "code",
   "execution_count": 15,
   "id": "9d26ac79",
   "metadata": {},
   "outputs": [
    {
     "name": "stdout",
     "output_type": "stream",
     "text": [
      "Etapa1, 14 é par; divida por 2 e obtenha 7.0\n",
      "Etapa2, 7 é ímpar; subtraia 1 e obtenha 6\n",
      "Etapa3, 6 é par; divida por 2 e obtenha 3.0\n",
      "Etapa4, 3 é ímpar; subtraia 1 e obtenha 2\n",
      "Etapa5, 2 é par; divida por 2 e obtenha 1.0\n",
      "Etapa6, 1 é ímpar; subtraia 1 e obtenha 0\n",
      "6\n"
     ]
    }
   ],
   "source": [
    "num = int(input(\"Entre com um número inteiro: \"))\n",
    "count = 0\n",
    "while num:\n",
    "    if num % 2 == 0:\n",
    "        print(f'Etapa{count + 1}, {num} é par; divida por 2 e obtenha {num/2}')\n",
    "        num = num // 2\n",
    "    else:\n",
    "        print(f'Etapa{count + 1}, {num} é ímpar; subtraia 1 e obtenha {num-1}')\n",
    "        num = num-1\n",
    "    count = count + 1\n",
    "    \n",
    "print(count)"
   ]
  },
  {
   "cell_type": "markdown",
   "id": "ca1c34d8",
   "metadata": {},
   "source": [
    "### Exercício 2:\n",
    "\n",
    "Você tem 'n' moedas e deseja construir uma escada com essas moedas. A escada consiste em k fileiras onde a iésima fileira tem exatamente i moedas. A última fila da escada pode estar incompleta.\n",
    "\n",
    "Dado o inteiro n, retorne o número de linhas completas da escada que você construirá.\n",
    "\n",
    "<img src=\"Imagens/arrangecoins1-grid.jpg\" width=200>\n",
    "\n",
    "**Entrada:** n = 5\n",
    "\n",
    "**Saída:** 2\n",
    "\n",
    "Explicação: Como a 3a linha está incompleta, retornamos 2."
   ]
  },
  {
   "cell_type": "code",
   "execution_count": null,
   "id": "a1ef6c94",
   "metadata": {},
   "outputs": [],
   "source": [
    "num_moedas = int(input('Informe o número de moedas: '))\n",
    "\n",
    "fila_atual = 0\n",
    "\n",
    "while (num_moedas > 0):\n",
    "    fila_atual = fila_atual + 1 # descer pela escada\n",
    "    num_moedas = num_moedas - fila_atual # tirar moedas\n",
    "    \n",
    "if (num_moedas < 0):\n",
    "    print(f'Eu consegui preencher {fila_atual - 1} filas.')\n",
    "else :\n",
    "    print(f'Eu consegui preencher {fila_atual} filas.')"
   ]
  },
  {
   "cell_type": "markdown",
   "id": "743856ba",
   "metadata": {},
   "source": [
    "# Hora de exercícios! Voltamos 21h50"
   ]
  },
  {
   "cell_type": "markdown",
   "id": "ea2cb323",
   "metadata": {},
   "source": [
    "### Exercício 3: (para casa)\n",
    "\n",
    "Dadas as coordenadas de dois retângulos retilíneos em um plano 2D, retorne a área total coberta pelos dois retângulos.\n",
    "\n",
    "- O primeiro retângulo é definido por seu canto inferior esquerdo (ax1, ay1) e seu canto superior direito (ax2, ay2).\n",
    "\n",
    "- O segundo retângulo é definido por seu canto inferior esquerdo (bx1, by1) e seu canto superior direito (bx2, by2).\n",
    "\n",
    "Exemplo 1:\n",
    "\n",
    "<img src=\"Imagens/rectangle-plane.png\" width=600>\n",
    "\n",
    "**Input:** ax1 = -3, ay1 = 0, ax2 = 3, ay2 = 4, bx1 = 0, by1 = -1, bx2 = 9, by2 = 2\n",
    "\n",
    "**Output:** 45"
   ]
  },
  {
   "cell_type": "markdown",
   "id": "49fee302",
   "metadata": {},
   "source": [
    "## Soteio dos grupos para o projeto"
   ]
  },
  {
   "cell_type": "code",
   "execution_count": 23,
   "id": "eb0d848c",
   "metadata": {},
   "outputs": [
    {
     "name": "stdout",
     "output_type": "stream",
     "text": [
      "Andrew Alaniz\n"
     ]
    }
   ],
   "source": []
  },
  {
   "cell_type": "code",
   "execution_count": 82,
   "id": "db268e3a",
   "metadata": {},
   "outputs": [
    {
     "name": "stdout",
     "output_type": "stream",
     "text": [
      "\n",
      "Grupo 1: \n",
      "Fernanda Madail , Fabricio Alexandre , Hugo Bonifácio , Eduardo Mendes , Letícia Carneiro , \n",
      "Grupo 2: \n",
      "Letícia Costa , Christiany Delfin , Kely Murta , Caio Vieira , Andrew Alaniz , \n",
      "Grupo 3: \n",
      "Jadeson Da Silva , Luiz Popoff , Kelly Oliveira , Igor Cruz , Rafael Da Silva , \n",
      "Grupo 4: \n",
      "Gabriel Lima , Samyr Silva , Daniel Salazar , Michel José , Matheus Nascimento , \n",
      "Grupo 5: \n",
      "José Neto , Jared Firme Leite , Janderson Ribeiro , Samara Silva , Sarah Rezende , \n",
      "Grupo 6: \n",
      "Daniella Da Silva , Guilherme Muniz , Vinicius Dutra , João Silva , "
     ]
    }
   ],
   "source": [
    "import random\n",
    "\n",
    "alunos = ['Andrew Alaniz', 'Caio Vieira', 'Christiany Delfin', 'Daniel Salazar', 'Daniella Da Silva',\n",
    "'Eduardo Mendes', 'Fabricio Alexandre', 'Fernanda Madail', 'Gabriel Lima', 'Guilherme Muniz', 'Hugo Bonifácio',\n",
    "'Igor Cruz', 'Jadeson Da Silva', 'Janderson Ribeiro', 'Jared Firme Leite', 'José Neto', 'João Silva',\n",
    "'Kelly Oliveira', 'Kely Murta', 'Letícia Costa', 'Letícia Carneiro', 'Luiz Popoff', 'Matheus Nascimento',\n",
    "'Michel José', 'Rafael Da Silva', 'Samara Silva', 'Samyr Silva', 'Sarah Rezende', 'Vinicius Dutra']\n",
    "\n",
    "alunos_aleatorios = []\n",
    "\n",
    "# Lista com elementos = True\n",
    "# Lista vazia = False\n",
    "while alunos:   \n",
    "    aluno_aleatorio = random.choice(alunos)\n",
    "    alunos_aleatorios.append(aluno_aleatorio)\n",
    "    alunos.remove(aluno_aleatorio)\n",
    "\n",
    "numero_maximo_alunos = 5\n",
    "contador_alunos = 0\n",
    "numero_alunos = len(alunos_aleatorios)\n",
    "contador_grupos = 1\n",
    "\n",
    "while contador_alunos < numero_alunos:    \n",
    "    if(contador_alunos % 5 == 0):\n",
    "        print(f'\\nGrupo {contador_grupos}: ')\n",
    "        contador_grupos = contador_grupos + 1 \n",
    "    \n",
    "    print(alunos_aleatorios[contador_alunos], ', ', end='')\n",
    "    contador_alunos = contador_alunos + 1"
   ]
  },
  {
   "cell_type": "code",
   "execution_count": 72,
   "id": "70454e5f",
   "metadata": {},
   "outputs": [
    {
     "data": {
      "text/plain": [
       "[0, 1]"
      ]
     },
     "execution_count": 72,
     "metadata": {},
     "output_type": "execute_result"
    }
   ],
   "source": [
    "list(range(0, 2))"
   ]
  },
  {
   "cell_type": "code",
   "execution_count": 78,
   "id": "7946feaa",
   "metadata": {},
   "outputs": [
    {
     "name": "stdout",
     "output_type": "stream",
     "text": [
      "1\n",
      "20\n",
      "50\n"
     ]
    }
   ],
   "source": [
    "for posicao in [1, 20, 50]:\n",
    "    print(posicao)"
   ]
  },
  {
   "cell_type": "code",
   "execution_count": 86,
   "id": "cbbd11dc",
   "metadata": {},
   "outputs": [
    {
     "name": "stdout",
     "output_type": "stream",
     "text": [
      "Os ganhadores foram:\n",
      " - Hugo Bonifácio\n",
      " - Samara Silva\n"
     ]
    }
   ],
   "source": [
    "import random\n",
    "\n",
    "alunos = ['Andrew Alaniz', 'Caio Vieira', 'Christiany Delfin', 'Daniel Salazar', 'Daniella Da Silva',\n",
    "'Eduardo Mendes', 'Fabricio Alexandre', 'Fernanda Madail', 'Gabriel Lima', 'Guilherme Muniz', 'Hugo Bonifácio',\n",
    "'Igor Cruz', 'Jadeson Da Silva', 'Janderson Ribeiro', 'Jared Firme Leite', 'José Neto', 'João Silva',\n",
    "'Kelly Oliveira', 'Kely Murta', 'Letícia Costa', 'Letícia Carneiro', 'Luiz Popoff', 'Matheus Nascimento',\n",
    "'Michel José', 'Rafael Da Silva', 'Samara Silva', 'Samyr Silva', 'Sarah Rezende', 'Vinicius Dutra']\n",
    "\n",
    "\n",
    "aluno_sorteado1 = random.choice(alunos)\n",
    "alunos.remove(aluno_sorteado1)\n",
    "aluno_sorteado2 = random.choice(alunos)\n",
    "\n",
    "print('Os ganhadores foram:')\n",
    "\n",
    "print(f' - {aluno_sorteado1}')\n",
    "print(f' - {aluno_sorteado2}')"
   ]
  }
 ],
 "metadata": {
  "kernelspec": {
   "display_name": "Python 3 (ipykernel)",
   "language": "python",
   "name": "python3"
  },
  "language_info": {
   "codemirror_mode": {
    "name": "ipython",
    "version": 3
   },
   "file_extension": ".py",
   "mimetype": "text/x-python",
   "name": "python",
   "nbconvert_exporter": "python",
   "pygments_lexer": "ipython3",
   "version": "3.11.2"
  }
 },
 "nbformat": 4,
 "nbformat_minor": 5
}
