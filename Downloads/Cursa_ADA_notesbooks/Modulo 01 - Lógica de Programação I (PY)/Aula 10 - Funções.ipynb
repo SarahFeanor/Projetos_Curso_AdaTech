{
 "cells": [
  {
   "cell_type": "markdown",
   "id": "a0adaa8a",
   "metadata": {},
   "source": [
    "# Aula 10 - Funções\n",
    "Imagine que você fez um programinha para gerar estatísticas sobre vários dados dos funcionários: média dos salários, média de vendas, média de _feedback_ positivo, média de _feedback_ negativo, média de notas atribuídas pelos gestores... Você tem uma lista com os salários, uma lista com o total de vendas de cada funcionário, e assim sucessivamente. Então você fez o seguinte trecho de código:"
   ]
  },
  {
   "cell_type": "code",
   "execution_count": null,
   "id": "9c89f6cc",
   "metadata": {},
   "outputs": [],
   "source": [
    "lista = [0]\n",
    "soma = 0\n",
    "for elemento in lista:\n",
    "    soma = elemento\n",
    "media = soma/len(lista)"
   ]
  },
  {
   "cell_type": "markdown",
   "id": "604fb49d",
   "metadata": {},
   "source": [
    "Em seguida, você copiou e colou esse trecho de código várias vezes mudando \"lista\" pelo nome de cada lista individual, e \"media\" pelo nome do atributo. Trabalhoso, certo? Imagine que agora você percebeu o erro no trecho acima, e terá que sair corrigindo em todos os lugares onde colou o código errado. Imagina que conveniente se você pudesse arrumar apenas uma vez e todas as ocorrências fossem corrigidas automaticamente...\n",
    "## 1. Funções\n",
    "\n",
    "Uma função é um pedacinho de programa. Nós podemos dar um nome para nossa função, e toda vez que precisarmos que esse pedacinho de programa seja executado, nós o chamamos pelo nome. \n",
    "\n",
    "Com isso, podemos evitar repetição de código, tornando nossos códigos mais enxutos e legíveis. Além disso, fica mais fácil corrigir problemas como o ilustrado no início deste capítulo.\n",
    "### 1.1. Criando funções\n",
    "\n",
    "#### 1.1.1. Sintaxe básica\n",
    "Em Python, podemos criar funções com o comando _def_, e em seguida damos um nome para nossa função."
   ]
  },
  {
   "cell_type": "code",
   "execution_count": null,
   "id": "bbd4ab14",
   "metadata": {},
   "outputs": [],
   "source": [
    "def minha_primeira_funcao():\n",
    "    print('Olá Mundo')"
   ]
  },
  {
   "cell_type": "markdown",
   "id": "4640d469",
   "metadata": {},
   "source": [
    "Se você executar o código acima, o que aparecerá na tela? Nada. Tudo que o código acima faz é **definir** *minha_primeira_funcao*, mas ela só será **executada** quando for chamada pelo nome."
   ]
  },
  {
   "cell_type": "code",
   "execution_count": null,
   "id": "d0327a5a",
   "metadata": {},
   "outputs": [],
   "source": [
    "# criando a função\n",
    "def minha_primeira_funcao():\n",
    "    print('Olá Mundo')\n",
    "\n",
    "# o programa começa de verdade aqui:\n",
    "minha_primeira_funcao() # chamada para a função"
   ]
  },
  {
   "cell_type": "markdown",
   "id": "b7683760",
   "metadata": {},
   "source": [
    "Quando **chamamos** uma função, a execução do programa principal é pausada, o fluxo de execução é desviado para a função, e ao final dela ele retornará para o ponto onde parou. Veja o exemplo abaixo:"
   ]
  },
  {
   "cell_type": "code",
   "execution_count": null,
   "id": "ac519bc7",
   "metadata": {},
   "outputs": [],
   "source": [
    "# criando a função\n",
    "def minha_primeira_funcao():\n",
    "    print('Olá Mundo')\n",
    "\n",
    "# o programa começa de verdade aqui:\n",
    "print('aaa')\n",
    "minha_primeira_funcao() # chamada para a função\n",
    "print('bbb')"
   ]
  },
  {
   "cell_type": "markdown",
   "id": "b81fba5e",
   "metadata": {},
   "source": [
    "#### 1.1.2. Escopo de uma variável\n",
    "Se você criar uma variável dentro de uma função, dizemos que o escopo dessa variável é a função onde ela foi criada. Isso significa que essa variável existe apenas dentro da função e apenas durante sua execução. Se o seu programa principal possui uma variável chamada \"nome\" e uma função também possui uma variável chamada \"nome\", elas **não** são a mesma variável. Qualquer alteração feita nessa variável dentro da função não irá afetar de maneira alguma a variável externa. \n",
    "\n",
    "#### 1.1.3. Parâmetros de uma função\n",
    "Nossas funções devem ser tão genéricas quanto possível se quisermos reaproveitá-las ao máximo. \n",
    "\n",
    "Um dos pontos onde devemos tomar cuidado é na entrada de dados da função: se usarmos um _input_ dentro da função, teremos uma função que resolverá um certo problema _desde que o usuário vá digitar os dados do problema_. Mas e se quisermos usar a função em um trecho do programa onde o usuário digita os dados e em outro ponto onde os dados são lidos de um arquivo?\n",
    "\n",
    "Podemos resolver isso fazendo a leitura de dados no programa principal, fora de nossa função, e então **passaremos** os dados para a função. Dados passados para a função são chamados de _parâmetros_ ou _argumentos_ de uma função. Observe o exemplo abaixo:"
   ]
  },
  {
   "cell_type": "code",
   "execution_count": null,
   "id": "36e491d5",
   "metadata": {},
   "outputs": [],
   "source": [
    "def soma(a, b):\n",
    "    resultado = a + b\n",
    "    print(resultado)\n",
    "\n",
    "soma(3, 2) # resultado na tela: 5\n",
    "soma(4, 7) # resultado na tela: 11\n",
    "x = 5\n",
    "soma(10, x) # resultado na tela: 15"
   ]
  },
  {
   "cell_type": "code",
   "execution_count": null,
   "id": "27432e0c",
   "metadata": {},
   "outputs": [],
   "source": [
    "def bem_vindo(nome):\n",
    "    print('Bem vindo', nome)\n",
    "\n",
    "def parabens(nome, sobrenome):     \n",
    "    bem_vindo(nome)   \n",
    "    print('Parabens', nome, sobrenome)\n",
    "\n",
    "parabens('Jorge', 'Diaz')"
   ]
  },
  {
   "cell_type": "code",
   "execution_count": null,
   "id": "f9c28e23",
   "metadata": {},
   "outputs": [],
   "source": [
    "retorno = parabens('Jorge', 'Diaz')\n",
    "\n",
    "print(retorno)"
   ]
  },
  {
   "cell_type": "code",
   "execution_count": null,
   "id": "733747dd",
   "metadata": {},
   "outputs": [],
   "source": [
    "lista = [1, 2, 3]\n",
    "\n",
    "tamhanho = len(lista)\n",
    "\n",
    "print('O tamanho da minha lista eh',tamhanho)"
   ]
  },
  {
   "cell_type": "markdown",
   "id": "3c7a8cec",
   "metadata": {},
   "source": [
    "Quando colocamos \"a\" e \"b\" entre parênteses na criação da função, estamos especificando que a função recebe 2 parâmetros. O primeiro valor que for **passado** entre parênteses para nossa função será referenciado por \"a\" e o segundo será referenciado por \"b\". É como se \"a\" e \"b\" fossem variáveis que vão receber a cópia dos valores passados para a função. Note que podemos passar valores puros ou variáveis (como fizemos com \"x\" na última linha), e não precisamos criar variáveis \"a\" e \"b\" em nosso programa principal para \"casar\" com os parâmetros da função.\n",
    "\n",
    "#### 1.1.4. Retorno de uma função\n",
    "Certas funções possuem uma \"resposta\": elas resolvem um problema (por exemplo, uma equação matemática) e nós estamos interessados no resultado. No exemplo anterior, tínhamos uma soma e nós imprimíamos a soma na tela.\n",
    "\n",
    "Porém, ainda pensando na questão da função ser genérica: será que nós sempre queremos o resultado na tela? Imagine que você esteja utilizando a fórmula de Bháskara para resolver uma equação de segundo grau. No meio da fórmula existe uma raiz quadrada. Nós não queremos o resultado da raiz quadrada na tela, nós queremos o resultado dentro do nosso programa em uma variável para jogar em outra equação.\n",
    "\n",
    "Bom, parece fácil: vamos tentar pegar o resultado fora da função... Certo?"
   ]
  },
  {
   "cell_type": "code",
   "execution_count": null,
   "id": "7fa03c21",
   "metadata": {},
   "outputs": [],
   "source": [
    "def soma(a, b):\n",
    "    resultado = a + b\n",
    "\n",
    "media = resultado/2\n",
    "print(media)"
   ]
  },
  {
   "cell_type": "markdown",
   "id": "2708129e",
   "metadata": {},
   "source": [
    "Se você executar o programa acima, verá uma mensagem de erro dizendo que \"resultado\" não existe. Toda variável criada dentro de uma função é **privada**. Ela só pode ser acessada dentro da função e será destruída ao final da execução da função. Para disponibilizar para o programa um valor que foi gerado dentro da função, utilizamos o comando _return_."
   ]
  },
  {
   "cell_type": "code",
   "execution_count": null,
   "id": "c48b62ad",
   "metadata": {},
   "outputs": [],
   "source": [
    "def soma(a, b):\n",
    "    resultado = a + b\n",
    "    return resultado\n",
    "\n",
    "s = soma(10, 5)\n",
    "media = s/2\n",
    "print(media)"
   ]
  },
  {
   "cell_type": "code",
   "execution_count": null,
   "id": "6057a865",
   "metadata": {},
   "outputs": [],
   "source": [
    "def parabens(nome, sobrenome): \n",
    "    retorno = f'Parabens {nome} {sobrenome}'\n",
    "    return retorno"
   ]
  },
  {
   "cell_type": "code",
   "execution_count": null,
   "id": "59d321ed",
   "metadata": {},
   "outputs": [],
   "source": [
    "mensagem = parabens('Jorge', 'Diaz')\n",
    "\n",
    "print(mensagem)"
   ]
  },
  {
   "cell_type": "markdown",
   "id": "1cdab0e6",
   "metadata": {},
   "source": [
    "Quando fizemos ```s = soma(10, 5)```, a função _soma_ foi chamada, e ao final da execução, _s_ recebeu o valor retornado por ela. Deste ponto em diante podemos utilizar a \"resposta\" da nossa função em nosso programa principal.\n",
    "\n",
    "O _return_, além de disponibilizar um valor, **encerra** a execução da função. Se a sua função possuir outras linhas após o _return_, elas serão ignoradas.\n",
    "\n",
    "> **Importante:** o _return_ não torna a **variável** disponível fora da função, e sim o seu valor. Mesmo fazendo ```return resultado```, se você tentar acessar ```resultado``` fora da função, você encontrará um erro. Imagine que a variável interna da sua função é uma caixinha, e o seu valor é o conteúdo da caixinha. Ao final da execução da função, a caixinha sempre será jogada fora, mas o seu conteúdo pode ser resgatado pelo programa principal ou por outra função, e eles ficam responsáveis por usar esse conteúdo e/ou armazená-lo em outra caixinha.\n",
    "\n",
    "## 2. Recursividade\n",
    "\n",
    "Uma função pode chamar outra função? Sim. Rode o programa abaixo e observe que ele funciona:"
   ]
  },
  {
   "cell_type": "code",
   "execution_count": null,
   "id": "53ade373",
   "metadata": {},
   "outputs": [],
   "source": [
    "def soma(a, b):\n",
    "    resultado = a + b\n",
    "    return resultado\n",
    "\n",
    "def media(x, y):\n",
    "    s = soma(x, y)\n",
    "    resultado = s/2\n",
    "    return resultado\n",
    "\n",
    "m = media(10, 5)\n",
    "print(m)"
   ]
  },
  {
   "cell_type": "markdown",
   "id": "e1e89ae5",
   "metadata": {},
   "source": [
    "Mas e se uma função referenciasse ela mesma? Isso também funciona, e chama-se **função recursiva**, ou **recursão**. \n",
    "\n",
    "A ideia vem da matemática. Vejamos um exemplo. Considere a função fatorial. O fatorial de um número n qualquer é igual ao produto entre n e todos os seus antecessores inteiros positivos: n! = n x (n-1) x (n-2) x ... x 2 x 1. \n",
    "\n",
    "Considere o fatorial de 5:\n",
    "5! = 5x**4x3x2x1**\n",
    "\n",
    "Pense agora no fatorial de 4:\n",
    "4! = 4x3x2x1\n",
    "\n",
    "Note que temos destacado em negrito a expressão completa do fatorial de 4 dentro do fatorial de 5. Então é possível reescrecer o fatorial de 5 em função do fatorial de 4:\n",
    "\n",
    "5! = 5x(4!)\n",
    "\n",
    "Porém, dentro do fatorial de 4, temos o fatorial de 3, e assim sucessivamente. Podemos generalizar da seguinte maneira:\n",
    "\n",
    "f(n) = \n",
    "* 1, se n = 1\n",
    "* n * f(n-1), se x > 1\n",
    "\n",
    "Ou seja, imagine que você queira calcular f(4). Como 4 > 1, teremos:\n",
    "f(4) = 4 * f(3)\n",
    "\n",
    "Precisamos expandir f(3):\n",
    "f(4) = 4 * (3 * f(2))\n",
    "\n",
    "E assim sucessivamente:\n",
    "f(4) = 4 * (3 * (2 * f(1)))\n",
    "\n",
    "Opa, f(1) nós conhecemos: está definido lá em cima como 1.\n",
    "Portanto:\n",
    "f(4) = 4 * 3 * 2 * 1\n",
    "f(4) = 24\n",
    "\n",
    "Note que nós decompomos um problema em várias instâncias \"menores\" do problema. Quebramos a formulação de uma multiplicação enorme por vários casos de n x f(n-1). Chamamos essa estratégia de _dividir para conquistar_, e ela envolve identificar 2 etapas bastante claras do problema:\n",
    "* Caso base: é um caso para o qual temos um valor conhecido (no exemplo acima, f(1) = 1)\n",
    "* Caso geral: é a chamada recursiva, onde faremos referência à própria função. \n",
    "\n",
    "Note também que esse comportamento tem o comportamento de _pilha_: se colocamos 3 pratos empilhados sobre a mesa, precisamos tirar primeiro o último que colocamos, certo? Caso contrário, a pilha toda tomba. No caso da recursão, para obter f(4) caímos em f(3), depois f(2), depois f(1), depois f(0) e foi para ele que obtivemos a primeira resposta, que em seguida usamos para calcular f(1), depois calcular f(2), depois f(3) e só então chegamos em f(4). O primeiro passo do problema foi o último a ser resolvido.\n",
    "\n",
    "Em Python, nossa função ficaria assim:"
   ]
  },
  {
   "cell_type": "code",
   "execution_count": null,
   "id": "5ce9bf05",
   "metadata": {},
   "outputs": [],
   "source": [
    "def fatorial(n):\n",
    "    if n == 1:\n",
    "        return 1\n",
    "    else:\n",
    "        return n * fatorial (n-1)"
   ]
  },
  {
   "cell_type": "code",
   "execution_count": null,
   "id": "49fc16af",
   "metadata": {},
   "outputs": [],
   "source": [
    "def fatorial_nao_recursivo(n):\n",
    "    resposta = 1\n",
    "    for x in range(2, n + 1):\n",
    "        resposta = resposta * x\n",
    "    return resposta"
   ]
  },
  {
   "cell_type": "code",
   "execution_count": null,
   "id": "b7ca6598",
   "metadata": {},
   "outputs": [],
   "source": [
    "def infinito(a):\n",
    "    resposta = infinito(a) + 2\n",
    "    return resposta"
   ]
  },
  {
   "cell_type": "markdown",
   "id": "f6e28f5f",
   "metadata": {},
   "source": [
    "Se chamarmos ```fatorial(4)```, o que acontecerá? O programa começará a executar a função, cairá no _else_ e encontrará a função chamada novamente. Neste caso, ele salva x valendo 4 e salva que a execução foi interrompida nessa linha. Então ele cria um **novo** x valendo 3, cai novamente no _else_ e salva que a execução foi interrompida nessa linha, e assim sucessivamente. \n",
    ">Note que para cada passo recursivo, as variáveis da função são copiadas e também é salvo o ponto onde a execução parou. Ou seja, funções recursivas podem consumir **bastante** memória, além de tempo de processamento para ficar criando cópias. \n",
    ">A vantagem delas é o rigor matemático: podemos transcrever funções matemáticas quase exatamente como elas são, sem criar _loops_ e variáveis para ficar guardando estados.\n",
    "\n",
    "## 3. Documentando funções\n",
    "\n",
    "### 3.1. _Type hints_\n",
    "O Python utiliza uma abordagem para tipos conhecida como _duck typing_, que é baseada no ditado \"_if it walks like a duck and it quacks like a duck, it's a duck_\", que pode ser traduzido como \"_se ele anda como um pato e grasna como um pato, ele é um pato_\". \n",
    "\n",
    "Isso significa que o Python não se importa muito com o tipo de variáveis. Nossa função soma recebe dois parâmetros e aplica o operador \"+\" entre eles. A gente pode até ter pensado em número ao criar essa função, mas o operador + também funciona entre 2 strings. Ou seja, se alguém chamar ```soma('olá', 'mundo')```, a função irá funcionar.\n",
    "\n",
    "Nem sempre esse comportamento é desejável. Muitas vezes bolamos nossa função com tipos específicos em mente, e a possibilidade de outros tipos serem passados cria o risco da função não executar corretamente, ou de retornar algum tipo de dado que pode causar problemas na integração com outros sistemas.\n",
    "\n",
    "Para evitar esse tipo de problema existe o conceito de _type hint_, onde nós podemos deixar anotado em nossas funções o tipo esperado de cada parâmetro e do retorno. Utilizaremos dois pontos entre o nome do parâmetro e o tipo esperado, e uma setinha após os parênteses para indicar o tipo de retorno:"
   ]
  },
  {
   "cell_type": "code",
   "execution_count": null,
   "id": "09f4af97",
   "metadata": {},
   "outputs": [],
   "source": [
    "def soma(a:int, b:int) -> int:\n",
    "    resultado = a + b\n",
    "    return resultado"
   ]
  },
  {
   "cell_type": "markdown",
   "id": "d919c598",
   "metadata": {},
   "source": [
    "Note que **ainda** é possível passar *float*, *str* ou outros tipos para a função, e nesses casos ela também retornará outros tipos. Porém, as *type hints* são uma espécie de anotação, e sempre que um programador começar a digitar uma chamada para essa função, as IDEs mais modernas irão destacar para o programador quais tipos ele **deveria** passar e quais tipos ele **deveria** esperar como retorno.\n",
    "\n",
    "É possível também especificar que uma função não retorna nada:"
   ]
  },
  {
   "cell_type": "code",
   "execution_count": null,
   "id": "0c60f7eb",
   "metadata": {},
   "outputs": [],
   "source": [
    "def ola_mundo() -> None:\n",
    "    print('Olá mundo!')"
   ]
  },
  {
   "cell_type": "markdown",
   "id": "1f086095",
   "metadata": {},
   "source": [
    "Quando tentamos pegar o retorno de uma função que não retorna nada (ex: ```x = ola_mundo()```), o programa não dará erro. Ele apenas irá armazenar na variável a constante _None_, que é um valor especial em Python que representa justamente a ausência de valor. Uma variável contendo _None_ é uma variável que existe mas não possui valor atribuído. Dessa maneira, ao anotarmos que nossa função \"retorna _None_\", estamos na prática documentando que ela não apresenta retorno.\n",
    "\n",
    "> Experimente pegar o retorno da função ```print```: execute algo como ```x = print('olá')``` e tente visualizar o valor de ```x```.\n",
    "\n",
    "Caso você queira que algum parâmetro ou o retorno seja uma coleção (ex: uma lista), basta utilizar o tipo correspondente à coleção. Porém, não é possível especificar que deve ser uma lista de strings ou uma lista de int, por exemplo, mas simplesmente uma lista."
   ]
  },
  {
   "cell_type": "code",
   "execution_count": null,
   "id": "34a64094",
   "metadata": {},
   "outputs": [],
   "source": [
    "def somatorio(numeros:list) -> int:\n",
    "    soma = 0\n",
    "    for n in numeros:\n",
    "        soma += n\n",
    "    return soma"
   ]
  },
  {
   "cell_type": "markdown",
   "id": "1931a5f7",
   "metadata": {},
   "source": [
    "A partir da versão **3.10** do Python é possível utilizar o operador _pipe_ (a barra vertical: **|**) com o efeito de \"ou\" para indicar que mais de um tipo é permitido. A função abaixo recebe uma lista e promete que pode retornar int ou float:"
   ]
  },
  {
   "cell_type": "code",
   "execution_count": null,
   "id": "5e1d97a2",
   "metadata": {},
   "outputs": [],
   "source": [
    "def somatorio(numeros:list) -> int | float:\n",
    "    soma = 0\n",
    "    for n in numeros:\n",
    "        soma += n\n",
    "    return soma"
   ]
  },
  {
   "cell_type": "markdown",
   "id": "be113d59",
   "metadata": {},
   "source": [
    "### 3.2. _Docstrings_\n",
    "Além das _type hints_, podemos também escrever comentários especiais explicando o que as nossas funções fazem. IDEs modernas são capazes de identificar esses comentários e exibi-los em um popup na tela para o programador que irá usar a função. Esses comentários são chamados de _docstrings_.\n",
    "\n",
    "Para criar uma _docstring_, a primeira linha da sua função deve ser uma string envolta em 3 aspas simples ou duplas:"
   ]
  },
  {
   "cell_type": "code",
   "execution_count": null,
   "id": "85031c74",
   "metadata": {},
   "outputs": [],
   "source": [
    "def somatorio(numeros:list) -> int | float:\n",
    "    '''Recebe uma lista de números e retorna a soma de todos eles'''\n",
    "    soma = 0\n",
    "    for n in numeros:\n",
    "        soma += n\n",
    "    return soma"
   ]
  },
  {
   "cell_type": "markdown",
   "id": "b88a2a66",
   "metadata": {},
   "source": [
    "Experimente colar a função acima em uma IDE de sua preferência (como o VS Code) e comece a digitar uma chamada para ela. Ele irá automaticamente mostrar para você toda a documentação: parâmetros (com tipo), retorno e a breve descrição que digitamos."
   ]
  },
  {
   "cell_type": "markdown",
   "id": "ebfd0e84",
   "metadata": {},
   "source": [
    "### Exercício 1:\n",
    "\n",
    "Uma frase é uma lista de palavras separadas por um único espaço, sem espaços iniciais ou finais.\n",
    "\n",
    "Você recebe uma lista de sentenças de strings, onde cada sentença[i] representa uma única sentença.\n",
    "\n",
    "Escreva uma função que receba uma lista de strings e retorne o número máximo de palavras que aparecem em uma única frase.\n",
    "\n",
    "Exemplo 1:\n",
    "\n",
    "- **Entrada:** frases = [\"alice e bob amam letscode\", \"eu também acho\", \"isso é ótimo, muito muito obrigado\"]\n",
    "- **Saída:** 6\n",
    "\n",
    "Explicação:\n",
    "\n",
    "- A primeira frase, \"alice e bob amam letscode\", tem 5 palavras no total.\n",
    "- A segunda frase, \"eu também te amo\", tem 4 palavras no total.\n",
    "- A terceira frase, \"isso é ótimo, muito muito obrigado\", tem 6 palavras no total.\n",
    "\n",
    "Assim, o número máximo de palavras em uma única frase vem da terceira frase, que possui 6 palavras.\n",
    "\n",
    "Exemplo 2:\n",
    "\n",
    "- **Entrada:** frases = [\"aguarde\", \"continue a lutar\", \"continue a vencer\"]\n",
    "- **Saída:** 3\n",
    "\n",
    "Explicação: É possível que várias frases contenham o mesmo número de palavras.\n",
    "Neste exemplo, a segunda e a terceira frases têm o mesmo número de palavras."
   ]
  },
  {
   "cell_type": "code",
   "execution_count": null,
   "id": "eea88f82",
   "metadata": {},
   "outputs": [],
   "source": []
  },
  {
   "cell_type": "markdown",
   "id": "e949fad8",
   "metadata": {},
   "source": [
    "### Exercício 2:\n",
    "\n",
    "Escreva uma função que receba um inteiro positivo n, e retorne o menor inteiro positivo que seja múltiplo de 2 e n. \n",
    "\n",
    "Exemplo 1:\n",
    "\n",
    "- **Entrada:** n = 5\n",
    "- **Saída:** 10\n",
    "\n",
    "Explicação: O menor múltiplo de 5 e 2 é 10.\n",
    "\n",
    "Exemplo 2:\n",
    "\n",
    "- **Entrada:** n = 6\n",
    "- **Saída:** 6\n",
    "\n",
    "Explicação: O menor múltiplo de 6 e 2 é 6. Observe que um número é múltiplo de si mesmo."
   ]
  },
  {
   "cell_type": "code",
   "execution_count": null,
   "id": "3f22c31c",
   "metadata": {},
   "outputs": [],
   "source": []
  }
 ],
 "metadata": {
  "kernelspec": {
   "display_name": "Python 3 (ipykernel)",
   "language": "python",
   "name": "python3"
  },
  "language_info": {
   "codemirror_mode": {
    "name": "ipython",
    "version": 3
   },
   "file_extension": ".py",
   "mimetype": "text/x-python",
   "name": "python",
   "nbconvert_exporter": "python",
   "pygments_lexer": "ipython3",
   "version": "3.10.5"
  }
 },
 "nbformat": 4,
 "nbformat_minor": 5
}
