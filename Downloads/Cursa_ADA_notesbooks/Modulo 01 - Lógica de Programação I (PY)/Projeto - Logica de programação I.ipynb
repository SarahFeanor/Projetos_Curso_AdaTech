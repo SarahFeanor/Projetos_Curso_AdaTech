{
 "cells": [
  {
   "cell_type": "markdown",
   "id": "14fbb9c6",
   "metadata": {},
   "source": [
    "# Codificação e decodificação de mensagens com Python"
   ]
  },
  {
   "cell_type": "markdown",
   "id": "fc1b2ffb",
   "metadata": {},
   "source": [
    "## Contextualização\n",
    "\n",
    "A PyCoders Ltda., cada vez mais especializada no mundo da Inteligência Artificial e Ciência de Dados, foi procurada por uma fintech para desenvolver um projeto codificação de dados. \n",
    "\n",
    "A fintech percebeu que muitas das informações usadas na área de inteligência de negócios, estão sendo roubadas por uma empresa concorrente! \n",
    "\n",
    "Para lidar com esse problema, um dos funcionários sugeriu que os dados sejam codificados usando uma chave secreta, e unicamente quem souber a chave secreta poderá conseguir decodificar a mensagem e visualizar os dados originais.\n",
    "\n",
    "Como existe muito risco de a chave vazar e de qualquer forma os dados serem roubados, a chave tem que ser alterada com frequência, fazendo desta forma que a codificação seja dependente da senha! \n",
    "\n",
    "Por exemplo:\n",
    "\n",
    "Se eu tiver a mensagem: 'Hello world!'\n",
    "- A mensagem codificada com uma chave aleatória X, poderia ser: ```'bdgdjh3bvd8397'```\n",
    "\n",
    "- E, a mesma mensagem codificada com uma chave aleatória Y, poderia ser: ```'oouyrjrhyw26'```"
   ]
  },
  {
   "cell_type": "markdown",
   "id": "4a7cb738",
   "metadata": {},
   "source": [
    "## Obejtivo de projeto\n",
    "\n",
    "O objetivo deste projeto é codificar e decodificar mensagens usando uma chave comum.\n",
    "\n",
    "1. Neste projeto, os usuários devem inserir a mensagem para codificar ou decodificar. \n",
    "2. Os usuários devem selecionar o modo para escolher o processo de codificação e decodificação. \n",
    "3. A mesma chave deve ser usada para processar a codificação e decodificação da mesma mensagem.\n",
    "\n",
    "ATENÇÃO: Considerar que duas chaves diferentes devem gerar, _em geral_, codificações e/ou decodificações diferentes!"
   ]
  },
  {
   "cell_type": "markdown",
   "id": "79afd15b",
   "metadata": {},
   "source": [
    "## Exemplo:\n",
    "\n",
    "1. O sistema deve perguntar ao usuário se deseja codificar ou decodificar a mensagem, ou se deseja sair do processo.\n",
    "\n",
    "2. Se o usuário selecionou que deseja codificar ou decodificar, o sistema agora deve solicitar ao usuário que informe:\n",
    "\n",
    "- Caso for selecionado codificar: o sistema deve pedir para o usuário colocar a frase a ser codificada.\n",
    "- Caso for selecionado decodificar: o sistema deve pedir para o usuário colocar a frase a ser decodificada.\n",
    "\n",
    "3. Uma vez informada a frase (a codificar ou codificada), o sistema deve pedir para o usuário informar a chave secreta.\n",
    "\n",
    "4. Uma vez que o sistema receba a chave, deve mostrar a mensagem codificada ou decodificada.\n",
    "\n",
    "5. Finalmente o sistema deve voltar a (1).\n",
    "\n",
    "\n"
   ]
  },
  {
   "cell_type": "code",
   "execution_count": null,
   "id": "9a31efdb",
   "metadata": {},
   "outputs": [],
   "source": [
    "# Exemplo codificação:\n",
    "mensagem = 'Jorge'\n",
    "chave = '123'\n",
    "\n",
    "# Criterio de codificacao naive: colocar a chave entre as letras originais\n",
    "mensagem_codificada = 'J123o123r123g123e'"
   ]
  },
  {
   "cell_type": "code",
   "execution_count": null,
   "id": "4eada77e",
   "metadata": {},
   "outputs": [],
   "source": [
    "# Para decodificação:\n",
    "mensagem_codificada = 'J123o123r123g123e'\n",
    "chave = '123'\n",
    "\n",
    "mensagem_decodificada = 'Jorge'"
   ]
  },
  {
   "cell_type": "markdown",
   "id": "c6eee132",
   "metadata": {},
   "source": [
    "### Considerações importantes:\n",
    "\n",
    "1. É obrigatorio garantir que vamos conseguir decodificar uma mensagem codificada.\n",
    "2. A chave pode ser quaquer uma, ou seja: combinação de números, letras e carateres especiais.\n",
    "3. Faça vários testes, e identifique situações nas quais seu algoritmo vai ter mais dificuldade, e a partir disso pense em melhorias a serem feitas no seu algoritmo.\n",
    "4. Aplique todos os conteúdos aprendidos durante esse módulo para a entrega deste projeto.\n",
    "5. Está proibido o uso de bibliotecas do python que já realizem codificação e decodificação de mensagens.\n",
    "\n",
    "### Organização e entregáveis\n",
    "\n",
    "1. O projeto pode ser feito em grupo de até 05 participantes.\n",
    "2. O projeto completo (Notebook, código-fonte, link para fontes, bases e demais artefatos) deve ser enviado por e-mail (do professor) com nome dos participantes. Colocar no assunto do e-mail: ``Projeto Vem Ser Tech 2023 - Data - Turma XXXX``\n",
    "\n",
    "Boa sorte e divirta-se!!"
   ]
  }
 ],
 "metadata": {
  "kernelspec": {
   "display_name": "Python 3 (ipykernel)",
   "language": "python",
   "name": "python3"
  },
  "language_info": {
   "codemirror_mode": {
    "name": "ipython",
    "version": 3
   },
   "file_extension": ".py",
   "mimetype": "text/x-python",
   "name": "python",
   "nbconvert_exporter": "python",
   "pygments_lexer": "ipython3",
   "version": "3.10.5"
  }
 },
 "nbformat": 4,
 "nbformat_minor": 5
}
