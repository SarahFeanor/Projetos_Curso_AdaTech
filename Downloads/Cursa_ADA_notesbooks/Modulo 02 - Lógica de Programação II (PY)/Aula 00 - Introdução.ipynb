{
 "cells": [
  {
   "cell_type": "markdown",
   "id": "60ad5dc4",
   "metadata": {},
   "source": [
    "# Apresentação Geral\n",
    "\n",
    "## Professor\n",
    "\n",
    "<b>Professor Titular:</b> Henrique Assis Cordeiro\n",
    "<br>\n",
    "<b>Formação:</b>\n",
    "* Graduado em Engenharia Elétria com ênfases em Sistemas de Energia e Eletrônica de Potência pela UFMG\n",
    "* Mestre em Economia com ênfase em Engenharia Financeira pela EESP-FGV\n",
    "\n",
    "<b>E-mail:</b> henriqueassiscordeiro@hotmail.com\n",
    "\n",
    "<b>Experiência Profissional:</b>\n",
    "* Analista em consultoria estratégica na Deloitte;\n",
    "* Analista de Validação de Modelos de Risco de Mercado e Liquidez no Itaú\n",
    "* Diretor de Risco e Estudos Quantitativos na Legend Wealth Management"
   ]
  },
  {
   "cell_type": "markdown",
   "id": "7967d8d8",
   "metadata": {},
   "source": [
    "## O Curso\n",
    "\n",
    "<b>Ementa do Curso:</b>\n",
    "\n",
    "* <b>Aula 1: Tuplas (30/10/2023)</b>\n",
    "    \n",
    "* <b>Aula 2: Dicionários (01/11/2023)</b>\n",
    "    \n",
    "* <b>Aula 3: Compreensão de Listas (06/11/2023)</b>\n",
    "    \n",
    "* <b>Aula 4: Parâmetros de Funções (08/11/2023)</b>\n",
    "    \n",
    "* <b>Aula 5: Conceitos de Programação Funcional (10/11/2023)</b>\n",
    "    \n",
    "* <b>Aula 6: Tratamento de Excessão (13/11/2023)</b>\n",
    "    \n",
    "* <b>Aula 7: Arquivos (17/11/2023)</b>\n",
    "\n",
    "* <b>Aula 8: Dúvidas do Projeto / Tópico Extra (22/11/2023) / Apresentações Finais</b>\n",
    "\n",
    "* <b>Aula 9: Avaliações e Encerramento (24/11/2023)</b>"
   ]
  },
  {
   "cell_type": "markdown",
   "id": "fdddfd06",
   "metadata": {},
   "source": [
    "## Avaliações\n",
    "\n",
    "A avaliação deste curso será feita, a princípio, através de um trabalho final a ser entregue até o penúltimo dia de aula. Este trabalho será exposto para a turma no meio do curso, quando uma parte relevante do conteúdo já terá sido exposto e o aluno terá a segunda metade do curso para solucionar o trabalho e enviar ao professor.\n",
    "<br>\n",
    "\n",
    "Além disto, termos avaliações por rubrica e por participação (qualitativa) da turma.\n",
    "<br>\n",
    "\n",
    "Lembrando que a quantidade mínima de presenças é obrigatória."
   ]
  }
 ],
 "metadata": {
  "kernelspec": {
   "display_name": "Python 3 (ipykernel)",
   "language": "python",
   "name": "python3"
  },
  "language_info": {
   "codemirror_mode": {
    "name": "ipython",
    "version": 3
   },
   "file_extension": ".py",
   "mimetype": "text/x-python",
   "name": "python",
   "nbconvert_exporter": "python",
   "pygments_lexer": "ipython3",
   "version": "3.10.2"
  },
  "latex_envs": {
   "LaTeX_envs_menu_present": true,
   "autoclose": false,
   "autocomplete": true,
   "bibliofile": "biblio.bib",
   "cite_by": "apalike",
   "current_citInitial": 1,
   "eqLabelWithNumbers": true,
   "eqNumInitial": 1,
   "hotkeys": {
    "equation": "Ctrl-E",
    "itemize": "Ctrl-I"
   },
   "labels_anchors": false,
   "latex_user_defs": false,
   "report_style_numbering": false,
   "user_envs_cfg": false
  },
  "toc": {
   "base_numbering": 1,
   "nav_menu": {},
   "number_sections": true,
   "sideBar": true,
   "skip_h1_title": false,
   "title_cell": "Table of Contents",
   "title_sidebar": "Contents",
   "toc_cell": false,
   "toc_position": {},
   "toc_section_display": true,
   "toc_window_display": false
  },
  "varInspector": {
   "cols": {
    "lenName": 16,
    "lenType": 16,
    "lenVar": 40
   },
   "kernels_config": {
    "python": {
     "delete_cmd_postfix": "",
     "delete_cmd_prefix": "del ",
     "library": "var_list.py",
     "varRefreshCmd": "print(var_dic_list())"
    },
    "r": {
     "delete_cmd_postfix": ") ",
     "delete_cmd_prefix": "rm(",
     "library": "var_list.r",
     "varRefreshCmd": "cat(var_dic_list()) "
    }
   },
   "types_to_exclude": [
    "module",
    "function",
    "builtin_function_or_method",
    "instance",
    "_Feature"
   ],
   "window_display": false
  }
 },
 "nbformat": 4,
 "nbformat_minor": 5
}
