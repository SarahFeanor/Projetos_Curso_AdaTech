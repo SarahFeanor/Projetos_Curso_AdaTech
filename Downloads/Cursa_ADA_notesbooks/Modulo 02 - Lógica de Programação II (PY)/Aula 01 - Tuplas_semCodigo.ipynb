{
 "cells": [
  {
   "attachments": {},
   "cell_type": "markdown",
   "id": "4cc24c5d",
   "metadata": {},
   "source": [
    "# Tuplas\n",
    "\n",
    "Neste capítulo estudaremos uma estrutura de dados, ou seja, uma forma estruturada de armazenar múltiplos dados. Você provavelmente já estudou pelo menos outra estrutura de dados em Python: a **lista**.\n",
    "\n",
    "Vamos brevemente revisar os conceitos de lista, pois eles serão úteis para compreender nossa nova estrutura, a **tupla**.\n",
    "\n",
    "Focaremos em funcionalidades, não em funções prontas e métodos de lista."
   ]
  },
  {
   "attachments": {},
   "cell_type": "markdown",
   "id": "4e798983",
   "metadata": {},
   "source": [
    "## Revisão de Listas\n",
    "\n",
    "### Criando uma Lista e Acessando Elementos\n",
    "\n",
    "A lista é uma coleção de objetos em Python. Criando uma única variável para representar a lista, podemos armazenar múltiplos valores. Internamente, esses valores são representados por seus **índices**: um número inteiro, iniciando em zero e incrementando com passo unitário. \n",
    "\n",
    "Podemos criar uma lista através da função ```list``` ou utilizando um par de colchetes:"
   ]
  },
  {
   "cell_type": "code",
   "execution_count": 13,
   "id": "c1fb0faa",
   "metadata": {
    "ExecuteTime": {
     "end_time": "2023-07-12T23:12:13.830654Z",
     "start_time": "2023-07-12T23:12:13.820141Z"
    }
   },
   "outputs": [
    {
     "name": "stdout",
     "output_type": "stream",
     "text": [
      "Python\n",
      "JavaScript\n",
      "[3.14, 1000, True, 'Pêra']\n",
      "3.14\n",
      "Web Full Stack\n",
      "Módulo 2\n"
     ]
    }
   ],
   "source": [
    "lista1 = list()\n",
    "lista2 = []\n",
    "\n",
    "linguagens = ['Python', 'JavaScript', 'SQL'] # Lista com 3 elementos\n",
    "dadosVariados = [3.14, 1000, True, 'Pêra'] # Lista com tipos de dados diversos\n",
    "\n",
    "listaDeListas = [['Curso', ['Módulo 1', 'Módulo 2']], ['Data Science', 'Lógica I', 'Lógica II'], ['Web Full Stack', 'Front End Estático', 'Front End Dinâmico']]\n",
    "\n",
    "print(linguagens[0]) # Python\n",
    "print(linguagens[1]) # JavaScript\n",
    "print(dadosVariados) # Imprime toda a lista\n",
    "print(dadosVariados[-4]) # Imprime 3.14\n",
    "print(listaDeListas[2][0]) # Imprime Web Full Stack\n",
    "print(listaDeListas[0][1][1]) # Imprime Módulo 2"
   ]
  },
  {
   "attachments": {},
   "cell_type": "markdown",
   "id": "538e6640",
   "metadata": {},
   "source": [
    "### Iterando uma Lista\n",
    "\n",
    "Como os elementos em uma lista são representados por números inteiros, podemos facilmente percorrê-la variando seu índice de maneira automatizada:"
   ]
  },
  {
   "cell_type": "code",
   "execution_count": 17,
   "id": "4eba5d4c",
   "metadata": {
    "ExecuteTime": {
     "end_time": "2023-07-12T23:13:07.756402Z",
     "start_time": "2023-07-12T23:13:07.750398Z"
    }
   },
   "outputs": [
    {
     "name": "stdout",
     "output_type": "stream",
     "text": [
      "3.14, 1000, True, Pêra, "
     ]
    }
   ],
   "source": [
    "for indice in range(4):\n",
    "    print(dadosVariados[indice], end=', ')"
   ]
  },
  {
   "attachments": {},
   "cell_type": "markdown",
   "id": "5a1e263e",
   "metadata": {},
   "source": [
    "Apesar de funcionar, essa forma é considerada pouco legível. Existe uma maneira mais direta de percorrer uma lista. Ao trocarmos a função *range* do nosso *for* pela própria lista, ele irá **copiar** cada elemento da lista para a variável temporária. Assim conseguimos facilmente, e de maneira bem legível, acessar todos os elementos de uma lista:"
   ]
  },
  {
   "cell_type": "code",
   "execution_count": 18,
   "id": "24bcf9f8",
   "metadata": {
    "ExecuteTime": {
     "end_time": "2023-07-12T23:15:44.287288Z",
     "start_time": "2023-07-12T23:15:44.281769Z"
    }
   },
   "outputs": [
    {
     "name": "stdout",
     "output_type": "stream",
     "text": [
      "3.14, 1000, True, Pêra, "
     ]
    }
   ],
   "source": [
    "for elemento in dadosVariados:\n",
    "    print(elemento, end=', ')"
   ]
  },
  {
   "attachments": {},
   "cell_type": "markdown",
   "id": "288aedad",
   "metadata": {},
   "source": [
    "Caso tenhamos listas aninhadas, podemos percorrê-las aninhando loops. Utilizamos um loop para cada \"nível\" de lista. Execute o bloco abaixo e veja seu resultado na tela:"
   ]
  },
  {
   "cell_type": "code",
   "execution_count": 24,
   "id": "ece6200f",
   "metadata": {
    "ExecuteTime": {
     "end_time": "2023-07-12T23:56:42.250804Z",
     "start_time": "2023-07-12T23:56:42.233135Z"
    }
   },
   "outputs": [
    {
     "name": "stdout",
     "output_type": "stream",
     "text": [
      "Curso\n",
      "['Módulo 1', 'Módulo 2']\n",
      "Data Science\n",
      "Lógica I\n",
      "Lógica II\n",
      "Web Full Stack\n",
      "Front End Estático\n",
      "Front End Dinâmico\n"
     ]
    }
   ],
   "source": [
    "for linha in listaDeListas:\n",
    "    for elemento in linha:\n",
    "        print(elemento)"
   ]
  },
  {
   "attachments": {},
   "cell_type": "markdown",
   "id": "baf0f5e1",
   "metadata": {},
   "source": [
    "### *Slicing* de Listas\n",
    "\n",
    "Uma operação bastante comum em uma lista é extrair apenas uma parte dela. Para isso você deve informar, pelo menos, o índice inicial e o índice final, sendo que o índice final não irá entrar na conta - dizemos que ele é um valor \"exclusivo\", como se fosse um intervalo aberto naquele ponto."
   ]
  },
  {
   "cell_type": "code",
   "execution_count": 25,
   "id": "2fd999b5",
   "metadata": {
    "ExecuteTime": {
     "end_time": "2023-07-12T23:20:19.140857Z",
     "start_time": "2023-07-12T23:20:19.131786Z"
    }
   },
   "outputs": [
    {
     "name": "stdout",
     "output_type": "stream",
     "text": [
      "['carambola', 'damasco', 'embaúba']\n"
     ]
    }
   ],
   "source": [
    "frutas = ['abacate', 'banana', 'carambola', 'damasco', 'embaúba', 'framboesa', 'goiaba']\n",
    "\n",
    "algumasFrutas = frutas[2:5]\n",
    "print(algumasFrutas)"
   ]
  },
  {
   "attachments": {},
   "cell_type": "markdown",
   "id": "160bf1d2",
   "metadata": {},
   "source": [
    "Você pode deixar um dos dois índices em branco. Na ausência do primeiro índice, a operação se iniciará com o índice 0 da lista original. Na ausência do segundo, a operação seguirá até o final da lista original."
   ]
  },
  {
   "cell_type": "code",
   "execution_count": 28,
   "id": "4724d0b2",
   "metadata": {
    "ExecuteTime": {
     "end_time": "2023-07-12T23:22:18.961736Z",
     "start_time": "2023-07-12T23:22:18.950666Z"
    }
   },
   "outputs": [
    {
     "name": "stdout",
     "output_type": "stream",
     "text": [
      "['abacate', 'banana', 'carambola']\n",
      "['embaúba', 'framboesa', 'goiaba']\n"
     ]
    }
   ],
   "source": [
    "primeiras3Frutas = frutas[:3]\n",
    "print(primeiras3Frutas)\n",
    "\n",
    "ultimas3Frutas = frutas[4:]\n",
    "print(ultimas3Frutas)"
   ]
  },
  {
   "attachments": {},
   "cell_type": "markdown",
   "id": "c7bda707",
   "metadata": {},
   "source": [
    "Também podemos utilizar índices negativos. O índice -1 acessa o último elemento da lista, o -2 acessa o penúltimo, e assim sucessivamente. Podemos reescrever o exemplo anterior utilizando números negativos para facilitar ainda mais a legibilidade e tornar o exemplo mais genérico e independente do tamanho da lista:"
   ]
  },
  {
   "cell_type": "code",
   "execution_count": 27,
   "id": "05088d51",
   "metadata": {
    "ExecuteTime": {
     "end_time": "2023-07-12T23:25:13.856884Z",
     "start_time": "2023-07-12T23:25:13.850356Z"
    }
   },
   "outputs": [
    {
     "name": "stdout",
     "output_type": "stream",
     "text": [
      "['embaúba', 'framboesa', 'goiaba']\n"
     ]
    }
   ],
   "source": [
    "ultimas3Frutas = frutas[-3:]\n",
    "print(ultimas3Frutas)"
   ]
  },
  {
   "attachments": {},
   "cell_type": "markdown",
   "id": "0c1aaf98",
   "metadata": {
    "ExecuteTime": {
     "end_time": "2022-10-03T14:32:35.521435Z",
     "start_time": "2022-10-03T14:32:35.495433Z"
    }
   },
   "source": [
    "Você deve se recordar que atribuir uma lista para outra **não** copia a lista. Veja o exemplo abaixo:"
   ]
  },
  {
   "cell_type": "code",
   "execution_count": 36,
   "id": "96ccf82a",
   "metadata": {
    "ExecuteTime": {
     "end_time": "2023-07-12T23:25:49.073969Z",
     "start_time": "2023-07-12T23:25:49.065969Z"
    }
   },
   "outputs": [
    {
     "data": {
      "text/plain": [
       "['abacate',\n",
       " 'banana',\n",
       " 'carambola',\n",
       " 'damasco',\n",
       " 'embaúba',\n",
       " 'framboesa',\n",
       " 'goiaba',\n",
       " 'pera']"
      ]
     },
     "execution_count": 36,
     "metadata": {},
     "output_type": "execute_result"
    }
   ],
   "source": [
    "frutas"
   ]
  },
  {
   "cell_type": "code",
   "execution_count": 32,
   "id": "e0236780",
   "metadata": {
    "ExecuteTime": {
     "end_time": "2023-07-12T23:26:25.971979Z",
     "start_time": "2023-07-12T23:26:25.964963Z"
    }
   },
   "outputs": [
    {
     "name": "stdout",
     "output_type": "stream",
     "text": [
      "['abacate', 'banana', 'carambola', 'damasco', 'embaúba', 'framboesa', 'goiaba', 'pera']\n"
     ]
    }
   ],
   "source": [
    "copiaFrutas = frutas\n",
    "copiaFrutas.append('pera')\n",
    "print(copiaFrutas)"
   ]
  },
  {
   "attachments": {},
   "cell_type": "markdown",
   "id": "24cfabc5",
   "metadata": {
    "ExecuteTime": {
     "end_time": "2022-10-03T14:33:00.429010Z",
     "start_time": "2022-10-03T14:33:00.415009Z"
    }
   },
   "source": [
    "Quando atribuímos uma lista existente para uma variável, a variável irá referenciar **a mesma** lista na memória. Portanto, operações realizadas na lista \"nova\" irão afetar a lista \"antiga\". Não houve a criação de uma nova lista de fato.\n",
    "\n",
    "Uma forma fácil de **copiar** de verdade uma lista para outra lista é utilizar um slice indo do início até o final da lista original:"
   ]
  },
  {
   "cell_type": "code",
   "execution_count": 35,
   "id": "6ae317df",
   "metadata": {
    "ExecuteTime": {
     "end_time": "2023-07-12T23:29:43.742511Z",
     "start_time": "2023-07-12T23:29:43.737490Z"
    }
   },
   "outputs": [
    {
     "name": "stdout",
     "output_type": "stream",
     "text": [
      "['abacate', 'banana', 'carambola', 'damasco', 'embaúba', 'framboesa', 'goiaba', 'pera', 'morango']\n"
     ]
    }
   ],
   "source": [
    "copiaRealFrutas = frutas[:]\n",
    "copiaRealFrutas.append('morango')\n",
    "print(copiaRealFrutas)"
   ]
  },
  {
   "attachments": {},
   "cell_type": "markdown",
   "id": "bd31f9b8",
   "metadata": {},
   "source": [
    "`copia_frutas` e `frutas` não referenciam a mesma lista. Elas referenciam duas listas diferentes contendo os mesmos elementos, mas modificações feitas em uma delas não irão afetar a outra.\n",
    "\n",
    "É possível passar mais um valor representando um passo ou salto. Por exemplo, podemos pegar os elementos das posições ímpares da lista começando na posição 1 e adotando salto igual a 2:"
   ]
  },
  {
   "cell_type": "code",
   "execution_count": 37,
   "id": "46f8a1ca",
   "metadata": {
    "ExecuteTime": {
     "end_time": "2023-07-12T23:31:24.568930Z",
     "start_time": "2023-07-12T23:31:24.562407Z"
    }
   },
   "outputs": [
    {
     "name": "stdout",
     "output_type": "stream",
     "text": [
      "['banana', 'damasco', 'framboesa', 'pera']\n"
     ]
    }
   ],
   "source": [
    "frutasImpares = frutas[1::2]\n",
    "print(frutasImpares)"
   ]
  },
  {
   "attachments": {},
   "cell_type": "markdown",
   "id": "e7947026",
   "metadata": {},
   "source": [
    "Com saltos negativos, é fácil inverter uma lista:"
   ]
  },
  {
   "cell_type": "code",
   "execution_count": 46,
   "id": "35bc69cb",
   "metadata": {
    "ExecuteTime": {
     "end_time": "2023-07-12T23:32:03.223888Z",
     "start_time": "2023-07-12T23:32:03.218378Z"
    }
   },
   "outputs": [
    {
     "name": "stdout",
     "output_type": "stream",
     "text": [
      "['pera', 'goiaba', 'framboesa', 'embaúba', 'damasco', 'carambola', 'banana', 'abacate']\n"
     ]
    }
   ],
   "source": [
    "frutasInvertidas = frutas[-1::-1]\n",
    "print(frutasInvertidas)"
   ]
  },
  {
   "attachments": {},
   "cell_type": "markdown",
   "id": "74dce864",
   "metadata": {},
   "source": [
    "### Concatenação de Listas\n",
    "\n",
    "Uma operação útil em listas é a concatenação. Quando \"somamos\" duas listas, utilizando o operador **+**, teremos uma nova lista com os elementos das duas listas originais em ordem de aparição:"
   ]
  },
  {
   "cell_type": "code",
   "execution_count": 47,
   "id": "fd9cbcf2",
   "metadata": {
    "ExecuteTime": {
     "end_time": "2023-07-12T23:33:44.498522Z",
     "start_time": "2023-07-12T23:33:44.494159Z"
    }
   },
   "outputs": [
    {
     "name": "stdout",
     "output_type": "stream",
     "text": [
      "['Python', 'SQL', 'R', 'HTML', 'CSS', 'PHP']\n"
     ]
    }
   ],
   "source": [
    "ds = ['Python', 'SQL', 'R']\n",
    "web = ['HTML', 'CSS', 'PHP']\n",
    "\n",
    "linguagens = ds + web\n",
    "print(linguagens)"
   ]
  },
  {
   "attachments": {},
   "cell_type": "markdown",
   "id": "d0a0ac80",
   "metadata": {},
   "source": [
    "## Tuplas\n",
    "\n",
    "### Operações Básicas\n",
    "\n",
    "Assim como as listas, tuplas também são coleções de objetos. Elas podem armazenar diversos objetos de diferentes tipos. Elas também possuem índice, que se comporta da mesma maneira que os índices de uma lista. Podemos criar tuplas utilizando parênteses ou a função ```tuple```. Caso a tupla possua pelo menos 2 elementos, não precisamos dos parênteses, basta separar os valores por vírgula, apesar de ser **recomendável** utilizá-los para evitar ambiguidades:"
   ]
  },
  {
   "cell_type": "code",
   "execution_count": 55,
   "id": "44c3a648",
   "metadata": {
    "ExecuteTime": {
     "end_time": "2023-07-12T23:59:15.369525Z",
     "start_time": "2023-07-12T23:59:15.363406Z"
    }
   },
   "outputs": [
    {
     "name": "stdout",
     "output_type": "stream",
     "text": [
      "Python\n",
      "JavaScript\n",
      "True\n",
      "Web Full Stack\n",
      "Módulo 2\n"
     ]
    }
   ],
   "source": [
    "tupla1 = tuple() # Criando uma tupla vazia\n",
    "tupla2 = () # Criando uma tupla vazia\n",
    "\n",
    "linguagens =('Python', 'JavaScript', 'SQL')\n",
    "dadosVariados = 3.14, 1000, True, 'abacate'\n",
    "\n",
    "tuplaDeTuplas = (('Curso', ('Módulo 1', 'Módulo 2')), ('Data Science', 'Lógica de Programação I', 'Lógica de Programação II'), ('Web Full Stack', 'Front End Estático', 'Front End Dinâmico'))\n",
    "\n",
    "print(linguagens[0]) # imprime \"Python\"\n",
    "print(linguagens[1]) # imprime \"JavaScript\"\n",
    "print(dadosVariados[2]) # imprime True\n",
    "print(tuplaDeTuplas[2][0]) # imprime \"Web Full Stack\"\n",
    "print(tuplaDeTuplas[0][1][1]) # imprime \"Web Full Stack\""
   ]
  },
  {
   "cell_type": "code",
   "execution_count": 54,
   "id": "a6e22e8f",
   "metadata": {},
   "outputs": [
    {
     "data": {
      "text/plain": [
       "(3.14, 1000, True, 'abacate')"
      ]
     },
     "execution_count": 54,
     "metadata": {},
     "output_type": "execute_result"
    }
   ],
   "source": [
    "dadosVariados"
   ]
  },
  {
   "attachments": {},
   "cell_type": "markdown",
   "id": "2cc98cb0",
   "metadata": {},
   "source": [
    "Todas as outras operações que revisamos hoje em listas podem ser realizadas com tuplas:\n",
    "* iteração através de um loop do tipo `for`\n",
    "* _slicing_ passando índice inicial, final e salto\n",
    "* concatenação\n",
    "\n",
    "É possível também fazer conversão de lista para tupla e vice-versa:"
   ]
  },
  {
   "cell_type": "code",
   "execution_count": 56,
   "id": "d23b54ff",
   "metadata": {
    "ExecuteTime": {
     "end_time": "2023-07-13T00:02:48.503397Z",
     "start_time": "2023-07-13T00:02:48.493156Z"
    }
   },
   "outputs": [
    {
     "name": "stdout",
     "output_type": "stream",
     "text": [
      "('abacate', 'banana', 'carambola', 'damasco', 'embaúba', 'framboesa', 'goiaba')\n",
      "['abacate', 'banana', 'carambola', 'damasco', 'embaúba', 'framboesa', 'goiaba']\n"
     ]
    }
   ],
   "source": [
    "listaFrutas = ['abacate', 'banana', 'carambola', 'damasco', 'embaúba', 'framboesa', 'goiaba']\n",
    "\n",
    "tuplaFrutas = tuple(listaFrutas)\n",
    "print(tuplaFrutas)\n",
    "\n",
    "novaListaFrutas = list(tuplaFrutas)\n",
    "print(novaListaFrutas)"
   ]
  },
  {
   "attachments": {},
   "cell_type": "markdown",
   "id": "cb3f5519",
   "metadata": {},
   "source": [
    "### Imutabilidade\n",
    "\n",
    "Listas possuem uma propriedade que a tupla **não** possui: **mutabilidade**. O código abaixo irá funcionar para a operação na lista, mas irá falhar para a operação na tupla:"
   ]
  },
  {
   "cell_type": "code",
   "execution_count": 65,
   "id": "3995a75d",
   "metadata": {
    "ExecuteTime": {
     "end_time": "2023-07-13T00:04:43.231988Z",
     "start_time": "2023-07-13T00:04:43.210847Z"
    }
   },
   "outputs": [
    {
     "name": "stdout",
     "output_type": "stream",
     "text": [
      "['melao', 'banana', 'carambola', 'damasco', 'embaúba', 'framboesa', 'goiaba']\n"
     ]
    }
   ],
   "source": [
    "listaFrutas = ['abacate', 'banana', 'carambola', 'damasco', 'embaúba', 'framboesa', 'goiaba']\n",
    "tuplaFrutas = ('abacate', 'banana', 'carambola', 'damasco', 'embaúba', 'framboesa', 'goiaba')\n",
    "\n",
    "listaFrutas[0] = 'melao'\n",
    "print(listaFrutas)\n",
    "# tuplaFrutas[0] = 'melao'"
   ]
  },
  {
   "attachments": {},
   "cell_type": "markdown",
   "id": "4e628ab3",
   "metadata": {},
   "source": [
    "Por que alguém escolheria uma estrutura imutável? Por que usar uma lista com _menos recursos_? O principal motivo é precisamente quando não convém alterar os dados. Em Python é muito difícil \"proibir\" algo: nada impede outro programador de transformar a tupla em uma lista, fazer alterações na lista e salvar a nova tupla \"por cima\" da velha, utilizando o mesmo nome para a nova. \n",
    "\n",
    "Porém, quando utilizamos uma tupla, estamos **sinalizando** que aqueles dados **não deveriam** ser alterados, e ninguém irá conseguir alterá-los por acidente. Para alterá-los será necessário realizar uma série de conversões de maneira intencional.\n",
    "\n",
    "Isso aumenta um pouco a segurança e confiabilidade de nosso código em certas situações, evitando a alteração indevida de dados que podem ser críticos para o bom funcionamento do nosso programa.\n",
    "\n",
    "Adicionalmente, em alguns contextos muito específicos - quantidades muito grandes de dados com uma grande quantidade de operações de **leitura** versus poucas ou nenhuma operação de **escrita** - a tupla pode oferecer desempenho significativamente superior à lista. São poucas as situações onde você sentirá essa diferença, seja porque para quantidades muito baixas de dados a lista possui uma série de otimizações que podem torná-la até mais veloz do que a tupla, seja porque para quantidades relativamente grandes de dados a lista ainda será razoavelmente rápida. "
   ]
  },
  {
   "attachments": {},
   "cell_type": "markdown",
   "id": "9e735b47",
   "metadata": {},
   "source": [
    "### Desempacotamento de tupla\n",
    "\n",
    "Uma operação bastante interessante que podemos realizar com tuplas é o **desempacotamento** de tuplas, que aparecerá em muitos locais com seu nome em inglês, *tuple unpacking*.\n",
    "\n",
    "O desempacotamento de tupla é uma operação que permite facilmente atribuir o conteúdo de uma tupla a variáveis individuais, sem a necessidade de escrever múltiplas linhas de código e manipular índices. Vejamos um exemplo básico:"
   ]
  },
  {
   "cell_type": "code",
   "execution_count": 67,
   "id": "fcec41f4",
   "metadata": {
    "ExecuteTime": {
     "end_time": "2023-07-13T00:16:25.269744Z",
     "start_time": "2023-07-13T00:16:25.260822Z"
    }
   },
   "outputs": [
    {
     "name": "stdout",
     "output_type": "stream",
     "text": [
      "A\n",
      "B\n",
      "C\n"
     ]
    }
   ],
   "source": [
    "x, y , z = ('A', 'B', 'C')\n",
    "print(x)\n",
    "print(y)\n",
    "print(z)"
   ]
  },
  {
   "attachments": {},
   "cell_type": "markdown",
   "id": "7ab39ed1",
   "metadata": {},
   "source": [
    "Uma limitação inicial que temos com essa técnica é que precisamos utilizar exatamente 1 variável para cada elemento da tupla, mesmo que não estejamos interessados em todos os seus elementos. Podemos contornar isso utilizando o operador **\\***. Ao utilizá-lo em uma das variáveis no desempacotamento, estamos sinalizando que ele pode receber múltiplos valores, formando uma coleção com parte dos valores:"
   ]
  },
  {
   "cell_type": "code",
   "execution_count": 78,
   "id": "207a34c6",
   "metadata": {
    "ExecuteTime": {
     "end_time": "2023-07-13T00:19:56.028941Z",
     "start_time": "2023-07-13T00:19:56.020413Z"
    }
   },
   "outputs": [
    {
     "name": "stdout",
     "output_type": "stream",
     "text": [
      "Python\n",
      "['JavaScript', 'PHP', 'SQL']\n",
      "\n",
      "\n",
      "['Python', 'JavaScript', 'PHP']\n",
      "SQL\n",
      "\n",
      "\n",
      "Python\n",
      "['JavaScript', 'PHP']\n",
      "SQL\n",
      "\n",
      "\n",
      "Python\n",
      "JavaScript\n",
      "['PHP']\n",
      "SQL\n"
     ]
    }
   ],
   "source": [
    "linguagens = ('Python', 'JavaScript', 'PHP', 'SQL')\n",
    "\n",
    "primeira, *resto = linguagens\n",
    "print(primeira)\n",
    "print(resto, end='\\n\\n\\n')\n",
    "\n",
    "*resto, ultima = linguagens\n",
    "print(resto)\n",
    "print(ultima, end='\\n\\n\\n')\n",
    "\n",
    "primeira, *meio, ultima = linguagens\n",
    "print(primeira)\n",
    "print(meio)\n",
    "print(ultima, end='\\n\\n\\n')\n",
    "\n",
    "primeiraPosicao, segundaPosicao, *meio, ultimaPosicao = linguagens\n",
    "print(primeiraPosicao)\n",
    "print(segundaPosicao)\n",
    "print(meio)\n",
    "print(ultimaPosicao)"
   ]
  },
  {
   "cell_type": "code",
   "execution_count": 79,
   "id": "821da8c5",
   "metadata": {},
   "outputs": [
    {
     "data": {
      "text/plain": [
       "('Python', 'JavaScript', 'PHP', 'SQL')"
      ]
     },
     "execution_count": 79,
     "metadata": {},
     "output_type": "execute_result"
    }
   ],
   "source": [
    "linguagens"
   ]
  },
  {
   "attachments": {},
   "cell_type": "markdown",
   "id": "5e88fdd5",
   "metadata": {},
   "source": [
    "> O desempacotamento também pode ser utilizado com listas. Um dos principais motivos para ele frequentemente ser lembrado como uma operação de tupla foi que ele inicialmente só existia, de fato, para tuplas, e foi implementado para listas em versões mais recentes do Python. Outro motivo está relacionado à imutabilidade: como a tupla é imutável, temos mais garantias de que sabemos qual dado está em cada posição dela, tornando essa operação mais confiável em tuplas do que em listas."
   ]
  },
  {
   "attachments": {},
   "cell_type": "markdown",
   "id": "bb914478",
   "metadata": {},
   "source": [
    "### Operações com tuplas \"implícitas\"\n",
    "\n",
    "O Python oferece alguns truques que permitem escrever códigos mais enxutos do que em outras linguagens, e parte desses truques utiliza sintaxe de tupla. Por exemplo, para criar duas variáveis e atribuir valores simultaneamente a elas, podemos utilizar vírgulas:"
   ]
  },
  {
   "cell_type": "code",
   "execution_count": 81,
   "id": "fba3fed1",
   "metadata": {
    "ExecuteTime": {
     "end_time": "2023-07-13T00:25:08.783092Z",
     "start_time": "2023-07-13T00:25:08.773504Z"
    }
   },
   "outputs": [
    {
     "name": "stdout",
     "output_type": "stream",
     "text": [
      "10\n",
      "20\n"
     ]
    }
   ],
   "source": [
    "x, y = (10, 20)\n",
    "print(x)\n",
    "print(y)"
   ]
  },
  {
   "attachments": {},
   "cell_type": "markdown",
   "id": "4e849ad9",
   "metadata": {},
   "source": [
    "Outro truque relacionado bastante comum é inverter o valor de duas variáveis:"
   ]
  },
  {
   "cell_type": "code",
   "execution_count": 87,
   "id": "2ad60de4",
   "metadata": {
    "ExecuteTime": {
     "end_time": "2023-07-13T00:25:26.153885Z",
     "start_time": "2023-07-13T00:25:26.140313Z"
    }
   },
   "outputs": [
    {
     "name": "stdout",
     "output_type": "stream",
     "text": [
      "20\n",
      "10\n"
     ]
    }
   ],
   "source": [
    "y, x = x, y\n",
    "print(x)\n",
    "print(y)"
   ]
  },
  {
   "attachments": {},
   "cell_type": "markdown",
   "id": "ec777dc7",
   "metadata": {},
   "source": [
    "Esse tipo de operação é considerado *açúcar sintático*, ou seja, não acrescenta funcionalidades novas, apenas cria formas mais simples e legíveis de realizar operações que já éramos capazes de realizar anteriormente.\n",
    "\n",
    "Internamente, o Python está usando lógica de criar e desempacotar tuplas para realizar esse tipo de operação."
   ]
  },
  {
   "attachments": {},
   "cell_type": "markdown",
   "id": "2ce3848f",
   "metadata": {},
   "source": [
    "## Facilidades para iteração\n",
    "\n",
    "Sempre que possível, é preferível iterar uma coleção - seja ela uma lista ou uma tupla - de maneira direta utilizando *for* sem índices. Há alguns problemas onde pode ser difícil escapar do índice, pois nossa lógica irá depender de posição de alguma maneira.\n",
    "\n",
    "Veremos duas estruturas que irão nos auxiliar a fazer iteração por índice sem precisar utilizar uma estrutura pouco legível como:"
   ]
  },
  {
   "attachments": {},
   "cell_type": "markdown",
   "id": "9a8816bb",
   "metadata": {
    "ExecuteTime": {
     "end_time": "2022-10-03T14:39:33.041659Z",
     "start_time": "2022-10-03T14:39:33.018658Z"
    }
   },
   "source": [
    "```py\n",
    "for indice in range(len(lista)):\n",
    "    ...\n",
    "    lista[indice] = ...\n",
    "    ...\n",
    "```"
   ]
  },
  {
   "attachments": {},
   "cell_type": "markdown",
   "id": "978c3379",
   "metadata": {},
   "source": [
    "### Enumerate\n",
    "\n",
    "Considere um problema qualquer onde o índice importa. Por exemplo, suponha que você possua uma lista de strings e gostaria de exibi-la intercalando uma em letra maiúscula e outra em letra minúscula (assim como frequentemente representamos tabelas intercalando as cores de suas linhas em editores de planilha para melhorar a legibilidade).\n",
    "\n",
    "A lógica desse problema poderia ser resolvida usando índice: "
   ]
  },
  {
   "cell_type": "code",
   "execution_count": 89,
   "id": "62b3d41f",
   "metadata": {
    "ExecuteTime": {
     "end_time": "2023-07-13T00:29:44.374199Z",
     "start_time": "2023-07-13T00:29:44.353294Z"
    }
   },
   "outputs": [
    {
     "name": "stdout",
     "output_type": "stream",
     "text": [
      "['abacate', 'banana', 'carambola', 'damasco', 'embaúba', 'framboesa', 'goiaba', 'pera']\n",
      "\n",
      "\n",
      "ABACATE\n",
      "banana\n",
      "CARAMBOLA\n",
      "damasco\n",
      "EMBAÚBA\n",
      "framboesa\n",
      "GOIABA\n",
      "pera\n"
     ]
    }
   ],
   "source": [
    "print(frutas, end='\\n\\n\\n')\n",
    "\n",
    "for indice in range(len(frutas)):\n",
    "    if indice % 2 == 0:\n",
    "        print(frutas[indice].upper())\n",
    "    else:\n",
    "        print(frutas[indice].lower())"
   ]
  },
  {
   "attachments": {},
   "cell_type": "markdown",
   "id": "adc13f67",
   "metadata": {},
   "source": [
    "Existe uma ferramenta em Python que pode nos ajudar a escrever de maneira mais *pythonica*, sem precisar acessar lista por índice: o **enumerate**. Primeiro, vamos entender o que ele faz e, em seguida, veremos como deixar o código mais limpo:"
   ]
  },
  {
   "cell_type": "code",
   "execution_count": 90,
   "id": "17355f91",
   "metadata": {
    "ExecuteTime": {
     "end_time": "2023-07-13T00:32:25.220393Z",
     "start_time": "2023-07-13T00:32:25.203109Z"
    }
   },
   "outputs": [
    {
     "name": "stdout",
     "output_type": "stream",
     "text": [
      "(0, 'abacate')\n",
      "(1, 'banana')\n",
      "(2, 'carambola')\n",
      "(3, 'damasco')\n",
      "(4, 'embaúba')\n",
      "(5, 'framboesa')\n",
      "(6, 'goiaba')\n",
      "(7, 'pera')\n"
     ]
    }
   ],
   "source": [
    "for x in enumerate(frutas):\n",
    "    print(x)"
   ]
  },
  {
   "attachments": {},
   "cell_type": "markdown",
   "id": "0e695254",
   "metadata": {},
   "source": [
    "O **enumerate** montou uma estrutura onde cada elemento é uma tupla, sendo o primeiro elemento da tupla um índice da lista, e o segundo o valor associado àquele índice. Aplicando desempacotamento de tupla no *for*, podemos ter, simultaneamente, índice e valor em variáveis separadas, na prática percorrendo a lista tanto por índice quanto por valor. Refazendo o exemplo das maiúsculas/minúsculas:"
   ]
  },
  {
   "cell_type": "code",
   "execution_count": 91,
   "id": "da2b005a",
   "metadata": {
    "ExecuteTime": {
     "end_time": "2023-07-13T00:33:19.913560Z",
     "start_time": "2023-07-13T00:33:19.903919Z"
    }
   },
   "outputs": [
    {
     "name": "stdout",
     "output_type": "stream",
     "text": [
      "ABACATE\n",
      "banana\n",
      "CARAMBOLA\n",
      "damasco\n",
      "EMBAÚBA\n",
      "framboesa\n",
      "GOIABA\n",
      "pera\n"
     ]
    }
   ],
   "source": [
    "for indice, valor in enumerate(frutas):\n",
    "    if indice % 2 == 0:\n",
    "        print(valor.upper())\n",
    "    else:\n",
    "        print(valor.lower())"
   ]
  },
  {
   "attachments": {},
   "cell_type": "markdown",
   "id": "5dc5b25f",
   "metadata": {},
   "source": [
    "### Zip\n",
    "\n",
    "Vamos pensar em um problema onde precisamos percorrer duas listas simultaneamente. Por exemplo, considere que temos uma lista com os nomes de todos os alunos de uma turma, e outra com as notas, na mesma ordem. Como faríamos para acessar, simultaneamente, o nome de um aluno e a sua nota?\n",
    "\n",
    "Esse é um problema onde, a princípio, utilizaríamos índice. Se usarmos o mesmo índice nas duas listas, estamos na prática percorrendo ambas as listas simultaneamente:"
   ]
  },
  {
   "cell_type": "code",
   "execution_count": 99,
   "id": "1b327041",
   "metadata": {
    "ExecuteTime": {
     "end_time": "2023-07-13T00:37:14.049537Z",
     "start_time": "2023-07-13T00:37:14.041086Z"
    }
   },
   "outputs": [
    {
     "name": "stdout",
     "output_type": "stream",
     "text": [
      "Aluno Paul: 10\n",
      "Aluno John: 9.5\n",
      "Aluno George: 7\n",
      "Aluno Ringo: 5\n"
     ]
    }
   ],
   "source": [
    "alunos = ['Paul', 'John', 'George', 'Ringo']\n",
    "notas = [10, 9.5, 7, 5]\n",
    "notas3 = [11, 12, 14, 15, 17, 21]\n",
    "notas4 = [13, 16]\n",
    "\n",
    "for indice in range(len(alunos)):\n",
    "    print(f'Aluno {alunos[indice]}: {notas[indice]}')"
   ]
  },
  {
   "attachments": {},
   "cell_type": "markdown",
   "id": "a1d4af1c",
   "metadata": {},
   "source": [
    "Vamos ver agora o **zip** em ação para compreender como ele funciona:"
   ]
  },
  {
   "cell_type": "code",
   "execution_count": 103,
   "id": "a37e41cb",
   "metadata": {
    "ExecuteTime": {
     "end_time": "2023-07-13T00:39:59.647372Z",
     "start_time": "2023-07-13T00:39:59.639251Z"
    }
   },
   "outputs": [
    {
     "name": "stdout",
     "output_type": "stream",
     "text": [
      "('Paul', 10)\n",
      "('John', 9.5)\n",
      "('George', 7)\n",
      "('Ringo', 5)\n"
     ]
    }
   ],
   "source": [
    "for x in zip(alunos, notas):\n",
    "    print(x)"
   ]
  },
  {
   "attachments": {},
   "cell_type": "markdown",
   "id": "f256b68b",
   "metadata": {},
   "source": [
    "Assim como no **enumerate**, o **zip** montou tuplas. Cada tupla representa 1 posição das listas originais, e cada posição dentro da tupla representa o dado de uma das listas. Ou seja, cada elemento do **zip** contém 1 elemento de cada lista original, na ordem que eles apareceram nas listas originais. Logo, ele permite percorrer 2 listas simultaneamente.\n",
    "\n",
    "Novamente podemos aplicar desempacotamento de tuplas em nosso loop e acessar os dados de cada lista individualmente de maneira legível:"
   ]
  },
  {
   "cell_type": "code",
   "execution_count": 95,
   "id": "a45890d2",
   "metadata": {
    "ExecuteTime": {
     "end_time": "2023-07-13T00:40:31.476240Z",
     "start_time": "2023-07-13T00:40:31.454261Z"
    }
   },
   "outputs": [
    {
     "name": "stdout",
     "output_type": "stream",
     "text": [
      "Aluno Paul: 13\n",
      "Aluno John: 16\n"
     ]
    }
   ],
   "source": [
    "for aluno, nota in zip(alunos, notas4):\n",
    "    print(f'Aluno {aluno}: {nota}')"
   ]
  },
  {
   "attachments": {},
   "cell_type": "markdown",
   "id": "816d8f92",
   "metadata": {},
   "source": [
    "## Exercícios\n",
    "\n",
    "1. Defina duas tuplas: uma com nomes de comida (pelo menos 5 nomes) e outra com os preços das comidas - preservando a ordem. Mostre no *standard output* a relação de comida-preço.\n",
    "\n",
    "2. Agora, ainda com as tuplas acima, pegue apenas o nome e o preço das três comidas no meio da tupla. (considere \"meio da lista\" como sendo, por exemplo: ('A', 'B', 'C', 'D', 'E') --> ('B', 'C', 'D').\n",
    "\n",
    "3. Defina uma tupla com pelo menos cinco valores e mostre no *standar output* esta tupla invertida. (exemplo, (1, 2, 3, 4) --> (4, 3, 2, 1)\n",
    "\n",
    "4. Dada a seguinte tupla: (('a', 23),('b', 37),('c', 11), ('d',29)). Ordene esta tupla de acordo com o segundo item.\n",
    "\n",
    "5. Defina uma tupla com pelo menos dez itens e crie uma nova tupla com apenas os itens de índice PAR da tupla original."
   ]
  },
  {
   "cell_type": "code",
   "execution_count": null,
   "id": "38f7e752",
   "metadata": {
    "ExecuteTime": {
     "end_time": "2023-07-13T01:00:41.887868Z",
     "start_time": "2023-07-13T01:00:41.872455Z"
    }
   },
   "outputs": [],
   "source": []
  },
  {
   "cell_type": "code",
   "execution_count": null,
   "id": "ba5abeb4",
   "metadata": {
    "ExecuteTime": {
     "end_time": "2023-07-13T00:58:14.241957Z",
     "start_time": "2023-07-13T00:58:14.226402Z"
    }
   },
   "outputs": [],
   "source": []
  },
  {
   "cell_type": "code",
   "execution_count": null,
   "id": "ba9f84ba",
   "metadata": {
    "ExecuteTime": {
     "end_time": "2023-07-13T00:59:05.725889Z",
     "start_time": "2023-07-13T00:59:05.706338Z"
    }
   },
   "outputs": [],
   "source": []
  },
  {
   "cell_type": "code",
   "execution_count": null,
   "id": "7d42a193",
   "metadata": {
    "ExecuteTime": {
     "end_time": "2023-07-13T01:08:10.249061Z",
     "start_time": "2023-07-13T01:08:10.230942Z"
    }
   },
   "outputs": [],
   "source": []
  },
  {
   "cell_type": "code",
   "execution_count": null,
   "id": "8ee1302f",
   "metadata": {
    "ExecuteTime": {
     "end_time": "2023-07-13T01:10:45.026623Z",
     "start_time": "2023-07-13T01:10:45.009940Z"
    }
   },
   "outputs": [],
   "source": []
  }
 ],
 "metadata": {
  "kernelspec": {
   "display_name": "Python 3 (ipykernel)",
   "language": "python",
   "name": "python3"
  },
  "language_info": {
   "codemirror_mode": {
    "name": "ipython",
    "version": 3
   },
   "file_extension": ".py",
   "mimetype": "text/x-python",
   "name": "python",
   "nbconvert_exporter": "python",
   "pygments_lexer": "ipython3",
   "version": "3.10.2"
  },
  "latex_envs": {
   "LaTeX_envs_menu_present": true,
   "autoclose": false,
   "autocomplete": true,
   "bibliofile": "biblio.bib",
   "cite_by": "apalike",
   "current_citInitial": 1,
   "eqLabelWithNumbers": true,
   "eqNumInitial": 1,
   "hotkeys": {
    "equation": "Ctrl-E",
    "itemize": "Ctrl-I"
   },
   "labels_anchors": false,
   "latex_user_defs": false,
   "report_style_numbering": false,
   "user_envs_cfg": false
  },
  "toc": {
   "base_numbering": 1,
   "nav_menu": {},
   "number_sections": true,
   "sideBar": true,
   "skip_h1_title": false,
   "title_cell": "Table of Contents",
   "title_sidebar": "Contents",
   "toc_cell": false,
   "toc_position": {},
   "toc_section_display": true,
   "toc_window_display": false
  },
  "varInspector": {
   "cols": {
    "lenName": 16,
    "lenType": 16,
    "lenVar": 40
   },
   "kernels_config": {
    "python": {
     "delete_cmd_postfix": "",
     "delete_cmd_prefix": "del ",
     "library": "var_list.py",
     "varRefreshCmd": "print(var_dic_list())"
    },
    "r": {
     "delete_cmd_postfix": ") ",
     "delete_cmd_prefix": "rm(",
     "library": "var_list.r",
     "varRefreshCmd": "cat(var_dic_list()) "
    }
   },
   "types_to_exclude": [
    "module",
    "function",
    "builtin_function_or_method",
    "instance",
    "_Feature"
   ],
   "window_display": false
  }
 },
 "nbformat": 4,
 "nbformat_minor": 5
}
