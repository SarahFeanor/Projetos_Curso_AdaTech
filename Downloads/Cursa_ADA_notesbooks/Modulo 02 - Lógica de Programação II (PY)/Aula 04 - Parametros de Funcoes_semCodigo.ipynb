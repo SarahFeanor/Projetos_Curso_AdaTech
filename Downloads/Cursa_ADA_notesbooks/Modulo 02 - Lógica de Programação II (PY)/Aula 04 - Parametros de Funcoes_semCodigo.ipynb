{
 "cells": [
  {
   "cell_type": "markdown",
   "id": "c16e13fb",
   "metadata": {},
   "source": [
    "# Parâmetros e retorno de funções\n",
    "\n",
    "Quando estudamos funções, aprendemos que elas podem receber dados (parâmetros) e podem fornecer uma resposta (retorno). Porém, o número de parâmetros era fixo para cada função: um dado para cada parâmetro que declaramos na definição da função. Da mesma forma, a função poderia retornar exatamente um resultado.\n",
    "\n",
    "Em alguns casos, mais flexibilidade seria útil. Utilizando tuplas e dicionários conseguimos essa flexibilidade."
   ]
  },
  {
   "cell_type": "markdown",
   "id": "47e991a7",
   "metadata": {},
   "source": [
    "## Funções com retorno múltiplo\n",
    "\n",
    "Vejamos um caso simples: uma função que retorna os valores máximo e mínimo de uma coleção, separados por vírgula.\n",
    "Vamos imprimir o resultado e verificar o que acontece."
   ]
  },
  {
   "cell_type": "code",
   "execution_count": 16,
   "id": "788c7ab6",
   "metadata": {
    "ExecuteTime": {
     "end_time": "2023-11-08T22:56:55.419901Z",
     "start_time": "2023-11-08T22:56:55.405183Z"
    }
   },
   "outputs": [
    {
     "name": "stdout",
     "output_type": "stream",
     "text": [
      "(37, -4)\n",
      "\n",
      "37\n",
      "-4\n",
      "\n",
      "37\n",
      "-4\n"
     ]
    }
   ],
   "source": [
    "def maxMin(colecao):\n",
    "    maior = max(colecao)\n",
    "    menor = min(colecao)\n",
    "    \n",
    "    return maior, menor\n",
    "\n",
    "numeros = list(range(1, 21)) + [-4, 37]\n",
    "\n",
    "respostas = maxMin(colecao=numeros)\n",
    "print(respostas, end='\\n\\n')\n",
    "\n",
    "maior, menor = maxMin(colecao=numeros)\n",
    "print(maior)\n",
    "print(menor, end='\\n\\n')\n",
    "\n",
    "print(respostas[0])\n",
    "print(respostas[1])"
   ]
  },
  {
   "cell_type": "markdown",
   "id": "91d23b1f",
   "metadata": {},
   "source": [
    "Se você executar o resultado acima, verá que o retorno da função é uma tupla. Lembre-se que expressões contendo valores separados por vírgula em Python, mesmo na ausência de parênteses, são tratadas como tuplas.\n",
    "\n",
    "No capítulo de tuplas, estudamos a operação de *desempacotamento de tuplas*. Sua aplicação neste caso pode ajudar a de fato lidar com essa função como sendo uma função que retorna múltiplos valores ao invés de simplesmente uma função que retorna uma tupla:"
   ]
  },
  {
   "cell_type": "code",
   "execution_count": 14,
   "id": "a79d2ef3",
   "metadata": {
    "ExecuteTime": {
     "end_time": "2023-11-08T22:55:50.618742Z",
     "start_time": "2023-11-08T22:55:50.607163Z"
    }
   },
   "outputs": [
    {
     "name": "stdout",
     "output_type": "stream",
     "text": [
      "9\n",
      "1\n"
     ]
    }
   ],
   "source": [
    "def maxMin(colecao):\n",
    "    maior = max(colecao)\n",
    "    menor = min(colecao)\n",
    "    \n",
    "    return maior, menor\n",
    "\n",
    "numeros = [3, 1, 4, 1, 5, 9, 2]\n",
    "\n",
    "maiorNum, menorNum = maxMin(numeros)\n",
    "print(maiorNum)\n",
    "print(menorNum)"
   ]
  },
  {
   "cell_type": "markdown",
   "id": "35f4d4fc",
   "metadata": {},
   "source": [
    "Todas as variações de desempacotamento de tupla que já estudamos, incluindo o uso do operador **\\*** para agrupar e/ou descartar parte dos valores retornados podem ser empregadas aqui."
   ]
  },
  {
   "cell_type": "markdown",
   "id": "9f9b6bb9",
   "metadata": {},
   "source": [
    "## Parâmetros com valores padrão\n",
    "\n",
    "Uma primeira forma de trabalhar com a ideia de parâmetros opcionais é atribuir valores padrão para nossos parâmetros. Quando fazemos isso, quando a função for chamada, o parâmetro pode **ou** não ser passado. Caso ele não seja passado, é adotado o valor padrão.\n",
    "\n",
    "Devemos primeiro colocar os parâmetros \"comuns\" (conhecidos como _argumentos posicionais_) para depois colocar os argumentos com valor padrão. Imagine, por exemplo, uma função que padroniza _strings_ jogando todo seu conteúdo para upper ou lower. Podemos implementá-la da seguinte maneira:"
   ]
  },
  {
   "cell_type": "code",
   "execution_count": 19,
   "id": "59c75c86",
   "metadata": {
    "ExecuteTime": {
     "end_time": "2023-11-08T23:04:14.695667Z",
     "start_time": "2023-11-08T23:04:14.688152Z"
    }
   },
   "outputs": [
    {
     "name": "stdout",
     "output_type": "stream",
     "text": [
      "sem passar o segundo argumento\n",
      "passando o segundo argumento true\n",
      "PASSANDO O SEGUNDO ARGUMENTO FALSE\n"
     ]
    }
   ],
   "source": [
    "def padronizaString(texto, lower=True):\n",
    "    if lower:\n",
    "        return texto.lower()\n",
    "    else:\n",
    "        return texto.upper()\n",
    "\n",
    "print(padronizaString('Sem passar o SEGUNDO argumento'))\n",
    "print(padronizaString('Passando o SEGUNDO argumento TRUE', lower=True))\n",
    "print(padronizaString('Passando o SEGUNDO argumento FALSE', lower=False))"
   ]
  },
  {
   "cell_type": "markdown",
   "id": "868a5529",
   "metadata": {},
   "source": [
    "## Funções com quantidade variável de parâmetros\n",
    "\n",
    "Talvez você já tenha notado que o _print_ é uma função. Se não notou, esse é um bom momento para pensar a respeito. Nós sempre usamos com parênteses, nós passamos informações dentro dos parênteses (os dados a serem impressos) e ele faz um monte de coisa automaticamente: converte todos os dados passados para _string_, concatena todas as _strings_ com um espaço entre elas e as escreve na tela.\n",
    "\n",
    "Algo que o _print_ tem que as nossas funções não tinham é a capacidade de receber uma quantidade variável de parâmetros. Nós podemos passar 0 dados (e, neste caso, ele apenas pulará uma linha), 1 dado, 2 dados, 3 dados... Quantos dados quisermos e ele funcionará para todos esses casos. Se temos que declarar todos os parâmetros, como fazer para que múltiplos dados possam ser passados?"
   ]
  },
  {
   "cell_type": "code",
   "execution_count": 26,
   "id": "259f7796",
   "metadata": {
    "ExecuteTime": {
     "end_time": "2023-11-08T23:10:39.651822Z",
     "start_time": "2023-11-08T23:10:39.643805Z"
    }
   },
   "outputs": [
    {
     "name": "stdout",
     "output_type": "stream",
     "text": [
      "a\n",
      "\n",
      "b c d False 7\n"
     ]
    }
   ],
   "source": [
    "print('a')\n",
    "print()\n",
    "print('b', 'c', 'd', False, 7)"
   ]
  },
  {
   "cell_type": "markdown",
   "id": "ccc0da45",
   "metadata": {},
   "source": [
    "### Agrupando parâmetros\n",
    "\n",
    "A solução é utilizar o operador **\\***.  Ao colocarmos o **\\*** ao lado do nome de um parâmetro na definição da função, estamos dizendo que aquele argumento será uma coleção. Mais especificamente, uma tupla. Porém, o usuário não irá passar uma tupla. Ele irá passar quantos argumentos ele quiser, separados por vírgula, e o Python automaticamente criará uma tupla.\n",
    "\n",
    "O exemplo abaixo cria uma função de somatório que pode receber uma quantidade arbitrária de números."
   ]
  },
  {
   "cell_type": "code",
   "execution_count": 33,
   "id": "7f41e0e6",
   "metadata": {
    "ExecuteTime": {
     "end_time": "2023-11-08T23:19:01.124378Z",
     "start_time": "2023-11-08T23:19:01.109319Z"
    }
   },
   "outputs": [
    {
     "name": "stdout",
     "output_type": "stream",
     "text": [
      "17\n",
      "15\n"
     ]
    }
   ],
   "source": [
    "def somatorio(*numeros):\n",
    "#     print(numeros)\n",
    "#     print(type(numeros))\n",
    "    \n",
    "    soma = 0\n",
    "    for n in numeros:\n",
    "        soma += n\n",
    "        \n",
    "    return soma\n",
    "\n",
    "s1 = somatorio(5, 3, 2, 6, 1)\n",
    "print(s1)\n",
    "\n",
    "s2 = somatorio(4, 9 ,2)\n",
    "print(s2)"
   ]
  },
  {
   "cell_type": "markdown",
   "id": "21f039d0",
   "metadata": {},
   "source": [
    "### Expandindo uma coleção\n",
    "\n",
    "O exemplo acima funciona muito bem quando o usuário da função possui vários dados avulsos, pois ele os agrupa em uma coleção. Mas o que acontece quando os dados já estão agrupados?"
   ]
  },
  {
   "cell_type": "code",
   "execution_count": 42,
   "id": "79e759c3",
   "metadata": {
    "ExecuteTime": {
     "end_time": "2023-11-08T23:24:13.632055Z",
     "start_time": "2023-11-08T23:24:13.584332Z"
    }
   },
   "outputs": [
    {
     "ename": "TypeError",
     "evalue": "unsupported operand type(s) for +=: 'int' and 'list'",
     "output_type": "error",
     "traceback": [
      "\u001b[1;31m---------------------------------------------------------------------------\u001b[0m",
      "\u001b[1;31mTypeError\u001b[0m                                 Traceback (most recent call last)",
      "Input \u001b[1;32mIn [42]\u001b[0m, in \u001b[0;36m<cell line: 12>\u001b[1;34m()\u001b[0m\n\u001b[0;32m      9\u001b[0m     \u001b[38;5;28;01mreturn\u001b[39;00m soma\n\u001b[0;32m     11\u001b[0m lista \u001b[38;5;241m=\u001b[39m [\u001b[38;5;241m1\u001b[39m, \u001b[38;5;241m2\u001b[39m, \u001b[38;5;241m3\u001b[39m, \u001b[38;5;241m4\u001b[39m, \u001b[38;5;241m5\u001b[39m]\n\u001b[1;32m---> 12\u001b[0m s \u001b[38;5;241m=\u001b[39m \u001b[43msomatorio\u001b[49m\u001b[43m(\u001b[49m\u001b[43mlista\u001b[49m\u001b[43m)\u001b[49m\n\u001b[0;32m     13\u001b[0m \u001b[38;5;28mprint\u001b[39m(s)\n",
      "Input \u001b[1;32mIn [42]\u001b[0m, in \u001b[0;36msomatorio\u001b[1;34m(*numeros)\u001b[0m\n\u001b[0;32m      5\u001b[0m soma \u001b[38;5;241m=\u001b[39m \u001b[38;5;241m0\u001b[39m\n\u001b[0;32m      6\u001b[0m \u001b[38;5;28;01mfor\u001b[39;00m n \u001b[38;5;129;01min\u001b[39;00m numeros:\n\u001b[1;32m----> 7\u001b[0m     soma \u001b[38;5;241m+\u001b[39m\u001b[38;5;241m=\u001b[39m n\n\u001b[0;32m      9\u001b[0m \u001b[38;5;28;01mreturn\u001b[39;00m soma\n",
      "\u001b[1;31mTypeError\u001b[0m: unsupported operand type(s) for +=: 'int' and 'list'"
     ]
    }
   ],
   "source": [
    "def somatorio(*numeros):\n",
    "#     print(numeros)\n",
    "#     print(type(numeros))\n",
    "    \n",
    "    soma = 0\n",
    "    for n in numeros:\n",
    "        soma += n\n",
    "        \n",
    "    return soma\n",
    "\n",
    "lista = [1, 2, 3, 4, 5]\n",
    "s = somatorio(lista)\n",
    "print(s)"
   ]
  },
  {
   "cell_type": "markdown",
   "id": "1ca9e2ab",
   "metadata": {
    "ExecuteTime": {
     "end_time": "2022-10-08T17:56:46.044495Z",
     "start_time": "2022-10-08T17:56:46.031554Z"
    }
   },
   "source": [
    "Note que o programa dará erro, pois como os _print_ dentro da função ilustram, foi criada uma tupla, e na primeira posição da tupla foi armazenada a lista. Isso não funciona com a lógica que projetamos.\n",
    "\n",
    "Para casos assim, utilizaremos o operador **\\*** na chamada da função também. Na definição, o operador **\\*** indica que devemos agrupar itens avulsos em uma coleção. Na chamada, ele indica que uma coleção deve ser expandida em itens avulsos."
   ]
  },
  {
   "cell_type": "code",
   "execution_count": 56,
   "id": "9cf8a404",
   "metadata": {
    "ExecuteTime": {
     "end_time": "2023-11-08T23:31:12.486807Z",
     "start_time": "2023-11-08T23:31:12.476694Z"
    }
   },
   "outputs": [
    {
     "name": "stdout",
     "output_type": "stream",
     "text": [
      "15\n"
     ]
    }
   ],
   "source": [
    "def somatorio(*numeros):\n",
    "#     print(numeros)\n",
    "#     print(type(numeros))\n",
    "    \n",
    "    soma = 0\n",
    "    for n in numeros:\n",
    "        soma = soma + n\n",
    "        \n",
    "    return soma\n",
    "\n",
    "lista = [1, 2, 3, 4, 5]\n",
    "s = somatorio(*lista)\n",
    "print(s)"
   ]
  },
  {
   "cell_type": "markdown",
   "id": "cebec9d8",
   "metadata": {},
   "source": [
    "No programa acima, a lista é expandida em 5 valores avulsos, e em seguida a função agrupa os 5 itens em uma tupla chamada \"numeros\". "
   ]
  },
  {
   "cell_type": "markdown",
   "id": "8d0db586",
   "metadata": {},
   "source": [
    "## Parâmetros opcionais\n",
    "\n",
    "Outra possibilidade são funções com parâmetros opcionais. Note que isso é diferente de termos quantidade variável de parâmetros. \n",
    "\n",
    "No caso da quantidade variável, normalmente são diversos parâmetros com a mesma utilidade (números a serem somados, valores a serem exibidos, etc). \n",
    "\n",
    "Já os parâmetros opcionais são informações distintas que podem ou não ser passadas para a função. Você pode ou não passá-los, e sempre deve indicar o seu nome ao passá-los.\n",
    "\n",
    "Já estudamos uma forma de parâmetros opcionais utilizando valores padrão. Mas para funções com uma **grande** quantidade de parâmetros opcionais, existe outra forma utilizando dicionários, apelidada como `**kwargs`."
   ]
  },
  {
   "cell_type": "markdown",
   "id": "a7ca48e6",
   "metadata": {},
   "source": [
    "### Criando **kwargs\n",
    "\n",
    "Para criar parâmetros opcionais, usaremos **\\*\\***, e os parâmetros passados serão agrupados em um dicionário: o nome do parâmetro será uma chave, e o valor será... o valor.\n",
    "\n",
    "O exemplo abaixo simula o cadastro de usuários em uma base de dados. Um usuário pode fornecer seu nome, seu CPF ou ambos."
   ]
  },
  {
   "cell_type": "code",
   "execution_count": 63,
   "id": "d45116ff",
   "metadata": {
    "ExecuteTime": {
     "end_time": "2023-11-08T23:57:41.550292Z",
     "start_time": "2023-11-08T23:57:41.528525Z"
    }
   },
   "outputs": [
    {
     "name": "stdout",
     "output_type": "stream",
     "text": [
      "João\n",
      "1234567890\n",
      "---------\n",
      "{'nome': 'João', 'cpf': 1234567890}\n",
      "\n",
      "José\n",
      "---------\n",
      "{'nome': 'José'}\n",
      "\n",
      "1234567890\n",
      "---------\n",
      "{'cpf': 1234567890}\n",
      "\n",
      "Nenhum dado encontrado!\n",
      "{'rg': 1243543636}\n",
      "\n"
     ]
    }
   ],
   "source": [
    "def cadastro(**usuario):\n",
    "    if not ('nome') in usuario and not ('cpf') in usuario:\n",
    "        print('Nenhum dado encontrado!')\n",
    "    \n",
    "    else:\n",
    "        if 'nome' in usuario:\n",
    "            print(usuario['nome'])\n",
    "        if 'cpf' in usuario:\n",
    "            print(usuario['cpf'])\n",
    "            \n",
    "        print('---------')\n",
    "    \n",
    "    print(usuario, end='\\n\\n')\n",
    "    \n",
    "cadastro(nome = 'João', cpf = 1234567890)\n",
    "cadastro(nome = 'José')\n",
    "cadastro(cpf = 1234567890)\n",
    "cadastro(rg = 1243543636)"
   ]
  },
  {
   "cell_type": "markdown",
   "id": "2a45b1a0",
   "metadata": {},
   "source": [
    "### Expandindo um dicionário\n",
    "\n",
    "Analogamente ao caso dos parâmetros múltiplos, é possível que o usuário da função já tenha os dados organizados em um dicionário. Neste caso, basta usar **\\*\\*** na chamada da função para expandir o dicionário em vários parâmetros opcionais:"
   ]
  },
  {
   "cell_type": "code",
   "execution_count": 68,
   "id": "a8b1b859",
   "metadata": {
    "ExecuteTime": {
     "end_time": "2023-11-09T00:00:21.948986Z",
     "start_time": "2023-11-09T00:00:21.934795Z"
    }
   },
   "outputs": [
    {
     "name": "stdout",
     "output_type": "stream",
     "text": [
      "Maria\n",
      "0987654321\n",
      "---------\n",
      "{'nome': 'Maria', 'cpf': '0987654321', 'rg': '3957624957'}\n",
      "\n"
     ]
    }
   ],
   "source": [
    "maria = {'nome': 'Maria', 'cpf': '0987654321', 'rg': '3957624957'}\n",
    "cadastro(**maria)"
   ]
  },
  {
   "cell_type": "markdown",
   "id": "5e963e2a",
   "metadata": {},
   "source": [
    "> **Ordem dos parâmetros**\n",
    ">\n",
    "> Caso sua função vá combinar múltiplos tipos de parâmetro, sempre siga a seguinte ordem: argumentos posicionais (os comuns), argumentos com asterisco (tupla), argumentos com valor padrão e argumentos com dois asteriscos (dicionário). Por exemplo, na função abaixo:\n",
    "> \n",
    "> `def funcao(a, b, *c, d=0, e=1, **f)`\n",
    "> \n",
    "> Quando ela for chamada, o Python fará o seguinte: \n",
    "> * os primeiros 2 valores serão atribuídos, respectivamente, para *a* e *b*.\n",
    "> * os próximos valores, independentes de quantos sejam, serão incluídos na tupla *c*.\n",
    "> * se os valores *d* e/ou *e* forem passados explicitamente pelo nome, os valores passados serão adotados, senão, serão adotados os valores padrão.\n",
    "> * quaisquer outros valores passados por nome serão incluídos no dicionário *f*.\n"
   ]
  },
  {
   "cell_type": "markdown",
   "id": "9df42527",
   "metadata": {},
   "source": [
    "1. Crie uma função que recebe uma quantidade variável de argumentos numéricos e retorna a quantidade de números enviados e a soma deles;\n",
    "\n",
    "2. Crie uma função que recebe nome e idade, porém a idade *default* deve ser 99;\n",
    "\n",
    "3. Crie uma função externa que deve calcular receber uma quantidade variável de números e chamar uma função interna que deve executar a soma destes números, por fim, a função externa retorna esta soma; \n",
    "\n",
    "4. Renomeie a seguinte função e execute ela pelo nome atualizado:\n",
    "```py\n",
    "def estudante(nome, idade):\n",
    "    print(nome, idade)\n",
    "```"
   ]
  },
  {
   "cell_type": "code",
   "execution_count": null,
   "id": "1a7ef86d",
   "metadata": {
    "ExecuteTime": {
     "end_time": "2023-07-20T00:21:58.877487Z",
     "start_time": "2023-07-20T00:21:58.866643Z"
    }
   },
   "outputs": [],
   "source": [
    "# Exercício 1\n",
    "\n",
    "def func(*args):\n",
    "    cont = 0\n",
    "    soma = 0\n",
    "    for i in args:\n",
    "        cont += 1\n",
    "        soma += i\n",
    "        \n",
    "    return cont, soma\n",
    "        \n",
    "quantidade1, soma1 = func(20, 40, 60)\n",
    "\n",
    "quantidade2, soma2 = func(80, 100)\n",
    "\n",
    "print(quantidade1, soma1)\n",
    "print(quantidade2, soma2)"
   ]
  },
  {
   "cell_type": "code",
   "execution_count": null,
   "id": "39482d3e",
   "metadata": {
    "ExecuteTime": {
     "end_time": "2023-07-20T00:23:47.002231Z",
     "start_time": "2023-07-20T00:23:46.981627Z"
    }
   },
   "outputs": [],
   "source": [
    "# Exercicio 2\n",
    "\n",
    "def nomeIdade(nome, idade=99):\n",
    "    print(\"Nome:\", nome, \"Idade:\", idade)\n",
    "\n",
    "nomeIdade(\"João\", 23)\n",
    "nomeIdade(\"Vanessa\")"
   ]
  },
  {
   "cell_type": "code",
   "execution_count": null,
   "id": "83efa5db",
   "metadata": {
    "ExecuteTime": {
     "end_time": "2023-07-20T00:27:38.668774Z",
     "start_time": "2023-07-20T00:27:38.661733Z"
    }
   },
   "outputs": [],
   "source": [
    "# Exercicio 3\n",
    "\n",
    "# Função externa\n",
    "def funcExterna(*args):\n",
    "\n",
    "    # Função interna\n",
    "    def adicao(a, b):\n",
    "        return a + b\n",
    "    \n",
    "    soma = 0\n",
    "    for i in args:\n",
    "        # Chamando a função interna dentro da função externa\n",
    "        soma = adicao(soma, i)\n",
    "\n",
    "    return soma\n",
    "\n",
    "resultado = funcExterna(5, 10, 12, 17, 44, 12)\n",
    "print(resultado)"
   ]
  },
  {
   "cell_type": "code",
   "execution_count": 2,
   "id": "be356b35",
   "metadata": {
    "ExecuteTime": {
     "end_time": "2023-11-09T00:56:11.893651Z",
     "start_time": "2023-11-09T00:56:11.881531Z"
    }
   },
   "outputs": [
    {
     "name": "stdout",
     "output_type": "stream",
     "text": [
      "Julia 34\n",
      "Julia 34\n"
     ]
    }
   ],
   "source": [
    "# Exercício 4\n",
    "\n",
    "def estudante(nome, idade):\n",
    "    print(nome, idade)\n",
    "    \n",
    "# Usando o nome original\n",
    "estudante('Julia', 34)\n",
    "\n",
    "novaFuncao = estudante\n",
    "\n",
    "# Usando o novo nome\n",
    "novaFuncao('Julia', 34)"
   ]
  }
 ],
 "metadata": {
  "kernelspec": {
   "display_name": "Python 3 (ipykernel)",
   "language": "python",
   "name": "python3"
  },
  "language_info": {
   "codemirror_mode": {
    "name": "ipython",
    "version": 3
   },
   "file_extension": ".py",
   "mimetype": "text/x-python",
   "name": "python",
   "nbconvert_exporter": "python",
   "pygments_lexer": "ipython3",
   "version": "3.10.2"
  },
  "latex_envs": {
   "LaTeX_envs_menu_present": true,
   "autoclose": false,
   "autocomplete": true,
   "bibliofile": "biblio.bib",
   "cite_by": "apalike",
   "current_citInitial": 1,
   "eqLabelWithNumbers": true,
   "eqNumInitial": 1,
   "hotkeys": {
    "equation": "Ctrl-E",
    "itemize": "Ctrl-I"
   },
   "labels_anchors": false,
   "latex_user_defs": false,
   "report_style_numbering": false,
   "user_envs_cfg": false
  },
  "toc": {
   "base_numbering": 1,
   "nav_menu": {},
   "number_sections": true,
   "sideBar": true,
   "skip_h1_title": false,
   "title_cell": "Table of Contents",
   "title_sidebar": "Contents",
   "toc_cell": false,
   "toc_position": {},
   "toc_section_display": true,
   "toc_window_display": false
  },
  "varInspector": {
   "cols": {
    "lenName": 16,
    "lenType": 16,
    "lenVar": 40
   },
   "kernels_config": {
    "python": {
     "delete_cmd_postfix": "",
     "delete_cmd_prefix": "del ",
     "library": "var_list.py",
     "varRefreshCmd": "print(var_dic_list())"
    },
    "r": {
     "delete_cmd_postfix": ") ",
     "delete_cmd_prefix": "rm(",
     "library": "var_list.r",
     "varRefreshCmd": "cat(var_dic_list()) "
    }
   },
   "types_to_exclude": [
    "module",
    "function",
    "builtin_function_or_method",
    "instance",
    "_Feature"
   ],
   "window_display": false
  }
 },
 "nbformat": 4,
 "nbformat_minor": 5
}
