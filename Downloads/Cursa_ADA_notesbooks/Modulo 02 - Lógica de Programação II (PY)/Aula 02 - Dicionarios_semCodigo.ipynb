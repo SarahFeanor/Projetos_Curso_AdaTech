{
 "cells": [
  {
   "cell_type": "markdown",
   "id": "d97a6fa8",
   "metadata": {},
   "source": [
    "# Dicionários\n",
    "\n",
    "Você provavelmente já viu diversas tabelas onde cada coluna representa uma informação diferente sobre uma pessoa, evento ou objeto. Por exemplo, cada linha pode representar um aluno. A primeira coluna pode ser o nome do aluno, as quatro colunas seguintes podem ser suas notas em provas, a sexta coluna pode ser sua média, a sétima pode ser suas presenças, a oitava pode ser seu status (aprovado ou reprovado) e a nona pode conter algumas observações.\n",
    "\n",
    "Em programação, as linhas de uma tabela poderiam ser representadas por listas. Neste caso, o índice 0 de cada linha seria sempre o nome, os índices 1 a 4 seriam as notas, o índice 5 seria a média, e assim sucessivamente. Porém, isso nem sempre convém, porque:\n",
    "\n",
    "* expressões como ```lista[1] + lista[2] + lista[3] + lista[4]``` nos trazem pouca informação sobre o que significam os dados envolvidos na operação;\n",
    "  \n",
    "* caso seja necessário alterar a estrutura de dados para inserir, por exemplo, mais notas, seria necessário adaptar todo o código alterando todos os *números mágicos* representando cada coluna;\n",
    "\n",
    "Seria preferível referenciarmos o nome do aluno por 'nome', suas notas poderiam ser uma lista chamada 'notas', sua média poderia ser chamada 'media', e assim sucessivamente. Aqui entram os **dicionários**, também conhecidos em outras linguagens como **tabelas hash**, **hash maps**, entre outros."
   ]
  },
  {
   "cell_type": "markdown",
   "id": "db5a7950",
   "metadata": {},
   "source": [
    "## Dicionários em Python\n",
    "\n",
    "Quando utilizamos um dicionário (o de papel, com definições), não temos o hábito de procurar pela palavra que está em uma determinada posição. Ao invés disso, nós buscamos pela palavra em si, e ao encontrá-la ela contém uma definição.\n",
    "\n",
    "A estrutura **dicionário** em Python é uma coleção de dados. Porém, ela não é indexada. Ao adicionarmos elementos em um dicionário, sempre o fazemos aos pares: todo elemento terá uma **chave** e um **valor**. \n",
    "\n",
    "A chave será uma _string_ que utilizaremos como se fosse o índice. É como se fosse a palavra que buscamos em um dicionário de papel.\n",
    "\n",
    "O valor pode ser qualquer dado: um **int**, um **float**, uma **str**, um **bool**, uma lista, uma tupla, outro dicionário. Ele é como se fosse a definição que encontramos vinculada à palavra que buscamos no dicionário de papel."
   ]
  },
  {
   "cell_type": "markdown",
   "id": "ab1d718a",
   "metadata": {},
   "source": [
    "### Criando um dicionário\n",
    "\n",
    "Separamos chave e valor utilizando dois pontos (**:**), e separamos um par de outro utilizando vírgula. Utilizamos o símbolo chave (**{** e **}**) para representar um dicionário. O exemplo abaixo representa um aluno como descrito no início do capítulo."
   ]
  },
  {
   "cell_type": "code",
   "execution_count": null,
   "id": "a6a10e5c",
   "metadata": {
    "ExecuteTime": {
     "end_time": "2023-07-14T22:32:20.445079Z",
     "start_time": "2023-07-14T22:32:20.440546Z"
    }
   },
   "outputs": [],
   "source": [
    "dicionarioVazio = dict() # Criando um dicionário vazio\n",
    "dicionarioVazio = {} # Criando um dicionário vazio"
   ]
  },
  {
   "cell_type": "code",
   "execution_count": null,
   "id": "ad593bf8",
   "metadata": {
    "ExecuteTime": {
     "end_time": "2023-07-14T22:32:58.002598Z",
     "start_time": "2023-07-14T22:32:57.990055Z"
    }
   },
   "outputs": [],
   "source": [
    "aluno = {\n",
    "    'nome':'Mario',\n",
    "    'notas':[7, 9, 5, 6],\n",
    "    'presencas':0.8\n",
    "}"
   ]
  },
  {
   "cell_type": "markdown",
   "id": "5a87412c",
   "metadata": {},
   "source": [
    "Podemos acessar uma informação de um dicionário utilizando a sua chave da mesma maneira que utilizamos um índice em uma lista:"
   ]
  },
  {
   "cell_type": "code",
   "execution_count": null,
   "id": "9506d05d",
   "metadata": {
    "ExecuteTime": {
     "end_time": "2023-07-14T22:34:27.305634Z",
     "start_time": "2023-07-14T22:34:27.293713Z"
    }
   },
   "outputs": [],
   "source": [
    "print('Aluno:', aluno['nome'])\n",
    "print('Notas:', aluno['notas'])\n",
    "print(aluno['presencas'])"
   ]
  },
  {
   "cell_type": "markdown",
   "id": "ffebaff7",
   "metadata": {},
   "source": [
    "Também é possível criar dicionários através da função ```dict```. Ela pode ser utilizada de diferentes maneiras. Uma delas é passando parâmetros com nomes. Os nomes dos parâmetros se tornarão chaves, e os valores associados serão valores:"
   ]
  },
  {
   "cell_type": "code",
   "execution_count": null,
   "id": "3a2a1b85",
   "metadata": {
    "ExecuteTime": {
     "end_time": "2023-07-14T22:35:09.584604Z",
     "start_time": "2023-07-14T22:35:09.572694Z"
    }
   },
   "outputs": [],
   "source": [
    "notas = dict(Ana = 7, Brenda = 10, Carlos = 8)\n",
    "print(notas)"
   ]
  },
  {
   "cell_type": "markdown",
   "id": "161eb101",
   "metadata": {},
   "source": [
    "Outra possibilidade é utilizar uma coleção (como uma lista ou uma tupla) contendo, internamente, outras coleções com exatamente 2 elementos. O primeiro elemento será chave, o segundo será valor. O exemplo abaixo cria o mesmo dicionário do exemplo anterior:"
   ]
  },
  {
   "cell_type": "code",
   "execution_count": null,
   "id": "8920de64",
   "metadata": {
    "ExecuteTime": {
     "end_time": "2023-07-14T22:36:56.498439Z",
     "start_time": "2023-07-14T22:36:56.492293Z"
    }
   },
   "outputs": [],
   "source": [
    "lista = [['Ana', 7], ['Brenda', 10], ['Carlos', 8]]\n",
    "dicionario = dict(lista)\n",
    "print(dicionario)"
   ]
  },
  {
   "cell_type": "markdown",
   "id": "46f329fa",
   "metadata": {},
   "source": [
    "Caso você tenha suas chaves e valores em coleções separadas, uma maneira fácil de explorar a possibilidade anterior é utilizar um **zip**:"
   ]
  },
  {
   "cell_type": "code",
   "execution_count": null,
   "id": "4775db08",
   "metadata": {
    "ExecuteTime": {
     "end_time": "2023-07-14T22:38:30.376298Z",
     "start_time": "2023-07-14T22:38:30.366260Z"
    }
   },
   "outputs": [],
   "source": [
    "nomes = ['Ana', 'Brenda', 'Carlos']\n",
    "notas = [7, 10, 8]\n",
    "dicionarioNotas = dict(zip(nomes, notas))\n",
    "print(dicionarioNotas)"
   ]
  },
  {
   "cell_type": "markdown",
   "id": "bda6a480",
   "metadata": {},
   "source": [
    "### Adicionando elementos em um dicionário\n",
    "\n",
    "Para adicionar elementos, não precisamos de uma função pronta (como o _append_ das listas). Basta \"acessar\" a nova chave e atribuir um novo valor."
   ]
  },
  {
   "cell_type": "code",
   "execution_count": null,
   "id": "43645525",
   "metadata": {
    "ExecuteTime": {
     "end_time": "2023-07-14T22:41:42.347749Z",
     "start_time": "2023-07-14T22:41:42.333672Z"
    }
   },
   "outputs": [],
   "source": [
    "aluno"
   ]
  },
  {
   "cell_type": "code",
   "execution_count": null,
   "id": "5daf0281",
   "metadata": {
    "ExecuteTime": {
     "end_time": "2023-07-14T22:40:09.027326Z",
     "start_time": "2023-07-14T22:40:09.021786Z"
    }
   },
   "outputs": [],
   "source": [
    "aluno['media'] = sum(aluno['notas'])/len(aluno['notas'])\n",
    "\n",
    "aluno['aprovado'] = aluno['media'] >= 6.0 and aluno['presencas'] >= 0.7\n",
    "\n",
    "print(aluno)"
   ]
  },
  {
   "cell_type": "markdown",
   "id": "3cbc4428",
   "metadata": {},
   "source": [
    "### Percorrendo um dicionário\n",
    "\n",
    "Dicionários podem ser percorridos com um _for_. Ao fazer isso, as **chaves** serão percorridas, não os valores. Porém, a partir da chave obtém-se o valor:"
   ]
  },
  {
   "cell_type": "code",
   "execution_count": null,
   "id": "cecc1182",
   "metadata": {
    "ExecuteTime": {
     "end_time": "2023-07-14T22:42:42.373769Z",
     "start_time": "2023-07-14T22:42:42.365736Z"
    }
   },
   "outputs": [],
   "source": [
    "for chave in aluno:\n",
    "    print(chave, '--->', aluno[chave])"
   ]
  },
  {
   "cell_type": "markdown",
   "id": "5a6dcc9b",
   "metadata": {},
   "source": [
    "### Testando a existência de uma chave\n",
    "\n",
    "Antes de criar uma chave nova em um dicionário, convém testar se ela já existe, para evitar sobrescrever um valor. Podemos fazer isso com o operador _in_ (sim, o mesmo que usamos no _for_!). Neste contexto, ele retornará **True** se a chave existir e **False** caso contrário.\n",
    "\n",
    "Vamos supor que, no exemplo abaixo, o valor de 'cursos' seja uma lista com todos os cursos que o usuário está fazendo. "
   ]
  },
  {
   "cell_type": "code",
   "execution_count": null,
   "id": "916be42a",
   "metadata": {
    "ExecuteTime": {
     "end_time": "2023-07-14T22:54:50.716966Z",
     "start_time": "2023-07-14T22:54:50.712957Z"
    }
   },
   "outputs": [],
   "source": [
    "dicionario = {'escola':\"Let's Code\", 'unidade':'Faria Lima'}\n",
    "\n",
    "# Neste caso, 'cursos' ainda não existe.\n",
    "# Cairemos no else e será criada uma lista com a string 'Python'.\n",
    "\n",
    "if 'cursos' in dicionario:\n",
    "    dicionario['cursos'].append('Python')\n",
    "else:\n",
    "    dicionario['cursos'] = ['Python']\n",
    "\n",
    "# Agora a chave já existe. \n",
    "# Portanto, será adicionado 'Data Science' à lista. \n",
    "if 'cursos' in dicionario:\n",
    "    dicionario['cursos'].append('Data Science')\n",
    "else:\n",
    "    dicionario['cursos'] = ['Data Science']\n",
    "    \n",
    "print(dicionario)"
   ]
  },
  {
   "cell_type": "markdown",
   "id": "dcac90b1",
   "metadata": {},
   "source": [
    "## Métodos de dicionários\n",
    "\n",
    "Você deve ter notado que algumas coisas que fazíamos em listas utilizando métodos (funções), em dicionários fazemos de maneira mais direta. Mas dicionários também possuem seus próprios métodos. Iremos estudar alguns bastante utilizados, mas você pode acessar [essa página](https://www.w3schools.com/python/python_ref_dictionary.asp) caso queira conhecer mais.\n",
    "\n",
    "### Acessando valores de maneira segura\n",
    "\n",
    "Quando tentamos acessar uma chave que não existe em um dicionário ocorre um erro. Vimos que uma forma de driblar isso é testar a existência dela utilizando o **in**. Alguns métodos nos ajudam a \"economizar\" este teste.\n",
    "\n",
    "#### get\n",
    "\n",
    "O método `get` permite acessar uma chave sem a ocorrência de erro. Caso uma chave não exista, ele irá retornar `None`, a constante nula denotando a ausência de valor."
   ]
  },
  {
   "cell_type": "code",
   "execution_count": null,
   "id": "828ea9a4",
   "metadata": {
    "ExecuteTime": {
     "end_time": "2023-07-14T23:00:35.377080Z",
     "start_time": "2023-07-14T23:00:35.371589Z"
    }
   },
   "outputs": [],
   "source": [
    "nomes = ['Ana', 'Brenda', 'Carlos']\n",
    "notas = [7, 10, 8]\n",
    "dicionario_notas = dict(zip(nomes, notas))\n",
    "\n",
    "notaDaniel = dicionarioNotas.get('Daniel') # valor de nota_daniel: None\n",
    "# nota_eliza = dicionario_notas['Eliza'] # erro de chave inexistente"
   ]
  },
  {
   "cell_type": "code",
   "execution_count": null,
   "id": "1a4795c1",
   "metadata": {
    "ExecuteTime": {
     "end_time": "2023-07-14T23:00:37.049296Z",
     "start_time": "2023-07-14T23:00:37.041529Z"
    }
   },
   "outputs": [],
   "source": [
    "print(notaDaniel)"
   ]
  },
  {
   "cell_type": "markdown",
   "id": "630660cc",
   "metadata": {},
   "source": [
    "O `get` aceita como parâmetro opcional um valor padrão que será retornado ao invés de `None` caso a chave não exista:"
   ]
  },
  {
   "cell_type": "code",
   "execution_count": null,
   "id": "475cab61",
   "metadata": {
    "ExecuteTime": {
     "end_time": "2023-07-14T23:01:35.863108Z",
     "start_time": "2023-07-14T23:01:35.851548Z"
    }
   },
   "outputs": [],
   "source": [
    "notaBrenda = dicionarioNotas.get('Brenda', 0)\n",
    "notaDaniel = dicionarioNotas.get('Daniel', 0)\n",
    "\n",
    "print(notaDaniel)\n",
    "print(notaBrenda)"
   ]
  },
  {
   "cell_type": "markdown",
   "id": "dd7395f9",
   "metadata": {
    "ExecuteTime": {
     "end_time": "2022-10-04T17:45:18.518042Z",
     "start_time": "2022-10-04T17:45:18.508041Z"
    }
   },
   "source": [
    "#### setdefault\n",
    "\n",
    "Um caso específico que vimos foi quando desejamos inserir uma chave caso ela não exista ou acessar seu valor caso ela exista. O método `setdefault` faz exatamente isso. Passamos uma chave e um valor. Se a chave for encontrada, seu valor é retornado. Caso contrário, ela é inserida com o valor passado. Vamos refazer o exemplo do **in** utilizando este método:"
   ]
  },
  {
   "cell_type": "code",
   "execution_count": null,
   "id": "8473b0d9",
   "metadata": {
    "ExecuteTime": {
     "end_time": "2023-07-14T23:05:59.131063Z",
     "start_time": "2023-07-14T23:05:59.124527Z"
    }
   },
   "outputs": [],
   "source": [
    "dicionario = {'escola':\"Let's Code\", 'unidade':'Faria Lima'}\n",
    "cursos = dicionario.setdefault('cursos', ['Python'])\n",
    "print(cursos)\n",
    "cursos.append('Data Science')\n",
    "print(dicionario['cursos'])"
   ]
  },
  {
   "cell_type": "code",
   "execution_count": null,
   "id": "6f56fe47",
   "metadata": {},
   "outputs": [],
   "source": [
    "dicionario"
   ]
  },
  {
   "cell_type": "markdown",
   "id": "209c7ded",
   "metadata": {},
   "source": [
    "### Copiando dicionários\n",
    "\n",
    "#### Criando um novo dicionário\n",
    "\n",
    "Quando você já possui um dicionário e gostaria de copiar todo o seu conteúdo para outro dicionário, assim como no caso da lista, você não deve fazer uma atribuição direta, pois não houve cópia, e sim duas variáveis referenciando o mesmo dicionário na memória:"
   ]
  },
  {
   "cell_type": "code",
   "execution_count": null,
   "id": "9b26d5d9",
   "metadata": {
    "ExecuteTime": {
     "end_time": "2023-07-14T23:06:59.162086Z",
     "start_time": "2023-07-14T23:06:59.154520Z"
    }
   },
   "outputs": [],
   "source": [
    "nomes = ['Ana', 'Brenda', 'Carlos']\n",
    "notas = [7, 10, 8]\n",
    "dicionarioNotas = dict(zip(nomes, notas))\n",
    "dicionarioNotas_copia = dicionarioNotas\n",
    "\n",
    "dicionarioNotasCopia['Ana'] = 0\n",
    "print(dicionarioNotas['Ana'])"
   ]
  },
  {
   "cell_type": "markdown",
   "id": "ea14292d",
   "metadata": {},
   "source": [
    "Para copiar de fato o dicionário você pode utilizar o método `copy`:"
   ]
  },
  {
   "cell_type": "code",
   "execution_count": null,
   "id": "291c4bdc",
   "metadata": {
    "ExecuteTime": {
     "end_time": "2023-07-14T23:10:06.164856Z",
     "start_time": "2023-07-14T23:10:06.156852Z"
    }
   },
   "outputs": [],
   "source": [
    "nomes = ['Ana', 'Brenda', 'Carlos']\n",
    "notas = [7, 10, 8]\n",
    "dicionarioNotas = dict(zip(nomes, notas))\n",
    "dicionarioNotasCopia = dicionarioNotas.copy()\n",
    "\n",
    "dicionarioNotasCopia['Ana'] = 0\n",
    "print(dicionarioNotas['Ana'])\n",
    "print(dicionarioNotasCopia['Ana'])"
   ]
  },
  {
   "cell_type": "markdown",
   "id": "b2289cb8",
   "metadata": {},
   "source": [
    "#### Copiar um dicionário para dicionário já existente\n",
    "\n",
    "Imagine que você já possui dois dicionários distintos e gostaria de uni-los, copiando os pares chave-valor de um deles para o outro. Você pode fazer isso utilizando o método `update`."
   ]
  },
  {
   "cell_type": "code",
   "execution_count": null,
   "id": "7cf0c7ae",
   "metadata": {
    "ExecuteTime": {
     "end_time": "2023-07-14T23:13:02.679685Z",
     "start_time": "2023-07-14T23:13:02.672650Z"
    }
   },
   "outputs": [],
   "source": [
    "escola = {'escola':\"Let's Code\", 'unidade':'Faria Lima'}\n",
    "maisEscola = {'trilhas':['Data Science', 'Web Full Stack'], 'formato':'online'}\n",
    "\n",
    "escola.update(maisEscola)\n",
    "\n",
    "print(escola)"
   ]
  },
  {
   "cell_type": "markdown",
   "id": "36fcca06",
   "metadata": {},
   "source": [
    "### Removendo elementos de um dicionário\n",
    "\n",
    "Você pode remover um elemento de um dicionário através do método `pop`. Você deve passar a chave a ser removida."
   ]
  },
  {
   "cell_type": "code",
   "execution_count": null,
   "id": "44ac2776",
   "metadata": {
    "ExecuteTime": {
     "end_time": "2023-07-14T23:40:23.783621Z",
     "start_time": "2023-07-14T23:40:23.769083Z"
    }
   },
   "outputs": [],
   "source": [
    "aluno = {'nome':'Mario', 'notas':[7, 9, 5, 6], 'presencas':0.8}\n",
    "a = aluno.pop('presencas')\n",
    "print(aluno)"
   ]
  },
  {
   "cell_type": "code",
   "execution_count": null,
   "id": "6ff80ee9",
   "metadata": {
    "ExecuteTime": {
     "end_time": "2023-07-14T23:40:43.196997Z",
     "start_time": "2023-07-14T23:40:43.186264Z"
    }
   },
   "outputs": [],
   "source": [
    "a"
   ]
  },
  {
   "cell_type": "markdown",
   "id": "31617b63",
   "metadata": {},
   "source": [
    "### Separando chaves e valores\n",
    "\n",
    "O Python possui funções para obter, separadamente, todas as chaves ou todos os valores de um dicionário. Elas são, respectivamente, _keys_ e _values_. Podemos transformar o retorno dessa função em uma lista ou tupla."
   ]
  },
  {
   "cell_type": "code",
   "execution_count": null,
   "id": "26939a21",
   "metadata": {
    "ExecuteTime": {
     "end_time": "2023-07-14T23:41:58.766039Z",
     "start_time": "2023-07-14T23:41:58.747893Z"
    }
   },
   "outputs": [],
   "source": [
    "aluno = {'nome':'Mario', 'notas':[7, 9, 5, 6], 'presencas':0.8}\n",
    "\n",
    "chaves = list(aluno.keys())\n",
    "valores = list(aluno.values())\n",
    "\n",
    "print('Chaves: ', chaves)\n",
    "print('Valores:', valores)"
   ]
  },
  {
   "cell_type": "markdown",
   "id": "e05f5cbe",
   "metadata": {},
   "source": [
    "Combinando essas funções com o `zip` estudado em um capítulo anterior, podemos iterar chaves e valores simultaneamente de maneira bastante *pythonica*:\n",
    "\n",
    "```py\n",
    "for chave, valor in zip(aluno.keys(), aluno.values()):\n",
    "    ...\n",
    "```"
   ]
  },
  {
   "cell_type": "code",
   "execution_count": null,
   "id": "6e4bf012",
   "metadata": {
    "ExecuteTime": {
     "end_time": "2023-07-14T23:46:19.620042Z",
     "start_time": "2023-07-14T23:46:19.607941Z"
    }
   },
   "outputs": [],
   "source": [
    "for chave, valor in zip(aluno.keys(), aluno.values()):\n",
    "    print('Chave: ', chave)\n",
    "    print('Valor:', valor, end='\\n\\n')"
   ]
  },
  {
   "cell_type": "markdown",
   "id": "6974c4e8",
   "metadata": {},
   "source": [
    "Note que a construção acima também pode ser substituída por um método. O método `items` retorna uma coleção de tuplas, onde cada tupla contém um par chave-valor do dicionário:"
   ]
  },
  {
   "cell_type": "code",
   "execution_count": null,
   "id": "9b4b08ff",
   "metadata": {
    "ExecuteTime": {
     "end_time": "2023-07-14T23:48:51.340086Z",
     "start_time": "2023-07-14T23:48:51.326983Z"
    }
   },
   "outputs": [],
   "source": [
    "print(aluno.items())"
   ]
  },
  {
   "cell_type": "markdown",
   "id": "db316b83",
   "metadata": {},
   "source": [
    "Portanto, podemos fazer:\n",
    "\n",
    "```py\n",
    "for chave, valor in aluno.items():\n",
    "    ...\n",
    "```"
   ]
  },
  {
   "cell_type": "code",
   "execution_count": null,
   "id": "de6c75fe",
   "metadata": {
    "ExecuteTime": {
     "end_time": "2023-07-14T23:51:09.745761Z",
     "start_time": "2023-07-14T23:51:09.725141Z"
    }
   },
   "outputs": [],
   "source": [
    "aluno = {'nome':'Mario', 'notas':[7, 9, 5, 6], 'presencas':0.8}\n",
    "\n",
    "for i in aluno.items():\n",
    "    print('Chave: ', i[0])\n",
    "    print('Valor:', i[1], end='\\n\\n')"
   ]
  },
  {
   "cell_type": "markdown",
   "id": "8de8a52d",
   "metadata": {},
   "source": [
    "> Após o capítulo sobre tuplas, onde foram abordadas questões de desempenho, você pode estar se perguntando quão eficiente ou ineficiente é um dicionário. Surpreendentemente, ele é uma estrutura bastante rápida para consulta. Isso se deve à forma como ele é implementado.\n",
    "> \n",
    "> O motivo para um de seus nomes ser *tabela hash* é que ele utiliza o conceito de *hash*. De maneira simplificada, *hash* é um valor numérico obtido a partir de um dado quando realizamos uma sequência de operações sobre esse dado. Essas operações devem ser tais que se o dado mudar, o valor numérico também deve mudar. Quando dois dados diferentes podem gerar o mesmo número, chamamos isso de *colisão de hash*, e isso é bastante indesejável.\n",
    "> \n",
    "> Quando o dicionário é criado, uma faixa tamanho razoável de memória é alocada para ele. Quando passamos uma chave, o computador calcula o *hash* dessa chave e utiliza o *hash* como índice para acessar o dado na memória!\n",
    "> .\n",
    "> Inclusive, quando citamos acima que uma chave deve ser uma string, isso foi uma simplificação. Qualquer tipo de dado imutável (como uma tupla ou uma constante numérica) pode servir como chave. Objetos personalizados também podem, desde que eles sejam *hashable*.\n",
    "> .\n",
    "> Você pode consultar um tutorial mais básico sobre dicionários [aqui](https://realpython.com/python-dicts/), focado em diferentes funções úteis. Já [aqui](https://realpython.com/python-hash-table/) temos um tutorial mais avançado, que ensina você a criar uma estrutura semelhante a um dicionário do zero, explicando os conceitos envolvidos em cada passo."
   ]
  },
  {
   "cell_type": "markdown",
   "id": "69ed6e4b",
   "metadata": {},
   "source": [
    "1. Crie um dicionário chamado \"alunos\" que mapeie os nomes dos alunos aos seus respectivos números de matrícula. Adicione pelo menos três alunos ao dicionário e escreva depois solicite ao usuário um nome de aluno e imprima o número de matrícula correspondente.\n",
    "\n",
    "2. Crie um dicionário chamado \"estoque\" que mapeie o nome dos produtos aos seus respectivos preços. Adicione alguns produtos ao estoque e depois calcule e imprima o valor <b>total</b> do estoque.\n",
    "\n",
    "3. Crie um dicionário chamado \"traducoes\" que mapeie algumas palavras em inglês aos seus respectivos significados em português. Em seguida, solicite ao usuário uma palavra em inglês e imprima o significado correspondente em português. Se a palavra não estiver no dicionário, imprima uma mensagem informando que a palavra não foi encontrada.\n",
    "\n",
    "4. Você está desenvolvendo um sistema de gerenciamento de estoque para uma loja. Crie um dicionário chamado \"estoque\" que mapeie o nome de um produto a um dicionário contendo o preço e a quantidade em estoque. Adicione alguns produtos ao dicionário e incremente o programa para permitir ao usuário fazer as seguintes operações:\n",
    "\n",
    "* Adicionar um produto ao estoque, fornecendo o nome, o preço e a quantidade.\n",
    "* Atualizar o preço de um produto existente no estoque.\n",
    "* Vender um determinado número de unidades de um produto e atualizar a quantidade em estoque.\n",
    "* Imprimir a lista completa de produtos e suas informações (nome, preço e quantidade).\n",
    "\n",
    "5. Você está construindo um sistema de votação para uma eleição. Crie um dicionário chamado \"eleicao\" que mapeie os nomes dos candidatos aos seus respectivos números de votos. Inicialmente, todos os candidatos têm zero votos e as seguintes operações devem poder ser executadas:\n",
    "\n",
    "* Registrar um voto para um candidato específico.\n",
    "* Verificar o número total de votos de um candidato.\n",
    "* Verificar o número total de votos contabilizados.\n",
    "* Imprimir a lista de candidatos e seus números de votos."
   ]
  },
  {
   "cell_type": "code",
   "execution_count": 2,
   "id": "ce99c172",
   "metadata": {
    "ExecuteTime": {
     "end_time": "2023-11-06T22:21:51.382564Z",
     "start_time": "2023-11-06T22:21:51.376562Z"
    }
   },
   "outputs": [
    {
     "name": "stdout",
     "output_type": "stream",
     "text": [
      "{'João': '123', 'Maria': '234', 'José': '573'}\n",
      "234\n"
     ]
    }
   ],
   "source": [
    "# Exercício 1\n",
    "alunos = ['João', 'Maria', 'José']\n",
    "matricula = ['123', '234', '573']\n",
    "\n",
    "dicionarioAlunos = dict(zip(alunos, matricula))\n",
    "\n",
    "print(dicionarioAlunos)\n",
    "print(dicionarioAlunos['Maria'])"
   ]
  },
  {
   "cell_type": "code",
   "execution_count": 3,
   "id": "6cd5c9ba",
   "metadata": {
    "ExecuteTime": {
     "end_time": "2023-11-06T22:23:04.590625Z",
     "start_time": "2023-11-06T22:23:04.584609Z"
    }
   },
   "outputs": [
    {
     "name": "stdout",
     "output_type": "stream",
     "text": [
      "{'Chave de fenda': (2, 37), 'Alicate': (7, 148), 'Chave philips': (3, 21), 'Martelo': (1, 94)}\n",
      "[74, 1036, 63, 94]\n",
      "1267\n"
     ]
    }
   ],
   "source": [
    "# Exercício 2\n",
    "produtos = ['Chave de fenda', 'Alicate', 'Chave philips', 'Martelo']\n",
    "quantidade = [2, 7, 3, 1]\n",
    "preco = [37, 148, 21, 94]\n",
    "\n",
    "estoque = dict(zip(produtos, zip(quantidade, preco)))\n",
    "\n",
    "valorEstoque = []\n",
    "for i in estoque.values():\n",
    "    valorEstoque.append(i[0]*i[1])\n",
    "\n",
    "print(estoque)\n",
    "print(valorEstoque)\n",
    "print(sum(valorEstoque))"
   ]
  },
  {
   "cell_type": "code",
   "execution_count": 6,
   "id": "962039f9",
   "metadata": {
    "ExecuteTime": {
     "end_time": "2023-11-06T22:25:47.118627Z",
     "start_time": "2023-11-06T22:25:45.832503Z"
    }
   },
   "outputs": [
    {
     "name": "stdout",
     "output_type": "stream",
     "text": [
      "Insira uma palavra em inglês: icrbwuevy\n",
      "Palavra não encontrada no tradutor!\n",
      "\n",
      "\n",
      "{'clothes': 'roupa', 'hair': 'cabelo', 'items': 'itens', 'keys': 'chaves', 'values': 'valores'}\n"
     ]
    }
   ],
   "source": [
    "# Exercício 3\n",
    "portugues = ['roupa', 'cabelo', 'itens', 'chaves', 'valores']\n",
    "ingles = ['clothes', 'hair', 'items', 'keys', 'values']\n",
    "\n",
    "traducoes = dict(zip(ingles, portugues))\n",
    "\n",
    "palavra = input('Insira uma palavra em inglês: ')\n",
    "\n",
    "if traducoes.get(palavra, 0):\n",
    "    print(traducoes[palavra], end='\\n\\n')\n",
    "else:\n",
    "    print('Palavra não encontrada no tradutor!\\n\\n')\n",
    "\n",
    "print(traducoes)"
   ]
  },
  {
   "cell_type": "code",
   "execution_count": 7,
   "id": "a341d9e7",
   "metadata": {
    "ExecuteTime": {
     "end_time": "2023-11-06T22:26:12.608693Z",
     "start_time": "2023-11-06T22:25:59.735858Z"
    }
   },
   "outputs": [
    {
     "name": "stdout",
     "output_type": "stream",
     "text": [
      "Insira a operacao: 1\n",
      "{'Chave de fenda': (2, 37), 'Alicate': (7, 148), 'Chave philips': (3, 21), 'Martelo': (1, 94), 'Chave inglesa': (3, 99)}\n"
     ]
    }
   ],
   "source": [
    "# Exercício 4\n",
    "produtos = ['Chave de fenda', 'Alicate', 'Chave philips', 'Martelo']\n",
    "quantidade = [2, 7, 3, 1]\n",
    "preco = [37, 148, 21, 94]\n",
    "\n",
    "estoque = dict(list(zip(produtos, list(zip(quantidade, preco)))))\n",
    "\n",
    "operacao = input('Insira a operacao: ')\n",
    "\n",
    "if operacao == '1':\n",
    "    produto = ['Chave inglesa']\n",
    "    quantidade = [3]\n",
    "    preco = [99]\n",
    "    addEstoque = dict(zip(produto, zip(quantidade, preco)))\n",
    "    \n",
    "    estoque.update(addEstoque)\n",
    "    print(estoque)\n",
    "\n",
    "elif operacao == '2':\n",
    "    produto = 'Alicate'\n",
    "    aux = list(estoque[produto])\n",
    "    aux[1] = 45\n",
    "    estoque[produto] = aux\n",
    "    \n",
    "    print(estoque)\n",
    "\n",
    "elif operacao == '3':\n",
    "    produto = 'Chave de fenda'\n",
    "    comprar = 2\n",
    "    aux = list(estoque[produto])\n",
    "    aux[0] -= comprar\n",
    "    estoque[produto] = aux\n",
    "    \n",
    "    print(estoque)\n",
    "\n",
    "elif operacao == '4':\n",
    "    for chave, valor in estoque.items():\n",
    "        print(f'Item: {chave}\\nQuantidade: {valor[0]}\\nValor: {valor[1]}\\n\\n')"
   ]
  },
  {
   "cell_type": "code",
   "execution_count": 14,
   "id": "93dce5d0",
   "metadata": {
    "ExecuteTime": {
     "end_time": "2023-11-06T22:29:19.850341Z",
     "start_time": "2023-11-06T22:29:18.930614Z"
    }
   },
   "outputs": [
    {
     "name": "stdout",
     "output_type": "stream",
     "text": [
      "Qual operacao fazer: 4\n",
      "Candidato: Marcos - Votos: 7\n",
      "Candidato: Maria - Votos: 11\n",
      "Candidato: José - Votos: 3\n",
      "Candidato: Abilio - Votos: 0\n"
     ]
    }
   ],
   "source": [
    "# Exercício 5\n",
    "eleicao = {\n",
    "    'Marcos': 7,\n",
    "    'Maria': 11,\n",
    "    'José': 3,\n",
    "    'Abilio': 0\n",
    "}\n",
    "\n",
    "operacao = input('Qual operacao fazer: ')\n",
    "\n",
    "if operacao == '1':\n",
    "    candidato = input('Qual candidato votar: ')\n",
    "    eleicao[candidato] += 1\n",
    "    \n",
    "elif operacao == '2':\n",
    "    candidato = input('Qual candidato verificar o número de votos: ')\n",
    "    print(f'Cadidato: {candidato} - Votos: {eleicao[candidato]}')\n",
    "    \n",
    "elif operacao == '3':\n",
    "    votos = 0\n",
    "    for i in eleicao.items():\n",
    "        votos += i[1]\n",
    "        \n",
    "    print(f'Total de votos: {votos}')\n",
    "        \n",
    "elif operacao == '4':\n",
    "    for i in eleicao.items():\n",
    "        print(f'Candidato: {i[0]} - Votos: {i[1]}')"
   ]
  }
 ],
 "metadata": {
  "kernelspec": {
   "display_name": "Python 3 (ipykernel)",
   "language": "python",
   "name": "python3"
  },
  "language_info": {
   "codemirror_mode": {
    "name": "ipython",
    "version": 3
   },
   "file_extension": ".py",
   "mimetype": "text/x-python",
   "name": "python",
   "nbconvert_exporter": "python",
   "pygments_lexer": "ipython3",
   "version": "3.10.2"
  },
  "latex_envs": {
   "LaTeX_envs_menu_present": true,
   "autoclose": false,
   "autocomplete": true,
   "bibliofile": "biblio.bib",
   "cite_by": "apalike",
   "current_citInitial": 1,
   "eqLabelWithNumbers": true,
   "eqNumInitial": 1,
   "hotkeys": {
    "equation": "Ctrl-E",
    "itemize": "Ctrl-I"
   },
   "labels_anchors": false,
   "latex_user_defs": false,
   "report_style_numbering": false,
   "user_envs_cfg": false
  },
  "toc": {
   "base_numbering": 1,
   "nav_menu": {},
   "number_sections": true,
   "sideBar": true,
   "skip_h1_title": false,
   "title_cell": "Table of Contents",
   "title_sidebar": "Contents",
   "toc_cell": false,
   "toc_position": {},
   "toc_section_display": true,
   "toc_window_display": false
  },
  "varInspector": {
   "cols": {
    "lenName": 16,
    "lenType": 16,
    "lenVar": 40
   },
   "kernels_config": {
    "python": {
     "delete_cmd_postfix": "",
     "delete_cmd_prefix": "del ",
     "library": "var_list.py",
     "varRefreshCmd": "print(var_dic_list())"
    },
    "r": {
     "delete_cmd_postfix": ") ",
     "delete_cmd_prefix": "rm(",
     "library": "var_list.r",
     "varRefreshCmd": "cat(var_dic_list()) "
    }
   },
   "types_to_exclude": [
    "module",
    "function",
    "builtin_function_or_method",
    "instance",
    "_Feature"
   ],
   "window_display": false
  }
 },
 "nbformat": 4,
 "nbformat_minor": 5
}
