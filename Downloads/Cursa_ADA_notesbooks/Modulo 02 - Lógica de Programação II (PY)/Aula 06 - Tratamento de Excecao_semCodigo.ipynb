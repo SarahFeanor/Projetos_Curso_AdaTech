{
 "cells": [
  {
   "cell_type": "markdown",
   "id": "2d8acf3b",
   "metadata": {},
   "source": [
    "# Tratamento de Exceção\n",
    "\n",
    "Você já deve ter notado que algumas operações podem dar errado em certas circunstâncias, e esses erros provocam o tratamento do nosso programa. \n",
    "\n",
    "Por exemplo, quando solicitamos que o usuário digite um número inteiro e ele digita qualquer outra coisa. O erro ocorre especificamente na conversão da entrada para `int`. Veja o exemplo abaixo:"
   ]
  },
  {
   "cell_type": "code",
   "execution_count": 1,
   "id": "689a9aa2",
   "metadata": {
    "ExecuteTime": {
     "end_time": "2023-11-13T22:19:08.786941Z",
     "start_time": "2023-11-13T22:19:07.847830Z"
    }
   },
   "outputs": [
    {
     "ename": "ValueError",
     "evalue": "invalid literal for int() with base 10: 'olá'",
     "output_type": "error",
     "traceback": [
      "\u001b[1;31m---------------------------------------------------------------------------\u001b[0m",
      "\u001b[1;31mValueError\u001b[0m                                Traceback (most recent call last)",
      "Input \u001b[1;32mIn [1]\u001b[0m, in \u001b[0;36m<cell line: 2>\u001b[1;34m()\u001b[0m\n\u001b[0;32m      1\u001b[0m entrada \u001b[38;5;241m=\u001b[39m \u001b[38;5;124m'\u001b[39m\u001b[38;5;124molá\u001b[39m\u001b[38;5;124m'\u001b[39m\n\u001b[1;32m----> 2\u001b[0m inteiro \u001b[38;5;241m=\u001b[39m \u001b[38;5;28;43mint\u001b[39;49m\u001b[43m(\u001b[49m\u001b[43mentrada\u001b[49m\u001b[43m)\u001b[49m\n",
      "\u001b[1;31mValueError\u001b[0m: invalid literal for int() with base 10: 'olá'"
     ]
    }
   ],
   "source": [
    "entrada = 'olá'\n",
    "inteiro = int(entrada)"
   ]
  },
  {
   "cell_type": "markdown",
   "id": "81a41ff5",
   "metadata": {},
   "source": [
    "Note que o erro possui um nome, `ValueError`, e uma mensagem explicando o que ocorreu.\n",
    "\n",
    "Vejamos outro exemplo bastante famoso: a divisão por zero."
   ]
  },
  {
   "cell_type": "code",
   "execution_count": 2,
   "id": "f5880080",
   "metadata": {
    "ExecuteTime": {
     "end_time": "2023-11-13T22:22:10.460165Z",
     "start_time": "2023-11-13T22:22:10.430284Z"
    }
   },
   "outputs": [
    {
     "ename": "ZeroDivisionError",
     "evalue": "division by zero",
     "output_type": "error",
     "traceback": [
      "\u001b[1;31m---------------------------------------------------------------------------\u001b[0m",
      "\u001b[1;31mZeroDivisionError\u001b[0m                         Traceback (most recent call last)",
      "Input \u001b[1;32mIn [2]\u001b[0m, in \u001b[0;36m<cell line: 1>\u001b[1;34m()\u001b[0m\n\u001b[1;32m----> 1\u001b[0m x \u001b[38;5;241m=\u001b[39m \u001b[38;5;241;43m1\u001b[39;49m\u001b[38;5;241;43m/\u001b[39;49m\u001b[38;5;241;43m0\u001b[39;49m\n",
      "\u001b[1;31mZeroDivisionError\u001b[0m: division by zero"
     ]
    }
   ],
   "source": [
    "x = 1/0"
   ]
  },
  {
   "cell_type": "markdown",
   "id": "f5b41575",
   "metadata": {},
   "source": [
    "Observe a mesma estrutura do erro anterior: temos um nome (`ZeroDivisionError`) e uma mensagem explicando o que ocorreu.\n",
    "\n",
    "Esses erros, que não são erros de lógica nem de sintaxe, são o que chamamos de **exceções**. São pequenos problemas que o programa pode encontrar durante sua execução, como não encontrar um arquivo ou uma função receber um valor de tipo inesperado.\n",
    "\n",
    "Vamos começar aprendendo como lidar com códigos que podem provocar erros, evitando o travamento do programa, e em seguida iremos aprender a criar as nossas próprias exceções para alertar outros programadores sobre problemas que possam ter ocorrido em nossas classes e funções.\n",
    "\n",
    "> A [documentação oficial](https://docs.python.org/pt-br/3/library/exceptions.html) do Python traz uma lista completa de exceções que já vem prontas e a relação de hierarquia entre elas."
   ]
  },
  {
   "cell_type": "code",
   "execution_count": 4,
   "id": "0a1d3222",
   "metadata": {
    "ExecuteTime": {
     "end_time": "2023-11-13T22:28:04.682554Z",
     "start_time": "2023-11-13T22:28:04.641205Z"
    }
   },
   "outputs": [
    {
     "data": {
      "text/html": [
       "<div>\n",
       "<style scoped>\n",
       "    .dataframe tbody tr th:only-of-type {\n",
       "        vertical-align: middle;\n",
       "    }\n",
       "\n",
       "    .dataframe tbody tr th {\n",
       "        vertical-align: top;\n",
       "    }\n",
       "\n",
       "    .dataframe thead th {\n",
       "        text-align: right;\n",
       "    }\n",
       "</style>\n",
       "<table border=\"1\" class=\"dataframe\">\n",
       "  <thead>\n",
       "    <tr style=\"text-align: right;\">\n",
       "      <th></th>\n",
       "      <th>1</th>\n",
       "      <th>2</th>\n",
       "      <th>3</th>\n",
       "      <th>4</th>\n",
       "      <th>5</th>\n",
       "    </tr>\n",
       "  </thead>\n",
       "  <tbody>\n",
       "    <tr>\n",
       "      <th>0</th>\n",
       "      <td>1</td>\n",
       "      <td>2</td>\n",
       "      <td>3</td>\n",
       "      <td>4</td>\n",
       "      <td>5</td>\n",
       "    </tr>\n",
       "    <tr>\n",
       "      <th>1</th>\n",
       "      <td>11</td>\n",
       "      <td>12</td>\n",
       "      <td>13</td>\n",
       "      <td>14</td>\n",
       "      <td>15</td>\n",
       "    </tr>\n",
       "    <tr>\n",
       "      <th>2</th>\n",
       "      <td>21</td>\n",
       "      <td>22</td>\n",
       "      <td>23</td>\n",
       "      <td>24</td>\n",
       "      <td>25</td>\n",
       "    </tr>\n",
       "  </tbody>\n",
       "</table>\n",
       "</div>"
      ],
      "text/plain": [
       "    1   2   3   4   5\n",
       "0   1   2   3   4   5\n",
       "1  11  12  13  14  15\n",
       "2  21  22  23  24  25"
      ]
     },
     "execution_count": 4,
     "metadata": {},
     "output_type": "execute_result"
    }
   ],
   "source": [
    "import pandas as pd\n",
    "\n",
    "a = pd.DataFrame(columns=['1', '2', '3', '4', '5'], data=[[1, 2, 3, 4, 5], [11, 12, 13, 14, 15], [21, 22, 23, 24, 25]])\n",
    "a"
   ]
  },
  {
   "cell_type": "code",
   "execution_count": 26,
   "id": "5e3104b4",
   "metadata": {
    "ExecuteTime": {
     "end_time": "2023-11-13T22:40:02.652143Z",
     "start_time": "2023-11-13T22:40:02.641030Z"
    }
   },
   "outputs": [
    {
     "name": "stdout",
     "output_type": "stream",
     "text": [
      "Deu pau no nome!\n"
     ]
    }
   ],
   "source": [
    "try:\n",
    "    a.loc[:,'7'].columns\n",
    "except KeyError:\n",
    "    print('Deu pau no nome!')\n",
    "except:\n",
    "    print('Deu algum pau!')"
   ]
  },
  {
   "cell_type": "markdown",
   "id": "362dfb64",
   "metadata": {},
   "source": [
    "## Tratando uma exceção\n",
    "\n",
    "### try/except\n",
    "Tratar uma exceção significa que quando surgir um dos erros mencionados, nós iremos assumir responsabilidade sobre ele e iremos providenciar algum código alternativo. Dessa maneira, o Python não irá mais travar o nosso programa, e sim desviar seu fluxo para o código fornecido.\n",
    "\n",
    "O bloco mais básico para lidarmos com exceção é o `try`/`except`.\n",
    "\n",
    "Dentro do `try` vamos colocar o pedaço de código com potencial para dar erro. Estamos pedindo que o Python **tente** executar aquele código, cientes de que pode não dar certo.\n",
    "\n",
    "Dentro do `except`, colocamos o código que deverá ser executado **somente** se algo de errado ocorrer no `try`. Caso ocorra exceção em alguma linha do `try`, a execução irá **imediatamente** para o `except`, ignorando o restante do código dentro do `try`. Vejamos um exemplo:"
   ]
  },
  {
   "cell_type": "code",
   "execution_count": 35,
   "id": "4052bb69",
   "metadata": {
    "ExecuteTime": {
     "end_time": "2023-11-13T22:45:35.700774Z",
     "start_time": "2023-11-13T22:45:35.695232Z"
    }
   },
   "outputs": [
    {
     "name": "stdout",
     "output_type": "stream",
     "text": [
      "Deu certo!\n",
      "1/3 = 0.3333333333333333\n",
      "\n",
      "Deu certo!\n",
      "1/2 = 0.5\n",
      "\n",
      "Deu certo!\n",
      "1/1 = 1.0\n",
      "\n",
      "1/0 = infinito\n",
      "\n"
     ]
    }
   ],
   "source": [
    "numerador = 1\n",
    "\n",
    "for denominador in range(3, -1, -1):\n",
    "    try:\n",
    "        divisao = numerador / denominador\n",
    "        print('Deu certo!') # Executar APENAS se a linha acima não gerar nenhuma exceção\n",
    "    \n",
    "    except:\n",
    "        divisao = 'infinito'\n",
    "        \n",
    "    print(f'{numerador}/{denominador} = {divisao}', end='\\n\\n')"
   ]
  },
  {
   "cell_type": "markdown",
   "id": "a9898e7e",
   "metadata": {},
   "source": [
    "O bloco acima já resolve a grande maioria dos problemas. Mas vamos estudar mais algumas possibilidades para deixar nosso tratamento ainda mais sofisticado e especializado.\n",
    "\n",
    "Você deve ter notado que enfatizamos o fato de exceções poderem ter um nome. Esse nome pode nos ajudar a identificar com sucesso qual dos erros possíveis ocorreu e tratá-lo com sucesso.\n",
    "\n",
    "Vamos considerar a função abaixo:"
   ]
  },
  {
   "cell_type": "code",
   "execution_count": 36,
   "id": "dc56fd77",
   "metadata": {
    "ExecuteTime": {
     "end_time": "2023-11-13T22:46:04.073727Z",
     "start_time": "2023-11-13T22:46:04.068724Z"
    }
   },
   "outputs": [],
   "source": [
    "def divisao(a, b):\n",
    "    return a / b"
   ]
  },
  {
   "cell_type": "markdown",
   "id": "ae6d58b0",
   "metadata": {},
   "source": [
    "Um erro óbvio que pode ocorrer nessa função seria o `ZeroDivisionError`, que é obtido quando o zero é passado como segundo parâmetro da função. Porém, ele não é o único erro possível. \n",
    "\n",
    "O que acontece se passarmos um parâmetro que não seja numérico? `TypeError`, pois utilizamos tipos inválidos para o operador de divisão `/`.\n",
    "\n",
    "Podemos colocar diversos `except` após o `try`, cada um testando um tipo diferente de erro. Um último `except` genérico englobará todos os casos que não se encaixarem nos específicos. Veja o exemplo:"
   ]
  },
  {
   "cell_type": "code",
   "execution_count": 39,
   "id": "c04b3c60",
   "metadata": {
    "ExecuteTime": {
     "end_time": "2023-11-13T23:02:50.999453Z",
     "start_time": "2023-11-13T23:02:50.990922Z"
    }
   },
   "outputs": [
    {
     "name": "stdout",
     "output_type": "stream",
     "text": [
      "1/0 = infinito\n",
      "1/2 = 0.5\n",
      "1/3 = 0.3333333333333333\n",
      "1/3 = 1/3\n",
      "1/5 = 0.2\n",
      "1/  = 1/ \n"
     ]
    }
   ],
   "source": [
    "denominadores = [0, 2, 3, 'a', 5, ' ']\n",
    "\n",
    "for d in denominadores:\n",
    "    try:\n",
    "        div = divisao(1, d)\n",
    "        \n",
    "    except ZeroDivisionError:\n",
    "        div = 'infinito'\n",
    "        \n",
    "    except TypeError:\n",
    "        div = f'1/{d}'\n",
    "        \n",
    "    except:\n",
    "        div = 'Erro desconhecido!'\n",
    "        \n",
    "    print(f'1/{d} = {div}')"
   ]
  },
  {
   "cell_type": "markdown",
   "id": "23733a98",
   "metadata": {},
   "source": [
    "### else\n",
    "\n",
    "Nosso bom e velho `else`, tipicamente usado em expressões condicionais acompanhando um `if`, também pode aparecer em blocos `try`/`except`. Seu efeito é o oposto do `except`: enquanto o `except` é executado quando algo dá errado, o `else` só é executado se absolutamente nada der errado. Por exemplo, poderíamos atualizar nosso exemplo anterior utilizando um `else`:"
   ]
  },
  {
   "cell_type": "code",
   "execution_count": 42,
   "id": "9e7f4bc4",
   "metadata": {
    "ExecuteTime": {
     "end_time": "2023-11-13T23:06:37.178588Z",
     "start_time": "2023-11-13T23:06:37.167514Z"
    }
   },
   "outputs": [
    {
     "name": "stdout",
     "output_type": "stream",
     "text": [
      "infinito\n",
      "1/2 = 0.5\n",
      "1/3 = 0.3333333333333333\n",
      "1/a\n",
      "1/5 = 0.2\n",
      "1/ \n"
     ]
    }
   ],
   "source": [
    "denominadores = [0, 2, 3, 'a', 5, ' ']\n",
    "\n",
    "for d in denominadores:\n",
    "    try:\n",
    "        div = divisao(1, d)\n",
    "        \n",
    "    except ZeroDivisionError:\n",
    "            print('infinito')\n",
    "            \n",
    "    except TypeError:\n",
    "        print(f'1/{d}')\n",
    "        \n",
    "    except:\n",
    "        print('Erro desconhecido')\n",
    "        \n",
    "    else:\n",
    "        print(f'1/{d} = {div}')"
   ]
  },
  {
   "cell_type": "markdown",
   "id": "40d0e5e9",
   "metadata": {},
   "source": [
    "Note que, no exemplo acima, não tem problema estarmos atribuindo valor pra `div` apenas no bloco `try`. Ela só será usada no `else`, ou seja, só será usada se tudo deu certo."
   ]
  },
  {
   "cell_type": "markdown",
   "id": "08e2bf38",
   "metadata": {},
   "source": [
    "### finally\n",
    "\n",
    "Muitas vezes um erro pode ocorrer quando já realizamos diversas operações. Dentre essas operações, podemos ter solicitado recursos, como por exemplo abrir um arquivo, estabelecer uma conexão com a internet ou alocar uma grande faixa de memória.\n",
    "\n",
    "O que aconteceria, por exemplo, se um comando como `return` aparecesse durante o tratamento deste erro após termos solicitado tantos recursos diferentes? O arquivo ficaria aberto, a conexão ficaria aberta, memória seria desperdiçada, etc.\n",
    "\n",
    "O `finally` garante um local seguro para colocarmos código de limpeza - ou seja, devolver recursos que não serão mais utilizados: fechar arquivos, fechar conexões com servidor etc.\n",
    "\n",
    "Ele **sempre** será executado após um bloco `try`/`except`, mesmo que haja um `return` no caminho.\n",
    "\n",
    "Veja o exemplo abaixo para entender o que queremos dizer:"
   ]
  },
  {
   "cell_type": "code",
   "execution_count": 46,
   "id": "c82bde2e",
   "metadata": {
    "ExecuteTime": {
     "end_time": "2023-11-13T23:16:32.704447Z",
     "start_time": "2023-11-13T23:16:32.696582Z"
    }
   },
   "outputs": [
    {
     "name": "stdout",
     "output_type": "stream",
     "text": [
      "Opa!\n",
      "1.0\n",
      "Opa!\n",
      "infinito\n"
     ]
    }
   ],
   "source": [
    "def teste(den):\n",
    "    try:\n",
    "        x = 1 / den\n",
    "        return x\n",
    "    \n",
    "    except:\n",
    "        return 'infinito'\n",
    "    \n",
    "    finally:\n",
    "        print('Opa!')\n",
    "        \n",
    "print(teste(1))\n",
    "print(teste(0))"
   ]
  },
  {
   "cell_type": "markdown",
   "id": "bb64c35b",
   "metadata": {},
   "source": [
    "Note que o conteúdo do bloco `finally` foi executado em ambas as chamadas, mesmo havendo um `return` dentro do `try` e outro dentro do `except`. Antes de sair da função e retornar o valor, o Python é obrigado a desviar a execução para o bloco `finally` e executar seu conteúdo.\n",
    "\n",
    "Vejamos um exemplo mais completo: um bloco `try`/`except` tentará criar um arquivo (não se preocupe com detalhes de como arquivos funcionam - estudaremos isso muito em breve!). Dentro do `try`, teremos um bloco `try`/`except`/`finally`. O `try` tentará escrever algumas operações matemáticas no arquivo, o `except` exibirá uma mensagem caso uma operação seja inválida, e o `finally` garantirá que o arquivo será fechado **independentemente de um erro ter ou não ocorrido**."
   ]
  },
  {
   "cell_type": "code",
   "execution_count": 49,
   "id": "339bb329",
   "metadata": {
    "ExecuteTime": {
     "end_time": "2023-11-13T23:26:25.110193Z",
     "start_time": "2023-11-13T23:26:25.086059Z"
    }
   },
   "outputs": [
    {
     "name": "stdout",
     "output_type": "stream",
     "text": [
      "Fechando o arquivo teste1.txt\n",
      "O número 1.0 foi escrito no arquivo!\n",
      "\n",
      "Fechando o arquivo teste1.txt\n",
      "Divisão por zero, não escrevemos no arquivo!\n"
     ]
    }
   ],
   "source": [
    "def escreveArquivo(nomeArquivo, denominador):\n",
    "    try:\n",
    "        arq = open(nomeArquivo, 'w') # Abre/cria o arquivo\n",
    "        \n",
    "        try:\n",
    "            div = 1 / denominador\n",
    "            arq.write(str(div)) # Escreve no arquivo\n",
    "            return f'O número {div} foi escrito no arquivo!'\n",
    "        \n",
    "        except ZeroDivisionError:\n",
    "            return f'Divisão por zero, não escrevemos no arquivo!'\n",
    "        \n",
    "        except TypeError:\n",
    "            return f'Tipo inválido, não escrevemos no arquivo!'\n",
    "        \n",
    "        except:\n",
    "            return f'Erro desconhecido, não escrevemos no arquivo!'\n",
    "        \n",
    "        finally:\n",
    "            print(f'Fechando o arquivo {nomeArquivo}')\n",
    "            arq.close() # O arquivo SEMPRE será fechado, mesmo que ocorra algum erro!\n",
    "            \n",
    "    except:\n",
    "        return 'Não foi possível abrir o arquivo'\n",
    "    \n",
    "print(escreveArquivo('teste1.txt', 1), end='\\n\\n')\n",
    "print(escreveArquivo('teste1.txt', 0))"
   ]
  },
  {
   "cell_type": "markdown",
   "id": "dff7ba1d",
   "metadata": {},
   "source": [
    "## Levantando exceções\n",
    "\n",
    "Quando estamos criando nossos próprios módulos, classes ou funções, muitas vezes vamos nos deparar com situações inválidas. Imprimir uma mensagem de erro não é uma boa ideia, pois o programa pode estar rodando em um servidor, pode ter uma interface gráfica, etc.\n",
    "\n",
    "Logo, o ideal seria lançarmos exceções para sinalizar essas situações. Desta forma, se elas forem ignoradas, o programa irá parar, sinalizando para o programador que existe alguma situação que deveria ser tratada. Adicionalmente, podemos criar nossa própria mensagem de erro, sinalizando para o programador que ele deveria fazer algo a respeito.\n",
    "\n",
    "Podemos utilizar a palavra `raise` seguida de `Exception()`, passando entre parênteses a mensagem personalizada de erro. Veja o exemplo:"
   ]
  },
  {
   "cell_type": "code",
   "execution_count": 68,
   "id": "133d5f8c",
   "metadata": {
    "ExecuteTime": {
     "end_time": "2023-11-13T23:39:44.860938Z",
     "start_time": "2023-11-13T23:39:44.823210Z"
    }
   },
   "outputs": [
    {
     "ename": "ValueError",
     "evalue": "Salário (-10) inválido! Ninguém trabalha de graça.",
     "output_type": "error",
     "traceback": [
      "\u001b[1;31m---------------------------------------------------------------------------\u001b[0m",
      "\u001b[1;31mValueError\u001b[0m                                Traceback (most recent call last)",
      "Input \u001b[1;32mIn [68]\u001b[0m, in \u001b[0;36m<cell line: 11>\u001b[1;34m()\u001b[0m\n\u001b[0;32m      9\u001b[0m cadastrarSalario(\u001b[38;5;241m10\u001b[39m)\n\u001b[0;32m     10\u001b[0m cadastrarSalario(\u001b[38;5;241m1\u001b[39m)\n\u001b[1;32m---> 11\u001b[0m \u001b[43mcadastrarSalario\u001b[49m\u001b[43m(\u001b[49m\u001b[38;5;241;43m-\u001b[39;49m\u001b[38;5;241;43m10\u001b[39;49m\u001b[43m)\u001b[49m\n",
      "Input \u001b[1;32mIn [68]\u001b[0m, in \u001b[0;36mcadastrarSalario\u001b[1;34m(salario)\u001b[0m\n\u001b[0;32m      3\u001b[0m \u001b[38;5;28;01mdef\u001b[39;00m \u001b[38;5;21mcadastrarSalario\u001b[39m(salario):\n\u001b[0;32m      4\u001b[0m     \u001b[38;5;28;01mif\u001b[39;00m salario \u001b[38;5;241m<\u001b[39m\u001b[38;5;241m=\u001b[39m \u001b[38;5;241m0\u001b[39m:\n\u001b[1;32m----> 5\u001b[0m         \u001b[38;5;28;01mraise\u001b[39;00m \u001b[38;5;167;01mValueError\u001b[39;00m(\u001b[38;5;124mf\u001b[39m\u001b[38;5;124m'\u001b[39m\u001b[38;5;124mSalário (\u001b[39m\u001b[38;5;132;01m{\u001b[39;00msalario\u001b[38;5;132;01m}\u001b[39;00m\u001b[38;5;124m) inválido! Ninguém trabalha de graça.\u001b[39m\u001b[38;5;124m'\u001b[39m)\n\u001b[0;32m      7\u001b[0m     salarios\u001b[38;5;241m.\u001b[39mappend(salario)\n",
      "\u001b[1;31mValueError\u001b[0m: Salário (-10) inválido! Ninguém trabalha de graça."
     ]
    }
   ],
   "source": [
    "salarios = []\n",
    "\n",
    "def cadastrarSalario(salario):\n",
    "    if salario <= 0:\n",
    "        raise Exception(f'Salário ({salario}) inválido! Ninguém trabalha de graça.')\n",
    "        \n",
    "    salarios.append(salario)\n",
    "    \n",
    "cadastrarSalario(10)\n",
    "cadastrarSalario(1)\n",
    "cadastrarSalario(-10)"
   ]
  },
  {
   "cell_type": "code",
   "execution_count": 63,
   "id": "df62ce40",
   "metadata": {
    "ExecuteTime": {
     "end_time": "2023-11-13T23:36:30.409098Z",
     "start_time": "2023-11-13T23:36:30.401028Z"
    }
   },
   "outputs": [
    {
     "data": {
      "text/plain": [
       "[10, 1]"
      ]
     },
     "execution_count": 63,
     "metadata": {},
     "output_type": "execute_result"
    }
   ],
   "source": [
    "salarios"
   ]
  },
  {
   "cell_type": "markdown",
   "id": "cf9ec5f3",
   "metadata": {},
   "source": [
    "Note que na primeira chamada, onde não ocorreu exceção, o salário foi cadastrado na lista. Já na terceira chamada, nossa função lançou a exceção e parou sua execução.\n",
    "\n",
    "Idealmente, quem pretende utilizar a função deveria fazê-lo agora utilizando `try`, para manter o programa funcionando e tratar adequadamente o problema."
   ]
  },
  {
   "cell_type": "code",
   "execution_count": 69,
   "id": "cadd067f",
   "metadata": {
    "ExecuteTime": {
     "end_time": "2023-11-13T23:40:02.358459Z",
     "start_time": "2023-11-13T23:39:46.669197Z"
    }
   },
   "outputs": [
    {
     "name": "stdout",
     "output_type": "stream",
     "text": [
      "Digite o salário do funcionário: -5000\n",
      "Oi\n",
      "Digite o salário do funcionário: 50\n",
      "Digite o salário do funcionário: 50\n"
     ]
    }
   ],
   "source": [
    "salarios = []\n",
    "\n",
    "for i in range(3):\n",
    "    salario = float(input('Digite o salário do funcionário: '))\n",
    "    \n",
    "    try:\n",
    "        cadastrarSalario(salario)\n",
    "    except:\n",
    "        print('Opa, salário inválido!')"
   ]
  },
  {
   "cell_type": "code",
   "execution_count": null,
   "id": "b93b9c36",
   "metadata": {
    "ExecuteTime": {
     "end_time": "2023-07-24T23:44:56.077270Z",
     "start_time": "2023-07-24T23:44:56.061220Z"
    }
   },
   "outputs": [],
   "source": [
    "salarios"
   ]
  },
  {
   "cell_type": "markdown",
   "id": "b0afd7f6",
   "metadata": {},
   "source": [
    "> O `raise` também pode ser utilizado para lançar exceções que já existem, não necessariamente exceções \"novas\". Basta trocar `Exception()` pelo nome da exceção desejada.\n",
    "> De fato, quando utilizamos `raise Exception()` estamos apenas lançando a exceção mais genérica, da qual outras são derivadas, apenas especificando sua mensagem de erro."
   ]
  },
  {
   "cell_type": "markdown",
   "id": "2e05724d",
   "metadata": {},
   "source": [
    "## Criando exceções novas\n",
    "\n",
    "> **Nota:** este tópico utiliza conceitos de **programação orientada a objeto**. Ele está aqui para tornar esse capítulo mais completo. Caso você curse um módulo de programação orientada a objeto futuramente, é recomendável reler este material. Em todo caso, é possível utilizar os exemplos deste tópico como modelo para criar exceções mesmo sem compreender os detalhes do que está ocorrendo."
   ]
  },
  {
   "cell_type": "markdown",
   "id": "9acf74fc",
   "metadata": {},
   "source": [
    "### Herdando de Exception\n",
    "\n",
    "Muitos problemas simples podem ser resolvidos através do `raise Exception(mensagem)`. Porém, você deve ter notado nos exemplos anteriores que o nome da nossa mensagem de erro foi `Exception`.\n",
    "\n",
    "Exceções geralmente são implementadas através de classes. O \"nome\" do erro é o nome da classe de cada exceção. Existe uma exceção genérica chamada de `Exception`. Quando usamos `raise Exception(mensagem)`, estamos lançando essa exceção genérica junto de uma mensagem de erro personalizada.\n",
    "\n",
    "O problema da nossa abordagem é que por utilizarmos uma exceção genérica não teremos como adicionar um `except` específico para nossa mensagem. Vamos criar nossa própria classe para escolher o nome do nosso erro. Exceções personalizadas geralmente **herdam** da classe `Exception`. Fazemos isso adicionando `(Exception)` após o nome de nossa classe.\n",
    "\n",
    "Vamos colocar um <b>construtor</b> que recebe uma mensagem. Podemos definir uma mensagem padrão, caso ninguém passe a mensagem. Em seguida, chamaremos o construtor da superclasse `(Exception)`."
   ]
  },
  {
   "cell_type": "code",
   "execution_count": 73,
   "id": "f6cc74e4",
   "metadata": {
    "ExecuteTime": {
     "end_time": "2023-11-14T00:04:36.094662Z",
     "start_time": "2023-11-14T00:04:36.029525Z"
    }
   },
   "outputs": [
    {
     "ename": "SalarioInvalido",
     "evalue": "Salários devem ser positivos!",
     "output_type": "error",
     "traceback": [
      "\u001b[1;31m---------------------------------------------------------------------------\u001b[0m",
      "\u001b[1;31mSalarioInvalido\u001b[0m                           Traceback (most recent call last)",
      "Input \u001b[1;32mIn [73]\u001b[0m, in \u001b[0;36m<cell line: 15>\u001b[1;34m()\u001b[0m\n\u001b[0;32m     12\u001b[0m     salarios\u001b[38;5;241m.\u001b[39mappend(salario)\n\u001b[0;32m     14\u001b[0m cadastrarSalario(\u001b[38;5;241m100\u001b[39m)\n\u001b[1;32m---> 15\u001b[0m \u001b[43mcadastrarSalario\u001b[49m\u001b[43m(\u001b[49m\u001b[38;5;241;43m-\u001b[39;49m\u001b[38;5;241;43m100\u001b[39;49m\u001b[43m)\u001b[49m\n",
      "Input \u001b[1;32mIn [73]\u001b[0m, in \u001b[0;36mcadastrarSalario\u001b[1;34m(salario)\u001b[0m\n\u001b[0;32m      8\u001b[0m \u001b[38;5;28;01mdef\u001b[39;00m \u001b[38;5;21mcadastrarSalario\u001b[39m(salario):\n\u001b[0;32m      9\u001b[0m     \u001b[38;5;28;01mif\u001b[39;00m salario \u001b[38;5;241m<\u001b[39m\u001b[38;5;241m=\u001b[39m \u001b[38;5;241m0\u001b[39m:\n\u001b[1;32m---> 10\u001b[0m         \u001b[38;5;28;01mraise\u001b[39;00m SalarioInvalido()\n\u001b[0;32m     12\u001b[0m     salarios\u001b[38;5;241m.\u001b[39mappend(salario)\n",
      "\u001b[1;31mSalarioInvalido\u001b[0m: Salários devem ser positivos!"
     ]
    }
   ],
   "source": [
    "class SalarioInvalido(Exception):\n",
    "    def __init__(self, message='Salários devem ser positivos!'):\n",
    "        self.message = message\n",
    "        super().__init__(self.message)\n",
    "        \n",
    "salarios = []\n",
    "\n",
    "def cadastrarSalario(salario):\n",
    "    if salario <= 0:\n",
    "        raise SalarioInvalido()\n",
    "        \n",
    "    salarios.append(salario)\n",
    "    \n",
    "cadastrarSalario(100)\n",
    "cadastrarSalario(-100)"
   ]
  },
  {
   "cell_type": "code",
   "execution_count": 74,
   "id": "46ca0947",
   "metadata": {
    "ExecuteTime": {
     "end_time": "2023-11-14T00:04:39.577689Z",
     "start_time": "2023-11-14T00:04:39.560537Z"
    }
   },
   "outputs": [
    {
     "data": {
      "text/plain": [
       "[100]"
      ]
     },
     "execution_count": 74,
     "metadata": {},
     "output_type": "execute_result"
    }
   ],
   "source": [
    "salarios"
   ]
  },
  {
   "cell_type": "markdown",
   "id": "6a53e5e2",
   "metadata": {},
   "source": [
    "Agora sim temos um erro com seu próprio nome e uma mensagem padrão. Mas note que quem está usando a nossa exceção pode personalizar a mensagem se quiser, basta passar uma mensagem diferente entre parênteses. O tipo do erro ainda será o mesmo e ambos deverão ser identificados como `SalarioInvalido` no `Except`."
   ]
  },
  {
   "cell_type": "code",
   "execution_count": 75,
   "id": "cff4d74e",
   "metadata": {
    "ExecuteTime": {
     "end_time": "2023-11-14T00:06:43.859328Z",
     "start_time": "2023-11-14T00:06:32.241425Z"
    }
   },
   "outputs": [
    {
     "name": "stdout",
     "output_type": "stream",
     "text": [
      "Digite o salário do funcionário: a\n",
      "Exceção genérica\n",
      "Digite o salário do funcionário: -500\n",
      "Nosso RH é uma vergonha :(\n",
      "Digite o salário do funcionário: 1000\n",
      "[1000.0]\n"
     ]
    }
   ],
   "source": [
    "class SalarioInvalido(Exception):\n",
    "    def __init__(self, message = 'Salários devem ser positivos!'):\n",
    "        self.message = message\n",
    "        super().__init__(self.message)\n",
    "\n",
    "salarios = []\n",
    "\n",
    "def cadastrarSalario(salario):\n",
    "    if salario <= 0:\n",
    "        raise SalarioInvalido('Deixa de ser mão-de-vaca e pague seus funcionários!')\n",
    "    \n",
    "    salarios.append(salario)\n",
    "    \n",
    "# cadastrar_salario(0)\n",
    "for i in range(3):\n",
    "    try:\n",
    "        salario = float(input('Digite o salário do funcionário: '))\n",
    "        cadastrarSalario(salario)\n",
    "        \n",
    "    except SalarioInvalido:\n",
    "        print('Nosso RH é uma vergonha :(')\n",
    "        \n",
    "    except:\n",
    "        print('Exceção genérica')\n",
    "        \n",
    "print(salarios)"
   ]
  },
  {
   "cell_type": "markdown",
   "id": "34346bc9",
   "metadata": {},
   "source": [
    "Para finalizar, vale sempre lembrar que podemos tratar essa exceção específica:"
   ]
  },
  {
   "cell_type": "code",
   "execution_count": 76,
   "id": "f9758ab3",
   "metadata": {
    "ExecuteTime": {
     "end_time": "2023-11-14T00:08:07.109641Z",
     "start_time": "2023-11-14T00:08:01.425668Z"
    }
   },
   "outputs": [
    {
     "name": "stdout",
     "output_type": "stream",
     "text": [
      "Digite o salário do funcionário: -50\n",
      "Nosso RH é uma vergonha :(\n",
      "Digite o salário do funcionário: 0\n",
      "Nosso RH é uma vergonha :(\n",
      "Digite o salário do funcionário: 1000\n"
     ]
    }
   ],
   "source": [
    "class SalarioInvalido(Exception):\n",
    "    def __init__(self, message = 'Salários devem ser positivos!'):\n",
    "        self.message = message\n",
    "        super().__init__(self.message)\n",
    "\n",
    "salarios = []\n",
    "\n",
    "def cadastrar_salario(salario):\n",
    "    if salario <= 0:\n",
    "        raise SalarioInvalido()\n",
    "    \n",
    "    salarios.append(salario)\n",
    "    \n",
    "for i in range(3):\n",
    "    salario = float(input('Digite o salário do funcionário: '))\n",
    "    \n",
    "    try:\n",
    "        cadastrar_salario(salario)\n",
    "        \n",
    "    except SalarioInvalido:\n",
    "        print('Nosso RH é uma vergonha :(')\n",
    "        \n",
    "    except:\n",
    "        print('Exceção genérica')"
   ]
  },
  {
   "cell_type": "code",
   "execution_count": 77,
   "id": "c40e149d",
   "metadata": {
    "ExecuteTime": {
     "end_time": "2023-11-14T00:08:11.026228Z",
     "start_time": "2023-11-14T00:08:11.004355Z"
    }
   },
   "outputs": [
    {
     "name": "stdout",
     "output_type": "stream",
     "text": [
      "[1000.0]\n"
     ]
    }
   ],
   "source": [
    "print(salarios)"
   ]
  },
  {
   "cell_type": "markdown",
   "id": "1f171572",
   "metadata": {},
   "source": [
    "### Adicionando atributos à exceção\n",
    "\n",
    "É possível uma exceção trazer consigo informações sobre o valor que provocou o erro. Por exemplo, seria útil que a classe `SalarioInvalido` pudesse informar qual foi o salário inválido. Isso é útil, por exemplo, em _logs_ que registram tudo o que ocorreu no programa, além de trazer informações importantes para o _debugging_ do código.\n",
    "\n",
    "Para isso, basta ajustar o construtor da classe de sua exceção:"
   ]
  },
  {
   "cell_type": "code",
   "execution_count": 94,
   "id": "d89282f4",
   "metadata": {
    "ExecuteTime": {
     "end_time": "2023-11-14T00:17:47.078980Z",
     "start_time": "2023-11-14T00:17:47.061461Z"
    }
   },
   "outputs": [],
   "source": [
    "class SalarioInvalido(Exception):\n",
    "    def __init__(self, salario, mensagem='Salários devem ser positivos!'):\n",
    "        self.salario = salario\n",
    "        self.message = mensagem\n",
    "        super().__init__(self.message)"
   ]
  },
  {
   "cell_type": "markdown",
   "id": "a0ff0048",
   "metadata": {},
   "source": [
    "Agora, ao lançar a exceção, devemos passar o salário:"
   ]
  },
  {
   "cell_type": "code",
   "execution_count": 95,
   "id": "97cce875",
   "metadata": {
    "ExecuteTime": {
     "end_time": "2023-11-14T00:17:50.385190Z",
     "start_time": "2023-11-14T00:17:50.371527Z"
    }
   },
   "outputs": [],
   "source": [
    "salarios = []\n",
    "\n",
    "def cadastrarSalario(salario):\n",
    "    if salario <= 0:\n",
    "        raise SalarioInvalido(salario)\n",
    "        \n",
    "    salarios.append(salario)"
   ]
  },
  {
   "cell_type": "markdown",
   "id": "6854f007",
   "metadata": {},
   "source": [
    "Por fim, ao tratar a exceção, podemos dar um _alias_ (um \"apelido\") para ela utilizando a palavra `as`. Através desse apelido, podemos acessar seus atributos.\n",
    "\n",
    "Note que imprimir o objeto faz com que sua mensagem seja impressa."
   ]
  },
  {
   "cell_type": "code",
   "execution_count": 96,
   "id": "8fe00db4",
   "metadata": {
    "ExecuteTime": {
     "end_time": "2023-11-14T00:17:58.322411Z",
     "start_time": "2023-11-14T00:17:51.969518Z"
    }
   },
   "outputs": [
    {
     "name": "stdout",
     "output_type": "stream",
     "text": [
      "Digite o salário do funcionário: -50\n",
      "Salários devem ser positivos!\n",
      "O salário problemático foi: -50.0\n",
      "Digite o salário do funcionário: 120\n",
      "Digite o salário do funcionário: 0\n",
      "Salários devem ser positivos!\n",
      "O salário problemático foi: 0.0\n"
     ]
    }
   ],
   "source": [
    "for i in range(3):\n",
    "    salario = float(input('Digite o salário do funcionário: '))\n",
    "    \n",
    "    try:\n",
    "        cadastrarSalario(salario)\n",
    "        \n",
    "    except SalarioInvalido as excecao:\n",
    "        print(excecao) # 'Salários devem ser positivos!'\n",
    "        print(f'O salário problemático foi: {excecao.salario}')\n",
    "        \n",
    "    except:\n",
    "        print('Exceção genérica!')"
   ]
  },
  {
   "cell_type": "code",
   "execution_count": 97,
   "id": "72b99416",
   "metadata": {
    "ExecuteTime": {
     "end_time": "2023-11-14T00:18:40.503660Z",
     "start_time": "2023-11-14T00:18:40.498148Z"
    }
   },
   "outputs": [
    {
     "data": {
      "text/plain": [
       "[120.0]"
      ]
     },
     "execution_count": 97,
     "metadata": {},
     "output_type": "execute_result"
    }
   ],
   "source": [
    "salarios"
   ]
  }
 ],
 "metadata": {
  "kernelspec": {
   "display_name": "Python 3 (ipykernel)",
   "language": "python",
   "name": "python3"
  },
  "language_info": {
   "codemirror_mode": {
    "name": "ipython",
    "version": 3
   },
   "file_extension": ".py",
   "mimetype": "text/x-python",
   "name": "python",
   "nbconvert_exporter": "python",
   "pygments_lexer": "ipython3",
   "version": "3.10.2"
  },
  "latex_envs": {
   "LaTeX_envs_menu_present": true,
   "autoclose": false,
   "autocomplete": true,
   "bibliofile": "biblio.bib",
   "cite_by": "apalike",
   "current_citInitial": 1,
   "eqLabelWithNumbers": true,
   "eqNumInitial": 1,
   "hotkeys": {
    "equation": "Ctrl-E",
    "itemize": "Ctrl-I"
   },
   "labels_anchors": false,
   "latex_user_defs": false,
   "report_style_numbering": false,
   "user_envs_cfg": false
  },
  "toc": {
   "base_numbering": 1,
   "nav_menu": {},
   "number_sections": true,
   "sideBar": true,
   "skip_h1_title": false,
   "title_cell": "Table of Contents",
   "title_sidebar": "Contents",
   "toc_cell": false,
   "toc_position": {},
   "toc_section_display": true,
   "toc_window_display": false
  },
  "varInspector": {
   "cols": {
    "lenName": 16,
    "lenType": 16,
    "lenVar": 40
   },
   "kernels_config": {
    "python": {
     "delete_cmd_postfix": "",
     "delete_cmd_prefix": "del ",
     "library": "var_list.py",
     "varRefreshCmd": "print(var_dic_list())"
    },
    "r": {
     "delete_cmd_postfix": ") ",
     "delete_cmd_prefix": "rm(",
     "library": "var_list.r",
     "varRefreshCmd": "cat(var_dic_list()) "
    }
   },
   "types_to_exclude": [
    "module",
    "function",
    "builtin_function_or_method",
    "instance",
    "_Feature"
   ],
   "window_display": false
  }
 },
 "nbformat": 4,
 "nbformat_minor": 5
}
