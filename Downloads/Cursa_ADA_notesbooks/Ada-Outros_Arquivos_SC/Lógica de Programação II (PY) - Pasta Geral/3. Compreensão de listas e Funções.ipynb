{
 "cells": [
  {
   "cell_type": "markdown",
   "metadata": {
    "id": "QQ3dr1t_PxnO"
   },
   "source": [
    "## Lógica de programação II - Compreensão de listas e Funções\n",
    "\n",
    "Na aula de hoje, iremos explorar os seguintes tópicos em Python:\n",
    "- Compreensão de listas\n",
    "- Compreensão de dicionários\n",
    "- Funções com parâmetros variáveis\n",
    "- Funções com parâmetros opcionais"
   ]
  },
  {
   "cell_type": "markdown",
   "metadata": {
    "id": "Hijw7hatRDOo"
   },
   "source": [
    "__________\n",
    "### Compreensão de listas\n",
    "\n",
    "\n",
    "Uma estrutura extremamente útil em python é a __compreensão de listas__ (list comprehension), com a qual é possível construir listas novas a partir de outras listas de forma bem condensada!\n",
    "\n",
    "A sintaxe é: \n",
    "\n",
    "```python\n",
    "[operacao_sobre_os_items for item in lista_base]\n",
    "```"
   ]
  },
  {
   "cell_type": "markdown",
   "metadata": {
    "id": "rpjCgSCYROtz"
   },
   "source": [
    "Por exemplo, imagine que queremos o dobro de cada número dentro de uma lista.\n",
    "\n",
    "Uma forma de realizar essa tarefa é utilizando o laço `for`."
   ]
  },
  {
   "cell_type": "code",
   "execution_count": 2,
   "metadata": {
    "id": "sL5H_aPwPoaW"
   },
   "outputs": [],
   "source": [
    "numeros = [1, 2, 3, 5, 153, -56, -1247]"
   ]
  },
  {
   "cell_type": "code",
   "execution_count": 3,
   "metadata": {
    "colab": {
     "base_uri": "https://localhost:8080/"
    },
    "executionInfo": {
     "elapsed": 4,
     "status": "ok",
     "timestamp": 1664992395050,
     "user": {
      "displayName": "Gilberto Kaihami",
      "userId": "07651446941847976228"
     },
     "user_tz": 180
    },
    "id": "1GSDVHMhRifO",
    "outputId": "60aaccc0-893d-4095-9e08-5fee5451f65b"
   },
   "outputs": [
    {
     "name": "stdout",
     "output_type": "stream",
     "text": [
      "[2, 4, 6, 10, 306, -112, -2494]\n"
     ]
    }
   ],
   "source": [
    "# Para cada número da lista determine o dobro deste\n",
    "numeros_multiplicados = []\n",
    "for numero in numeros:\n",
    "    dobro = numero * 2\n",
    "    numeros_multiplicados.append(dobro)\n",
    "    \n",
    "print(numeros_multiplicados)"
   ]
  },
  {
   "cell_type": "markdown",
   "metadata": {
    "id": "YesY1cthR9uT"
   },
   "source": [
    "Utilizando a compreensão de listas temos:\n",
    "\n",
    "Para cada número dentro de numeros: `for numero in numeros`\n",
    "\n",
    "Calcule o dobro: `numero * 2`\n",
    "\n",
    "Logo:\n",
    "\n",
    "```\n",
    "[ numero * 2 for   numero    in   numeros   ]\n",
    ". <resultado>     <elemento>     <elementos>\n",
    "```\n",
    "\n",
    "\n"
   ]
  },
  {
   "cell_type": "code",
   "execution_count": 4,
   "metadata": {
    "id": "kaekQQ4bRiO_"
   },
   "outputs": [
    {
     "name": "stdout",
     "output_type": "stream",
     "text": [
      "[2, 4, 6, 10, 306, -112, -2494]\n"
     ]
    }
   ],
   "source": [
    "numeros_multiplicados = [numero*2 for numero in numeros]\n",
    "print(numeros_multiplicados)"
   ]
  },
  {
   "cell_type": "markdown",
   "metadata": {
    "id": "Roz-v35mT8cD"
   },
   "source": [
    "Também é possível construir uma lista usando compreensão de listas com base em alguma estrutura condicional!\n",
    "\n",
    "Se você for utilizar apenas o if, a sintaxe é:\n",
    "\n",
    "```python\n",
    "[operacao_sobre_os_items for item in lista_base if condicao]\n",
    "```"
   ]
  },
  {
   "cell_type": "code",
   "execution_count": 5,
   "metadata": {
    "colab": {
     "base_uri": "https://localhost:8080/"
    },
    "executionInfo": {
     "elapsed": 232,
     "status": "ok",
     "timestamp": 1664993080526,
     "user": {
      "displayName": "Gilberto Kaihami",
      "userId": "07651446941847976228"
     },
     "user_tz": 180
    },
    "id": "UviQbrLjTLb5",
    "outputId": "657f7080-b942-43d4-98d4-3c5e0fdefff2"
   },
   "outputs": [
    {
     "name": "stdout",
     "output_type": "stream",
     "text": [
      "[2, 4, 10, 42]\n"
     ]
    }
   ],
   "source": [
    "# pega apenas os números pares e cria uma nova lista\n",
    "\n",
    "lista = [1, 2, 3, 4, 5, 10 , 21, 23, 25, 27, 42, 51]\n",
    "\n",
    "\n",
    "# forma tradicional\n",
    "lista_pares = []\n",
    "for num in lista:\n",
    "    if num % 2 == 0:\n",
    "        lista_pares.append(num)\n",
    "        \n",
    "print(lista_pares)"
   ]
  },
  {
   "cell_type": "code",
   "execution_count": 6,
   "metadata": {
    "id": "GvgpApXGUi8E"
   },
   "outputs": [
    {
     "name": "stdout",
     "output_type": "stream",
     "text": [
      "[2, 4, 10, 42]\n"
     ]
    }
   ],
   "source": [
    "#List Comp\n",
    "lista_pares_comp = [num for num in lista if num % 2 == 0]\n",
    "print(lista_pares_comp)"
   ]
  },
  {
   "cell_type": "code",
   "execution_count": 7,
   "metadata": {
    "colab": {
     "base_uri": "https://localhost:8080/"
    },
    "executionInfo": {
     "elapsed": 5,
     "status": "ok",
     "timestamp": 1664993134464,
     "user": {
      "displayName": "Gilberto Kaihami",
      "userId": "07651446941847976228"
     },
     "user_tz": 180
    },
    "id": "T3mV-gHqUnbj",
    "outputId": "d8b09688-3024-4390-9eb2-5e7850e30990"
   },
   "outputs": [
    {
     "name": "stdout",
     "output_type": "stream",
     "text": [
      "[2, 4, 10, 42]\n",
      "[2, 4, 10, 42]\n"
     ]
    }
   ],
   "source": [
    "print(lista_pares)\n",
    "print(lista_pares_comp)"
   ]
  },
  {
   "cell_type": "markdown",
   "metadata": {
    "id": "wUD3Qo_lUzT2"
   },
   "source": [
    "Caso você queira utilizar também o else como parte da estrutura condicional, a sintaxe muda um pouco:\n",
    "\n",
    "```python\n",
    "[valor_caso_if if condicao else valor_caso_else for item in lista_base]\n",
    "```"
   ]
  },
  {
   "cell_type": "code",
   "execution_count": 8,
   "metadata": {
    "colab": {
     "base_uri": "https://localhost:8080/"
    },
    "executionInfo": {
     "elapsed": 243,
     "status": "ok",
     "timestamp": 1664993299990,
     "user": {
      "displayName": "Gilberto Kaihami",
      "userId": "07651446941847976228"
     },
     "user_tz": 180
    },
    "id": "B1IpIbN9U7ey",
    "outputId": "153ec38c-1503-454a-db50-fdfd093cbc2d"
   },
   "outputs": [
    {
     "name": "stdout",
     "output_type": "stream",
     "text": [
      "['1 é ímpar', '2 é par', '3 é ímpar', '4 é par', '5 é ímpar', '6 é par', '7 é ímpar', '8 é par', '9 é ímpar']\n"
     ]
    }
   ],
   "source": [
    "# Criando uma lista dizendo se o número é par ou impar\n",
    "# ['1 é ímpar', '4 é par', ...]\n",
    "par_ou_impar = []\n",
    "for num in range(1,10):\n",
    "    if num % 2 == 0:\n",
    "        resultado = f\"{num} é par\"\n",
    "    else:\n",
    "        resultado = f\"{num} é ímpar\"\n",
    "    par_ou_impar.append(resultado)\n",
    "print(par_ou_impar)"
   ]
  },
  {
   "cell_type": "code",
   "execution_count": 10,
   "metadata": {
    "colab": {
     "base_uri": "https://localhost:8080/"
    },
    "executionInfo": {
     "elapsed": 228,
     "status": "ok",
     "timestamp": 1664993319861,
     "user": {
      "displayName": "Gilberto Kaihami",
      "userId": "07651446941847976228"
     },
     "user_tz": 180
    },
    "id": "WfdkCJFbU3so",
    "outputId": "b8b50b2b-3463-4a64-d734-4b19bdcd1ec4"
   },
   "outputs": [
    {
     "name": "stdout",
     "output_type": "stream",
     "text": [
      "['1 é impar', '2 é par', '3 é impar', '4 é par', '5 é impar', '6 é par', '7 é impar', '8 é par', '9 é impar']\n"
     ]
    }
   ],
   "source": [
    "par_ou_impar_comp = [\n",
    "    str(num) + ' é par'\n",
    "    if num % 2 == 0\n",
    "    else str(num) + ' é impar'\n",
    "    for num in range(1,10)\n",
    "]\n",
    "print(par_ou_impar_comp)"
   ]
  },
  {
   "cell_type": "code",
   "execution_count": 11,
   "metadata": {
    "colab": {
     "base_uri": "https://localhost:8080/"
    },
    "executionInfo": {
     "elapsed": 4,
     "status": "ok",
     "timestamp": 1664993343984,
     "user": {
      "displayName": "Gilberto Kaihami",
      "userId": "07651446941847976228"
     },
     "user_tz": 180
    },
    "id": "__CQwCubU7JU",
    "outputId": "e8e05ffa-8bfd-4553-e955-e8fc3e31b140",
    "scrolled": true
   },
   "outputs": [
    {
     "name": "stdout",
     "output_type": "stream",
     "text": [
      "['1 é ímpar', '2 é par', '3 é ímpar', '4 é par', '5 é ímpar', '6 é par', '7 é ímpar', '8 é par', '9 é ímpar']\n",
      "['1 é impar', '2 é par', '3 é impar', '4 é par', '5 é impar', '6 é par', '7 é impar', '8 é par', '9 é impar']\n"
     ]
    }
   ],
   "source": [
    "print(par_ou_impar)\n",
    "print(par_ou_impar_comp)"
   ]
  },
  {
   "cell_type": "markdown",
   "metadata": {},
   "source": [
    "https://stackoverflow.com/questions/9987483/elif-in-list-comprehension-conditionals"
   ]
  },
  {
   "cell_type": "markdown",
   "metadata": {
    "id": "lJ7whJo2VqDX"
   },
   "source": [
    "Compreensão de listas usando `for` encadeados"
   ]
  },
  {
   "cell_type": "code",
   "execution_count": 12,
   "metadata": {
    "colab": {
     "base_uri": "https://localhost:8080/"
    },
    "executionInfo": {
     "elapsed": 329,
     "status": "ok",
     "timestamp": 1664993385852,
     "user": {
      "displayName": "Gilberto Kaihami",
      "userId": "07651446941847976228"
     },
     "user_tz": 180
    },
    "id": "Z6fi937yUoUP",
    "outputId": "122b103a-c4bb-461c-981f-17b3e94a0c72"
   },
   "outputs": [
    {
     "name": "stdout",
     "output_type": "stream",
     "text": [
      "1 x 5 = 5\n",
      "1 x 7 = 7\n",
      "1 x 8 = 8\n",
      "2 x 5 = 10\n",
      "2 x 7 = 14\n",
      "2 x 8 = 16\n",
      "3 x 5 = 15\n",
      "3 x 7 = 21\n",
      "3 x 8 = 24\n",
      "4 x 5 = 20\n",
      "4 x 7 = 28\n",
      "4 x 8 = 32\n",
      "5 x 5 = 25\n",
      "5 x 7 = 35\n",
      "5 x 8 = 40\n",
      "6 x 5 = 30\n",
      "6 x 7 = 42\n",
      "6 x 8 = 48\n"
     ]
    }
   ],
   "source": [
    "l1 = [1, 2, 3, 4, 5, 6]\n",
    "l2 = [5, 7, 8]\n",
    "\n",
    "for num1 in l1:\n",
    "    for num2 in l2:\n",
    "        print(num1, 'x', num2, '=', num1 * num2)"
   ]
  },
  {
   "cell_type": "markdown",
   "metadata": {
    "id": "3lata2qZVvKZ"
   },
   "source": [
    "**como fazer a operação acima com compreensão de listas**"
   ]
  },
  {
   "cell_type": "code",
   "execution_count": 13,
   "metadata": {
    "colab": {
     "base_uri": "https://localhost:8080/"
    },
    "executionInfo": {
     "elapsed": 3,
     "status": "ok",
     "timestamp": 1664993398832,
     "user": {
      "displayName": "Gilberto Kaihami",
      "userId": "07651446941847976228"
     },
     "user_tz": 180
    },
    "id": "G235hPGUVtnf",
    "outputId": "54a82555-e308-4f66-d927-eb8aba152757"
   },
   "outputs": [
    {
     "name": "stdout",
     "output_type": "stream",
     "text": [
      "[5, 7, 8, 10, 14, 16, 15, 21, 24, 20, 28, 32, 25, 35, 40, 30, 42, 48]\n"
     ]
    }
   ],
   "source": [
    "l1 = [1, 2, 3, 4, 5, 6]\n",
    "l2 = [5, 7, 8]\n",
    "\n",
    "lista_multiplicacao = [num1*num2 for num1 in l1 for num2 in l2]\n",
    "print(lista_multiplicacao)"
   ]
  },
  {
   "cell_type": "markdown",
   "metadata": {
    "id": "EFu3PCYQWF-I"
   },
   "source": [
    "**Exercício**\n",
    "\n",
    "Remova todas as vogais de uma dada string utilizando compreesões de lista.\n",
    "\n",
    "Por exemplo em:  \n",
    "`\"banana\"`\n",
    "O retorno deve ser:  \n",
    "`\"bnn\"`\n",
    "\n",
    "Lembre da operação `\"\".join()`"
   ]
  },
  {
   "cell_type": "code",
   "execution_count": 1,
   "metadata": {
    "executionInfo": {
     "elapsed": 366,
     "status": "ok",
     "timestamp": 1665440272418,
     "user": {
      "displayName": "Gilberto Kaihami",
      "userId": "07651446941847976228"
     },
     "user_tz": 180
    },
    "id": "2ptPMlnZXng0"
   },
   "outputs": [],
   "source": [
    "priemira_string = \"banana\"\n",
    "segunda_string = \"abacaxi\"\n",
    "terceira_string = \"mamao\"\n",
    "quarta_string = \"uva\"\n",
    "\n",
    "lista_strings = [priemira_string, segunda_string, terceira_string, quarta_string]"
   ]
  },
  {
   "cell_type": "code",
   "execution_count": 2,
   "metadata": {},
   "outputs": [
    {
     "data": {
      "text/plain": [
       "'casa'"
      ]
     },
     "execution_count": 2,
     "metadata": {},
     "output_type": "execute_result"
    }
   ],
   "source": [
    "\"\".join(['c', 'a', 's', 'a'])"
   ]
  },
  {
   "cell_type": "code",
   "execution_count": 3,
   "metadata": {},
   "outputs": [
    {
     "data": {
      "text/plain": [
       "'bnn'"
      ]
     },
     "execution_count": 3,
     "metadata": {},
     "output_type": "execute_result"
    }
   ],
   "source": [
    "\"\".join(['b','n','n'])"
   ]
  },
  {
   "cell_type": "code",
   "execution_count": 4,
   "metadata": {
    "colab": {
     "base_uri": "https://localhost:8080/"
    },
    "executionInfo": {
     "elapsed": 228,
     "status": "ok",
     "timestamp": 1665440276526,
     "user": {
      "displayName": "Gilberto Kaihami",
      "userId": "07651446941847976228"
     },
     "user_tz": 180
    },
    "id": "cDoyVQ3N-Azg",
    "outputId": "7ffc00f6-77c8-475f-dc57-251d64d25a9b"
   },
   "outputs": [
    {
     "data": {
      "text/plain": [
       "['bnn', 'bcx', 'mm', 'v']"
      ]
     },
     "execution_count": 4,
     "metadata": {},
     "output_type": "execute_result"
    }
   ],
   "source": [
    "strings = []\n",
    "for string in lista_strings:\n",
    "  resultado = \"\".join([char for char in string if char not in ['a', 'e', 'i', 'o', 'u']])\n",
    "  strings.append(resultado)\n",
    "strings"
   ]
  },
  {
   "cell_type": "code",
   "execution_count": 18,
   "metadata": {},
   "outputs": [],
   "source": [
    "#Operador ternário\n",
    "i = 3\n",
    "var = \"Sim\" if i ==1 else \"Não\""
   ]
  },
  {
   "cell_type": "code",
   "execution_count": 17,
   "metadata": {},
   "outputs": [
    {
     "data": {
      "text/plain": [
       "'não'"
      ]
     },
     "execution_count": 17,
     "metadata": {},
     "output_type": "execute_result"
    }
   ],
   "source": [
    "var"
   ]
  },
  {
   "cell_type": "markdown",
   "metadata": {
    "id": "M4NAwaGzZwLo"
   },
   "source": [
    "Utilizando compreensão de lista encadeadas."
   ]
  },
  {
   "cell_type": "code",
   "execution_count": null,
   "metadata": {
    "colab": {
     "base_uri": "https://localhost:8080/"
    },
    "executionInfo": {
     "elapsed": 3,
     "status": "ok",
     "timestamp": 1664994583814,
     "user": {
      "displayName": "Gilberto Kaihami",
      "userId": "07651446941847976228"
     },
     "user_tz": 180
    },
    "id": "adxXu3UKZ084",
    "outputId": "4fb9f7b8-c783-4175-935f-7257210b7fb6"
   },
   "outputs": [],
   "source": [
    "# Ache todos os números que são divisiveis por pelo menos um número entre 2 a 9\n"
   ]
  },
  {
   "cell_type": "markdown",
   "metadata": {
    "id": "T2vnQBd3gDvp"
   },
   "source": [
    "### Compreensões de dicionário\n",
    "\n",
    "Da mesma forma que utilizamos compreensão para listas, podemos utilizá-la para dicionários. A diferença é que precisamos, obrigatoriamente, passar um par chave-valor. O exemplo abaixo parte de uma lista de notas e uma lista de alunos e chega em um dicionário associando cada aluno a uma nota."
   ]
  },
  {
   "cell_type": "code",
   "execution_count": 19,
   "metadata": {
    "colab": {
     "base_uri": "https://localhost:8080/"
    },
    "executionInfo": {
     "elapsed": 5,
     "status": "ok",
     "timestamp": 1664996220112,
     "user": {
      "displayName": "Gilberto Kaihami",
      "userId": "07651446941847976228"
     },
     "user_tz": 180
    },
    "id": "oYWLW33JZoau",
    "outputId": "4a7c6a3a-90c3-4b50-8c41-d745a1d881a7"
   },
   "outputs": [
    {
     "name": "stdout",
     "output_type": "stream",
     "text": [
      "{'Desodorante': 10, 'Alface': 4, 'Uva': 2, 'Salgadinho': 3, 'Banana': 5}\n"
     ]
    }
   ],
   "source": [
    "produtos = ['Desodorante', 'Alface', 'Uva', 'Salgadinho', 'Banana']\n",
    "quantidades = [10, 4, 2, 3, 5]\n",
    "\n",
    "cadastros = {produtos[i]:quantidades[i] for i in range(len(produtos))}\n",
    "\n",
    "print(cadastros)"
   ]
  },
  {
   "cell_type": "markdown",
   "metadata": {
    "id": "vmcOlLv7gnfT"
   },
   "source": [
    "Outro exemplo:"
   ]
  },
  {
   "cell_type": "code",
   "execution_count": 20,
   "metadata": {
    "colab": {
     "base_uri": "https://localhost:8080/"
    },
    "executionInfo": {
     "elapsed": 4,
     "status": "ok",
     "timestamp": 1664996292936,
     "user": {
      "displayName": "Gilberto Kaihami",
      "userId": "07651446941847976228"
     },
     "user_tz": 180
    },
    "id": "8ddPZSetggb3",
    "outputId": "3087de13-ea43-45d0-f2bd-a286977c0260"
   },
   "outputs": [
    {
     "data": {
      "text/plain": [
       "[0, 1, 4, 9, 16, 25, 36, 49, 64, 81]"
      ]
     },
     "execution_count": 20,
     "metadata": {},
     "output_type": "execute_result"
    }
   ],
   "source": [
    "# Calculando o quadrado de um número\n",
    "# Utilizando compreensão de listas\n",
    "[x**2 for x in range(10)]"
   ]
  },
  {
   "cell_type": "code",
   "execution_count": 21,
   "metadata": {
    "colab": {
     "base_uri": "https://localhost:8080/"
    },
    "executionInfo": {
     "elapsed": 4,
     "status": "ok",
     "timestamp": 1664996334217,
     "user": {
      "displayName": "Gilberto Kaihami",
      "userId": "07651446941847976228"
     },
     "user_tz": 180
    },
    "id": "WWDTsXNfgzaJ",
    "outputId": "85dbe902-8c1e-4c94-959d-92e068fcc693"
   },
   "outputs": [
    {
     "data": {
      "text/plain": [
       "{0: 0, 1: 1, 2: 4, 3: 9, 4: 16, 5: 25, 6: 36, 7: 49, 8: 64, 9: 81}"
      ]
     },
     "execution_count": 21,
     "metadata": {},
     "output_type": "execute_result"
    }
   ],
   "source": [
    "# No exemplo acima, perdemos a informação de origem\n",
    "# Uma forma de guardar essa informação é por meio de dicionários\n",
    "{x:x**2 for x in range(10)}"
   ]
  },
  {
   "cell_type": "markdown",
   "metadata": {
    "id": "udc0nDNehLsK"
   },
   "source": [
    "Voltando para o exemplo de produtos"
   ]
  },
  {
   "cell_type": "code",
   "execution_count": 22,
   "metadata": {
    "colab": {
     "base_uri": "https://localhost:8080/"
    },
    "executionInfo": {
     "elapsed": 5,
     "status": "ok",
     "timestamp": 1664996408331,
     "user": {
      "displayName": "Gilberto Kaihami",
      "userId": "07651446941847976228"
     },
     "user_tz": 180
    },
    "id": "LjArssjFg6IA",
    "outputId": "fb4d4667-4d61-4307-f07d-666599339329"
   },
   "outputs": [
    {
     "name": "stdout",
     "output_type": "stream",
     "text": [
      "{'Desodorante': 10, 'Alface': 4, 'Uva': 2, 'Salgadinho': 3, 'Banana': 5}\n"
     ]
    }
   ],
   "source": [
    "produtos = ['Desodorante', 'Alface', 'Uva', 'Salgadinho', 'Banana']\n",
    "quantidades = [10, 4, 2, 3, 5]\n",
    "\n",
    "cadastros = {produtos[i]:quantidades[i] for i in range(len(produtos))}\n",
    "\n",
    "print(cadastros)"
   ]
  },
  {
   "cell_type": "markdown",
   "metadata": {
    "id": "dccEm9EOhQZU"
   },
   "source": [
    "No exemplo acima, apesar de ser um código válido há outras formas de realizar a mesma operação, facilitando dessa forma a leitura do código.\n",
    "\n",
    "Nesse caso iremos utilizar a função `zip`.\n",
    "\n",
    "Ela aceita dois objetos que podem ser iterados, e comprime os seus elementos:\n",
    "\n",
    "Por exemplo:  \n",
    "```\n",
    "nomes = ['Ana', 'Vitor', 'Daniel']\n",
    "notas = [10, 5, 7]\n",
    "cadastros = {}\n",
    "for idx, nome in enumerate(nomes):\n",
    "  cadastros[nome] = notas[idx]\n",
    "```\n",
    "Pode ser entendido que o primeiro elemento da lista `nomes` deve fazer par com o primeiro elemento da lista notas, e assim por diante.\n",
    "\n",
    "Logo, seria equivalente a:\n",
    "\n",
    "```\n",
    "(nomes[0], notas[0]), (nomes[1], notas[1]), ..., (nomes[n], notas[n])\n",
    "```\n",
    "\n",
    "Utilizando o `zip` temos esse comportamento!\n",
    "\n"
   ]
  },
  {
   "cell_type": "code",
   "execution_count": 24,
   "metadata": {
    "colab": {
     "base_uri": "https://localhost:8080/"
    },
    "executionInfo": {
     "elapsed": 5,
     "status": "ok",
     "timestamp": 1664996715105,
     "user": {
      "displayName": "Gilberto Kaihami",
      "userId": "07651446941847976228"
     },
     "user_tz": 180
    },
    "id": "ud96mMiVhPel",
    "outputId": "a5d07e4a-93c8-47be-d6cf-d99903d96b43",
    "scrolled": true
   },
   "outputs": [
    {
     "name": "stdout",
     "output_type": "stream",
     "text": [
      "('Desodorante', 10)\n",
      "('Alface', 4)\n",
      "('Uva', 2)\n",
      "('Salgadinho', 3)\n",
      "('Banana', 5)\n"
     ]
    }
   ],
   "source": [
    "produtos = ['Desodorante', 'Alface', 'Uva', 'Salgadinho', 'Banana']\n",
    "quantidades = [10, 4, 2, 3, 5]\n",
    "\n",
    "for dupla in zip(produtos,quantidades):\n",
    "    print(dupla)"
   ]
  },
  {
   "cell_type": "code",
   "execution_count": 30,
   "metadata": {},
   "outputs": [
    {
     "name": "stdout",
     "output_type": "stream",
     "text": [
      "<class 'tuple'>\n",
      "('Banana', 5)\n"
     ]
    }
   ],
   "source": [
    "print(type(dupla))\n",
    "print(dupla)"
   ]
  },
  {
   "cell_type": "code",
   "execution_count": 32,
   "metadata": {
    "colab": {
     "base_uri": "https://localhost:8080/"
    },
    "executionInfo": {
     "elapsed": 3,
     "status": "ok",
     "timestamp": 1664996727639,
     "user": {
      "displayName": "Gilberto Kaihami",
      "userId": "07651446941847976228"
     },
     "user_tz": 180
    },
    "id": "vVNEULuBiaSn",
    "outputId": "ab8018c2-dcc0-4540-cf7b-f81b4254a6df",
    "scrolled": true
   },
   "outputs": [
    {
     "name": "stdout",
     "output_type": "stream",
     "text": [
      "produto=Desodorante, quantidade=10\n",
      "produto=Alface, quantidade=4\n",
      "produto=Uva, quantidade=2\n",
      "produto=Salgadinho, quantidade=3\n",
      "produto=Banana, quantidade=5\n"
     ]
    }
   ],
   "source": [
    "produtos = ['Desodorante', 'Alface', 'Uva', 'Salgadinho', 'Banana']\n",
    "quantidades = [10, 4, 2, 3, 5]\n",
    "\n",
    "for  produto, quantidade in zip(produtos,quantidades):\n",
    "    print(f'produto={produto}, quantidade={quantidade}')"
   ]
  },
  {
   "cell_type": "code",
   "execution_count": 31,
   "metadata": {},
   "outputs": [
    {
     "name": "stdout",
     "output_type": "stream",
     "text": [
      "<class 'str'>\n",
      "Banana\n"
     ]
    }
   ],
   "source": [
    "print(type(produto))\n",
    "print(produto)"
   ]
  },
  {
   "cell_type": "code",
   "execution_count": 28,
   "metadata": {
    "colab": {
     "base_uri": "https://localhost:8080/"
    },
    "executionInfo": {
     "elapsed": 3,
     "status": "ok",
     "timestamp": 1664996756338,
     "user": {
      "displayName": "Gilberto Kaihami",
      "userId": "07651446941847976228"
     },
     "user_tz": 180
    },
    "id": "rkdPGD0widch",
    "outputId": "f6b1ed02-cd54-4006-c0a6-76f4a14f5126"
   },
   "outputs": [
    {
     "name": "stdout",
     "output_type": "stream",
     "text": [
      "{'Desodorante': 10, 'Alface': 4, 'Uva': 2, 'Salgadinho': 3, 'Banana': 5}\n"
     ]
    }
   ],
   "source": [
    "produtos = ['Desodorante', 'Alface', 'Uva', 'Salgadinho', 'Banana']\n",
    "quantidades = [10, 4, 2, 3, 5]\n",
    "cadastros = {}\n",
    "for produto, quantidade in zip(produtos,quantidades):\n",
    "    cadastros[produto] = quantidade\n",
    "    \n",
    "print(cadastros)"
   ]
  },
  {
   "cell_type": "markdown",
   "metadata": {
    "id": "s2bQfGZ-ilp_"
   },
   "source": [
    "Agora podemos utilizar a compreensão de dicionários com o zip!"
   ]
  },
  {
   "cell_type": "code",
   "execution_count": 34,
   "metadata": {
    "id": "8_hNVXBDiie1"
   },
   "outputs": [
    {
     "name": "stdout",
     "output_type": "stream",
     "text": [
      "{'Desodorante': 10, 'Alface': 4, 'Uva': 2, 'Salgadinho': 3, 'Banana': 5}\n"
     ]
    }
   ],
   "source": [
    "cadastros = {produto:quantidade for produto, quantidade in zip(produtos,quantidades)}\n",
    "print(cadastros)"
   ]
  },
  {
   "cell_type": "markdown",
   "metadata": {
    "id": "Gm2oqMeTcfro"
   },
   "source": [
    "**Exercício**\n",
    "\n",
    "Utilizando compreensão de dicionário e condicionais, crie um dicionário novo a partir do dicionário `dict`, onde apenas o par `chave`:`valor` acima de 20 estejam presentes no novo dicionário:\n",
    "```\n",
    "dict1 = {'Maça': 3, \"Linguiça\": 30, 'Pera':5, 'Bife': 50}\n",
    "```\n",
    "Nesse caso o novo dicionário deveria conter:\n",
    "```\n",
    "dict2 = { \"Linguiça\": 30, 'Bife': 50}\n",
    "```"
   ]
  },
  {
   "cell_type": "code",
   "execution_count": null,
   "metadata": {
    "colab": {
     "base_uri": "https://localhost:8080/"
    },
    "executionInfo": {
     "elapsed": 5,
     "status": "ok",
     "timestamp": 1665163231212,
     "user": {
      "displayName": "Gilberto Kaihami",
      "userId": "07651446941847976228"
     },
     "user_tz": 180
    },
    "id": "9cTO7ZR0iuhL",
    "outputId": "806ac5c9-b8c7-4231-9c39-df86611252e3"
   },
   "outputs": [],
   "source": [
    "dict1 = {'Maça': 3, \"Linguiça\": 30, 'Pera':5, 'Bife': 50}\n",
    "dict2 = {...} # Preencha aqui"
   ]
  },
  {
   "cell_type": "code",
   "execution_count": null,
   "metadata": {},
   "outputs": [],
   "source": []
  },
  {
   "cell_type": "code",
   "execution_count": 35,
   "metadata": {},
   "outputs": [
    {
     "name": "stdout",
     "output_type": "stream",
     "text": [
      "1\n",
      "[2, 3, 4]\n"
     ]
    }
   ],
   "source": [
    "primeiro, *resto = [1,2,3,4]\n",
    "print(primeiro)\n",
    "print(resto)"
   ]
  },
  {
   "cell_type": "markdown",
   "metadata": {
    "id": "lz6jfODfk50d"
   },
   "source": [
    "### Funções com parâmetros variáveis\n",
    "\n",
    "Se não quisermos especificar **quais** e **quantos** são os parâmetros de uma função, passamos o argumento com **um asterisco**\n",
    "\n",
    "- Os parâmetros passados são **agrupados em uma tupla**, automaticamente, pelo python.\n",
    "\n",
    "Porém, o usuário não precisa passar uma tupla: basta passar vários argumentos separados por vírgula, e o Python automaticamente criará uma tupla com eles. \n",
    "\n",
    "Uma função que segue exatamente essa estrutura é o `print()`!\n",
    "\n",
    "Vamos criar uma função desta forma:"
   ]
  },
  {
   "cell_type": "code",
   "execution_count": 36,
   "metadata": {
    "colab": {
     "base_uri": "https://localhost:8080/"
    },
    "executionInfo": {
     "elapsed": 6,
     "status": "ok",
     "timestamp": 1665152341725,
     "user": {
      "displayName": "Gilberto Kaihami",
      "userId": "07651446941847976228"
     },
     "user_tz": 180
    },
    "id": "1F0pAY4bjIpH",
    "outputId": "ae5fc64e-a940-4d25-d90d-42b258f54447"
   },
   "outputs": [
    {
     "name": "stdout",
     "output_type": "stream",
     "text": [
      "1\n",
      "1 2\n"
     ]
    }
   ],
   "source": [
    "# O print é uma função que aceita parâmetros variáveis!\n",
    "print(1)\n",
    "# Por isso quando adicionamos mais de um argumento com vírgula\n",
    "# o print continua funcionando de forma correta\n",
    "print(1, 2)"
   ]
  },
  {
   "cell_type": "code",
   "execution_count": 38,
   "metadata": {
    "id": "UbiKFtFS6frb"
   },
   "outputs": [
    {
     "name": "stdout",
     "output_type": "stream",
     "text": [
      "(1, 2, 3, 4, 5, 6)\n"
     ]
    }
   ],
   "source": [
    "# Quando queremos argumentos variados adicionamos `*`\n",
    "def meu_print(*elementos):\n",
    "  print(elementos)\n",
    "meu_print(1, 2,3,4,5,6)"
   ]
  },
  {
   "cell_type": "code",
   "execution_count": 39,
   "metadata": {
    "id": "ZhJwBwFqcKFQ"
   },
   "outputs": [],
   "source": [
    "def soma(a, b, *numeros):\n",
    "    print(f'a={a}, b={b}')\n",
    "    print(f'numeros={numeros}')\n",
    "    soma_parcial = a +b\n",
    "    soma_numeros = sum(numeros)\n",
    "    print(f'soma_numeros={soma_numeros}')\n",
    "    return soma_parcial + soma_numeros"
   ]
  },
  {
   "cell_type": "code",
   "execution_count": 40,
   "metadata": {
    "colab": {
     "base_uri": "https://localhost:8080/"
    },
    "executionInfo": {
     "elapsed": 251,
     "status": "ok",
     "timestamp": 1665162908375,
     "user": {
      "displayName": "Gilberto Kaihami",
      "userId": "07651446941847976228"
     },
     "user_tz": 180
    },
    "id": "ZJGQqgK80LFa",
    "outputId": "8a9b3958-1b89-4c6e-cb00-142167de932f",
    "scrolled": true
   },
   "outputs": [
    {
     "name": "stdout",
     "output_type": "stream",
     "text": [
      "a=1, b=2\n",
      "numeros=(3, 2, 3, 4, 5, 6, 7, 8, 9)\n",
      "soma_numeros=47\n"
     ]
    },
    {
     "data": {
      "text/plain": [
       "50"
      ]
     },
     "execution_count": 40,
     "metadata": {},
     "output_type": "execute_result"
    }
   ],
   "source": [
    "soma(1, 2, 3, 2, 3, 4, 5, 6, 7, 8, 9)"
   ]
  },
  {
   "cell_type": "code",
   "execution_count": 41,
   "metadata": {
    "scrolled": true
   },
   "outputs": [
    {
     "name": "stdout",
     "output_type": "stream",
     "text": [
      "a=1, b=2\n",
      "numeros=(3, 2, 3)\n",
      "soma_numeros=8\n"
     ]
    },
    {
     "data": {
      "text/plain": [
       "11"
      ]
     },
     "execution_count": 41,
     "metadata": {},
     "output_type": "execute_result"
    }
   ],
   "source": [
    "soma(1, 2, 3, 2, 3)"
   ]
  },
  {
   "cell_type": "code",
   "execution_count": 42,
   "metadata": {
    "scrolled": true
   },
   "outputs": [
    {
     "name": "stdout",
     "output_type": "stream",
     "text": [
      "a=1, b=2\n",
      "numeros=()\n",
      "soma_numeros=0\n"
     ]
    },
    {
     "data": {
      "text/plain": [
       "3"
      ]
     },
     "execution_count": 42,
     "metadata": {},
     "output_type": "execute_result"
    }
   ],
   "source": [
    "soma(1, 2)"
   ]
  },
  {
   "cell_type": "code",
   "execution_count": 43,
   "metadata": {},
   "outputs": [
    {
     "ename": "TypeError",
     "evalue": "soma() missing 1 required positional argument: 'b'",
     "output_type": "error",
     "traceback": [
      "\u001b[1;31m---------------------------------------------------------------------------\u001b[0m",
      "\u001b[1;31mTypeError\u001b[0m                                 Traceback (most recent call last)",
      "\u001b[1;32m~\\AppData\\Local\\Temp/ipykernel_7928/2672431424.py\u001b[0m in \u001b[0;36m<module>\u001b[1;34m\u001b[0m\n\u001b[1;32m----> 1\u001b[1;33m \u001b[0msoma\u001b[0m\u001b[1;33m(\u001b[0m\u001b[1;36m1\u001b[0m\u001b[1;33m)\u001b[0m\u001b[1;33m\u001b[0m\u001b[1;33m\u001b[0m\u001b[0m\n\u001b[0m",
      "\u001b[1;31mTypeError\u001b[0m: soma() missing 1 required positional argument: 'b'"
     ]
    }
   ],
   "source": [
    "soma(1)"
   ]
  },
  {
   "cell_type": "code",
   "execution_count": 44,
   "metadata": {
    "id": "ZtO8SFzKnYjL"
   },
   "outputs": [],
   "source": [
    "def calcula_media(lista):\n",
    "    print(lista)\n",
    "    soma = sum(lista)\n",
    "    tamanho_lista = len(lista)\n",
    "    return soma/tamanho_lista"
   ]
  },
  {
   "cell_type": "code",
   "execution_count": 45,
   "metadata": {
    "colab": {
     "base_uri": "https://localhost:8080/"
    },
    "executionInfo": {
     "elapsed": 4,
     "status": "ok",
     "timestamp": 1665165805643,
     "user": {
      "displayName": "Gilberto Kaihami",
      "userId": "07651446941847976228"
     },
     "user_tz": 180
    },
    "id": "SccRG1fgnah0",
    "outputId": "b19f67ed-7f06-45d2-c444-e38cc3596ac5",
    "scrolled": true
   },
   "outputs": [
    {
     "name": "stdout",
     "output_type": "stream",
     "text": [
      "[10, 5, 8]\n"
     ]
    },
    {
     "data": {
      "text/plain": [
       "7.666666666666667"
      ]
     },
     "execution_count": 45,
     "metadata": {},
     "output_type": "execute_result"
    }
   ],
   "source": [
    "calcula_media([10, 5, 8])"
   ]
  },
  {
   "cell_type": "code",
   "execution_count": 47,
   "metadata": {},
   "outputs": [
    {
     "ename": "TypeError",
     "evalue": "calcula_media() takes 1 positional argument but 4 were given",
     "output_type": "error",
     "traceback": [
      "\u001b[1;31m---------------------------------------------------------------------------\u001b[0m",
      "\u001b[1;31mTypeError\u001b[0m                                 Traceback (most recent call last)",
      "\u001b[1;32m~\\AppData\\Local\\Temp/ipykernel_7928/1815586811.py\u001b[0m in \u001b[0;36m<module>\u001b[1;34m\u001b[0m\n\u001b[1;32m----> 1\u001b[1;33m \u001b[0mcalcula_media\u001b[0m\u001b[1;33m(\u001b[0m\u001b[1;36m10\u001b[0m\u001b[1;33m,\u001b[0m \u001b[1;36m5\u001b[0m\u001b[1;33m,\u001b[0m \u001b[1;36m8\u001b[0m\u001b[1;33m,\u001b[0m\u001b[1;36m97\u001b[0m\u001b[1;33m)\u001b[0m\u001b[1;33m\u001b[0m\u001b[1;33m\u001b[0m\u001b[0m\n\u001b[0m",
      "\u001b[1;31mTypeError\u001b[0m: calcula_media() takes 1 positional argument but 4 were given"
     ]
    }
   ],
   "source": [
    "calcula_media(10, 5, 8,97)"
   ]
  },
  {
   "cell_type": "code",
   "execution_count": 49,
   "metadata": {
    "id": "yPMwSjd5ncOw"
   },
   "outputs": [],
   "source": [
    "def calcula_media(*args):\n",
    "    print(args)\n",
    "    soma = sum(args)\n",
    "    tamanho_lista = len(args)\n",
    "    return soma/tamanho_lista"
   ]
  },
  {
   "cell_type": "code",
   "execution_count": 50,
   "metadata": {
    "colab": {
     "base_uri": "https://localhost:8080/"
    },
    "executionInfo": {
     "elapsed": 260,
     "status": "ok",
     "timestamp": 1665165815378,
     "user": {
      "displayName": "Gilberto Kaihami",
      "userId": "07651446941847976228"
     },
     "user_tz": 180
    },
    "id": "VGmSdRgIndYe",
    "outputId": "1072b02c-9895-4b5e-a0bf-6702b86a0f2c"
   },
   "outputs": [
    {
     "name": "stdout",
     "output_type": "stream",
     "text": [
      "(1, 2, 3, 4, 5)\n"
     ]
    },
    {
     "data": {
      "text/plain": [
       "3.0"
      ]
     },
     "execution_count": 50,
     "metadata": {},
     "output_type": "execute_result"
    }
   ],
   "source": [
    "calcula_media(1, 2, 3, 4, 5)"
   ]
  },
  {
   "cell_type": "code",
   "execution_count": 51,
   "metadata": {
    "colab": {
     "base_uri": "https://localhost:8080/"
    },
    "executionInfo": {
     "elapsed": 274,
     "status": "ok",
     "timestamp": 1665165822286,
     "user": {
      "displayName": "Gilberto Kaihami",
      "userId": "07651446941847976228"
     },
     "user_tz": 180
    },
    "id": "35ns73wpnerK",
    "outputId": "925482e7-79ee-4474-98f4-8d13df7ad56a"
   },
   "outputs": [
    {
     "name": "stdout",
     "output_type": "stream",
     "text": [
      "(10, 5, 8)\n"
     ]
    },
    {
     "data": {
      "text/plain": [
       "7.666666666666667"
      ]
     },
     "execution_count": 51,
     "metadata": {},
     "output_type": "execute_result"
    }
   ],
   "source": [
    "calcula_media(10, 5, 8)"
   ]
  },
  {
   "cell_type": "markdown",
   "metadata": {},
   "source": [
    "### Utilizando valores default para parâmetros"
   ]
  },
  {
   "cell_type": "code",
   "execution_count": 52,
   "metadata": {
    "id": "2LJ4kEUTnozc"
   },
   "outputs": [],
   "source": [
    "# Utilizando um parâmetro padrão para b\n",
    "def media_de_dois_n(a, b=10):\n",
    "    \"\"\"Considera apenas os dois primeiros números para média\"\"\"\n",
    "    return (a + b) / 2"
   ]
  },
  {
   "cell_type": "code",
   "execution_count": 53,
   "metadata": {
    "colab": {
     "base_uri": "https://localhost:8080/"
    },
    "executionInfo": {
     "elapsed": 247,
     "status": "ok",
     "timestamp": 1665165868593,
     "user": {
      "displayName": "Gilberto Kaihami",
      "userId": "07651446941847976228"
     },
     "user_tz": 180
    },
    "id": "Fz9mdgPfnqko",
    "outputId": "0ad756b9-c679-4499-ecc5-b675b4df74d4"
   },
   "outputs": [
    {
     "data": {
      "text/plain": [
       "1.5"
      ]
     },
     "execution_count": 53,
     "metadata": {},
     "output_type": "execute_result"
    }
   ],
   "source": [
    "media_de_dois_n(1,2)"
   ]
  },
  {
   "cell_type": "code",
   "execution_count": 54,
   "metadata": {
    "colab": {
     "base_uri": "https://localhost:8080/"
    },
    "executionInfo": {
     "elapsed": 384,
     "status": "ok",
     "timestamp": 1665165872881,
     "user": {
      "displayName": "Gilberto Kaihami",
      "userId": "07651446941847976228"
     },
     "user_tz": 180
    },
    "id": "u9BistRxnrrW",
    "outputId": "ef1153a6-c000-4edb-8aa0-ed4ee8e00738"
   },
   "outputs": [
    {
     "data": {
      "text/plain": [
       "5.5"
      ]
     },
     "execution_count": 54,
     "metadata": {},
     "output_type": "execute_result"
    }
   ],
   "source": [
    "media_de_dois_n(1)"
   ]
  },
  {
   "cell_type": "code",
   "execution_count": 55,
   "metadata": {},
   "outputs": [
    {
     "data": {
      "text/plain": [
       "1.5"
      ]
     },
     "execution_count": 55,
     "metadata": {},
     "output_type": "execute_result"
    }
   ],
   "source": [
    "media_de_dois_n(b=1,a=2)"
   ]
  },
  {
   "cell_type": "code",
   "execution_count": 57,
   "metadata": {},
   "outputs": [
    {
     "data": {
      "text/plain": [
       "7.5"
      ]
     },
     "execution_count": 57,
     "metadata": {},
     "output_type": "execute_result"
    }
   ],
   "source": [
    "media_de_dois_n(a=5)"
   ]
  },
  {
   "cell_type": "code",
   "execution_count": 56,
   "metadata": {},
   "outputs": [
    {
     "ename": "TypeError",
     "evalue": "media_de_dois_n() missing 1 required positional argument: 'a'",
     "output_type": "error",
     "traceback": [
      "\u001b[1;31m---------------------------------------------------------------------------\u001b[0m",
      "\u001b[1;31mTypeError\u001b[0m                                 Traceback (most recent call last)",
      "\u001b[1;32m~\\AppData\\Local\\Temp/ipykernel_7928/2780401257.py\u001b[0m in \u001b[0;36m<module>\u001b[1;34m\u001b[0m\n\u001b[1;32m----> 1\u001b[1;33m \u001b[0mmedia_de_dois_n\u001b[0m\u001b[1;33m(\u001b[0m\u001b[0mb\u001b[0m\u001b[1;33m=\u001b[0m\u001b[1;36m1\u001b[0m\u001b[1;33m)\u001b[0m\u001b[1;33m\u001b[0m\u001b[1;33m\u001b[0m\u001b[0m\n\u001b[0m",
      "\u001b[1;31mTypeError\u001b[0m: media_de_dois_n() missing 1 required positional argument: 'a'"
     ]
    }
   ],
   "source": [
    "media_de_dois_n(b=1)"
   ]
  },
  {
   "cell_type": "markdown",
   "metadata": {
    "id": "A9iMe0_foP6z"
   },
   "source": [
    "### Funções com parâmetros opcionais\n",
    "\n",
    "Também é possível fazer funções com **argumentos opcionais**, que são indicados com **dois asteriscos**\n",
    "\n",
    "- Os parâmetros passados são **agrupados em um dicionário**: o nome do parâmetro será uma chave, e o valor será o valor.\n",
    "\n",
    "O exemplo abaixo cadastra usuários em uma base de dados.\n",
    "\n",
    "Até agora, sabemos apenas definir funções com argumentos **obrigatórios**: se algum deles não for passado, a função nos avisará isso!"
   ]
  },
  {
   "cell_type": "code",
   "execution_count": 6,
   "metadata": {
    "id": "WALlV4gWoNqm"
   },
   "outputs": [],
   "source": [
    "def soma(a, b, c):\n",
    "    return a + b + c"
   ]
  },
  {
   "cell_type": "code",
   "execution_count": 7,
   "metadata": {
    "colab": {
     "base_uri": "https://localhost:8080/"
    },
    "executionInfo": {
     "elapsed": 257,
     "status": "ok",
     "timestamp": 1665166036401,
     "user": {
      "displayName": "Gilberto Kaihami",
      "userId": "07651446941847976228"
     },
     "user_tz": 180
    },
    "id": "C_mQ84ShoThA",
    "outputId": "f4a57247-0df8-436e-e4ec-f5b942547891"
   },
   "outputs": [
    {
     "data": {
      "text/plain": [
       "6"
      ]
     },
     "execution_count": 7,
     "metadata": {},
     "output_type": "execute_result"
    }
   ],
   "source": [
    "soma(1, 2, 3)"
   ]
  },
  {
   "cell_type": "code",
   "execution_count": 8,
   "metadata": {
    "colab": {
     "base_uri": "https://localhost:8080/",
     "height": 166
    },
    "executionInfo": {
     "elapsed": 538,
     "status": "error",
     "timestamp": 1665166041864,
     "user": {
      "displayName": "Gilberto Kaihami",
      "userId": "07651446941847976228"
     },
     "user_tz": 180
    },
    "id": "0K6velDkoUot",
    "outputId": "fef2163f-93f3-4dfe-87db-056a5c55dd49"
   },
   "outputs": [
    {
     "ename": "TypeError",
     "evalue": "soma() missing 2 required positional arguments: 'b' and 'c'",
     "output_type": "error",
     "traceback": [
      "\u001b[1;31m---------------------------------------------------------------------------\u001b[0m",
      "\u001b[1;31mTypeError\u001b[0m                                 Traceback (most recent call last)",
      "\u001b[1;32m~\\AppData\\Local\\Temp/ipykernel_14200/2514445543.py\u001b[0m in \u001b[0;36m<module>\u001b[1;34m\u001b[0m\n\u001b[0;32m      1\u001b[0m \u001b[1;31m#Inserindo apenas um parâmetro\u001b[0m\u001b[1;33m\u001b[0m\u001b[1;33m\u001b[0m\u001b[0m\n\u001b[1;32m----> 2\u001b[1;33m \u001b[0msoma\u001b[0m\u001b[1;33m(\u001b[0m\u001b[1;36m1\u001b[0m\u001b[1;33m)\u001b[0m\u001b[1;33m\u001b[0m\u001b[1;33m\u001b[0m\u001b[0m\n\u001b[0m",
      "\u001b[1;31mTypeError\u001b[0m: soma() missing 2 required positional arguments: 'b' and 'c'"
     ]
    }
   ],
   "source": [
    "#Inserindo apenas um parâmetro\n",
    "soma(1)"
   ]
  },
  {
   "cell_type": "code",
   "execution_count": 9,
   "metadata": {
    "colab": {
     "base_uri": "https://localhost:8080/"
    },
    "executionInfo": {
     "elapsed": 352,
     "status": "ok",
     "timestamp": 1665166045839,
     "user": {
      "displayName": "Gilberto Kaihami",
      "userId": "07651446941847976228"
     },
     "user_tz": 180
    },
    "id": "e1UcHAE4oV4G",
    "outputId": "cac47eda-daae-4e3f-eb6f-9315722d2ba8"
   },
   "outputs": [
    {
     "data": {
      "text/plain": [
       "6"
      ]
     },
     "execution_count": 9,
     "metadata": {},
     "output_type": "execute_result"
    }
   ],
   "source": [
    "soma(a=1, b=2, c=3)"
   ]
  },
  {
   "cell_type": "code",
   "execution_count": 10,
   "metadata": {
    "colab": {
     "base_uri": "https://localhost:8080/"
    },
    "executionInfo": {
     "elapsed": 2,
     "status": "ok",
     "timestamp": 1665166051228,
     "user": {
      "displayName": "Gilberto Kaihami",
      "userId": "07651446941847976228"
     },
     "user_tz": 180
    },
    "id": "xUWnP_nGoW66",
    "outputId": "0a750727-9d87-4acb-e423-eb771021af5f"
   },
   "outputs": [
    {
     "data": {
      "text/plain": [
       "6"
      ]
     },
     "execution_count": 10,
     "metadata": {},
     "output_type": "execute_result"
    }
   ],
   "source": [
    "#Invertendo a ordem dos parâmetros\n",
    "soma(b=2, a=1, c=3)"
   ]
  },
  {
   "cell_type": "code",
   "execution_count": 11,
   "metadata": {
    "colab": {
     "base_uri": "https://localhost:8080/",
     "height": 166
    },
    "executionInfo": {
     "elapsed": 296,
     "status": "error",
     "timestamp": 1665166055053,
     "user": {
      "displayName": "Gilberto Kaihami",
      "userId": "07651446941847976228"
     },
     "user_tz": 180
    },
    "id": "KhyNjQQDoYL1",
    "outputId": "da5eac96-c28b-4c71-c6c8-b4ef16235e8d"
   },
   "outputs": [
    {
     "ename": "TypeError",
     "evalue": "soma() missing 1 required positional argument: 'c'",
     "output_type": "error",
     "traceback": [
      "\u001b[1;31m---------------------------------------------------------------------------\u001b[0m",
      "\u001b[1;31mTypeError\u001b[0m                                 Traceback (most recent call last)",
      "\u001b[1;32m~\\AppData\\Local\\Temp/ipykernel_14200/4293981749.py\u001b[0m in \u001b[0;36m<module>\u001b[1;34m\u001b[0m\n\u001b[0;32m      1\u001b[0m \u001b[1;31m#Inserindo apenas dois parâmetros\u001b[0m\u001b[1;33m\u001b[0m\u001b[1;33m\u001b[0m\u001b[0m\n\u001b[1;32m----> 2\u001b[1;33m \u001b[0msoma\u001b[0m\u001b[1;33m(\u001b[0m\u001b[0mb\u001b[0m\u001b[1;33m=\u001b[0m\u001b[1;36m2\u001b[0m\u001b[1;33m,\u001b[0m \u001b[0ma\u001b[0m\u001b[1;33m=\u001b[0m\u001b[1;36m1\u001b[0m\u001b[1;33m)\u001b[0m\u001b[1;33m\u001b[0m\u001b[1;33m\u001b[0m\u001b[0m\n\u001b[0m",
      "\u001b[1;31mTypeError\u001b[0m: soma() missing 1 required positional argument: 'c'"
     ]
    }
   ],
   "source": [
    "#Inserindo apenas dois parâmetros\n",
    "soma(b=2, a=1)"
   ]
  },
  {
   "cell_type": "code",
   "execution_count": 12,
   "metadata": {
    "id": "CAjoXnjjoZLF"
   },
   "outputs": [],
   "source": [
    "#Criando função com parâmetro default\n",
    "def soma(a, b, c=0):\n",
    "    print(f'a={a}, b={b}, c={c}')\n",
    "    return a + b + c"
   ]
  },
  {
   "cell_type": "code",
   "execution_count": 13,
   "metadata": {
    "colab": {
     "base_uri": "https://localhost:8080/"
    },
    "executionInfo": {
     "elapsed": 295,
     "status": "ok",
     "timestamp": 1665166083507,
     "user": {
      "displayName": "Gilberto Kaihami",
      "userId": "07651446941847976228"
     },
     "user_tz": 180
    },
    "id": "My2EEbT7obDA",
    "outputId": "a1de8c3f-b641-41e4-f0b3-385d569557c7"
   },
   "outputs": [
    {
     "name": "stdout",
     "output_type": "stream",
     "text": [
      "a=1, b=2, c=0\n"
     ]
    },
    {
     "data": {
      "text/plain": [
       "3"
      ]
     },
     "execution_count": 13,
     "metadata": {},
     "output_type": "execute_result"
    }
   ],
   "source": [
    "soma(a=1, b=2)"
   ]
  },
  {
   "cell_type": "code",
   "execution_count": 14,
   "metadata": {
    "colab": {
     "base_uri": "https://localhost:8080/"
    },
    "executionInfo": {
     "elapsed": 311,
     "status": "ok",
     "timestamp": 1665166090178,
     "user": {
      "displayName": "Gilberto Kaihami",
      "userId": "07651446941847976228"
     },
     "user_tz": 180
    },
    "id": "4HkGKGYbogG4",
    "outputId": "dbfaa316-e4cf-413e-ddbb-4fc282fa99cc"
   },
   "outputs": [
    {
     "name": "stdout",
     "output_type": "stream",
     "text": [
      "a=1, b=2, c=3\n"
     ]
    },
    {
     "data": {
      "text/plain": [
       "6"
      ]
     },
     "execution_count": 14,
     "metadata": {},
     "output_type": "execute_result"
    }
   ],
   "source": [
    "soma(a=1, b=2, c=3)"
   ]
  },
  {
   "cell_type": "code",
   "execution_count": 15,
   "metadata": {
    "colab": {
     "base_uri": "https://localhost:8080/"
    },
    "executionInfo": {
     "elapsed": 248,
     "status": "ok",
     "timestamp": 1665166096515,
     "user": {
      "displayName": "Gilberto Kaihami",
      "userId": "07651446941847976228"
     },
     "user_tz": 180
    },
    "id": "IPLWurUfohuL",
    "outputId": "c90adda6-b096-4cfb-a3f2-0611993aee33"
   },
   "outputs": [
    {
     "name": "stdout",
     "output_type": "stream",
     "text": [
      "a=3, b=2, c=1\n"
     ]
    },
    {
     "data": {
      "text/plain": [
       "6"
      ]
     },
     "execution_count": 15,
     "metadata": {},
     "output_type": "execute_result"
    }
   ],
   "source": [
    "soma(c=1, b=2, a=3)"
   ]
  },
  {
   "cell_type": "code",
   "execution_count": 18,
   "metadata": {},
   "outputs": [],
   "source": [
    "def soma(**kwargs):\n",
    "    print(valores)"
   ]
  },
  {
   "cell_type": "code",
   "execution_count": 20,
   "metadata": {
    "scrolled": true
   },
   "outputs": [
    {
     "name": "stdout",
     "output_type": "stream",
     "text": [
      "{'a': 1, 'b': 2, 'c': 3, 'turma': 1007}\n"
     ]
    }
   ],
   "source": [
    "soma(a=1,b=2,c=3,turma=1007)"
   ]
  },
  {
   "cell_type": "code",
   "execution_count": 21,
   "metadata": {
    "id": "H-a8MMhyok1e"
   },
   "outputs": [],
   "source": [
    "def cadastro(cpf, nome, imprime_dados=[]):\n",
    "    if 'cpf' in imprime_dados and 'nome' in imprime_dados:\n",
    "        print(f'O CPF do usuário cadastrado é {cpf}')\n",
    "        print(f'O nome do usuário cadastrado é {nome}')\n",
    "    elif 'cpf' in imprime_dados:\n",
    "        print(f'O CPF do usuário cadastrado é {cpf}')\n",
    "    elif 'nome' in imprime_dados:\n",
    "        print(f'O nome do usuário cadastrado é {nome}')\n",
    "    else:\n",
    "        print(f'O CPF do usuário cadastrado é {cpf}')\n",
    "        print(f'O nome do usuário cadastrado é {nome}')"
   ]
  },
  {
   "cell_type": "code",
   "execution_count": 22,
   "metadata": {
    "colab": {
     "base_uri": "https://localhost:8080/"
    },
    "executionInfo": {
     "elapsed": 3,
     "status": "ok",
     "timestamp": 1665166119175,
     "user": {
      "displayName": "Gilberto Kaihami",
      "userId": "07651446941847976228"
     },
     "user_tz": 180
    },
    "id": "ARsxnPJfojS_",
    "outputId": "18cb46e0-f618-4b00-811b-0a928ba348d8"
   },
   "outputs": [
    {
     "name": "stdout",
     "output_type": "stream",
     "text": [
      "O CPF do usuário cadastrado é 39784512357\n",
      "O nome do usuário cadastrado é Maria da Silva\n"
     ]
    }
   ],
   "source": [
    "cadastro(39784512357, 'Maria da Silva')"
   ]
  },
  {
   "cell_type": "code",
   "execution_count": 23,
   "metadata": {
    "colab": {
     "base_uri": "https://localhost:8080/",
     "height": 166
    },
    "executionInfo": {
     "elapsed": 310,
     "status": "error",
     "timestamp": 1665166125916,
     "user": {
      "displayName": "Gilberto Kaihami",
      "userId": "07651446941847976228"
     },
     "user_tz": 180
    },
    "id": "JDJXIuqToozt",
    "outputId": "b865b9b4-bba2-431a-aded-6777f496e3b1"
   },
   "outputs": [
    {
     "ename": "TypeError",
     "evalue": "cadastro() missing 1 required positional argument: 'nome'",
     "output_type": "error",
     "traceback": [
      "\u001b[1;31m---------------------------------------------------------------------------\u001b[0m",
      "\u001b[1;31mTypeError\u001b[0m                                 Traceback (most recent call last)",
      "\u001b[1;32m~\\AppData\\Local\\Temp/ipykernel_14200/2903798969.py\u001b[0m in \u001b[0;36m<module>\u001b[1;34m\u001b[0m\n\u001b[1;32m----> 1\u001b[1;33m \u001b[0mcadastro\u001b[0m\u001b[1;33m(\u001b[0m\u001b[1;36m39784512357\u001b[0m\u001b[1;33m)\u001b[0m\u001b[1;33m\u001b[0m\u001b[1;33m\u001b[0m\u001b[0m\n\u001b[0m",
      "\u001b[1;31mTypeError\u001b[0m: cadastro() missing 1 required positional argument: 'nome'"
     ]
    }
   ],
   "source": [
    "cadastro(39784512357)"
   ]
  },
  {
   "cell_type": "code",
   "execution_count": 24,
   "metadata": {
    "colab": {
     "base_uri": "https://localhost:8080/"
    },
    "executionInfo": {
     "elapsed": 3,
     "status": "ok",
     "timestamp": 1665166132279,
     "user": {
      "displayName": "Gilberto Kaihami",
      "userId": "07651446941847976228"
     },
     "user_tz": 180
    },
    "id": "pvbjp3-Ooqcx",
    "outputId": "0b914e4d-969c-49e6-c72b-66db1f0cd5af"
   },
   "outputs": [
    {
     "name": "stdout",
     "output_type": "stream",
     "text": [
      "O nome do usuário cadastrado é Maria da Silva\n"
     ]
    }
   ],
   "source": [
    "cadastro(39784512357, 'Maria da Silva', imprime_dados=['nome'])"
   ]
  },
  {
   "cell_type": "code",
   "execution_count": 25,
   "metadata": {
    "colab": {
     "base_uri": "https://localhost:8080/"
    },
    "executionInfo": {
     "elapsed": 2,
     "status": "ok",
     "timestamp": 1665166139371,
     "user": {
      "displayName": "Gilberto Kaihami",
      "userId": "07651446941847976228"
     },
     "user_tz": 180
    },
    "id": "iD-hp7oFosDd",
    "outputId": "2086c24f-570f-4c0d-c969-c91eb2c7d7b6"
   },
   "outputs": [
    {
     "name": "stdout",
     "output_type": "stream",
     "text": [
      "O CPF do usuário cadastrado é 39784512357\n",
      "O nome do usuário cadastrado é Maria da Silva\n"
     ]
    }
   ],
   "source": [
    "cadastro(39784512357, 'Maria da Silva', imprime_dados=['nome', 'cpf'])"
   ]
  },
  {
   "cell_type": "code",
   "execution_count": 26,
   "metadata": {
    "colab": {
     "base_uri": "https://localhost:8080/"
    },
    "executionInfo": {
     "elapsed": 251,
     "status": "ok",
     "timestamp": 1665166143367,
     "user": {
      "displayName": "Gilberto Kaihami",
      "userId": "07651446941847976228"
     },
     "user_tz": 180
    },
    "id": "UcYNsBG9otkH",
    "outputId": "26470f91-b8c7-4c25-f275-419f1f21e1b0"
   },
   "outputs": [
    {
     "name": "stdout",
     "output_type": "stream",
     "text": [
      "O CPF do usuário cadastrado é 39784512357\n"
     ]
    }
   ],
   "source": [
    "cadastro(39784512357, 'Maria da Silva', imprime_dados=['cpf'])"
   ]
  },
  {
   "cell_type": "markdown",
   "metadata": {
    "id": "SQnTsDr8pA4E"
   },
   "source": [
    " Podemos modificar a função para que um usuário possa fornecer unicamente seu nome e CPF; ou ambos, opcionalmente."
   ]
  },
  {
   "cell_type": "code",
   "execution_count": 32,
   "metadata": {
    "id": "pnMzA63Zo-_Z"
   },
   "outputs": [],
   "source": [
    "def cadastro(**usuario):\n",
    "    \"\"\"\n",
    "    usuarios:\n",
    "        - cpf: corresponde ao cpf do usuario\n",
    "        - nome: corresponde ao nome do usuario\n",
    "    \"\"\"\n",
    "    #print(usuario)\n",
    "    if 'nome' not in usuario and 'cpf' not in usuario:\n",
    "        print('Nenhum cadastro encontrado')\n",
    "    else:\n",
    "        if 'nome' in usuario:\n",
    "            print(f'O nome do usuário cadastrado é {usuario[\"nome\"]}')\n",
    "        if 'cpf' in usuario:\n",
    "            print(f'O CPF do usuário cadastrado é {usuario[\"cpf\"]}')"
   ]
  },
  {
   "cell_type": "code",
   "execution_count": null,
   "metadata": {},
   "outputs": [],
   "source": [
    "def cadastro(\"nome\",\"cpf\",**usuario):\n",
    "    - endereco\n",
    "    - rg\n",
    "    - titulo eleitor"
   ]
  },
  {
   "cell_type": "code",
   "execution_count": 28,
   "metadata": {
    "colab": {
     "base_uri": "https://localhost:8080/"
    },
    "executionInfo": {
     "elapsed": 3,
     "status": "ok",
     "timestamp": 1665166357448,
     "user": {
      "displayName": "Gilberto Kaihami",
      "userId": "07651446941847976228"
     },
     "user_tz": 180
    },
    "id": "50VdoYxrpEFS",
    "outputId": "45555f86-fc59-4592-80a2-be78c3313245"
   },
   "outputs": [
    {
     "name": "stdout",
     "output_type": "stream",
     "text": [
      "{'cpf': 1234876479}\n",
      "O CPF do usuário cadastrado é 1234876479\n"
     ]
    }
   ],
   "source": [
    "cadastro(cpf=1234876479)"
   ]
  },
  {
   "cell_type": "code",
   "execution_count": 29,
   "metadata": {
    "colab": {
     "base_uri": "https://localhost:8080/"
    },
    "executionInfo": {
     "elapsed": 312,
     "status": "ok",
     "timestamp": 1665166361960,
     "user": {
      "displayName": "Gilberto Kaihami",
      "userId": "07651446941847976228"
     },
     "user_tz": 180
    },
    "id": "m75VsImMpjHo",
    "outputId": "a1d1a0d9-a5ef-4f36-cf4d-36624cd514c3"
   },
   "outputs": [
    {
     "name": "stdout",
     "output_type": "stream",
     "text": [
      "{'cpf': 1234876479, 'nome': 'Maria de Belem'}\n",
      "O nome do usuário cadastrado é Maria de Belem\n",
      "O CPF do usuário cadastrado é 1234876479\n"
     ]
    }
   ],
   "source": [
    "cadastro(cpf=1234876479, nome='Maria de Belem')"
   ]
  },
  {
   "cell_type": "code",
   "execution_count": 30,
   "metadata": {
    "colab": {
     "base_uri": "https://localhost:8080/"
    },
    "executionInfo": {
     "elapsed": 256,
     "status": "ok",
     "timestamp": 1665166369371,
     "user": {
      "displayName": "Gilberto Kaihami",
      "userId": "07651446941847976228"
     },
     "user_tz": 180
    },
    "id": "ntqdoTAMpkD3",
    "outputId": "d815302f-91b4-4ebf-ece1-eec73d3438fc",
    "scrolled": true
   },
   "outputs": [
    {
     "name": "stdout",
     "output_type": "stream",
     "text": [
      "{'nome': 'Maria de Belem'}\n",
      "O nome do usuário cadastrado é Maria de Belem\n"
     ]
    }
   ],
   "source": [
    "cadastro(nome='Maria de Belem')"
   ]
  },
  {
   "cell_type": "code",
   "execution_count": 33,
   "metadata": {},
   "outputs": [
    {
     "name": "stdout",
     "output_type": "stream",
     "text": [
      "O nome do usuário cadastrado é Maria de Belem\n",
      "O CPF do usuário cadastrado é 1234876479\n"
     ]
    }
   ],
   "source": [
    "cadastro(cpf=1234876479, nome='Maria de Belem', time=\"Flamengo\")"
   ]
  },
  {
   "cell_type": "code",
   "execution_count": 39,
   "metadata": {},
   "outputs": [
    {
     "name": "stdout",
     "output_type": "stream",
     "text": [
      "Nenhum cadastro encontrado\n"
     ]
    }
   ],
   "source": [
    "cadastro(time=\"Flamengo\")"
   ]
  },
  {
   "cell_type": "code",
   "execution_count": 34,
   "metadata": {},
   "outputs": [
    {
     "name": "stdout",
     "output_type": "stream",
     "text": [
      "O nome do usuário cadastrado é Maria\n",
      "O CPF do usuário cadastrado é 2468135790\n"
     ]
    }
   ],
   "source": [
    "# Cadastro a partir de um dicionário\n",
    "maria = {'nome':'Maria', 'cpf': 2468135790}\n",
    "cadastro(**maria)"
   ]
  },
  {
   "cell_type": "code",
   "execution_count": 35,
   "metadata": {
    "colab": {
     "base_uri": "https://localhost:8080/"
    },
    "executionInfo": {
     "elapsed": 307,
     "status": "ok",
     "timestamp": 1665166430876,
     "user": {
      "displayName": "Gilberto Kaihami",
      "userId": "07651446941847976228"
     },
     "user_tz": 180
    },
    "id": "OMlGvBEUpr9S",
    "outputId": "c5aaf718-11e8-4240-b51f-d08a47166397"
   },
   "outputs": [],
   "source": [
    "def teste(*args, **kwargs):\n",
    "    print(f'args={args}')\n",
    "    print(f'kwargs={kwargs}')"
   ]
  },
  {
   "cell_type": "code",
   "execution_count": 36,
   "metadata": {},
   "outputs": [
    {
     "name": "stdout",
     "output_type": "stream",
     "text": [
      "args=(1, 2, 3)\n",
      "kwargs={'a': 20, 'b': 30}\n"
     ]
    }
   ],
   "source": [
    "teste(1, 2, 3, a=20, b=30)"
   ]
  },
  {
   "cell_type": "code",
   "execution_count": 37,
   "metadata": {
    "colab": {
     "base_uri": "https://localhost:8080/"
    },
    "executionInfo": {
     "elapsed": 2,
     "status": "ok",
     "timestamp": 1665166435373,
     "user": {
      "displayName": "Gilberto Kaihami",
      "userId": "07651446941847976228"
     },
     "user_tz": 180
    },
    "id": "ss0zunNnpyJ7",
    "outputId": "54856d0c-801e-4b25-eb86-6c5dec21ee8d"
   },
   "outputs": [
    {
     "name": "stdout",
     "output_type": "stream",
     "text": [
      "args=(1, 2, 3)\n",
      "kwargs={}\n"
     ]
    }
   ],
   "source": [
    "teste(1, 2, 3)"
   ]
  },
  {
   "cell_type": "code",
   "execution_count": 38,
   "metadata": {
    "colab": {
     "base_uri": "https://localhost:8080/"
    },
    "executionInfo": {
     "elapsed": 446,
     "status": "ok",
     "timestamp": 1665166444086,
     "user": {
      "displayName": "Gilberto Kaihami",
      "userId": "07651446941847976228"
     },
     "user_tz": 180
    },
    "id": "CVGTEJ-3p3yb",
    "outputId": "ef7a8827-917e-4d28-844e-8a26321f2b82"
   },
   "outputs": [
    {
     "name": "stdout",
     "output_type": "stream",
     "text": [
      "args=()\n",
      "kwargs={'a': 20, 'b': 30}\n"
     ]
    }
   ],
   "source": [
    "teste(a=20, b=30)"
   ]
  },
  {
   "cell_type": "markdown",
   "metadata": {
    "id": "NbZK8RcXqmzx"
   },
   "source": [
    "**Desafio**\n",
    "\n",
    "Crie um sistema de cadastro de produtos. Neste sistema podemos:\n",
    "- Adicionar um novo produto\n",
    "- Remover um produto da base\n",
    "- Consultar quais são os produtos cadastrados\n",
    "- Consultas quais os produtos cadastrados e suas quantidades disponíveis\n",
    "- Adicionar informações extras por produto (descrição por exemplo)\n",
    "- Adicionar ao estoque de um produto\n",
    "- Remover do estoque um produto (nota, o total em estoque não pode ser menor que 0)\n",
    "\n",
    "Para tal crie as seguintes funções:\n",
    "- cadastre_produto\n",
    "- delete_produto\n",
    "- adicione_produto_estoque\n",
    "- remova_produto_estoque\n",
    "- consulte_produtos\n",
    "- consulte_quantidade\n",
    "- consulte_descricao_produto\n",
    "- ative_sistema\n",
    "  - Essa função irá gerenciar todas as funções acima (como um sistema central)\n",
    "\n",
    "Os atributos possíveis são:\n",
    "- Nome do produto\n",
    "- Quantidade do produto\n",
    "- descrição\n",
    "- Informações adicionais"
   ]
  },
  {
   "cell_type": "code",
   "execution_count": null,
   "metadata": {
    "id": "F08f7nhBqYIH"
   },
   "outputs": [],
   "source": [
    "def cadastre_produto():\n",
    "  \"\"\"Essa função cadastra um novo produto com os campos:\n",
    "    - nome do produto (obrigatório)\n",
    "    - quantidade (opcional)\n",
    "    - descrição (opcional)\n",
    "    - outros campos\n",
    "  \"\"\"\n",
    "\n",
    "def delete_produto():\n",
    "  \"\"\" Essa função deleta um produto da base pelo `nome do produto`\n",
    "  \"\"\"\n",
    "\n",
    "def adicione_produto_estoque():\n",
    "  \"\"\" Essa função adiciona ao estoque uma quantidade de um dado produto\n",
    "      Nota: Não pode ser aceito quantidade negativas\n",
    "  \"\"\"\n",
    "\n",
    "def remova_produto_estoque():\n",
    "  \"\"\" Essa função remove do estoque uma quantidade de um dado produto\n",
    "      Nota: Não pode ser aceito quantidade negativas\n",
    "  \"\"\"\n",
    "\n",
    "def consulte_produtos():\n",
    "  \"\"\" Essa função mostra os produtos disponíveis no sistema (somente nome)\n",
    "  \"\"\"\n",
    "\n",
    "def consulte_quantidade():\n",
    "  \"\"\" Essa função mostra os produtos e a quantidade disponíveis no sistema\n",
    "  \"\"\"\n",
    "\n",
    "def consulte_descricao_produto():\n",
    "  \"\"\" Essa função mostra a descrição e as Informações adicionais de um dado produto\n",
    "  \"\"\"\n",
    "\n",
    "def ative_sistema():\n",
    "  \"\"\" Essa função aceita as interações do usuário, coordenando qual ação deve ser tomada\n",
    "      Cada ação refere-se as funções desenvolvidas acima.\n",
    "      Nota: o que fazer se for inserida uma ação inválida?\n",
    "  \"\"\"\n"
   ]
  }
 ],
 "metadata": {
  "colab": {
   "authorship_tag": "ABX9TyPy87b8whmoZ4H7sZ7z482L",
   "collapsed_sections": [],
   "provenance": []
  },
  "kernelspec": {
   "display_name": "Python 3 (ipykernel)",
   "language": "python",
   "name": "python3"
  },
  "language_info": {
   "codemirror_mode": {
    "name": "ipython",
    "version": 3
   },
   "file_extension": ".py",
   "mimetype": "text/x-python",
   "name": "python",
   "nbconvert_exporter": "python",
   "pygments_lexer": "ipython3",
   "version": "3.9.7"
  }
 },
 "nbformat": 4,
 "nbformat_minor": 1
}
