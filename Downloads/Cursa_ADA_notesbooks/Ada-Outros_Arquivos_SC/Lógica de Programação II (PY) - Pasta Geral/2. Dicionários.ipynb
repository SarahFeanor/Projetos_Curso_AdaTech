{
 "cells": [
  {
   "cell_type": "markdown",
   "metadata": {
    "id": "6c_oKJuZ9Qp5"
   },
   "source": [
    "## Lógica de programação II - Dicionários\n",
    "\n",
    "Na aula de hoje, iremos explorar os seguintes tópicos em Python:\n",
    "- Dicionários\n"
   ]
  },
  {
   "cell_type": "markdown",
   "metadata": {
    "id": "1HUp71Tj9WbW"
   },
   "source": [
    "### Dicionários\n",
    "\n",
    "Uma outra estrutura de dados bem importante em Python são os **dicionários**.\n",
    "\n",
    "O dicionário também é uma **coleção de dados**.\n",
    "\n",
    "A diferença é que um dicionário é definido a partir de **dois elementos**: uma **chave** e um **valor**.\n",
    "\n",
    "- A **chave** é uma string, int que é utilizada como se fosse um índice, identificando os respectivos valores.\n",
    "\n",
    "- O **valor** pode ser qualquer dado: um int, um float, uma str, um bool, uma lista, uma tupla, outro dicionário...\n",
    "\n"
   ]
  },
  {
   "cell_type": "markdown",
   "metadata": {
    "id": "bcGKF2w4wh5y"
   },
   "source": [
    "Dicionários são indicados **entre chaves {}** segundo a estrutura:\n",
    "```python\n",
    "dicionario = {\"chave\": valor}\n",
    "```"
   ]
  },
  {
   "cell_type": "code",
   "execution_count": 7,
   "metadata": {},
   "outputs": [
    {
     "name": "stdout",
     "output_type": "stream",
     "text": [
      "{'Nome': 'Sergio', 'Idade': 35, 'Estado': 'RJ'}\n"
     ]
    }
   ],
   "source": [
    "dicionario = {'Nome':\"Sergio\", \"Idade\":35,\"Estado\":\"RJ\"}\n",
    "print(dicionario)"
   ]
  },
  {
   "cell_type": "code",
   "execution_count": 9,
   "metadata": {
    "colab": {
     "base_uri": "https://localhost:8080/"
    },
    "executionInfo": {
     "elapsed": 9,
     "status": "ok",
     "timestamp": 1664732091708,
     "user": {
      "displayName": "Gilberto Kaihami",
      "userId": "07651446941847976228"
     },
     "user_tz": 180
    },
    "id": "1DvgGEEH8KQ1",
    "outputId": "535f285d-4dfe-4e96-f0d9-3c286136e2c5"
   },
   "outputs": [
    {
     "name": "stdout",
     "output_type": "stream",
     "text": [
      "{'nome': 'Sergio', 'idade': 35, 'Estado': 'RJ', 'Altura': 1.84, 'Filhos': False, 'coord': [-12, 25], 'notas': {'p1': 9.5, 'p2': 8.9}}\n"
     ]
    }
   ],
   "source": [
    "# Definindo um dicionário\n",
    "# Formato\n",
    "# {\n",
    "#    'chave': valor\n",
    "#    'chave': valor\n",
    "# }\n",
    "\n",
    "# Valores de um dicionário podem ser qualquer objeto!\n",
    "dicionario_do_sergio = {\"nome\": \"Sergio\", \"idade\":35, \"Estado\": \"RJ\", \"Altura\":1.84, \"Filhos\":False, \"coord\":[-12,25],\"notas\":{\"p1\":9.5,\"p2\":8.9}}\n",
    "print(dicionario_do_sergio)"
   ]
  },
  {
   "cell_type": "markdown",
   "metadata": {
    "id": "vQ9brwtMz-bL"
   },
   "source": [
    "Podemos acessar os valores do dicionário a partir das chaves"
   ]
  },
  {
   "cell_type": "code",
   "execution_count": 10,
   "metadata": {
    "colab": {
     "base_uri": "https://localhost:8080/",
     "height": 35
    },
    "executionInfo": {
     "elapsed": 10,
     "status": "ok",
     "timestamp": 1664732904718,
     "user": {
      "displayName": "Gilberto Kaihami",
      "userId": "07651446941847976228"
     },
     "user_tz": 180
    },
    "id": "O-nKlTdsw6pi",
    "outputId": "79cc184d-d774-4595-c81e-c1381e52889c"
   },
   "outputs": [
    {
     "data": {
      "text/plain": [
       "'Sergio'"
      ]
     },
     "execution_count": 10,
     "metadata": {},
     "output_type": "execute_result"
    }
   ],
   "source": [
    "dicionario_do_sergio['nome']"
   ]
  },
  {
   "cell_type": "code",
   "execution_count": 11,
   "metadata": {
    "colab": {
     "base_uri": "https://localhost:8080/",
     "height": 35
    },
    "executionInfo": {
     "elapsed": 5,
     "status": "ok",
     "timestamp": 1664732911130,
     "user": {
      "displayName": "Gilberto Kaihami",
      "userId": "07651446941847976228"
     },
     "user_tz": 180
    },
    "id": "LisVE95I0DmJ",
    "outputId": "85890bfb-670d-4013-fc81-7ade842519be"
   },
   "outputs": [
    {
     "data": {
      "text/plain": [
       "False"
      ]
     },
     "execution_count": 11,
     "metadata": {},
     "output_type": "execute_result"
    }
   ],
   "source": [
    "dicionario_do_sergio[\"Filhos\"]"
   ]
  },
  {
   "cell_type": "code",
   "execution_count": 12,
   "metadata": {
    "id": "yxtpucQ40FEy"
   },
   "outputs": [
    {
     "data": {
      "text/plain": [
       "[-12, 25]"
      ]
     },
     "execution_count": 12,
     "metadata": {},
     "output_type": "execute_result"
    }
   ],
   "source": [
    "dicionario_do_sergio['coord']"
   ]
  },
  {
   "cell_type": "code",
   "execution_count": 23,
   "metadata": {
    "colab": {
     "base_uri": "https://localhost:8080/"
    },
    "executionInfo": {
     "elapsed": 277,
     "status": "ok",
     "timestamp": 1664732935107,
     "user": {
      "displayName": "Gilberto Kaihami",
      "userId": "07651446941847976228"
     },
     "user_tz": 180
    },
    "id": "QGrvD1b70GfE",
    "outputId": "ac3816a5-b54c-4cd2-d5ec-f4afb494ba35"
   },
   "outputs": [],
   "source": [
    "#Criando um dicionario de cadastros\n",
    "\n",
    "cadastro = {\"nomes\":[\"Sergio\", \"Fulano\"], \"idades\":[35,42], \"estados\":[\"RJ\",\"AM\"]}"
   ]
  },
  {
   "cell_type": "code",
   "execution_count": 24,
   "metadata": {
    "colab": {
     "base_uri": "https://localhost:8080/"
    },
    "executionInfo": {
     "elapsed": 260,
     "status": "ok",
     "timestamp": 1664732938849,
     "user": {
      "displayName": "Gilberto Kaihami",
      "userId": "07651446941847976228"
     },
     "user_tz": 180
    },
    "id": "RlfAMx870LAx",
    "outputId": "0a9cee5f-29cf-4531-d8ae-501dfa227f73"
   },
   "outputs": [
    {
     "data": {
      "text/plain": [
       "'Sergio'"
      ]
     },
     "execution_count": 24,
     "metadata": {},
     "output_type": "execute_result"
    }
   ],
   "source": [
    "cadastro[\"nomes\"][0]"
   ]
  },
  {
   "cell_type": "markdown",
   "metadata": {
    "id": "mpgq6sQH0RG7"
   },
   "source": [
    "Poderíamos, ao invés de um dicionário, usar uma lista de listas, como abaixo.\n",
    "\n",
    "Porém, neste caso, fica bem menos intuitivo quando queremos selecionar os elementos que representam nomes ou cidades, porque somos obrigado a usar números para indexar, ao invés das chaves."
   ]
  },
  {
   "cell_type": "code",
   "execution_count": 25,
   "metadata": {
    "id": "QfHgva-S0L7I"
   },
   "outputs": [],
   "source": [
    "nomes = [\"Joãozinho\", \"Mariazinha\"]\n",
    "idades = [32, 25]\n",
    "alturas  = [1.8, 1.65]"
   ]
  },
  {
   "cell_type": "code",
   "execution_count": 26,
   "metadata": {
    "id": "ZLw7uvsk0TGS"
   },
   "outputs": [],
   "source": [
    "cadastro_listas = [\n",
    "    nomes,\n",
    "    idades,\n",
    "    alturas\n",
    "]"
   ]
  },
  {
   "cell_type": "code",
   "execution_count": 27,
   "metadata": {},
   "outputs": [
    {
     "name": "stdout",
     "output_type": "stream",
     "text": [
      "[['Joãozinho', 'Mariazinha'], [32, 25], [1.8, 1.65]]\n"
     ]
    }
   ],
   "source": [
    "print(cadastro_listas)"
   ]
  },
  {
   "cell_type": "code",
   "execution_count": 28,
   "metadata": {
    "colab": {
     "base_uri": "https://localhost:8080/"
    },
    "executionInfo": {
     "elapsed": 5,
     "status": "ok",
     "timestamp": 1664732978727,
     "user": {
      "displayName": "Gilberto Kaihami",
      "userId": "07651446941847976228"
     },
     "user_tz": 180
    },
    "id": "TWJgOKLI0UPc",
    "outputId": "2112b2ff-b359-460a-b613-a01b3dd33744"
   },
   "outputs": [
    {
     "data": {
      "text/plain": [
       "1.8"
      ]
     },
     "execution_count": 28,
     "metadata": {},
     "output_type": "execute_result"
    }
   ],
   "source": [
    "# Pegando a altura de Joãozinho utilizando lista de listas\n",
    "cadastro_listas[2][0]"
   ]
  },
  {
   "cell_type": "code",
   "execution_count": 29,
   "metadata": {
    "colab": {
     "base_uri": "https://localhost:8080/"
    },
    "executionInfo": {
     "elapsed": 4,
     "status": "ok",
     "timestamp": 1664733027081,
     "user": {
      "displayName": "Gilberto Kaihami",
      "userId": "07651446941847976228"
     },
     "user_tz": 180
    },
    "id": "eb6K7hvo0VxI",
    "outputId": "30686798-b52b-4d01-aa56-16aa6b2cc279"
   },
   "outputs": [],
   "source": [
    "# Pegando a altura de Joãozinho com dicionários\n",
    "cadastro_dicionario = {\"nomes\":nomes,\"idades\":idades, \"alturas\":alturas}"
   ]
  },
  {
   "cell_type": "code",
   "execution_count": 31,
   "metadata": {},
   "outputs": [
    {
     "data": {
      "text/plain": [
       "['Joãozinho', 'Mariazinha']"
      ]
     },
     "execution_count": 31,
     "metadata": {},
     "output_type": "execute_result"
    }
   ],
   "source": [
    "cadastro_dicionario[\"nomes\"]"
   ]
  },
  {
   "cell_type": "code",
   "execution_count": 34,
   "metadata": {},
   "outputs": [],
   "source": [
    "lista_nomes = cadastro_dicionario[\"nomes\"]"
   ]
  },
  {
   "cell_type": "code",
   "execution_count": 36,
   "metadata": {},
   "outputs": [
    {
     "data": {
      "text/plain": [
       "1"
      ]
     },
     "execution_count": 36,
     "metadata": {},
     "output_type": "execute_result"
    }
   ],
   "source": [
    "lista_nomes.index(\"Mariazinha\")"
   ]
  },
  {
   "cell_type": "code",
   "execution_count": 37,
   "metadata": {},
   "outputs": [
    {
     "data": {
      "text/plain": [
       "1.65"
      ]
     },
     "execution_count": 37,
     "metadata": {},
     "output_type": "execute_result"
    }
   ],
   "source": [
    "cadastro_dicionario[\"alturas\"][1]"
   ]
  },
  {
   "cell_type": "markdown",
   "metadata": {
    "id": "NpZisa5H0kZL"
   },
   "source": [
    "Para adicionar elementos ao dicionário, não precisamos de uma função pronta (como o append das listas).\n",
    "\n",
    "Basta definir a nova chave como uma variável, e atribuir um novo valor a ela:\n"
   ]
  },
  {
   "cell_type": "code",
   "execution_count": 38,
   "metadata": {
    "colab": {
     "base_uri": "https://localhost:8080/"
    },
    "executionInfo": {
     "elapsed": 4,
     "status": "ok",
     "timestamp": 1664733049717,
     "user": {
      "displayName": "Gilberto Kaihami",
      "userId": "07651446941847976228"
     },
     "user_tz": 180
    },
    "id": "-vZ-tkF60XgT",
    "outputId": "7f58814c-f5c9-4628-c657-636c578592f0"
   },
   "outputs": [
    {
     "data": {
      "text/plain": [
       "{'nomes': ['Sergio', 'Fulano'], 'idades': [35, 42], 'estados': ['RJ', 'AM']}"
      ]
     },
     "execution_count": 38,
     "metadata": {},
     "output_type": "execute_result"
    }
   ],
   "source": [
    "cadastro"
   ]
  },
  {
   "cell_type": "code",
   "execution_count": 39,
   "metadata": {
    "id": "8DgO2Jqq0icN"
   },
   "outputs": [],
   "source": [
    "# Adicionando uma nova chave ao dicionário `cadastro`\n",
    "cadastro[\"filhos\"] = [False,True]"
   ]
  },
  {
   "cell_type": "code",
   "execution_count": 40,
   "metadata": {
    "colab": {
     "base_uri": "https://localhost:8080/"
    },
    "executionInfo": {
     "elapsed": 421,
     "status": "ok",
     "timestamp": 1664733088452,
     "user": {
      "displayName": "Gilberto Kaihami",
      "userId": "07651446941847976228"
     },
     "user_tz": 180
    },
    "id": "FWNzuDo40oPg",
    "outputId": "dfb19c2c-840d-4f73-d24f-54a8cf7ac18b"
   },
   "outputs": [
    {
     "data": {
      "text/plain": [
       "{'nomes': ['Sergio', 'Fulano'],\n",
       " 'idades': [35, 42],\n",
       " 'estados': ['RJ', 'AM'],\n",
       " 'filhos': [False, True]}"
      ]
     },
     "execution_count": 40,
     "metadata": {},
     "output_type": "execute_result"
    }
   ],
   "source": [
    "cadastro"
   ]
  },
  {
   "cell_type": "code",
   "execution_count": 41,
   "metadata": {},
   "outputs": [
    {
     "data": {
      "text/plain": [
       "[['Joãozinho', 'Mariazinha'], [32, 25], [1.8, 1.65]]"
      ]
     },
     "execution_count": 41,
     "metadata": {},
     "output_type": "execute_result"
    }
   ],
   "source": [
    "cadastro_listas"
   ]
  },
  {
   "cell_type": "code",
   "execution_count": 42,
   "metadata": {
    "id": "PXojn4WL0pk6"
   },
   "outputs": [],
   "source": [
    "# Realizando a mesma operação com lista de listas\n",
    "cadastro_listas.append([False,True])"
   ]
  },
  {
   "cell_type": "code",
   "execution_count": 43,
   "metadata": {
    "colab": {
     "base_uri": "https://localhost:8080/"
    },
    "executionInfo": {
     "elapsed": 3,
     "status": "ok",
     "timestamp": 1664733117163,
     "user": {
      "displayName": "Gilberto Kaihami",
      "userId": "07651446941847976228"
     },
     "user_tz": 180
    },
    "id": "pEMvJr7p0z8r",
    "outputId": "75801273-66e2-4ff1-effb-92408599eb05"
   },
   "outputs": [
    {
     "data": {
      "text/plain": [
       "[['Joãozinho', 'Mariazinha'], [32, 25], [1.8, 1.65], [False, True]]"
      ]
     },
     "execution_count": 43,
     "metadata": {},
     "output_type": "execute_result"
    }
   ],
   "source": [
    "# Automaticamente, o elemento criado é adicionado ao fim!\n",
    "cadastro_listas"
   ]
  },
  {
   "cell_type": "markdown",
   "metadata": {
    "id": "csxv7X_A05pd"
   },
   "source": [
    "__Para apagar uma chave, utilize o \"pop\"__"
   ]
  },
  {
   "cell_type": "code",
   "execution_count": 44,
   "metadata": {
    "colab": {
     "base_uri": "https://localhost:8080/"
    },
    "executionInfo": {
     "elapsed": 5,
     "status": "ok",
     "timestamp": 1664733152517,
     "user": {
      "displayName": "Gilberto Kaihami",
      "userId": "07651446941847976228"
     },
     "user_tz": 180
    },
    "id": "dCFwhScu0-Hb",
    "outputId": "9a7f4adf-28da-4851-ca53-4f0eea87af4e"
   },
   "outputs": [
    {
     "data": {
      "text/plain": [
       "{'nomes': ['Sergio', 'Fulano'],\n",
       " 'idades': [35, 42],\n",
       " 'estados': ['RJ', 'AM'],\n",
       " 'filhos': [False, True]}"
      ]
     },
     "execution_count": 44,
     "metadata": {},
     "output_type": "execute_result"
    }
   ],
   "source": [
    "cadastro"
   ]
  },
  {
   "cell_type": "code",
   "execution_count": 45,
   "metadata": {
    "id": "BsqwvdV-01Ak"
   },
   "outputs": [],
   "source": [
    "filhos = cadastro.pop('filhos')"
   ]
  },
  {
   "cell_type": "code",
   "execution_count": 46,
   "metadata": {
    "colab": {
     "base_uri": "https://localhost:8080/"
    },
    "executionInfo": {
     "elapsed": 3,
     "status": "ok",
     "timestamp": 1664733153187,
     "user": {
      "displayName": "Gilberto Kaihami",
      "userId": "07651446941847976228"
     },
     "user_tz": 180
    },
    "id": "MlBpUK5C08Ny",
    "outputId": "fb001f50-500a-4e7e-b353-4c48eb71ec7f"
   },
   "outputs": [
    {
     "data": {
      "text/plain": [
       "{'nomes': ['Sergio', 'Fulano'], 'idades': [35, 42], 'estados': ['RJ', 'AM']}"
      ]
     },
     "execution_count": 46,
     "metadata": {},
     "output_type": "execute_result"
    }
   ],
   "source": [
    "cadastro"
   ]
  },
  {
   "cell_type": "code",
   "execution_count": 47,
   "metadata": {},
   "outputs": [
    {
     "data": {
      "text/plain": [
       "[False, True]"
      ]
     },
     "execution_count": 47,
     "metadata": {},
     "output_type": "execute_result"
    }
   ],
   "source": [
    "filhos"
   ]
  },
  {
   "cell_type": "markdown",
   "metadata": {
    "id": "BJNGUVJU1CtN"
   },
   "source": [
    "__Ou, utilize o \"del\"__"
   ]
  },
  {
   "cell_type": "code",
   "execution_count": 48,
   "metadata": {
    "colab": {
     "base_uri": "https://localhost:8080/"
    },
    "executionInfo": {
     "elapsed": 3,
     "status": "ok",
     "timestamp": 1664733189483,
     "user": {
      "displayName": "Gilberto Kaihami",
      "userId": "07651446941847976228"
     },
     "user_tz": 180
    },
    "id": "vxYS7YY809pE",
    "outputId": "0c270869-9e43-4be6-c58c-f01d7f83eabd"
   },
   "outputs": [],
   "source": [
    "cadastro[\"filhos\"] = [False,True]"
   ]
  },
  {
   "cell_type": "code",
   "execution_count": 49,
   "metadata": {
    "scrolled": true
   },
   "outputs": [
    {
     "data": {
      "text/plain": [
       "{'nomes': ['Sergio', 'Fulano'],\n",
       " 'idades': [35, 42],\n",
       " 'estados': ['RJ', 'AM'],\n",
       " 'filhos': [False, True]}"
      ]
     },
     "execution_count": 49,
     "metadata": {},
     "output_type": "execute_result"
    }
   ],
   "source": [
    "cadastro"
   ]
  },
  {
   "cell_type": "code",
   "execution_count": 50,
   "metadata": {},
   "outputs": [],
   "source": [
    "del cadastro[\"filhos\"]"
   ]
  },
  {
   "cell_type": "code",
   "execution_count": 51,
   "metadata": {},
   "outputs": [
    {
     "data": {
      "text/plain": [
       "{'nomes': ['Sergio', 'Fulano'], 'idades': [35, 42], 'estados': ['RJ', 'AM']}"
      ]
     },
     "execution_count": 51,
     "metadata": {},
     "output_type": "execute_result"
    }
   ],
   "source": [
    "cadastro"
   ]
  },
  {
   "cell_type": "markdown",
   "metadata": {
    "id": "12x-17pt1MK-"
   },
   "source": [
    "Alterar os valores também é possível:\n",
    "\n",
    "Posso também alterar elementos individuais dos valores, os indexando\n",
    "\n",
    "(Lembre-se que, neste caso, os valores são listas! Então, devo indexá-las para alterar seus elementos!)"
   ]
  },
  {
   "cell_type": "code",
   "execution_count": 52,
   "metadata": {
    "id": "e5GyDPf91JN8"
   },
   "outputs": [],
   "source": [
    "cadastro[\"estados\"] = [\"MG\",\"CE\"]"
   ]
  },
  {
   "cell_type": "code",
   "execution_count": 53,
   "metadata": {
    "colab": {
     "base_uri": "https://localhost:8080/"
    },
    "executionInfo": {
     "elapsed": 4,
     "status": "ok",
     "timestamp": 1664733228304,
     "user": {
      "displayName": "Gilberto Kaihami",
      "userId": "07651446941847976228"
     },
     "user_tz": 180
    },
    "id": "tmxvbrea1RbQ",
    "outputId": "0c6cf733-081d-4baf-f1a5-e95b5d1416a1"
   },
   "outputs": [
    {
     "data": {
      "text/plain": [
       "{'nomes': ['Sergio', 'Fulano'], 'idades': [35, 42], 'estados': ['MG', 'CE']}"
      ]
     },
     "execution_count": 53,
     "metadata": {},
     "output_type": "execute_result"
    }
   ],
   "source": [
    "cadastro"
   ]
  },
  {
   "cell_type": "code",
   "execution_count": 54,
   "metadata": {
    "colab": {
     "base_uri": "https://localhost:8080/"
    },
    "executionInfo": {
     "elapsed": 5,
     "status": "ok",
     "timestamp": 1664733235279,
     "user": {
      "displayName": "Gilberto Kaihami",
      "userId": "07651446941847976228"
     },
     "user_tz": 180
    },
    "id": "-i6nv5XH1SkB",
    "outputId": "c08361c3-977b-400b-d133-c4ee985868b3"
   },
   "outputs": [
    {
     "data": {
      "text/plain": [
       "{'nomes': ['Sergio', 'Fulano'], 'idades': [35, 42], 'estados': 1}"
      ]
     },
     "execution_count": 54,
     "metadata": {},
     "output_type": "execute_result"
    }
   ],
   "source": [
    "# Alteração indevida de valor\n",
    "cadastro['estados'] = 1\n",
    "cadastro"
   ]
  },
  {
   "cell_type": "code",
   "execution_count": 55,
   "metadata": {
    "colab": {
     "base_uri": "https://localhost:8080/"
    },
    "executionInfo": {
     "elapsed": 4,
     "status": "ok",
     "timestamp": 1664733242372,
     "user": {
      "displayName": "Gilberto Kaihami",
      "userId": "07651446941847976228"
     },
     "user_tz": 180
    },
    "id": "yMlIT0kD1USt",
    "outputId": "67e7ed27-b013-47b8-c83c-2b6b426702bd"
   },
   "outputs": [
    {
     "data": {
      "text/plain": [
       "{'nomes': ['Sergio', 'Fulano'],\n",
       " 'idades': [35, 42],\n",
       " 'estados': 1,\n",
       " 'cidades': ['Paris', 'Londres']}"
      ]
     },
     "execution_count": 55,
     "metadata": {},
     "output_type": "execute_result"
    }
   ],
   "source": [
    "cadastro['cidades'] = ['Paris', 'Londres']\n",
    "cadastro"
   ]
  },
  {
   "cell_type": "code",
   "execution_count": 56,
   "metadata": {
    "id": "V_M-miNK1V7I"
   },
   "outputs": [],
   "source": [
    "cadastro['cidades'] = ('Paris', 'Londres')"
   ]
  },
  {
   "cell_type": "code",
   "execution_count": 57,
   "metadata": {
    "scrolled": false
   },
   "outputs": [
    {
     "data": {
      "text/plain": [
       "{'nomes': ['Sergio', 'Fulano'],\n",
       " 'idades': [35, 42],\n",
       " 'estados': 1,\n",
       " 'cidades': ('Paris', 'Londres')}"
      ]
     },
     "execution_count": 57,
     "metadata": {},
     "output_type": "execute_result"
    }
   ],
   "source": [
    "cadastro"
   ]
  },
  {
   "cell_type": "code",
   "execution_count": 58,
   "metadata": {},
   "outputs": [
    {
     "ename": "TypeError",
     "evalue": "'tuple' object does not support item assignment",
     "output_type": "error",
     "traceback": [
      "\u001b[1;31m---------------------------------------------------------------------------\u001b[0m",
      "\u001b[1;31mTypeError\u001b[0m                                 Traceback (most recent call last)",
      "\u001b[1;32m~\\AppData\\Local\\Temp/ipykernel_10624/3023458888.py\u001b[0m in \u001b[0;36m<module>\u001b[1;34m\u001b[0m\n\u001b[1;32m----> 1\u001b[1;33m \u001b[0mcadastro\u001b[0m\u001b[1;33m[\u001b[0m\u001b[1;34m'cidades'\u001b[0m\u001b[1;33m]\u001b[0m\u001b[1;33m[\u001b[0m\u001b[1;36m0\u001b[0m\u001b[1;33m]\u001b[0m \u001b[1;33m=\u001b[0m \u001b[1;34m\"Milão\"\u001b[0m\u001b[1;33m\u001b[0m\u001b[1;33m\u001b[0m\u001b[0m\n\u001b[0m",
      "\u001b[1;31mTypeError\u001b[0m: 'tuple' object does not support item assignment"
     ]
    }
   ],
   "source": [
    "cadastro['cidades'][0] = \"Milão\""
   ]
  },
  {
   "cell_type": "code",
   "execution_count": 59,
   "metadata": {
    "id": "Sc3sH_Er1XNx"
   },
   "outputs": [],
   "source": [
    "cadastro['trabalho'] = ('Dentista', 'Cientista de dados')"
   ]
  },
  {
   "cell_type": "code",
   "execution_count": 60,
   "metadata": {},
   "outputs": [
    {
     "data": {
      "text/plain": [
       "{'nomes': ['Sergio', 'Fulano'],\n",
       " 'idades': [35, 42],\n",
       " 'estados': 1,\n",
       " 'cidades': ('Paris', 'Londres'),\n",
       " 'trabalho': ('Dentista', 'Cientista de dados')}"
      ]
     },
     "execution_count": 60,
     "metadata": {},
     "output_type": "execute_result"
    }
   ],
   "source": [
    "cadastro"
   ]
  },
  {
   "cell_type": "code",
   "execution_count": 61,
   "metadata": {
    "colab": {
     "base_uri": "https://localhost:8080/",
     "height": 166
    },
    "executionInfo": {
     "elapsed": 7,
     "status": "error",
     "timestamp": 1664733257983,
     "user": {
      "displayName": "Gilberto Kaihami",
      "userId": "07651446941847976228"
     },
     "user_tz": 180
    },
    "id": "FAl3AkBQ1YR_",
    "outputId": "39d999b0-e2eb-4e4c-8dca-248ab508a756"
   },
   "outputs": [
    {
     "ename": "TypeError",
     "evalue": "'tuple' object does not support item assignment",
     "output_type": "error",
     "traceback": [
      "\u001b[1;31m---------------------------------------------------------------------------\u001b[0m",
      "\u001b[1;31mTypeError\u001b[0m                                 Traceback (most recent call last)",
      "\u001b[1;32m~\\AppData\\Local\\Temp/ipykernel_10624/1339874266.py\u001b[0m in \u001b[0;36m<module>\u001b[1;34m\u001b[0m\n\u001b[1;32m----> 1\u001b[1;33m \u001b[0mcadastro\u001b[0m\u001b[1;33m[\u001b[0m\u001b[1;34m'trabalho'\u001b[0m\u001b[1;33m]\u001b[0m\u001b[1;33m[\u001b[0m\u001b[1;36m0\u001b[0m\u001b[1;33m]\u001b[0m \u001b[1;33m=\u001b[0m \u001b[1;34m'Engenheiro'\u001b[0m\u001b[1;33m\u001b[0m\u001b[1;33m\u001b[0m\u001b[0m\n\u001b[0m",
      "\u001b[1;31mTypeError\u001b[0m: 'tuple' object does not support item assignment"
     ]
    }
   ],
   "source": [
    "cadastro['trabalho'][0] = 'Engenheiro'"
   ]
  },
  {
   "cell_type": "code",
   "execution_count": 62,
   "metadata": {
    "id": "COTHUf0o1Z1h"
   },
   "outputs": [],
   "source": [
    "cadastro['trabalho'] = ['Dentista', 'Cientista de dados']\n",
    "cadastro['trabalho'][0] = 'Engenheiro'"
   ]
  },
  {
   "cell_type": "code",
   "execution_count": 63,
   "metadata": {
    "colab": {
     "base_uri": "https://localhost:8080/"
    },
    "executionInfo": {
     "elapsed": 2,
     "status": "ok",
     "timestamp": 1664733287376,
     "user": {
      "displayName": "Gilberto Kaihami",
      "userId": "07651446941847976228"
     },
     "user_tz": 180
    },
    "id": "ijVUCMX51bjJ",
    "outputId": "4a0d458e-80de-46bd-8794-429215ac5755",
    "scrolled": true
   },
   "outputs": [
    {
     "name": "stdout",
     "output_type": "stream",
     "text": [
      "{'nomes': ['Sergio', 'Fulano'], 'idades': [35, 42], 'estados': 1, 'cidades': ('Paris', 'Londres'), 'trabalho': ['Engenheiro', 'Cientista de dados']}\n"
     ]
    }
   ],
   "source": [
    "print(cadastro)"
   ]
  },
  {
   "cell_type": "code",
   "execution_count": 64,
   "metadata": {},
   "outputs": [],
   "source": [
    "cadastro[\"estados\"] = [\"RJ\",\"AM\"]"
   ]
  },
  {
   "cell_type": "code",
   "execution_count": 65,
   "metadata": {},
   "outputs": [],
   "source": [
    "cadastro[\"cidades\"] = [\"Niteroi\",\"Manaus\"]"
   ]
  },
  {
   "cell_type": "markdown",
   "metadata": {},
   "source": [
    "Para adicionar novos elementos aos valores (que são listas), usamos o append:"
   ]
  },
  {
   "cell_type": "code",
   "execution_count": 71,
   "metadata": {},
   "outputs": [],
   "source": [
    "cadastro['nomes'].append('Beltrano')\n",
    "cadastro['idades'].append(25)\n",
    "cadastro['estados'].append('SP')\n",
    "cadastro['cidades'].append('São Paulo')\n",
    "cadastro['trabalho'].append('Advogado')"
   ]
  },
  {
   "cell_type": "code",
   "execution_count": 72,
   "metadata": {},
   "outputs": [
    {
     "data": {
      "text/plain": [
       "{'nomes': ['Sergio', 'Fulano', 'Fulano', 'Beltrano', 'Beltrano', 'Beltrano'],\n",
       " 'idades': [35, 42, 22, 22, 25, 25],\n",
       " 'estados': ['RJ', 'AM', 'SP', 'SP', 'SP', 'SP'],\n",
       " 'cidades': ['Niteroi',\n",
       "  'Manaus',\n",
       "  'São Paulo',\n",
       "  'São Paulo',\n",
       "  'São Paulo',\n",
       "  'São Paulo'],\n",
       " 'trabalho': ['Engenheiro',\n",
       "  'Cientista de dados',\n",
       "  'Advogado',\n",
       "  'Advogado',\n",
       "  'Advogado',\n",
       "  'Advogado']}"
      ]
     },
     "execution_count": 72,
     "metadata": {},
     "output_type": "execute_result"
    }
   ],
   "source": [
    "cadastro"
   ]
  },
  {
   "cell_type": "markdown",
   "metadata": {},
   "source": [
    "## Exercícios"
   ]
  },
  {
   "cell_type": "markdown",
   "metadata": {},
   "source": [
    "1. Adicione o par chave-valor \"cor\": \"azul: no dicionário `carro` abaixo"
   ]
  },
  {
   "cell_type": "code",
   "execution_count": 73,
   "metadata": {},
   "outputs": [
    {
     "name": "stdout",
     "output_type": "stream",
     "text": [
      "{'marca': 'Toyota', 'modelo': 'Yaris', 'ano': 1964, 'cor': 'azul'}\n"
     ]
    }
   ],
   "source": [
    "carro = {\n",
    "    'marca': \"Toyota\",\n",
    "    'modelo': \"Yaris\",\n",
    "    \"ano\": 1964\n",
    "}\n",
    "\n",
    "carro[\"cor\"] = \"azul\"\n",
    "\n",
    "print(carro)"
   ]
  },
  {
   "cell_type": "markdown",
   "metadata": {},
   "source": [
    "2. Remova o campo (chave) \"modelo\" do dicionário `carro` abaixo"
   ]
  },
  {
   "cell_type": "code",
   "execution_count": 74,
   "metadata": {},
   "outputs": [
    {
     "name": "stdout",
     "output_type": "stream",
     "text": [
      "{'marca': 'Toyota', 'ano': 1964}\n"
     ]
    }
   ],
   "source": [
    "carro = {\n",
    "    'marca': \"Toyota\",\n",
    "    'modelo': \"Yaris\",\n",
    "    \"ano\": 1964\n",
    "}\n",
    "carro.pop(\"modelo\")\n",
    "\n",
    "print(carro)"
   ]
  },
  {
   "cell_type": "code",
   "execution_count": 76,
   "metadata": {},
   "outputs": [
    {
     "name": "stdout",
     "output_type": "stream",
     "text": [
      "{'marca': 'Toyota', 'ano': 1964}\n"
     ]
    }
   ],
   "source": [
    "carro = {\n",
    "    'marca': \"Toyota\",\n",
    "    'modelo': \"Yaris\",\n",
    "    \"ano\": 1964\n",
    "}\n",
    "\n",
    "del carro[\"modelo\"]\n",
    "\n",
    "print(carro)"
   ]
  },
  {
   "cell_type": "markdown",
   "metadata": {
    "id": "tAbWt3BE6a07"
   },
   "source": [
    "3. Modifique o ano de fabricação (campo `ano`) de 1964 para 2020 no dicionário abaixo"
   ]
  },
  {
   "cell_type": "code",
   "execution_count": 77,
   "metadata": {
    "id": "d32XGfjp6aPE"
   },
   "outputs": [
    {
     "name": "stdout",
     "output_type": "stream",
     "text": [
      "{'marca': 'Toyota', 'modelo': 'Yaris', 'ano': 2020}\n"
     ]
    }
   ],
   "source": [
    "carro = {\n",
    "    'marca': \"Toyota\",\n",
    "    'modelo': \"Yaris\",\n",
    "    \"ano\": 1964\n",
    "}\n",
    "\n",
    "carro[\"ano\"] = 2020\n",
    "\n",
    "print(carro)"
   ]
  },
  {
   "cell_type": "code",
   "execution_count": 78,
   "metadata": {},
   "outputs": [
    {
     "name": "stdout",
     "output_type": "stream",
     "text": [
      "{'marca': 'Toyota', 'modelo': 'Yaris', 'ano': 1964, 'motor': 'diesel'}\n"
     ]
    }
   ],
   "source": [
    "carro = {\n",
    "    'marca': \"Toyota\",\n",
    "    'modelo': \"Yaris\",\n",
    "    \"ano\": 1964\n",
    "}\n",
    "\n",
    "carro['motor'] = \"diesel\"\n",
    "\n",
    "print(carro)"
   ]
  },
  {
   "cell_type": "code",
   "execution_count": 79,
   "metadata": {},
   "outputs": [
    {
     "name": "stdout",
     "output_type": "stream",
     "text": [
      "{'marca': 'Toyota', 'modelo': 'Yaris', 'ano': 1964, 'motor': 'gasolina'}\n"
     ]
    }
   ],
   "source": [
    "carro['motor'] = \"gasolina\"\n",
    "print(carro)"
   ]
  },
  {
   "cell_type": "markdown",
   "metadata": {},
   "source": [
    "-----------------------------------------------------------\n",
    "------------------------------------------------------------"
   ]
  },
  {
   "cell_type": "markdown",
   "metadata": {},
   "source": [
    "### Iterando dicionários"
   ]
  },
  {
   "cell_type": "code",
   "execution_count": 81,
   "metadata": {},
   "outputs": [],
   "source": [
    "cadastro = {\n",
    "'nomes': ['Sergio', 'Maria', 'João'],\n",
    "'idades': [35, 42, 22],\n",
    "'cidades': ['Niteroi','Manaus','São Paulo'],\n",
    "'filhos': [0, 0, 3],\n",
    "'altura': [1.8, 1.7, 1.62],\n",
    "'profissao': ['Engenheiro','Cientista de dados','Advogado']\n",
    "}"
   ]
  },
  {
   "cell_type": "markdown",
   "metadata": {
    "id": "QU1JDj161oSe"
   },
   "source": [
    "Dicionários podem ser percorridos com um for.\n",
    "\n",
    "Ao fazer isso, **as chaves serão percorridas**\n",
    "\n",
    "Porém, a partir da chave obtém-se o valor:"
   ]
  },
  {
   "cell_type": "code",
   "execution_count": 82,
   "metadata": {
    "colab": {
     "base_uri": "https://localhost:8080/"
    },
    "executionInfo": {
     "elapsed": 282,
     "status": "ok",
     "timestamp": 1664733325216,
     "user": {
      "displayName": "Gilberto Kaihami",
      "userId": "07651446941847976228"
     },
     "user_tz": 180
    },
    "id": "HzbJGz-s1m79",
    "outputId": "3de6f96a-3320-44b0-b5b1-37e102028471"
   },
   "outputs": [
    {
     "name": "stdout",
     "output_type": "stream",
     "text": [
      "nomes\n",
      "idades\n",
      "cidades\n",
      "filhos\n",
      "altura\n",
      "profissao\n"
     ]
    }
   ],
   "source": [
    "for chave in cadastro:\n",
    "    print(chave)"
   ]
  },
  {
   "cell_type": "code",
   "execution_count": 83,
   "metadata": {
    "colab": {
     "base_uri": "https://localhost:8080/"
    },
    "executionInfo": {
     "elapsed": 3,
     "status": "ok",
     "timestamp": 1664733330404,
     "user": {
      "displayName": "Gilberto Kaihami",
      "userId": "07651446941847976228"
     },
     "user_tz": 180
    },
    "id": "f7F4fj-81qPm",
    "outputId": "5179757e-7fba-438d-adcf-8814a5e331b0"
   },
   "outputs": [
    {
     "data": {
      "text/plain": [
       "['Sergio', 'Maria', 'João']"
      ]
     },
     "execution_count": 83,
     "metadata": {},
     "output_type": "execute_result"
    }
   ],
   "source": [
    "cadastro[\"nomes\"]"
   ]
  },
  {
   "cell_type": "code",
   "execution_count": 86,
   "metadata": {
    "colab": {
     "base_uri": "https://localhost:8080/"
    },
    "executionInfo": {
     "elapsed": 246,
     "status": "ok",
     "timestamp": 1664733338988,
     "user": {
      "displayName": "Gilberto Kaihami",
      "userId": "07651446941847976228"
     },
     "user_tz": 180
    },
    "id": "gEDb7xYU1rh3",
    "outputId": "093f17a6-fe41-4b24-eddb-54aa39a4193b"
   },
   "outputs": [
    {
     "name": "stdout",
     "output_type": "stream",
     "text": [
      "nomes - ['Sergio', 'Maria', 'João']\n",
      "idades - [35, 42, 22]\n",
      "cidades - ['Niteroi', 'Manaus', 'São Paulo']\n",
      "filhos - [0, 0, 3]\n",
      "altura - [1.8, 1.7, 1.62]\n",
      "profissao - ['Engenheiro', 'Cientista de dados', 'Advogado']\n"
     ]
    }
   ],
   "source": [
    "for chave in cadastro:\n",
    "    print(f'{chave} - {cadastro[chave]}')        "
   ]
  },
  {
   "cell_type": "code",
   "execution_count": 89,
   "metadata": {},
   "outputs": [
    {
     "name": "stdout",
     "output_type": "stream",
     "text": [
      "chave=nomes\n",
      "indice=0, valor=Sergio\n",
      "indice=1, valor=Maria\n",
      "indice=2, valor=João\n",
      "---------------------\n",
      "chave=idades\n",
      "indice=0, valor=35\n",
      "indice=1, valor=42\n",
      "indice=2, valor=22\n",
      "---------------------\n",
      "chave=cidades\n",
      "indice=0, valor=Niteroi\n",
      "indice=1, valor=Manaus\n",
      "indice=2, valor=São Paulo\n",
      "---------------------\n",
      "chave=filhos\n",
      "indice=0, valor=0\n",
      "indice=1, valor=0\n",
      "indice=2, valor=3\n",
      "---------------------\n",
      "chave=altura\n",
      "indice=0, valor=1.8\n",
      "indice=1, valor=1.7\n",
      "indice=2, valor=1.62\n",
      "---------------------\n",
      "chave=profissao\n",
      "indice=0, valor=Engenheiro\n",
      "indice=1, valor=Cientista de dados\n",
      "indice=2, valor=Advogado\n",
      "---------------------\n"
     ]
    }
   ],
   "source": [
    "for chave in cadastro:\n",
    "    print(f'chave={chave}')\n",
    "    for idx,elemento in enumerate(cadastro[chave]):\n",
    "        print(f'indice={idx}, valor={elemento}')\n",
    "    print(\"---------------------\")"
   ]
  },
  {
   "cell_type": "code",
   "execution_count": 92,
   "metadata": {},
   "outputs": [],
   "source": [
    "cadastro['qnt_usuarios'] = 3"
   ]
  },
  {
   "cell_type": "code",
   "execution_count": 93,
   "metadata": {},
   "outputs": [
    {
     "name": "stdout",
     "output_type": "stream",
     "text": [
      "{'nomes': ['Sergio', 'Maria', 'João'], 'idades': [35, 42, 22], 'cidades': ['Niteroi', 'Manaus', 'São Paulo'], 'filhos': [0, 0, 3], 'altura': [1.8, 1.7, 1.62], 'profissao': ['Engenheiro', 'Cientista de dados', 'Advogado'], 'qnt_usuarios': 3}\n"
     ]
    }
   ],
   "source": [
    "print(cadastro)"
   ]
  },
  {
   "cell_type": "code",
   "execution_count": null,
   "metadata": {},
   "outputs": [],
   "source": []
  },
  {
   "cell_type": "code",
   "execution_count": 96,
   "metadata": {
    "colab": {
     "base_uri": "https://localhost:8080/"
    },
    "executionInfo": {
     "elapsed": 4,
     "status": "ok",
     "timestamp": 1664733396465,
     "user": {
      "displayName": "Gilberto Kaihami",
      "userId": "07651446941847976228"
     },
     "user_tz": 180
    },
    "id": "NucmTQ1D1u8j",
    "outputId": "2298c84f-2609-4d76-d6ee-c4f31e786088"
   },
   "outputs": [
    {
     "name": "stdout",
     "output_type": "stream",
     "text": [
      "chave=nomes\n",
      "indice=0, valor=Sergio\n",
      "indice=1, valor=Maria\n",
      "indice=2, valor=João\n",
      "---------------------\n",
      "chave=idades\n",
      "indice=0, valor=35\n",
      "indice=1, valor=42\n",
      "indice=2, valor=22\n",
      "---------------------\n",
      "chave=cidades\n",
      "indice=0, valor=Niteroi\n",
      "indice=1, valor=Manaus\n",
      "indice=2, valor=São Paulo\n",
      "---------------------\n",
      "chave=filhos\n",
      "indice=0, valor=0\n",
      "indice=1, valor=0\n",
      "indice=2, valor=3\n",
      "---------------------\n",
      "chave=altura\n",
      "indice=0, valor=1.8\n",
      "indice=1, valor=1.7\n",
      "indice=2, valor=1.62\n",
      "---------------------\n",
      "chave=profissao\n",
      "indice=0, valor=Engenheiro\n",
      "indice=1, valor=Cientista de dados\n",
      "indice=2, valor=Advogado\n",
      "---------------------\n",
      "chave=qnt_usuarios\n",
      "3\n"
     ]
    }
   ],
   "source": [
    "for chave in cadastro:\n",
    "    print(f'chave={chave}')\n",
    "    valor = cadastro[chave] # cadastro[\"nomes\"]\n",
    "    if isinstance(valor,(list,tuple)) :\n",
    "        for idx,elemento in enumerate(cadastro[chave]):\n",
    "            print(f'indice={idx}, valor={elemento}')\n",
    "        print(\"---------------------\")\n",
    "        \n",
    "    else:\n",
    "        print(valor)"
   ]
  },
  {
   "cell_type": "markdown",
   "metadata": {
    "id": "UDkFOm6j2M1o"
   },
   "source": [
    "Uma utilidade disso é para pegar os dados respectivos de cada elemento do cadastro:"
   ]
  },
  {
   "cell_type": "code",
   "execution_count": 98,
   "metadata": {},
   "outputs": [
    {
     "data": {
      "text/plain": [
       "3"
      ]
     },
     "execution_count": 98,
     "metadata": {},
     "output_type": "execute_result"
    }
   ],
   "source": [
    "cadastro.pop(\"qnt_usuarios\")"
   ]
  },
  {
   "cell_type": "code",
   "execution_count": 97,
   "metadata": {
    "colab": {
     "base_uri": "https://localhost:8080/"
    },
    "executionInfo": {
     "elapsed": 413,
     "status": "ok",
     "timestamp": 1664733474289,
     "user": {
      "displayName": "Gilberto Kaihami",
      "userId": "07651446941847976228"
     },
     "user_tz": 180
    },
    "id": "hZUlReQq2HH0",
    "outputId": "bcd601e1-601a-47bd-f2a2-9b8b3db3534a",
    "scrolled": true
   },
   "outputs": [
    {
     "data": {
      "text/plain": [
       "0"
      ]
     },
     "execution_count": 97,
     "metadata": {},
     "output_type": "execute_result"
    }
   ],
   "source": [
    "cadastro['nomes'].index(\"Sergio\")"
   ]
  },
  {
   "cell_type": "code",
   "execution_count": 100,
   "metadata": {
    "colab": {
     "base_uri": "https://localhost:8080/"
    },
    "executionInfo": {
     "elapsed": 236,
     "status": "ok",
     "timestamp": 1664733482903,
     "user": {
      "displayName": "Gilberto Kaihami",
      "userId": "07651446941847976228"
     },
     "user_tz": 180
    },
    "id": "iGjjzlqN2Ok4",
    "outputId": "dff813d9-0648-4893-f0db-e5033aa63849"
   },
   "outputs": [
    {
     "name": "stdout",
     "output_type": "stream",
     "text": [
      "['João', 22, 'São Paulo', 3, 1.62, 'Advogado']\n"
     ]
    }
   ],
   "source": [
    "nome  = \"João\"\n",
    "dados = []\n",
    "\n",
    "for chave in cadastro:\n",
    "    index = cadastro['nomes'].index(nome)\n",
    "    dados.append(cadastro[chave][index])\n",
    "    \n",
    "print(dados)"
   ]
  },
  {
   "cell_type": "code",
   "execution_count": 101,
   "metadata": {
    "id": "nm-ZQN5h2yzK"
   },
   "outputs": [
    {
     "name": "stdout",
     "output_type": "stream",
     "text": [
      "['Sergio', 35, 'Niteroi', 0, 1.8, 'Engenheiro']\n"
     ]
    }
   ],
   "source": [
    "nome  = \"Sergio\"\n",
    "dados = []\n",
    "\n",
    "for chave in cadastro:\n",
    "    index = cadastro['nomes'].index(nome)\n",
    "    dados.append(cadastro[chave][index])\n",
    "    \n",
    "print(dados)"
   ]
  },
  {
   "cell_type": "code",
   "execution_count": 102,
   "metadata": {
    "id": "Jc6nUSo023Eq"
   },
   "outputs": [
    {
     "name": "stdout",
     "output_type": "stream",
     "text": [
      "['Maria', 42, 'Manaus', 0, 1.7, 'Cientista de dados']\n"
     ]
    }
   ],
   "source": [
    "nome  = \"Maria\"\n",
    "dados = []\n",
    "\n",
    "for chave in cadastro:\n",
    "    index = cadastro['nomes'].index(nome)\n",
    "    dados.append(cadastro[chave][index])\n",
    "    \n",
    "print(dados)"
   ]
  },
  {
   "cell_type": "markdown",
   "metadata": {
    "id": "cB2rvA08271h"
   },
   "source": [
    "Mas também é possível acessar apenas os valores do dicionário com o método `values()`"
   ]
  },
  {
   "cell_type": "code",
   "execution_count": 103,
   "metadata": {
    "id": "Ji8-f5Fh251K"
   },
   "outputs": [
    {
     "name": "stdout",
     "output_type": "stream",
     "text": [
      "['Sergio', 35, 'Niteroi', 0, 1.8, 'Engenheiro']\n"
     ]
    }
   ],
   "source": [
    "nome = \"Sergio\"\n",
    "dados = []\n",
    "\n",
    "for valor in cadastro.values():\n",
    "    index = cadastro['nomes'].index(nome)\n",
    "    dados.append(valor[index])\n",
    "\n",
    "print(dados)"
   ]
  },
  {
   "cell_type": "code",
   "execution_count": 104,
   "metadata": {
    "colab": {
     "base_uri": "https://localhost:8080/"
    },
    "executionInfo": {
     "elapsed": 6,
     "status": "ok",
     "timestamp": 1664733686255,
     "user": {
      "displayName": "Gilberto Kaihami",
      "userId": "07651446941847976228"
     },
     "user_tz": 180
    },
    "id": "TIDL9pAv2-Oc",
    "outputId": "637d7d92-b1a1-478b-cf02-8bbeee42a685"
   },
   "outputs": [
    {
     "name": "stdout",
     "output_type": "stream",
     "text": [
      "['João', 22, 'São Paulo', 3, 1.62, 'Advogado']\n"
     ]
    }
   ],
   "source": [
    "nome = \"João\"\n",
    "dados = []\n",
    "\n",
    "for valor in cadastro.values():\n",
    "    index = cadastro['nomes'].index(nome)\n",
    "    dados.append(valor[index])\n",
    "\n",
    "print(dados)"
   ]
  },
  {
   "cell_type": "markdown",
   "metadata": {
    "id": "1N_AZ1Gu3JR2"
   },
   "source": [
    "É possível obter chaves e valores separadamente.\n",
    "\n",
    "Para isso, usamos os métodos `keys()` e `values()`."
   ]
  },
  {
   "cell_type": "code",
   "execution_count": 108,
   "metadata": {
    "colab": {
     "base_uri": "https://localhost:8080/"
    },
    "executionInfo": {
     "elapsed": 438,
     "status": "ok",
     "timestamp": 1664733722103,
     "user": {
      "displayName": "Gilberto Kaihami",
      "userId": "07651446941847976228"
     },
     "user_tz": 180
    },
    "id": "3jWUFaL63CXJ",
    "outputId": "e18ff5a8-de2f-4f04-d7cc-78f173ef8dee",
    "scrolled": true
   },
   "outputs": [
    {
     "name": "stdout",
     "output_type": "stream",
     "text": [
      "chaves: dict_keys(['nomes', 'idades', 'cidades', 'filhos', 'altura', 'profissao'])\n"
     ]
    }
   ],
   "source": [
    "print(f'chaves: {cadastro.keys()}')"
   ]
  },
  {
   "cell_type": "code",
   "execution_count": 109,
   "metadata": {},
   "outputs": [
    {
     "name": "stdout",
     "output_type": "stream",
     "text": [
      "valores: dict_values([['Sergio', 'Maria', 'João'], [35, 42, 22], ['Niteroi', 'Manaus', 'São Paulo'], [0, 0, 3], [1.8, 1.7, 1.62], ['Engenheiro', 'Cientista de dados', 'Advogado']])\n"
     ]
    }
   ],
   "source": [
    "print(f'valores: {cadastro.values()}')"
   ]
  },
  {
   "cell_type": "markdown",
   "metadata": {
    "id": "k2rhkbaX3Np6"
   },
   "source": [
    "E esses valores podem ser transformados em listas com a função `list()`"
   ]
  },
  {
   "cell_type": "code",
   "execution_count": 110,
   "metadata": {
    "colab": {
     "base_uri": "https://localhost:8080/"
    },
    "executionInfo": {
     "elapsed": 254,
     "status": "ok",
     "timestamp": 1664733745266,
     "user": {
      "displayName": "Gilberto Kaihami",
      "userId": "07651446941847976228"
     },
     "user_tz": 180
    },
    "id": "A0BFLvWY3LHO",
    "outputId": "09d351c5-9738-4676-c9b6-fb3c02c0c578"
   },
   "outputs": [
    {
     "data": {
      "text/plain": [
       "['nomes', 'idades', 'cidades', 'filhos', 'altura', 'profissao']"
      ]
     },
     "execution_count": 110,
     "metadata": {},
     "output_type": "execute_result"
    }
   ],
   "source": [
    "# tomando uma lista com chaves\n",
    "list(cadastro.keys())"
   ]
  },
  {
   "cell_type": "code",
   "execution_count": 111,
   "metadata": {
    "colab": {
     "base_uri": "https://localhost:8080/"
    },
    "executionInfo": {
     "elapsed": 247,
     "status": "ok",
     "timestamp": 1664733802298,
     "user": {
      "displayName": "Gilberto Kaihami",
      "userId": "07651446941847976228"
     },
     "user_tz": 180
    },
    "id": "FVaSrZbX3Qzb",
    "outputId": "8b2abffe-74ab-4aff-a23e-7cb9ddb8a77c"
   },
   "outputs": [
    {
     "data": {
      "text/plain": [
       "[['Sergio', 'Maria', 'João'],\n",
       " [35, 42, 22],\n",
       " ['Niteroi', 'Manaus', 'São Paulo'],\n",
       " [0, 0, 3],\n",
       " [1.8, 1.7, 1.62],\n",
       " ['Engenheiro', 'Cientista de dados', 'Advogado']]"
      ]
     },
     "execution_count": 111,
     "metadata": {},
     "output_type": "execute_result"
    }
   ],
   "source": [
    "list(cadastro.values())"
   ]
  },
  {
   "cell_type": "code",
   "execution_count": 114,
   "metadata": {
    "id": "eOcxizfR3evB"
   },
   "outputs": [
    {
     "name": "stdout",
     "output_type": "stream",
     "text": [
      "chave: nomes\n",
      "valor: ['Sergio', 'Maria', 'João']\n",
      "-----------------\n",
      "chave: idades\n",
      "valor: [35, 42, 22]\n",
      "-----------------\n",
      "chave: cidades\n",
      "valor: ['Niteroi', 'Manaus', 'São Paulo']\n",
      "-----------------\n",
      "chave: filhos\n",
      "valor: [0, 0, 3]\n",
      "-----------------\n",
      "chave: altura\n",
      "valor: [1.8, 1.7, 1.62]\n",
      "-----------------\n",
      "chave: profissao\n",
      "valor: ['Engenheiro', 'Cientista de dados', 'Advogado']\n",
      "-----------------\n"
     ]
    }
   ],
   "source": [
    "for key, value in cadastro.items():\n",
    "    print(f'chave: {key}')\n",
    "    print(f'valor: {value}')\n",
    "    print('-----------------')"
   ]
  },
  {
   "cell_type": "code",
   "execution_count": 116,
   "metadata": {
    "colab": {
     "base_uri": "https://localhost:8080/"
    },
    "executionInfo": {
     "elapsed": 384,
     "status": "ok",
     "timestamp": 1664733823252,
     "user": {
      "displayName": "Gilberto Kaihami",
      "userId": "07651446941847976228"
     },
     "user_tz": 180
    },
    "id": "nh_11QvO3inl",
    "outputId": "50643f0c-4dfa-44b7-b5b8-07381b6602a7"
   },
   "outputs": [
    {
     "name": "stdout",
     "output_type": "stream",
     "text": [
      "[('nomes', 'João'), ('idades', 22), ('cidades', 'São Paulo'), ('filhos', 3), ('altura', 1.62), ('profissao', 'Advogado')]\n"
     ]
    }
   ],
   "source": [
    "nome = \"João\"\n",
    "dados = []\n",
    "\n",
    "for chave, valor in cadastro.items():\n",
    "    index =cadastro['nomes'].index(nome)\n",
    "    dados.append((chave, valor[index]))\n",
    "    \n",
    "print(dados)"
   ]
  },
  {
   "cell_type": "markdown",
   "metadata": {
    "id": "7taUk-qH3pFj"
   },
   "source": [
    "**Verificando a existência de uma chave**\n",
    "\n",
    "Queremos adicionar uma nova chave no dicionário acima. Por exemplo renda.\n",
    "Há como inserir os três salários ao mesmo tempo como vimos acima.\n",
    "Mas por outro lado, podemos inserir de forma sequencial, um valor de cada vez\n",
    "\n",
    "Como realizar tal operação?"
   ]
  },
  {
   "cell_type": "code",
   "execution_count": 117,
   "metadata": {
    "colab": {
     "base_uri": "https://localhost:8080/"
    },
    "executionInfo": {
     "elapsed": 4,
     "status": "ok",
     "timestamp": 1664733969714,
     "user": {
      "displayName": "Gilberto Kaihami",
      "userId": "07651446941847976228"
     },
     "user_tz": 180
    },
    "id": "5KVUvZfu3jxv",
    "outputId": "11e1ecc3-2fc4-4ad8-a2d5-c7d297c9e27e"
   },
   "outputs": [
    {
     "data": {
      "text/plain": [
       "{'nomes': ['Sergio', 'Maria', 'João'],\n",
       " 'idades': [35, 42, 22],\n",
       " 'cidades': ['Niteroi', 'Manaus', 'São Paulo'],\n",
       " 'filhos': [0, 0, 3],\n",
       " 'altura': [1.8, 1.7, 1.62],\n",
       " 'profissao': ['Engenheiro', 'Cientista de dados', 'Advogado']}"
      ]
     },
     "execution_count": 117,
     "metadata": {},
     "output_type": "execute_result"
    }
   ],
   "source": [
    "cadastro"
   ]
  },
  {
   "cell_type": "markdown",
   "metadata": {
    "id": "ZxwJH0Wd48KQ"
   },
   "source": [
    "O primeiro passo consiste em verificar se uma chave existe no dicionário"
   ]
  },
  {
   "cell_type": "code",
   "execution_count": 118,
   "metadata": {
    "colab": {
     "base_uri": "https://localhost:8080/"
    },
    "executionInfo": {
     "elapsed": 243,
     "status": "ok",
     "timestamp": 1664734355107,
     "user": {
      "displayName": "Gilberto Kaihami",
      "userId": "07651446941847976228"
     },
     "user_tz": 180
    },
    "id": "DIqQo01I5TVc",
    "outputId": "39a25210-31b2-481b-cad1-401f616c26cc",
    "scrolled": true
   },
   "outputs": [
    {
     "name": "stdout",
     "output_type": "stream",
     "text": [
      "True\n",
      "False\n"
     ]
    }
   ],
   "source": [
    "# Quando perguntamos uma chave está presente na chaves de um dicionário:\n",
    "# Retornamos um booleano (True/False)\n",
    "# No caso de nomes retorna...\n",
    "print('nomes' in cadastro.keys())\n",
    "# No caso de rendas retorna...\n",
    "print('rendas' in cadastro.keys())"
   ]
  },
  {
   "cell_type": "code",
   "execution_count": 122,
   "metadata": {
    "colab": {
     "base_uri": "https://localhost:8080/"
    },
    "executionInfo": {
     "elapsed": 10943,
     "status": "ok",
     "timestamp": 1664734433985,
     "user": {
      "displayName": "Gilberto Kaihami",
      "userId": "07651446941847976228"
     },
     "user_tz": 180
    },
    "id": "iGkwUcaD47VF",
    "outputId": "386ed000-c0aa-43cf-d540-d6a94f8546f1"
   },
   "outputs": [
    {
     "name": "stdout",
     "output_type": "stream",
     "text": [
      "Insira a renda de Sergio: 340\n",
      "Insira a renda de Maria: 320\n",
      "Insira a renda de João: 320\n"
     ]
    }
   ],
   "source": [
    "# cadastro de renda\n",
    "for nome in cadastro['nomes']:\n",
    "  # print(nome)\n",
    "  renda = float(input(f'Insira a renda de {nome}: '))\n",
    "\n",
    "  if 'rendas' in cadastro.keys():\n",
    "    # Adicionando um valor para a chave `rendas`\n",
    "    cadastro['rendas'].append(renda)\n",
    "  else:\n",
    "    # Criando uma chave `rendas` com o primeiro valor sendo uma lista com um único elemento\n",
    "    cadastro['rendas'] = [renda]"
   ]
  },
  {
   "cell_type": "code",
   "execution_count": 123,
   "metadata": {
    "colab": {
     "base_uri": "https://localhost:8080/"
    },
    "executionInfo": {
     "elapsed": 539,
     "status": "ok",
     "timestamp": 1664734444043,
     "user": {
      "displayName": "Gilberto Kaihami",
      "userId": "07651446941847976228"
     },
     "user_tz": 180
    },
    "id": "NVt_CLNS52VU",
    "outputId": "7883dc18-68e1-4ba8-faf8-592fb21c61e9"
   },
   "outputs": [
    {
     "name": "stdout",
     "output_type": "stream",
     "text": [
      "{'nomes': ['Sergio', 'Maria', 'João'], 'idades': [35, 42, 22], 'cidades': ['Niteroi', 'Manaus', 'São Paulo'], 'filhos': [0, 0, 3], 'altura': [1.8, 1.7, 1.62], 'profissao': ['Engenheiro', 'Cientista de dados', 'Advogado'], 'rendas': [150.0, 500.1, 750.24, 340.0, 320.0, 320.0]}\n"
     ]
    }
   ],
   "source": [
    "print(cadastro)"
   ]
  },
  {
   "cell_type": "markdown",
   "metadata": {
    "id": "CpbAUaEO7o6M"
   },
   "source": [
    "Outra forma de acessar os valores do dicionário é utilizando o método `get`"
   ]
  },
  {
   "cell_type": "code",
   "execution_count": 124,
   "metadata": {
    "id": "ZxViAjXi7oOS"
   },
   "outputs": [],
   "source": [
    "carro = {\n",
    "    \"modelo\": \"Yaris\",\n",
    "    \"marca\": \"Toyota\",\n",
    "    \"ano\": 2020\n",
    "}"
   ]
  },
  {
   "cell_type": "code",
   "execution_count": 125,
   "metadata": {
    "colab": {
     "base_uri": "https://localhost:8080/",
     "height": 35
    },
    "executionInfo": {
     "elapsed": 7,
     "status": "ok",
     "timestamp": 1664818840238,
     "user": {
      "displayName": "Gilberto Kaihami",
      "userId": "07651446941847976228"
     },
     "user_tz": 180
    },
    "id": "F0HhcSmn7noA",
    "outputId": "5176b180-ceac-4424-d3b5-e7eafb8d6970"
   },
   "outputs": [
    {
     "data": {
      "text/plain": [
       "'Yaris'"
      ]
     },
     "execution_count": 125,
     "metadata": {},
     "output_type": "execute_result"
    }
   ],
   "source": [
    "carro.get(\"modelo\")"
   ]
  },
  {
   "cell_type": "markdown",
   "metadata": {
    "id": "B9Mb_FCv75pS"
   },
   "source": [
    "A vantagem do método `get` é quando tentamos acessar uma chave que não está presente no dicionário"
   ]
  },
  {
   "cell_type": "code",
   "execution_count": 126,
   "metadata": {
    "colab": {
     "base_uri": "https://localhost:8080/"
    },
    "executionInfo": {
     "elapsed": 5,
     "status": "ok",
     "timestamp": 1664818920956,
     "user": {
      "displayName": "Gilberto Kaihami",
      "userId": "07651446941847976228"
     },
     "user_tz": 180
    },
    "id": "bPiy5E5F75Jf",
    "outputId": "cf0b4db4-54a6-4857-c163-583e9e2576a5",
    "scrolled": true
   },
   "outputs": [
    {
     "ename": "KeyError",
     "evalue": "'cor'",
     "output_type": "error",
     "traceback": [
      "\u001b[1;31m---------------------------------------------------------------------------\u001b[0m",
      "\u001b[1;31mKeyError\u001b[0m                                  Traceback (most recent call last)",
      "\u001b[1;32m~\\AppData\\Local\\Temp/ipykernel_10624/2530715657.py\u001b[0m in \u001b[0;36m<module>\u001b[1;34m\u001b[0m\n\u001b[0;32m      1\u001b[0m \u001b[1;31m# Chave cor não está presente no dicionário carro\u001b[0m\u001b[1;33m\u001b[0m\u001b[1;33m\u001b[0m\u001b[0m\n\u001b[1;32m----> 2\u001b[1;33m \u001b[0mcarro\u001b[0m\u001b[1;33m[\u001b[0m\u001b[1;34m\"cor\"\u001b[0m\u001b[1;33m]\u001b[0m\u001b[1;33m\u001b[0m\u001b[1;33m\u001b[0m\u001b[0m\n\u001b[0m",
      "\u001b[1;31mKeyError\u001b[0m: 'cor'"
     ]
    }
   ],
   "source": [
    "# Chave cor não está presente no dicionário carro\n",
    "carro[\"cor\"]"
   ]
  },
  {
   "cell_type": "markdown",
   "metadata": {
    "id": "-z4uVNai8NJT"
   },
   "source": [
    "A estrutura do `get` é `get(<chave>, <default>)`\n",
    "\n",
    "Ou seja, podemos definir um valor padrão caso a chave não esteja presente"
   ]
  },
  {
   "cell_type": "code",
   "execution_count": 132,
   "metadata": {},
   "outputs": [
    {
     "name": "stdout",
     "output_type": "stream",
     "text": [
      "Não presente\n"
     ]
    }
   ],
   "source": [
    "print(carro.get('cor',\"Não presente\"))"
   ]
  },
  {
   "cell_type": "markdown",
   "metadata": {
    "colab": {
     "base_uri": "https://localhost:8080/"
    },
    "executionInfo": {
     "elapsed": 5,
     "status": "ok",
     "timestamp": 1664818977306,
     "user": {
      "displayName": "Gilberto Kaihami",
      "userId": "07651446941847976228"
     },
     "user_tz": 180
    },
    "id": "7LAcCuL973ox",
    "outputId": "26c3600f-3e13-45df-e01b-311ceff03df1"
   },
   "source": [
    "### Exercícios"
   ]
  },
  {
   "cell_type": "markdown",
   "metadata": {
    "id": "6bPagFIe8fl7"
   },
   "source": [
    "1. Utilize o método `get` de dicionário para imprimir o valor da chave \"cor\" de ambos os dicionários (carro_toyota, carro_ford), e caso a chave não esteja presente retorne o valor preto."
   ]
  },
  {
   "cell_type": "code",
   "execution_count": null,
   "metadata": {
    "id": "0Sc9tDuh8ZqM"
   },
   "outputs": [],
   "source": [
    "carro_toyota = {\n",
    "    \"modelo\": \"Yaris\",\n",
    "    \"marca\": \"Toyota\",\n",
    "    \"ano\": 2020\n",
    "}\n",
    "\n",
    "carro_ford = {\n",
    "    \"modelo\": \"Mustang\",\n",
    "    \"marca\": \"Ford\",\n",
    "    \"ano\": 1964,\n",
    "    \"cor\": \"amarelo\"\n",
    "}"
   ]
  },
  {
   "cell_type": "code",
   "execution_count": null,
   "metadata": {
    "id": "LllW440Z8dxQ"
   },
   "outputs": [],
   "source": []
  },
  {
   "cell_type": "markdown",
   "metadata": {
    "id": "EmoT0RZlBsd4"
   },
   "source": [
    "2. Escreva um programa que pergunte uma string para a pessoa usuária e retorne um dicionário cujas chaves são os caracteres da string de entrada e os valores a ocorrência de cada caracter na string.\n",
    "\n",
    "Por exemplo:\n",
    "\n",
    "Na string `language` o programa deve retornar o dicionário:\n",
    "\n",
    "```python\n",
    " {'l': 1, 'a': 2, 'n': 1, 'g': 2, 'u': 1, 'e': 1}\n",
    "```"
   ]
  },
  {
   "cell_type": "code",
   "execution_count": null,
   "metadata": {
    "id": "yngUZ4bCBrqV"
   },
   "outputs": [],
   "source": []
  },
  {
   "cell_type": "markdown",
   "metadata": {
    "id": "Qwwm-peiCSKf"
   },
   "source": [
    "3. Escreva um programa que aceite um inteiro (k) e retorne um dicionário em que a chave é um inteiro de 1 até o valor (k) e os valores são o fatorial desses (1!, 2!, ..., k!).\n",
    "\n",
    "Por exemplo:  \n",
    "Entrada k=1\n",
    "```\n",
    "{1: 1!}\n",
    "```\n",
    "\n",
    "Entrada k=2\n",
    "```\n",
    "{1: 1!,\n",
    " 2: 2!}\n",
    "```\n",
    "\n",
    "Entrada k=5\n",
    "```\n",
    "{1: 1!,\n",
    " 2: 2!,\n",
    " 3: 3!,\n",
    " 4: 4!,\n",
    " 5: 5!}\n",
    "```"
   ]
  },
  {
   "cell_type": "code",
   "execution_count": null,
   "metadata": {
    "colab": {
     "base_uri": "https://localhost:8080/"
    },
    "executionInfo": {
     "elapsed": 4,
     "status": "ok",
     "timestamp": 1665169226594,
     "user": {
      "displayName": "Gilberto Kaihami",
      "userId": "07651446941847976228"
     },
     "user_tz": 180
    },
    "id": "SLFdDBGh0fGr",
    "outputId": "8a2be80d-5a39-4857-c75a-a3edd785279c"
   },
   "outputs": [],
   "source": []
  },
  {
   "cell_type": "markdown",
   "metadata": {
    "id": "AWuaSDNgDVN9"
   },
   "source": [
    "4. Considere que temos um dicionário de tamanho N.\n",
    "\n",
    "Com os nomes sendo as chaves e as notas sendo os valores\n",
    "\n",
    "```\n",
    "{'Alex': [10, 5, 3],\n",
    " 'Maria': [5, 7, 6.5],\n",
    " ...}\n",
    "```\n",
    "Escreva um programa que pegue esse dicionário e retorne um novo dicionário com as chaves sendo os nomes dos estudantes e os valores a média de suas notas:\n",
    "\n",
    "```\n",
    "{'Alex': 6.0,\n",
    " 'Maria': 6.16\n",
    " ...\n",
    "```\n"
   ]
  },
  {
   "cell_type": "code",
   "execution_count": null,
   "metadata": {
    "colab": {
     "base_uri": "https://localhost:8080/"
    },
    "executionInfo": {
     "elapsed": 5,
     "status": "ok",
     "timestamp": 1665169327571,
     "user": {
      "displayName": "Gilberto Kaihami",
      "userId": "07651446941847976228"
     },
     "user_tz": 180
    },
    "id": "ztWiPNbYD0oE",
    "outputId": "ae67e056-937e-4b1b-eda5-d9c2a477b214"
   },
   "outputs": [],
   "source": [
    "dc = {'Alex': [10, 5, 3],\n",
    " 'Maria': [5, 7, 6.5]}\n"
   ]
  }
 ],
 "metadata": {
  "colab": {
   "authorship_tag": "ABX9TyPXbkehrudF6CWL2y9nw+Ni",
   "provenance": []
  },
  "kernelspec": {
   "display_name": "Python 3 (ipykernel)",
   "language": "python",
   "name": "python3"
  },
  "language_info": {
   "codemirror_mode": {
    "name": "ipython",
    "version": 3
   },
   "file_extension": ".py",
   "mimetype": "text/x-python",
   "name": "python",
   "nbconvert_exporter": "python",
   "pygments_lexer": "ipython3",
   "version": "3.9.7"
  }
 },
 "nbformat": 4,
 "nbformat_minor": 1
}
