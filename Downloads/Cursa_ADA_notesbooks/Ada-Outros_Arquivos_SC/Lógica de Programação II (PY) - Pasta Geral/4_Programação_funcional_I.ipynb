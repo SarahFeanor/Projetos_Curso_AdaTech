{
 "cells": [
  {
   "cell_type": "markdown",
   "metadata": {
    "id": "VVQhwQIFt9a0"
   },
   "source": [
    "## Lógica de programação II - Programação Funcional I\n",
    "\n",
    "Na aula de hoje iremos explorar os seguintes tópicos em Python:\n",
    "\n",
    "- Funções geradoras\n",
    "- Funções anônimas (lambda)\n",
    "- Filter\n",
    "- Map\n",
    "- Reduce"
   ]
  },
  {
   "cell_type": "markdown",
   "metadata": {
    "id": "9D0FzDneuX8K"
   },
   "source": [
    "### Funções geradoras\n",
    "\n",
    "As funções geradoras são uma maneira concisa de criar iteradores em Python, tornando o código mais eficiente e legível.\n",
    "\n",
    "Embora semelhantes às funções convencionais, as funções geradoras usam a palavra-chave \"yield\" em vez de \"return\". Essa diferença fundamental permite que a função retorne um iterador, e podemos utilizar a função **next()** para obter o próximo resultado. Quando chamamos **next()**, a função geradora é executada até encontrar o próximo **yield**. Nesse momento, o valor associado ao **yield** é retornado, e a execução da função é temporariamente pausada.\n",
    "\n",
    "Essa pausa é o que torna as funções geradoras tão poderosas, pois elas podem produzir valores sob demanda, economizando recursos ao não calcular todos os valores de uma vez. Esse comportamento \"lazy\" (preguiçoso) permite trabalhar com conjuntos de dados extensos sem sobrecarregar a memória.\n",
    "\n",
    "Em resumo, as funções geradoras são uma ferramenta valiosa para manipular iteráveis grandes e criar abstrações de maneira mais eficiente, garantindo que apenas os resultados necessários sejam processados a cada iteração."
   ]
  },
  {
   "cell_type": "code",
   "execution_count": null,
   "metadata": {
    "id": "B75U_6wLetVz"
   },
   "outputs": [],
   "source": [
    "def funcao_geradora():\n",
    "  print('Primeiro passo')\n",
    "  yield 1\n",
    "  print('Segundo passo')\n",
    "  yield 2\n",
    "  print('Terceiro passo')\n",
    "  yield 3\n",
    "  print('fim')"
   ]
  },
  {
   "cell_type": "code",
   "execution_count": null,
   "metadata": {
    "id": "4FuGxI2NubZ6"
   },
   "outputs": [],
   "source": [
    "gerador = funcao_geradora()"
   ]
  },
  {
   "cell_type": "code",
   "execution_count": null,
   "metadata": {
    "colab": {
     "base_uri": "https://localhost:8080/"
    },
    "id": "DNQTe1yLueZg",
    "outputId": "3d643cd5-bbfd-4542-9583-dd6692d6aaba"
   },
   "outputs": [],
   "source": [
    "print(gerador)"
   ]
  },
  {
   "cell_type": "code",
   "execution_count": null,
   "metadata": {
    "colab": {
     "base_uri": "https://localhost:8080/"
    },
    "id": "2IeELqG1vISO",
    "outputId": "2ca2ae11-a220-4330-dc33-79345ea74f66"
   },
   "outputs": [],
   "source": [
    "#Usando o next\n",
    "next(gerador)"
   ]
  },
  {
   "cell_type": "code",
   "execution_count": null,
   "metadata": {
    "colab": {
     "base_uri": "https://localhost:8080/"
    },
    "id": "NXokNyRCvLjD",
    "outputId": "51543937-4c80-4bcc-c96e-e0fa4ce190c3"
   },
   "outputs": [],
   "source": [
    "#Usando novamente o next\n",
    "next(gerador)"
   ]
  },
  {
   "cell_type": "code",
   "execution_count": null,
   "metadata": {
    "colab": {
     "base_uri": "https://localhost:8080/"
    },
    "id": "R7U6-bodvMXG",
    "outputId": "da414849-ee43-4ad6-d633-f49b1ab1fe84"
   },
   "outputs": [],
   "source": [
    "#Usando NOVAMENTE o next\n",
    "next(gerador)"
   ]
  },
  {
   "cell_type": "code",
   "execution_count": null,
   "metadata": {
    "colab": {
     "base_uri": "https://localhost:8080/",
     "height": 184
    },
    "id": "jF4k-Iw3vNAN",
    "outputId": "6bc2fd65-11df-4593-e851-75de18be33ae",
    "scrolled": true
   },
   "outputs": [],
   "source": [
    "#Usando NOVAMENTE(!!!!) o next\n",
    "next(gerador)"
   ]
  },
  {
   "cell_type": "markdown",
   "metadata": {
    "id": "HO4d_OofvS1q"
   },
   "source": [
    "**Quanto não houver mais `yield` ocorre uma excessão `StopIteraction`**\n",
    "\n",
    "Porém perceba que a palavra `fim` foi impressa, ou seja a função é executada, porém sem retorno."
   ]
  },
  {
   "cell_type": "markdown",
   "metadata": {
    "id": "xT8VB00-y09S"
   },
   "source": [
    "**Geradores** apresentam um padrão preguiçoso.\n",
    "\n",
    "Ou seja, o código não é executado até que seja necessário. Esse é um padrão diferente das funções que criamos até agora, em que todo o código era executado assim que fosse solicitado (eager evaluation).\n",
    "\n",
    "Quando temos problemas de memória, é comum utilizarmos os geradores. Quando a memória não é um problema, optamos pelo *eager evaluation* por apresentar, em geral, uma performance melhor.\n",
    "\n",
    "\n",
    "Para saber mais temos [essa palestra do PyCon de David Beazley em inglês](https://www.youtube.com/watch?v=D1twn9kLmYg)"
   ]
  },
  {
   "cell_type": "markdown",
   "metadata": {
    "id": "DobPjMk10_7k"
   },
   "source": [
    "Podemos ir passando por cada elemento gerado, através da função **next()**, ou iterando sobre o gerador com um laço:"
   ]
  },
  {
   "cell_type": "code",
   "execution_count": null,
   "metadata": {},
   "outputs": [],
   "source": [
    "gerador = funcao_geradora()"
   ]
  },
  {
   "cell_type": "code",
   "execution_count": null,
   "metadata": {
    "colab": {
     "base_uri": "https://localhost:8080/"
    },
    "id": "bEobPLws0_TG",
    "outputId": "ccc41ae7-0e72-42b5-df05-0d556ad37dca",
    "scrolled": false
   },
   "outputs": [],
   "source": [
    "#Iterando sobre o gerador com um laço for\n",
    "for g in gerador:\n",
    "    print(g)"
   ]
  },
  {
   "cell_type": "markdown",
   "metadata": {
    "id": "zrVnEt7A2HGN"
   },
   "source": [
    "Semelhante a compreensão de listas podemos criar geradores de uma linha"
   ]
  },
  {
   "cell_type": "code",
   "execution_count": null,
   "metadata": {
    "colab": {
     "base_uri": "https://localhost:8080/"
    },
    "id": "xsX8jVhb10D5",
    "outputId": "e0d0ce7f-e044-4306-ba4e-0387ae79239b"
   },
   "outputs": [],
   "source": [
    "quadrado_lista = [x**2 for x in range(10)]\n",
    "print(quadrado_lista)"
   ]
  },
  {
   "cell_type": "code",
   "execution_count": null,
   "metadata": {
    "colab": {
     "base_uri": "https://localhost:8080/"
    },
    "id": "d1IYnk-72Q1b",
    "outputId": "ba23abe2-ad08-4d51-e6ec-3e92e8e5a308"
   },
   "outputs": [],
   "source": [
    "# Utilizamos o `()` para iniciar o gerador\n",
    "quadrado_gen = (x**2 for x in range(10))\n",
    "print(quadrado_gen)"
   ]
  },
  {
   "cell_type": "code",
   "execution_count": null,
   "metadata": {},
   "outputs": [],
   "source": [
    "#Usando o next()\n",
    "print(next(quadrado_gen))"
   ]
  },
  {
   "cell_type": "code",
   "execution_count": null,
   "metadata": {},
   "outputs": [],
   "source": [
    "print(next(quadrado_gen))"
   ]
  },
  {
   "cell_type": "code",
   "execution_count": null,
   "metadata": {
    "colab": {
     "base_uri": "https://localhost:8080/"
    },
    "id": "vn9jzyhz2ZHP",
    "outputId": "229d6bbe-5b38-4054-bb61-0202a5bc6b7f"
   },
   "outputs": [],
   "source": [
    "#Usando o for para iterar\n",
    "quadrado_gen = (x**2 for x in range(10))\n",
    "for quadrado in quadrado_gen:\n",
    "  print(quadrado)"
   ]
  },
  {
   "cell_type": "markdown",
   "metadata": {
    "id": "EEiiKpsL2jgI"
   },
   "source": [
    "E segue a mesma lógica que list comprehension\n",
    "\n",
    "Com `if`:\n",
    "\n",
    "`(<expressão> for <variavel> in <iteravel> if <condicao>)`"
   ]
  },
  {
   "cell_type": "code",
   "execution_count": null,
   "metadata": {
    "colab": {
     "base_uri": "https://localhost:8080/"
    },
    "id": "PHYoVURG2jRj",
    "outputId": "a57b85e4-89c2-4cc2-d12c-fbb82f1d7532"
   },
   "outputs": [],
   "source": [
    "par_gen = (i for i in range(11) if i % 2 == 0)\n",
    "\n",
    "for par in par_gen:\n",
    "  print(par)"
   ]
  },
  {
   "cell_type": "code",
   "execution_count": null,
   "metadata": {
    "colab": {
     "base_uri": "https://localhost:8080/"
    },
    "id": "ksilr-m_2aQB",
    "outputId": "ba578396-7194-4bbf-e324-483803fe42f5"
   },
   "outputs": [],
   "source": [
    "par_impar_gen = (f\"{i} é par\" if i % 2 == 0 else f\"{i} é ímpar\" for i in range(11))\n",
    "\n",
    "for valor in par_impar_gen:\n",
    "  print(valor)"
   ]
  },
  {
   "cell_type": "markdown",
   "metadata": {
    "id": "ioBSB4mi3L64"
   },
   "source": [
    "Uma vantagem dos geradores é no uso de memória"
   ]
  },
  {
   "cell_type": "code",
   "execution_count": null,
   "metadata": {},
   "outputs": [],
   "source": [
    "import sys"
   ]
  },
  {
   "cell_type": "code",
   "execution_count": null,
   "metadata": {},
   "outputs": [],
   "source": [
    "quadrado_lista = [x**2 for x in range(10000)]\n",
    "quadrado_gen = (x**2 for x in range(10000))"
   ]
  },
  {
   "cell_type": "code",
   "execution_count": null,
   "metadata": {},
   "outputs": [],
   "source": [
    "sys.getsizeof(quadrado_lista) #bytes"
   ]
  },
  {
   "cell_type": "code",
   "execution_count": null,
   "metadata": {},
   "outputs": [],
   "source": [
    "sys.getsizeof(quadrado_gen) #bytes"
   ]
  },
  {
   "cell_type": "markdown",
   "metadata": {
    "id": "AIfUn_1n4k6D"
   },
   "source": [
    "### Funções anônimas (lambda)\n",
    "\n",
    "Funções anônimas, também conhecidas como funções lambda, são funções que não necessariamente precisam ser declaras, no caso de Python declaramos uma função com a palavra reservada `def`. Ou seja, não precisamos dar nomes para essas funções.\n",
    "\n",
    "Elas são úteis quando precisamos de uma função simples, que será utilizada apenas uma vez e não precisa ser reutilizada em outro lugar do código."
   ]
  },
  {
   "cell_type": "markdown",
   "metadata": {
    "id": "MuqhdR5808FU"
   },
   "source": [
    "**A sintaxe para a função lambda em Python é:**\n",
    "\n",
    "`lambda <params> : <expressao>`"
   ]
  },
  {
   "cell_type": "code",
   "execution_count": 1,
   "metadata": {
    "colab": {
     "base_uri": "https://localhost:8080/"
    },
    "id": "QLOU9z3q1XVN",
    "outputId": "6fb346e2-6267-428a-dcc9-3bcb588e85de"
   },
   "outputs": [
    {
     "name": "stdout",
     "output_type": "stream",
     "text": [
      "<function quadrado at 0x000001D887A1E790>\n",
      "4\n",
      "9\n",
      "16\n"
     ]
    }
   ],
   "source": [
    "# Declarando uma função\n",
    "def quadrado(x):\n",
    "  return x**2\n",
    "\n",
    "print(quadrado)\n",
    "print(quadrado(2))\n",
    "print(quadrado(3))\n",
    "print(quadrado(4))"
   ]
  },
  {
   "cell_type": "code",
   "execution_count": 2,
   "metadata": {
    "colab": {
     "base_uri": "https://localhost:8080/"
    },
    "id": "0p6t2EFr3hf3",
    "outputId": "7cd27eec-40af-4f7e-c5aa-9edbae15fa4c",
    "scrolled": true
   },
   "outputs": [
    {
     "name": "stdout",
     "output_type": "stream",
     "text": [
      "<function <lambda> at 0x000001D887A601F0>\n",
      "4\n",
      "9\n",
      "16\n"
     ]
    }
   ],
   "source": [
    "# Função que eleva um numero ao quadrado usando o lambda\n",
    "quadrado_lambda = lambda x : x**2\n",
    "\n",
    "print(quadrado_lambda)\n",
    "print(quadrado_lambda(2))\n",
    "print(quadrado_lambda(3))\n",
    "print(quadrado_lambda(4))"
   ]
  },
  {
   "cell_type": "markdown",
   "metadata": {},
   "source": [
    "Podemos armazenar a função lambda em uma variável, como no exemplo acima, ou chamá-la diretamente:"
   ]
  },
  {
   "cell_type": "code",
   "execution_count": 3,
   "metadata": {},
   "outputs": [
    {
     "name": "stdout",
     "output_type": "stream",
     "text": [
      "4\n"
     ]
    }
   ],
   "source": [
    "#Chamando diretamente uma função lambda\n",
    "print((lambda x : x**2)(2))"
   ]
  },
  {
   "cell_type": "code",
   "execution_count": 4,
   "metadata": {
    "colab": {
     "base_uri": "https://localhost:8080/"
    },
    "id": "LxVoHWhF1TUm",
    "outputId": "ffa4e43d-f973-446e-b335-c2eaed1923f8"
   },
   "outputs": [
    {
     "data": {
      "text/plain": [
       "3"
      ]
     },
     "execution_count": 4,
     "metadata": {},
     "output_type": "execute_result"
    }
   ],
   "source": [
    "# Lambda com dois argumentos\n",
    "soma = lambda a,b : a+b\n",
    "soma(1,2)"
   ]
  },
  {
   "cell_type": "markdown",
   "metadata": {},
   "source": [
    "Função lambda com condicionais:"
   ]
  },
  {
   "cell_type": "code",
   "execution_count": null,
   "metadata": {
    "colab": {
     "base_uri": "https://localhost:8080/"
    },
    "id": "Ue3xPUMW1U4v",
    "outputId": "543e7430-d607-48fa-c6ad-f485cc03ff4c"
   },
   "outputs": [],
   "source": [
    "is_impar = lambda x : False if x % 2 == 0 else True\n",
    "is_par = lambda x : True if x % 2 == 0 else False\n",
    "\n",
    "print('2 é impar?', is_impar(2))\n",
    "print('2 é par?', is_par(2))"
   ]
  },
  {
   "cell_type": "code",
   "execution_count": 5,
   "metadata": {},
   "outputs": [
    {
     "data": {
      "text/plain": [
       "False"
      ]
     },
     "execution_count": 5,
     "metadata": {},
     "output_type": "execute_result"
    }
   ],
   "source": [
    "is_impar = lambda x : x % 2 != 0\n",
    "is_impar(2)"
   ]
  },
  {
   "cell_type": "code",
   "execution_count": 9,
   "metadata": {},
   "outputs": [
    {
     "data": {
      "text/plain": [
       "False"
      ]
     },
     "execution_count": 9,
     "metadata": {},
     "output_type": "execute_result"
    }
   ],
   "source": [
    "4 % 2 != 0"
   ]
  },
  {
   "cell_type": "code",
   "execution_count": 7,
   "metadata": {},
   "outputs": [
    {
     "data": {
      "text/plain": [
       "True"
      ]
     },
     "execution_count": 7,
     "metadata": {},
     "output_type": "execute_result"
    }
   ],
   "source": [
    "is_par = lambda x : x % 2 == 0\n",
    "is_par(2)"
   ]
  },
  {
   "cell_type": "markdown",
   "metadata": {},
   "source": [
    "Outros tipos de dados:"
   ]
  },
  {
   "cell_type": "code",
   "execution_count": 10,
   "metadata": {
    "colab": {
     "base_uri": "https://localhost:8080/"
    },
    "id": "vtdfrvoA3KxN",
    "outputId": "f04f37a4-5bdb-4e32-de47-5481984b467c"
   },
   "outputs": [
    {
     "name": "stdout",
     "output_type": "stream",
     "text": [
      "[0, 2, 6]\n"
     ]
    }
   ],
   "source": [
    "# Aceita qualquer tipo de dados!\n",
    "multiplica_numeros = lambda ls : [x*idx for idx, x in enumerate(ls)]\n",
    "\n",
    "print(multiplica_numeros([1,2,3]))"
   ]
  },
  {
   "cell_type": "code",
   "execution_count": 13,
   "metadata": {},
   "outputs": [],
   "source": [
    "mes = [\n",
    "    'Jan',\n",
    "    'Fev',\n",
    "    'Mar',\n",
    "    'Abr',\n",
    "    'Mai',\n",
    "    'Jun',\n",
    "    'Jul',\n",
    "    'Ago',\n",
    "    'Set',\n",
    "    'Out',\n",
    "    'Nov',\n",
    "    'Dez']"
   ]
  },
  {
   "cell_type": "code",
   "execution_count": 14,
   "metadata": {},
   "outputs": [],
   "source": [
    "mes_dict = {k: mes for k, mes in enumerate(mes, start=1)}"
   ]
  },
  {
   "cell_type": "code",
   "execution_count": 15,
   "metadata": {},
   "outputs": [],
   "source": [
    "num_para_mes = lambda num, mes_dict: mes_dict[num]"
   ]
  },
  {
   "cell_type": "code",
   "execution_count": 16,
   "metadata": {},
   "outputs": [
    {
     "name": "stdout",
     "output_type": "stream",
     "text": [
      "Set\n"
     ]
    }
   ],
   "source": [
    "print(num_para_mes(9, mes_dict))"
   ]
  },
  {
   "cell_type": "code",
   "execution_count": 12,
   "metadata": {},
   "outputs": [
    {
     "data": {
      "text/plain": [
       "{1: 'Jan',\n",
       " 2: 'Fev',\n",
       " 3: 'Mar',\n",
       " 4: 'Abr',\n",
       " 5: 'Mai',\n",
       " 6: 'Jun',\n",
       " 7: 'Jul',\n",
       " 8: 'Ago',\n",
       " 9: 'Set',\n",
       " 10: 'Out',\n",
       " 11: 'Nov',\n",
       " 12: 'Dez'}"
      ]
     },
     "execution_count": 12,
     "metadata": {},
     "output_type": "execute_result"
    }
   ],
   "source": [
    "mes_dict"
   ]
  },
  {
   "cell_type": "code",
   "execution_count": 17,
   "metadata": {},
   "outputs": [
    {
     "name": "stdout",
     "output_type": "stream",
     "text": [
      "teste\n"
     ]
    }
   ],
   "source": [
    "funcao = lambda : print('teste')\n",
    "funcao()"
   ]
  },
  {
   "cell_type": "markdown",
   "metadata": {},
   "source": [
    "Funções como argumentos:"
   ]
  },
  {
   "cell_type": "code",
   "execution_count": 18,
   "metadata": {
    "colab": {
     "base_uri": "https://localhost:8080/"
    },
    "id": "Vz5P-SCc4RE3",
    "outputId": "106af811-8839-4b87-a2b8-94373f68cd5a"
   },
   "outputs": [
    {
     "name": "stdout",
     "output_type": "stream",
     "text": [
      "9\n"
     ]
    }
   ],
   "source": [
    "# Podemos passar funções como argumentos\n",
    "def soma_numeros(a,b):\n",
    "  return a+b\n",
    "\n",
    "soma_e_multiplica = lambda a,b,fator : soma_numeros(a,b) * fator\n",
    "\n",
    "print(soma_e_multiplica(1, 2, 3))"
   ]
  },
  {
   "cell_type": "markdown",
   "metadata": {},
   "source": [
    "Encadeamento de funções:"
   ]
  },
  {
   "cell_type": "code",
   "execution_count": 19,
   "metadata": {
    "colab": {
     "base_uri": "https://localhost:8080/"
    },
    "id": "RNAONKlF4qWu",
    "outputId": "e90b7982-d810-4145-a01d-edf25b5b78c2"
   },
   "outputs": [
    {
     "name": "stdout",
     "output_type": "stream",
     "text": [
      "30\n",
      "20\n",
      "40\n"
     ]
    }
   ],
   "source": [
    "# A principal vantagem é encadear as funções\n",
    "\n",
    "soma = lambda a, b: a+b\n",
    "subtracao = lambda a,b: a-b\n",
    "multiplica = lambda a,b: a*b\n",
    "\n",
    "a = 10\n",
    "b = 20\n",
    "c = 10\n",
    "d = 2\n",
    "\n",
    "resultado = soma(a,b)\n",
    "print(resultado)\n",
    "resultado = subtracao(resultado,c)\n",
    "print(resultado)\n",
    "resultado = multiplica(resultado,d)\n",
    "print(resultado)"
   ]
  },
  {
   "cell_type": "markdown",
   "metadata": {
    "id": "3lX-vvvs5T83"
   },
   "source": [
    "O código acima pode ser pensado como:\n",
    "\n",
    "`h(g(f(x)))`\n",
    "\n",
    "Ou:\n",
    "\n",
    "`multiplica( subtracao ( soma (a, b ), c ), d )`\n",
    "\n",
    "`multiplica ( subtracao (resultado_soma, c ), d ) `\n",
    "\n",
    "`multiplica ( resultado_subtracao, d )`\n"
   ]
  },
  {
   "cell_type": "code",
   "execution_count": 20,
   "metadata": {
    "colab": {
     "base_uri": "https://localhost:8080/"
    },
    "id": "mx9gUcXD5Tn7",
    "outputId": "6c1733b9-f2f8-4450-f431-09572c01e915"
   },
   "outputs": [
    {
     "data": {
      "text/plain": [
       "40"
      ]
     },
     "execution_count": 20,
     "metadata": {},
     "output_type": "execute_result"
    }
   ],
   "source": [
    "resultado = multiplica(subtracao(soma(a,b),c),d)\n",
    "resultado"
   ]
  },
  {
   "cell_type": "markdown",
   "metadata": {
    "id": "LJMv6B9p7j2u"
   },
   "source": [
    "### Filter\n",
    "\n",
    "A função \"filter\" desempenha o papel de filtrar elementos de iteráveis que atendam a critérios específicos. Esses critérios são definidos por uma função que deve retornar \"True\" ou \"False\" com base em cada argumento de entrada.\n",
    "\n",
    "Com a função \"filter\", podemos facilmente selecionar os elementos que nos interessam, eliminando aqueles que não se enquadram nos requisitos estabelecidos pela função fornecida. Essa abordagem funcional é poderosa e flexível, permitindo uma manipulação mais precisa e concisa dos dados contidos nos iteráveis.\n",
    "\n",
    "\n",
    "A sintaxe utilizada é:\n",
    "\n",
    "`filter(<função>, <iteravel>)`"
   ]
  },
  {
   "cell_type": "code",
   "execution_count": 21,
   "metadata": {},
   "outputs": [],
   "source": [
    "def is_par(x):\n",
    "    return x % 2 == 0"
   ]
  },
  {
   "cell_type": "code",
   "execution_count": 23,
   "metadata": {},
   "outputs": [
    {
     "data": {
      "text/plain": [
       "False"
      ]
     },
     "execution_count": 23,
     "metadata": {},
     "output_type": "execute_result"
    }
   ],
   "source": [
    "is_par(3)"
   ]
  },
  {
   "cell_type": "code",
   "execution_count": 36,
   "metadata": {
    "colab": {
     "base_uri": "https://localhost:8080/"
    },
    "id": "uIUYsSWf5RDB",
    "outputId": "a2b31a46-2341-4e24-f3b3-85d50d3beb9b"
   },
   "outputs": [
    {
     "data": {
      "text/plain": [
       "[6, 4, 8, 2]"
      ]
     },
     "execution_count": 36,
     "metadata": {},
     "output_type": "execute_result"
    }
   ],
   "source": [
    "is_par = lambda x: x%2 == 0\n",
    "\n",
    "numeros = [3, 6, 4, 8, 7, 2, 5]\n",
    "\n",
    "list(filter(is_par,numeros))"
   ]
  },
  {
   "cell_type": "code",
   "execution_count": 27,
   "metadata": {
    "scrolled": true
   },
   "outputs": [
    {
     "name": "stdout",
     "output_type": "stream",
     "text": [
      "6\n",
      "4\n",
      "8\n",
      "2\n"
     ]
    },
    {
     "data": {
      "text/plain": [
       "[6, 4, 8, 2]"
      ]
     },
     "execution_count": 27,
     "metadata": {},
     "output_type": "execute_result"
    }
   ],
   "source": [
    "lista = []\n",
    "for i in filter(is_par,numeros):\n",
    "    print(i)\n",
    "    lista.append(i)\n",
    "lista"
   ]
  },
  {
   "cell_type": "code",
   "execution_count": 6,
   "metadata": {
    "id": "kuh4Y5YE5Np1"
   },
   "outputs": [],
   "source": [
    "cadastros = [\n",
    "    {\n",
    "     'produto': 'camisa',\n",
    "     'preco': 10.29,\n",
    "     'categoria': 'moda'\n",
    "  },\n",
    "    {\n",
    "     'produto': 'saia',\n",
    "     'preco': 3.29,\n",
    "     'categoria': 'moda'\n",
    "  },\n",
    "    {\n",
    "     'produto': 'feijão',\n",
    "     'preco': 5.00,\n",
    "     'categoria': 'alimento'\n",
    "  },\n",
    "    {\n",
    "     'produto': 'arroz',\n",
    "     'preco': 7.25,\n",
    "     'categoria': 'alimento'\n",
    "  },\n",
    "    {\n",
    "     'produto': 'vestido',\n",
    "     'preco': 40.00,\n",
    "     'categoria': 'moda'\n",
    "  },\n",
    "    {\n",
    "     'produto': 'pão',\n",
    "     'preco': 1.99,\n",
    "     'categoria': 'alimento'\n",
    "  },\n",
    "]"
   ]
  },
  {
   "cell_type": "code",
   "execution_count": 30,
   "metadata": {
    "colab": {
     "base_uri": "https://localhost:8080/"
    },
    "id": "QxKcNt5R8bg0",
    "outputId": "d282e7ed-6ad1-4fb3-8db4-ca98cba8aff6"
   },
   "outputs": [
    {
     "name": "stdout",
     "output_type": "stream",
     "text": [
      "moda:  [{'produto': 'camisa', 'preco': 10.29, 'categoria': 'moda'}, {'produto': 'saia', 'preco': 3.29, 'categoria': 'moda'}, {'produto': 'vestido', 'preco': 40.0, 'categoria': 'moda'}]\n",
      "alimentos:  [{'produto': 'feijão', 'preco': 5.0, 'categoria': 'alimento'}, {'produto': 'arroz', 'preco': 7.25, 'categoria': 'alimento'}, {'produto': 'pão', 'preco': 1.99, 'categoria': 'alimento'}]\n"
     ]
    }
   ],
   "source": [
    "is_moda = lambda dc: dc['categoria'] == 'moda'\n",
    "is_alimento = lambda dc: dc['categoria'] == 'alimento'\n",
    "\n",
    "# Filtrando produtos com a categoria moda\n",
    "print('moda: ', list(filter(is_moda,cadastros)))\n",
    "# Filtrando produtos com a categoria alimento\n",
    "print('alimentos: ',list(filter(is_alimento,cadastros)))"
   ]
  },
  {
   "cell_type": "code",
   "execution_count": 31,
   "metadata": {
    "colab": {
     "base_uri": "https://localhost:8080/"
    },
    "id": "7qUg2MWHAMQx",
    "outputId": "6eecbd24-7fd0-4c6d-e9d7-d8b7cb01d42d"
   },
   "outputs": [
    {
     "name": "stdout",
     "output_type": "stream",
     "text": [
      "moda [{'produto': 'camisa', 'preco': 10.29, 'categoria': 'moda'}, {'produto': 'saia', 'preco': 3.29, 'categoria': 'moda'}, {'produto': 'vestido', 'preco': 40.0, 'categoria': 'moda'}]\n"
     ]
    }
   ],
   "source": [
    "# O mesmo pode ser obtido com compreensoes de lista\n",
    "print('moda',\n",
    "      [prod for prod in cadastros if prod['categoria'] == 'moda']\n",
    "      )"
   ]
  },
  {
   "cell_type": "code",
   "execution_count": 33,
   "metadata": {},
   "outputs": [
    {
     "name": "stdout",
     "output_type": "stream",
     "text": [
      "alimento [{'produto': 'feijão', 'preco': 5.0, 'categoria': 'alimento'}, {'produto': 'arroz', 'preco': 7.25, 'categoria': 'alimento'}, {'produto': 'pão', 'preco': 1.99, 'categoria': 'alimento'}]\n"
     ]
    }
   ],
   "source": [
    "print('alimento',\n",
    "      [prod for prod in cadastros if prod['categoria'] == 'alimento']\n",
    "      )"
   ]
  },
  {
   "cell_type": "markdown",
   "metadata": {
    "id": "d06dWvJa83QF"
   },
   "source": [
    "### Map\n",
    "\n",
    "Frequentemente, nos deparamos com situações em que desejamos aplicar uma operação a todos os itens de um iterável de entrada, como uma lista, um conjunto ou uma tupla, para criar um novo iterável.\n",
    "\n",
    "A abordagem tradicional para lidar com esse tipo de problema é utilizar os loops \"for\" ou \"while\" do Python.\n",
    "\n",
    "No entanto, existe uma maneira mais elegante de resolver esse problema sem recorrer a repetições explícitas. É possível utilizar a função \"map()\", que faz parte da biblioteca padrão da linguagem, dispensando a necessidade de instalar pacotes externos através do \"pip\" ou fazer importações adicionais. A função \"map()\" permite aplicar uma função fornecida a cada elemento do iterável, criando assim um novo iterável contendo os resultados dessas aplicações.\n",
    "\n",
    "Ao aproveitar a função \"map()\", podemos simplificar o código, tornando-o mais legível e conciso, ao mesmo tempo que exploramos a eficiência e a praticidade da programação funcional em Python.\n",
    "\n",
    "A sintaxe é:\n",
    "`map(<funcao>, <iteravel>`)"
   ]
  },
  {
   "cell_type": "code",
   "execution_count": 34,
   "metadata": {
    "colab": {
     "base_uri": "https://localhost:8080/"
    },
    "id": "hxqkNZI68p9b",
    "outputId": "15b70305-5e40-4288-92e6-f9756226dac7"
   },
   "outputs": [
    {
     "name": "stdout",
     "output_type": "stream",
     "text": [
      "[1, 16, 25, 9, 81]\n",
      "[1, 16, 25, 9, 81]\n"
     ]
    }
   ],
   "source": [
    "def eleva_quadrado(x):\n",
    "  return x ** 2\n",
    "\n",
    "numeros = [1, 4, 5, 3, 9]\n",
    "\n",
    "numeros_quadrado = list(map(eleva_quadrado,numeros))\n",
    "print(numeros_quadrado)\n",
    "\n",
    "# Resultado similar pode ser obtido com compreensão de listas\n",
    "print([x**2 for x in numeros])"
   ]
  },
  {
   "cell_type": "code",
   "execution_count": 37,
   "metadata": {
    "colab": {
     "base_uri": "https://localhost:8080/"
    },
    "id": "c4QNrodf9m1z",
    "outputId": "6bc8a0bc-535d-4f7b-91c5-192af7188a78"
   },
   "outputs": [
    {
     "name": "stdout",
     "output_type": "stream",
     "text": [
      "[16, 4, 256]\n",
      "[16, 4, 256]\n"
     ]
    }
   ],
   "source": [
    "# Podemos combinar o filter, lambda e map!\n",
    "is_par = lambda x: x%2 == 0\n",
    "def eleva_quadrado(x):\n",
    "  return x ** 2\n",
    "\n",
    "numeros = [1, 4, 5, 3, 9, 2, 16]\n",
    "\n",
    "numeros_pares_quadrado = list(map(eleva_quadrado,filter(is_par,numeros)))\n",
    "print(numeros_pares_quadrado)\n",
    "\n",
    "# Com compreensões de lista\n",
    "print([x**2 for x in numeros if x % 2 == 0])"
   ]
  },
  {
   "cell_type": "code",
   "execution_count": 38,
   "metadata": {
    "colab": {
     "base_uri": "https://localhost:8080/"
    },
    "id": "rQYTmkhU-Jme",
    "outputId": "039ad4c1-f60b-40a0-e9f5-aa72fa08d2cc"
   },
   "outputs": [
    {
     "data": {
      "text/plain": [
       "[{'produto': 'camisa', 'preco': 10.29, 'categoria': 'moda'},\n",
       " {'produto': 'saia', 'preco': 3.29, 'categoria': 'moda'},\n",
       " {'produto': 'feijão', 'preco': 5.0, 'categoria': 'alimento'},\n",
       " {'produto': 'arroz', 'preco': 7.25, 'categoria': 'alimento'},\n",
       " {'produto': 'vestido', 'preco': 40.0, 'categoria': 'moda'},\n",
       " {'produto': 'pão', 'preco': 1.99, 'categoria': 'alimento'}]"
      ]
     },
     "execution_count": 38,
     "metadata": {},
     "output_type": "execute_result"
    }
   ],
   "source": [
    "# pegando os preços\n",
    "cadastros"
   ]
  },
  {
   "cell_type": "code",
   "execution_count": 39,
   "metadata": {
    "colab": {
     "base_uri": "https://localhost:8080/"
    },
    "id": "NZ7nClG9ApLc",
    "outputId": "f8e5ea45-f426-43e9-ddc7-26312bc80b19"
   },
   "outputs": [
    {
     "name": "stdout",
     "output_type": "stream",
     "text": [
      "[10.29, 3.29, 40.0]\n"
     ]
    }
   ],
   "source": [
    "is_moda = lambda dc: dc['categoria'] == 'moda'\n",
    "pega_precos = lambda dc: dc['preco']\n",
    "\n",
    "preco_itens_moda = list(map(pega_precos,filter(is_moda,cadastros)))\n",
    "\n",
    "print(preco_itens_moda)"
   ]
  },
  {
   "cell_type": "code",
   "execution_count": 40,
   "metadata": {
    "colab": {
     "base_uri": "https://localhost:8080/"
    },
    "id": "4hegzxwQA3Dd",
    "outputId": "99c2cc4c-ac6a-409b-ded7-540754e9a0bb"
   },
   "outputs": [
    {
     "data": {
      "text/plain": [
       "[10.29, 3.29, 40.0]"
      ]
     },
     "execution_count": 40,
     "metadata": {},
     "output_type": "execute_result"
    }
   ],
   "source": [
    "# Com compreensões de lista\n",
    "[cadastro['preco'] for cadastro in cadastros if cadastro['categoria'] == 'moda']"
   ]
  },
  {
   "cell_type": "markdown",
   "metadata": {},
   "source": [
    "Map com múltiplas listas:"
   ]
  },
  {
   "cell_type": "code",
   "execution_count": 41,
   "metadata": {
    "colab": {
     "base_uri": "https://localhost:8080/"
    },
    "id": "htNuKZIoC0oV",
    "outputId": "3024b4b6-d71d-4d24-9364-61dbc95a5e8a"
   },
   "outputs": [
    {
     "data": {
      "text/plain": [
       "[5, 7, 9]"
      ]
     },
     "execution_count": 41,
     "metadata": {},
     "output_type": "execute_result"
    }
   ],
   "source": [
    "soma = lambda a, b: a+b\n",
    "# Irá funcionar como o zip!\n",
    "primeira_lista = [1,2,3]\n",
    "segunda_lista = [4,5,6]\n",
    "list(map(soma,primeira_lista,segunda_lista))"
   ]
  },
  {
   "cell_type": "code",
   "execution_count": 44,
   "metadata": {},
   "outputs": [
    {
     "data": {
      "text/plain": [
       "[12, 15, 18]"
      ]
     },
     "execution_count": 44,
     "metadata": {},
     "output_type": "execute_result"
    }
   ],
   "source": [
    "#Map com tres iteraveis\n",
    "soma = lambda a,b,c: a+b+c\n",
    "# Irá funcionar como o zip!\n",
    "primeira_lista = [1,2,3]\n",
    "segunda_lista = [4,5,6]\n",
    "terceira_lista = [7,8,9]\n",
    "list(map(soma,primeira_lista,segunda_lista,terceira_lista))"
   ]
  },
  {
   "cell_type": "code",
   "execution_count": 42,
   "metadata": {
    "colab": {
     "base_uri": "https://localhost:8080/"
    },
    "id": "hSQgzBjIDCzl",
    "outputId": "49a10164-453d-4be7-8958-e88b278244b6"
   },
   "outputs": [
    {
     "data": {
      "text/plain": [
       "[5, 7, 9]"
      ]
     },
     "execution_count": 42,
     "metadata": {},
     "output_type": "execute_result"
    }
   ],
   "source": [
    "# Com compreensões de lista\n",
    "[a+b for a,b in zip([1,2,3], [4, 5, 6])]"
   ]
  },
  {
   "cell_type": "code",
   "execution_count": 47,
   "metadata": {},
   "outputs": [
    {
     "data": {
      "text/plain": [
       "[12, 15, 18]"
      ]
     },
     "execution_count": 47,
     "metadata": {},
     "output_type": "execute_result"
    }
   ],
   "source": [
    "# Com compreensões de lista etres iteraveis\n",
    "[a+b+c for a,b,c in zip([1,2,3], [4, 5, 6],[7,8,9])]"
   ]
  },
  {
   "cell_type": "markdown",
   "metadata": {
    "id": "IucqyXqpBWmX"
   },
   "source": [
    "### Reduce\n",
    "\n",
    "Em Python, a função \"reduce\" faz parte do módulo \"functools\" e é utilizada para realizar uma operação cumulativa em uma sequência de elementos (como uma lista ou tupla) para reduzi-los a um único valor. É uma função bastante poderosa, especialmente quando se trata de simplificar operações complexas em coleções de dados.\n",
    "\n",
    "A sintaxe é:\n",
    "`reduce(<funcao>, <iteravel>, <valor inicial>)`\n",
    "\n",
    "Onde:\n",
    "\n",
    "- \"funcao\" é a função que define a operação a ser aplicada cumulativamente nos elementos da sequência.\n",
    "- \"iteravel\" é o iterável contendo os elementos a serem reduzidos.\n",
    "- \"valor inicial\" é um argumento opcional que representa o valor inicial do acumulador. Se não for fornecido, o primeiro elemento da sequência será usado como valor inicial."
   ]
  },
  {
   "cell_type": "markdown",
   "metadata": {},
   "source": [
    "Para que a função **reduce** funcione corretamente, a **funcao** fornecida deve aceitar dois argumentos e retornar o resultado da operação que será acumulada. Por exemplo, se você deseja somar todos os elementos em uma sequência, a **funcao** seria algo como \n",
    "\n",
    "`lambda x, y: x + y`\n",
    "\n",
    "Aqui está um exemplo simples de como usar a função **reduce** para calcular a soma de uma lista de números:"
   ]
  },
  {
   "cell_type": "code",
   "execution_count": 3,
   "metadata": {
    "colab": {
     "base_uri": "https://localhost:8080/"
    },
    "id": "oneJnBkNBS3F",
    "outputId": "7c1800d8-8074-41c1-c6f0-18dfec2f6ec3"
   },
   "outputs": [
    {
     "name": "stdout",
     "output_type": "stream",
     "text": [
      "15\n"
     ]
    }
   ],
   "source": [
    "# Importando o reduce\n",
    "from functools import reduce\n",
    "\n",
    "soma = lambda x,y : x + y\n",
    "\n",
    "lista = [0, 1, 3, 5, 6]\n",
    "\n",
    "resultado = reduce(soma,lista)\n",
    "\n",
    "print(resultado)"
   ]
  },
  {
   "cell_type": "code",
   "execution_count": 4,
   "metadata": {},
   "outputs": [
    {
     "data": {
      "text/plain": [
       "15"
      ]
     },
     "execution_count": 4,
     "metadata": {},
     "output_type": "execute_result"
    }
   ],
   "source": [
    "import functools\n",
    "\n",
    "functools.reduce(soma,lista)"
   ]
  },
  {
   "cell_type": "markdown",
   "metadata": {
    "id": "eqfOa8KgF4Oa"
   },
   "source": [
    "No caso acima estamos realizando a operação\n",
    "\n",
    "`(0+1) -> 1`\n",
    "\n",
    "`(1+3) -> 4`\n",
    "\n",
    "`(4+5) -> 9`\n",
    "\n",
    "`(9+6) -> 15`\n",
    "\n",
    "ou\n",
    "\n",
    "`((((0+1)+3)+5)+6)`"
   ]
  },
  {
   "cell_type": "code",
   "execution_count": 5,
   "metadata": {
    "colab": {
     "base_uri": "https://localhost:8080/"
    },
    "id": "PrWMO0oxF3CF",
    "outputId": "144ad28c-c92d-4277-9dfe-0c28e9cca1e0"
   },
   "outputs": [
    {
     "name": "stdout",
     "output_type": "stream",
     "text": [
      "20\n"
     ]
    }
   ],
   "source": [
    "# Modificando o valor inicial\n",
    "resultado5 = reduce(soma, lista, 5) # Neste caso o valor inicial é 5\n",
    "print(resultado5)"
   ]
  },
  {
   "cell_type": "markdown",
   "metadata": {},
   "source": [
    "Em resumo, a função **reduce** é uma ferramenta útil para realizar operações cumulativas em sequências de elementos, permitindo que você aplique uma função de redução personalizada em coleções de dados para obter um resultado final. No entanto, vale lembrar que, a partir do Python 3, a função **reduce** foi movida para o módulo **functools** e não é mais uma função built-in, portanto, é necessário importá-la antes de utilizá-la."
   ]
  },
  {
   "cell_type": "markdown",
   "metadata": {
    "id": "KtQoF1d8IIHH"
   },
   "source": [
    "Além do que vimos acima, o **reduce** é interessante para separar uma estrutura complexa criando uma hierarquia de dados (chaves)"
   ]
  },
  {
   "cell_type": "code",
   "execution_count": 7,
   "metadata": {
    "colab": {
     "base_uri": "https://localhost:8080/"
    },
    "id": "YFL7k6QdGYUh",
    "outputId": "4821f865-a0ca-4e91-818d-09d690e70c5a"
   },
   "outputs": [
    {
     "data": {
      "text/plain": [
       "[{'produto': 'camisa', 'preco': 10.29, 'categoria': 'moda'},\n",
       " {'produto': 'saia', 'preco': 3.29, 'categoria': 'moda'},\n",
       " {'produto': 'feijão', 'preco': 5.0, 'categoria': 'alimento'},\n",
       " {'produto': 'arroz', 'preco': 7.25, 'categoria': 'alimento'},\n",
       " {'produto': 'vestido', 'preco': 40.0, 'categoria': 'moda'},\n",
       " {'produto': 'pão', 'preco': 1.99, 'categoria': 'alimento'}]"
      ]
     },
     "execution_count": 7,
     "metadata": {},
     "output_type": "execute_result"
    }
   ],
   "source": [
    "cadastros"
   ]
  },
  {
   "cell_type": "markdown",
   "metadata": {
    "id": "3J83k7kHIR82"
   },
   "source": [
    "Por exemplo:  \n",
    "Queremos ter um acesso rápido dos dados do dicionário `cadastros` por categoria"
   ]
  },
  {
   "cell_type": "code",
   "execution_count": 8,
   "metadata": {
    "id": "cvWww16AHYtm"
   },
   "outputs": [],
   "source": [
    "def separa_categorias(dicionario, cadastro):\n",
    "  categoria = cadastro['categoria']\n",
    "  if categoria in dicionario.keys():\n",
    "    dicionario[categoria].append(cadastro)\n",
    "  else:\n",
    "    dicionario[categoria] = [cadastro]\n",
    "  return dicionario"
   ]
  },
  {
   "cell_type": "code",
   "execution_count": 11,
   "metadata": {},
   "outputs": [],
   "source": [
    "dc = {}\n",
    "for cadastro in cadastros:\n",
    "    separa_categorias(dc,cadastro)"
   ]
  },
  {
   "cell_type": "code",
   "execution_count": 12,
   "metadata": {},
   "outputs": [
    {
     "data": {
      "text/plain": [
       "{'moda': [{'produto': 'camisa', 'preco': 10.29, 'categoria': 'moda'},\n",
       "  {'produto': 'saia', 'preco': 3.29, 'categoria': 'moda'},\n",
       "  {'produto': 'vestido', 'preco': 40.0, 'categoria': 'moda'}],\n",
       " 'alimento': [{'produto': 'feijão', 'preco': 5.0, 'categoria': 'alimento'},\n",
       "  {'produto': 'arroz', 'preco': 7.25, 'categoria': 'alimento'},\n",
       "  {'produto': 'pão', 'preco': 1.99, 'categoria': 'alimento'}]}"
      ]
     },
     "execution_count": 12,
     "metadata": {},
     "output_type": "execute_result"
    }
   ],
   "source": [
    "dc"
   ]
  },
  {
   "cell_type": "code",
   "execution_count": 9,
   "metadata": {
    "id": "uamSP_XYH-O1"
   },
   "outputs": [],
   "source": [
    "cadastros_categoria = reduce(separa_categorias,cadastros,{})"
   ]
  },
  {
   "cell_type": "code",
   "execution_count": 10,
   "metadata": {
    "colab": {
     "base_uri": "https://localhost:8080/"
    },
    "id": "2LhUdKEIIDzq",
    "outputId": "b7077892-a91c-482a-85f2-f00790622ace",
    "scrolled": true
   },
   "outputs": [
    {
     "data": {
      "text/plain": [
       "{'moda': [{'produto': 'camisa', 'preco': 10.29, 'categoria': 'moda'},\n",
       "  {'produto': 'saia', 'preco': 3.29, 'categoria': 'moda'},\n",
       "  {'produto': 'vestido', 'preco': 40.0, 'categoria': 'moda'}],\n",
       " 'alimento': [{'produto': 'feijão', 'preco': 5.0, 'categoria': 'alimento'},\n",
       "  {'produto': 'arroz', 'preco': 7.25, 'categoria': 'alimento'},\n",
       "  {'produto': 'pão', 'preco': 1.99, 'categoria': 'alimento'}]}"
      ]
     },
     "execution_count": 10,
     "metadata": {},
     "output_type": "execute_result"
    }
   ],
   "source": [
    "cadastros_categoria"
   ]
  },
  {
   "cell_type": "code",
   "execution_count": null,
   "metadata": {},
   "outputs": [],
   "source": [
    "fruits = [\n",
    "    {\"name\": \"banana\", \"cor\": \"yellow\", \"price\": 2},\n",
    "    {\"name\": \"cherry\", \"cor\": \"red\", \"price\": 3},\n",
    "    {\"name\": \"strawberry\", \"cor\": \"red\", \"price\": 4},\n",
    "]\n",
    "\n",
    "def soma(a, b):\n",
    "    return {\n",
    "        \"name\": a[\"name\"] + \", \" + b[\"name\"],\n",
    "        \"cor\": a[\"cor\"] + \", \" + b[\"cor\"],\n",
    "        \"price\": a[\"price\"] + b[\"price\"],\n",
    "    }\n",
    "\n",
    "result = reduce(soma, fruits)\n",
    "print(result)"
   ]
  },
  {
   "cell_type": "markdown",
   "metadata": {
    "id": "RTzE_k9iJXVV"
   },
   "source": [
    "![a](https://miro.medium.com/max/828/1*yD7P1I36G1jTProLQwEXxA.jpeg)"
   ]
  }
 ],
 "metadata": {
  "colab": {
   "provenance": []
  },
  "kernelspec": {
   "display_name": "Python 3 (ipykernel)",
   "language": "python",
   "name": "python3"
  },
  "language_info": {
   "codemirror_mode": {
    "name": "ipython",
    "version": 3
   },
   "file_extension": ".py",
   "mimetype": "text/x-python",
   "name": "python",
   "nbconvert_exporter": "python",
   "pygments_lexer": "ipython3",
   "version": "3.9.7"
  }
 },
 "nbformat": 4,
 "nbformat_minor": 1
}
