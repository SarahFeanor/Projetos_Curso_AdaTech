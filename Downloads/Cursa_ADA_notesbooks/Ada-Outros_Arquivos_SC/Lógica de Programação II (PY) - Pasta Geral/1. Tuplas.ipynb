{
 "cells": [
  {
   "cell_type": "markdown",
   "metadata": {
    "id": "ZC5lEMSSJHJw"
   },
   "source": [
    "## Lógica de programação II - Tuplas\n",
    "\n",
    "Na aula de hoje, iremos explorar os seguintes tópicos em Python:\n",
    "- Importando módulos\n",
    "- Revisão de listas\n",
    "- Tuplas"
   ]
  },
  {
   "cell_type": "markdown",
   "metadata": {
    "id": "hZ-2IdkdQ0HC"
   },
   "source": [
    "## 1. Importando módulos em Python\n",
    "\n",
    "Muitos dos problemas de programação já foram resolvidos por outras pessoas, por exemplo calcular o `log` de um número. Por este motivo diversas linguagens de programação, como Python e JavaScript, apresentam bibliotecas que facilitam o uso dessas funcionalidades sem a necessidade de programar do zero!\n",
    "\n",
    "Nas linguagens mais populares, há uma grande comunidade que desenvolve esses módulos facilitando ainda mais o nosso dia-a-dia, como por exemplo o `numpy`, `pandas` e o `matplotlib`, bibliotecas que iremos explorar nos próximos módulos!\n",
    "\n",
    "Para utilizar esses módulos, há três principais fontes:\n",
    "- As bibliotecas já distribuídas com o Python. Para saber mais temos a [PEP206](https://peps.python.org/pep-0206/)\n",
    "  - [Biblioteca padrão](https://docs.python.org/3/library/)\n",
    "- Bibliotecas de terceiros disponíveis pelo [PyPi](https://pypi.org/)\n",
    "- A última é o [github](https://github.com/)\n",
    "\n",
    "Para instalar módulos de terceiros podemos utilizar podemos utilizar o comando:\n",
    "`pip install <nome do pacote>`\n",
    "\n",
    "Para importar um módulo utilizamos:\n",
    "\n",
    "`import <nome do módulo>`\n",
    "\n",
    "`from <nome do módulo> import <nome do submódulo>`\n",
    "\n",
    "Ambos irão disponibilizar o pacote para serem utilizados na forma de código. A principal diferença é que no `from ... import ...` utilizamos menos memória, já que somente uma parte do módulo será importado, sendo uma boa prática a ser realizada."
   ]
  },
  {
   "cell_type": "code",
   "execution_count": 13,
   "metadata": {},
   "outputs": [
    {
     "name": "stdout",
     "output_type": "stream",
     "text": [
      "[0.5, 4.5, 2, 3.5, 3, 1]\n"
     ]
    }
   ],
   "source": [
    "numeros = [1, 9, 4, 7, 6, 2]\n",
    "metades_tipo = [n//2 if n % 2 == 0 else n/2 for n in numeros]\n",
    "\n",
    "print(metades_tipo)"
   ]
  },
  {
   "cell_type": "code",
   "execution_count": 1,
   "metadata": {
    "id": "gp7agcbPTU7V"
   },
   "outputs": [
    {
     "name": "stdout",
     "output_type": "stream",
     "text": [
      "Defaulting to user installation because normal site-packages is not writeable\n",
      "Collecting matplotlib\n",
      "  Downloading matplotlib-3.7.2-cp310-cp310-manylinux_2_17_x86_64.manylinux2014_x86_64.whl (11.6 MB)\n",
      "\u001b[2K     \u001b[38;2;114;156;31m━━━━━━━━━━━━━━━━━━━━━━━━━━━━━━━━━━━━━━━━\u001b[0m \u001b[32m11.6/11.6 MB\u001b[0m \u001b[31m14.3 MB/s\u001b[0m eta \u001b[36m0:00:00\u001b[0mm eta \u001b[36m0:00:01\u001b[0m[36m0:00:01\u001b[0m\n",
      "\u001b[?25hRequirement already satisfied: pillow>=6.2.0 in /usr/lib/python3/dist-packages (from matplotlib) (9.0.1)\n",
      "Collecting numpy>=1.20\n",
      "  Downloading numpy-1.25.1-cp310-cp310-manylinux_2_17_x86_64.manylinux2014_x86_64.whl (17.6 MB)\n",
      "\u001b[2K     \u001b[38;2;114;156;31m━━━━━━━━━━━━━━━━━━━━━━━━━━━━━━━━━━━━━━━━\u001b[0m \u001b[32m17.6/17.6 MB\u001b[0m \u001b[31m19.2 MB/s\u001b[0m eta \u001b[36m0:00:00\u001b[0mm eta \u001b[36m0:00:01\u001b[0m0:01\u001b[0m:01\u001b[0m\n",
      "\u001b[?25hCollecting fonttools>=4.22.0\n",
      "  Downloading fonttools-4.41.1-cp310-cp310-manylinux_2_17_x86_64.manylinux2014_x86_64.whl (4.5 MB)\n",
      "\u001b[2K     \u001b[38;2;114;156;31m━━━━━━━━━━━━━━━━━━━━━━━━━━━━━━━━━━━━━━━━\u001b[0m \u001b[32m4.5/4.5 MB\u001b[0m \u001b[31m21.1 MB/s\u001b[0m eta \u001b[36m0:00:00\u001b[0m MB/s\u001b[0m eta \u001b[36m0:00:01\u001b[0m\n",
      "\u001b[?25hRequirement already satisfied: pyparsing<3.1,>=2.3.1 in /usr/lib/python3/dist-packages (from matplotlib) (2.4.7)\n",
      "Requirement already satisfied: python-dateutil>=2.7 in /home/clara/.local/lib/python3.10/site-packages (from matplotlib) (2.8.2)\n",
      "Collecting contourpy>=1.0.1\n",
      "  Downloading contourpy-1.1.0-cp310-cp310-manylinux_2_17_x86_64.manylinux2014_x86_64.whl (300 kB)\n",
      "\u001b[2K     \u001b[38;2;114;156;31m━━━━━━━━━━━━━━━━━━━━━━━━━━━━━━━━━━━━━━\u001b[0m \u001b[32m300.7/300.7 KB\u001b[0m \u001b[31m33.8 MB/s\u001b[0m eta \u001b[36m0:00:00\u001b[0m\n",
      "\u001b[?25hCollecting cycler>=0.10\n",
      "  Downloading cycler-0.11.0-py3-none-any.whl (6.4 kB)\n",
      "Requirement already satisfied: packaging>=20.0 in /usr/lib/python3/dist-packages (from matplotlib) (21.3)\n",
      "Collecting kiwisolver>=1.0.1\n",
      "  Downloading kiwisolver-1.4.4-cp310-cp310-manylinux_2_12_x86_64.manylinux2010_x86_64.whl (1.6 MB)\n",
      "\u001b[2K     \u001b[38;2;114;156;31m━━━━━━━━━━━━━━━━━━━━━━━━━━━━━━━━━━━━━━━━\u001b[0m \u001b[32m1.6/1.6 MB\u001b[0m \u001b[31m22.2 MB/s\u001b[0m eta \u001b[36m0:00:00\u001b[0mm eta \u001b[36m0:00:01\u001b[0m0:01\u001b[0m\n",
      "\u001b[?25hRequirement already satisfied: six>=1.5 in /usr/lib/python3/dist-packages (from python-dateutil>=2.7->matplotlib) (1.16.0)\n",
      "Installing collected packages: numpy, kiwisolver, fonttools, cycler, contourpy, matplotlib\n",
      "Successfully installed contourpy-1.1.0 cycler-0.11.0 fonttools-4.41.1 kiwisolver-1.4.4 matplotlib-3.7.2 numpy-1.25.1\n"
     ]
    }
   ],
   "source": [
    "! pip install matplotlib"
   ]
  },
  {
   "cell_type": "code",
   "execution_count": 2,
   "metadata": {
    "id": "mOd8IdpBPqk5"
   },
   "outputs": [
    {
     "ename": "ModuleNotFoundError",
     "evalue": "No module named 'seaborn'",
     "output_type": "error",
     "traceback": [
      "\u001b[0;31m---------------------------------------------------------------------------\u001b[0m",
      "\u001b[0;31mModuleNotFoundError\u001b[0m                       Traceback (most recent call last)",
      "Cell \u001b[0;32mIn[2], line 8\u001b[0m\n\u001b[1;32m      6\u001b[0m \u001b[39mimport\u001b[39;00m \u001b[39mmatplotlib\u001b[39;00m\u001b[39m.\u001b[39;00m\u001b[39mpyplot\u001b[39;00m \u001b[39mas\u001b[39;00m \u001b[39mplt\u001b[39;00m\n\u001b[1;32m      7\u001b[0m \u001b[39mfrom\u001b[39;00m \u001b[39mmatplotlib\u001b[39;00m \u001b[39mimport\u001b[39;00m pyplot \u001b[39mas\u001b[39;00m plt\n\u001b[0;32m----> 8\u001b[0m \u001b[39mimport\u001b[39;00m \u001b[39mseaborn\u001b[39;00m \u001b[39mas\u001b[39;00m \u001b[39msns\u001b[39;00m\n\u001b[1;32m     11\u001b[0m \u001b[39m# Biblioteca para manipulação de dados estruturados (tabelas)\u001b[39;00m\n\u001b[1;32m     12\u001b[0m \u001b[39mimport\u001b[39;00m \u001b[39mpandas\u001b[39;00m \u001b[39mas\u001b[39;00m \u001b[39mpd\u001b[39;00m\n",
      "\u001b[0;31mModuleNotFoundError\u001b[0m: No module named 'seaborn'"
     ]
    }
   ],
   "source": [
    "# Importando a biblioteca de estatística\n",
    "import statistics\n",
    "\n",
    "# Bibliotecas para visualização de dados\n",
    "import matplotlib\n",
    "import matplotlib.pyplot as plt\n",
    "from matplotlib import pyplot as plt\n",
    "import seaborn as sns\n",
    "\n",
    "\n",
    "# Biblioteca para manipulação de dados estruturados (tabelas)\n",
    "import pandas as pd\n",
    "\n",
    "#pd.read_csv()"
   ]
  },
  {
   "cell_type": "markdown",
   "metadata": {
    "id": "GAVWQmRKJZuA"
   },
   "source": [
    "## 2. Listas\n",
    "\n",
    "Listas são uma estrutura de dados que permitem armazenar de forma ordenada diversos objetos (valores), como `int`, `float`, `str`, outras listas, e etc. \n",
    "\n",
    "Podemos pensar nas listas como uma **corrente** em que cada elemento está conectado entre si, como se fosse um trem!\n",
    "\n",
    "Dessa forma, assim como no trem sabemos qual o primeiro vagão, o segundo, e assim por diante até alcançar o último vagão.\n",
    "\n",
    "No caso das listas, os vagões são representados por seus **índices**, sendo ele um inteiro (`int`) iniciando no valor zero (0) e incrementando com o tamanho da lista.\n"
   ]
  },
  {
   "cell_type": "code",
   "execution_count": null,
   "metadata": {
    "colab": {
     "base_uri": "https://localhost:8080/"
    },
    "executionInfo": {
     "elapsed": 289,
     "status": "ok",
     "timestamp": 1664563270230,
     "user": {
      "displayName": "Gilberto Kaihami",
      "userId": "07651446941847976228"
     },
     "user_tz": 180
    },
    "id": "qQuJTcOyFc4F",
    "outputId": "3fc23b02-f2f9-48a6-c3b7-2ae82585ddea"
   },
   "outputs": [
    {
     "name": "stdout",
     "output_type": "stream",
     "text": [
      "lista1 []\n",
      "lista2: []\n",
      "As listas são iguais? True\n"
     ]
    }
   ],
   "source": [
    "# Criando listas vazias\n",
    "lista1 = list() # Uma lista vazia (sem elementos)\n",
    "lista2 = [] # Uma lista vazia\n",
    "\n",
    "# Imprimindo as listas criadas\n",
    "print('lista1',lista1)\n",
    "print(f'lista2: {lista2}')\n",
    "\n",
    "# Ambas as formas retornam o mesmo tipo de objeto (lista) portanto são \"identicas\"\n",
    "print('As listas são iguais?', lista1 == lista2)"
   ]
  },
  {
   "cell_type": "code",
   "execution_count": null,
   "metadata": {
    "colab": {
     "base_uri": "https://localhost:8080/"
    },
    "executionInfo": {
     "elapsed": 2,
     "status": "ok",
     "timestamp": 1664563270665,
     "user": {
      "displayName": "Gilberto Kaihami",
      "userId": "07651446941847976228"
     },
     "user_tz": 180
    },
    "id": "U-npu_u9UrNI",
    "outputId": "e521675c-722d-4e79-a96e-5e74c523877f"
   },
   "outputs": [
    {
     "name": "stdout",
     "output_type": "stream",
     "text": [
      "['bananas', 'uva', 'abacaxi']\n",
      "[10, 0.75, 'abacate', True]\n",
      "[['Sergio', 35, 'RJ'], ['Fulano', 28, 'MG']]\n"
     ]
    }
   ],
   "source": [
    "# Criando uma lista com strings\n",
    "frutas = [\"bananas\",\"uva\",\"abacaxi\"]\n",
    "\n",
    "# Imprimindo a lista de frutas\n",
    "print(frutas)\n",
    "\n",
    "# Listas podem conter diversos tipos\n",
    "lista_variada = [10, 0.75, \"abacate\", True]\n",
    "\n",
    "# Imprimindo a lista_variada\n",
    "print(lista_variada)\n",
    "\n",
    "# As listas podem conter listas (lista de listas) - Lista aninhada\n",
    "lista_de_listas = [[\"Sergio\",35,\"RJ\"],[\"Fulano\",28,\"MG\"]]\n",
    "# Imprimindo a lista de listas\n",
    "print(lista_de_listas)"
   ]
  },
  {
   "cell_type": "code",
   "execution_count": 6,
   "metadata": {},
   "outputs": [
    {
     "ename": "NameError",
     "evalue": "name 'numeros' is not defined",
     "output_type": "error",
     "traceback": [
      "\u001b[0;31m---------------------------------------------------------------------------\u001b[0m",
      "\u001b[0;31mNameError\u001b[0m                                 Traceback (most recent call last)",
      "Cell \u001b[0;32mIn[6], line 1\u001b[0m\n\u001b[0;32m----> 1\u001b[0m metades_pares \u001b[39m=\u001b[39m [n\u001b[39m/\u001b[39m\u001b[39m2\u001b[39m \u001b[39mfor\u001b[39;00m n \u001b[39min\u001b[39;00m numeros \u001b[39mif\u001b[39;00m n \u001b[39m%\u001b[39m \u001b[39m2\u001b[39m \u001b[39m==\u001b[39m \u001b[39m0\u001b[39m]\n\u001b[1;32m      2\u001b[0m \u001b[39mprint\u001b[39m(metades_pares)\n",
      "\u001b[0;31mNameError\u001b[0m: name 'numeros' is not defined"
     ]
    }
   ],
   "source": [
    "metades_pares = [n/2 for n in numeros if n % 2 == 0]\n",
    "print(metades_pares)"
   ]
  },
  {
   "cell_type": "code",
   "execution_count": null,
   "metadata": {
    "colab": {
     "base_uri": "https://localhost:8080/"
    },
    "executionInfo": {
     "elapsed": 3,
     "status": "ok",
     "timestamp": 1664563270666,
     "user": {
      "displayName": "Gilberto Kaihami",
      "userId": "07651446941847976228"
     },
     "user_tz": 180
    },
    "id": "OTt945g3UZmT",
    "outputId": "847308c8-8d48-4e13-8f82-c26ce06fd1f3"
   },
   "outputs": [
    {
     "name": "stdout",
     "output_type": "stream",
     "text": [
      "Primeiro elemento da lista frutas: bananas\n",
      "Segundo elemento da lista frutas: uva\n",
      "Ultimo elemento da lista variada: True\n",
      "Pegando o primeiro elemento da lista de listas: ['Sergio', 35, 'RJ']\n",
      "Pegando o primeiro elemento da lista de listas, apenas a idade 35\n"
     ]
    }
   ],
   "source": [
    "# Pegando os elementos da lista\n",
    "\n",
    "# Primeiro elemento da lista\n",
    "print('Primeiro elemento da lista frutas:', frutas[0])  \n",
    "# Segundo elemento da lista\n",
    "print('Segundo elemento da lista frutas:', frutas[1])\n",
    "# Último elemento da lista\n",
    "print('Ultimo elemento da lista variada:', lista_variada[-1]) \n",
    "# Primeiro elemento da lista (que é outra lista)\n",
    "print('Pegando o primeiro elemento da lista de listas:',lista_de_listas[0]) \n",
    "# Pegando o primeiro elemento (lista) e dentro dessa pegando o segundo elemento\n",
    "print('Pegando o primeiro elemento da lista de listas, apenas a idade',lista_de_listas[0][1])"
   ]
  },
  {
   "cell_type": "code",
   "execution_count": null,
   "metadata": {},
   "outputs": [
    {
     "name": "stdout",
     "output_type": "stream",
     "text": [
      "Os últimos dois elementos: ['abacate', True]\n",
      "Os últimos dois elementos: ['abacate', True]\n",
      "Os primeiros dois elementos: [10, 0.75]\n",
      "Os primeiros dois elementos: [10, 0.75]\n",
      "Os primeiros dois elementos: [10, 0.75]\n"
     ]
    }
   ],
   "source": [
    "# Fatiando (slice) a lista\n",
    "# Pegando os dois últimos elementos\n",
    "print('Os últimos dois elementos:',lista_variada[-2:])\n",
    "# Pegando do terceiro elemento em diante\n",
    "print('Os últimos dois elementos:', lista_variada[2:])\n",
    "# Pegando os dois primeiros elementos\n",
    "print('Os primeiros dois elementos:',lista_variada[0:2] )\n",
    "# Pegando todos os elementos até o penúltimo exclusive\n",
    "print('Os primeiros dois elementos:',lista_variada[:-2] )\n",
    "# Pegando os dois primeiros elementos\n",
    "print('Os primeiros dois elementos:',lista_variada[:2] )"
   ]
  },
  {
   "cell_type": "code",
   "execution_count": null,
   "metadata": {
    "colab": {
     "base_uri": "https://localhost:8080/"
    },
    "executionInfo": {
     "elapsed": 1,
     "status": "ok",
     "timestamp": 1664563271063,
     "user": {
      "displayName": "Gilberto Kaihami",
      "userId": "07651446941847976228"
     },
     "user_tz": 180
    },
    "id": "yf8VR8IrYTf4",
    "outputId": "55215e75-0d69-41fb-ad48-95f784782829"
   },
   "outputs": [
    {
     "name": "stdout",
     "output_type": "stream",
     "text": [
      "Tamanho da lista_variada: 4\n"
     ]
    }
   ],
   "source": [
    "# Descobrindo o tamanho da lista, utilizando a função `len`\n",
    "print('Tamanho da lista_variada:',len(lista_variada))"
   ]
  },
  {
   "cell_type": "markdown",
   "metadata": {
    "id": "PZOyOJLfYkh8"
   },
   "source": [
    "### 2.1 Iterando uma lista\n",
    "\n",
    "Uma forma de estruturar um código é descrever o que o algoritmo (procedimento) deve fazer.\n",
    "\n",
    "Por exemplo, uma possível tarefa seria: **quero verificar quais elementos fazem parte da minha lista**.\n",
    "\n",
    "Uma possível solução seria:\n",
    "- Acesse cada elemento da lista\n",
    "- Imprima esse elemento\n",
    "\n",
    "O que acabamos de fazer é um pseudocódigo\n",
    "\n",
    "Outros exemplos de [pseudocódigo](https://www.unf.edu/~broggio/cop2221/2221pseu.htm)"
   ]
  },
  {
   "cell_type": "code",
   "execution_count": null,
   "metadata": {
    "colab": {
     "base_uri": "https://localhost:8080/"
    },
    "executionInfo": {
     "elapsed": 2,
     "status": "ok",
     "timestamp": 1664563272008,
     "user": {
      "displayName": "Gilberto Kaihami",
      "userId": "07651446941847976228"
     },
     "user_tz": 180
    },
    "id": "vZLCT0_eUiWx",
    "outputId": "ca384a71-bc27-48d8-e098-d157a179ae40"
   },
   "outputs": [
    {
     "name": "stdout",
     "output_type": "stream",
     "text": [
      "10\n",
      "0.75\n",
      "abacate\n",
      "True\n"
     ]
    }
   ],
   "source": [
    "# - Para cada elemento da nossa lista\n",
    "# - Imprima esse elemento\n",
    "\n",
    "# Percorrendo os elementos da lista variada\n",
    "for elemento in lista_variada:\n",
    "  # Aqui estamos imprimindo cada elemento da lista\n",
    "  print(elemento)"
   ]
  },
  {
   "cell_type": "markdown",
   "metadata": {
    "id": "hXaoPeYDZeoM"
   },
   "source": [
    "Podemos melhorar o código acima, já que sabemos que a lista é composta por índices.\n",
    "\n",
    "- Acesse cada elemento da nossa lista\n",
    "- Imprima esse elemento e o seu indice\n",
    "\n",
    "Por exemplo:\n",
    "\n",
    "Para o primeiro elemento seria impresso:\n",
    "\n",
    "`>>> indice: 0 elemento: 10`\n",
    "\n",
    "Para o segundo elemento:\n",
    "\n",
    "`>>> indice: 1 elemento: 2.75`\n",
    "\n",
    "**Para retornar o índice de cada elemento de uma lista, podemos utilizar a função enumerate!**"
   ]
  },
  {
   "cell_type": "code",
   "execution_count": null,
   "metadata": {},
   "outputs": [
    {
     "data": {
      "text/plain": [
       "[10, 20, 30, 40, 50, 60, 70, 80, 90]"
      ]
     },
     "execution_count": 14,
     "metadata": {},
     "output_type": "execute_result"
    }
   ],
   "source": [
    "lista = list(range(10,100,10))\n",
    "lista"
   ]
  },
  {
   "cell_type": "code",
   "execution_count": null,
   "metadata": {},
   "outputs": [
    {
     "data": {
      "text/plain": [
       "10"
      ]
     },
     "execution_count": 15,
     "metadata": {},
     "output_type": "execute_result"
    }
   ],
   "source": [
    "lista[0]"
   ]
  },
  {
   "cell_type": "code",
   "execution_count": null,
   "metadata": {
    "colab": {
     "base_uri": "https://localhost:8080/"
    },
    "executionInfo": {
     "elapsed": 3,
     "status": "ok",
     "timestamp": 1664563272513,
     "user": {
      "displayName": "Gilberto Kaihami",
      "userId": "07651446941847976228"
     },
     "user_tz": 180
    },
    "id": "IcrRnXvYZd6h",
    "outputId": "9e45ff4d-1f2c-447e-eee9-6442821dc562"
   },
   "outputs": [
    {
     "name": "stdout",
     "output_type": "stream",
     "text": [
      "indice: 0 elemento: 10\n",
      "indice: 1 elemento: 20\n",
      "indice: 2 elemento: 30\n",
      "indice: 3 elemento: 40\n",
      "indice: 4 elemento: 50\n",
      "indice: 5 elemento: 60\n",
      "indice: 6 elemento: 70\n",
      "indice: 7 elemento: 80\n",
      "indice: 8 elemento: 90\n"
     ]
    }
   ],
   "source": [
    "# Iterando sobre a lista com o `enumerate`\n",
    "# O Enumerate permite adicionar um número (\"indice\") para a nossa contagem da lista\n",
    "for indice, elemento in enumerate(range(10, 100, 10)):\n",
    "  # Imprimindo o indice `idx`, além do elemento da lista\n",
    "  print('indice:', indice, 'elemento:', elemento)"
   ]
  },
  {
   "cell_type": "code",
   "execution_count": null,
   "metadata": {
    "id": "YfQULrAMarKs"
   },
   "outputs": [],
   "source": [
    "# Verificando o \"manual\" de uma função ou classe.\n",
    "# O \"manual\" é conhecido como docstring\n",
    "enumerate?"
   ]
  },
  {
   "cell_type": "code",
   "execution_count": null,
   "metadata": {
    "colab": {
     "base_uri": "https://localhost:8080/"
    },
    "executionInfo": {
     "elapsed": 13,
     "status": "ok",
     "timestamp": 1664563272524,
     "user": {
      "displayName": "Gilberto Kaihami",
      "userId": "07651446941847976228"
     },
     "user_tz": 180
    },
    "id": "iSB4KCCJapEv",
    "outputId": "b28374eb-d26a-4967-d92b-a1e4c052dfb8"
   },
   "outputs": [
    {
     "name": "stdout",
     "output_type": "stream",
     "text": [
      "indice: 1 elemento: 10\n",
      "indice: 2 elemento: 20\n",
      "indice: 3 elemento: 30\n",
      "indice: 4 elemento: 40\n",
      "indice: 5 elemento: 50\n",
      "indice: 6 elemento: 60\n",
      "indice: 7 elemento: 70\n",
      "indice: 8 elemento: 80\n",
      "indice: 9 elemento: 90\n"
     ]
    }
   ],
   "source": [
    "# Podemos modificar qual o inicio da contagem com o parâmetro `start`\n",
    "# Ao adicionar o `start=1` a contagem irá ocorrer a partir do número 1 e não zero como padrão\n",
    "for idx, elemento in enumerate(range(10, 100, 10),start=1):\n",
    "  # Imprimindo o indice `idx`, além do elemento da lista\n",
    "  print('indice:', idx, 'elemento:', elemento)  "
   ]
  },
  {
   "cell_type": "markdown",
   "metadata": {
    "id": "mx95o9MEbZ9-"
   },
   "source": [
    "**Exercício**\n",
    "\n",
    "Crie um laço (loop) que obedeça o seguinte pseudocódigo:\n",
    "\n",
    "- Acesse cada elemento da nossa lista\n",
    "- Imprima esse elemento, além do seu indice e o total da lista\n",
    "\n",
    "Por exemplo:\n",
    "\n",
    "Utilizando a `lista_variada`\n",
    "\n",
    "No primeiro elemento teriamos:\n",
    "\n",
    "`>>> #1/4: 10`\n",
    "\n",
    "No segundo elemento:\n",
    "\n",
    "`>>> #2/4: 2.75`"
   ]
  },
  {
   "cell_type": "code",
   "execution_count": null,
   "metadata": {
    "colab": {
     "base_uri": "https://localhost:8080/"
    },
    "executionInfo": {
     "elapsed": 3,
     "status": "ok",
     "timestamp": 1664563273341,
     "user": {
      "displayName": "Gilberto Kaihami",
      "userId": "07651446941847976228"
     },
     "user_tz": 180
    },
    "id": "okc9f0lWbZZe",
    "outputId": "e24124b8-b44d-4b3a-fb9a-dd2119b0b0de"
   },
   "outputs": [],
   "source": []
  },
  {
   "cell_type": "markdown",
   "metadata": {
    "id": "Qw-btkY3cfrX"
   },
   "source": [
    "### 2.2 Adicionando elementos na lista"
   ]
  },
  {
   "cell_type": "code",
   "execution_count": null,
   "metadata": {
    "colab": {
     "base_uri": "https://localhost:8080/"
    },
    "executionInfo": {
     "elapsed": 2,
     "status": "ok",
     "timestamp": 1664563273778,
     "user": {
      "displayName": "Gilberto Kaihami",
      "userId": "07651446941847976228"
     },
     "user_tz": 180
    },
    "id": "9cXU_ywScL02",
    "outputId": "d8bc3acb-30d6-45d9-ba2b-ab50f076b723"
   },
   "outputs": [],
   "source": [
    "# Adicionando elementos com `append`\n",
    "frutas.append('graviola')"
   ]
  },
  {
   "cell_type": "code",
   "execution_count": null,
   "metadata": {},
   "outputs": [
    {
     "data": {
      "text/plain": [
       "['bananas', 'uva', 'abacaxi', 'graviola']"
      ]
     },
     "execution_count": 21,
     "metadata": {},
     "output_type": "execute_result"
    }
   ],
   "source": [
    "frutas"
   ]
  },
  {
   "cell_type": "code",
   "execution_count": null,
   "metadata": {},
   "outputs": [],
   "source": [
    "frutas.append('melancia')"
   ]
  },
  {
   "cell_type": "code",
   "execution_count": null,
   "metadata": {},
   "outputs": [
    {
     "data": {
      "text/plain": [
       "['bananas', 'uva', 'abacaxi', 'graviola', 'melancia']"
      ]
     },
     "execution_count": 23,
     "metadata": {},
     "output_type": "execute_result"
    }
   ],
   "source": [
    "frutas"
   ]
  },
  {
   "cell_type": "code",
   "execution_count": null,
   "metadata": {
    "colab": {
     "base_uri": "https://localhost:8080/"
    },
    "executionInfo": {
     "elapsed": 3,
     "status": "ok",
     "timestamp": 1664563274103,
     "user": {
      "displayName": "Gilberto Kaihami",
      "userId": "07651446941847976228"
     },
     "user_tz": 180
    },
    "id": "DNfSrGHskhgb",
    "outputId": "b148aca7-c042-42da-b5e1-57ddd187fc55"
   },
   "outputs": [
    {
     "name": "stdout",
     "output_type": "stream",
     "text": [
      "indice:1/5 - fruta:bananas\n",
      "indice:2/5 - fruta:uva\n",
      "indice:3/5 - fruta:abacaxi\n",
      "indice:4/5 - fruta:graviola\n",
      "indice:5/5 - fruta:melancia\n"
     ]
    }
   ],
   "source": [
    "# Percorrendo a lista e imprimindo o índice e o elemento\n",
    "for idx, fruta in enumerate(frutas, start=1):\n",
    "    print(f'indice:{idx}/{len(frutas)} - fruta:{fruta}')"
   ]
  },
  {
   "cell_type": "markdown",
   "metadata": {
    "id": "v4GdtQUDkouO"
   },
   "source": [
    "### 2.3 Concatenação de listas\n"
   ]
  },
  {
   "cell_type": "code",
   "execution_count": null,
   "metadata": {
    "colab": {
     "base_uri": "https://localhost:8080/"
    },
    "executionInfo": {
     "elapsed": 1,
     "status": "ok",
     "timestamp": 1664563275004,
     "user": {
      "displayName": "Gilberto Kaihami",
      "userId": "07651446941847976228"
     },
     "user_tz": 180
    },
    "id": "g1mKVU9oknfP",
    "outputId": "8848d123-fb20-43e9-e292-c47a0d01eb4e",
    "scrolled": true
   },
   "outputs": [
    {
     "name": "stdout",
     "output_type": "stream",
     "text": [
      "['Python', 'SQL', 'R', 'HTML', 'CSS', 'JavaScript']\n",
      "['Python', 'SQL', 'R', 'HTML', 'CSS', 'JavaScript']\n"
     ]
    }
   ],
   "source": [
    "# Definindo duas listas\n",
    "ds = ['Python', 'SQL', 'R']\n",
    "web = ['HTML','CSS','JavaScript']\n",
    "\n",
    "# Concatenando as listas com o operador `+`\n",
    "linguagens1 = ds + web\n",
    "print(linguagens1)\n",
    "\n",
    "# Concatenando as listas com o método `extend`\n",
    "linguagens2 = ds\n",
    "linguagens2.extend(web)\n",
    "print(linguagens2)"
   ]
  },
  {
   "cell_type": "markdown",
   "metadata": {},
   "source": [
    "### 2.4 Outros métodos"
   ]
  },
  {
   "cell_type": "markdown",
   "metadata": {},
   "source": [
    "Métodos in-place: métodos que podem alterar o conteúdo da lista, como adicionar membros ou alterar seus valores."
   ]
  },
  {
   "cell_type": "code",
   "execution_count": null,
   "metadata": {},
   "outputs": [
    {
     "data": {
      "text/plain": [
       "1"
      ]
     },
     "execution_count": 32,
     "metadata": {},
     "output_type": "execute_result"
    }
   ],
   "source": [
    "# Count: Retorna o número de elementos com o valor especificado\n",
    "lista = ['banana', 'maca', 'uva', 'pera', 'limao', 'abacate', 'lichia']\n",
    "lista.count('uva')"
   ]
  },
  {
   "cell_type": "code",
   "execution_count": null,
   "metadata": {
    "scrolled": true
   },
   "outputs": [
    {
     "data": {
      "text/plain": [
       "['banana', 'morango', 'maca', 'uva', 'pera', 'limao', 'abacate', 'lichia']"
      ]
     },
     "execution_count": 33,
     "metadata": {},
     "output_type": "execute_result"
    }
   ],
   "source": [
    "# Insert: Adiciona um elemento na posição especificada\n",
    "lista.insert(1,'morango')\n",
    "lista"
   ]
  },
  {
   "cell_type": "code",
   "execution_count": null,
   "metadata": {},
   "outputs": [
    {
     "data": {
      "text/plain": [
       "'morango'"
      ]
     },
     "execution_count": 34,
     "metadata": {},
     "output_type": "execute_result"
    }
   ],
   "source": [
    "# Pop: Remove o elemento na posição especificada\n",
    "lista.pop(1)"
   ]
  },
  {
   "cell_type": "code",
   "execution_count": null,
   "metadata": {},
   "outputs": [
    {
     "data": {
      "text/plain": [
       "['banana', 'maca', 'uva', 'pera', 'limao', 'abacate', 'lichia']"
      ]
     },
     "execution_count": 35,
     "metadata": {},
     "output_type": "execute_result"
    }
   ],
   "source": [
    "lista"
   ]
  },
  {
   "cell_type": "code",
   "execution_count": null,
   "metadata": {
    "scrolled": false
   },
   "outputs": [
    {
     "data": {
      "text/plain": [
       "'lichia'"
      ]
     },
     "execution_count": 36,
     "metadata": {},
     "output_type": "execute_result"
    }
   ],
   "source": [
    "lista.pop()"
   ]
  },
  {
   "cell_type": "code",
   "execution_count": null,
   "metadata": {},
   "outputs": [
    {
     "data": {
      "text/plain": [
       "['apple', 'cherry']"
      ]
     },
     "execution_count": 38,
     "metadata": {},
     "output_type": "execute_result"
    }
   ],
   "source": [
    "#Remove: Removes the first item with the specified value\n",
    "fruits = ['apple', 'banana', 'cherry']\n",
    "fruits.remove(\"banana\")\n",
    "fruits"
   ]
  },
  {
   "cell_type": "code",
   "execution_count": null,
   "metadata": {},
   "outputs": [
    {
     "data": {
      "text/plain": [
       "['abacate', 'banana', 'limao', 'maca', 'pera', 'uva']"
      ]
     },
     "execution_count": 39,
     "metadata": {},
     "output_type": "execute_result"
    }
   ],
   "source": [
    "# Sort: Ordena a lista (ordem crescente)\n",
    "lista.sort()\n",
    "lista"
   ]
  },
  {
   "cell_type": "code",
   "execution_count": null,
   "metadata": {},
   "outputs": [
    {
     "data": {
      "text/plain": [
       "['uva', 'pera', 'maca', 'limao', 'banana', 'abacate']"
      ]
     },
     "execution_count": 40,
     "metadata": {},
     "output_type": "execute_result"
    }
   ],
   "source": [
    "# Reverse: Inverte a ordem da lista\n",
    "lista.reverse()\n",
    "lista"
   ]
  },
  {
   "cell_type": "markdown",
   "metadata": {},
   "source": [
    "Para outros métodos: https://www.w3schools.com/python/python_ref_list.asp"
   ]
  },
  {
   "cell_type": "markdown",
   "metadata": {
    "id": "hHNRWdDUguR5"
   },
   "source": [
    "**Curiosidade**\n",
    "\n",
    "Listas são uma estrutura em cadeia, no Python é utilizada a estrutura de dados conhecido como `Dynamic array`, permitindo um acesso rápido ao elemento assim como inserção no fim da lista (`append`), porém com inserção lenta no meio da lista.\n",
    "\n",
    "Esse comportamento ocorre, por que imagine que precisamos \"quebrar\" a corrente para inserir um novo elo, e depois reconstruir a corrente elo por elo! Já no fim da corrente, basta inserir um elo novo sem precisar \"quebrar\" a corrente.\n",
    "\n",
    "Conhecer sobre estrutura de dados permite que criemos softwares com alta performance computacional!\n",
    "\n",
    "Para saber mais sobre estrutura de dados de listas [clique aqui](https://en.wikipedia.org/wiki/Dynamic_array#Performance)\n",
    "\n"
   ]
  },
  {
   "cell_type": "markdown",
   "metadata": {
    "id": "WWHGfzwSjSg6"
   },
   "source": [
    "## 3. Tuplas\n",
    "\n",
    "Até o momento, temos utilizado **listas** pra armazenar uma coleção de dados.\n",
    "\n",
    "Aprenderemos agora sobre uma nova **estrutura de dados**: tuplas!\n",
    "\n",
    "Tuplas são estruturas bastante parecidas com listas:\n",
    "\n",
    "- Podem guardar **tipos diferentes de dados**.\n",
    "- São indexadas (podemos **acessar elementos por índices**).\n",
    "- São iteráveis (**podemos percorrer com o `for`**)."
   ]
  },
  {
   "cell_type": "markdown",
   "metadata": {},
   "source": [
    "As tuplas são mais rápidas para acessar elementos do que as listas porque elas são imutáveis. Isso significa que os elementos de uma tupla não podem ser alterados depois que a tupla é criada. Como resultado, o interpretador Python não precisa verificar se os elementos de uma tupla foram alterados antes de acessá-los"
   ]
  },
  {
   "cell_type": "code",
   "execution_count": null,
   "metadata": {
    "colab": {
     "base_uri": "https://localhost:8080/"
    },
    "executionInfo": {
     "elapsed": 324,
     "status": "ok",
     "timestamp": 1664563284060,
     "user": {
      "displayName": "Gilberto Kaihami",
      "userId": "07651446941847976228"
     },
     "user_tz": 180
    },
    "id": "ip2x66PsiV8f",
    "outputId": "c3fc51f4-efe3-40d9-fcbc-35019ce88f6e"
   },
   "outputs": [
    {
     "name": "stdout",
     "output_type": "stream",
     "text": [
      "()\n",
      "('pera', 'limao')\n"
     ]
    }
   ],
   "source": [
    "# Criando uma tupla vazia\n",
    "tupla1 = tuple()\n",
    "tupla2 = ('pera','limao')\n",
    "print(tupla1)\n",
    "print(tupla2)"
   ]
  },
  {
   "cell_type": "code",
   "execution_count": null,
   "metadata": {
    "colab": {
     "base_uri": "https://localhost:8080/"
    },
    "executionInfo": {
     "elapsed": 5,
     "status": "ok",
     "timestamp": 1664563285030,
     "user": {
      "displayName": "Gilberto Kaihami",
      "userId": "07651446941847976228"
     },
     "user_tz": 180
    },
    "id": "cTpozqX_3j4k",
    "outputId": "ef9588ec-ee81-46ec-cb4f-135f8383d7a0"
   },
   "outputs": [
    {
     "name": "stdout",
     "output_type": "stream",
     "text": [
      "('pera', 'limao', 'maca')\n"
     ]
    }
   ],
   "source": [
    "# Tupla com três elementos\n",
    "tupla3 = ('pera','limao','maca')\n",
    "print(tupla3)"
   ]
  },
  {
   "cell_type": "code",
   "execution_count": null,
   "metadata": {
    "colab": {
     "base_uri": "https://localhost:8080/"
    },
    "executionInfo": {
     "elapsed": 4,
     "status": "ok",
     "timestamp": 1664563286036,
     "user": {
      "displayName": "Gilberto Kaihami",
      "userId": "07651446941847976228"
     },
     "user_tz": 180
    },
    "id": "6Qq8Xak9kwcF",
    "outputId": "6050faa7-1b73-4e5a-b856-89867a599b53"
   },
   "outputs": [
    {
     "name": "stdout",
     "output_type": "stream",
     "text": [
      "(4, 12.3, True, 'Sergio')\n"
     ]
    }
   ],
   "source": [
    "# Tupla com tipos diferentes\n",
    "tipos_diferentes = (4,12.3,True,\"Sergio\")\n",
    "print(tipos_diferentes)"
   ]
  },
  {
   "cell_type": "code",
   "execution_count": null,
   "metadata": {
    "colab": {
     "base_uri": "https://localhost:8080/"
    },
    "executionInfo": {
     "elapsed": 4,
     "status": "ok",
     "timestamp": 1664563287063,
     "user": {
      "displayName": "Gilberto Kaihami",
      "userId": "07651446941847976228"
     },
     "user_tz": 180
    },
    "id": "rGNFQJ26k8IL",
    "outputId": "e0284135-0317-4070-9175-4ebc71b80195"
   },
   "outputs": [
    {
     "name": "stdout",
     "output_type": "stream",
     "text": [
      "(('Curso', 'Módulo 1', 'Módulo 2'), ('Data Science', 'Lógica de Programação I', 'Lógica de Programação II'), ('Web Full Stack', 'Front End Estático', 'Front End Dinâmico'))\n"
     ]
    }
   ],
   "source": [
    "# Tupla de tuplas\n",
    "tupla_de_tuplas = (\n",
    "    ('Curso', 'Módulo 1', 'Módulo 2'),\n",
    "    ('Data Science', 'Lógica de Programação I', 'Lógica de Programação II'),\n",
    "    ('Web Full Stack', 'Front End Estático', 'Front End Dinâmico')\n",
    ")\n",
    "print(tupla_de_tuplas)"
   ]
  },
  {
   "cell_type": "code",
   "execution_count": null,
   "metadata": {},
   "outputs": [
    {
     "data": {
      "text/plain": [
       "('pera', 'limao', 'maca')"
      ]
     },
     "execution_count": 51,
     "metadata": {},
     "output_type": "execute_result"
    }
   ],
   "source": [
    "tupla3"
   ]
  },
  {
   "cell_type": "code",
   "execution_count": null,
   "metadata": {
    "colab": {
     "base_uri": "https://localhost:8080/"
    },
    "executionInfo": {
     "elapsed": 314,
     "status": "ok",
     "timestamp": 1664563288271,
     "user": {
      "displayName": "Gilberto Kaihami",
      "userId": "07651446941847976228"
     },
     "user_tz": 180
    },
    "id": "sKe1a6balF8x",
    "outputId": "053f30e1-94dc-46a2-ef51-25b06530885e"
   },
   "outputs": [
    {
     "name": "stdout",
     "output_type": "stream",
     "text": [
      "pera\n",
      "limao\n",
      "maca\n",
      "('limao', 'maca')\n"
     ]
    }
   ],
   "source": [
    "# imprime \"pera\"\n",
    "print(tupla3[0])\n",
    "print(tupla3[1])\n",
    "print(tupla3[-1])\n",
    "print(tupla3[1:3])"
   ]
  },
  {
   "cell_type": "markdown",
   "metadata": {
    "id": "11RVrsM-lRHj"
   },
   "source": [
    "### 3.1 Iterando uma tupla"
   ]
  },
  {
   "cell_type": "code",
   "execution_count": null,
   "metadata": {
    "colab": {
     "base_uri": "https://localhost:8080/"
    },
    "executionInfo": {
     "elapsed": 285,
     "status": "ok",
     "timestamp": 1664563292162,
     "user": {
      "displayName": "Gilberto Kaihami",
      "userId": "07651446941847976228"
     },
     "user_tz": 180
    },
    "id": "vSGYkgqelQni",
    "outputId": "53370524-5c97-4b7c-cc6d-a6f97722270b"
   },
   "outputs": [
    {
     "name": "stdout",
     "output_type": "stream",
     "text": [
      "('Ana', 32, 'SP')\n",
      "('João', 25, 'RJ')\n",
      "('Maria', 19, 'PE')\n"
     ]
    }
   ],
   "source": [
    "cadastros = (\n",
    "    ('Ana', 32, 'SP'),\n",
    "    ('João', 25, 'RJ'),\n",
    "    ('Maria', 19, 'PE')\n",
    ")\n",
    "for cadastro in cadastros:\n",
    "  print(cadastro)"
   ]
  },
  {
   "cell_type": "markdown",
   "metadata": {
    "id": "l28t0xFomYGr"
   },
   "source": [
    "### 3.2 Fatiando (slicing) dos dados"
   ]
  },
  {
   "cell_type": "code",
   "execution_count": null,
   "metadata": {
    "colab": {
     "base_uri": "https://localhost:8080/"
    },
    "executionInfo": {
     "elapsed": 393,
     "status": "ok",
     "timestamp": 1664563294006,
     "user": {
      "displayName": "Gilberto Kaihami",
      "userId": "07651446941847976228"
     },
     "user_tz": 180
    },
    "id": "LInDLjPSmW8_",
    "outputId": "835bd871-77fb-4d9e-b806-d0937759b35e"
   },
   "outputs": [
    {
     "name": "stdout",
     "output_type": "stream",
     "text": [
      "Primeira pessoa cadastrada: ('Ana', 32, 'SP')\n",
      "Nome da primeira pessoa cadastrada: Ana\n"
     ]
    }
   ],
   "source": [
    "print('Primeira pessoa cadastrada:', cadastros[0])\n",
    "print('Nome da primeira pessoa cadastrada:', cadastros[0][0])"
   ]
  },
  {
   "cell_type": "markdown",
   "metadata": {
    "id": "TaWccEJ7ndsL"
   },
   "source": [
    "Tuplas podem virar listas, e listas podem virar tuplas!"
   ]
  },
  {
   "cell_type": "code",
   "execution_count": null,
   "metadata": {
    "colab": {
     "base_uri": "https://localhost:8080/"
    },
    "executionInfo": {
     "elapsed": 382,
     "status": "ok",
     "timestamp": 1664563295942,
     "user": {
      "displayName": "Gilberto Kaihami",
      "userId": "07651446941847976228"
     },
     "user_tz": 180
    },
    "id": "nIqtke8EndKy",
    "outputId": "e4f78df2-f407-4282-b09e-ddaa1206763a",
    "scrolled": true
   },
   "outputs": [
    {
     "name": "stdout",
     "output_type": "stream",
     "text": [
      "\n",
      "tipo:, <class 'list'>\n",
      "conteudo: ['abacate', 'banana', 'maca']\n",
      "\n",
      "\n",
      "tipo:, <class 'tuple'>\n",
      "conteudo: ('abacate', 'banana', 'maca')\n",
      "\n"
     ]
    }
   ],
   "source": [
    "lista_frutas = ['abacate', 'banana', 'maca']\n",
    "print(f'''\n",
    "tipo:, {type(lista_frutas)}\n",
    "conteudo: {lista_frutas}\n",
    "''')\n",
    "\n",
    "tupla_frutas = tuple(lista_frutas)\n",
    "\n",
    "print(f'''\n",
    "tipo:, {type(tupla_frutas)}\n",
    "conteudo: {tupla_frutas}\n",
    "''')"
   ]
  },
  {
   "cell_type": "code",
   "execution_count": null,
   "metadata": {},
   "outputs": [
    {
     "data": {
      "text/plain": [
       "list"
      ]
     },
     "execution_count": 60,
     "metadata": {},
     "output_type": "execute_result"
    }
   ],
   "source": [
    "type(list(tupla_frutas))"
   ]
  },
  {
   "cell_type": "code",
   "execution_count": null,
   "metadata": {},
   "outputs": [
    {
     "data": {
      "text/plain": [
       "('limao', 'maca', 'pera')"
      ]
     },
     "execution_count": 62,
     "metadata": {},
     "output_type": "execute_result"
    }
   ],
   "source": [
    "tuple(sorted(tupla3))"
   ]
  },
  {
   "cell_type": "markdown",
   "metadata": {
    "id": "7x7EPUkom0CD"
   },
   "source": [
    "A principal diferença é: tuplas são **imutáveis**!\n",
    "\n",
    "Para tuplas **não é possível**: alterar elementos individuais, adicionar elementos, remover elementos ou alterar a ordem dos elementos. Uma vez criada, não é possível alterar nada de uma tupla!"
   ]
  },
  {
   "cell_type": "code",
   "execution_count": null,
   "metadata": {
    "colab": {
     "base_uri": "https://localhost:8080/",
     "height": 271
    },
    "executionInfo": {
     "elapsed": 299,
     "status": "error",
     "timestamp": 1664563298616,
     "user": {
      "displayName": "Gilberto Kaihami",
      "userId": "07651446941847976228"
     },
     "user_tz": 180
    },
    "id": "IBkLDHIumzfC",
    "outputId": "411e33c0-b53b-45a9-9a53-e725993feacb"
   },
   "outputs": [
    {
     "name": "stdout",
     "output_type": "stream",
     "text": [
      "lista ['abacate', 'banana', 'maca']\n",
      "tupla ('abacate', 'banana', 'maca')\n",
      "lista modificada ['abacaxi', 'banana', 'maca']\n",
      "--------------------\n"
     ]
    },
    {
     "ename": "TypeError",
     "evalue": "'tuple' object does not support item assignment",
     "output_type": "error",
     "traceback": [
      "\u001b[1;31m---------------------------------------------------------------------------\u001b[0m",
      "\u001b[1;31mTypeError\u001b[0m                                 Traceback (most recent call last)",
      "\u001b[1;32m~\\AppData\\Local\\Temp/ipykernel_8316/298498153.py\u001b[0m in \u001b[0;36m<module>\u001b[1;34m\u001b[0m\n\u001b[0;32m      4\u001b[0m \u001b[0mprint\u001b[0m\u001b[1;33m(\u001b[0m\u001b[1;34m'lista modificada'\u001b[0m\u001b[1;33m,\u001b[0m \u001b[0mlista_frutas\u001b[0m\u001b[1;33m)\u001b[0m\u001b[1;33m\u001b[0m\u001b[1;33m\u001b[0m\u001b[0m\n\u001b[0;32m      5\u001b[0m \u001b[0mprint\u001b[0m\u001b[1;33m(\u001b[0m\u001b[1;34m'-'\u001b[0m\u001b[1;33m*\u001b[0m\u001b[1;36m20\u001b[0m\u001b[1;33m)\u001b[0m\u001b[1;33m\u001b[0m\u001b[1;33m\u001b[0m\u001b[0m\n\u001b[1;32m----> 6\u001b[1;33m \u001b[0mtupla_frutas\u001b[0m\u001b[1;33m[\u001b[0m\u001b[1;36m0\u001b[0m\u001b[1;33m]\u001b[0m \u001b[1;33m=\u001b[0m \u001b[1;34m'abacaxi'\u001b[0m\u001b[1;33m\u001b[0m\u001b[1;33m\u001b[0m\u001b[0m\n\u001b[0m",
      "\u001b[1;31mTypeError\u001b[0m: 'tuple' object does not support item assignment"
     ]
    }
   ],
   "source": [
    "print('lista', lista_frutas)\n",
    "print('tupla', tupla_frutas)\n",
    "lista_frutas[0] = 'abacaxi'\n",
    "print('lista modificada', lista_frutas)\n",
    "print('-'*20)\n",
    "tupla_frutas[0] = 'abacaxi'"
   ]
  },
  {
   "cell_type": "markdown",
   "metadata": {
    "id": "SpaGWMwOpFXr"
   },
   "source": [
    "### Qual a vantagem das tuplas?\n",
    "\n",
    "As tuplas e listas possuem operações úteis parecidas, `slicing`, `index`, `ordenação`. Sendo a principal diferença é que nas listas, conseguimos modificar o seu conteúdo, enquanto nas tuplas não conseguimos.\n",
    "\n",
    "Há duas diferenças que sugerem o uso de tuplas no lugar de listas:\n",
    "- Performance:\n",
    "  - Tuplas apresentam uma leve vantagem de acesso (\"pegar\" um elemento)\n",
    "  - Tuplas ocupam menos espaço na memória\n",
    "- Indicar de uma estrutura rígida:\n",
    "  - É um jeito de **sinalizar que esses dados não deveriam ser alterados**. \n",
    "  - É um meio de garantir que os elementos estarão **em uma ordem específica**.\n",
    "\n",
    "\n",
    "  - Quando utilizamos tuplas, queremos indicar que novos elementos não deveriam ser inseridos, assim como o seu conteúdo não deveria ser modificado\n",
    "\n",
    "Um exemplo de estrutura rígida, é no cadastro de pessoas.  \n",
    "Em que coletamos, o nome, CPF, e idade, por exemplo. Neste o sistema não espera que hajam menos ou mais informações sendo rígida essa estrutura.  \n",
    "Vamos explorar um pouco este caso abaixo."
   ]
  },
  {
   "cell_type": "code",
   "execution_count": null,
   "metadata": {
    "colab": {
     "base_uri": "https://localhost:8080/"
    },
    "executionInfo": {
     "elapsed": 9726,
     "status": "ok",
     "timestamp": 1664563322936,
     "user": {
      "displayName": "Gilberto Kaihami",
      "userId": "07651446941847976228"
     },
     "user_tz": 180
    },
    "id": "4cQ8zE-wpA15",
    "outputId": "e203f31a-41c2-4ab0-e8bc-409a73070254",
    "scrolled": false
   },
   "outputs": [
    {
     "name": "stdout",
     "output_type": "stream",
     "text": [
      "Deseja inserir um novo cadastro?SIM\n",
      "Insira o nome: Sergio\n",
      "Insira a idade: 35\n",
      "Insira o estado: RJ\n",
      "Deseja inserir um novo cadastro?SiM\n",
      "Insira o nome: fulano\n",
      "Insira a idade: 45\n",
      "Insira o estado: SP\n",
      "Deseja inserir um novo cadastro?nao\n",
      "Cadastro finalizado, inserido 2 novos\n"
     ]
    }
   ],
   "source": [
    "# Cadastro\n",
    "# - Nome\n",
    "# - idade\n",
    "# - Estado\n",
    "continuar_cadastro = True\n",
    "\n",
    "cadastros = []\n",
    "\n",
    "while continuar_cadastro:\n",
    "  cadastrar = input('Deseja inserir um novo cadastro?')\n",
    "  if cadastrar.lower() in ['sim', 's', 'yes', 'y']:\n",
    "    nome = input('Insira o nome: ')\n",
    "    idade = int(input('Insira a idade: '))\n",
    "    estado = input('Insira o estado: ')\n",
    "    cadastro = (nome, idade, estado)\n",
    "    cadastros.append(cadastro)\n",
    "  elif cadastrar.lower() in ['não', 'n', 'nao', 'no']:\n",
    "    print(f'Cadastro finalizado, inserido {len(cadastros)} novos')\n",
    "    continuar_cadastro = False\n",
    "  else:\n",
    "    print(f'Opção invalida. Foi inserido \"{cadastrar}\",\\\n",
    "escolha entre [sim, s, yes, y] para cadastrar uma nova pessoa ou [não, nao, n, no] para parar')"
   ]
  },
  {
   "cell_type": "code",
   "execution_count": null,
   "metadata": {},
   "outputs": [
    {
     "data": {
      "text/plain": [
       "('fulano', 45, 'SP')"
      ]
     },
     "execution_count": 85,
     "metadata": {},
     "output_type": "execute_result"
    }
   ],
   "source": [
    "cadastro"
   ]
  },
  {
   "cell_type": "code",
   "execution_count": null,
   "metadata": {},
   "outputs": [
    {
     "data": {
      "text/plain": [
       "'sergio'"
      ]
     },
     "execution_count": 65,
     "metadata": {},
     "output_type": "execute_result"
    }
   ],
   "source": [
    "#Metodo lower com strings\n",
    "nome = \"Sergio\"\n",
    "nome.lower()"
   ]
  },
  {
   "cell_type": "markdown",
   "metadata": {
    "id": "ZDtUDVWXYju_"
   },
   "source": [
    "Conseguimos desempacotar os elementos tanto de tuplas como de listas (do inglês *unpacking*)."
   ]
  },
  {
   "cell_type": "code",
   "execution_count": null,
   "metadata": {
    "colab": {
     "base_uri": "https://localhost:8080/"
    },
    "executionInfo": {
     "elapsed": 478,
     "status": "ok",
     "timestamp": 1664563329595,
     "user": {
      "displayName": "Gilberto Kaihami",
      "userId": "07651446941847976228"
     },
     "user_tz": 180
    },
    "id": "QipcEyNUYbZK",
    "outputId": "2342646d-6839-4651-b0c1-52bcb35900a4"
   },
   "outputs": [
    {
     "name": "stdout",
     "output_type": "stream",
     "text": [
      "Sergio 35 RJ\n"
     ]
    }
   ],
   "source": [
    "nome = cadastros[0][0]\n",
    "idade = cadastros[0][1]\n",
    "estado = cadastros[0][2]\n",
    "print(nome,idade,estado)"
   ]
  },
  {
   "cell_type": "code",
   "execution_count": null,
   "metadata": {},
   "outputs": [
    {
     "name": "stdout",
     "output_type": "stream",
     "text": [
      "Sergio 35 RJ\n"
     ]
    }
   ],
   "source": [
    "nome,idade,estado = cadastros[0]\n",
    "print(nome,idade,estado)"
   ]
  },
  {
   "cell_type": "markdown",
   "metadata": {
    "id": "4FKLeYc1Y9hh"
   },
   "source": [
    "Outra forma é utilizar o operador `*` para o resto como o exemplo abaixo!\n",
    "Assim garantindo que não seja levantado um erro"
   ]
  },
  {
   "cell_type": "code",
   "execution_count": null,
   "metadata": {
    "colab": {
     "base_uri": "https://localhost:8080/"
    },
    "executionInfo": {
     "elapsed": 277,
     "status": "ok",
     "timestamp": 1664563333397,
     "user": {
      "displayName": "Gilberto Kaihami",
      "userId": "07651446941847976228"
     },
     "user_tz": 180
    },
    "id": "Oykwu4F0GCLe",
    "outputId": "9df688fb-e65a-42b4-f056-7f251a5f3d3c",
    "scrolled": true
   },
   "outputs": [
    {
     "name": "stdout",
     "output_type": "stream",
     "text": [
      "Python\n",
      "['JavaScript', 'HTML', 'CSS', 'R']\n",
      "['Python', 'JavaScript', 'HTML', 'CSS']\n",
      "R\n",
      "Python\n",
      "['JavaScript', 'HTML']\n",
      "CSS\n"
     ]
    }
   ],
   "source": [
    "linguagens = ('Python', 'JavaScript', 'HTML', 'CSS', 'R')\n",
    "\n",
    "primeira,*resto = linguagens\n",
    "print(primeira) # Python\n",
    "print(resto) # ['JavaScript', 'HTML', 'CSS', 'R']\n",
    "\n",
    "*resto,ultima = linguagens\n",
    "print(resto) # ['Python', 'JavaScript', 'HTML', 'CSS']\n",
    "print(ultima) # R\n",
    "\n",
    "a, *b, c, d = linguagens\n",
    "print(a) # Python\n",
    "print(b) # ['JavaScript', 'HTML', 'CSS']\n",
    "print(c) # R"
   ]
  },
  {
   "cell_type": "code",
   "execution_count": null,
   "metadata": {
    "scrolled": true
   },
   "outputs": [
    {
     "name": "stdout",
     "output_type": "stream",
     "text": [
      "Python\n",
      "JavaScript\n",
      "['HTML', 'CSS']\n",
      "R\n"
     ]
    }
   ],
   "source": [
    "a, b, *c, d = linguagens\n",
    "print(a) \n",
    "print(b) \n",
    "print(c) \n",
    "print(d)"
   ]
  },
  {
   "cell_type": "code",
   "execution_count": null,
   "metadata": {},
   "outputs": [
    {
     "ename": "ValueError",
     "evalue": "too many values to unpack (expected 3)",
     "output_type": "error",
     "traceback": [
      "\u001b[1;31m---------------------------------------------------------------------------\u001b[0m",
      "\u001b[1;31mValueError\u001b[0m                                Traceback (most recent call last)",
      "\u001b[1;32m~\\AppData\\Local\\Temp/ipykernel_8316/721423722.py\u001b[0m in \u001b[0;36m<module>\u001b[1;34m\u001b[0m\n\u001b[1;32m----> 1\u001b[1;33m \u001b[0ma\u001b[0m\u001b[1;33m,\u001b[0m\u001b[0mb\u001b[0m\u001b[1;33m,\u001b[0m\u001b[0mc\u001b[0m \u001b[1;33m=\u001b[0m \u001b[0mlinguagens\u001b[0m\u001b[1;33m\u001b[0m\u001b[1;33m\u001b[0m\u001b[0m\n\u001b[0m",
      "\u001b[1;31mValueError\u001b[0m: too many values to unpack (expected 3)"
     ]
    }
   ],
   "source": [
    "a,b,c = linguagens"
   ]
  },
  {
   "cell_type": "markdown",
   "metadata": {
    "id": "BbQGekYKZQkK"
   },
   "source": [
    "Como lembrar a posição que cada valor significa na tupla?\n",
    "\n",
    "Essa é uma grande dificuldade (que será reduzida com os dicionários).\n",
    "\n",
    "Mas se uma das vantagens da tupla é a imutabilidade, e cada campo representar um valor específico (nome, idade, etc). Como relembrar sempre o que cada posição representa?\n",
    "\n",
    "Por este motivo temos o `named tuple` em Python, que podemos nomear a nossa tupla simplificando o processo e acesso aos valores como será visto abaixo"
   ]
  },
  {
   "cell_type": "code",
   "execution_count": null,
   "metadata": {
    "id": "lMpLcdTKZQNz"
   },
   "outputs": [],
   "source": [
    "# Importando as tuplas nomeadas\n",
    "from collections import namedtuple"
   ]
  },
  {
   "cell_type": "code",
   "execution_count": null,
   "metadata": {
    "colab": {
     "base_uri": "https://localhost:8080/"
    },
    "executionInfo": {
     "elapsed": 3,
     "status": "ok",
     "timestamp": 1664563336334,
     "user": {
      "displayName": "Gilberto Kaihami",
      "userId": "07651446941847976228"
     },
     "user_tz": 180
    },
    "id": "zKbAt7gvZy3g",
    "outputId": "cdd3f169-acdf-446a-d95c-6187aa53f2ea"
   },
   "outputs": [
    {
     "name": "stdout",
     "output_type": "stream",
     "text": [
      "('Sergio', 35, 'RJ')\n",
      "<class '__main__.Pessoa'>\n",
      "Pessoa(nome='Gil', idade=36, estado='SP')\n"
     ]
    }
   ],
   "source": [
    "# Pegando a primeira pessoa cadastrada\n",
    "pessoa = cadastros[0]\n",
    "print(pessoa)\n",
    "\n",
    "Pessoa = namedtuple(\"Pessoa\", [\"nome\", \"idade\", \"estado\"])\n",
    "print(Pessoa)\n",
    "\n",
    "pessoa = Pessoa(\"Gil\", 36, \"SP\")\n",
    "print(pessoa)"
   ]
  },
  {
   "cell_type": "code",
   "execution_count": null,
   "metadata": {
    "colab": {
     "base_uri": "https://localhost:8080/"
    },
    "executionInfo": {
     "elapsed": 4,
     "status": "ok",
     "timestamp": 1664563337442,
     "user": {
      "displayName": "Gilberto Kaihami",
      "userId": "07651446941847976228"
     },
     "user_tz": 180
    },
    "id": "lJIQVxFsaUV3",
    "outputId": "119f299e-e354-4507-ad29-8cbcfdc4b674",
    "scrolled": true
   },
   "outputs": [
    {
     "name": "stdout",
     "output_type": "stream",
     "text": [
      "Pessoa(nome='Alex', idade=31, estado='RJ')\n"
     ]
    }
   ],
   "source": [
    "# Com o named tuple temos as mesmas funcionalidades das tuplas com vantagens!\n",
    "pessoa2 = Pessoa(nome='Alex', idade=31, estado='RJ')\n",
    "print(pessoa2)"
   ]
  },
  {
   "cell_type": "code",
   "execution_count": null,
   "metadata": {},
   "outputs": [
    {
     "data": {
      "text/plain": [
       "Pessoa(nome='Alex', idade=31, estado='RJ')"
      ]
     },
     "execution_count": 92,
     "metadata": {},
     "output_type": "execute_result"
    }
   ],
   "source": [
    "Pessoa(idade=31, nome='Alex', estado='RJ')"
   ]
  },
  {
   "cell_type": "code",
   "execution_count": null,
   "metadata": {},
   "outputs": [
    {
     "data": {
      "text/plain": [
       "('Alex', 31, 'RJ')"
      ]
     },
     "execution_count": 89,
     "metadata": {},
     "output_type": "execute_result"
    }
   ],
   "source": [
    "pessoa3 = (\"Alex\",31,\"RJ\")\n",
    "pessoa3"
   ]
  },
  {
   "cell_type": "code",
   "execution_count": null,
   "metadata": {
    "id": "Sa14kBmwZy0-"
   },
   "outputs": [],
   "source": [
    "Pessoa?"
   ]
  },
  {
   "cell_type": "code",
   "execution_count": null,
   "metadata": {
    "colab": {
     "base_uri": "https://localhost:8080/"
    },
    "executionInfo": {
     "elapsed": 269,
     "status": "ok",
     "timestamp": 1664563341472,
     "user": {
      "displayName": "Gilberto Kaihami",
      "userId": "07651446941847976228"
     },
     "user_tz": 180
    },
    "id": "HQ8wgfS1Zyyi",
    "outputId": "3a1f97fb-7371-445a-9b24-88ae696c5b92"
   },
   "outputs": [
    {
     "name": "stdout",
     "output_type": "stream",
     "text": [
      "Alex\n",
      "Alex\n"
     ]
    }
   ],
   "source": [
    "# Conseguimos acessar os atributos por posição e pelo nome dado!\n",
    "print(pessoa2[0])\n",
    "print(pessoa2.nome)"
   ]
  },
  {
   "cell_type": "markdown",
   "metadata": {
    "id": "BMkb3JINowrZ"
   },
   "source": [
    "Voltando ao exemplo de cadastro utilizando `named tuple`"
   ]
  },
  {
   "cell_type": "code",
   "execution_count": null,
   "metadata": {
    "colab": {
     "base_uri": "https://localhost:8080/"
    },
    "executionInfo": {
     "elapsed": 33938,
     "status": "ok",
     "timestamp": 1664563378731,
     "user": {
      "displayName": "Gilberto Kaihami",
      "userId": "07651446941847976228"
     },
     "user_tz": 180
    },
    "id": "sC0svNfsoEsW",
    "outputId": "d9602c27-f204-46c0-af3f-ca0f71df1f66",
    "scrolled": true
   },
   "outputs": [
    {
     "name": "stdout",
     "output_type": "stream",
     "text": [
      "Deseja inserir um novo cadastro?Sim\n",
      "Insira o nome: Sergio\n",
      "Insira a idade: 35\n",
      "Insira o estado: RJ\n",
      "Deseja inserir um novo cadastro?Fulano\n",
      "Opção invalida. Foi inserido \"Fulano\",escolha entre [sim, s, yes, y] para cadastrar uma nova pessoa ou [não, nao, n, no] para parar\n",
      "Deseja inserir um novo cadastro?26\n",
      "Opção invalida. Foi inserido \"26\",escolha entre [sim, s, yes, y] para cadastrar uma nova pessoa ou [não, nao, n, no] para parar\n",
      "Deseja inserir um novo cadastro?yes\n",
      "Insira o nome: Fulano\n",
      "Insira a idade: 26\n",
      "Insira o estado: MG\n",
      "Deseja inserir um novo cadastro?no\n",
      "Cadastro finalizado, inserido 2 novos\n"
     ]
    }
   ],
   "source": [
    "# Cadastro\n",
    "# - Nome\n",
    "# - idade\n",
    "# - Estado\n",
    "Pessoa = namedtuple('Pessoa', ['nome', 'idade', 'estado'])\n",
    "continuar_cadastro = True\n",
    "\n",
    "cadastros = []\n",
    "\n",
    "while continuar_cadastro:\n",
    "  cadastrar = input('Deseja inserir um novo cadastro?')\n",
    "  if cadastrar.lower() in ['sim', 's', 'yes', 'y']:\n",
    "    nome = input('Insira o nome: ')\n",
    "    idade = int(input('Insira a idade: '))\n",
    "    estado = input('Insira o estado: ')\n",
    "    #Antes: cadastro = (nome, idade, estado)\n",
    "    cadastro = Pessoa(nome=nome, idade=idade, estado=estado)\n",
    "    cadastros.append(cadastro)\n",
    "  elif cadastrar.lower() in ['não', 'n', 'nao', 'no']:\n",
    "    print(f'Cadastro finalizado, inserido {len(cadastros)} novos')\n",
    "    continuar_cadastro = False\n",
    "  else:\n",
    "    print(f'Opção invalida. Foi inserido \"{cadastrar}\",\\\n",
    "escolha entre [sim, s, yes, y] para cadastrar uma nova pessoa ou [não, nao, n, no] para parar')  "
   ]
  },
  {
   "cell_type": "code",
   "execution_count": null,
   "metadata": {},
   "outputs": [
    {
     "data": {
      "text/plain": [
       "[Pessoa(nome='Sergio', idade=35, estado='RJ'),\n",
       " Pessoa(nome='Fulano', idade=26, estado='MG')]"
      ]
     },
     "execution_count": 95,
     "metadata": {},
     "output_type": "execute_result"
    }
   ],
   "source": [
    "cadastros"
   ]
  },
  {
   "cell_type": "markdown",
   "metadata": {
    "id": "Yh8v2INT82yn"
   },
   "source": [
    "Outra utilidade de tuplas: fazer uma função **retornar mais de um valor**"
   ]
  },
  {
   "cell_type": "code",
   "execution_count": null,
   "metadata": {
    "id": "0fJjp2C4817A"
   },
   "outputs": [],
   "source": [
    "def sequencia(x):\n",
    "    return x, 2*x, 3*x"
   ]
  },
  {
   "cell_type": "code",
   "execution_count": null,
   "metadata": {},
   "outputs": [
    {
     "data": {
      "text/plain": [
       "(2, 4, 6)"
      ]
     },
     "execution_count": 97,
     "metadata": {},
     "output_type": "execute_result"
    }
   ],
   "source": [
    "sequencia(2)"
   ]
  },
  {
   "cell_type": "markdown",
   "metadata": {
    "id": "88qlGqCbrEU_"
   },
   "source": [
    "**Desafio**\n",
    "\n",
    "Utilize a função `cadastrar_usuario` abaixo em que serão coletados as seguintes informações a partir da entrada da pessoa usuária:\n",
    "- Nome\n",
    "- Idade\n",
    "- Sexo\n",
    "\n",
    "Agora crie uma função que permita descobrir a idade média de pessoas cadastradas pelo sexo (para manter simples, masculino e feminino, representado por `m` e `f`, respectivamente).\n",
    "\n"
   ]
  },
  {
   "cell_type": "code",
   "execution_count": null,
   "metadata": {
    "executionInfo": {
     "elapsed": 248,
     "status": "ok",
     "timestamp": 1664911934124,
     "user": {
      "displayName": "Gilberto Kaihami",
      "userId": "07651446941847976228"
     },
     "user_tz": 180
    },
    "id": "dCQYJsmKq8EB"
   },
   "outputs": [],
   "source": [
    "from collections import namedtuple\n",
    "\n",
    "Pessoa = namedtuple('Pessoa', ['nome', 'idade', 'sexo'])\n",
    "def cadastrar_usuario():\n",
    "  continuar_cadastro = True\n",
    "\n",
    "  cadastros = []\n",
    "\n",
    "  while continuar_cadastro:\n",
    "    cadastrar = input('Deseja inserir um novo cadastro?')\n",
    "    if cadastrar.lower() in ['sim', 's', 'yes', 'y']:\n",
    "      nome = input('Insira o nome: ')\n",
    "      idade = int(input('Insira a idade: '))\n",
    "      sexo = input('Insira o sexo: ')\n",
    "      cadastro = Pessoa(nome=nome, idade=idade, sexo=sexo)\n",
    "      cadastros.append(cadastro)\n",
    "    elif cadastrar.lower() in ['não', 'n', 'nao', 'no']:\n",
    "      print(f'Cadastro finalizado, inserido {len(cadastros)} novos')\n",
    "      continuar_cadastro = False\n",
    "    else:\n",
    "      print(f'Opção invalida. Foi inserido \"{cadastrar}\",\\\n",
    "escolha entre [sim, s, yes, y] para cadastrar uma nova pessoa ou [não, nao, n, no] para parar')\n",
    "  return cadastros"
   ]
  },
  {
   "cell_type": "markdown",
   "metadata": {},
   "source": [
    "https://realpython.com/python-namedtuple/"
   ]
  }
 ],
 "metadata": {
  "colab": {
   "authorship_tag": "ABX9TyN3y0j5ZH1ZbxmuKVrM4bog",
   "collapsed_sections": [],
   "provenance": []
  },
  "kernelspec": {
   "display_name": "Python 3 (ipykernel)",
   "language": "python",
   "name": "python3"
  },
  "language_info": {
   "codemirror_mode": {
    "name": "ipython",
    "version": 3
   },
   "file_extension": ".py",
   "mimetype": "text/x-python",
   "name": "python",
   "nbconvert_exporter": "python",
   "pygments_lexer": "ipython3",
   "version": "3.10.6"
  }
 },
 "nbformat": 4,
 "nbformat_minor": 1
}
