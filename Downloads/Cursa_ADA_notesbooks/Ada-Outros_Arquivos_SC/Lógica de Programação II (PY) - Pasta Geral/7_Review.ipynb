{
 "cells": [
  {
   "cell_type": "markdown",
   "id": "4f2f2615",
   "metadata": {},
   "source": [
    "**Desafio**\n",
    "\n",
    "Crie um sistema de cadastro de produtos. Neste sistema podemos:\n",
    "- Adicionar um novo produto\n",
    "- Remover um produto da base\n",
    "- Consultar quais são os produtos cadastrados\n",
    "\n",
    "Para tal crie as seguintes funções:\n",
    "- cadastre_produto\n",
    "- delete_produto\n",
    "- consulte_produtos\n",
    "- ative_sistema\n",
    "  - Essa função irá gerenciar todas as funções acima (como um sistema central)\n",
    "\n",
    "Os atributos possíveis são:\n",
    "- Nome do produto\n",
    "- Quantidade do produto\n",
    "- Descrição\n",
    "- Informações adicionais"
   ]
  },
  {
   "cell_type": "code",
   "execution_count": 28,
   "id": "279a75cd",
   "metadata": {},
   "outputs": [],
   "source": [
    "def ative_sistema():\n",
    "    print('''\n",
    "    O que você deseja fazer? (Escolha digitando o número da operação)\n",
    "    1 - Cadastrar um produto\n",
    "    2 - Deletar um produto\n",
    "    3 - Consultar um produto    \n",
    "    ''')\n",
    "    try:\n",
    "        opcao = int(input())\n",
    "    \n",
    "    except ValueError:\n",
    "        opcao = \"erro\"\n",
    "    except:\n",
    "        opcao = \"erro\"\n",
    "        \n",
    "    finally:\n",
    "        if opcao == 1:\n",
    "            nome = input(\"Nome do produto: \")\n",
    "            quantidade = input(\"Quantidade em estoque: \")\n",
    "            descricao = input(\"Descricao do produto: \")\n",
    "            outras_infos = input(\"Outras informações: \")\n",
    "            \n",
    "            if len(nome) == 0:\n",
    "                print(\"O campo Nome é obrigatório\")\n",
    "\n",
    "            elif len(quantidade) == 0:\n",
    "                print(\"O campo Quantidade é obrigatório\")\n",
    "\n",
    "            else:\n",
    "                cadastre_produto(dicio, nome, int(quantidade), descricao, outras_infos)\n",
    "         \n",
    "\n",
    "        elif opcao == 2:\n",
    "            nome = input(\"Qual produto deseja remover?\")\n",
    "    \n",
    "            if nome not in dicio[\"nome\"]:\n",
    "                print(\"Produto não encontrado.\")\n",
    "            else:\n",
    "                delete_produto(nome,dicio)\n",
    "\n",
    "        elif opcao == 3:\n",
    "            lista_produtos = consulte_produtos(dicio)\n",
    "            \n",
    "            print(\"Os produtos em estoque são:\")\n",
    "            for produto in lista_produtos:\n",
    "                print(f\"- {produto}\")\n",
    "        \n",
    "        else:\n",
    "            print(\"Favor digitar um número inteiro de 1 a 3\")\n",
    "            ative_sistema()\n",
    "        \n",
    "        \n",
    "def cadastre_produto(dicio, nome, quantidade, descricao, outras_infos):\n",
    "    '''\n",
    "    Essa função cadastra um novo produto com os campos:\n",
    "    - nome do produto (obrigatório)\n",
    "    - quantidade (obrigatorio)\n",
    "    - descrição (opcional)\n",
    "    - outros campos (opcional)\n",
    "\n",
    "    '''\n",
    "    if len(dicio) == 0:\n",
    "        dicio[\"nome\"] = [nome]\n",
    "        dicio[\"quantidade\"] = [quantidade]\n",
    "        dicio[\"descricao\"] = [descricao]\n",
    "        dicio[\"outras_infos\"] = [outras_infos]\n",
    "        \n",
    "    else:\n",
    "        dicio[\"nome\"].append(nome)\n",
    "        dicio[\"quantidade\"].append(quantidade)\n",
    "        dicio[\"descricao\"].append(descricao)\n",
    "        dicio[\"outras_infos\"].append(outras_infos)\n",
    "        \n",
    "def delete_produto(nome,dicio):\n",
    "    \"\"\" Essa função deleta um produto da base pelo `nome do produto`\n",
    "    \"\"\"\n",
    "    idx = dicio[\"nome\"].index(nome)\n",
    "    \n",
    "    for chave in dicio:\n",
    "        dicio[chave].pop(idx)\n",
    "    \n",
    "    print(f\"Produto deletado: {nome}\")\n",
    "\n",
    "def consulte_produtos(dicio):\n",
    "    \"\"\" Essa função mostra os produtos disponíveis no sistema (somente nome)\n",
    "    \"\"\"\n",
    "    lista_produtos = [produto for produto in dicio[\"nome\"]]\n",
    "    \n",
    "    return lista_produtos"
   ]
  },
  {
   "cell_type": "code",
   "execution_count": 15,
   "id": "ac6d5440",
   "metadata": {},
   "outputs": [],
   "source": [
    "dicio = {}"
   ]
  },
  {
   "cell_type": "code",
   "execution_count": 16,
   "id": "4eec9812",
   "metadata": {
    "scrolled": false
   },
   "outputs": [
    {
     "name": "stdout",
     "output_type": "stream",
     "text": [
      "\n",
      "    O que você deseja fazer? (Escolha digitando o número da operação)\n",
      "    1 - Cadastrar um produto\n",
      "    2 - Deletar um produto\n",
      "    3 - Consultar um produto    \n",
      "    \n",
      "1\n",
      "Nome do produto: TV\n",
      "Quantidade em estoque: 10\n",
      "Descricao do produto: 32 polegadas\n",
      "Outras informações: \n"
     ]
    }
   ],
   "source": [
    "ative_sistema()"
   ]
  },
  {
   "cell_type": "code",
   "execution_count": 17,
   "id": "90550e56",
   "metadata": {
    "scrolled": true
   },
   "outputs": [
    {
     "data": {
      "text/plain": [
       "{'nome': ['TV'],\n",
       " 'quantidade': [10],\n",
       " 'descricao': ['32 polegadas'],\n",
       " 'outras_infos': ['']}"
      ]
     },
     "execution_count": 17,
     "metadata": {},
     "output_type": "execute_result"
    }
   ],
   "source": [
    "dicio"
   ]
  },
  {
   "cell_type": "code",
   "execution_count": 18,
   "id": "867bd036",
   "metadata": {
    "scrolled": true
   },
   "outputs": [
    {
     "name": "stdout",
     "output_type": "stream",
     "text": [
      "\n",
      "    O que você deseja fazer? (Escolha digitando o número da operação)\n",
      "    1 - Cadastrar um produto\n",
      "    2 - Deletar um produto\n",
      "    3 - Consultar um produto    \n",
      "    \n",
      "1\n",
      "Nome do produto: Celular\n",
      "Quantidade em estoque: 3\n",
      "Descricao do produto: \n",
      "Outras informações: \n"
     ]
    }
   ],
   "source": [
    "ative_sistema()"
   ]
  },
  {
   "cell_type": "code",
   "execution_count": 19,
   "id": "67ae12f9",
   "metadata": {
    "scrolled": true
   },
   "outputs": [
    {
     "data": {
      "text/plain": [
       "{'nome': ['TV', 'Celular'],\n",
       " 'quantidade': [10, 3],\n",
       " 'descricao': ['32 polegadas', ''],\n",
       " 'outras_infos': ['', '']}"
      ]
     },
     "execution_count": 19,
     "metadata": {},
     "output_type": "execute_result"
    }
   ],
   "source": [
    "dicio"
   ]
  },
  {
   "cell_type": "code",
   "execution_count": 20,
   "id": "b4eb3b51",
   "metadata": {
    "scrolled": true
   },
   "outputs": [
    {
     "name": "stdout",
     "output_type": "stream",
     "text": [
      "\n",
      "    O que você deseja fazer? (Escolha digitando o número da operação)\n",
      "    1 - Cadastrar um produto\n",
      "    2 - Deletar um produto\n",
      "    3 - Consultar um produto    \n",
      "    \n",
      "1\n",
      "Nome do produto: \n",
      "Quantidade em estoque: 12\n",
      "Descricao do produto: tela\n",
      "Outras informações: ok\n",
      "O campo Nome é obrigatório\n"
     ]
    }
   ],
   "source": [
    "ative_sistema()"
   ]
  },
  {
   "cell_type": "code",
   "execution_count": 21,
   "id": "4e71b004",
   "metadata": {
    "scrolled": true
   },
   "outputs": [
    {
     "data": {
      "text/plain": [
       "{'nome': ['TV', 'Celular'],\n",
       " 'quantidade': [10, 3],\n",
       " 'descricao': ['32 polegadas', ''],\n",
       " 'outras_infos': ['', '']}"
      ]
     },
     "execution_count": 21,
     "metadata": {},
     "output_type": "execute_result"
    }
   ],
   "source": [
    "dicio"
   ]
  },
  {
   "cell_type": "code",
   "execution_count": 23,
   "id": "ad79cba7",
   "metadata": {
    "scrolled": true
   },
   "outputs": [
    {
     "name": "stdout",
     "output_type": "stream",
     "text": [
      "\n",
      "    O que você deseja fazer? (Escolha digitando o número da operação)\n",
      "    1 - Cadastrar um produto\n",
      "    2 - Deletar um produto\n",
      "    3 - Consultar um produto    \n",
      "    \n",
      "2\n",
      "Qual produto deseja remover?antena\n",
      "Produto não encontrado.\n"
     ]
    }
   ],
   "source": [
    "ative_sistema()"
   ]
  },
  {
   "cell_type": "code",
   "execution_count": 24,
   "id": "7348bada",
   "metadata": {
    "scrolled": true
   },
   "outputs": [
    {
     "name": "stdout",
     "output_type": "stream",
     "text": [
      "\n",
      "    O que você deseja fazer? (Escolha digitando o número da operação)\n",
      "    1 - Cadastrar um produto\n",
      "    2 - Deletar um produto\n",
      "    3 - Consultar um produto    \n",
      "    \n",
      "2\n",
      "Qual produto deseja remover?TV\n",
      "Produto deletado: TV\n"
     ]
    }
   ],
   "source": [
    "ative_sistema()"
   ]
  },
  {
   "cell_type": "code",
   "execution_count": 25,
   "id": "dfae4a2b",
   "metadata": {
    "scrolled": true
   },
   "outputs": [
    {
     "data": {
      "text/plain": [
       "{'nome': ['Celular'],\n",
       " 'quantidade': [3],\n",
       " 'descricao': [''],\n",
       " 'outras_infos': ['']}"
      ]
     },
     "execution_count": 25,
     "metadata": {},
     "output_type": "execute_result"
    }
   ],
   "source": [
    "dicio"
   ]
  },
  {
   "cell_type": "code",
   "execution_count": 29,
   "id": "2fdc55ea",
   "metadata": {
    "scrolled": true
   },
   "outputs": [
    {
     "name": "stdout",
     "output_type": "stream",
     "text": [
      "\n",
      "    O que você deseja fazer? (Escolha digitando o número da operação)\n",
      "    1 - Cadastrar um produto\n",
      "    2 - Deletar um produto\n",
      "    3 - Consultar um produto    \n",
      "    \n",
      "3\n",
      "Os produtos em estoque são:\n",
      "- Celular\n"
     ]
    }
   ],
   "source": [
    "ative_sistema()"
   ]
  },
  {
   "cell_type": "code",
   "execution_count": 30,
   "id": "1c095350",
   "metadata": {
    "scrolled": true
   },
   "outputs": [
    {
     "name": "stdout",
     "output_type": "stream",
     "text": [
      "\n",
      "    O que você deseja fazer? (Escolha digitando o número da operação)\n",
      "    1 - Cadastrar um produto\n",
      "    2 - Deletar um produto\n",
      "    3 - Consultar um produto    \n",
      "    \n",
      "1\n",
      "Nome do produto: TV\n",
      "Quantidade em estoque: 19\n",
      "Descricao do produto: 32 polegadas\n",
      "Outras informações: ok\n"
     ]
    }
   ],
   "source": [
    "ative_sistema()"
   ]
  },
  {
   "cell_type": "code",
   "execution_count": 31,
   "id": "99d95386",
   "metadata": {
    "scrolled": true
   },
   "outputs": [
    {
     "name": "stdout",
     "output_type": "stream",
     "text": [
      "\n",
      "    O que você deseja fazer? (Escolha digitando o número da operação)\n",
      "    1 - Cadastrar um produto\n",
      "    2 - Deletar um produto\n",
      "    3 - Consultar um produto    \n",
      "    \n",
      "1\n",
      "Nome do produto: Antena\n",
      "Quantidade em estoque: 100\n",
      "Descricao do produto: \n",
      "Outras informações: \n"
     ]
    }
   ],
   "source": [
    "ative_sistema()"
   ]
  },
  {
   "cell_type": "code",
   "execution_count": 32,
   "id": "87bbe2c1",
   "metadata": {
    "scrolled": false
   },
   "outputs": [
    {
     "data": {
      "text/plain": [
       "{'nome': ['Celular', 'TV', 'Antena'],\n",
       " 'quantidade': [3, 19, 100],\n",
       " 'descricao': ['', '32 polegadas', ''],\n",
       " 'outras_infos': ['', 'ok', '']}"
      ]
     },
     "execution_count": 32,
     "metadata": {},
     "output_type": "execute_result"
    }
   ],
   "source": [
    "dicio"
   ]
  },
  {
   "cell_type": "code",
   "execution_count": 38,
   "id": "0b2eb650",
   "metadata": {
    "scrolled": false
   },
   "outputs": [
    {
     "data": {
      "text/plain": [
       "{'nome': ['Celular', 'TV', 'Antena'],\n",
       " 'quantidade': [12, 76, 400],\n",
       " 'descricao': ['', '32 polegadas', ''],\n",
       " 'outras_infos': ['', 'ok', '']}"
      ]
     },
     "execution_count": 38,
     "metadata": {},
     "output_type": "execute_result"
    }
   ],
   "source": [
    "duplica_valores = lambda x : 2*x\n",
    "\n",
    "dicio['quantidade'] = list(map(duplica_valores, dicio['quantidade']))\n",
    "\n",
    "dicio"
   ]
  },
  {
   "cell_type": "markdown",
   "id": "08729000",
   "metadata": {},
   "source": [
    "Salvando arquivo"
   ]
  },
  {
   "cell_type": "code",
   "execution_count": 34,
   "id": "622d76bf",
   "metadata": {},
   "outputs": [],
   "source": [
    "import csv"
   ]
  },
  {
   "cell_type": "code",
   "execution_count": 36,
   "id": "bd42aee8",
   "metadata": {},
   "outputs": [],
   "source": [
    "colunas = dicio.keys()"
   ]
  },
  {
   "cell_type": "code",
   "execution_count": 39,
   "id": "1bd655fc",
   "metadata": {},
   "outputs": [
    {
     "data": {
      "text/plain": [
       "dict"
      ]
     },
     "execution_count": 39,
     "metadata": {},
     "output_type": "execute_result"
    }
   ],
   "source": [
    "type(dicio)"
   ]
  },
  {
   "cell_type": "code",
   "execution_count": 40,
   "id": "44811157",
   "metadata": {},
   "outputs": [],
   "source": [
    "with open('dicio.csv', \"w\") as arquivo:\n",
    "    escritor = csv.DictWriter(arquivo, fieldnames=colunas, lineterminator=\"\\n\")\n",
    "    escritor.writeheader()\n",
    "    escritor.writerow(dicio)"
   ]
  },
  {
   "cell_type": "markdown",
   "id": "f3ec38d5",
   "metadata": {},
   "source": [
    "Lendo o arquivo"
   ]
  },
  {
   "cell_type": "code",
   "execution_count": 42,
   "id": "bc3f8042",
   "metadata": {},
   "outputs": [
    {
     "name": "stdout",
     "output_type": "stream",
     "text": [
      "{'nome': \"['Celular', 'TV', 'Antena']\", 'quantidade': '[12, 76, 400]', 'descricao': \"['', '32 polegadas', '']\", 'outras_infos': \"['', 'ok', '']\"}\n"
     ]
    }
   ],
   "source": [
    "with open('dicio.csv', \"r\") as arquivo:\n",
    "    planilha = csv.DictReader(arquivo, lineterminator=\"\\n\")\n",
    "    objeto = {}\n",
    "    for linha in planilha:\n",
    "        print(linha)"
   ]
  },
  {
   "cell_type": "code",
   "execution_count": 43,
   "id": "6136588f",
   "metadata": {
    "scrolled": true
   },
   "outputs": [
    {
     "data": {
      "text/plain": [
       "{'nome': \"['Celular', 'TV', 'Antena']\",\n",
       " 'quantidade': '[12, 76, 400]',\n",
       " 'descricao': \"['', '32 polegadas', '']\",\n",
       " 'outras_infos': \"['', 'ok', '']\"}"
      ]
     },
     "execution_count": 43,
     "metadata": {},
     "output_type": "execute_result"
    }
   ],
   "source": [
    "linha"
   ]
  },
  {
   "cell_type": "code",
   "execution_count": 44,
   "id": "aff45a46",
   "metadata": {
    "scrolled": true
   },
   "outputs": [
    {
     "data": {
      "text/plain": [
       "['Celular', 'TV', 'Antena']"
      ]
     },
     "execution_count": 44,
     "metadata": {},
     "output_type": "execute_result"
    }
   ],
   "source": [
    "list_eval = eval(\"['Celular', 'TV', 'Antena']\")\n",
    "list_eval"
   ]
  }
 ],
 "metadata": {
  "kernelspec": {
   "display_name": "Python 3 (ipykernel)",
   "language": "python",
   "name": "python3"
  },
  "language_info": {
   "codemirror_mode": {
    "name": "ipython",
    "version": 3
   },
   "file_extension": ".py",
   "mimetype": "text/x-python",
   "name": "python",
   "nbconvert_exporter": "python",
   "pygments_lexer": "ipython3",
   "version": "3.9.7"
  }
 },
 "nbformat": 4,
 "nbformat_minor": 5
}
