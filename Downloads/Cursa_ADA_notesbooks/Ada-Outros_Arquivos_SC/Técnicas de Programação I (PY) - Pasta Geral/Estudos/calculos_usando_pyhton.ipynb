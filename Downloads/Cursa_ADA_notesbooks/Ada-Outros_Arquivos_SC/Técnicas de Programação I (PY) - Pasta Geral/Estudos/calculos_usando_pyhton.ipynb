{
 "cells": [
  {
   "cell_type": "markdown",
   "metadata": {},
   "source": [
    "A biblioteca `fractions` em Python é usada para trabalhar com frações matemáticas exatas, ou seja, frações que não são arredondadas para números decimais de ponto flutuante. Isso é útil quando você precisa realizar cálculos precisos e manter a exatidão das frações em vez de usar aproximações decimais.\n",
    "\n",
    "1. Importar a biblioteca:\n",
    "```python\n",
    "from fractions import Fraction\n",
    "```\n",
    "\n",
    "2. Criar frações:\n",
    "Você pode criar frações de diferentes maneiras, como passar um numerador e um denominador para o construtor `Fraction()`:\n",
    "```python\n",
    "frac = Fraction(3, 4)  # Cria a fração 3/4\n",
    "```\n",
    "\n",
    "3. Realizar operações matemáticas com frações:\n",
    "Você pode realizar operações matemáticas padrão com frações, como adição, subtração, multiplicação e divisão:\n",
    "```python\n",
    "frac1 = Fraction(1, 3)\n",
    "frac2 = Fraction(2, 5)\n",
    "\n",
    "soma = frac1 + frac2\n",
    "subtracao = frac1 - frac2\n",
    "multiplicacao = frac1 * frac2\n",
    "divisao = frac1 / frac2\n",
    "```\n",
    "\n",
    "4. Converter frações para números decimais:\n",
    "Você pode converter frações em números decimais usando o método `float()` ou usando a divisão de frações:\n",
    "```python\n",
    "frac = Fraction(5, 8)\n",
    "decimal = float(frac)  # Converte a fração em um número decimal\n",
    "divisao_decimal = frac / 1  # Divide a fração por 1 para obter um número decimal\n",
    "```\n",
    "\n",
    "5. Simplificar frações:\n",
    "As frações criadas usando `fractions` são automaticamente simplificadas para a forma mais baixa. Se você quiser explicitamente simplificar uma fração, pode usar o método `fractions.Fraction()` com apenas um argumento, que será automaticamente convertido em uma fração simplificada:\n",
    "```python\n",
    "frac = Fraction(8, 16)  # A fração será simplificada automaticamente para 1/2\n",
    "```\n",
    "\n",
    "A biblioteca `fractions` é útil para cálculos que requerem precisão exata, especialmente quando você deseja evitar problemas de arredondamento comuns com números de ponto flutuante. Ela permite que você trabalhe com frações de maneira direta e mantenha a integridade matemática das operações."
   ]
  }
 ],
 "metadata": {
  "language_info": {
   "name": "python"
  },
  "orig_nbformat": 4
 },
 "nbformat": 4,
 "nbformat_minor": 2
}
