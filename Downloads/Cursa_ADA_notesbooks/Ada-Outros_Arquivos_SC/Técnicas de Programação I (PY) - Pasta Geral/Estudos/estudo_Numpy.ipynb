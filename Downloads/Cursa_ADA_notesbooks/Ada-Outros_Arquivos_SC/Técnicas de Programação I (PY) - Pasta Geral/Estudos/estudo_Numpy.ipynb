{
 "cells": [
  {
   "cell_type": "markdown",
   "metadata": {},
   "source": [
    "documentação : https://numpy.org/doc/stable/\n",
    "\n",
    "NumPy é uma biblioteca fundamental para computação científica em Python. Ela fornece suporte para arrays multidimensionais (matrizes) e funções para operações matemáticas eficientes em grande quantidade de dados. Isso a torna uma ferramenta poderosa para processamento de dados, análise estatística, simulações numéricas e muito mais.\n",
    "\n",
    "Aqui estão alguns exemplos dos principais usos do NumPy:\n"
   ]
  },
  {
   "cell_type": "code",
   "execution_count": 2,
   "metadata": {},
   "outputs": [],
   "source": [
    "import numpy as np\n"
   ]
  },
  {
   "cell_type": "code",
   "execution_count": 3,
   "metadata": {},
   "outputs": [],
   "source": [
    "\n",
    "\"\"\"\n",
    "1. Criação de Arrays:\n",
    "   NumPy permite criar arrays multidimensionais de forma eficiente. Você pode criar arrays a partir de listas ou usando funções como `numpy.array()`, `numpy.zeros()`, `numpy.ones()`, `numpy.arange()`, entre outras.\"\"\"\n",
    "\n",
    "# Criando um array unidimensional\n",
    "array1d = np.array([1, 2, 3, 4, 5])\n",
    "\n",
    "# Criando um array bidimensional (matriz)\n",
    "matriz = np.array([[1, 2, 3], [4, 5, 6], [7, 8, 9]])\n"
   ]
  },
  {
   "cell_type": "code",
   "execution_count": 18,
   "metadata": {},
   "outputs": [
    {
     "name": "stdout",
     "output_type": "stream",
     "text": [
      "[6 6 6 6 6]\n"
     ]
    }
   ],
   "source": [
    "\"\"\"\n",
    "2. Operações Matemáticas:\n",
    "   NumPy permite realizar operações matemáticas em arrays de forma eficiente, seja elemento a elemento ou entre arrays.\"\"\"\n",
    "\n",
    "\n",
    "array = np.array([1, 2, 3, 4, 5])\n",
    "\n",
    "# Operações element-wise\n",
    "resultado = array + 10\n",
    "resultado = np.sin(array)\n",
    "resultado = array * 2\n",
    "\n",
    "# Operações entre arrays\n",
    "outro_array = np.array([5, 4, 3, 2, 1])\n",
    "resultado = array + outro_array\n",
    "print(resultado)"
   ]
  },
  {
   "cell_type": "code",
   "execution_count": 20,
   "metadata": {},
   "outputs": [
    {
     "name": "stdout",
     "output_type": "stream",
     "text": [
      "10\n",
      "[20 30 40]\n"
     ]
    }
   ],
   "source": [
    "\n",
    "\"\"\"3. Indexação e Fatiamento:\n",
    "   Assim como listas em Python, você pode acessar elementos individuais e fatiar arrays do NumPy.\"\"\"\n",
    "\n",
    "\n",
    "array = np.array([10, 20, 30, 40, 50])\n",
    "\n",
    "primeiro_elemento = array[0]\n",
    "print(primeiro_elemento)\n",
    "subarray = array[1:4]\n",
    "print(subarray)"
   ]
  },
  {
   "cell_type": "code",
   "execution_count": 24,
   "metadata": {},
   "outputs": [
    {
     "name": "stdout",
     "output_type": "stream",
     "text": [
      "30.0 14.142135623730951 50\n"
     ]
    }
   ],
   "source": [
    "\"\"\"\n",
    "4. Funções Estatísticas:\n",
    "   NumPy oferece várias funções para análise estatística de dados.\"\"\"\n",
    "array = np.array([10, 20, 30, 40, 50])\n",
    "\n",
    "media = np.mean(array)\n",
    "desvio_padrao = np.std(array)\n",
    "valor_maximo = np.max(array)\n",
    "print(media, desvio_padrao, valor_maximo)\n"
   ]
  },
  {
   "cell_type": "code",
   "execution_count": 27,
   "metadata": {},
   "outputs": [
    {
     "name": "stdout",
     "output_type": "stream",
     "text": [
      "[[-3. -4.]\n",
      " [ 4.  5.]]\n"
     ]
    },
    {
     "data": {
      "text/plain": [
       "'Esses são apenas alguns exemplos dos principais usos da biblioteca NumPy em Python. Ela é uma ferramenta essencial para cientistas de dados, engenheiros e pesquisadores que trabalham com análise numérica e processamento de dados.'"
      ]
     },
     "execution_count": 27,
     "metadata": {},
     "output_type": "execute_result"
    }
   ],
   "source": [
    "\"\"\"5. Álgebra Linear:\n",
    "   NumPy é amplamente usado em álgebra linear, com suporte para multiplicação de matrizes, decomposições, resolução de sistemas lineares, entre outros.\"\"\"\n",
    "\n",
    "matriz1 = np.array([[1, 2], [3, 4]])\n",
    "matriz2 = np.array([[5, 6], [7, 8]])\n",
    "\n",
    "produto = np.dot(matriz1, matriz2)\n",
    "solucao_sistema = np.linalg.solve(matriz1, matriz2)\n",
    "print(solucao_sistema)\n",
    "\"\"\"Esses são apenas alguns exemplos dos principais usos da biblioteca NumPy em Python. Ela é uma ferramenta essencial para cientistas de dados, engenheiros e pesquisadores que trabalham com análise numérica e processamento de dados.\"\"\"\n"
   ]
  },
  {
   "cell_type": "code",
   "execution_count": 26,
   "metadata": {},
   "outputs": [
    {
     "name": "stdout",
     "output_type": "stream",
     "text": [
      "[[19 22]\n",
      " [43 50]]\n"
     ]
    }
   ],
   "source": [
    "#Multiplicação de Matrizes:\n",
    "\n",
    "matriz1 = np.array([[1, 2], [3, 4]])\n",
    "matriz2 = np.array([[5, 6], [7, 8]])\n",
    "\n",
    "produto = np.dot(matriz1, matriz2)\n",
    "\n",
    "print(produto)"
   ]
  },
  {
   "cell_type": "code",
   "execution_count": 28,
   "metadata": {},
   "outputs": [
    {
     "name": "stdout",
     "output_type": "stream",
     "text": [
      "[[1 3]\n",
      " [2 4]]\n"
     ]
    }
   ],
   "source": [
    "# Transposição de Matrizes:\n",
    "matriz = np.array([[1, 2], [3, 4]])\n",
    "matriz_transposta = matriz.T\n",
    "print(matriz_transposta)"
   ]
  },
  {
   "cell_type": "code",
   "execution_count": 29,
   "metadata": {},
   "outputs": [
    {
     "name": "stdout",
     "output_type": "stream",
     "text": [
      "-2.0000000000000004\n",
      "[[-2.   1. ]\n",
      " [ 1.5 -0.5]]\n"
     ]
    }
   ],
   "source": [
    "#Determinante e Inversa:\n",
    "\n",
    "matriz = np.array([[1, 2], [3, 4]])\n",
    "determinante = np.linalg.det(matriz)\n",
    "matriz_inversa = np.linalg.inv(matriz)\n",
    "print(determinante)\n",
    "print(matriz_inversa)"
   ]
  },
  {
   "cell_type": "markdown",
   "metadata": {},
   "source": [
    "Manipulação de Dados:\n",
    "O NumPy oferece muitas ferramentas para manipular e transformar seus dados de maneira eficiente:\n",
    "\n"
   ]
  },
  {
   "cell_type": "code",
   "execution_count": 13,
   "metadata": {},
   "outputs": [],
   "source": [
    "#Redimensionamento e Reshape:\n",
    "\n",
    "array = np.array([1, 2, 3, 4, 5, 6])\n",
    "matriz = array.reshape(2, 3)"
   ]
  },
  {
   "cell_type": "code",
   "execution_count": 14,
   "metadata": {},
   "outputs": [],
   "source": [
    "#Empilhamento de Arrays:\n",
    "array1 = np.array([1, 2, 3])\n",
    "array2 = np.array([4, 5, 6])\n",
    "empilhados = np.vstack((array1, array2))"
   ]
  },
  {
   "cell_type": "markdown",
   "metadata": {},
   "source": [
    "Operações Estatísticas e de Agregação: Operações Estatísticas e de Agregação:"
   ]
  },
  {
   "cell_type": "code",
   "execution_count": 15,
   "metadata": {},
   "outputs": [],
   "source": [
    "#Cálculos Estatísticos:\n",
    "dados = np.array([10, 20, 30, 40, 50])\n",
    "media = np.mean(dados)\n",
    "mediana = np.median(dados)\n",
    "desvio_padrao = np.std(dados)"
   ]
  },
  {
   "cell_type": "code",
   "execution_count": 16,
   "metadata": {},
   "outputs": [],
   "source": [
    "#Soma, Mínimo e Máximo:\n",
    "array = np.array([10, 20, 30, 40, 50])\n",
    "soma_total = np.sum(array)\n",
    "valor_minimo = np.min(array)\n",
    "valor_maximo = np.max(array)"
   ]
  },
  {
   "cell_type": "markdown",
   "metadata": {},
   "source": [
    "Geração de Dados Aleatórios:\n",
    "\n",
    "NumPy oferece funções para geração de dados aleatórios para simulações e experimentos:"
   ]
  },
  {
   "cell_type": "code",
   "execution_count": 17,
   "metadata": {},
   "outputs": [],
   "source": [
    "# Geração de números aleatórios entre 0 e 1\n",
    "aleatorios = np.random.rand(5)\n",
    "\n",
    "# Geração de matriz de números inteiros aleatórios\n",
    "matriz_aleatoria = np.random.randint(0, 10, size=(3, 3))"
   ]
  },
  {
   "cell_type": "markdown",
   "metadata": {},
   "source": [
    "\n",
    "\n",
    "**Usos comuns de Arrays Tridimensionais:**\n",
    "\n",
    "1. **Imagens 3D:** Um array tridimensional pode representar uma imagem colorida em três canais (RGB) ou volumes de imagem em aplicações médicas.\n",
    "\n",
    "2. **Dados Espaciais:** Em aplicações de geociência ou simulações físicas, arrays tridimensionais podem representar dados espaciais em três dimensões.\n",
    "\n",
    "3. **Vídeo em 3D:** Em processamento de vídeo, arrays tridimensionais podem ser usados para representar sequências de quadros de vídeo em três dimensões.\n",
    "\n",
    "4. **Dados Temporais:** Em análises financeiras ou científicas, arrays tridimensionais podem representar dados ao longo do tempo, combinando informações temporais e espaciais.\n",
    "\n",
    "5. **Modelagem Matemática:** Em simulações numéricas complexas, arrays tridimensionais podem representar campos tridimensionais, como fluxo de fluidos ou campos elétricos.\n",
    "\n",
    "6. **Dados de Sensores:** Em aplicações de IoT ou engenharia, arrays tridimensionais podem representar dados coletados de sensores em três dimensões.\n",
    "\n",
    "7. **Visualização 3D:** Arrays tridimensionais podem ser usados para visualização de dados em 3D, como modelagem molecular ou visualização de gráficos tridimensionais.\n",
    "\n",
    "Esses são apenas alguns exemplos de como os arrays tridimensionais podem ser úteis em análises de dados usando a biblioteca NumPy em Python. Eles são especialmente valiosos quando os dados possuem uma dimensão extra que adiciona contexto ou informações importantes para a análise."
   ]
  },
  {
   "cell_type": "code",
   "execution_count": 30,
   "metadata": {},
   "outputs": [
    {
     "name": "stdout",
     "output_type": "stream",
     "text": [
      "Array Tridimensional:\n",
      "[[[4 7 0 1 1]\n",
      "  [4 0 2 0 3]\n",
      "  [2 3 7 6 3]\n",
      "  [6 9 9 1 0]]\n",
      "\n",
      " [[1 5 0 1 6]\n",
      "  [2 3 8 6 4]\n",
      "  [2 4 7 0 0]\n",
      "  [4 6 3 7 4]]\n",
      "\n",
      " [[4 7 0 9 6]\n",
      "  [7 3 2 6 2]\n",
      "  [2 8 5 1 1]\n",
      "  [7 9 2 1 5]]]\n",
      "Elemento na posição (1, 2, 3): 0\n",
      "Subarray:\n",
      "[[[2 0]\n",
      "  [7 6]]\n",
      "\n",
      " [[8 6]\n",
      "  [7 0]]]\n",
      "Soma Total: 228\n",
      "Média: 3.8\n",
      "Máximo: 9\n",
      "Mínimo: 0\n"
     ]
    }
   ],
   "source": [
    "import numpy as np\n",
    "\n",
    "# Criando um array tridimensional 3x4x5 com valores aleatórios entre 0 e 9\n",
    "array_tridimensional = np.random.randint(10, size=(3, 4, 5))\n",
    "print(\"Array Tridimensional:\")\n",
    "print(array_tridimensional)\n",
    "\n",
    "# Acessando elementos específicos do array\n",
    "elemento = array_tridimensional[1, 2, 3]\n",
    "print(f\"Elemento na posição (1, 2, 3): {elemento}\")\n",
    "\n",
    "# Slicing (fatiamento) do array\n",
    "subarray = array_tridimensional[0:2, 1:3, 2:4]\n",
    "print(\"Subarray:\")\n",
    "print(subarray)\n",
    "\n",
    "# Algumas operações de agregação\n",
    "soma_total = np.sum(array_tridimensional)\n",
    "media = np.mean(array_tridimensional)\n",
    "maximo = np.max(array_tridimensional)\n",
    "minimo = np.min(array_tridimensional)\n",
    "\n",
    "print(f\"Soma Total: {soma_total}\")\n",
    "print(f\"Média: {media}\")\n",
    "print(f\"Máximo: {maximo}\")\n",
    "print(f\"Mínimo: {minimo}\")\n"
   ]
  }
 ],
 "metadata": {
  "kernelspec": {
   "display_name": "Python 3",
   "language": "python",
   "name": "python3"
  },
  "language_info": {
   "codemirror_mode": {
    "name": "ipython",
    "version": 3
   },
   "file_extension": ".py",
   "mimetype": "text/x-python",
   "name": "python",
   "nbconvert_exporter": "python",
   "pygments_lexer": "ipython3",
   "version": "3.10.12"
  },
  "orig_nbformat": 4
 },
 "nbformat": 4,
 "nbformat_minor": 2
}
