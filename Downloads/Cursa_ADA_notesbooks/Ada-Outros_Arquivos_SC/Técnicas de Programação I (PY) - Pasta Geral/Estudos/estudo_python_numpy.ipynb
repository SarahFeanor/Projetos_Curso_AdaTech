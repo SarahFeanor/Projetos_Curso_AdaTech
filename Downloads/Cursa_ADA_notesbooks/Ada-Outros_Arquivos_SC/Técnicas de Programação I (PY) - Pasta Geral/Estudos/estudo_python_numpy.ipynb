{
 "cells": [
  {
   "cell_type": "markdown",
   "metadata": {},
   "source": [
    "Em Python, um conjunto (set) é uma coleção não ordenada de elementos únicos. Isso significa que um conjunto não pode conter elementos duplicados e não possui uma ordem específica dos elementos. Os conjuntos são uma estrutura de dados útil para armazenar elementos quando você se preocupa apenas com a existência de um elemento em vez de sua ordem ou contagem.\n",
    "\n",
    "Aqui está como você pode criar um conjunto em Python:\n",
    "\n",
    "```python\n",
    "# Criando um conjunto vazio\n",
    "meu_conjunto = set()\n",
    "\n",
    "# Criando um conjunto com elementos\n",
    "numeros = {1, 2, 3, 4, 5}\n",
    "frutas = {\"maçã\", \"banana\", \"laranja\"}\n",
    "```\n",
    "\n",
    "Principais características dos conjuntos em Python:\n",
    "\n",
    "1. **Elementos Únicos:** Um conjunto não pode conter elementos duplicados. Se você tentar adicionar um elemento já existente, ele não será adicionado novamente.\n",
    "\n",
    "2. **Não Ordenados:** Os elementos em um conjunto não têm uma ordem específica. Eles são armazenados de forma eficiente para permitir verificações rápidas de pertencimento.\n",
    "\n",
    "3. **Mutabilidade:** Os conjuntos são mutáveis, o que significa que você pode adicionar ou remover elementos após a criação.\n",
    "\n",
    "4. **Operações de Conjunto:** Os conjuntos em Python suportam operações como união, interseção, diferença e pertencimento, que são úteis para manipular conjuntos de elementos.\n",
    "\n"
   ]
  },
  {
   "cell_type": "code",
   "execution_count": 3,
   "metadata": {},
   "outputs": [
    {
     "name": "stdout",
     "output_type": "stream",
     "text": [
      "False\n",
      "True\n"
     ]
    }
   ],
   "source": [
    "#exemplo de uso de conjuntos:\n",
    "\n",
    "# Criando conjuntos\n",
    "pares = {2, 4, 6, 8, 10}\n",
    "impares = {1, 3, 5, 7, 9}\n",
    "\n",
    "# Operações de conjunto\n",
    "uniao = pares.union(impares)  # União dos conjuntos  \n",
    "intersecao = pares.intersection(impares)  # Interseção dos conjuntos\n",
    "diferenca = pares.difference(impares)  # Diferença entre os conjuntos\n",
    "diferenca_simetrica = pares.symmetric_difference(impares) \n",
    "# Verificação de pertencimento\n",
    "print(3 in pares)  # False\n",
    "print(3 in impares)  # True\n",
    "\n",
    "\n",
    "# os conjuntos são úteis quando você precisa armazenar elementos únicos e realizar operações de conjunto eficientes, como verificação de pertencimento e combinação de conjuntos."
   ]
  },
  {
   "cell_type": "code",
   "execution_count": 6,
   "metadata": {},
   "outputs": [
    {
     "name": "stdout",
     "output_type": "stream",
     "text": [
      "{1, 2, 3, 4, 5, 6, 7, 8, 9, 10}\n"
     ]
    }
   ],
   "source": [
    "uniao = pares | impares\n",
    "print(uniao)"
   ]
  },
  {
   "cell_type": "code",
   "execution_count": 7,
   "metadata": {},
   "outputs": [
    {
     "name": "stdout",
     "output_type": "stream",
     "text": [
      "set()\n"
     ]
    }
   ],
   "source": [
    "intersecao = pares & impares\n",
    "print(intersecao)"
   ]
  },
  {
   "cell_type": "code",
   "execution_count": 8,
   "metadata": {},
   "outputs": [
    {
     "name": "stdout",
     "output_type": "stream",
     "text": [
      "{2, 4, 6, 8, 10}\n"
     ]
    }
   ],
   "source": [
    "diferenca = pares - impares\n",
    "print(diferenca)"
   ]
  },
  {
   "cell_type": "code",
   "execution_count": 10,
   "metadata": {},
   "outputs": [
    {
     "name": "stdout",
     "output_type": "stream",
     "text": [
      "{1, 2, 3, 4, 5, 6, 7, 8, 9, 10}\n"
     ]
    }
   ],
   "source": [
    "diferenca_simetrica = pares ^ impares\n",
    "print(diferenca_simetrica)\n",
    "#exclui o itens que são iguais"
   ]
  },
  {
   "cell_type": "code",
   "execution_count": 11,
   "metadata": {},
   "outputs": [
    {
     "name": "stdout",
     "output_type": "stream",
     "text": [
      "True\n"
     ]
    }
   ],
   "source": [
    "#elementos dijuntos: quer dizer que não tem elementos em comum\n",
    "print(pares.isdisjoint(impares))"
   ]
  },
  {
   "cell_type": "code",
   "execution_count": 13,
   "metadata": {},
   "outputs": [
    {
     "name": "stdout",
     "output_type": "stream",
     "text": [
      "{2, 4, 6, 8, 10}\n"
     ]
    }
   ],
   "source": [
    "pares_copia=pares.copy()\n",
    "print(pares_copia)"
   ]
  },
  {
   "cell_type": "markdown",
   "metadata": {},
   "source": [
    "O asterisco (*) em Python tem várias possibilidades de uso, cada uma com um propósito específico. Aqui estão algumas das principais maneiras de usar o asterisco:\n",
    "\n",
    "1. **Multiplicação:**\n",
    "   O asterisco é usado para multiplicar números.\n",
    "   ```python\n",
    "   resultado = 3 * 4  # Resultado é 12\n",
    "   ```\n",
    "\n",
    "2. **Desempacotamento (Unpacking):**\n",
    "   O asterisco pode ser usado para desempacotar elementos de uma sequência (lista, tupla) em variáveis individuais.\n",
    "   ```python\n",
    "   lista = [1, 2, 3, 4]\n",
    "   a, b, *resto = lista  # a=1, b=2, resto=[3, 4]\n",
    "   ```\n",
    "\n",
    "3. **Argumentos de Função (Unpacking de Argumentos):**\n",
    "   O asterisco pode ser usado para passar argumentos de uma lista ou tupla como argumentos individuais para uma função.\n",
    "   ```python\n",
    "   def minha_funcao(a, b, c):\n",
    "       print(a, b, c)\n",
    "\n",
    "   valores = [1, 2, 3]\n",
    "   minha_funcao(*valores)  # Equivalente a minha_funcao(1, 2, 3)\n",
    "   ```\n",
    "\n",
    "4. **Multiplicidade de Argumentos (*args):**\n",
    "   Em definições de função, *args é usado para aceitar um número arbitrário de argumentos posicionais.\n",
    "   ```python\n",
    "   def minha_funcao(*args):\n",
    "       for arg in args:\n",
    "           print(arg)\n",
    "\n",
    "   minha_funcao(1, 2, 3, 4)  # Imprime 1, 2, 3, 4\n",
    "   ```\n",
    "\n",
    "5. **Empacotamento de Argumentos (*args):**\n",
    "   Em chamadas de função, *args é usado para empacotar argumentos em uma tupla para passar para uma função.\n",
    "   ```python\n",
    "   def outra_funcao(a, b, *args):\n",
    "       print(a, b)\n",
    "       for arg in args:\n",
    "           print(arg)\n",
    "\n",
    "   outra_funcao(1, 2, 3, 4)  # Imprime 1, 2, 3, 4\n",
    "   ```\n",
    "\n",
    "6. **Argumentos de Palavra-Chave (**kwargs):**\n",
    "   Em definições de função, **kwargs é usado para aceitar um número arbitrário de argumentos de palavra-chave.\n",
    "   ```python\n",
    "   def minha_funcao(**kwargs):\n",
    "       for chave, valor in kwargs.items():\n",
    "           print(chave, valor)\n",
    "\n",
    "   minha_funcao(nome=\"Alice\", idade=30)  # Imprime nome Alice e idade 30\n",
    "   ```\n",
    "\n",
    "7. **Empacotamento de Argumentos de Palavra-Chave (**kwargs):**\n",
    "   Em chamadas de função, **kwargs é usado para empacotar argumentos de palavra-chave em um dicionário para passar para uma função.\n",
    "   ```python\n",
    "   def outra_funcao(a, b, **kwargs):\n",
    "       print(a, b)\n",
    "       for chave, valor in kwargs.items():\n",
    "           print(chave, valor)\n",
    "\n",
    "   outra_funcao(1, 2, nome=\"Bob\", idade=25)  # Imprime 1, 2, nome Bob e idade 25\n",
    "   ```\n",
    "\n",
    "8. **Argumentos de Palavra-Chave após *args:**\n",
    "   Em definições de função, é possível combinar *args e **kwargs para aceitar vários argumentos posicionais e de palavra-chave.\n",
    "   ```python\n",
    "   def funcao_completa(*args, **kwargs):\n",
    "       for arg in args:\n",
    "           print(arg)\n",
    "       for chave, valor in kwargs.items():\n",
    "           print(chave, valor)\n",
    "\n",
    "   funcao_completa(1, 2, 3, nome=\"Carol\", idade=28)  # Imprime 1, 2, 3, nome Carol e idade 28\n",
    "   ```\n",
    "\n",
    "Essas são algumas das principais maneiras de usar o asterisco em Python para diferentes propósitos, como multiplicação, desempacotamento, argumentos de função e muito mais."
   ]
  },
  {
   "cell_type": "markdown",
   "metadata": {
    "notebookRunGroups": {
     "groupValue": "1"
    }
   },
   "source": [
    "A recursividade é um conceito fundamental na programação onde uma função chama a si mesma para resolver um problema. Uma função recursiva divide um problema em subproblemas menores e resolve cada subproblema repetidamente até que o problema original seja resolvido. É importante garantir que a recursão tenha uma condição de parada para evitar um loop infinito.\n",
    "\n",
    "Vou criar exemplos de funções recursivas mais complexas e explicar o conceito de recursividade em cada caso.\n",
    "\n",
    "**Exemplo 1: Fatorial**\n",
    "O fatorial de um número inteiro positivo n é o produto de todos os inteiros de 1 até n. A fórmula do fatorial é n! = n * (n-1) * (n-2) * ... * 1.\n",
    "\n",
    "```python\n",
    "def fatorial(n):\n",
    "    if n == 0 or n == 1:\n",
    "        return 1\n",
    "    else:\n",
    "        return n * fatorial(n - 1)\n",
    "\n",
    "numero = 5\n",
    "resultado = fatorial(numero)\n",
    "print(f'O fatorial de {numero} é {resultado}')\n",
    "```\n",
    "\n",
    "Neste exemplo, a função `fatorial` é recursiva, pois chama a si mesma para calcular o fatorial do número reduzido em 1. A recursão termina quando `n` é igual a 0 ou 1.\n",
    "\n",
    "**Exemplo 2: Sequência de Fibonacci**\n",
    "A sequência de Fibonacci é uma série de números onde cada número é a soma dos dois números anteriores. A sequência começa com 0 e 1.\n",
    "\n",
    "```python\n",
    "def fibonacci(n):\n",
    "    if n <= 0:\n",
    "        return 0\n",
    "    elif n == 1:\n",
    "        return 1\n",
    "    else:\n",
    "        return fibonacci(n - 1) + fibonacci(n - 2)\n",
    "\n",
    "termo = 6\n",
    "resultado = fibonacci(termo)\n",
    "print(f'O {termo}º termo da sequência de Fibonacci é {resultado}')\n",
    "```\n",
    "\n",
    "Neste exemplo, a função `fibonacci` é recursiva, pois chama a si mesma para calcular os termos anteriores na sequência.\n",
    "\n",
    "**Exemplo 3: Torres de Hanói**\n",
    "O problema das Torres de Hanói envolve mover uma pilha de discos de um pino para outro, obedecendo a certas regras: um disco maior nunca pode estar sobre um disco menor.\n",
    "\n",
    "```python\n",
    "def torres_de_hanoi(n, origem, destino, auxiliar):\n",
    "    if n == 1:\n",
    "        print(f'Mova o disco 1 de {origem} para {destino}')\n",
    "    else:\n",
    "        torres_de_hanoi(n - 1, origem, auxiliar, destino)\n",
    "        print(f'Mova o disco {n} de {origem} para {destino}')\n",
    "        torres_de_hanoi(n - 1, auxiliar, destino, origem)\n",
    "\n",
    "num_discos = 3\n",
    "torres_de_hanoi(num_discos, 'A', 'C', 'B')\n",
    "```\n",
    "\n",
    "Neste exemplo, a função `torres_de_hanoi` é recursiva, pois chama a si mesma para resolver subproblemas menores, movendo discos entre pinos.\n",
    "\n",
    "O conceito de recursividade envolve dividir um problema em subproblemas menores e resolver cada subproblema usando a mesma função. Cada chamada recursiva reduz gradualmente o tamanho do problema até que uma condição de parada seja atingida. Recursividade é uma abordagem poderosa para resolver problemas complexos, mas requer cuidado para evitar loops infinitos e otimizar o desempenho."
   ]
  },
  {
   "cell_type": "markdown",
   "metadata": {},
   "source": [
    "A recursividade é comumente usada na área de análise de dados, especialmente em situações que envolvem estruturas hierárquicas, como árvores e grafos. Aqui estão alguns exemplos de problemas corriqueiros na análise de dados onde a recursividade é aplicada:\n",
    "\n",
    "**1. Árvore de Hierarquia:**\n",
    "Imagine que você está lidando com dados de uma organização com uma estrutura hierárquica, como uma árvore de departamentos e funcionários. Você pode usar recursividade para percorrer a árvore e realizar operações em cada nó.\n",
    "\n",
    "Exemplo: Calcular a soma de salários de todos os funcionários de uma determinada área e seus subdepartamentos.\n",
    "\n",
    "```python\n",
    "class Funcionario:\n",
    "    def __init__(self, nome, salario, subordinados=[]):\n",
    "        self.nome = nome\n",
    "        self.salario = salario\n",
    "        self.subordinados = subordinados\n",
    "\n",
    "    def calcular_salarios(self):\n",
    "        total_salarios = self.salario\n",
    "        for subordinado in self.subordinados:\n",
    "            total_salarios += subordinado.calcular_salarios()\n",
    "        return total_salarios\n",
    "\n",
    "# Criando a estrutura hierárquica\n",
    "funcionario1 = Funcionario(\"Alice\", 5000)\n",
    "funcionario2 = Funcionario(\"Bob\", 4000)\n",
    "funcionario3 = Funcionario(\"Charlie\", 3000)\n",
    "gerente = Funcionario(\"David\", 7000, [funcionario1, funcionario2, funcionario3])\n",
    "\n",
    "# Calculando a soma de salários\n",
    "total_salarios = gerente.calcular_salarios()\n",
    "print(f\"Total de salários: {total_salarios}\")\n",
    "```\n",
    "\n",
    "**2. Busca em Profundidade (Depth-First Search - DFS):**\n",
    "Em análise de grafos, a busca em profundidade é uma abordagem comum para percorrer nós de um grafo. Você pode usar recursividade para visitar nós vizinhos e explorar o grafo.\n",
    "\n",
    "Exemplo: Encontrar todos os caminhos possíveis entre dois nós em um grafo direcionado.\n",
    "\n",
    "```python\n",
    "def encontrar_caminhos(grafo, inicio, fim, caminho=[]):\n",
    "    caminho = caminho + [inicio]\n",
    "    if inicio == fim:\n",
    "        return [caminho]\n",
    "    if inicio not in grafo:\n",
    "        return []\n",
    "    caminhos = []\n",
    "    for no in grafo[inicio]:\n",
    "        if no not in caminho:\n",
    "            novos_caminhos = encontrar_caminhos(grafo, no, fim, caminho)\n",
    "            for novo_caminho in novos_caminhos:\n",
    "                caminhos.append(novo_caminho)\n",
    "    return caminhos\n",
    "\n",
    "grafo = {\n",
    "    'A': ['B', 'C'],\n",
    "    'B': ['D', 'E'],\n",
    "    'C': ['E'],\n",
    "    'D': ['F'],\n",
    "    'E': ['F'],\n",
    "    'F': []\n",
    "}\n",
    "\n",
    "caminhos = encontrar_caminhos(grafo, 'A', 'F')\n",
    "print(\"Caminhos possíveis:\", caminhos)\n",
    "```\n",
    "\n",
    "**3. Análise de Estruturas Aninhadas:**\n",
    "Recursividade também é usada para analisar estruturas de dados aninhadas, como listas de listas ou dicionários aninhados.\n",
    "\n",
    "Exemplo: Calcular a soma de todos os elementos em uma lista aninhada.\n",
    "\n",
    "```python\n",
    "def calcular_soma(lista):\n",
    "    soma = 0\n",
    "    for elemento in lista:\n",
    "        if isinstance(elemento, list):\n",
    "            soma += calcular_soma(elemento)  # Chamada recursiva para lista aninhada\n",
    "        else:\n",
    "            soma += elemento\n",
    "    return soma\n",
    "\n",
    "lista_aninhada = [1, [2, 3, [4, 5]], 6, [7, 8]]\n",
    "total = calcular_soma(lista_aninhada)\n",
    "print(\"Soma total:\", total)\n",
    "```\n",
    "\n",
    "Esses exemplos ilustram como a recursividade pode ser aplicada em situações comuns na análise de dados, especialmente quando lidamos com estruturas hierárquicas ou aninhadas. A recursividade permite a decomposição de problemas complexos em partes menores e simplifica a manipulação de dados em estruturas hierárquicas."
   ]
  },
  {
   "cell_type": "markdown",
   "metadata": {},
   "source": [
    "\n",
    "\n",
    "Explicação do script:\n",
    "\n",
    "1. A função `criar_arquivo` recebe o nome do arquivo como parâmetro. Ela define o conteúdo do arquivo, que é uma string de várias linhas de texto. Em seguida, utiliza um bloco `with` para abrir o arquivo no modo de escrita (`'w'`). Isso cria ou sobrescreve o arquivo com o nome fornecido. A função `write` é usada para escrever o conteúdo no arquivo.\n",
    "\n",
    "2. A função `main` é o ponto de entrada do programa. Ela define o nome do arquivo que será criado e chama a função `criar_arquivo` com esse nome.\n",
    "\n",
    "3. O bloco `if __name__ == \"__main__\":` verifica se o script está sendo executado diretamente (não importado como módulo) e chama a função `main()`.\n",
    "\n",
    "Ao executar esse script, ele criará um novo arquivo chamado \"novo_arquivo.txt\" (ou o nome que você especificar) no mesmo diretório em que o script está localizado. O conteúdo definido na função `criar_arquivo` será escrito no arquivo. Certifique-se de verificar o diretório após a execução para ver o novo arquivo criado."
   ]
  },
  {
   "cell_type": "code",
   "execution_count": 1,
   "metadata": {},
   "outputs": [
    {
     "name": "stdout",
     "output_type": "stream",
     "text": [
      "Arquivo 'novo_arquivo.txt' criado com sucesso!\n"
     ]
    }
   ],
   "source": [
    "def criar_arquivo(nome_arquivo):\n",
    "    conteudo = \"\"\"Este é um arquivo de exemplo.\n",
    "Aqui estão algumas linhas de texto.\n",
    "Vamos escrever mais algumas coisas.\"\"\"\n",
    "\n",
    "    with open(nome_arquivo, 'w') as f:\n",
    "        f.write(conteudo)\n",
    "\n",
    "    print(f\"Arquivo '{nome_arquivo}' criado com sucesso!\")\n",
    "\n",
    "\n",
    "def main():\n",
    "    nome_arquivo = \"novo_arquivo.txt\"\n",
    "    criar_arquivo(nome_arquivo)\n",
    "\n",
    "\n",
    "if __name__ == \"__main__\":\n",
    "    main()\n"
   ]
  },
  {
   "cell_type": "markdown",
   "metadata": {},
   "source": [
    "\n",
    "\n",
    "1. Ler o conteúdo de um arquivo de texto.\n",
    "2. Contar o número de linhas, palavras e caracteres no arquivo.\n",
    "3. Escrever algumas informações no arquivo.\n",
    "\n",
    "\n",
    "Explicação do script:\n",
    "\n",
    "1. A função `contar_informacoes` recebe o nome do arquivo como parâmetro, abre o arquivo no modo de leitura (`'r'`), lê todas as linhas, calcula o número de linhas, o número total de caracteres e divide o conteúdo em palavras para contar o número de palavras. Retorna esses valores.\n",
    "\n",
    "2. A função `escrever_informacoes` recebe o nome do arquivo e as informações calculadas como parâmetros. Ela abre o arquivo no modo de anexar (`'a'`) e escreve informações adicionais, incluindo o número de linhas, palavras e caracteres.\n",
    "\n",
    "3. A função `main` é o ponto de entrada do programa. Ela define o nome do arquivo, chama a função `contar_informacoes` para exibir informações sobre o arquivo e, em seguida, chama a função `escrever_informacoes` para adicionar informações adicionais ao arquivo.\n",
    "\n",
    "4. O bloco `if __name__ == \"__main__\":` verifica se o script está sendo executado diretamente (não importado como módulo) e chama a função `main()`.\n",
    "\n",
    "Certifique-se de criar um arquivo de texto chamado \"exemplo.txt\" no mesmo diretório do script antes de executá-lo, ou você pode modificar o nome do arquivo de acordo com sua preferência."
   ]
  },
  {
   "cell_type": "code",
   "execution_count": 3,
   "metadata": {},
   "outputs": [
    {
     "name": "stdout",
     "output_type": "stream",
     "text": [
      "Número de linhas: 3\n",
      "Número de palavras: 17\n",
      "Número de caracteres: 101\n",
      "Informações adicionais escritas no arquivo.\n"
     ]
    }
   ],
   "source": [
    "def contar_informacoes(arquivo):\n",
    "    with open(arquivo, 'r') as f:\n",
    "        linhas = f.readlines()\n",
    "        num_linhas = len(linhas)\n",
    "\n",
    "        conteudo = ''.join(linhas)\n",
    "        num_caracteres = len(conteudo)\n",
    "\n",
    "        palavras = conteudo.split()\n",
    "        num_palavras = len(palavras)\n",
    "\n",
    "        return num_linhas, num_palavras, num_caracteres\n",
    "\n",
    "\n",
    "def escrever_informacoes(arquivo, num_linhas, num_palavras, num_caracteres):\n",
    "    with open(arquivo, 'a') as f:\n",
    "        f.write(\"\\n\\nInformações Adicionais:\\n\")\n",
    "        f.write(f\"Número de linhas: {num_linhas}\\n\")\n",
    "        f.write(f\"Número de palavras: {num_palavras}\\n\")\n",
    "        f.write(f\"Número de caracteres: {num_caracteres}\\n\")\n",
    "\n",
    "\n",
    "def main():\n",
    "    nome_arquivo = \"novo_arquivo.txt\"\n",
    "\n",
    "    # Lê e exibe as informações do arquivo\n",
    "    num_linhas, num_palavras, num_caracteres = contar_informacoes(nome_arquivo)\n",
    "    print(f\"Número de linhas: {num_linhas}\")\n",
    "    print(f\"Número de palavras: {num_palavras}\")\n",
    "    print(f\"Número de caracteres: {num_caracteres}\")\n",
    "\n",
    "    # Escreve informações adicionais no arquivo\n",
    "    escrever_informacoes(nome_arquivo, num_linhas,\n",
    "                         num_palavras, num_caracteres)\n",
    "    print(\"Informações adicionais escritas no arquivo.\")\n",
    "\n",
    "\n",
    "if __name__ == \"__main__\":\n",
    "    main()\n"
   ]
  }
 ],
 "metadata": {
  "kernelspec": {
   "display_name": "Python 3",
   "language": "python",
   "name": "python3"
  },
  "language_info": {
   "codemirror_mode": {
    "name": "ipython",
    "version": 3
   },
   "file_extension": ".py",
   "mimetype": "text/x-python",
   "name": "python",
   "nbconvert_exporter": "python",
   "pygments_lexer": "ipython3",
   "version": "3.10.6"
  },
  "orig_nbformat": 4
 },
 "nbformat": 4,
 "nbformat_minor": 2
}
