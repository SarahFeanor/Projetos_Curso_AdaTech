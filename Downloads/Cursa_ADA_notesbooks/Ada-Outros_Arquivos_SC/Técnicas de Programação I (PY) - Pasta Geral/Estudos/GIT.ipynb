{
 "cells": [
  {
   "cell_type": "markdown",
   "id": "0fb9101e",
   "metadata": {},
   "source": [
    "### Introdução"
   ]
  },
  {
   "cell_type": "markdown",
   "id": "7d3de9ac",
   "metadata": {},
   "source": [
    "### Download"
   ]
  },
  {
   "cell_type": "markdown",
   "id": "aa338802",
   "metadata": {},
   "source": [
    "https://git-scm.com/downloads"
   ]
  },
  {
   "cell_type": "markdown",
   "id": "40e1f55e",
   "metadata": {},
   "source": [
    "##### Git"
   ]
  },
  {
   "cell_type": "markdown",
   "id": "81bce2f6",
   "metadata": {},
   "source": [
    " - `Workspace`: Diretório do projeto\n",
    " - `Staging`: Área de preparação para versionamento\n",
    " - `Repositório local`: Banco de versões de arquivos"
   ]
  },
  {
   "cell_type": "markdown",
   "id": "3cf80173",
   "metadata": {},
   "source": [
    "### Git estrutura"
   ]
  },
  {
   "cell_type": "markdown",
   "id": "3be3874a",
   "metadata": {},
   "source": [
    "<img src=\"https://s3-sa-east-1.amazonaws.com/lcpi/7d65df0d-9fd1-422b-a4a7-6d7b92c7769f.png\" width=\"600\"/>"
   ]
  },
  {
   "cell_type": "markdown",
   "id": "e238b8a7",
   "metadata": {},
   "source": [
    "### Git - Comandos básicos"
   ]
  },
  {
   "cell_type": "markdown",
   "id": "ce2dd5ab",
   "metadata": {},
   "source": [
    "`git add` - Comando para adicionar arquivos na lista de arquivos rastreados para versionamento na **stage**."
   ]
  },
  {
   "cell_type": "markdown",
   "id": "0a5e017e",
   "metadata": {},
   "source": [
    "`git commit` - Comando para adicionar arquivo do diretório local ou da stage para o repositório local"
   ]
  },
  {
   "cell_type": "markdown",
   "id": "b5dc9925",
   "metadata": {},
   "source": [
    "`git diff` - Comando para exibir as diferenças entre as diferentes áreas (workspace, staging e repositório local) "
   ]
  },
  {
   "cell_type": "markdown",
   "id": "0e9963c1",
   "metadata": {},
   "source": [
    "`git log` - Comando para visualizar o histório de alterações no repositório. "
   ]
  },
  {
   "cell_type": "markdown",
   "id": "7bf0634a",
   "metadata": {},
   "source": [
    "`git restore | reset | revert` - Desfazer alterações"
   ]
  },
  {
   "cell_type": "markdown",
   "id": "cf10c367",
   "metadata": {},
   "source": [
    "### Configuração"
   ]
  },
  {
   "cell_type": "raw",
   "id": "78b213b8",
   "metadata": {},
   "source": [
    "git config --global user.name \"Seu Nome\""
   ]
  },
  {
   "cell_type": "raw",
   "id": "46acc959",
   "metadata": {},
   "source": [
    "git config --global user.email seuemail@exemplo.com"
   ]
  },
  {
   "cell_type": "markdown",
   "id": "013f5c8e",
   "metadata": {},
   "source": [
    "`Link para referência`: \n",
    " - https://gitfichas.com/\n",
    " - https://git-school.github.io/visualizing-git/"
   ]
  },
  {
   "cell_type": "markdown",
   "id": "57f99b7c",
   "metadata": {},
   "source": [
    "### Github"
   ]
  },
  {
   "cell_type": "markdown",
   "id": "d70da44c",
   "metadata": {},
   "source": [
    "![](https://cdn-icons-png.flaticon.com/512/25/25231.png)"
   ]
  },
  {
   "cell_type": "markdown",
   "id": "daa28d25",
   "metadata": {},
   "source": [
    "#### Percorrendo o repositório"
   ]
  },
  {
   "cell_type": "markdown",
   "id": "652b8d8e",
   "metadata": {},
   "source": [
    "![](https://s3-sa-east-1.amazonaws.com/lcpi/633303a1-a83e-47b9-bd8a-f96347128bb6.png)"
   ]
  },
  {
   "cell_type": "raw",
   "id": "00c7cdc6",
   "metadata": {},
   "source": [
    "Criar e editar o arquivo na pasta do projeto"
   ]
  },
  {
   "cell_type": "raw",
   "id": "02777380",
   "metadata": {},
   "source": [
    "git add \"arquivo\"\n",
    "# envia os arquivos para o index"
   ]
  },
  {
   "cell_type": "raw",
   "id": "0581fa0b",
   "metadata": {},
   "source": [
    "git status\n",
    "# exibe os arquivos no index"
   ]
  },
  {
   "cell_type": "raw",
   "id": "802dcc5e",
   "metadata": {},
   "source": [
    "git commit -m \"mensagem\"\n",
    "# envia os arquivos para o repositório local "
   ]
  },
  {
   "cell_type": "raw",
   "id": "d8091d6b",
   "metadata": {},
   "source": [
    "git show\n",
    "# exibe os arquivos commitados"
   ]
  },
  {
   "cell_type": "code",
   "execution_count": null,
   "id": "28b3efc2",
   "metadata": {},
   "outputs": [],
   "source": []
  },
  {
   "cell_type": "markdown",
   "id": "360ea1b2",
   "metadata": {},
   "source": [
    "#### 3. Verificando diferenças entre as versões de cada estrutura"
   ]
  },
  {
   "cell_type": "raw",
   "id": "852e7958",
   "metadata": {},
   "source": [
    "As alterações feitas em arquivos rastrados (git add .) são automaticamente identificadas, mas não adicionadas, ao index."
   ]
  },
  {
   "cell_type": "raw",
   "id": "21c396f6",
   "metadata": {},
   "source": [
    "# git restore \"file\"\n",
    "Descarta as últimas alterações no ambiente de trabalho."
   ]
  },
  {
   "cell_type": "raw",
   "id": "184c8f40",
   "metadata": {},
   "source": [
    "# git restore --staged \"file\"\n",
    "Descarta as últimas alterações no index."
   ]
  },
  {
   "cell_type": "markdown",
   "id": "448713d7",
   "metadata": {},
   "source": [
    "#### 4. Git ignore  "
   ]
  },
  {
   "cell_type": "code",
   "execution_count": null,
   "id": "766609b5",
   "metadata": {},
   "outputs": [],
   "source": []
  },
  {
   "cell_type": "markdown",
   "id": "2e52ce5b",
   "metadata": {},
   "source": [
    "#### 5. Branches "
   ]
  },
  {
   "cell_type": "code",
   "execution_count": null,
   "id": "8fec13e4",
   "metadata": {},
   "outputs": [],
   "source": []
  },
  {
   "cell_type": "markdown",
   "id": "2fd6f009",
   "metadata": {},
   "source": [
    "### 6. Forks"
   ]
  },
  {
   "cell_type": "code",
   "execution_count": null,
   "id": "84b3f2ce",
   "metadata": {},
   "outputs": [],
   "source": []
  },
  {
   "cell_type": "code",
   "execution_count": null,
   "id": "c069d8f1",
   "metadata": {},
   "outputs": [],
   "source": []
  },
  {
   "cell_type": "code",
   "execution_count": null,
   "id": "84970dab",
   "metadata": {},
   "outputs": [],
   "source": []
  }
 ],
 "metadata": {
  "kernelspec": {
   "display_name": "Python 3 (ipykernel)",
   "language": "python",
   "name": "python3"
  },
  "language_info": {
   "codemirror_mode": {
    "name": "ipython",
    "version": 3
   },
   "file_extension": ".py",
   "mimetype": "text/x-python",
   "name": "python",
   "nbconvert_exporter": "python",
   "pygments_lexer": "ipython3",
   "version": "3.10.11"
  }
 },
 "nbformat": 4,
 "nbformat_minor": 5
}
