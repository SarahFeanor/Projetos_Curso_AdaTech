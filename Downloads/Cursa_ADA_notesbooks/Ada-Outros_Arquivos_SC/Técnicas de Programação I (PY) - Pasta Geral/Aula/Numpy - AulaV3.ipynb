{
 "cells": [
  {
   "cell_type": "markdown",
   "id": "ba986f20",
   "metadata": {},
   "source": [
    "+-# NUMPY\n",
    ">**Numpy** é um dos principais pacotes python para análise de dados, machine learning e computação científica. \n",
    "Alguns dos principais pacotes do python utilizam o numpy internamente em suas funções, como por exemplo **pandas, tensorflow e scikit-learn**."
   ]
  },
  {
   "cell_type": "markdown",
   "id": "d19d1fe9",
   "metadata": {},
   "source": [
    "### Por que aprender numpy?"
   ]
  },
  {
   "cell_type": "markdown",
   "id": "4410cc19",
   "metadata": {},
   "source": [
    "#### você disse matrizes ..."
   ]
  },
  {
   "cell_type": "markdown",
   "id": "65bfb5c1",
   "metadata": {},
   "source": [
    "![](https://s3-sa-east-1.amazonaws.com/lcpi/36c5e1cb-f857-407f-96bc-d8da92bdf0d6.gif)"
   ]
  },
  {
   "cell_type": "markdown",
   "id": "181204cf",
   "metadata": {},
   "source": [
    "### Documentos"
   ]
  },
  {
   "cell_type": "markdown",
   "id": "fbc49604",
   "metadata": {},
   "source": [
    "![](https://s3-sa-east-1.amazonaws.com/lcpi/11a302a9-b57b-4f4c-92ee-616db24eb3f2.png)"
   ]
  },
  {
   "cell_type": "markdown",
   "id": "ab7f81fb",
   "metadata": {},
   "source": [
    "### Imagens"
   ]
  },
  {
   "cell_type": "markdown",
   "id": "e2630c8d",
   "metadata": {},
   "source": [
    "![](https://s3-sa-east-1.amazonaws.com/lcpi/2fa12959-e38e-4bc8-8b01-bbdd34537a41.png)"
   ]
  },
  {
   "cell_type": "markdown",
   "id": "63b6ecb2",
   "metadata": {},
   "source": [
    "### Áudio"
   ]
  },
  {
   "cell_type": "markdown",
   "id": "2e5211ce",
   "metadata": {},
   "source": [
    "![](https://s3-sa-east-1.amazonaws.com/lcpi/ee02bd63-a1f1-43e1-a079-a6083433eb2a.png)"
   ]
  },
  {
   "cell_type": "code",
   "execution_count": null,
   "id": "5aad1834",
   "metadata": {},
   "outputs": [],
   "source": [
    "#!pip install numpy"
   ]
  },
  {
   "cell_type": "markdown",
   "id": "23c113c9",
   "metadata": {},
   "source": [
    "## Importação da biblioteca"
   ]
  },
  {
   "cell_type": "code",
   "execution_count": 2,
   "id": "f82cbceb",
   "metadata": {},
   "outputs": [],
   "source": [
    "import numpy as np"
   ]
  },
  {
   "cell_type": "markdown",
   "id": "e120e11f",
   "metadata": {},
   "source": [
    "## 1. Criando arrays"
   ]
  },
  {
   "cell_type": "markdown",
   "id": "000170df",
   "metadata": {},
   "source": [
    "![title](https://s3-sa-east-1.amazonaws.com/lcpi/3b66ea77-f245-4c61-9b0d-5fb31da14356.png)"
   ]
  },
  {
   "cell_type": "code",
   "execution_count": 5,
   "id": "ef16d8be",
   "metadata": {},
   "outputs": [
    {
     "data": {
      "text/plain": [
       "list"
      ]
     },
     "execution_count": 5,
     "metadata": {},
     "output_type": "execute_result"
    }
   ],
   "source": [
    "lista = [1, 2, 3]\n",
    "type(lista)"
   ]
  },
  {
   "cell_type": "code",
   "execution_count": 6,
   "id": "12e957da",
   "metadata": {},
   "outputs": [
    {
     "data": {
      "text/plain": [
       "array([1, 2, 3])"
      ]
     },
     "execution_count": 6,
     "metadata": {},
     "output_type": "execute_result"
    }
   ],
   "source": [
    "array = np.array(lista)\n",
    "array"
   ]
  },
  {
   "cell_type": "code",
   "execution_count": 7,
   "id": "5d50d6d6",
   "metadata": {},
   "outputs": [
    {
     "data": {
      "text/plain": [
       "numpy.ndarray"
      ]
     },
     "execution_count": 7,
     "metadata": {},
     "output_type": "execute_result"
    }
   ],
   "source": [
    "type(array)"
   ]
  },
  {
   "cell_type": "markdown",
   "id": "d6cb2aed",
   "metadata": {},
   "source": [
    "### Arrays de 1's, 0's e valores pseudo-aleatórios"
   ]
  },
  {
   "cell_type": "markdown",
   "id": "150cf8f3",
   "metadata": {},
   "source": [
    "![title](https://s3-sa-east-1.amazonaws.com/lcpi/d0d3c09b-1aba-4955-872f-e673e2df1aec.png)"
   ]
  },
  {
   "cell_type": "code",
   "execution_count": 8,
   "id": "0ff854bb",
   "metadata": {},
   "outputs": [
    {
     "data": {
      "text/plain": [
       "array([1., 1., 1.])"
      ]
     },
     "execution_count": 8,
     "metadata": {},
     "output_type": "execute_result"
    }
   ],
   "source": [
    "ones = np.ones(3)\n",
    "ones"
   ]
  },
  {
   "cell_type": "code",
   "execution_count": 9,
   "id": "00521706",
   "metadata": {},
   "outputs": [
    {
     "data": {
      "text/plain": [
       "array([0., 0., 0.])"
      ]
     },
     "execution_count": 9,
     "metadata": {},
     "output_type": "execute_result"
    }
   ],
   "source": [
    "zeros = np.zeros(3)\n",
    "zeros"
   ]
  },
  {
   "cell_type": "code",
   "execution_count": 12,
   "id": "0796a6db",
   "metadata": {},
   "outputs": [
    {
     "data": {
      "text/plain": [
       "array([0.97034975, 0.2706741 , 0.70776596])"
      ]
     },
     "execution_count": 12,
     "metadata": {},
     "output_type": "execute_result"
    }
   ],
   "source": [
    "ps_aleatorio = np.random.random(3)\n",
    "ps_aleatorio"
   ]
  },
  {
   "cell_type": "code",
   "execution_count": 11,
   "id": "9726d293",
   "metadata": {},
   "outputs": [
    {
     "data": {
      "text/plain": [
       "array([4, 6, 3])"
      ]
     },
     "execution_count": 11,
     "metadata": {},
     "output_type": "execute_result"
    }
   ],
   "source": [
    "ps_aleatorio_inteiro = np.random.randint(0, 10, 3)\n",
    "ps_aleatorio_inteiro"
   ]
  },
  {
   "cell_type": "code",
   "execution_count": null,
   "id": "5aa0d7a7",
   "metadata": {},
   "outputs": [],
   "source": []
  },
  {
   "cell_type": "markdown",
   "id": "4a0eda6a",
   "metadata": {},
   "source": [
    "### Indexação"
   ]
  },
  {
   "cell_type": "markdown",
   "id": "25413ca2",
   "metadata": {},
   "source": [
    "![](https://s3-sa-east-1.amazonaws.com/lcpi/dc6cd620-13cf-42e7-9ffa-eff17670520d.png)"
   ]
  },
  {
   "cell_type": "code",
   "execution_count": 13,
   "id": "0205806b",
   "metadata": {},
   "outputs": [
    {
     "data": {
      "text/plain": [
       "array([1, 2])"
      ]
     },
     "execution_count": 13,
     "metadata": {},
     "output_type": "execute_result"
    }
   ],
   "source": [
    "lista = [1,2,3,4]\n",
    "array = np.array(lista)\n",
    "array[0:2]"
   ]
  },
  {
   "cell_type": "code",
   "execution_count": 14,
   "id": "9862b476",
   "metadata": {},
   "outputs": [
    {
     "data": {
      "text/plain": [
       "array([2, 3, 4])"
      ]
     },
     "execution_count": 14,
     "metadata": {},
     "output_type": "execute_result"
    }
   ],
   "source": [
    "array[1:]"
   ]
  },
  {
   "cell_type": "code",
   "execution_count": 15,
   "id": "a97d1b7e",
   "metadata": {},
   "outputs": [
    {
     "data": {
      "text/plain": [
       "array([1])"
      ]
     },
     "execution_count": 15,
     "metadata": {},
     "output_type": "execute_result"
    }
   ],
   "source": [
    "array[:1]"
   ]
  },
  {
   "cell_type": "code",
   "execution_count": 16,
   "id": "8a02e4c7",
   "metadata": {},
   "outputs": [
    {
     "data": {
      "text/plain": [
       "array([10, 20, 30, 40])"
      ]
     },
     "execution_count": 16,
     "metadata": {},
     "output_type": "execute_result"
    }
   ],
   "source": [
    "array*10"
   ]
  },
  {
   "cell_type": "code",
   "execution_count": 18,
   "id": "b28caabc",
   "metadata": {},
   "outputs": [
    {
     "data": {
      "text/plain": [
       "array([9.70349755, 2.70674097, 7.07765965])"
      ]
     },
     "execution_count": 18,
     "metadata": {},
     "output_type": "execute_result"
    }
   ],
   "source": [
    "ps_aleatorio*10"
   ]
  },
  {
   "cell_type": "code",
   "execution_count": null,
   "id": "d6528ff9",
   "metadata": {},
   "outputs": [],
   "source": []
  },
  {
   "cell_type": "markdown",
   "id": "26e17ad9",
   "metadata": {},
   "source": [
    "### Aritmética de arrays "
   ]
  },
  {
   "cell_type": "markdown",
   "id": "faf2ab42",
   "metadata": {},
   "source": [
    "### Declaração"
   ]
  },
  {
   "cell_type": "markdown",
   "id": "44480aca",
   "metadata": {},
   "source": [
    "![](https://s3-sa-east-1.amazonaws.com/lcpi/8901de51-bef7-4798-8849-69d251d3d9c4.png)"
   ]
  },
  {
   "cell_type": "code",
   "execution_count": null,
   "id": "1f57af86",
   "metadata": {},
   "outputs": [],
   "source": []
  },
  {
   "cell_type": "markdown",
   "id": "97e67dfd",
   "metadata": {},
   "source": [
    "### Operações (adição)"
   ]
  },
  {
   "cell_type": "markdown",
   "id": "5324270d",
   "metadata": {},
   "source": [
    "![](https://s3-sa-east-1.amazonaws.com/lcpi/d4165678-cd98-4193-b686-fe298e3db9b4.png)"
   ]
  },
  {
   "cell_type": "code",
   "execution_count": 20,
   "id": "5d56e53f",
   "metadata": {},
   "outputs": [
    {
     "data": {
      "text/plain": [
       "array([2., 3.])"
      ]
     },
     "execution_count": 20,
     "metadata": {},
     "output_type": "execute_result"
    }
   ],
   "source": [
    "data = np.array([1, 2])\n",
    "ones = np.ones(2)\n",
    "\n",
    "data+ones"
   ]
  },
  {
   "cell_type": "markdown",
   "id": "ce1920a0",
   "metadata": {},
   "source": [
    "### Operações (subtração, multiplicação e divisão)"
   ]
  },
  {
   "cell_type": "markdown",
   "id": "54997c02",
   "metadata": {},
   "source": [
    "![](https://s3-sa-east-1.amazonaws.com/lcpi/8d30ab94-51cf-4233-9f68-480b0d3b51c7.png)"
   ]
  },
  {
   "cell_type": "code",
   "execution_count": 21,
   "id": "6b71b501",
   "metadata": {},
   "outputs": [
    {
     "data": {
      "text/plain": [
       "array([0., 1.])"
      ]
     },
     "execution_count": 21,
     "metadata": {},
     "output_type": "execute_result"
    }
   ],
   "source": [
    "data = np.array([1, 2])\n",
    "ones = np.ones(2)\n",
    "\n",
    "data - ones"
   ]
  },
  {
   "cell_type": "code",
   "execution_count": null,
   "id": "099dad19",
   "metadata": {},
   "outputs": [],
   "source": []
  },
  {
   "cell_type": "markdown",
   "id": "9aad9914",
   "metadata": {},
   "source": [
    "### Multiplicação por escalar"
   ]
  },
  {
   "cell_type": "markdown",
   "id": "e1412079",
   "metadata": {},
   "source": [
    "![](https://s3-sa-east-1.amazonaws.com/lcpi/d59b53a3-0a77-4cd5-bc48-e91c987826c8.png)"
   ]
  },
  {
   "cell_type": "code",
   "execution_count": 30,
   "id": "2d9666b3",
   "metadata": {},
   "outputs": [
    {
     "name": "stdout",
     "output_type": "stream",
     "text": [
      "[1. 1.]\n"
     ]
    },
    {
     "data": {
      "text/plain": [
       "array([100, 200])"
      ]
     },
     "execution_count": 30,
     "metadata": {},
     "output_type": "execute_result"
    }
   ],
   "source": [
    "data = np.array([1, 2])\n",
    "ones = np.ones(2)\n",
    "print(ones)\n",
    "data*100"
   ]
  },
  {
   "cell_type": "markdown",
   "id": "9400f3ec",
   "metadata": {},
   "source": [
    "### Agregação"
   ]
  },
  {
   "cell_type": "markdown",
   "id": "2d07ddfd",
   "metadata": {},
   "source": [
    "![](https://s3-sa-east-1.amazonaws.com/lcpi/f9f67506-e505-49cc-b196-3ca3aeb56ffd.png)"
   ]
  },
  {
   "cell_type": "code",
   "execution_count": 23,
   "id": "4aa13819",
   "metadata": {},
   "outputs": [],
   "source": [
    "data = np.array([1, 2, 3, 4, 5, 6, 7, 8, 9])"
   ]
  },
  {
   "cell_type": "code",
   "execution_count": 24,
   "id": "af78c2eb",
   "metadata": {},
   "outputs": [
    {
     "data": {
      "text/plain": [
       "9"
      ]
     },
     "execution_count": 24,
     "metadata": {},
     "output_type": "execute_result"
    }
   ],
   "source": [
    "data.max()"
   ]
  },
  {
   "cell_type": "code",
   "execution_count": 25,
   "id": "30275224",
   "metadata": {},
   "outputs": [
    {
     "data": {
      "text/plain": [
       "1"
      ]
     },
     "execution_count": 25,
     "metadata": {},
     "output_type": "execute_result"
    }
   ],
   "source": [
    "data.min()"
   ]
  },
  {
   "cell_type": "code",
   "execution_count": 26,
   "id": "2926dd58",
   "metadata": {},
   "outputs": [
    {
     "data": {
      "text/plain": [
       "45"
      ]
     },
     "execution_count": 26,
     "metadata": {},
     "output_type": "execute_result"
    }
   ],
   "source": [
    "data.sum()"
   ]
  },
  {
   "cell_type": "markdown",
   "id": "347e4dcc",
   "metadata": {},
   "source": [
    "### outras agregações (cumsum, mean)"
   ]
  },
  {
   "cell_type": "code",
   "execution_count": 27,
   "id": "a29cb856",
   "metadata": {},
   "outputs": [
    {
     "data": {
      "text/plain": [
       "array([ 1,  3,  6, 10, 15, 21, 28, 36, 45])"
      ]
     },
     "execution_count": 27,
     "metadata": {},
     "output_type": "execute_result"
    }
   ],
   "source": [
    "data.cumsum()"
   ]
  },
  {
   "cell_type": "code",
   "execution_count": 28,
   "id": "00bfc72c",
   "metadata": {},
   "outputs": [
    {
     "data": {
      "text/plain": [
       "5.0"
      ]
     },
     "execution_count": 28,
     "metadata": {},
     "output_type": "execute_result"
    }
   ],
   "source": [
    "data.mean()"
   ]
  },
  {
   "cell_type": "code",
   "execution_count": 31,
   "id": "8f6c356e",
   "metadata": {},
   "outputs": [
    {
     "data": {
      "text/plain": [
       "1"
      ]
     },
     "execution_count": 31,
     "metadata": {},
     "output_type": "execute_result"
    }
   ],
   "source": [
    "data.ndim"
   ]
  },
  {
   "cell_type": "code",
   "execution_count": 32,
   "id": "9bd586bb",
   "metadata": {},
   "outputs": [
    {
     "data": {
      "text/plain": [
       "(2,)"
      ]
     },
     "execution_count": 32,
     "metadata": {},
     "output_type": "execute_result"
    }
   ],
   "source": [
    "data.shape"
   ]
  },
  {
   "cell_type": "code",
   "execution_count": 33,
   "id": "f0aced97",
   "metadata": {},
   "outputs": [
    {
     "data": {
      "text/plain": [
       "array([[1, 2, 3]])"
      ]
     },
     "execution_count": 33,
     "metadata": {},
     "output_type": "execute_result"
    }
   ],
   "source": [
    "data = np.array([[1, 2, 3]])\n",
    "data"
   ]
  },
  {
   "cell_type": "code",
   "execution_count": 34,
   "id": "1896315f",
   "metadata": {},
   "outputs": [
    {
     "data": {
      "text/plain": [
       "(1, 3)"
      ]
     },
     "execution_count": 34,
     "metadata": {},
     "output_type": "execute_result"
    }
   ],
   "source": [
    "data.shape"
   ]
  },
  {
   "cell_type": "code",
   "execution_count": 35,
   "id": "665ac95f",
   "metadata": {},
   "outputs": [
    {
     "data": {
      "text/plain": [
       "2"
      ]
     },
     "execution_count": 35,
     "metadata": {},
     "output_type": "execute_result"
    }
   ],
   "source": [
    "data.ndim"
   ]
  },
  {
   "cell_type": "code",
   "execution_count": null,
   "id": "6625dbce",
   "metadata": {},
   "outputs": [],
   "source": []
  },
  {
   "cell_type": "markdown",
   "id": "bd8ebd7d",
   "metadata": {},
   "source": [
    "### Axis"
   ]
  },
  {
   "cell_type": "code",
   "execution_count": 38,
   "id": "f16d4a67",
   "metadata": {},
   "outputs": [],
   "source": [
    "# from matplotlib import pyplot as plt = import matplotlib.pyplot as plt\n",
    "\n",
    "from matplotlib import pyplot as plt\n",
    "from matplotlib import image as img"
   ]
  },
  {
   "cell_type": "code",
   "execution_count": 37,
   "id": "2e8f4917",
   "metadata": {},
   "outputs": [],
   "source": [
    "import matplotlib.pyplot as plt\n"
   ]
  },
  {
   "cell_type": "code",
   "execution_count": 49,
   "id": "e0a94e34",
   "metadata": {},
   "outputs": [
    {
     "data": {
      "text/plain": [
       "array([[[0.2784314 , 0.4392157 , 0.29803923, 0.        ],\n",
       "        [0.2784314 , 0.4392157 , 0.29803923, 0.        ],\n",
       "        [0.2784314 , 0.4392157 , 0.29803923, 0.        ],\n",
       "        ...,\n",
       "        [0.2784314 , 0.4392157 , 0.29803923, 0.        ],\n",
       "        [0.2784314 , 0.4392157 , 0.29803923, 0.        ],\n",
       "        [0.2784314 , 0.4392157 , 0.29803923, 0.        ]],\n",
       "\n",
       "       [[0.2784314 , 0.4392157 , 0.29803923, 0.        ],\n",
       "        [0.2784314 , 0.4392157 , 0.29803923, 0.        ],\n",
       "        [0.2784314 , 0.4392157 , 0.29803923, 0.        ],\n",
       "        ...,\n",
       "        [0.2784314 , 0.4392157 , 0.29803923, 0.        ],\n",
       "        [0.2784314 , 0.4392157 , 0.29803923, 0.        ],\n",
       "        [0.2784314 , 0.4392157 , 0.29803923, 0.        ]],\n",
       "\n",
       "       [[0.2784314 , 0.4392157 , 0.29803923, 0.        ],\n",
       "        [0.2784314 , 0.4392157 , 0.29803923, 0.        ],\n",
       "        [0.2784314 , 0.4392157 , 0.29803923, 0.        ],\n",
       "        ...,\n",
       "        [0.2784314 , 0.4392157 , 0.29803923, 0.        ],\n",
       "        [0.2784314 , 0.4392157 , 0.29803923, 0.        ],\n",
       "        [0.2784314 , 0.4392157 , 0.29803923, 0.        ]],\n",
       "\n",
       "       ...,\n",
       "\n",
       "       [[0.2784314 , 0.4392157 , 0.29803923, 0.        ],\n",
       "        [0.2784314 , 0.4392157 , 0.29803923, 0.        ],\n",
       "        [0.2784314 , 0.4392157 , 0.29803923, 0.        ],\n",
       "        ...,\n",
       "        [0.2784314 , 0.4392157 , 0.29803923, 0.        ],\n",
       "        [0.2784314 , 0.4392157 , 0.29803923, 0.        ],\n",
       "        [0.2784314 , 0.4392157 , 0.29803923, 0.        ]],\n",
       "\n",
       "       [[0.2784314 , 0.4392157 , 0.29803923, 0.        ],\n",
       "        [0.2784314 , 0.4392157 , 0.29803923, 0.        ],\n",
       "        [0.2784314 , 0.4392157 , 0.29803923, 0.        ],\n",
       "        ...,\n",
       "        [0.2784314 , 0.4392157 , 0.29803923, 0.        ],\n",
       "        [0.2784314 , 0.4392157 , 0.29803923, 0.        ],\n",
       "        [0.2784314 , 0.4392157 , 0.29803923, 0.        ]],\n",
       "\n",
       "       [[0.2784314 , 0.4392157 , 0.29803923, 0.        ],\n",
       "        [0.2784314 , 0.4392157 , 0.29803923, 0.        ],\n",
       "        [0.2784314 , 0.4392157 , 0.29803923, 0.        ],\n",
       "        ...,\n",
       "        [0.2784314 , 0.4392157 , 0.29803923, 0.        ],\n",
       "        [0.2784314 , 0.4392157 , 0.29803923, 0.        ],\n",
       "        [0.2784314 , 0.4392157 , 0.29803923, 0.        ]]], dtype=float32)"
      ]
     },
     "execution_count": 49,
     "metadata": {},
     "output_type": "execute_result"
    }
   ],
   "source": [
    "imagem = img.imread('python.png')\n",
    "imagem"
   ]
  },
  {
   "cell_type": "code",
   "execution_count": 51,
   "id": "a819e51e",
   "metadata": {},
   "outputs": [
    {
     "data": {
      "text/plain": [
       "1.0"
      ]
     },
     "execution_count": 51,
     "metadata": {},
     "output_type": "execute_result"
    }
   ],
   "source": [
    "imagem.max()"
   ]
  },
  {
   "cell_type": "code",
   "execution_count": 52,
   "id": "103010c2",
   "metadata": {},
   "outputs": [
    {
     "data": {
      "text/plain": [
       "0.0"
      ]
     },
     "execution_count": 52,
     "metadata": {},
     "output_type": "execute_result"
    }
   ],
   "source": [
    "imagem.min()"
   ]
  },
  {
   "cell_type": "code",
   "execution_count": 53,
   "id": "fe47bf3d",
   "metadata": {},
   "outputs": [
    {
     "data": {
      "text/plain": [
       "1052672"
      ]
     },
     "execution_count": 53,
     "metadata": {},
     "output_type": "execute_result"
    }
   ],
   "source": [
    "imagem.size"
   ]
  },
  {
   "cell_type": "code",
   "execution_count": 48,
   "id": "23682b08",
   "metadata": {},
   "outputs": [
    {
     "data": {
      "text/plain": [
       "(360, 360, 4)"
      ]
     },
     "execution_count": 48,
     "metadata": {},
     "output_type": "execute_result"
    }
   ],
   "source": [
    "imagem.shape"
   ]
  },
  {
   "cell_type": "code",
   "execution_count": 54,
   "id": "44d32f43",
   "metadata": {},
   "outputs": [
    {
     "data": {
      "text/plain": [
       "3"
      ]
     },
     "execution_count": 54,
     "metadata": {},
     "output_type": "execute_result"
    }
   ],
   "source": [
    "imagem.ndim"
   ]
  },
  {
   "cell_type": "code",
   "execution_count": 63,
   "id": "fd98c7be",
   "metadata": {},
   "outputs": [
    {
     "data": {
      "text/plain": [
       "<matplotlib.image.AxesImage at 0x28a03020d60>"
      ]
     },
     "execution_count": 63,
     "metadata": {},
     "output_type": "execute_result"
    },
    {
     "data": {
      "image/png": "[encoded data removed]",
      "text/plain": [
       "<Figure size 640x480 with 1 Axes>"
      ]
     },
     "metadata": {},
     "output_type": "display_data"
    }
   ],
   "source": [
    "plt.imshow(imagem, cmap='gray')"
   ]
  },
  {
   "cell_type": "code",
   "execution_count": null,
   "id": "40106c74",
   "metadata": {},
   "outputs": [],
   "source": []
  },
  {
   "cell_type": "code",
   "execution_count": 66,
   "id": "04893a3a",
   "metadata": {},
   "outputs": [
    {
     "data": {
      "text/plain": [
       "<matplotlib.image.AxesImage at 0x28a09ac2e90>"
      ]
     },
     "execution_count": 66,
     "metadata": {},
     "output_type": "execute_result"
    },
    {
     "data": {
      "image/png": "[encoded data removed]",
      "text/plain": [
       "<Figure size 640x480 with 1 Axes>"
      ]
     },
     "metadata": {},
     "output_type": "display_data"
    }
   ],
   "source": [
    "plt.imshow(imagem[:, :, 0], cmap='Reds')"
   ]
  },
  {
   "cell_type": "code",
   "execution_count": 62,
   "id": "52f624cf",
   "metadata": {},
   "outputs": [
    {
     "data": {
      "text/plain": [
       "<matplotlib.image.AxesImage at 0x28a03a3fdf0>"
      ]
     },
     "execution_count": 62,
     "metadata": {},
     "output_type": "execute_result"
    },
    {
     "data": {
      "image/png": "[encoded data removed]",
      "text/plain": [
       "<Figure size 640x480 with 1 Axes>"
      ]
     },
     "metadata": {},
     "output_type": "display_data"
    }
   ],
   "source": [
    "plt.imshow(imagem[:, :, 1], cmap='viridis')"
   ]
  },
  {
   "cell_type": "code",
   "execution_count": 61,
   "id": "03188fde",
   "metadata": {},
   "outputs": [
    {
     "data": {
      "text/plain": [
       "<matplotlib.image.AxesImage at 0x28a03a05d50>"
      ]
     },
     "execution_count": 61,
     "metadata": {},
     "output_type": "execute_result"
    },
    {
     "data": {
      "image/png": "[encoded data removed]",
      "text/plain": [
       "<Figure size 640x480 with 1 Axes>"
      ]
     },
     "metadata": {},
     "output_type": "display_data"
    }
   ],
   "source": [
    "plt.imshow(imagem[:, :, 2], cmap='gray')"
   ]
  },
  {
   "cell_type": "code",
   "execution_count": 60,
   "id": "3066648f",
   "metadata": {},
   "outputs": [
    {
     "data": {
      "text/plain": [
       "<matplotlib.image.AxesImage at 0x28a039a1270>"
      ]
     },
     "execution_count": 60,
     "metadata": {},
     "output_type": "execute_result"
    },
    {
     "data": {
      "image/png": "[encoded data removed]",
      "text/plain": [
       "<Figure size 640x480 with 1 Axes>"
      ]
     },
     "metadata": {},
     "output_type": "display_data"
    }
   ],
   "source": [
    "plt.imshow(imagem[:, :, 3], cmap='gray')"
   ]
  },
  {
   "cell_type": "code",
   "execution_count": 59,
   "id": "f425374d",
   "metadata": {},
   "outputs": [
    {
     "data": {
      "text/plain": [
       "array([[0., 0., 0., ..., 0., 0., 0.],\n",
       "       [0., 0., 0., ..., 0., 0., 0.],\n",
       "       [0., 0., 0., ..., 0., 0., 0.],\n",
       "       ...,\n",
       "       [0., 0., 0., ..., 0., 0., 0.],\n",
       "       [0., 0., 0., ..., 0., 0., 0.],\n",
       "       [0., 0., 0., ..., 0., 0., 0.]], dtype=float32)"
      ]
     },
     "execution_count": 59,
     "metadata": {},
     "output_type": "execute_result"
    }
   ],
   "source": [
    "R = imagem[:, :, 0]"
   ]
  },
  {
   "cell_type": "markdown",
   "id": "581640fc",
   "metadata": {},
   "source": [
    "R*x + G*y + B*z"
   ]
  },
  {
   "cell_type": "markdown",
   "id": "9ad579d6",
   "metadata": {},
   "source": [
    "### Atividade\n",
    "\n",
    "Faça um programa que leia uma imagem colorida. O programa deve:<br>\n",
    "   - 1. Exibir a imagem na tonalidade real\n",
    "   - 2. Exibir a imagem no canal vermelho (R)\n",
    "   - 3. Exibir a imagem no canal vermelho (G)\n",
    "   - 4. Exibir a imagem no canal vermelho (B)"
   ]
  },
  {
   "cell_type": "code",
   "execution_count": 69,
   "id": "1281bcfc",
   "metadata": {},
   "outputs": [],
   "source": [
    "imagem = plt.imread('python.png')"
   ]
  },
  {
   "cell_type": "code",
   "execution_count": 70,
   "id": "284c4930",
   "metadata": {},
   "outputs": [
    {
     "data": {
      "text/plain": [
       "<matplotlib.image.AxesImage at 0x28a09dc8e20>"
      ]
     },
     "execution_count": 70,
     "metadata": {},
     "output_type": "execute_result"
    },
    {
     "data": {
      "image/png": "[encoded data removed]",
      "text/plain": [
       "<Figure size 640x480 with 1 Axes>"
      ]
     },
     "metadata": {},
     "output_type": "display_data"
    }
   ],
   "source": [
    "plt.imshow(imagem)"
   ]
  },
  {
   "cell_type": "code",
   "execution_count": 72,
   "id": "91ba8d0c",
   "metadata": {},
   "outputs": [
    {
     "data": {
      "text/plain": [
       "(512, 514, 4)"
      ]
     },
     "execution_count": 72,
     "metadata": {},
     "output_type": "execute_result"
    }
   ],
   "source": [
    "imagem.shape"
   ]
  },
  {
   "cell_type": "code",
   "execution_count": 73,
   "id": "b5b33cef",
   "metadata": {},
   "outputs": [
    {
     "data": {
      "text/plain": [
       "<matplotlib.image.AxesImage at 0x28a0a297010>"
      ]
     },
     "execution_count": 73,
     "metadata": {},
     "output_type": "execute_result"
    },
    {
     "data": {
      "image/png": "[encoded data removed]",
      "text/plain": [
       "<Figure size 640x480 with 1 Axes>"
      ]
     },
     "metadata": {},
     "output_type": "display_data"
    }
   ],
   "source": [
    "#imagem[linhas, colunas, eixo z]     # Red\n",
    "imagem[:, :, 1] = 0 # Green \n",
    "imagem[:, :, 2] = 0 # Blue\n",
    "#imagem[:, :, 3]     # alpha\n",
    "\n",
    "plt.imshow(imagem, cmap='viridis')"
   ]
  },
  {
   "cell_type": "code",
   "execution_count": 1,
   "id": "4f11c764",
   "metadata": {},
   "outputs": [],
   "source": [
    "import numpy as np\n",
    "import matplotlib.pyplot as plt"
   ]
  },
  {
   "cell_type": "code",
   "execution_count": 2,
   "id": "da2ee140",
   "metadata": {},
   "outputs": [
    {
     "data": {
      "text/plain": [
       "array([[[255, 255, 255],\n",
       "        [255, 255, 255],\n",
       "        [255, 255, 255],\n",
       "        ...,\n",
       "        [255, 255, 255],\n",
       "        [255, 255, 255],\n",
       "        [255, 255, 255]],\n",
       "\n",
       "       [[255, 255, 255],\n",
       "        [255, 255, 255],\n",
       "        [255, 255, 255],\n",
       "        ...,\n",
       "        [255, 255, 255],\n",
       "        [255, 255, 255],\n",
       "        [255, 255, 255]],\n",
       "\n",
       "       [[255, 255, 255],\n",
       "        [255, 255, 255],\n",
       "        [255, 255, 255],\n",
       "        ...,\n",
       "        [255, 255, 255],\n",
       "        [255, 255, 255],\n",
       "        [255, 255, 255]],\n",
       "\n",
       "       ...,\n",
       "\n",
       "       [[255, 255, 255],\n",
       "        [255, 255, 255],\n",
       "        [255, 255, 255],\n",
       "        ...,\n",
       "        [255, 255, 255],\n",
       "        [255, 255, 255],\n",
       "        [255, 255, 255]],\n",
       "\n",
       "       [[255, 255, 255],\n",
       "        [255, 255, 255],\n",
       "        [255, 255, 255],\n",
       "        ...,\n",
       "        [255, 255, 255],\n",
       "        [255, 255, 255],\n",
       "        [255, 255, 255]],\n",
       "\n",
       "       [[255, 255, 255],\n",
       "        [255, 255, 255],\n",
       "        [255, 255, 255],\n",
       "        ...,\n",
       "        [255, 255, 255],\n",
       "        [255, 255, 255],\n",
       "        [255, 255, 255]]], dtype=uint8)"
      ]
     },
     "execution_count": 2,
     "metadata": {},
     "output_type": "execute_result"
    }
   ],
   "source": [
    "imagem = plt.imread('python.jpg')\n",
    "imagem"
   ]
  },
  {
   "cell_type": "code",
   "execution_count": 3,
   "id": "aaa0a23c",
   "metadata": {},
   "outputs": [
    {
     "data": {
      "text/plain": [
       "(277, 400, 3)"
      ]
     },
     "execution_count": 3,
     "metadata": {},
     "output_type": "execute_result"
    }
   ],
   "source": [
    "imagem.shape"
   ]
  },
  {
   "cell_type": "code",
   "execution_count": 28,
   "id": "28ceeb71",
   "metadata": {},
   "outputs": [],
   "source": [
    "imagem_bin = np.where(imagem > 250, imagem, 0)"
   ]
  },
  {
   "cell_type": "code",
   "execution_count": 29,
   "id": "f848c7a0",
   "metadata": {},
   "outputs": [
    {
     "data": {
      "text/plain": [
       "<matplotlib.image.AxesImage at 0x1da3d9f7340>"
      ]
     },
     "execution_count": 29,
     "metadata": {},
     "output_type": "execute_result"
    },
    {
     "data": {
      "image/png": "[encoded data removed]",
      "text/plain": [
       "<Figure size 640x480 with 1 Axes>"
      ]
     },
     "metadata": {},
     "output_type": "display_data"
    }
   ],
   "source": [
    "plt.imshow(imagem_bin)"
   ]
  },
  {
   "cell_type": "code",
   "execution_count": 13,
   "id": "d7429aea",
   "metadata": {},
   "outputs": [],
   "source": [
    "imagem_bin[:, :, 3] = 1"
   ]
  },
  {
   "cell_type": "code",
   "execution_count": 17,
   "id": "8556e3cf",
   "metadata": {},
   "outputs": [
    {
     "data": {
      "text/plain": [
       "1"
      ]
     },
     "execution_count": 17,
     "metadata": {},
     "output_type": "execute_result"
    }
   ],
   "source": [
    "imagem_bin[:, :, 0].max()"
   ]
  },
  {
   "cell_type": "code",
   "execution_count": 30,
   "id": "b3df0e43",
   "metadata": {},
   "outputs": [
    {
     "data": {
      "text/plain": [
       "array([[[255, 255, 255],\n",
       "        [255, 255, 255],\n",
       "        [255, 255, 255],\n",
       "        ...,\n",
       "        [255, 255, 255],\n",
       "        [255, 255, 255],\n",
       "        [255, 255, 255]],\n",
       "\n",
       "       [[255, 255, 255],\n",
       "        [255, 255, 255],\n",
       "        [255, 255, 255],\n",
       "        ...,\n",
       "        [255, 255, 255],\n",
       "        [255, 255, 255],\n",
       "        [255, 255, 255]],\n",
       "\n",
       "       [[255, 255, 255],\n",
       "        [255, 255, 255],\n",
       "        [255, 255, 255],\n",
       "        ...,\n",
       "        [255, 255, 255],\n",
       "        [255, 255, 255],\n",
       "        [255, 255, 255]],\n",
       "\n",
       "       ...,\n",
       "\n",
       "       [[255, 255, 255],\n",
       "        [255, 255, 255],\n",
       "        [255, 255, 255],\n",
       "        ...,\n",
       "        [255, 255, 255],\n",
       "        [255, 255, 255],\n",
       "        [255, 255, 255]],\n",
       "\n",
       "       [[255, 255, 255],\n",
       "        [255, 255, 255],\n",
       "        [255, 255, 255],\n",
       "        ...,\n",
       "        [255, 255, 255],\n",
       "        [255, 255, 255],\n",
       "        [255, 255, 255]],\n",
       "\n",
       "       [[255, 255, 255],\n",
       "        [255, 255, 255],\n",
       "        [255, 255, 255],\n",
       "        ...,\n",
       "        [255, 255, 255],\n",
       "        [255, 255, 255],\n",
       "        [255, 255, 255]]], dtype=uint8)"
      ]
     },
     "execution_count": 30,
     "metadata": {},
     "output_type": "execute_result"
    }
   ],
   "source": [
    "imagem = plt.imread('python.jpg')\n",
    "imagem"
   ]
  },
  {
   "cell_type": "code",
   "execution_count": 31,
   "id": "60907769",
   "metadata": {},
   "outputs": [
    {
     "data": {
      "text/plain": [
       "(277, 400, 3)"
      ]
     },
     "execution_count": 31,
     "metadata": {},
     "output_type": "execute_result"
    }
   ],
   "source": [
    "imagem.shape"
   ]
  },
  {
   "cell_type": "code",
   "execution_count": 4,
   "id": "8675c718",
   "metadata": {},
   "outputs": [
    {
     "ename": "ValueError",
     "evalue": "assignment destination is read-only",
     "output_type": "error",
     "traceback": [
      "\u001b[1;31m---------------------------------------------------------------------------\u001b[0m",
      "\u001b[1;31mValueError\u001b[0m                                Traceback (most recent call last)",
      "Cell \u001b[1;32mIn[4], line 1\u001b[0m\n\u001b[1;32m----> 1\u001b[0m \u001b[43mimagem\u001b[49m\u001b[43m[\u001b[49m\u001b[38;5;241;43m100\u001b[39;49m\u001b[43m:\u001b[49m\u001b[38;5;241;43m200\u001b[39;49m\u001b[43m,\u001b[49m\u001b[43m \u001b[49m\u001b[38;5;241;43m200\u001b[39;49m\u001b[43m:\u001b[49m\u001b[38;5;241;43m300\u001b[39;49m\u001b[43m,\u001b[49m\u001b[43m \u001b[49m\u001b[38;5;241;43m0\u001b[39;49m\u001b[43m]\u001b[49m \u001b[38;5;241m=\u001b[39m \u001b[38;5;241m0\u001b[39m\n",
      "\u001b[1;31mValueError\u001b[0m: assignment destination is read-only"
     ]
    }
   ],
   "source": [
    "imagem[100:200, 200:300, 0] = 0"
   ]
  },
  {
   "cell_type": "code",
   "execution_count": 5,
   "id": "56ce7e63",
   "metadata": {},
   "outputs": [
    {
     "data": {
      "text/plain": [
       "  C_CONTIGUOUS : True\n",
       "  F_CONTIGUOUS : False\n",
       "  OWNDATA : False\n",
       "  WRITEABLE : False\n",
       "  ALIGNED : True\n",
       "  WRITEBACKIFCOPY : False"
      ]
     },
     "execution_count": 5,
     "metadata": {},
     "output_type": "execute_result"
    }
   ],
   "source": [
    "imagem.flags"
   ]
  },
  {
   "cell_type": "code",
   "execution_count": 12,
   "id": "7fc3aff6",
   "metadata": {},
   "outputs": [
    {
     "ename": "ValueError",
     "evalue": "cannot set WRITEABLE flag to True of this array",
     "output_type": "error",
     "traceback": [
      "\u001b[1;31m---------------------------------------------------------------------------\u001b[0m",
      "\u001b[1;31mValueError\u001b[0m                                Traceback (most recent call last)",
      "Cell \u001b[1;32mIn[12], line 1\u001b[0m\n\u001b[1;32m----> 1\u001b[0m \u001b[43mimagem\u001b[49m\u001b[38;5;241;43m.\u001b[39;49m\u001b[43msetflags\u001b[49m\u001b[43m(\u001b[49m\u001b[43mwrite\u001b[49m\u001b[38;5;241;43m=\u001b[39;49m\u001b[38;5;28;43;01mTrue\u001b[39;49;00m\u001b[43m)\u001b[49m\n",
      "\u001b[1;31mValueError\u001b[0m: cannot set WRITEABLE flag to True of this array"
     ]
    }
   ],
   "source": [
    "imagem.setflags(write=True)"
   ]
  },
  {
   "cell_type": "code",
   "execution_count": null,
   "id": "6ec0017a",
   "metadata": {},
   "outputs": [],
   "source": []
  },
  {
   "cell_type": "code",
   "execution_count": 8,
   "id": "515eb020",
   "metadata": {},
   "outputs": [
    {
     "name": "stdout",
     "output_type": "stream",
     "text": [
      "(100, 100, 3)\n",
      "3\n",
      "30000\n"
     ]
    }
   ],
   "source": [
    "img_random = np.random.random([100, 100, 3])\n",
    "print(img_random.shape)\n",
    "print(img_random.ndim)\n",
    "print(img_random.size)"
   ]
  },
  {
   "cell_type": "code",
   "execution_count": 9,
   "id": "ec8b5499",
   "metadata": {},
   "outputs": [
    {
     "data": {
      "text/plain": [
       "  C_CONTIGUOUS : True\n",
       "  F_CONTIGUOUS : False\n",
       "  OWNDATA : True\n",
       "  WRITEABLE : True\n",
       "  ALIGNED : True\n",
       "  WRITEBACKIFCOPY : False"
      ]
     },
     "execution_count": 9,
     "metadata": {},
     "output_type": "execute_result"
    }
   ],
   "source": [
    "img_random.flags"
   ]
  },
  {
   "cell_type": "code",
   "execution_count": 10,
   "id": "a1343577",
   "metadata": {},
   "outputs": [],
   "source": [
    "img_random[30:60, 30:60, 0] = 0"
   ]
  },
  {
   "cell_type": "code",
   "execution_count": null,
   "id": "eb6e92cc",
   "metadata": {},
   "outputs": [],
   "source": []
  },
  {
   "cell_type": "markdown",
   "id": "1a173813",
   "metadata": {},
   "source": [
    "### Array 1D"
   ]
  },
  {
   "cell_type": "code",
   "execution_count": 66,
   "id": "57fd501b",
   "metadata": {},
   "outputs": [
    {
     "name": "stdout",
     "output_type": "stream",
     "text": [
      "(1,)\n",
      "1\n",
      "1\n"
     ]
    }
   ],
   "source": [
    "array = np.array([1])\n",
    "print(array.shape)\n",
    "print(array.ndim)\n",
    "print(array.size)"
   ]
  },
  {
   "cell_type": "markdown",
   "id": "c41ac2f5",
   "metadata": {},
   "source": [
    "### Array 2D"
   ]
  },
  {
   "cell_type": "markdown",
   "id": "049d0b67",
   "metadata": {},
   "source": [
    "![](https://s3-sa-east-1.amazonaws.com/lcpi/8ab7d445-afa7-4d7a-917d-926b3e74a5e4.png)"
   ]
  },
  {
   "cell_type": "code",
   "execution_count": 67,
   "id": "db23a849",
   "metadata": {},
   "outputs": [
    {
     "name": "stdout",
     "output_type": "stream",
     "text": [
      "(1, 1)\n",
      "2\n",
      "1\n"
     ]
    }
   ],
   "source": [
    "array = np.array([[1]])\n",
    "print(array.shape)\n",
    "print(array.ndim)\n",
    "print(array.size)"
   ]
  },
  {
   "cell_type": "code",
   "execution_count": 68,
   "id": "64a01ea7",
   "metadata": {},
   "outputs": [
    {
     "name": "stdout",
     "output_type": "stream",
     "text": [
      "(3, 1)\n",
      "2\n",
      "3\n"
     ]
    }
   ],
   "source": [
    "array = np.array([[1],[2],[3]])\n",
    "print(array.shape)\n",
    "print(array.ndim)\n",
    "print(array.size)"
   ]
  },
  {
   "cell_type": "markdown",
   "id": "906d8054",
   "metadata": {},
   "source": [
    "### Array 3D"
   ]
  },
  {
   "cell_type": "markdown",
   "id": "4eff3915",
   "metadata": {},
   "source": [
    "![](https://s3-sa-east-1.amazonaws.com/lcpi/2bb421a4-5545-4b36-a10d-ee10a3ab61c2.png)"
   ]
  },
  {
   "cell_type": "code",
   "execution_count": 70,
   "id": "f7fbaddb",
   "metadata": {},
   "outputs": [
    {
     "name": "stdout",
     "output_type": "stream",
     "text": [
      "(2, 2, 1)\n",
      "3\n",
      "4\n"
     ]
    }
   ],
   "source": [
    "array = np.array([[[1],[2]],[[3],[4]]])\n",
    "print(array.shape)\n",
    "print(array.ndim)\n",
    "print(array.size)"
   ]
  },
  {
   "cell_type": "markdown",
   "id": "1d724d7b",
   "metadata": {},
   "source": [
    "![](https://s3-sa-east-1.amazonaws.com/lcpi/a51b7570-7752-4b89-bf3e-b07f147175fa.png)"
   ]
  },
  {
   "cell_type": "code",
   "execution_count": 71,
   "id": "6af4c55e",
   "metadata": {},
   "outputs": [],
   "source": [
    "array1 = np.array([1, 2, 3, 4, 5])\n",
    "array2 = np.array([1, 2, 3, 4, 5])"
   ]
  },
  {
   "cell_type": "code",
   "execution_count": 78,
   "id": "711055e4",
   "metadata": {},
   "outputs": [
    {
     "data": {
      "text/plain": [
       "[<matplotlib.lines.Line2D at 0x1da40bdeb00>]"
      ]
     },
     "execution_count": 78,
     "metadata": {},
     "output_type": "execute_result"
    },
    {
     "data": {
      "image/png": "[encoded data removed]",
      "text/plain": [
       "<Figure size 640x480 with 1 Axes>"
      ]
     },
     "metadata": {},
     "output_type": "display_data"
    }
   ],
   "source": [
    "plt.plot(array1, array1)"
   ]
  },
  {
   "cell_type": "code",
   "execution_count": 79,
   "id": "5cefac8d",
   "metadata": {},
   "outputs": [
    {
     "data": {
      "text/plain": [
       "<matplotlib.collections.PathCollection at 0x1da4192b370>"
      ]
     },
     "execution_count": 79,
     "metadata": {},
     "output_type": "execute_result"
    },
    {
     "data": {
      "image/png": "[encoded data removed]",
      "text/plain": [
       "<Figure size 640x480 with 1 Axes>"
      ]
     },
     "metadata": {},
     "output_type": "display_data"
    }
   ],
   "source": [
    "plt.scatter(array1, array1)"
   ]
  },
  {
   "cell_type": "code",
   "execution_count": 77,
   "id": "bc54bda6",
   "metadata": {},
   "outputs": [
    {
     "data": {
      "text/plain": [
       "<matplotlib.image.AxesImage at 0x1da40a5d960>"
      ]
     },
     "execution_count": 77,
     "metadata": {},
     "output_type": "execute_result"
    },
    {
     "data": {
      "image/png": "[encoded data removed]",
      "text/plain": [
       "<Figure size 640x480 with 1 Axes>"
      ]
     },
     "metadata": {},
     "output_type": "display_data"
    }
   ],
   "source": [
    "x = 100\n",
    "\n",
    "imagem_teste = np.zeros([100,100,3])\n",
    "for i in range(x):\n",
    "    y = 2*i #funcao\n",
    "    if y < 100:\n",
    "    \n",
    "        imagem_teste[i,y,0] = 1\n",
    "        imagem_teste[i,y,1] = 1\n",
    "        imagem_teste[i,y,2] = 1\n",
    "\n",
    "plt.imshow(imagem_teste)"
   ]
  },
  {
   "cell_type": "code",
   "execution_count": null,
   "id": "52920e79",
   "metadata": {},
   "outputs": [],
   "source": []
  },
  {
   "cell_type": "markdown",
   "id": "2fe9467b",
   "metadata": {},
   "source": [
    "`Referência`: https://www.sharpsightlabs.com/blog/numpy-axes-explained/"
   ]
  },
  {
   "cell_type": "markdown",
   "id": "7a2766a0",
   "metadata": {},
   "source": [
    "### Atividade"
   ]
  },
  {
   "cell_type": "markdown",
   "id": "8dc17270",
   "metadata": {},
   "source": [
    "#### Tabela criptográfica"
   ]
  },
  {
   "cell_type": "code",
   "execution_count": 80,
   "id": "716dba98",
   "metadata": {},
   "outputs": [
    {
     "name": "stdout",
     "output_type": "stream",
     "text": [
      "0 - \u0000\n",
      "1 - \u0001\n",
      "2 - \u0002\n",
      "3 - \u0003\n",
      "4 - \u0004\n",
      "5 - \u0005\n",
      "6 - \u0006\n",
      "7 - \u0007\n",
      "8 - \b\n",
      "9 - \t\n",
      "10 - \n",
      "\n",
      "11 - \u000b\n",
      "\n",
      "12 - \f\n",
      "\n",
      "13 - \r\n",
      "14 - \u000e\n",
      "15 - \u000f\n",
      "16 - \u0010\n",
      "17 - \u0011\n",
      "18 - \u0012\n",
      "19 - \u0013\n",
      "20 - \u0014\n",
      "21 - \u0015\n",
      "22 - \u0016\n",
      "23 - \u0017\n",
      "24 - \u0018\n",
      "25 - \u0019\n",
      "26 - \u001a\n",
      "27 - \u001b\n",
      "28 - \u001c\n",
      "\n",
      "29 - \u001d\n",
      "\n",
      "30 - \u001e\n",
      "\n",
      "31 - \u001f\n",
      "32 -  \n",
      "33 - !\n",
      "34 - \"\n",
      "35 - #\n",
      "36 - $\n",
      "37 - %\n",
      "38 - &\n",
      "39 - '\n",
      "40 - (\n",
      "41 - )\n",
      "42 - *\n",
      "43 - +\n",
      "44 - ,\n",
      "45 - -\n",
      "46 - .\n",
      "47 - /\n",
      "48 - 0\n",
      "49 - 1\n",
      "50 - 2\n",
      "51 - 3\n",
      "52 - 4\n",
      "53 - 5\n",
      "54 - 6\n",
      "55 - 7\n",
      "56 - 8\n",
      "57 - 9\n",
      "58 - :\n",
      "59 - ;\n",
      "60 - <\n",
      "61 - =\n",
      "62 - >\n",
      "63 - ?\n",
      "64 - @\n",
      "65 - A\n",
      "66 - B\n",
      "67 - C\n",
      "68 - D\n",
      "69 - E\n",
      "70 - F\n",
      "71 - G\n",
      "72 - H\n",
      "73 - I\n",
      "74 - J\n",
      "75 - K\n",
      "76 - L\n",
      "77 - M\n",
      "78 - N\n",
      "79 - O\n",
      "80 - P\n",
      "81 - Q\n",
      "82 - R\n",
      "83 - S\n",
      "84 - T\n",
      "85 - U\n",
      "86 - V\n",
      "87 - W\n",
      "88 - X\n",
      "89 - Y\n",
      "90 - Z\n",
      "91 - [\n",
      "92 - \\\n",
      "93 - ]\n",
      "94 - ^\n",
      "95 - _\n",
      "96 - `\n",
      "97 - a\n",
      "98 - b\n",
      "99 - c\n",
      "100 - d\n",
      "101 - e\n",
      "102 - f\n",
      "103 - g\n",
      "104 - h\n",
      "105 - i\n",
      "106 - j\n",
      "107 - k\n",
      "108 - l\n",
      "109 - m\n",
      "110 - n\n",
      "111 - o\n",
      "112 - p\n",
      "113 - q\n",
      "114 - r\n",
      "115 - s\n",
      "116 - t\n",
      "117 - u\n",
      "118 - v\n",
      "119 - w\n",
      "120 - x\n",
      "121 - y\n",
      "122 - z\n",
      "123 - {\n",
      "124 - |\n",
      "125 - }\n",
      "126 - ~\n",
      "127 - \n",
      "128 - \n",
      "129 - \n",
      "130 - \n",
      "131 - \n",
      "132 - \n",
      "133 - \n",
      "\n",
      "134 - \n",
      "135 - \n",
      "136 - \n",
      "137 - \n",
      "138 - \n",
      "139 - \n",
      "140 - \n",
      "141 - \n",
      "142 - \n",
      "143 - \n",
      "144 - \n",
      "145 - \n",
      "146 - \n",
      "147 - \n",
      "148 - \n",
      "149 - \n",
      "150 - \n",
      "151 - \n",
      "152 - \n",
      "153 - \n",
      "154 - \n",
      "155 - \n",
      "156 - \n",
      "157 - \n",
      "158 - \n",
      "159 - \n",
      "160 -  \n",
      "161 - ¡\n",
      "162 - ¢\n",
      "163 - £\n",
      "164 - ¤\n",
      "165 - ¥\n",
      "166 - ¦\n",
      "167 - §\n",
      "168 - ¨\n",
      "169 - ©\n",
      "170 - ª\n",
      "171 - «\n",
      "172 - ¬\n",
      "173 - ­\n",
      "174 - ®\n",
      "175 - ¯\n",
      "176 - °\n",
      "177 - ±\n",
      "178 - ²\n",
      "179 - ³\n",
      "180 - ´\n",
      "181 - µ\n",
      "182 - ¶\n",
      "183 - ·\n",
      "184 - ¸\n",
      "185 - ¹\n",
      "186 - º\n",
      "187 - »\n",
      "188 - ¼\n",
      "189 - ½\n",
      "190 - ¾\n",
      "191 - ¿\n",
      "192 - À\n",
      "193 - Á\n",
      "194 - Â\n",
      "195 - Ã\n",
      "196 - Ä\n",
      "197 - Å\n",
      "198 - Æ\n",
      "199 - Ç\n",
      "200 - È\n",
      "201 - É\n",
      "202 - Ê\n",
      "203 - Ë\n",
      "204 - Ì\n",
      "205 - Í\n",
      "206 - Î\n",
      "207 - Ï\n",
      "208 - Ð\n",
      "209 - Ñ\n",
      "210 - Ò\n",
      "211 - Ó\n",
      "212 - Ô\n",
      "213 - Õ\n",
      "214 - Ö\n",
      "215 - ×\n",
      "216 - Ø\n",
      "217 - Ù\n",
      "218 - Ú\n",
      "219 - Û\n",
      "220 - Ü\n",
      "221 - Ý\n",
      "222 - Þ\n",
      "223 - ß\n",
      "224 - à\n",
      "225 - á\n",
      "226 - â\n",
      "227 - ã\n",
      "228 - ä\n",
      "229 - å\n",
      "230 - æ\n",
      "231 - ç\n",
      "232 - è\n",
      "233 - é\n",
      "234 - ê\n",
      "235 - ë\n",
      "236 - ì\n",
      "237 - í\n",
      "238 - î\n",
      "239 - ï\n",
      "240 - ð\n",
      "241 - ñ\n",
      "242 - ò\n",
      "243 - ó\n",
      "244 - ô\n",
      "245 - õ\n",
      "246 - ö\n",
      "247 - ÷\n",
      "248 - ø\n",
      "249 - ù\n",
      "250 - ú\n",
      "251 - û\n",
      "252 - ü\n",
      "253 - ý\n",
      "254 - þ\n",
      "255 - ÿ\n"
     ]
    }
   ],
   "source": [
    "for codigo in range(256):\n",
    "    caracter = chr(codigo)\n",
    "    print(f'{codigo} - {caracter}')"
   ]
  },
  {
   "cell_type": "code",
   "execution_count": 57,
   "id": "09404fc4",
   "metadata": {},
   "outputs": [
    {
     "name": "stdout",
     "output_type": "stream",
     "text": [
      "a = x | b = 120\n"
     ]
    }
   ],
   "source": [
    "a = 'x'\n",
    "b = ord(a)\n",
    "print(f'a = {a} | b = {b}')"
   ]
  },
  {
   "cell_type": "code",
   "execution_count": 59,
   "id": "53015d24",
   "metadata": {},
   "outputs": [
    {
     "name": "stdout",
     "output_type": "stream",
     "text": [
      "a = 64 | b = @\n"
     ]
    }
   ],
   "source": [
    "a = 64\n",
    "b = chr(a)\n",
    "print(f'a = {a} | b = {b}')"
   ]
  },
  {
   "cell_type": "code",
   "execution_count": null,
   "id": "cdb170fc",
   "metadata": {},
   "outputs": [],
   "source": []
  },
  {
   "cell_type": "markdown",
   "id": "313de1a7",
   "metadata": {},
   "source": [
    "### Adicionando valores em um array"
   ]
  },
  {
   "cell_type": "code",
   "execution_count": 81,
   "id": "f7f69dfa",
   "metadata": {},
   "outputs": [
    {
     "data": {
      "text/plain": [
       "array([0., 1., 2., 3., 4., 5., 6., 7., 8., 9.])"
      ]
     },
     "execution_count": 81,
     "metadata": {},
     "output_type": "execute_result"
    }
   ],
   "source": [
    "array = np.array([])\n",
    "\n",
    "for i in range(10):\n",
    "    array = np.append(array, i)\n",
    "    \n",
    "array"
   ]
  },
  {
   "cell_type": "markdown",
   "id": "34ef5dbc",
   "metadata": {},
   "source": [
    "### Atividade 1"
   ]
  },
  {
   "cell_type": "markdown",
   "id": "ebd7d83f",
   "metadata": {},
   "source": [
    "Faça uma função que receba uma string e retorne um array numpy contendo os caracteres dessa string."
   ]
  },
  {
   "cell_type": "code",
   "execution_count": null,
   "id": "394d18c3",
   "metadata": {},
   "outputs": [],
   "source": []
  },
  {
   "cell_type": "markdown",
   "id": "450188e6",
   "metadata": {},
   "source": [
    "### Atividade 2"
   ]
  },
  {
   "cell_type": "markdown",
   "id": "2f41c67a",
   "metadata": {},
   "source": [
    "Uma das primeiras obras muldialmente publicadas de Dan Brown, autor do famoso `Código Da Vinci`, é o livro Fortaleza Digital. Neste livro, a personagem principal, Suzan Fletcher, é uma criptógrafa da NSA (National Security Agency). No livro, a personagem descreve como criar uma criptografia de forma simples :\n",
    " - 1. Substitua cada letra do alfabeto por um número. Assim, A = 1, B = 2, C = 3 e assim por diante. Logo a palavra ADA pode ser representada por 141.\n",
    "   - ADA => A = 1\n",
    "            D = 4\n",
    "            A = 1\n",
    "\n",
    "- 2. Para cada letra da palavra que deseja encriptar adicione 1. \n",
    " - ADA => A = 1 + 1 = 2 --> B\n",
    "          D = 4 + 1 = 5 --> E\n",
    "          A = 1 + 1 = 2 --> B\n",
    " - Assim, a palavra ADA codificada seria BEB.\n",
    " \n",
    "- 3. Para decriptar, basta fazer o processo inverso. Representando cada letra da palavra codificada como número, subtraindo 1 e mapeando para a letra correspondente. \n",
    " \n",
    " Faça um programa que receba uma string de entrada e aplique a criptografia como mostrada acima.<br>\n",
    "> Obs.: Considere os valores de cada letra como os valores da tabela ascii.\n"
   ]
  },
  {
   "cell_type": "code",
   "execution_count": null,
   "id": "74709d71",
   "metadata": {},
   "outputs": [],
   "source": []
  },
  {
   "cell_type": "markdown",
   "id": "69eabb63",
   "metadata": {},
   "source": [
    "### Selecionando valores em um array"
   ]
  },
  {
   "cell_type": "code",
   "execution_count": null,
   "id": "21aabaa9",
   "metadata": {},
   "outputs": [],
   "source": []
  },
  {
   "cell_type": "code",
   "execution_count": null,
   "id": "736526d3",
   "metadata": {},
   "outputs": [],
   "source": []
  },
  {
   "cell_type": "markdown",
   "id": "dbbebd00",
   "metadata": {},
   "source": [
    "### Atividade 3"
   ]
  },
  {
   "cell_type": "markdown",
   "id": "949d3216",
   "metadata": {},
   "source": [
    "Considere um sistema simples de notas de uma escola. Neste sistema, para cada aluno, há um registro de nome e uma nota.\n",
    "Crie uma lista que contenha os nomes de pelo menos 5 alunos e um array numpy com suas respectivas notas. O sistema deve exibir o nome e nota dos alunos com nota maior ou igual a 7."
   ]
  },
  {
   "cell_type": "code",
   "execution_count": null,
   "id": "3a56cfe0",
   "metadata": {},
   "outputs": [],
   "source": []
  },
  {
   "cell_type": "markdown",
   "id": "62cd8d8a",
   "metadata": {},
   "source": [
    "### np.linspace"
   ]
  },
  {
   "cell_type": "code",
   "execution_count": 17,
   "id": "74a971ca",
   "metadata": {},
   "outputs": [],
   "source": [
    "x = np.linspace(0, 10, 100)\n",
    "y = np.cos(x)"
   ]
  },
  {
   "cell_type": "code",
   "execution_count": 18,
   "id": "f08dc1d3",
   "metadata": {},
   "outputs": [
    {
     "data": {
      "text/plain": [
       "[<matplotlib.lines.Line2D at 0x1cde93b7820>]"
      ]
     },
     "execution_count": 18,
     "metadata": {},
     "output_type": "execute_result"
    },
    {
     "data": {
      "image/png": "[encoded data removed]",
      "text/plain": [
       "<Figure size 640x480 with 1 Axes>"
      ]
     },
     "metadata": {},
     "output_type": "display_data"
    }
   ],
   "source": [
    "plt.plot(x, y)"
   ]
  },
  {
   "cell_type": "markdown",
   "id": "bbb9e053",
   "metadata": {},
   "source": [
    "### np.where"
   ]
  },
  {
   "cell_type": "code",
   "execution_count": 21,
   "id": "ba47e968",
   "metadata": {},
   "outputs": [
    {
     "data": {
      "text/plain": [
       "array([ 0.        ,  0.        ,  0.        ,  0.        ,  0.        ,\n",
       "        0.        ,  0.        ,  0.        ,  0.        ,  0.        ,\n",
       "        0.        ,  0.        ,  0.        ,  0.        ,  0.        ,\n",
       "        0.        ,  0.        ,  0.        ,  0.        ,  0.        ,\n",
       "        0.        ,  0.        ,  0.        ,  0.        ,  0.        ,\n",
       "        0.        ,  0.        ,  0.        ,  0.        ,  0.        ,\n",
       "        0.        ,  0.        ,  0.        ,  0.        ,  0.        ,\n",
       "        0.        ,  0.        ,  0.        ,  0.        ,  0.        ,\n",
       "        0.        ,  0.        ,  0.        ,  0.        ,  0.        ,\n",
       "        0.        ,  0.        ,  0.        ,  0.        ,  0.        ,\n",
       "        5.05050505,  5.15151515,  5.25252525,  5.35353535,  5.45454545,\n",
       "        5.55555556,  5.65656566,  5.75757576,  5.85858586,  5.95959596,\n",
       "        6.06060606,  6.16161616,  6.26262626,  6.36363636,  6.46464646,\n",
       "        6.56565657,  6.66666667,  6.76767677,  6.86868687,  6.96969697,\n",
       "        7.07070707,  7.17171717,  7.27272727,  7.37373737,  7.47474747,\n",
       "        7.57575758,  7.67676768,  7.77777778,  7.87878788,  7.97979798,\n",
       "        8.08080808,  8.18181818,  8.28282828,  8.38383838,  8.48484848,\n",
       "        8.58585859,  8.68686869,  8.78787879,  8.88888889,  8.98989899,\n",
       "        9.09090909,  9.19191919,  9.29292929,  9.39393939,  9.49494949,\n",
       "        9.5959596 ,  9.6969697 ,  9.7979798 ,  9.8989899 , 10.        ])"
      ]
     },
     "execution_count": 21,
     "metadata": {},
     "output_type": "execute_result"
    }
   ],
   "source": [
    "np.where(x>5, x, 0)"
   ]
  },
  {
   "cell_type": "markdown",
   "id": "7992a7f5",
   "metadata": {},
   "source": [
    "### np.concatenate"
   ]
  },
  {
   "cell_type": "code",
   "execution_count": 23,
   "id": "72bb3336",
   "metadata": {},
   "outputs": [
    {
     "data": {
      "text/plain": [
       "array([0, 1, 2, 3, 4, 5, 6, 7, 8, 9, 0, 1, 2, 3, 4, 5, 6, 7, 8, 9, 0, 1,\n",
       "       2, 3, 4, 5, 6, 7, 8, 9])"
      ]
     },
     "execution_count": 23,
     "metadata": {},
     "output_type": "execute_result"
    }
   ],
   "source": [
    "A = np.arange(10)\n",
    "B = np.concatenate([A, A, A])\n",
    "B"
   ]
  },
  {
   "cell_type": "code",
   "execution_count": 38,
   "id": "eb39373a",
   "metadata": {},
   "outputs": [],
   "source": [
    "D31 = np.array([[1, 4, 7],\n",
    "                [2, 9, 7],\n",
    "                [1, 3, 0],\n",
    "                [9, 6, 9]])\n",
    "\n",
    "A = np.array([[1, 2],\n",
    "                [4, 3],\n",
    "                [7, 4]])\n",
    "\n",
    "B = np.array([[7, 4],\n",
    "                [7, 5],\n",
    "                [0, 2],\n",
    "                [10, 12]])\n"
   ]
  },
  {
   "cell_type": "code",
   "execution_count": 39,
   "id": "654580e7",
   "metadata": {},
   "outputs": [
    {
     "ename": "ValueError",
     "evalue": "all the input array dimensions except for the concatenation axis must match exactly, but along dimension 0, the array at index 0 has size 3 and the array at index 1 has size 4",
     "output_type": "error",
     "traceback": [
      "\u001b[1;31m---------------------------------------------------------------------------\u001b[0m",
      "\u001b[1;31mValueError\u001b[0m                                Traceback (most recent call last)",
      "Cell \u001b[1;32mIn[39], line 3\u001b[0m\n\u001b[0;32m      1\u001b[0m eixo \u001b[38;5;241m=\u001b[39m \u001b[38;5;241m1\u001b[39m\n\u001b[0;32m      2\u001b[0m \u001b[38;5;28;01mif\u001b[39;00m A\u001b[38;5;241m.\u001b[39mshape[eixo]\u001b[38;5;241m==\u001b[39mB\u001b[38;5;241m.\u001b[39mshape[eixo]:\n\u001b[1;32m----> 3\u001b[0m     C \u001b[38;5;241m=\u001b[39m \u001b[43mnp\u001b[49m\u001b[38;5;241;43m.\u001b[39;49m\u001b[43mconcatenate\u001b[49m\u001b[43m(\u001b[49m\u001b[43m[\u001b[49m\u001b[43mA\u001b[49m\u001b[43m,\u001b[49m\u001b[43m \u001b[49m\u001b[43mB\u001b[49m\u001b[43m]\u001b[49m\u001b[43m,\u001b[49m\u001b[43m \u001b[49m\u001b[43maxis\u001b[49m\u001b[38;5;241;43m=\u001b[39;49m\u001b[43meixo\u001b[49m\u001b[43m)\u001b[49m\n\u001b[0;32m      4\u001b[0m     \u001b[38;5;28mprint\u001b[39m(C)\n",
      "File \u001b[1;32m<__array_function__ internals>:200\u001b[0m, in \u001b[0;36mconcatenate\u001b[1;34m(*args, **kwargs)\u001b[0m\n",
      "\u001b[1;31mValueError\u001b[0m: all the input array dimensions except for the concatenation axis must match exactly, but along dimension 0, the array at index 0 has size 3 and the array at index 1 has size 4"
     ]
    }
   ],
   "source": [
    "eixo = 1\n",
    "if A.shape[eixo]==B.shape[eixo]:\n",
    "    C = np.concatenate([A, B], axis=eixo)\n",
    "    print(C)"
   ]
  },
  {
   "cell_type": "code",
   "execution_count": null,
   "id": "e5a8a338",
   "metadata": {},
   "outputs": [],
   "source": []
  },
  {
   "cell_type": "code",
   "execution_count": null,
   "id": "7584714f",
   "metadata": {},
   "outputs": [],
   "source": []
  },
  {
   "cell_type": "markdown",
   "id": "258bfe3b",
   "metadata": {},
   "source": [
    "### np.unique"
   ]
  },
  {
   "cell_type": "code",
   "execution_count": 41,
   "id": "385a5414",
   "metadata": {},
   "outputs": [
    {
     "data": {
      "text/plain": [
       "array([1, 2, 3, 4, 5])"
      ]
     },
     "execution_count": 41,
     "metadata": {},
     "output_type": "execute_result"
    }
   ],
   "source": [
    "array = np.array([1, 1, 1, 2, 3, 4, 4, 4, 5, 5])\n",
    "np.unique(array)"
   ]
  },
  {
   "cell_type": "markdown",
   "id": "3d14ee55",
   "metadata": {},
   "source": [
    "### Moda\n",
    " > O valor que mais se repete"
   ]
  },
  {
   "cell_type": "code",
   "execution_count": 42,
   "id": "7933a5f8",
   "metadata": {},
   "outputs": [],
   "source": [
    "array = np.array([1, 1, 1, 2, 3, 4, 4, 4, 5, 5])\n",
    "valores, frequencias = np.unique(array, return_counts=True)"
   ]
  },
  {
   "cell_type": "code",
   "execution_count": 43,
   "id": "82589667",
   "metadata": {},
   "outputs": [
    {
     "data": {
      "text/plain": [
       "array([1, 2, 3, 4, 5])"
      ]
     },
     "execution_count": 43,
     "metadata": {},
     "output_type": "execute_result"
    }
   ],
   "source": [
    "valores"
   ]
  },
  {
   "cell_type": "code",
   "execution_count": 44,
   "id": "16601154",
   "metadata": {},
   "outputs": [
    {
     "data": {
      "text/plain": [
       "array([3, 1, 1, 3, 2], dtype=int64)"
      ]
     },
     "execution_count": 44,
     "metadata": {},
     "output_type": "execute_result"
    }
   ],
   "source": [
    " frequencias"
   ]
  },
  {
   "cell_type": "code",
   "execution_count": 45,
   "id": "92d81133",
   "metadata": {},
   "outputs": [
    {
     "data": {
      "text/plain": [
       "0"
      ]
     },
     "execution_count": 45,
     "metadata": {},
     "output_type": "execute_result"
    }
   ],
   "source": [
    "fmax = np.argmax(frequencias)\n",
    "fmax"
   ]
  },
  {
   "cell_type": "code",
   "execution_count": 46,
   "id": "2cf5218b",
   "metadata": {},
   "outputs": [
    {
     "data": {
      "text/plain": [
       "1"
      ]
     },
     "execution_count": 46,
     "metadata": {},
     "output_type": "execute_result"
    }
   ],
   "source": [
    "valores[fmax]"
   ]
  },
  {
   "cell_type": "markdown",
   "id": "552974d1",
   "metadata": {},
   "source": [
    "### reshape"
   ]
  },
  {
   "cell_type": "code",
   "execution_count": 47,
   "id": "18145752",
   "metadata": {},
   "outputs": [
    {
     "data": {
      "text/plain": [
       "array([  0,  10,  20,  30,  40,  50,  60,  70,  80,  90, 100, 110, 120,\n",
       "       130, 140, 150, 160, 170, 180, 190, 200, 210, 220, 230, 240, 250,\n",
       "       260])"
      ]
     },
     "execution_count": 47,
     "metadata": {},
     "output_type": "execute_result"
    }
   ],
   "source": [
    "A = np.arange(9*3)*10\n",
    "A"
   ]
  },
  {
   "cell_type": "code",
   "execution_count": 51,
   "id": "92d2caeb",
   "metadata": {},
   "outputs": [],
   "source": [
    "B = A.reshape(3, 3, 3)"
   ]
  },
  {
   "cell_type": "code",
   "execution_count": 52,
   "id": "c4b8c552",
   "metadata": {},
   "outputs": [
    {
     "data": {
      "text/plain": [
       "array([[[  0,  10,  20],\n",
       "        [ 30,  40,  50],\n",
       "        [ 60,  70,  80]],\n",
       "\n",
       "       [[ 90, 100, 110],\n",
       "        [120, 130, 140],\n",
       "        [150, 160, 170]],\n",
       "\n",
       "       [[180, 190, 200],\n",
       "        [210, 220, 230],\n",
       "        [240, 250, 260]]])"
      ]
     },
     "execution_count": 52,
     "metadata": {},
     "output_type": "execute_result"
    }
   ],
   "source": [
    "B"
   ]
  },
  {
   "cell_type": "code",
   "execution_count": 53,
   "id": "22f2a1f1",
   "metadata": {},
   "outputs": [
    {
     "data": {
      "text/plain": [
       "array([  0,  10,  20,  30,  40,  50,  60,  70,  80,  90, 100, 110, 120,\n",
       "       130, 140, 150, 160, 170, 180, 190, 200, 210, 220, 230, 240, 250,\n",
       "       260])"
      ]
     },
     "execution_count": 53,
     "metadata": {},
     "output_type": "execute_result"
    }
   ],
   "source": [
    "B.reshape(27)"
   ]
  },
  {
   "cell_type": "code",
   "execution_count": 67,
   "id": "ae10bbd9",
   "metadata": {},
   "outputs": [
    {
     "data": {
      "text/plain": [
       "1983263154384"
      ]
     },
     "execution_count": 67,
     "metadata": {},
     "output_type": "execute_result"
    }
   ],
   "source": [
    "a = 256\n",
    "id(a)"
   ]
  },
  {
   "cell_type": "code",
   "execution_count": 68,
   "id": "9181f3e3",
   "metadata": {},
   "outputs": [
    {
     "data": {
      "text/plain": [
       "1983263154384"
      ]
     },
     "execution_count": 68,
     "metadata": {},
     "output_type": "execute_result"
    }
   ],
   "source": [
    "b = 256\n",
    "id(b)"
   ]
  },
  {
   "cell_type": "markdown",
   "id": "e897c6d9",
   "metadata": {},
   "source": [
    "### Atividade"
   ]
  },
  {
   "cell_type": "markdown",
   "id": "52afdf3a",
   "metadata": {},
   "source": [
    "Faça uma algoritmo que calcule a multiplicação de duas matrizes como mostrado a seguir:"
   ]
  },
  {
   "cell_type": "code",
   "execution_count": null,
   "id": "51e2e550",
   "metadata": {},
   "outputs": [],
   "source": []
  },
  {
   "cell_type": "markdown",
   "id": "47d88d92",
   "metadata": {},
   "source": [
    "## 2. Criando matrizes "
   ]
  },
  {
   "cell_type": "markdown",
   "id": "a7ce147e",
   "metadata": {},
   "source": [
    "![](https://s3-sa-east-1.amazonaws.com/lcpi/ce5c2c60-5338-4d1b-8ded-40ea848b38e1.png)"
   ]
  },
  {
   "cell_type": "code",
   "execution_count": null,
   "id": "9818ca9a",
   "metadata": {},
   "outputs": [],
   "source": []
  },
  {
   "cell_type": "markdown",
   "id": "0a32448e",
   "metadata": {},
   "source": [
    "![](https://s3-sa-east-1.amazonaws.com/lcpi/7f2eb98b-7f9a-41ca-a483-525b3688f472.png)"
   ]
  },
  {
   "cell_type": "code",
   "execution_count": null,
   "id": "24469211",
   "metadata": {},
   "outputs": [],
   "source": []
  },
  {
   "cell_type": "markdown",
   "id": "e4a000f6",
   "metadata": {},
   "source": [
    "### Indexação de matrizes"
   ]
  },
  {
   "cell_type": "markdown",
   "id": "8f46657e",
   "metadata": {},
   "source": [
    "![](https://s3-sa-east-1.amazonaws.com/lcpi/c328eec1-5335-400b-bb26-711cd7e3af98.png)"
   ]
  },
  {
   "cell_type": "code",
   "execution_count": null,
   "id": "a6a2df32",
   "metadata": {},
   "outputs": [],
   "source": []
  },
  {
   "cell_type": "markdown",
   "id": "41266d49",
   "metadata": {},
   "source": [
    "### Aritmética de matrizes"
   ]
  },
  {
   "cell_type": "markdown",
   "id": "b8e7870c",
   "metadata": {},
   "source": [
    "![](https://s3-sa-east-1.amazonaws.com/lcpi/679fdeba-0bb7-4aa7-911b-3022aedfae34.png)"
   ]
  },
  {
   "cell_type": "code",
   "execution_count": null,
   "id": "fd13d062",
   "metadata": {},
   "outputs": [],
   "source": []
  },
  {
   "cell_type": "markdown",
   "id": "f1afc3b2",
   "metadata": {},
   "source": [
    "![](https://s3-sa-east-1.amazonaws.com/lcpi/b962bf40-c1b2-4365-9c23-45a0a65ff6bd.png)"
   ]
  },
  {
   "cell_type": "markdown",
   "id": "2d1c41be",
   "metadata": {},
   "source": [
    "### Produto de matrizes"
   ]
  },
  {
   "cell_type": "markdown",
   "id": "40cce38e",
   "metadata": {},
   "source": [
    "![](https://s3-sa-east-1.amazonaws.com/lcpi/8398d304-7f41-4ebe-9bcf-4fc94898ef8f.gif)"
   ]
  },
  {
   "cell_type": "code",
   "execution_count": null,
   "id": "ea27b2e4",
   "metadata": {},
   "outputs": [],
   "source": []
  },
  {
   "cell_type": "code",
   "execution_count": null,
   "id": "eeae3ca3",
   "metadata": {},
   "outputs": [],
   "source": []
  },
  {
   "cell_type": "markdown",
   "id": "1b37f049",
   "metadata": {},
   "source": [
    "![](https://s3-sa-east-1.amazonaws.com/lcpi/364c9c85-a3e3-4b54-9ac8-7cf539d257c4.png)"
   ]
  },
  {
   "cell_type": "code",
   "execution_count": null,
   "id": "d30c483b",
   "metadata": {},
   "outputs": [],
   "source": []
  },
  {
   "cell_type": "markdown",
   "id": "6f3d24b6",
   "metadata": {},
   "source": [
    "Simplificando"
   ]
  },
  {
   "cell_type": "markdown",
   "id": "f7ced280",
   "metadata": {},
   "source": [
    "![](https://s3-sa-east-1.amazonaws.com/lcpi/3a83e646-d259-4eb3-a865-444fafa196f4.png)"
   ]
  },
  {
   "cell_type": "markdown",
   "id": "a0b8eaa0",
   "metadata": {},
   "source": [
    "### Agregação de matrizes"
   ]
  },
  {
   "cell_type": "markdown",
   "id": "ca521dfa",
   "metadata": {},
   "source": [
    "De toda a matriz"
   ]
  },
  {
   "cell_type": "markdown",
   "id": "381fa029",
   "metadata": {},
   "source": [
    "![](https://s3-sa-east-1.amazonaws.com/lcpi/a5978cee-54f2-4b15-9189-220486057b9d.png)"
   ]
  },
  {
   "cell_type": "markdown",
   "id": "a244b597",
   "metadata": {},
   "source": [
    "e por eixo"
   ]
  },
  {
   "cell_type": "markdown",
   "id": "c3c09c66",
   "metadata": {},
   "source": [
    "![](https://s3-sa-east-1.amazonaws.com/lcpi/cfd44fea-7d1d-4d32-b3ca-8b5952dad123.png)"
   ]
  },
  {
   "cell_type": "code",
   "execution_count": null,
   "id": "a67566a1",
   "metadata": {},
   "outputs": [],
   "source": []
  },
  {
   "cell_type": "code",
   "execution_count": null,
   "id": "ba06f16e",
   "metadata": {},
   "outputs": [],
   "source": []
  },
  {
   "cell_type": "markdown",
   "id": "b8d08852",
   "metadata": {},
   "source": [
    "### Atividade 02"
   ]
  },
  {
   "cell_type": "markdown",
   "id": "ad8d053e",
   "metadata": {},
   "source": [
    "A binarização de uma imagem é feita quando definimos um limiar de intensidade para os pixels da imagem e todos os valores acima desse limiar são substituídos por 1 e os valores a baixo são substituídos por 0.\n",
    "Faça um programa que receba uma imagem, mostra ela normal e sua versão binarizada."
   ]
  },
  {
   "cell_type": "code",
   "execution_count": null,
   "id": "a5293224",
   "metadata": {},
   "outputs": [],
   "source": []
  }
 ],
 "metadata": {
  "kernelspec": {
   "display_name": "Python 3 (ipykernel)",
   "language": "python",
   "name": "python3"
  },
  "language_info": {
   "codemirror_mode": {
    "name": "ipython",
    "version": 3
   },
   "file_extension": ".py",
   "mimetype": "text/x-python",
   "name": "python",
   "nbconvert_exporter": "python",
   "pygments_lexer": "ipython3",
   "version": "3.10.11"
  }
 },
 "nbformat": 4,
 "nbformat_minor": 5
}
