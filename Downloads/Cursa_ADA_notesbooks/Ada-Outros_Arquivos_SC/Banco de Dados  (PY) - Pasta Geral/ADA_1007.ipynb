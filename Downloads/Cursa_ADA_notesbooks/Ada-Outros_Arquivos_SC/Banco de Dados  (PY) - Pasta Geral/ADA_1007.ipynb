{
  "cells": [
    {
      "cell_type": "code",
      "execution_count": 1,
      "metadata": {
        "colab": {
          "base_uri": "https://localhost:8080/"
        },
        "id": "AVb12FDeUvfG",
        "outputId": "4b2f6879-7bdc-4c75-d4ce-3580495095b2"
      },
      "outputs": [
        {
          "name": "stdout",
          "output_type": "stream",
          "text": [
            "Defaulting to user installation because normal site-packages is not writeable\n",
            "Requirement already satisfied: pymysql in /home/clara/.local/lib/python3.10/site-packages (1.1.0)\n"
          ]
        }
      ],
      "source": [
        "! pip install pymysql"
      ]
    },
    {
      "cell_type": "code",
      "execution_count": 2,
      "metadata": {
        "id": "nQfRHhOktui-"
      },
      "outputs": [],
      "source": [
        "# IMPORTAÇÃO BIBLIOTECAS\n",
        "import pymysql\n",
        "import pandas as pd\n",
        "import warnings\n",
        "from IPython.display import display, Markdown"
      ]
    },
    {
      "cell_type": "code",
      "execution_count": 3,
      "metadata": {
        "id": "FCUeA7yquwe1"
      },
      "outputs": [],
      "source": [
        "def exibir_markdown(texto_md):\n",
        "    display(Markdown(texto_md))"
      ]
    },
    {
      "cell_type": "code",
      "execution_count": 4,
      "metadata": {
        "id": "wLfvjBUyd66i"
      },
      "outputs": [],
      "source": [
        "# DESATIVAR ALERTAS\n",
        "warnings.filterwarnings('ignore')"
      ]
    },
    {
      "cell_type": "code",
      "execution_count": 5,
      "metadata": {
        "id": "TEfHbm6Ht20C"
      },
      "outputs": [],
      "source": [
        "# CRIAR CONEXÃO AO MYSQL - AWS\n",
        "\n",
        "try:\n",
        "  conexao = pymysql.connect( user= 'clara_ferreira',\n",
        "                             host= 'ada-santander-1007.clzgkgrmzmzh.us-east-1.rds.amazonaws.com',\n",
        "                             port= 3306,\n",
        "                             password= '123456',\n",
        "                             database= 'clara_ferreira_teste')\n",
        "except pymysql.Error as e:\n",
        "  print('Erro ao se conectar: ', e)"
      ]
    },
    {
      "cell_type": "code",
      "execution_count": 6,
      "metadata": {
        "id": "r2kpa1ZUwOUV"
      },
      "outputs": [],
      "source": [
        "# CRIAR O CURSOR\n",
        "\n",
        "cursor = conexao.cursor()"
      ]
    },
    {
      "cell_type": "code",
      "execution_count": 7,
      "metadata": {
        "id": "yrDVhQZhBWZ-"
      },
      "outputs": [
        {
          "data": {
            "text/plain": [
              "0"
            ]
          },
          "execution_count": 7,
          "metadata": {},
          "output_type": "execute_result"
        }
      ],
      "source": [
        "#DELETANDO TABELAS\n",
        "drop_exists_produto = 'DROP TABLE IF EXISTS produto'\n",
        "drop_exists_categoria = 'DROP TABLE IF EXISTS categoria'\n",
        "\n",
        "cursor.execute(drop_exists_produto)\n",
        "cursor.execute(drop_exists_categoria)\n"
      ]
    },
    {
      "cell_type": "code",
      "execution_count": 8,
      "metadata": {
        "id": "e8U9V5CHw8_2"
      },
      "outputs": [],
      "source": [
        "# CATEGORIA (ID_CATEGORIA, CATEGORIA)\n",
        "# PRODUTO (ID_PRODUTO, ID_CATEGORIA, PRODUTO)\n",
        "ddl_categoria = \"\"\" CREATE TABLE categoria (\n",
        "                  id_categoria int auto_increment primary key,\n",
        "                  categoria varchar(200)\n",
        "                 ) \"\"\""
      ]
    },
    {
      "cell_type": "code",
      "execution_count": 9,
      "metadata": {
        "id": "YsGJYNpQ0M2o"
      },
      "outputs": [
        {
          "data": {
            "text/plain": [
              "0"
            ]
          },
          "execution_count": 9,
          "metadata": {},
          "output_type": "execute_result"
        }
      ],
      "source": [
        "# EXECUÇÃO DE COMANDO SQL\n",
        "cursor.execute(ddl_categoria)"
      ]
    },
    {
      "cell_type": "code",
      "execution_count": 10,
      "metadata": {
        "id": "vQ532F-60hky"
      },
      "outputs": [],
      "source": [
        "# COMANDO DDL PRODUTO\n",
        "\n",
        "ddl_produto = \"\"\"  CREATE TABLE produto (\n",
        "                id_produto int auto_increment primary key,\n",
        "                id_categoria int,\n",
        "                produto varchar(200) not null,\n",
        "                foreign key (id_categoria) references categoria (id_categoria)\n",
        "              ) \"\"\"\n"
      ]
    },
    {
      "cell_type": "code",
      "execution_count": 11,
      "metadata": {
        "id": "6jJ79GTQ6oyh"
      },
      "outputs": [
        {
          "data": {
            "text/plain": [
              "0"
            ]
          },
          "execution_count": 11,
          "metadata": {},
          "output_type": "execute_result"
        }
      ],
      "source": [
        "# EXECUÇÃO DE COMANDO SQL\n",
        "cursor.execute(ddl_produto)"
      ]
    },
    {
      "cell_type": "code",
      "execution_count": 12,
      "metadata": {
        "id": "FFHjd0p27UBZ"
      },
      "outputs": [],
      "source": [
        "# INSERIR REGISTROS DE CATEGORIA\n",
        "dml_insert_categoria = \"\"\" INSERT INTO categoria (categoria) VALUES\n",
        "                            ('Limpeza'),\n",
        "                            ('Fruta')\n",
        "\"\"\""
      ]
    },
    {
      "cell_type": "code",
      "execution_count": 13,
      "metadata": {
        "id": "YuyCYa0K-BzU"
      },
      "outputs": [
        {
          "data": {
            "text/plain": [
              "2"
            ]
          },
          "execution_count": 13,
          "metadata": {},
          "output_type": "execute_result"
        }
      ],
      "source": [
        "# EXECUTAR COMANDO DML\n",
        "cursor.execute(dml_insert_categoria)"
      ]
    },
    {
      "cell_type": "code",
      "execution_count": 14,
      "metadata": {
        "id": "cEoHitVD-J_I"
      },
      "outputs": [],
      "source": [
        "#COMMIT\n",
        "conexao.commit()"
      ]
    },
    {
      "cell_type": "code",
      "execution_count": 15,
      "metadata": {
        "id": "8UlYaP6E-kXO"
      },
      "outputs": [],
      "source": [
        "# INSERIR REGISTROS DE PRODUTO\n",
        "dml_insert_produto = \"\"\" INSERT INTO produto (id_categoria, produto) VALUES\n",
        "                          (1, 'Sabão em pó'),\n",
        "                          (1, 'Papel higiênico'),\n",
        "                          (null, 'Sorvete')\n",
        "\n",
        "\"\"\""
      ]
    },
    {
      "cell_type": "code",
      "execution_count": 16,
      "metadata": {
        "id": "XowvnNfQBIFk"
      },
      "outputs": [
        {
          "data": {
            "text/plain": [
              "3"
            ]
          },
          "execution_count": 16,
          "metadata": {},
          "output_type": "execute_result"
        }
      ],
      "source": [
        "# EXECUTAR COMANDO SQL\n",
        "cursor.execute(dml_insert_produto)"
      ]
    },
    {
      "cell_type": "code",
      "execution_count": 17,
      "metadata": {
        "id": "_gpwcH3lCB6T"
      },
      "outputs": [],
      "source": [
        "# COMMIT\n",
        "conexao.commit()"
      ]
    },
    {
      "cell_type": "code",
      "execution_count": 18,
      "metadata": {
        "id": "pfaExlxJh9FV"
      },
      "outputs": [],
      "source": [
        "## CRIAR CURSOR\n",
        "\n",
        "cursor = conexao.cursor()"
      ]
    },
    {
      "cell_type": "code",
      "execution_count": 19,
      "metadata": {
        "id": "3s-7_Y06dad3"
      },
      "outputs": [],
      "source": [
        "# SOLICITAR O NOVO CADASTRO\n",
        "# INSERIR O NOVO CADASTRO NO BD\n",
        "# MOSTRAR O REGISTRO INSERIDO\n",
        "def inserir_categoria():\n",
        "  nova_categoria = input('Digite o nome da CATEGORIA que desja cadastrar: ')\n",
        "\n",
        "  sql_insert_categoria = \"insert into categoria (categoria) values ('{}')\".format(nova_categoria)\n",
        "\n",
        "  cursor.execute(sql_insert_categoria)\n",
        "  conexao.commit()\n",
        "\n",
        "  print('\\n ---------- CADASTRO EFETUADO COM SUCESSO! ----------')\n",
        "\n",
        "  df_categoria = pd.read_sql_query('select * from categoria', conexao)\n",
        "  print(df_categoria.to_markdown(index=False))\n"
      ]
    },
    {
      "cell_type": "code",
      "execution_count": 20,
      "metadata": {
        "id": "7QEJc8txpYfc"
      },
      "outputs": [],
      "source": [
        "# ID_PRODUTO, ID_CATEGORIA, PRODUTO\n",
        "# SOLICITAR O NOME DO PRODUTO\n",
        "# SOLICITAR A CATEGORIA\n",
        "# CADASTRAR O PRODUTO\n",
        "# EXIBE O PRODUTO CADASTRADO\n",
        "\n",
        "def inserir_produto():\n",
        "  novo_produto = input('Qual PRODUTO deseja cadastrar: ')\n",
        "\n",
        "  df_categoria = pd.read_sql_query('select * from categoria', conexao)\n",
        "  print(df_categoria.to_markdown(index=False))\n",
        "\n",
        "  id_categoria = input('O produto '+novo_produto+' pertence a qual categoria? Use 0 para nenhuma: ')\n",
        "\n",
        "  # verificar de id_categoria = 0\n",
        "  if int(id_categoria) == 0:\n",
        "    sql_insert_produto = f\"insert into produto (produto) values ('{novo_produto}')\"\n",
        "  else:\n",
        "    sql_insert_produto = f\"insert into produto (id_categoria, produto) values({int(id_categoria)}, '{novo_produto}')\"\n",
        "\n",
        "  cursor.execute(sql_insert_produto)\n",
        "  conexao.commit()\n",
        "\n",
        "  print('\\n ----- CADASTRO EFETUADO COM SUCESSO -----')\n",
        "\n",
        "  df_produto = pd.read_sql_query(\"\"\" select id_produto, categoria, produto\n",
        "                                     from produto p\n",
        "                                     left join categoria c on c.id_categoria = p.id_categoria \"\"\", conexao)\n",
        "  exibir_markdown(df_produto.to_markdown(index=False))\n",
        "\n",
        "\n"
      ]
    },
    {
      "cell_type": "code",
      "execution_count": 21,
      "metadata": {
        "id": "y1tstlnuyDVa"
      },
      "outputs": [],
      "source": [
        "# ALTERAR UMA CATEGORIA\n",
        "# SELECIONAR A CATEGORIA QUE SERÁ EDITADA\n",
        "# RECEBER O NOVO VALOR DA CATEGORIA\n",
        "# EDITAR A CATEGORIA\n",
        "\n",
        "def alterar_categoria():\n",
        "  df_categoria = pd.read_sql_query('select * from categoria', conexao)\n",
        "  exibir_markdown(df_categoria.to_markdown(index=False))\n",
        "\n",
        "  id_categoria = input('Digite o ID da categoria a ser editada: ')\n",
        "  valor_novo_categoria = input('Novo valor da Categoria: ')\n",
        "\n",
        "  sql_alterar_categoria = f\"\"\" update categoria\n",
        "                               set categoria = '{valor_novo_categoria}'\n",
        "                               where id_categoria = {int(id_categoria)} \"\"\"\n",
        "\n",
        "  cursor.execute(sql_alterar_categoria)\n",
        "  conexao.commit()\n",
        "\n",
        "  df_categoria = pd.read_sql_query('select * from categoria', conexao)\n",
        "  exibir_markdown(df_categoria.to_markdown(index=False))\n",
        "\n",
        "\n"
      ]
    },
    {
      "cell_type": "code",
      "execution_count": 22,
      "metadata": {
        "id": "Q31EiYZF0lhJ"
      },
      "outputs": [],
      "source": [
        "# ALTERAR PRODUTO\n",
        "# SELECIONAR PRODUTO A SER EDITADO\n",
        "# SELECIONAR A CATEGORIA REFERENTE AO PRODUTO\n",
        "# INSERIR ALTERAÇÃO COM NOVOS VALORES\n",
        "\n",
        "def alterar_produto():\n",
        "  df_produto = pd.read_sql_query(\"\"\" select id_produto, categoria, produto\n",
        "                                     from produto p\n",
        "                                     left join categoria c on c.id_categoria = p.id_categoria \"\"\", conexao)\n",
        "  exibir_markdown(df_produto.to_markdown(index=False))\n",
        "\n",
        "  # selecionando o produto a ser editado e recebendo  novo valor da descrição do produto\n",
        "  id_produto = input('Digite o ID do produto a ser editado: ')\n",
        "  valor_novo_produto = input('Qual o novo valor para DESCRIÇÃO DO PRODUTO: ')\n",
        "\n",
        "  # selecionando a categoria que o produto pertence\n",
        "  df_categoria = pd.read_sql_query('select * from categoria', conexao)\n",
        "  exibir_markdown(df_categoria.to_markdown(index=False))\n",
        "\n",
        "  valor_novo_id_categoria = input('Digite o ID da Categoria do produto '+valor_novo_produto+' (use 0 para nenhuma): ')\n",
        "\n",
        "  if int(valor_novo_id_categoria) == 0:\n",
        "    sql_alterar_produto = f\"\"\" update produto\n",
        "                               set id_categoria = null, produto = '{valor_novo_produto}'\n",
        "                               where id_produto = {int(id_produto)} \"\"\"\n",
        "  else:\n",
        "    sql_alterar_produto = f\"\"\" update produto\n",
        "                               set id_categoria = {int(valor_novo_id_categoria)},\n",
        "                                    produto = '{valor_novo_produto}'\n",
        "                              where id_produto = {int(id_produto)} \"\"\"\n",
        "\n",
        "\n",
        "  cursor.execute(sql_alterar_produto)\n",
        "  conexao.commit()\n",
        "\n",
        "\n",
        "  df_produto = pd.read_sql_query(\"\"\" select id_produto, categoria, produto\n",
        "                                     from produto p\n",
        "                                     left join categoria c on c.id_categoria = p.id_categoria \"\"\", conexao)\n",
        "  exibir_markdown(df_produto.to_markdown(index=False))\n",
        "\n",
        "\n",
        "\n",
        "\n",
        "\n"
      ]
    },
    {
      "cell_type": "code",
      "execution_count": 23,
      "metadata": {
        "colab": {
          "base_uri": "https://localhost:8080/",
          "height": 1000
        },
        "id": "Hpp2YafaDCLw",
        "outputId": "189545d8-b96c-4ccd-8ae8-3f5297616e32"
      },
      "outputs": [
        {
          "name": "stdout",
          "output_type": "stream",
          "text": [
            "ENCERRAR PROGRAMA\n"
          ]
        }
      ],
      "source": [
        "### INSERIR / ALTERAR / RECUPERAR DADOS DO MYSQL ATRAVÉS DO PYTHON\n",
        "\n",
        "cursor = conexao.cursor()\n",
        "\n",
        "while True:\n",
        "\n",
        "  opcao_menu = input(\"\"\"\n",
        "  Selecione a opção desejada:\n",
        "  1- Cadastrar Categoria\n",
        "  2- Cadastrar Produto\n",
        "  3- Alterar Categoria\n",
        "  4- Alterar Produto\n",
        "  5- Sair\n",
        "  \"\"\")\n",
        "\n",
        "  if opcao_menu == '1':\n",
        "    inserir_categoria()\n",
        "  elif opcao_menu == '2':\n",
        "    inserir_produto()\n",
        "  elif opcao_menu == '3':\n",
        "    alterar_categoria()\n",
        "  elif opcao_menu == '4':\n",
        "    alterar_produto()\n",
        "  elif opcao_menu == '5':\n",
        "    print('ENCERRAR PROGRAMA')\n",
        "    cursor.close()\n",
        "    break\n",
        "  else:\n",
        "    print('OPÇÃO INVÁLIDA')\n"
      ]
    },
    {
      "cell_type": "code",
      "execution_count": null,
      "metadata": {
        "id": "hP0eif8kfnzs"
      },
      "outputs": [],
      "source": []
    }
  ],
  "metadata": {
    "colab": {
      "provenance": []
    },
    "kernelspec": {
      "display_name": "Python 3",
      "name": "python3"
    },
    "language_info": {
      "codemirror_mode": {
        "name": "ipython",
        "version": 3
      },
      "file_extension": ".py",
      "mimetype": "text/x-python",
      "name": "python",
      "nbconvert_exporter": "python",
      "pygments_lexer": "ipython3",
      "version": "3.10.12"
    }
  },
  "nbformat": 4,
  "nbformat_minor": 0
}
