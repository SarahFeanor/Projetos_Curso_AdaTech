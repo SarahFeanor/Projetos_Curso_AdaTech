{
 "cells": [
  {
   "cell_type": "markdown",
   "id": "020d273a",
   "metadata": {},
   "source": [
    "*Enunciado: Sistema de Gerenciamento de Biblioteca*\n",
    "\n",
    "*Você foi contratado para desenvolver um Sistema de Gerenciamento de Biblioteca para uma instituição educacional. O sistema deve permitir o controle e organização dos **livros** disponíveis, **autores**, **gêneros** e **editoras**, bem como possibilitar o registro e gerenciamento dos **empréstimos** feitos por **usuários**.*"
   ]
  },
  {
   "cell_type": "markdown",
   "id": "e196fddb",
   "metadata": {},
   "source": [
    "#### NORMALIZAÇÃO DE DADOS\n",
    "\n",
    "&nbsp;\n",
    "\n",
    "**Relacionamentos e Chaves**: Ligação entre tabelas\n",
    "&nbsp;\n",
    "\n",
    "\n",
    "\n",
    "**CHAVE PRIMÁRIA (Primary Key, PK)**: Coluna com valores únicos\n",
    "\n",
    "&nbsp;\n",
    "![](img/PK.png)\n",
    "\n",
    "------------------------\n",
    "&nbsp;"
   ]
  },
  {
   "cell_type": "markdown",
   "id": "43ce9883",
   "metadata": {},
   "source": [
    "&nbsp;\n",
    "**CHAVE COMPOSTA**: Composição de 2 ou mais colunas para uma combinação única\n",
    "&nbsp;\n",
    "\n",
    "![](img/chave_composta.png)\n",
    "\n",
    "---------------------------\n",
    "&nbsp;\n",
    "\n"
   ]
  },
  {
   "cell_type": "markdown",
   "id": "dc688661",
   "metadata": {},
   "source": [
    "**CHAVE ESTRANGEIRA (Foreign Key, FK)**: Coluna que armazena a chave primária de outra tabela\n",
    "&nbsp;\n",
    "\n",
    "![](img/FK.png)\n",
    "\n",
    "------------------------------\n",
    "&nbsp;"
   ]
  },
  {
   "cell_type": "markdown",
   "id": "09067e8b",
   "metadata": {},
   "source": [
    "##### RELACIONAMENTOS"
   ]
  },
  {
   "cell_type": "markdown",
   "id": "98128263",
   "metadata": {},
   "source": [
    "**RELACIONAMENTO 1 PARA 1 (1:1)**: Para cada registro da primeira tabela existe no máximo um correspondente na segunda tabela, e vice-versa.\n",
    "\n",
    "&nbsp;\n",
    "![](img/1P1.png)\n",
    "\n",
    "---------------------\n",
    "&nbsp;"
   ]
  },
  {
   "cell_type": "markdown",
   "id": "327e0f89",
   "metadata": {},
   "source": [
    "**RELACIONAMENTO 1 PARA MUITOS (1:N)**: Para cada registro da primeira tabela pode existir um ou mais correspondentes na segunda tabela, e para cada registro na segunda tabela existe apenas um registro correspondente na primeira tabela.\n",
    "\n",
    "&nbsp;\n",
    "![](img/1pn.png)\n",
    "\n",
    "----------------\n",
    "&nbsp;"
   ]
  },
  {
   "cell_type": "markdown",
   "id": "2cff41b2",
   "metadata": {},
   "source": [
    "**RELACIONAMENTO MUITOS PARA MUITOS (N:N)**: Para cada registro da primeira tabela pode existir um ou mais correspondentes na segunda tabela, e vice-versa.\n",
    "\n",
    "&nbsp;\n",
    "![](img/npn.png)\n",
    "\n",
    "------------------\n",
    "&nbsp;\n",
    "\n"
   ]
  },
  {
   "cell_type": "markdown",
   "id": "7aec3d59",
   "metadata": {},
   "source": [
    "#### --- BOAS PRÁTICAS NO USO DE CHAVES ---\n",
    "\n",
    "- Quanto menor, melhor;\n",
    "- Transparente para o usuário.\n",
    "\n",
    "\n",
    "![](img/c1.png)\n",
    "\n",
    "------------------\n",
    "&nbsp;\n",
    "\n",
    "![](img/c2.png)\n",
    "\n",
    "&nbsp;\n",
    "\n",
    "&nbsp;"
   ]
  },
  {
   "cell_type": "markdown",
   "id": "3e24c590",
   "metadata": {},
   "source": [
    "#### --- DIAGRAMA DE MODELO DE DADOS ---\n",
    "\n",
    "**RELACIONAMENTO 1:1**\n",
    "![](img/11.png)\n",
    "\n",
    "&nbsp;\n",
    "\n",
    "-----------------------------"
   ]
  },
  {
   "cell_type": "markdown",
   "id": "6e84ccea",
   "metadata": {},
   "source": [
    "**RELACIOANMENTO 1:N**\n",
    "\n",
    "![](img/t1n.png)\n",
    "\n",
    "&nbsp;\n",
    "\n",
    "-------------------\n",
    "\n",
    "&nbsp;"
   ]
  },
  {
   "cell_type": "markdown",
   "id": "3cfb47d5",
   "metadata": {},
   "source": [
    "**RELACIONAMENTO N:N**\n",
    "\n",
    "![](img/tnn.png)\n",
    "\n",
    "&nbsp;\n",
    "\n",
    "---------------\n",
    "\n",
    "&nbsp;"
   ]
  },
  {
   "cell_type": "markdown",
   "id": "ccdb0d4f",
   "metadata": {},
   "source": [
    "#### --- ANOMALIA DOS DADOS ---\n",
    "\n",
    "**Tabelas 'faz tudo' geram anomalias**:\n",
    "- Anomalia de **Inserção**:  Impede a inclusão de registros devido à falta de dados;\n",
    "![](img/ainsercao.png)\n",
    "&nbsp;\n",
    "\n",
    "&nbsp;\n",
    "- Anomalia de **Exclusão**: Impede a exclusão de registros devido ao relacionamento com outra tabela;\n",
    "- Anomalia de **Alteração**: Impede alteração de registros devido ao relacionamento com outra tabela;\n",
    "\n",
    "&nbsp;\n",
    "\n",
    "![](img/anomalia.png)\n",
    "\n",
    "&nbsp;\n",
    "\n",
    "--------------------\n",
    "\n",
    "&nbsp;\n",
    "\n",
    "![](img/canomalia.png)\n",
    "\n",
    "&nbsp;\n",
    "\n",
    "-----------\n",
    "\n",
    "&nbsp;"
   ]
  },
  {
   "cell_type": "markdown",
   "id": "8f8b7760",
   "metadata": {},
   "source": [
    "## --- NORMALIZAÇÃO DOS DADOS ---"
   ]
  },
  {
   "cell_type": "markdown",
   "id": "a6004f3d",
   "metadata": {},
   "source": [
    "- Evitar anomalias\n",
    "- Facilitar a manutenção\n",
    "- Maximizar a performance\n",
    "- Manter a integridade dos dados\n",
    "- Normalização de dados: \n",
    "    * Criada em 1970\n",
    "    * 5 Formas Normais (FNs)\n",
    "    * Na prática a normalização é feita por intuição\n",
    "    * Resulta em um número maior de tabelas no banco\n",
    "    * Mais tabelas podem aumentar a manutenção e diminuir a performance\n",
    "    * Deve ser utilizado com bom senso"
   ]
  },
  {
   "cell_type": "markdown",
   "id": "8cf72caf",
   "metadata": {},
   "source": [
    "**PRIMEIRA FORMA NORMAL (1FN)**\n",
    "\n",
    "- Cada linha de tabela deve representar **um registro**\n",
    "- Cada célula de tabela deve conter **um único valor**"
   ]
  },
  {
   "cell_type": "markdown",
   "id": "6d878766",
   "metadata": {},
   "source": [
    "![](img/faztd.png)\n",
    "\n",
    "&nbsp;\n",
    "\n",
    "---------------\n",
    "\n",
    "&nbsp;\n",
    "\n",
    "**1FN:**\n",
    "\n",
    "![](img/1fn.png)\n",
    "\n",
    "&nbsp;\n",
    "\n",
    "-----------\n",
    "\n",
    "&nbsp;"
   ]
  },
  {
   "cell_type": "markdown",
   "id": "a2ad9b3f",
   "metadata": {},
   "source": [
    "**SEGUNDA FORMA NORMAL (2FN)**\n",
    "\n",
    "- Obrigatoriamente estar na **1FN**\n",
    "- Atributos **não chave** da tabela devem **depender** de alguma das **chaves** da tabela\n",
    "\n",
    "\n",
    "![](img/1fn1.png)\n",
    "\n",
    "&nbsp;\n",
    "\n",
    "---------------\n",
    "\n",
    "&nbsp;\n",
    "\n",
    "![](img/2fn.png)\n",
    "\n",
    "&nbsp;\n",
    "\n",
    "-----------\n",
    "\n",
    "&nbsp;"
   ]
  },
  {
   "cell_type": "markdown",
   "id": "7726fa45",
   "metadata": {},
   "source": [
    "**TERCEIRA FORMA NORMAL (3FN)**\n",
    "\n",
    "- Obrigatoriamente estar na **2FN**\n",
    "- Atributos **não chave** da tabela **depender exclusivamente** da **chave primária** da tabela\n",
    "\n",
    "\n",
    "![](img/2fn1.png)\n",
    "\n",
    "&nbsp;\n",
    "\n",
    "---------------\n",
    "\n",
    "&nbsp;\n",
    "\n",
    "**3FN:**\n",
    "![](img/3fn.png)\n",
    "\n",
    "&nbsp;\n",
    "\n",
    "-----------\n",
    "\n",
    "&nbsp;"
   ]
  },
  {
   "cell_type": "markdown",
   "id": "81a69ec7",
   "metadata": {},
   "source": [
    "**4FN e 5FN**\n",
    "\n",
    "- Separam em **novas tabelas** valores que ainda estejam **redundantes** em uma mesma coluna\n",
    "\n",
    "\n",
    "![](img/3fn1.png)\n",
    "\n",
    "&nbsp;\n",
    "\n",
    "---------------\n",
    "\n",
    "&nbsp;\n",
    "\n",
    "**4FN e 5FN:**\n",
    "![](img/45fn.png)\n",
    "\n",
    "&nbsp;\n",
    "\n",
    "-----------\n",
    "\n",
    "&nbsp;"
   ]
  },
  {
   "cell_type": "markdown",
   "id": "8c48d47b",
   "metadata": {},
   "source": [
    "**4FN:**\n",
    "\n",
    "![](img/pre4fn.png)\n",
    "\n",
    "&nbsp;\n",
    "\n",
    "---------------\n",
    "\n",
    "\n",
    "![](img/pos4fn.png)\n",
    "\n",
    "&nbsp;\n",
    "\n",
    "---------------"
   ]
  },
  {
   "cell_type": "markdown",
   "id": "6b707457",
   "metadata": {},
   "source": [
    "**5FN:**\n",
    "\n",
    "![](img/pre5fn.png)\n",
    "\n",
    "&nbsp;\n",
    "\n",
    "---------------\n",
    "\n",
    "\n",
    "![](img/pos5fn.png)\n",
    "\n",
    "&nbsp;\n",
    "\n",
    "---------------"
   ]
  },
  {
   "cell_type": "code",
   "execution_count": null,
   "id": "c4a7376d",
   "metadata": {},
   "outputs": [],
   "source": []
  }
 ],
 "metadata": {
  "kernelspec": {
   "display_name": "Python 3 (ipykernel)",
   "language": "python",
   "name": "python3"
  },
  "language_info": {
   "codemirror_mode": {
    "name": "ipython",
    "version": 3
   },
   "file_extension": ".py",
   "mimetype": "text/x-python",
   "name": "python",
   "nbconvert_exporter": "python",
   "pygments_lexer": "ipython3",
   "version": "3.8.8"
  }
 },
 "nbformat": 4,
 "nbformat_minor": 5
}
