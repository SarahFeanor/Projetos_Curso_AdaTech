{
 "cells": [
  {
   "cell_type": "code",
   "execution_count": 1,
   "metadata": {},
   "outputs": [
    {
     "name": "stdout",
     "output_type": "stream",
     "text": [
      "8bc11ad647c1f0e380d66d532daf4e08212ce73976c9468becb2fb5afa91cb1f\n"
     ]
    }
   ],
   "source": [
    "! docker run --name turminhadb -d -e MYSQL_ROOT_PASSWORD=123456 -e MYSQL_DATABASE=turminha -p 8081:3306 --rm  mysql:8.1.0"
   ]
  },
  {
   "cell_type": "code",
   "execution_count": 2,
   "metadata": {},
   "outputs": [],
   "source": [
    "! sleep 20s"
   ]
  },
  {
   "cell_type": "code",
   "execution_count": 3,
   "metadata": {},
   "outputs": [
    {
     "name": "stdout",
     "output_type": "stream",
     "text": [
      "Defaulting to user installation because normal site-packages is not writeable\n",
      "Requirement already satisfied: pymysql in /home/clara/.local/lib/python3.10/site-packages (1.1.0)\n"
     ]
    }
   ],
   "source": [
    "! pip install pymysql"
   ]
  },
  {
   "cell_type": "code",
   "execution_count": 4,
   "metadata": {},
   "outputs": [],
   "source": [
    "import pymysql"
   ]
  },
  {
   "cell_type": "code",
   "execution_count": 5,
   "metadata": {},
   "outputs": [],
   "source": [
    "def conexao():\n",
    "    try:\n",
    "        conn = pymysql.connect(\n",
    "            user='root',\n",
    "            host='127.0.0.1',\n",
    "            port=8081,\n",
    "            password='123456',\n",
    "            database = \"turminha\",\n",
    "        )\n",
    "        return conn\n",
    "    except pymysql.Error as e:\n",
    "        raise Exception('Erro ao se conectar: ' + str(e))"
   ]
  },
  {
   "cell_type": "code",
   "execution_count": 6,
   "metadata": {},
   "outputs": [],
   "source": [
    "connection = conexao()"
   ]
  },
  {
   "cell_type": "code",
   "execution_count": 7,
   "metadata": {},
   "outputs": [],
   "source": [
    "# Função para criar a tabela aluno\n",
    "def criar_tabela_aluno(connection):\n",
    "    try:\n",
    "        cursor = connection.cursor()\n",
    "        cursor.execute(\"\"\"\n",
    "            CREATE TABLE IF NOT EXISTS aluno (\n",
    "                id_aluno INT AUTO_INCREMENT PRIMARY KEY,\n",
    "                nome_aluno VARCHAR(255),\n",
    "                aluno_alocado BOOLEAN,\n",
    "                id_turma INT\n",
    "            )\n",
    "        \"\"\")\n",
    "        connection.commit()\n",
    "        print(\"Tabela aluno criada com sucesso.\")\n",
    "    except pymysql.Error as e:\n",
    "        print(\"Erro ao criar tabela aluno:\", str(e))\n",
    "\n"
   ]
  },
  {
   "cell_type": "code",
   "execution_count": 8,
   "metadata": {},
   "outputs": [],
   "source": [
    "def criar_tabela_turma(connection):\n",
    "    cursor = connection.cursor()\n",
    "\n",
    "    try:\n",
    "        cursor.execute(\"\"\"\n",
    "            CREATE TABLE IF NOT EXISTS turma (\n",
    "                id_turma INT AUTO_INCREMENT PRIMARY KEY,\n",
    "                codigo_turma VARCHAR(255),\n",
    "                nome_turma VARCHAR(255)\n",
    "            )\n",
    "        \"\"\")\n",
    "        connection.commit()\n",
    "        print(\"Tabela 'turma' criada com sucesso.\")\n",
    "    except pymysql.Error as e:\n",
    "        print('Erro ao criar tabela turma:', e)"
   ]
  },
  {
   "cell_type": "code",
   "execution_count": 9,
   "metadata": {},
   "outputs": [
    {
     "name": "stdout",
     "output_type": "stream",
     "text": [
      "Tabela aluno criada com sucesso.\n",
      "Tabela 'turma' criada com sucesso.\n"
     ]
    }
   ],
   "source": [
    "# Criar as tabelas\n",
    "criar_tabela_aluno(connection)\n",
    "criar_tabela_turma(connection)"
   ]
  },
  {
   "cell_type": "markdown",
   "metadata": {},
   "source": [
    "a) Inserir pelo menos duas turmas diferentes na tabela de turma:"
   ]
  },
  {
   "cell_type": "code",
   "execution_count": 10,
   "metadata": {},
   "outputs": [],
   "source": [
    "def inserir_turmas(connection):\n",
    "    try:\n",
    "        cursor = connection.cursor()\n",
    "        cursor.execute(\"INSERT INTO turma (codigo_turma, nome_turma) VALUES (%s, %s)\", (\"T1\", \"Manuel Bandeira\"))\n",
    "        cursor.execute(\"INSERT INTO turma (codigo_turma, nome_turma) VALUES (%s, %s)\", (\"T2\", \"Fernando Pessoa\"))\n",
    "        connection.commit()\n",
    "        print(\"Turmas inseridas com sucesso.\")\n",
    "    except pymysql.Error as e:\n",
    "        print(\"Erro ao inserir turmas:\", str(e))\n",
    "\n"
   ]
  },
  {
   "cell_type": "code",
   "execution_count": 11,
   "metadata": {},
   "outputs": [
    {
     "name": "stdout",
     "output_type": "stream",
     "text": [
      "Turmas inseridas com sucesso.\n"
     ]
    }
   ],
   "source": [
    "# Chamando a função para inserir turmas\n",
    "inserir_turmas(connection)"
   ]
  },
  {
   "cell_type": "markdown",
   "metadata": {},
   "source": [
    "b) Inserir pelo menos 1 aluno alocado em cada uma destas turmas na tabela aluno (todos com NULL na coluna aluno_alocado):"
   ]
  },
  {
   "cell_type": "code",
   "execution_count": 12,
   "metadata": {},
   "outputs": [
    {
     "name": "stdout",
     "output_type": "stream",
     "text": [
      "Alunos inseridos com sucesso.\n"
     ]
    }
   ],
   "source": [
    "# Função para inserir alunos\n",
    "def inserir_alunos(connection):\n",
    "    try:\n",
    "        cursor = connection.cursor()\n",
    "        cursor.execute(\"INSERT INTO aluno (nome_aluno, aluno_alocado, id_turma) VALUES (%s, NULL, %s)\", (\"Clara Ferreira Batista\", 1))\n",
    "        cursor.execute(\"INSERT INTO aluno (nome_aluno, aluno_alocado, id_turma) VALUES (%s, NULL, %s)\", (\"Carlos Eduardo Abade\", 2))\n",
    "        connection.commit()\n",
    "        print(\"Alunos inseridos com sucesso.\")\n",
    "    except pymysql.Error as e:\n",
    "        print(\"Erro ao inserir alunos:\", str(e))\n",
    "\n",
    "\n",
    "\n",
    "# Chamando a função para inserir alunos\n",
    "inserir_alunos(connection)\n"
   ]
  },
  {
   "cell_type": "markdown",
   "metadata": {},
   "source": [
    "c) Inserir pelo menos 2 alunos não alocados em nenhuma turma na tabela aluno (todos com NULL na coluna aluno_alocado):"
   ]
  },
  {
   "cell_type": "code",
   "execution_count": 13,
   "metadata": {},
   "outputs": [
    {
     "name": "stdout",
     "output_type": "stream",
     "text": [
      "Alunos não alocados inseridos com sucesso.\n"
     ]
    }
   ],
   "source": [
    "# Função para inserir alunos não alocados\n",
    "def inserir_alunos_nao_alocados(connection):\n",
    "    try:\n",
    "        cursor = connection.cursor()\n",
    "        cursor.execute(\"INSERT INTO aluno (nome_aluno, aluno_alocado) VALUES (%s, NULL)\", (\"Charllote Ferreira Batista\",))\n",
    "        cursor.execute(\"INSERT INTO aluno (nome_aluno, aluno_alocado) VALUES (%s, NULL)\", (\"Bruce Abade\",))\n",
    "        connection.commit()\n",
    "        print(\"Alunos não alocados inseridos com sucesso.\")\n",
    "    except pymysql.Error as e:\n",
    "        print(\"Erro ao inserir alunos não alocados:\", str(e))\n",
    "\n",
    "inserir_alunos_nao_alocados(connection)\n",
    "\n"
   ]
  },
  {
   "cell_type": "markdown",
   "metadata": {},
   "source": [
    "d) Atualizar a coluna aluno_alocado da tabela aluno:"
   ]
  },
  {
   "cell_type": "code",
   "execution_count": 14,
   "metadata": {},
   "outputs": [
    {
     "name": "stdout",
     "output_type": "stream",
     "text": [
      "Aluno 1 atualizado para alocado = True.\n",
      "Aluno 2 atualizado para alocado = True.\n",
      "Aluno 3 atualizado para alocado = False.\n",
      "Aluno 4 atualizado para alocado = False.\n"
     ]
    }
   ],
   "source": [
    "# Função para atualizar o status de aluno alocado\n",
    "def atualizar_aluno_alocado(connection, aluno_id, alocado):\n",
    "    try:\n",
    "        cursor = connection.cursor()\n",
    "        cursor.execute(\"UPDATE aluno SET aluno_alocado = %s WHERE id_aluno = %s\", (alocado, aluno_id))\n",
    "        connection.commit()\n",
    "        print(f\"Aluno {aluno_id} atualizado para alocado = {alocado}.\")\n",
    "    except pymysql.Error as e:\n",
    "        print(\"Erro ao atualizar aluno:\", str(e))\n",
    "\n",
    "# Atualizar alunos alocados\n",
    "atualizar_aluno_alocado(connection, 1, True)\n",
    "atualizar_aluno_alocado(connection, 2, True)\n",
    "\n",
    "# Atualizar alunos não alocados\n",
    "atualizar_aluno_alocado(connection, 3, False)\n",
    "atualizar_aluno_alocado(connection, 4, False)\n"
   ]
  },
  {
   "cell_type": "code",
   "execution_count": 15,
   "metadata": {},
   "outputs": [
    {
     "name": "stdout",
     "output_type": "stream",
     "text": [
      "TABELA turma:\n",
      "(1, 'T1', 'Manuel Bandeira')\n",
      "(2, 'T2', 'Fernando Pessoa')\n",
      "\n",
      "TABELA aluno:\n",
      "(1, 'Clara Ferreira Batista', 1, 1)\n",
      "(2, 'Carlos Eduardo Abade', 1, 2)\n",
      "(3, 'Charllote Ferreira Batista', 0, None)\n",
      "(4, 'Bruice Abade', 0, None)\n"
     ]
    }
   ],
   "source": [
    "def consultar_turmas_e_alunos(connection):\n",
    "    try:\n",
    "        cursor = connection.cursor()\n",
    "\n",
    "        # Consulta para buscar todas as turmas\n",
    "        cursor.execute(\"SELECT * FROM turma\")\n",
    "        turmas = cursor.fetchall()\n",
    "\n",
    "        # Consulta para buscar todos os alunos\n",
    "        cursor.execute(\"SELECT * FROM aluno\")\n",
    "        alunos = cursor.fetchall()\n",
    "\n",
    "        # Imprimir as turmas\n",
    "        print(\"TABELA turma:\")\n",
    "        for turma in turmas:\n",
    "            print(turma)\n",
    "\n",
    "        # Imprimir os alunos\n",
    "        print(\"\\nTABELA aluno:\")\n",
    "        for aluno in alunos:\n",
    "            print(aluno)\n",
    "\n",
    "    except pymysql.Error as e:\n",
    "        print(\"Erro ao consultar turmas e alunos:\", str(e))\n",
    "\n",
    "consultar_turmas_e_alunos(connection)\n"
   ]
  },
  {
   "cell_type": "code",
   "execution_count": 16,
   "metadata": {},
   "outputs": [
    {
     "name": "stdout",
     "output_type": "stream",
     "text": [
      "turminhadb\n"
     ]
    }
   ],
   "source": [
    "! docker container stop turminhadb"
   ]
  }
 ],
 "metadata": {
  "kernelspec": {
   "display_name": "Python 3",
   "language": "python",
   "name": "python3"
  },
  "language_info": {
   "codemirror_mode": {
    "name": "ipython",
    "version": 3
   },
   "file_extension": ".py",
   "mimetype": "text/x-python",
   "name": "python",
   "nbconvert_exporter": "python",
   "pygments_lexer": "ipython3",
   "version": "3.10.12"
  },
  "orig_nbformat": 4
 },
 "nbformat": 4,
 "nbformat_minor": 2
}
