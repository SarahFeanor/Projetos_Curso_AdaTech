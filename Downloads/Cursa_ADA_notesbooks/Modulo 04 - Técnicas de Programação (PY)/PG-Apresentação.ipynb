{
 "cells": [
  {
   "cell_type": "markdown",
   "metadata": {},
   "source": [
    "# Apresentação\n",
    "Apresentação dos alunos e professor\n",
    "- Nome\n",
    "- Local onde vive\n",
    "- Por que se interessou pelo curso"
   ]
  },
  {
   "cell_type": "markdown",
   "metadata": {},
   "source": [
    "# Método de aula\n",
    "- Apresentação de conteúdo (com living coding)\n",
    "- Exercícios de aula\n",
    "- Mini tarefa (para entrega até o último dia de aula)"
   ]
  },
  {
   "cell_type": "markdown",
   "metadata": {},
   "source": [
    "# Cronograma"
   ]
  },
  {
   "cell_type": "markdown",
   "metadata": {},
   "source": [
    "| **#** | **Data** | **Conceitos**                                                                                                     |\n",
    "|-------|----------|-------------------------------------------------------------------------------------------------------------------|\n",
    "| 1     | 08/01    | Apresentação e Git |\n",
    "| 2     | 10/01    | Numpy Arrays                                                                        |\n",
    "| 3     | 12/01    | Numpy matrizes                                                      |\n",
    "| 4     | 15/01    | Pandas                                                          |\n",
    "| 5     | 17/01    | Pandas (EDA)                                                                                                           |\n",
    "| 6     | 19/01    | Limpeza de Dados e Transformação de Dados                                                                                                       |\n",
    "| 7     | 22/01    | EDA e Desenvolvimento de projeto                                                                                                         |\n",
    "| 8     | 24/01    | Projeto                                                                                                         |\n",
    "| 9     | 29/01    | Empregabilidade e Avaliação por rubrica e feedback     "
   ]
  }
 ],
 "metadata": {
  "language_info": {
   "name": "python"
  }
 },
 "nbformat": 4,
 "nbformat_minor": 2
}
