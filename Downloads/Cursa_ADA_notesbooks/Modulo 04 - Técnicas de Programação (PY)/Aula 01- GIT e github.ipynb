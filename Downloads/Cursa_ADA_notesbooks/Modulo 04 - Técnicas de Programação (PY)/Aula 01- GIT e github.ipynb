{
 "cells": [
  {
   "cell_type": "markdown",
   "metadata": {},
   "source": [
    "Fonte: https://github.com/sdmuzel/DS-GERAL"
   ]
  },
  {
   "cell_type": "markdown",
   "metadata": {
    "id": "EmV4q5N_5L91"
   },
   "source": [
    "# GIT\n",
    "\n",
    "Arquivo com as principais anotações sobre o git e o github e os comandos do git bash\n",
    "\n",
    "Sumário\n",
    "\n",
    "* [O que é Git?](#um)\n",
    "* [GitHub e GitLab](#dois)\n",
    "* [Workflow do Git](#três)\n",
    "* [Inicializando um repositório](#quatro)\n",
    "* [Branches](#cinco)\n",
    "* [Links úteis](#seis)\n"
   ]
  },
  {
   "cell_type": "markdown",
   "metadata": {
    "id": "mKseBtiERlMH"
   },
   "source": [
    "## O que é Git? <a class=\"anchor\" id=\"um\"></a>\n",
    "\n",
    "O Git-SCM (Source Control Management ou Gerenciamento de controle de fonte) foi criado pelo Linus Torvalds (conhecido como o criador do Linux) em 7 de abril de 2005 com o objetivo de auxiliar no desenvolvimento do Sistema Operacional Linux através do **versionamento** do código.\n",
    "\n",
    "Versionamento de código é um *sistema de controle de versões* é uma maneira de **gerenciar mudanças em arquivos, incluindo textos e imagens**. Através do versionamento de código é possível saber sempre que uma alteração for realizada, quando, quem a fez e o porquê. E o Git tem essa funcionalidade de realizar todo este rastreamento.\n",
    "\n",
    "Hoje em dia, em geral, ninguém programa sozinho e o  git é uma ferramenta que facilita na **colaboração e distribuição de códigos**. \n",
    "\n",
    "> Git é um sistema de controle de versão distribuído com ênfase em velocidade.\n",
    "\n",
    "Basicamente o Git é um sistema de controle de versão de código descentralizado. Cada repositório Git é um nó em uma rede descentralizada e diferentes nós podem se comunicar na rede.\n",
    "\n",
    "\n",
    "![](https://user-images.githubusercontent.com/71708626/138559521-c7d9ef6d-8b14-44f7-bacd-786a7def9b7b.png)\n",
    "\n",
    "\n",
    "O git pode ser usado em servidores privados, mas no geral, os códigos são enviados para o *GitHub* ou *GitLab*, um site que hospeda os códigos e que também tem uma interface gráfica simples, que facilita a visualização de mudanças feitas por outras pessoas.\n",
    "\n",
    "\n",
    "\n",
    "\n",
    "\n",
    "\n",
    "\n"
   ]
  },
  {
   "cell_type": "markdown",
   "metadata": {
    "id": "bw7BXfnjdS2q"
   },
   "source": [
    "## Github e GitLab <a class=\"anchor\" id=\"dois\"></a>\n",
    "\n",
    " <font size=\"4\"> **Para ficar claro, Git não é Github ou GitLab** </font>\n",
    "\n",
    "\n",
    "Basicamente tanto o Github quando o Gitlab são plataformas Web que servem como um repositório de código que utiliza recursos do Git para que possamos centralizar nossos repositórios na internet, fazendo com que possamos ter um portfólio de códigos e projetos que podem ser públicos ou privados. \n",
    "\n",
    "O Github é um servidor de repositórios Git que surgiu em 2008, com gestão baseada em nuvem.\n",
    "o GitLab é similar ao GitHub, mas o GitLab permite que os desenvolvedores armazenem o código em seus próprios servidores, ao invés de servidores de terceiros e o foco que o Gitlab vem dando à integração com ferramentas de DevOps."
   ]
  },
  {
   "cell_type": "markdown",
   "metadata": {
    "id": "N2b8t3mbRlMO"
   },
   "source": [
    "### Criar conta no github ou gitlab\n",
    "Acesse o link abaixo e cadastre-se.\n",
    "\n",
    "<a href=\"https://github.com/\" target=\"_blank\">Github</a> <br>\n",
    "<a href=\"https://gitlab.com/\" target=\"_blank\">Gitlab</a>\n",
    "\n",
    "### Instalando o git\n",
    "\n",
    "O git é instalado como qualquer outro programa, seja por um instalador do Windows ou pelo package manager do linux.\n",
    "Dependendo da sua distribuição Linux você consegue instalar pelo comando `sudo apt-get install git`. \n",
    "Para windows e mac siga o <a href=\"https://git-scm.com/book/pt-br/v2/Come%C3%A7ando-Instalando-o-Git\" target=\"_blank\">tutorial</a>.\n",
    "    \n",
    "\n",
    "Depois de instalado, ele já pode ser usado em um terminal, independente do sistema operacional. <br>\n",
    "Uma das primeiras coisas a se fazer é configurar sua conta do Git, pois ele usa um nome de usuário para associar os commits a uma identidade de forma que seus commits ficam mais facil de serem identificados. Essa configuração será feita uma única vez por computador. <br>\n",
    "Para isso, é preciso executar 2 comandos a fim de configurar seu nome de usuário e endereço de e-mail:\n",
    "\n",
    "`\n",
    "git config --global user.name \"Seu Nome\"\n",
    "git config --global user.email seuemail@exemplo.com\n",
    "` <br> <br>\n",
    "o user.name não precisa ser o mesmo do github ou gitlab, mas o e-mail sim.\n",
    "\n",
    "#### Testando Suas Configurações\n",
    "`git config --list` <br><br>\n",
    "Depois disso, já podemos começar a usar o git."
   ]
  },
  {
   "cell_type": "markdown",
   "metadata": {
    "id": "xJjnw8jTRlMQ"
   },
   "source": [
    "## Workflow do Git <a class=\"anchor\" id=\"três\"></a>\n",
    "\n",
    "### Os Três Estados\n",
    "\n",
    "O Git tem três estados principais que seus arquivos podem estar: \n",
    "\n",
    "- **Modificado**: você alterou o arquivo, mas ainda não fez o commit no seu banco de dados.\n",
    "\n",
    "\n",
    "- **Preparado (staged)**: significa que você marcou a versão atual de um arquivo modificado para fazer parte de seu próximo commit.\n",
    "\n",
    "\n",
    "- **Committed**:  significa que os dados estão armazenados de forma segura em seu banco de dados local. \n",
    "\n",
    "Isso nos leva a três seções principais de um projeto Git: diretório de trabalho, área de preparo e o diretório Git.\n",
    "\n",
    "\n",
    "![](https://iagofrota.com.br/wp-content/uploads/2020/05/OS-TR%C3%8AS-EST%C3%81GIOS-DO-GIT-compressor-1024x576.png)\n",
    "\n",
    "\n",
    "\n",
    "Além dessas três áreas também temos um diretório Git armazenado em um repositório remoto.\n",
    "\n",
    "\n",
    "![](https://i.imgur.com/mWRKjlm.png)\n",
    "\n",
    "#### Estágio 1: Diretório de trabalho (working directory)\n",
    "\n",
    "O *diretório de trabalho* é um diretório onde estão todos os arquivos do projeto armazenados no seu computador. Esses arquivos são pegos do banco de dados compactado no diretório Git e colocados no disco para você usar ou modificar.\n",
    "\n",
    "#### Estágio 2: Àrea de preparo (The staging area)\n",
    "\n",
    "A *área de preparo* é um arquivo, geralmente contido em seu diretório Git, que armazena informações sobre o que vai entrar em seu próximo commit. É uma área intermediária que guarda as mudanças que serão enviadas ao repositório git local. Por vezes é referido como o “índice”, mas também é comum referir-se a ele como área de preparo (staging area). Arquivos na staging area são trackeados e geridos pelo Git\n",
    "\n",
    "#### Estágio 3: Repositório Git  (ou histórico de commit)\n",
    "Quando você inicializa um repositório Git no computador um diretório .git é criado na mesma pasta do seu projeto. Esse diretório Git é onde o Git armazena os metadados e o banco de dados de objetos de seu projeto. Esta é a parte mais importante do Git, e é o que é copiado quando você clona um repositório de outro computador. Arquivos que são commitados da staging area entram para o repositório git local e são adicionados ao commit history.\n",
    "\n",
    "> Esses três estágios citados acima representam o repositório Git local. Em outras palavras, até agora não fizemos nenhum upload de arquivo para o repositório remoto (Gitlab ou Github). É ai que entra o próximo estágio.\n",
    "\n",
    "#### Estágio 4: Repositório remoto\n",
    "\n",
    "Esse é o último estágio no workflow do Git e é nesse momento que seu código será empurrado (push) para o repositório remoto. \n",
    "\n",
    "\n",
    "\n"
   ]
  },
  {
   "cell_type": "markdown",
   "metadata": {
    "id": "QkZuWQ9htnbj"
   },
   "source": [
    "##  Inicializando um Repositório <a class=\"anchor\" id=\"quatro\"></a>\n",
    "Agora que temos um conceito inicial do workflow do Git, vamos ver como podemos começar a utilizá-lo.\n",
    "Há três formas de iniciar um repositório Git:\n",
    "\n",
    "   * **Criar um repositório em branco:** Você ainda não escreveu nenhum código ou ainda não iniciou seu projeto. dessa forma, você quer criar um projeto do zero que seja versionado pelo Git.\n",
    "   * **Adicionar o Git a um projeto existente:** Você iniciou ou finalizou um projeto, já possui códigos no seu computador e agora você quer salvá-los em um repositório remoto com o Git.\n",
    "   * **Entrar repositório remoto existente:** existe um projeto em andamento que possui um repositório remoto e você quer entrar nesse projeto clonando (cloning=downloading) o código fonte para sua máquina local.\n"
   ]
  },
  {
   "cell_type": "markdown",
   "metadata": {
    "id": "WCqENk12RlMS"
   },
   "source": [
    "\n",
    "\n",
    "### Inicializando um Repositório em um Diretório Existente\n",
    "\n",
    "Criar repositório lá no GitHub se ele não existe\n",
    "\n",
    "Na linha de comando, utilize o comando `cd` para navegar até a pasta que contém seus arquivos, ou vá até a pasta que deseja-> botão direto do mouse-> Gir bash here.\n",
    "\n",
    "Quanto estiver na pasta que deseja, digite:\n",
    "\n",
    " - `git init`: Criará um repositório git vazio -> *Isso cria um novo subdiretório chamado .git que contém todos os arquivos necessários de seu repositório – um esqueleto de repositório Git. Neste ponto, nada em seu projeto é monitorado ainda.*\n",
    "\n",
    "\n",
    "- `git status` : para verificar o status atual dos arquivos\n",
    "\n",
    "- `git add .` # adiciona todos os arquivos para a stagging area\n",
    "\n",
    "- `git status` # checar se todos os arquivos e pastas foram adicionados corretamente\n",
    "\n",
    "- `git commit -m 'descrição das mudanças que está realizando'` # para fazer o commit das suas mudanças no seu repositório Git local\n",
    "\n",
    "É importante ter uma boa desrição das mudanças que estão sendo realizadas para posteriormente poder rastrear e entender o que foi feito em cada commit.<br>\n",
    "Ex: Add função XX ou Add arquivo yyy<br><br>\n",
    "\n",
    "- `git status` # checar status\n",
    "\n",
    "- `git remote add origin https://github.com/xxxxxx`# adiciona uma origem (um repositório remoto) ao seu repositório Git local -> *Aqui você deve add o seu endereço do repositório que quer utilizar para fazer o commit*\n",
    "\n",
    "- `git remote -v` # verifica se a URL do repositório foi adicionada\n",
    "\n",
    "- `git branch -a` # para ver todas as suas branchs locais e remotas\n",
    "\n",
    "- `git branch -M main` # para criar a branch main caso a sua branch inicial seja a master\n",
    "\n",
    "- `git pull origin main --allow-unrelated-histories` # faz um git pull atualizando sua branch local e forçando o merge das histórias de commits que não  estão relacionadas entre o remoto e local. --> *O  `--allow-unrelated-histories` é utilizado apenas no primeiro pull do repositório*\n",
    "\n",
    "- `Ctrl + X` para sair\n",
    "\n",
    "- `git push origin main` # por último, envias as modificações para o repositório remoto"
   ]
  },
  {
   "cell_type": "markdown",
   "metadata": {
    "id": "P4o9xMnZRlMU"
   },
   "source": [
    "### Inicializando um Repositório em um Diretório Vazio\n",
    "\n",
    "Criar repositório *Novo_Repo* lá no GitHub se ele não existe\n",
    "\n",
    "Na linha de comando, navegue até a pasta que contém seus arquivos e digite o comando abaixo para criar um repositório com o nome Novo_repo:\n",
    "\n",
    "- `git init Novo_Repo` # para criar um repositório git vazio\n",
    "\n",
    "\n",
    "- `cd Novo_Repo` # para entrar no repositório criado\n",
    "\n",
    "- `git branch -M main` # para criar a branch main caso a sua branch inicial seja a master\n",
    "\n",
    "- `git status` # para verificar o status atual dos arquivos ->* Nesse ponto, podemos adicionar um arquivo na pasta *Novo_Repo* para enviar ao repo remoto.*\n",
    "\n",
    " -`git status` # para verificar o status atual dos arquivos\n",
    "\n",
    "- `git add .` # adiciona todos os arquivos para a stagging area\n",
    "\n",
    "- `git status` # checar se todos os arquivos e pastas foram adicionados corretamente\n",
    "\n",
    "- `git commit -m \"mensagem do commit\"` # para fazer o commit das suas mudanças no seu repositório Git local\n",
    "\n",
    "- `git status` # checar status\n",
    "\n",
    "- `git remote add origin https://github.com/NiCk_NAME/Novo_Repo.git`# adiciona uma origem (um repositório remoto) ao seu repositório Git local \n",
    "\n",
    "- `git remote -v` # verifica se a URL do repositório foi adicionada\n",
    "\n",
    "- `git pull origin main --allow-unrelated-histories` # faz um git pull atualizando sua branch local e une o histórico de commits do repositório local com o remoto. \n",
    "\n",
    "- `Ctrl + X` para sair\n",
    "\n",
    "- `git push origin main` # por último, envias as modificações para o repositório remoto"
   ]
  },
  {
   "cell_type": "markdown",
   "metadata": {
    "id": "fbXZkIIvRlMV"
   },
   "source": [
    "\n",
    "### Importando um repositório existente\n",
    "\n",
    "**Cada projeto tem seu repositório**, como é chamada a *\"pasta\"* que guarda os arquivos no servidor. *Para começar a trabalhar em qualquer repositório, precisamos importar ele no seu computador.*  <br>\n",
    "\n",
    "Há dois modos de fazer isso: usando **HTTPS** e usando **SSH**. Uma vantagem de HTTPS é que não é necessário configurar nada previamente no sistema e no perfil do GitHub. Uma desvantagem, porém, é que será necessário digitar seu usuário e senha toda vez que aplicar as mudanças locais no repositório online (`git push`). Já usando SSH, não será necessário digitar as informações de sua conta toda vez que executar `git push`, mas é preciso configurar algumas coisas no computador antes (lembrando que, provavelmente, só será necessário fazer essa configuração uma vez, e não é difícil).\n",
    "\n",
    "Para fazer o download do repositório de interesse no seu computador utilizamos o comando `git clone`. O clone simplemesmente cria uma cópia de um repositório do Github no seu computador.\n",
    "\n"
   ]
  },
  {
   "cell_type": "markdown",
   "metadata": {
    "id": "sAo8mKMN1pTT"
   },
   "source": [
    "#### Usando HTTPS\n",
    "\n",
    "   1. No terminal, navegue até a pasta em que você quer importar o repositório (ex: `cd <caminho/para/pasta>`).\n",
    "   2. `git clone <URL_do_repositório>`. Esse URL pode ser obtido indo no repositório do GitHub, e clicando em Clone or Download. Por padrão, a janela mostrada é clonar com HTTPS, mas caso esteja escrito Clone with SSH no título dessa janela, clique em Use HTTPS.\n",
    "   \n",
    "Ex: git clone https://github.com/NICK-NAME/repositório.git\n",
    "\n"
   ]
  },
  {
   "cell_type": "markdown",
   "metadata": {
    "id": "8YkiEKeT1sKC"
   },
   "source": [
    "#### Usando SSH\n",
    "\n",
    "Para usar SSH, é necessário gerar uma chave SSH (ou usar uma existente) e adicionar essa chave à sua conta no GitHub. \n",
    "\n",
    "<a href=\"https://docs.github.com/en/authentication/connecting-to-github-with-ssh\" target=\"_blank\">Esse guia</a> explica como fazer isso e testar se a configuração está correta. Feita essa configuração, o processo de clonar o repositório é basicamente o mesmo.\n",
    "\n",
    "   1. No terminal, navegue até a pasta em que você quer importar o repositório (ex: `cd <caminho/para/pasta>`).\n",
    "   2. `git clone <URL_do_repositório>`. Esse URL pode ser obtido indo no repositório no GitHub e clicando em Clone or Dowload. Em seguida, clique em Use SSH (se o título dessa janela for Clone with SSH, já está certo). O endereço mostrado é o URL do repositório necessário.\n",
    "\n",
    "No caso desse repositório, o comando seria:\n",
    "\n",
    "`git clone git@gitlab.com:NICK-NAME/repositório.git`"
   ]
  },
  {
   "cell_type": "markdown",
   "metadata": {
    "id": "N2gYdZXzRlMW"
   },
   "source": [
    "Agora que você já tem uma cópia do repositório no seu computador, já podemos começar a trabalhar com o código, fazendo as alterações que quisermos. No entanto, é sempre bom executar um `git pull` (que baixa as últimas alterações no repositório) antes de começar a trabalhar (para evitar conflitos por seu repositório estar desatualizado). Depois que tivermos feitas as mudanças e estivermos satisfeitos com o código, podemos enviá-lo para o GitHub (`git push`)."
   ]
  },
  {
   "cell_type": "markdown",
   "metadata": {
    "id": "xROz1k4GRlMX"
   },
   "source": [
    "### Resumo: Principais comandos dentro do workflow do Git\n",
    "\n",
    "Suponha que você está trabalhando dentro de um projeto que possui um repositório remoto e você precisa adicionar suas mudanças para a staging area. Para vermos essas mudanças, usamos os comandos `git status` (que mostra um resumo) ou `git diff` (que mostra as mudanças linha por linha). \n",
    "\n",
    "Para realmente **adicionarmos as mudanças no commit**, usamos o comando `git add` Com esse comando, podemos selecionar especificamente quais arquivos ou pastas queremos adicionar no commit escrevendo o nome desses arquivos após o add, ou podemos usar `git add .` ou `git add -A` para adicionar todos as modificações de uma vez. Usando o comando `git diff --cached` ou `git diff --staged`, podemos ver as mudanças feitas apenas nos arquivos que já estão na staging area, ou seja, que vão ser enviados no próximo commit.\n",
    "\n",
    "Depois disso, **para criar um commit**, usamos o comando:\n",
    "\n",
    "`git commit -m \"Essa é a mensagem do commit\"`\n",
    "\n",
    "Cada commit gera um **hash ID** ou um código que é muito imporante para **restaurar um projeto** para um determinado ponto e para realizar uma tarefa específica. **Os commits são locais, ou seja, eles são só da sua máquina**. Eles normalmente são enviados um por um para o servidor, mas você pode usá-los pra se organizar, sem enviar. \n",
    "\n",
    "Depois que você tiver feito quantos commits quiser, e achar que está pronto para enviar seu código para o GitHub, basta executar o comando `git push`. No caso de algum erro, muito provavelmente porque seu repositório local está desatualizado, teste dar um `git pull`. Caso não dê nenhum erro, o seu código já está no GitHub. <br>\n",
    "\n",
    "Em resumo, um commit fica normalmente assim:\n",
    "<br>\n",
    "\n",
    "- git pull\n",
    "- git add .\n",
    "- git commit -m \"Mensagem\"\n",
    "- git push`\n",
    "\n",
    "![](https://lh6.googleusercontent.com/R-WJ7a5pFkLZJMSC3sIV-XhFV3eMrtcHQhmERpPh3180H3U6RUGZ924KLjFqAnwfTT0txd2I6ibltRMP88GYFyFbc_utB3raxJqjNaOhj-TAfixcSBtKf_8wp0umLGdsHpZJwUC4)\n"
   ]
  },
  {
   "cell_type": "markdown",
   "metadata": {
    "id": "K5E4E2yi8aJu"
   },
   "source": [
    "## Branches <a class=\"anchor\" id=\"cinco\"></a>\n",
    "\n",
    "No git existe a possibilidade de se fazer alterações no código (e compartilhar com outros usuários), sem comprometer um código que já está funcionando. O código da *branch main* (a principal, e a única que existe por padrão) deve ser sempre estável e funcional, com testes sendo feitos em outros branches. <br>\n",
    "\n",
    "<img src= https://www.nobledesktop.com/image/gitresources/git-branches-merge.png/>"
   ]
  },
  {
   "cell_type": "markdown",
   "metadata": {
    "id": "SaZMl5S4RlMZ"
   },
   "source": [
    "\n",
    "\n",
    "### Usando branches\n",
    "\n",
    "Para criar um novo branch, primeiro execute um `git pull`, para garantir que os arquivos estão atualizados.\n",
    "\n",
    "Então, execute `git checkout -b [Nome do branch]`. O modificador `-b` serve para **criar um novo branch e entrar nele**. \n",
    "\n",
    "Agora, você está em um branch diferente do main, podendo fazer mudanças e commits sem alterar o código original. Para mandar esse branch para o GitHub e criar um branch remoto, usamos o comando `git push --set-upstream origin [Nome do branch]`. Depois da primeira vez, podemos usar o `git push` direto (desde que estejamos no branch certo).\n",
    "\n",
    "Com o comando `git branch -a` podemos **ver todos as branches, locais ou remotas**, do nosso repositório. \n",
    "\n",
    "Para **deletar um branch local**, usamos `git branch -d [Nome do branch]`. Já para **deletar um branch remoto**, usamos `git push origin :[Nome do branch]`(note os dois pontos).\n",
    "\n",
    "Para **mudar de branch**, usamos o comando `git checkout [Nome do branch]`. Tome cuidado antes de fazer isso, qualquer mudança que você tiver feito e não estiver em um commit será jogada fora. Para evitar isso, crie um commit ou use o comando `git stash` que guarda todas as mudanças em um commit temporário, que pode ser recuperado facilmente com o comando `git cherry-pick [código do commit]`, que \"pula\" o estado do repositório para um certo commit. Uma lista de modificações do repositório pode ser acessada com o comando `git reflog`, e dele, você seleciona o commit criado pelo stash.\n",
    "\n",
    "Se você estiver satisfeito com o trabalho de um branch, e quiser juntá-lo à branch main, basta voltar para a main com o comando `git checkout main` e usar o comando `git merge [Nome do branch]`. \n",
    "\n",
    "No entanto, caso a mesma parte de um mesmo arquivo tenha sido modificada nos 2 branches, o auto-merge vai falhar, e te avisar quais os arquivos problemáticos. (o mesmo pode acontecer quando você altera coisas sem antes dar pull). Nesses arquivos, ficam as duas versões diferentes daquela parte. Você pode escolher uma delas, e então usar o add e criar um commit para resolver o problema. Agora, você já pode deletar o seu branch antigo, pois tudo está na main.\n"
   ]
  },
  {
   "cell_type": "markdown",
   "metadata": {
    "id": "Z3zLztEARlMc"
   },
   "source": [
    "### Resolvendo conflitos de merge\n",
    "\n",
    "Quando você tenta dar um merge em dois branches ou dar pull nas mudanças remotas do seu repositório, o git tenta misturar as duas versões do arquivo. No entanto, se tiver alterações na mesma parte do programa nos dois arquivos, o auto-merge vai falhar, e você vai ter que resolver os problemas manualmente. O git vai te avisar quais os arquivos problemáticos, e em cada um deles vai criar uma estrutura assim:\n",
    "\n",
    "<br>\n",
    "\n",
    "![](https://user-images.githubusercontent.com/71708626/138571525-0d433f06-bdc4-4d2a-96da-cf0c82ff95fa.png)\n",
    "\n",
    "### Merge conflict\n",
    "\n",
    "A parte de cima é a que está no seu arquivo original, e a parte de baixo é a que estava no outro arquivo, seja o de um outro branch ou o que veio de um repositório remoto depois de um pull. Para resolver, você tem que escolher a versão que você quer, ou uma mistura das duas. Então, você precisa remover os marcadores do conflito (<<<<<<<, ======= e >>>>>>>). Depois de fazer isso em todos os conflitos, você precisa usar o `git add .` e o `git commit` para criar um commit com essas mudanças, e o conflito está resolvido."
   ]
  },
  {
   "cell_type": "markdown",
   "metadata": {
    "id": "ITQQa1j7RlMd"
   },
   "source": [
    "### Pull Requests (PR)\n",
    "O pull request, é o pedido para que o repositório original, ou uma branch do repositório original, faça a ação  de pull (puxar) as atualizações de uma outra branch do próprio repositório. <br>\n",
    "Em geral as branches main e dev estão protegidas e não conseguimos fazer um pull diretamente nelas. Para conseguir fazer um merge das nossas alterações com as branches principais precisamos criar um pull request. Esse PR passará pela avaliação de outras pessoas antes de ser mergeado na branch que receberá a atualização. Isso diminui a probabilidade de quebrarmos algum código com as modificaçõs que fizemos. \n"
   ]
  },
  {
   "cell_type": "markdown",
   "metadata": {
    "id": "3ytwOM4yRlMd"
   },
   "source": [
    "### Arquivos git\n",
    "* .git\n",
    "* .gitignore\n",
    "* .keep"
   ]
  },
  {
   "cell_type": "markdown",
   "metadata": {
    "id": "N3isHTv_RlMe"
   },
   "source": [
    "### Padrões\n",
    "Ao entrar em um time, verifique se há padrões nos nomes das branches ou nas mensagens dos commits"
   ]
  },
  {
   "cell_type": "markdown",
   "metadata": {
    "id": "arafud2iRlMe"
   },
   "source": [
    "# Cheat Sheet\n",
    "<br>\n",
    "<img src=https://camo.githubusercontent.com/ee02d36e241b2cd7348daed75d0eb19017ad98754c6939bf0f965eab4a3e15d2/68747470733a2f2f692e726564642e69742f3833343167363867317637792e706e67>"
   ]
  },
  {
   "cell_type": "markdown",
   "metadata": {
    "id": "ivLAUjKSRlMf"
   },
   "source": [
    "![image](https://i.imgur.com/mWRKjlm.png)"
   ]
  },
  {
   "cell_type": "markdown",
   "metadata": {
    "id": "t8Ba16mv2ujk"
   },
   "source": [
    "# Links úteis para caso de algum problema  <a class=\"anchor\" id=\"seis\"></a>\n",
    "\n",
    "1. Caso tenha que mudar o endereço HTTPS do repositório que está vinculado ao Git: \n",
    "- `git remote set-url Origin git://new.url.here`\n",
    "\n",
    "2. Caso teha que mudar o usuário vinculado ao Git\n",
    "\n",
    "- `https://stackoverflow.com/questions/47465644/github-remote-permission-denied `\n",
    "\n",
    "-  `https://stackoverflow.com/questions/17857283/permission-denied-error-on-github-push/43672761#43672761`\n"
   ]
  },
  {
   "cell_type": "markdown",
   "metadata": {
    "id": "SYj5tlErRlMf"
   },
   "source": [
    "# Referências\n",
    "<a href=\"https://git-scm.com/book/pt-br/v2/Come%C3%A7ando-Instalando-o-Git\" target=\"_blank\">Documentação</a> <br>\n",
    "\n",
    "<a href=\"https://www.sitereq.com/post/3-ways-to-create-git-local-and-remote-repositories\" > Criação de repositórios</a> <br>\n",
    "\n",
    "<a href=\"https://guilherme.readthedocs.io/en/latest/pages/tutoriais/git_github.html\">Git x Github</a> <br>\n",
    "\n",
    "Principais comandos:\n",
    "\n",
    "https://tableless.com.br/iniciando-no-git-parte-1/\n",
    "\n",
    "https://tableless.com.br/iniciando-no-git-parte-2/\n",
    "\n",
    "https://training.github.com/downloads/pt_BR/github-git-cheat-sheet/"
   ]
  },
  {
   "cell_type": "markdown",
   "metadata": {
    "id": "p7k1GaGUk_j3"
   },
   "source": [
    "# Comando mais usados \n",
    "\n",
    "\n",
    "> COMANDOS QUE USEI PARA FAZER O UPDATE E MERGE\n",
    "\n",
    "### na minha branch :\n",
    "\n",
    "- git status\n",
    "- git pull\n",
    "- git add . \n",
    "- git commit -m \"mensagem\"\n",
    "- git push\n",
    "\n",
    "\n",
    " ### linkando com a branch main:\n",
    "- git status\n",
    "- git checkout main\n",
    "- git pull\n",
    "\n",
    "- git checkout MINHA_BANCH\n",
    "- git merge main\n",
    "- git push"
   ]
  },
  {
   "cell_type": "markdown",
   "metadata": {},
   "source": [
    "## Mini tarefa"
   ]
  },
  {
   "cell_type": "markdown",
   "metadata": {},
   "source": [
    "Por meio do [link](https://forms.gle/23HHeL98fxQAx2cn8) insira o link envie a URL do seu github."
   ]
  }
 ],
 "metadata": {
  "colab": {
   "authorship_tag": "ABX9TyN33cRqUc93lnUcDrqZ5u36",
   "collapsed_sections": [],
   "name": "Git, Github e Gitlab.ipynb",
   "provenance": [],
   "toc_visible": true
  },
  "kernelspec": {
   "display_name": "Python 3 (ipykernel)",
   "language": "python",
   "name": "python3"
  },
  "language_info": {
   "codemirror_mode": {
    "name": "ipython",
    "version": 3
   },
   "file_extension": ".py",
   "mimetype": "text/x-python",
   "name": "python",
   "nbconvert_exporter": "python",
   "pygments_lexer": "ipython3",
   "version": "3.9.12"
  }
 },
 "nbformat": 4,
 "nbformat_minor": 1
}
