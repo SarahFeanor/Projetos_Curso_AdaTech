{
 "cells": [
  {
   "cell_type": "markdown",
   "id": "396e845d",
   "metadata": {},
   "source": [
    "# Numpy\n",
    "\n",
    "Hoje, vamos começara ver a biblioteca matemática mais importante pro ecossistema \n",
    "científico do Python: O Numpy."
   ]
  },
  {
   "cell_type": "markdown",
   "id": "a5994e92",
   "metadata": {},
   "source": [
    "Vamos relembrar alguns conceitos"
   ]
  },
  {
   "cell_type": "code",
   "execution_count": 1,
   "id": "df7119fb",
   "metadata": {},
   "outputs": [],
   "source": [
    "lista = [\"a\", 2, 2.4, True, [1, 3], {\"a\": 1}]"
   ]
  },
  {
   "cell_type": "code",
   "execution_count": 2,
   "id": "a2b0a0b5",
   "metadata": {},
   "outputs": [],
   "source": [
    "lista.append(\"Olá\")"
   ]
  },
  {
   "cell_type": "code",
   "execution_count": 3,
   "id": "6a9d0ef4",
   "metadata": {},
   "outputs": [
    {
     "data": {
      "text/plain": [
       "['a', 2, 2.4, True, [1, 3], {'a': 1}, 'Olá']"
      ]
     },
     "execution_count": 3,
     "metadata": {},
     "output_type": "execute_result"
    }
   ],
   "source": [
    "lista"
   ]
  },
  {
   "cell_type": "code",
   "execution_count": 4,
   "id": "255aec1a",
   "metadata": {},
   "outputs": [],
   "source": [
    "a = 42.5"
   ]
  },
  {
   "cell_type": "code",
   "execution_count": 5,
   "id": "5fd19229",
   "metadata": {},
   "outputs": [],
   "source": [
    "a = 'aaaaa'"
   ]
  },
  {
   "cell_type": "code",
   "execution_count": 6,
   "id": "fc5445f4",
   "metadata": {},
   "outputs": [
    {
     "data": {
      "text/plain": [
       "'aaaaa'"
      ]
     },
     "execution_count": 6,
     "metadata": {},
     "output_type": "execute_result"
    }
   ],
   "source": [
    "a"
   ]
  },
  {
   "cell_type": "markdown",
   "id": "f7b40eb6",
   "metadata": {},
   "source": [
    "A biblioteca **NumPy** _(Numerical Python)_ proporciona uma forma eficiente de armazenagem e processamento de conjuntos de dados, e é utilizada como base para a construção da biblioteca Pandas, que estudaremos a seguir.\n",
    "\n",
    "O diferencial do Numpy é sua velocidade e eficiência, o que faz com que ela seja amplamente utilizada para computação científica e analise de dados. \n",
    "\n",
    "A velocidade e eficiência é possível graças à estrutura chamada **numpy array**, que é um forma eficiente de guardar e manipular matrizes, que serve como base para as tabelas que iremos utilizar."
   ]
  },
  {
   "cell_type": "code",
   "execution_count": 2,
   "id": "9c2e96a9",
   "metadata": {},
   "outputs": [],
   "source": [
    "# A gente importa o numpy sempre chamando ele de \"np\"\n",
    "import numpy as np"
   ]
  },
  {
   "cell_type": "code",
   "execution_count": 8,
   "id": "e70ebe21",
   "metadata": {},
   "outputs": [
    {
     "name": "stdout",
     "output_type": "stream",
     "text": [
      "[[1, 2, 3]]\n",
      "<class 'list'>\n"
     ]
    }
   ],
   "source": [
    "# Vamos fazer uma comparação com uma lista de Python\n",
    "py_array = [[1, 2, 3]]\n",
    "\n",
    "print(py_array)\n",
    "print(type(py_array))"
   ]
  },
  {
   "cell_type": "code",
   "execution_count": 9,
   "id": "e8d181e7",
   "metadata": {},
   "outputs": [
    {
     "name": "stdout",
     "output_type": "stream",
     "text": [
      "<class 'list'>\n"
     ]
    }
   ],
   "source": [
    "# Uma lista com 2 dimensões é uma lista de listas\n",
    "print(type(py_array[0]))"
   ]
  },
  {
   "cell_type": "code",
   "execution_count": 14,
   "id": "7ab9fbe9",
   "metadata": {},
   "outputs": [
    {
     "name": "stdout",
     "output_type": "stream",
     "text": [
      "[[1 2 3]]\n",
      "<class 'numpy.ndarray'>\n",
      "int32\n"
     ]
    }
   ],
   "source": [
    "# Nota como o tipo da variável muda para \"ndarray\"\n",
    "np_array = np.array(py_array)\n",
    "\n",
    "print(np_array)\n",
    "print(type(np_array))\n",
    "print(np_array.dtype)"
   ]
  },
  {
   "cell_type": "code",
   "execution_count": 12,
   "id": "14eae9f2",
   "metadata": {},
   "outputs": [
    {
     "name": "stdout",
     "output_type": "stream",
     "text": [
      "[['1' 'a' '3']]\n",
      "<class 'numpy.ndarray'>\n"
     ]
    }
   ],
   "source": [
    "py_array_string = [[1, 'a', 3]]\n",
    "np_array_string = np.array(py_array_string)\n",
    "\n",
    "print(np_array_string)\n",
    "print(type(np_array_string))"
   ]
  },
  {
   "cell_type": "code",
   "execution_count": 13,
   "id": "3908c9a0",
   "metadata": {},
   "outputs": [
    {
     "name": "stdout",
     "output_type": "stream",
     "text": [
      "[['a' '2' '3']]\n",
      "<class 'numpy.ndarray'>\n",
      "<U11\n"
     ]
    }
   ],
   "source": [
    "py_array_string = [['a', 2, 3]]\n",
    "np_array_string = np.array(py_array_string)\n",
    "\n",
    "print(np_array_string)\n",
    "print(type(np_array_string))\n",
    "print(np_array_string.dtype)"
   ]
  },
  {
   "cell_type": "code",
   "execution_count": 15,
   "id": "5f3a07bf",
   "metadata": {},
   "outputs": [
    {
     "name": "stdout",
     "output_type": "stream",
     "text": [
      "<class 'numpy.ndarray'>\n"
     ]
    }
   ],
   "source": [
    "# Mas no  numpy, um ndarray continua sendo formado de ndarrays.\n",
    "print(type(np_array_string[0]))"
   ]
  },
  {
   "cell_type": "code",
   "execution_count": 18,
   "id": "9df0e219",
   "metadata": {},
   "outputs": [
    {
     "data": {
      "text/plain": [
       "array([[1, 2, 3]])"
      ]
     },
     "execution_count": 18,
     "metadata": {},
     "output_type": "execute_result"
    }
   ],
   "source": [
    "np_array"
   ]
  },
  {
   "cell_type": "code",
   "execution_count": 17,
   "id": "ad7087b8",
   "metadata": {},
   "outputs": [
    {
     "name": "stdout",
     "output_type": "stream",
     "text": [
      "(1, 3)\n",
      "2\n",
      "int32\n"
     ]
    }
   ],
   "source": [
    "# 3 atributos básicos pra um ndarray\n",
    "print(np_array.shape) # o formato do array\n",
    "print(np_array.ndim)  # quantidade de dimensões\n",
    "print(np_array.dtype) # o tipo de dado dos elementos do array"
   ]
  },
  {
   "cell_type": "code",
   "execution_count": 19,
   "id": "61e3d7b5",
   "metadata": {},
   "outputs": [
    {
     "name": "stdout",
     "output_type": "stream",
     "text": [
      "<class 'numpy.ndarray'>\n",
      "<U11\n"
     ]
    }
   ],
   "source": [
    "# Diferença entre o tipo array e o tipo de dado dentro do array\n",
    "print(type(np_array_string))\n",
    "print(np_array_string.dtype)"
   ]
  },
  {
   "cell_type": "code",
   "execution_count": 20,
   "id": "984f58cd",
   "metadata": {},
   "outputs": [],
   "source": [
    "# O dtype de um array do numpy pode ser controlado na hora que a gente cria.\n",
    "py_array = [1, 2, 3]\n",
    "\n",
    "array_int = np.array(py_array, dtype=np.float64)"
   ]
  },
  {
   "cell_type": "code",
   "execution_count": 21,
   "id": "23d3f5a4",
   "metadata": {},
   "outputs": [
    {
     "name": "stdout",
     "output_type": "stream",
     "text": [
      "[1. 2. 3.]\n",
      "float64\n"
     ]
    }
   ],
   "source": [
    "print(array_int)\n",
    "print(array_int.dtype)"
   ]
  },
  {
   "cell_type": "code",
   "execution_count": 28,
   "id": "eb4aacfa",
   "metadata": {},
   "outputs": [],
   "source": [
    "array_int_2 = np.array([1, 2, 3], np.float64)"
   ]
  },
  {
   "cell_type": "code",
   "execution_count": 29,
   "id": "f3f0cccd",
   "metadata": {},
   "outputs": [
    {
     "name": "stdout",
     "output_type": "stream",
     "text": [
      "[1. 2. 3.]\n",
      "float64\n"
     ]
    }
   ],
   "source": [
    "print(array_int_2)\n",
    "print(array_int_2.dtype)"
   ]
  },
  {
   "cell_type": "code",
   "execution_count": 26,
   "id": "26597647",
   "metadata": {},
   "outputs": [
    {
     "name": "stdout",
     "output_type": "stream",
     "text": [
      "[1. 2. 3.]\n",
      "float64\n"
     ]
    }
   ],
   "source": [
    "# Mas quando a gente não define, ele infere a partir dos nossos dados.\n",
    "py_array_2 = [1.0, 2, 3]\n",
    "\n",
    "array_float = np.array(py_array_2)\n",
    "\n",
    "print(array_float)\n",
    "print(array_float.dtype)"
   ]
  },
  {
   "cell_type": "code",
   "execution_count": 27,
   "id": "25019902",
   "metadata": {},
   "outputs": [
    {
     "name": "stdout",
     "output_type": "stream",
     "text": [
      "3.0\n"
     ]
    }
   ],
   "source": [
    "# Para selecionar um elemento de uma tabela no Python e no Numpy, tem uma ligeira diferença.\n",
    "print(array_float[2])"
   ]
  },
  {
   "cell_type": "markdown",
   "id": "ea6b13b7",
   "metadata": {},
   "source": [
    "**Revisando**"
   ]
  },
  {
   "cell_type": "code",
   "execution_count": 33,
   "id": "08c1bea8",
   "metadata": {},
   "outputs": [
    {
     "name": "stdout",
     "output_type": "stream",
     "text": [
      "1\n",
      "4\n",
      "9\n",
      "7\n"
     ]
    }
   ],
   "source": [
    "# No Python, existe o conceito de \"indexing\", que é pegar elementos pelo seu índice (a sua posição)\n",
    "lista = [1, 2, 3, 4, 5, 6, 7, 8, 9] \n",
    "print(lista[0])\n",
    "print(lista[3])\n",
    "print(lista[-1])\n",
    "print(lista[-3])\n",
    "\n",
    "# Obs.: Lembre-se que as posições no python sempre começam a contar do zero!"
   ]
  },
  {
   "cell_type": "code",
   "execution_count": 34,
   "id": "79573a18",
   "metadata": {},
   "outputs": [
    {
     "name": "stdout",
     "output_type": "stream",
     "text": [
      "True\n"
     ]
    }
   ],
   "source": [
    "print(lista[0]==lista[-9])"
   ]
  },
  {
   "cell_type": "code",
   "execution_count": 37,
   "id": "25ad1f32",
   "metadata": {},
   "outputs": [
    {
     "name": "stdout",
     "output_type": "stream",
     "text": [
      "[1, 2, 3, 4, 5, 6, 7, 8, 9]\n",
      "[3]\n",
      "[3, 4, 5, 6]\n"
     ]
    }
   ],
   "source": [
    "# Também existe uma forma de pegar um subconjunto da lista.\n",
    "# A gente chama isso de \"slicing\". Nota que o último elemento não entra!\n",
    "print(lista[:])\n",
    "print(lista[2:3])\n",
    "print(lista[2:-3])"
   ]
  },
  {
   "cell_type": "code",
   "execution_count": 39,
   "id": "a1e06838",
   "metadata": {},
   "outputs": [
    {
     "name": "stdout",
     "output_type": "stream",
     "text": [
      "[1, 2, 3, 4, 5, 6]\n",
      "[7, 8, 9]\n"
     ]
    }
   ],
   "source": [
    "# Podemos definir um início também pro slicing.\n",
    "# Quando não colocamos nada, ele assume que o início é 0.\n",
    "# No caso do fim, se não colocamos nada, ele assume que o fim é o último elemento.\n",
    "print(lista[:-3])\n",
    "print(lista[-3:])"
   ]
  },
  {
   "cell_type": "code",
   "execution_count": 44,
   "id": "8d08c2f9",
   "metadata": {
    "scrolled": true
   },
   "outputs": [
    {
     "name": "stdout",
     "output_type": "stream",
     "text": [
      "[1, 3, 5, 7, 9]\n",
      "[]\n",
      "[9, 8, 7]\n"
     ]
    }
   ],
   "source": [
    "# O poder do slicing é que a gente pode definir diferentes tamanhos de passo.\n",
    "print(lista[0:9:2])\n",
    "print(lista[1:5:-1])\n",
    "print(lista[-1:5:-1])"
   ]
  },
  {
   "cell_type": "code",
   "execution_count": 45,
   "id": "11e013db",
   "metadata": {},
   "outputs": [
    {
     "name": "stdout",
     "output_type": "stream",
     "text": [
      "[9, 8, 7, 6, 5, 4, 3, 2, 1]\n"
     ]
    }
   ],
   "source": [
    "# Inverter essa lista\n",
    "print(lista[::-1])"
   ]
  },
  {
   "cell_type": "markdown",
   "id": "4ed4c99b",
   "metadata": {},
   "source": [
    "Também podemos aplicar o conceito do slicing no numpy"
   ]
  },
  {
   "cell_type": "code",
   "execution_count": 49,
   "id": "c6851172",
   "metadata": {},
   "outputs": [
    {
     "name": "stdout",
     "output_type": "stream",
     "text": [
      "[1. 2. 3.]\n",
      "3.0\n",
      "[1.]\n",
      "[3. 1.]\n"
     ]
    }
   ],
   "source": [
    "print(array_int)\n",
    "print(array_int[2])\n",
    "print(array_int[:1])\n",
    "print(array_int[-1:-5:-2])"
   ]
  },
  {
   "cell_type": "markdown",
   "id": "e864132c",
   "metadata": {},
   "source": [
    "**Funções numpy**  \n",
    "O numpy também tem diversas funções para facilitar criação de arrays."
   ]
  },
  {
   "cell_type": "code",
   "execution_count": 53,
   "id": "cb47ae67",
   "metadata": {},
   "outputs": [
    {
     "name": "stdout",
     "output_type": "stream",
     "text": [
      "[0. 0. 0. 0. 0. 0. 0. 0. 0. 0.]\n",
      "[1. 1. 1. 1. 1.]\n",
      "[[1. 0. 0. 0.]\n",
      " [0. 1. 0. 0.]\n",
      " [0. 0. 1. 0.]\n",
      " [0. 0. 0. 1.]]\n",
      "[[1. 0. 0.]\n",
      " [0. 1. 0.]\n",
      " [0. 0. 1.]\n",
      " [0. 0. 0.]]\n"
     ]
    }
   ],
   "source": [
    "print(np.zeros(10))\n",
    "print(np.ones(5))\n",
    "\n",
    "# Alguns spoilers\n",
    "print(np.identity(4))\n",
    "print(np.eye(4, 3))"
   ]
  },
  {
   "cell_type": "code",
   "execution_count": 55,
   "id": "55a44241",
   "metadata": {},
   "outputs": [
    {
     "data": {
      "text/plain": [
       "[2, 4, 6, 8]"
      ]
     },
     "execution_count": 55,
     "metadata": {},
     "output_type": "execute_result"
    }
   ],
   "source": [
    "# Relembrando a função range\n",
    "list(range(2, 10, 2))"
   ]
  },
  {
   "cell_type": "code",
   "execution_count": 57,
   "id": "577f8ac5",
   "metadata": {},
   "outputs": [
    {
     "name": "stdout",
     "output_type": "stream",
     "text": [
      "[2 4 6 8]\n",
      "[10.5 15.5 20.5 25.5]\n"
     ]
    }
   ],
   "source": [
    "# Também podemos fazer listas de números.\n",
    "print(np.arange(2, 10, 2))\n",
    "print(np.arange(10.5, 30.5, 5))"
   ]
  },
  {
   "cell_type": "code",
   "execution_count": 58,
   "id": "0962af52",
   "metadata": {},
   "outputs": [
    {
     "name": "stdout",
     "output_type": "stream",
     "text": [
      "[10.         12.22222222 14.44444444 16.66666667 18.88888889 21.11111111\n",
      " 23.33333333 25.55555556 27.77777778 30.        ]\n"
     ]
    }
   ],
   "source": [
    "print(np.linspace(10, 30, 10))"
   ]
  },
  {
   "cell_type": "markdown",
   "id": "f4de84d1",
   "metadata": {},
   "source": [
    "# Operações Básicas"
   ]
  },
  {
   "cell_type": "code",
   "execution_count": 59,
   "id": "35472610",
   "metadata": {},
   "outputs": [
    {
     "name": "stdout",
     "output_type": "stream",
     "text": [
      "[0 1 2 3 4 5 6 7 8 9]\n",
      "[ 0  2  4  6  8 10 12 14 16 18]\n"
     ]
    }
   ],
   "source": [
    "# Se a força do numpy é ter tudo operando como vetores, \n",
    "# então ele tem que ter operações de vetores.\n",
    "vetor1 = np.arange(0, 10)\n",
    "vetor2 = np.arange(0, 20, 2)\n",
    "\n",
    "print(vetor1)\n",
    "print(vetor2)"
   ]
  },
  {
   "cell_type": "code",
   "execution_count": 60,
   "id": "bf86da54",
   "metadata": {},
   "outputs": [
    {
     "name": "stdout",
     "output_type": "stream",
     "text": [
      "[ 0  3  6  9 12 15 18 21 24 27]\n"
     ]
    }
   ],
   "source": [
    "# Soma por elemento\n",
    "print(vetor1 + vetor2)"
   ]
  },
  {
   "cell_type": "code",
   "execution_count": 61,
   "id": "cf606dab",
   "metadata": {},
   "outputs": [
    {
     "name": "stdout",
     "output_type": "stream",
     "text": [
      "[  0   2   8  18  32  50  72  98 128 162]\n"
     ]
    }
   ],
   "source": [
    "# Multiplicação elemento por elemento\n",
    "print(vetor1 * vetor2)"
   ]
  },
  {
   "cell_type": "code",
   "execution_count": 63,
   "id": "97971086",
   "metadata": {},
   "outputs": [
    {
     "name": "stdout",
     "output_type": "stream",
     "text": [
      "570\n",
      "570\n"
     ]
    }
   ],
   "source": [
    "# produto de matrizes (neste caso, produto escalar)\n",
    "# Isso é multiplicar elemento por elemento, e depois somar\n",
    "print((vetor1 * vetor2).sum())\n",
    "print(vetor1 @ vetor2)"
   ]
  },
  {
   "cell_type": "markdown",
   "id": "a830d605",
   "metadata": {},
   "source": [
    "## Bora praticar!"
   ]
  },
  {
   "cell_type": "markdown",
   "id": "decc3719",
   "metadata": {},
   "source": [
    "1) Inverta um vetor (o primeiro elemento vira o último). Para testar crie um vetor a partir da seguinte lista [0, 5, 1, 9, 9, 87]"
   ]
  },
  {
   "cell_type": "code",
   "execution_count": 65,
   "id": "334ec634",
   "metadata": {},
   "outputs": [
    {
     "data": {
      "text/plain": [
       "array([87,  9,  9,  1,  5,  0])"
      ]
     },
     "execution_count": 65,
     "metadata": {},
     "output_type": "execute_result"
    }
   ],
   "source": [
    "lista = [0, 5, 1, 9, 9, 87]\n",
    "np.array(lista[::-1])"
   ]
  },
  {
   "cell_type": "code",
   "execution_count": 66,
   "id": "834d0f29",
   "metadata": {},
   "outputs": [
    {
     "name": "stdout",
     "output_type": "stream",
     "text": [
      "[87  9  9  1  5  0]\n"
     ]
    }
   ],
   "source": [
    "np_array = np.array(lista)\n",
    "print(np_array[::-1])"
   ]
  },
  {
   "cell_type": "markdown",
   "id": "22f43f5a",
   "metadata": {},
   "source": [
    "2) Crie um vetor com valores que vão de 1 até 21 de dois em dois, a partir da função arange"
   ]
  },
  {
   "cell_type": "code",
   "execution_count": 67,
   "id": "8f8a862d",
   "metadata": {},
   "outputs": [
    {
     "name": "stdout",
     "output_type": "stream",
     "text": [
      "[ 1  3  5  7  9 11 13 15 17 19 21]\n"
     ]
    }
   ],
   "source": [
    "vetor_2 = np.arange(1, 22, 2)\n",
    "print(vetor_2)"
   ]
  },
  {
   "cell_type": "code",
   "execution_count": 68,
   "id": "39272482",
   "metadata": {},
   "outputs": [
    {
     "name": "stdout",
     "output_type": "stream",
     "text": [
      "[ 1  3  5  7  9 11 13 15 17 19 21]\n"
     ]
    }
   ],
   "source": [
    "print(np.arange(1, 22, 2))"
   ]
  },
  {
   "cell_type": "code",
   "execution_count": 69,
   "id": "d1435bb6",
   "metadata": {},
   "outputs": [
    {
     "name": "stdout",
     "output_type": "stream",
     "text": [
      "[ 1  2  3  4  5  6  7  8  9 10 11 12 13 14 15 16 17 18 19 20 21]\n",
      "[ 1  3  5  7  9 11 13 15 17 19 21]\n"
     ]
    }
   ],
   "source": [
    "array_1 = np.arange(1, 22, 1)\n",
    "\n",
    "print(array_1)\n",
    "print(array_1[::2])"
   ]
  },
  {
   "cell_type": "markdown",
   "id": "a13b9a8f",
   "metadata": {},
   "source": [
    "3) Ache os índices dos elementos não-zero a partir do array [1,2,0,0,4,0]"
   ]
  },
  {
   "cell_type": "code",
   "execution_count": 70,
   "id": "54173573",
   "metadata": {},
   "outputs": [
    {
     "name": "stdout",
     "output_type": "stream",
     "text": [
      "[0, 1, 4]\n"
     ]
    }
   ],
   "source": [
    "vetor = np.array([1, 2, 0, 0, 4, 0])\n",
    "\n",
    "indices = [i for i in range(len(vetor)) if vetor[i] != 0]\n",
    "print(indices)"
   ]
  },
  {
   "cell_type": "code",
   "execution_count": 83,
   "id": "7c286cb6",
   "metadata": {},
   "outputs": [
    {
     "data": {
      "text/plain": [
       "array([0, 1, 4], dtype=int64)"
      ]
     },
     "execution_count": 83,
     "metadata": {},
     "output_type": "execute_result"
    }
   ],
   "source": [
    "array = np.array([1, 2, 0, 0, 4, 0])\n",
    "indices_nao_zero = np.where(array != 0)[0]\n",
    "indices_nao_zero"
   ]
  },
  {
   "cell_type": "code",
   "execution_count": 79,
   "id": "9b641b9c",
   "metadata": {},
   "outputs": [
    {
     "data": {
      "text/plain": [
       "array([0, 1, 4], dtype=int64)"
      ]
     },
     "execution_count": 79,
     "metadata": {},
     "output_type": "execute_result"
    }
   ],
   "source": [
    "np.nonzero(vetor)[0]"
   ]
  },
  {
   "cell_type": "markdown",
   "id": "a440386d",
   "metadata": {},
   "source": [
    "E se a gente quisesse pegar os elementos diferentes de zero?"
   ]
  },
  {
   "cell_type": "code",
   "execution_count": 84,
   "id": "bed95f00",
   "metadata": {},
   "outputs": [
    {
     "name": "stdout",
     "output_type": "stream",
     "text": [
      "[1 2 4]\n"
     ]
    }
   ],
   "source": [
    "vetor_3 = np.array([1, 2, 0, 0, 4, 0])\n",
    "\n",
    "elementos_nao_zeros =[]\n",
    "for elemento in vetor_3:\n",
    "    if elemento != 0:\n",
    "        elementos_nao_zeros.append(elemento)\n",
    "print(np.array(elementos_nao_zeros))\n"
   ]
  },
  {
   "cell_type": "code",
   "execution_count": 85,
   "id": "da960c68",
   "metadata": {},
   "outputs": [
    {
     "data": {
      "text/plain": [
       "[1, 2, 4]"
      ]
     },
     "execution_count": 85,
     "metadata": {},
     "output_type": "execute_result"
    }
   ],
   "source": [
    "vetor = np.array([1, 2, 0, 0, 4, 0])\n",
    "[i for i in vetor if i != 0]"
   ]
  },
  {
   "cell_type": "code",
   "execution_count": 90,
   "id": "5c9c6a1e",
   "metadata": {},
   "outputs": [
    {
     "data": {
      "text/plain": [
       "array([1, 2, 4])"
      ]
     },
     "execution_count": 90,
     "metadata": {},
     "output_type": "execute_result"
    }
   ],
   "source": [
    "array[array != 0]"
   ]
  },
  {
   "cell_type": "markdown",
   "id": "c8badc9d",
   "metadata": {},
   "source": [
    "4) Crie uma matriz identidade 3x3"
   ]
  },
  {
   "cell_type": "code",
   "execution_count": 91,
   "id": "bb39a57e",
   "metadata": {},
   "outputs": [
    {
     "data": {
      "text/plain": [
       "array([[1., 0., 0.],\n",
       "       [0., 1., 0.],\n",
       "       [0., 0., 1.]])"
      ]
     },
     "execution_count": 91,
     "metadata": {},
     "output_type": "execute_result"
    }
   ],
   "source": [
    "np.identity(3)"
   ]
  },
  {
   "cell_type": "markdown",
   "id": "81c1b69e",
   "metadata": {},
   "source": [
    "5) Crie um array de 10 com valores aleatórios "
   ]
  },
  {
   "cell_type": "code",
   "execution_count": 92,
   "id": "412fcfb6",
   "metadata": {},
   "outputs": [
    {
     "data": {
      "text/plain": [
       "array([0.51996882, 0.94612019, 0.44717706, 0.81246741, 0.48416398,\n",
       "       0.22131857, 0.52492767, 0.04411294, 0.27473254, 0.1171691 ])"
      ]
     },
     "execution_count": 92,
     "metadata": {},
     "output_type": "execute_result"
    }
   ],
   "source": [
    "np.random.rand(10)"
   ]
  },
  {
   "cell_type": "code",
   "execution_count": 93,
   "id": "4f89e035",
   "metadata": {},
   "outputs": [
    {
     "name": "stdout",
     "output_type": "stream",
     "text": [
      "[58  6 60 69  3 33 98 70 88 52]\n"
     ]
    }
   ],
   "source": [
    "import random\n",
    "\n",
    "lista = []\n",
    "\n",
    "for i in range(10):\n",
    "    numero_aleratorio = random.randint(0, 100)\n",
    "    lista.append(numero_aleratorio)\n",
    "print(np.array(lista))"
   ]
  },
  {
   "cell_type": "markdown",
   "id": "bf75c0c6",
   "metadata": {},
   "source": [
    "6) Crie um array 100 com valores aleatórios e ache os valores máximo e mínimo"
   ]
  },
  {
   "cell_type": "code",
   "execution_count": 94,
   "id": "53880205",
   "metadata": {},
   "outputs": [
    {
     "name": "stdout",
     "output_type": "stream",
     "text": [
      "0.9986275670812909 0.0009551977771529163\n"
     ]
    }
   ],
   "source": [
    "aleatorios1 = np.random.rand(100)\n",
    "print(max(aleatorios1), min(aleatorios1))"
   ]
  },
  {
   "cell_type": "code",
   "execution_count": 98,
   "id": "3752a120",
   "metadata": {},
   "outputs": [
    {
     "name": "stdout",
     "output_type": "stream",
     "text": [
      "[68  6 66 23 95  1 94 25 30 42 78 27  8 22 32 70 31 75 53  7 98 65 48 80\n",
      " 29 92 95 78 52 62 23 14 73 49 22  3  3  9 78 14 35 43 46 59 21 20 55 96\n",
      " 48 12 83 28 99 16 56 46 22  6 56  1 41  6 82 32  1 67 58 18 60 92 38 22\n",
      " 22 10 32  6 80 77 72 48 24 99 53  8 58 11 36 97 85 49 39 83 64 63  5 19\n",
      " 11 73 85 67]\n",
      "99 1\n"
     ]
    }
   ],
   "source": [
    "array_inteiro_aleatorio = np.random.randint(1, 100, 100)\n",
    "maximo = np.max(array_inteiro_aleatorio)\n",
    "minimo = np.min(array_inteiro_aleatorio)\n",
    "print(array_inteiro_aleatorio)\n",
    "print(maximo, minimo)"
   ]
  },
  {
   "cell_type": "markdown",
   "id": "6d439722",
   "metadata": {},
   "source": [
    "7) Crie um array 2D (bidimensional) com 1 na borda e 0 dentro"
   ]
  },
  {
   "cell_type": "code",
   "execution_count": 3,
   "id": "c1305ee8",
   "metadata": {},
   "outputs": [
    {
     "data": {
      "text/plain": [
       "array([[0., 0.],\n",
       "       [0., 0.],\n",
       "       [0., 0.],\n",
       "       [0., 0.]])"
      ]
     },
     "execution_count": 3,
     "metadata": {},
     "output_type": "execute_result"
    }
   ],
   "source": [
    "np.zeros((4, 2))"
   ]
  },
  {
   "cell_type": "code",
   "execution_count": 5,
   "id": "3937ffce",
   "metadata": {},
   "outputs": [
    {
     "data": {
      "text/plain": [
       "array([[1., 1., 1., 1., 1.],\n",
       "       [1., 1., 1., 1., 1.],\n",
       "       [1., 1., 1., 1., 1.],\n",
       "       [1., 1., 1., 1., 1.],\n",
       "       [1., 1., 1., 1., 1.]])"
      ]
     },
     "execution_count": 5,
     "metadata": {},
     "output_type": "execute_result"
    }
   ],
   "source": [
    "np.ones((5,5))"
   ]
  },
  {
   "cell_type": "code",
   "execution_count": 6,
   "id": "0d0e789a",
   "metadata": {},
   "outputs": [
    {
     "name": "stdout",
     "output_type": "stream",
     "text": [
      "[[1 1 1 1 1]\n",
      " [1 0 0 0 1]\n",
      " [1 0 0 0 1]\n",
      " [1 0 0 0 1]\n",
      " [1 1 1 1 1]]\n"
     ]
    }
   ],
   "source": [
    "# Dimensões do array 2D\n",
    "linhas = 5\n",
    "colunas = 5\n",
    "\n",
    "# Crie um array 2D com 1 na borda e 0 dentro\n",
    "array_2d = np.ones((linhas, colunas), dtype=int)\n",
    "array_2d[1:-1, 1:-1] = 0\n",
    "\n",
    "# Exibição do array resultante\n",
    "print(array_2d)"
   ]
  },
  {
   "cell_type": "code",
   "execution_count": 7,
   "id": "b03f1864",
   "metadata": {},
   "outputs": [
    {
     "name": "stdout",
     "output_type": "stream",
     "text": [
      "[1, 1, 1]\n",
      "[1, 0, 1]\n",
      "[1, 1, 1]\n"
     ]
    }
   ],
   "source": [
    "colunas = 3\n",
    "linhas = 3\n",
    "\n",
    "array2d = []\n",
    "for i in range(linhas):\n",
    "    linha = []\n",
    "    for j in range(colunas):\n",
    "        if i == 0 or i == linhas-1 or j == 0 or j == colunas-1:\n",
    "            linha.append(1)\n",
    "        else:\n",
    "            linha.append(0)\n",
    "    array2d.append(linha)\n",
    "\n",
    "\n",
    "for linha in array2d:\n",
    "    print(linha)"
   ]
  },
  {
   "cell_type": "markdown",
   "id": "1da76040",
   "metadata": {},
   "source": [
    "8) Crie uma matriz 5x5 com valores 1, 2, 3, 4 logo abaixo da diagonal"
   ]
  },
  {
   "cell_type": "code",
   "execution_count": 9,
   "id": "95e65fda",
   "metadata": {},
   "outputs": [
    {
     "data": {
      "text/plain": [
       "array([[0, 0, 0, 0, 0],\n",
       "       [1, 0, 0, 0, 0],\n",
       "       [0, 2, 0, 0, 0],\n",
       "       [0, 0, 3, 0, 0],\n",
       "       [0, 0, 0, 4, 0]])"
      ]
     },
     "execution_count": 9,
     "metadata": {},
     "output_type": "execute_result"
    }
   ],
   "source": [
    "np.diag([1, 2, 3, 4], k=-1)"
   ]
  },
  {
   "cell_type": "code",
   "execution_count": 10,
   "id": "a74a2d2b",
   "metadata": {},
   "outputs": [
    {
     "name": "stdout",
     "output_type": "stream",
     "text": [
      "[[1 0 0 0 0]\n",
      " [1 2 3 4 0]\n",
      " [1 2 3 4 0]\n",
      " [1 2 3 4 0]\n",
      " [1 2 3 4 1]]\n"
     ]
    }
   ],
   "source": [
    "# Cria uma matriz identidade 5x5\n",
    "matriz = np.eye(5, dtype=int)\n",
    "\n",
    "# Adicione 1, 2, 3, 4 logo abaixo da diagonal\n",
    "matriz[1:, :-1] = np.arange(1, 5)\n",
    "\n",
    "# Exiba a matriz resultante\n",
    "print(matriz)"
   ]
  },
  {
   "cell_type": "code",
   "execution_count": 11,
   "id": "972014e3",
   "metadata": {},
   "outputs": [
    {
     "name": "stdout",
     "output_type": "stream",
     "text": [
      "[[0. 0. 0. 0. 0.]\n",
      " [1. 0. 0. 0. 0.]\n",
      " [0. 2. 0. 0. 0.]\n",
      " [0. 0. 3. 0. 0.]\n",
      " [0. 0. 0. 4. 0.]]\n"
     ]
    }
   ],
   "source": [
    "matriz = np.zeros((5, 5))\n",
    "\n",
    "for i in range(1, 5):\n",
    "    matriz[i, i - 1] = i\n",
    "\n",
    "print(matriz)"
   ]
  },
  {
   "cell_type": "markdown",
   "id": "96a07cf8",
   "metadata": {},
   "source": [
    "## Mini tarefa"
   ]
  },
  {
   "cell_type": "markdown",
   "id": "61067a54",
   "metadata": {},
   "source": [
    "Utilizando o numpy crie dois vetores a partir das listas ```lista_1 = [1, 2, 3, 4]``` e ```lista_2 = [12, 6, 0, 29]``` e calcule o produto escalar entre esses dois vetores. Responda no [link](https://forms.gle/oz5cHCfj5yQFWw6a9)."
   ]
  },
  {
   "cell_type": "code",
   "execution_count": null,
   "id": "c371497b",
   "metadata": {},
   "outputs": [],
   "source": []
  }
 ],
 "metadata": {
  "kernelspec": {
   "display_name": "Python 3 (ipykernel)",
   "language": "python",
   "name": "python3"
  },
  "language_info": {
   "codemirror_mode": {
    "name": "ipython",
    "version": 3
   },
   "file_extension": ".py",
   "mimetype": "text/x-python",
   "name": "python",
   "nbconvert_exporter": "python",
   "pygments_lexer": "ipython3",
   "version": "3.9.13"
  },
  "vscode": {
   "interpreter": {
    "hash": "7f52069df51f55474cef70a04f6de2c8e83f851022777c4983d9d0bb63ea6184"
   }
  }
 },
 "nbformat": 4,
 "nbformat_minor": 5
}
