{
 "cells": [
  {
   "cell_type": "markdown",
   "id": "f31ed5fa",
   "metadata": {},
   "source": [
    "\n",
    "# Outliers\n",
    "  \n",
    "Os outliers são dados que se diferenciam drasticamente de todos os outros. Em outras palavras, um outlier é um valor que foge da normalidade e que pode (e provavelmente irá) causar anomalias nos resultados obtidos por meio de algoritmos e sistemas de análise.\n",
    "\n",
    "Entender os outliers é fundamental em uma análise de dados por pelo menos dois aspectos:\n",
    "\n",
    "os outliers podem viesar negativamente todo o resultado de uma análise;\n",
    "o comportamento dos outliers pode ser justamente o que está sendo procurado.\n",
    "Os outliers presentes em datasets  (o que são datasets) possuem diversos outros nomes, como:\n",
    "\n",
    "- dados discrepantes;\n",
    "- pontos fora da curva; (o que é curva normal?)\n",
    "- observações fora do comum;\n",
    "- anomalias;\n",
    "- valores atípicos"
   ]
  },
  {
   "cell_type": "markdown",
   "id": "f046a971",
   "metadata": {},
   "source": [
    "Após reconhecer os dados discrepantes da sua análise, é preciso tomar certos cuidados para que a efetividade da mesma não seja comprometida. Algumas alternativas são:\n",
    "\n",
    "1) ELIMINAR O VALOR\n",
    "\n",
    "Caso seu dataset seja amplo o suficiente, é possível simplesmente excluir o valor anômalo sem causar grandes prejuízos à análise de dados.\n",
    "\n",
    "2) TRATAR SEPARADAMENTE\n",
    "\n",
    "Se a quantidade de outliers for relativamente grande, uma opção é realizar uma análise separada somente com esses dados. É possível separá-los em dois grupos e criar modelos específicos para analisá-los. Essa solução é útil para investigar casos extremos, como por exemplo casos de empresas que continuam vendendo bastante e lucrando mesmo em tempos de crise.\n",
    "\n",
    "3) TRANSFORMAÇÃO LOGARÍTMICA\n",
    "\n",
    "Transformar os dados logaritmicamente é uma técnica que pode diminuir a variação causada pelos valores extremos e anômalos.\n",
    "\n",
    "4) MÉTODOS DE CLUSTERIZAÇÃO\n",
    "\n",
    "Utilize esses métodos para achar uma aproximação que corrige e dá um novo valor aos outliers. Por exemplo, se os outliers forem causados por erros de input, ao invés de eliminar e perder uma linha inteira de registros, uma solução é usar algoritmos de clusterização. Esses algoritmos encontram o comportamento das observações mais próximas ao outlier e fazem uma interferência de qual seria o melhor valor aproximado."
   ]
  },
  {
   "cell_type": "code",
   "execution_count": 1,
   "id": "0de4eb22",
   "metadata": {},
   "outputs": [],
   "source": [
    "import pandas as pd\n",
    "import numpy as np"
   ]
  },
  {
   "cell_type": "markdown",
   "id": "7fcdc63a",
   "metadata": {},
   "source": [
    "**Bora praticar!**\n",
    "  \n",
    "Os bancos obtêm uma receita importante com empréstimos concedidos. Mas muitas vezes está associado ao risco. O mutuário pode não pagar o empréstimo. Para mitigar esse problema, os bancos decidiram usar o Machine Learning para superar esse problema. Eles coletaram dados anteriores sobre os tomadores de empréstimos e gostariam que você desenvolvesse um modelo de ML forte para classificar se algum novo devedor provavelmente entrará em default ou não.  \n",
    "  \n",
    "O conjunto de dados é enorme e consiste em vários fatores determinísticos, como renda do mutuário, gênero, finalidade do empréstimo, etc. O conjunto de dados está sujeito a uma forte multicolinearidade e valores vazios. Você pode superar esses fatores e construir um classificador forte para prever inadimplentes?  \n",
    "  \n",
    "Importe a base **Loan_Default.csv** que está em csv dentro do diretório **dados**."
   ]
  },
  {
   "cell_type": "code",
   "execution_count": 2,
   "id": "3bc7a69c",
   "metadata": {},
   "outputs": [
    {
     "data": {
      "text/html": [
       "<div>\n",
       "<style scoped>\n",
       "    .dataframe tbody tr th:only-of-type {\n",
       "        vertical-align: middle;\n",
       "    }\n",
       "\n",
       "    .dataframe tbody tr th {\n",
       "        vertical-align: top;\n",
       "    }\n",
       "\n",
       "    .dataframe thead th {\n",
       "        text-align: right;\n",
       "    }\n",
       "</style>\n",
       "<table border=\"1\" class=\"dataframe\">\n",
       "  <thead>\n",
       "    <tr style=\"text-align: right;\">\n",
       "      <th></th>\n",
       "      <th>ID</th>\n",
       "      <th>year</th>\n",
       "      <th>loan_limit</th>\n",
       "      <th>Gender</th>\n",
       "      <th>approv_in_adv</th>\n",
       "      <th>loan_type</th>\n",
       "      <th>loan_purpose</th>\n",
       "      <th>Credit_Worthiness</th>\n",
       "      <th>open_credit</th>\n",
       "      <th>business_or_commercial</th>\n",
       "      <th>...</th>\n",
       "      <th>construction_type</th>\n",
       "      <th>occupancy_type</th>\n",
       "      <th>income</th>\n",
       "      <th>credit_type</th>\n",
       "      <th>Credit_Score</th>\n",
       "      <th>age</th>\n",
       "      <th>submission_of_application</th>\n",
       "      <th>LTV</th>\n",
       "      <th>Region</th>\n",
       "      <th>Status</th>\n",
       "    </tr>\n",
       "  </thead>\n",
       "  <tbody>\n",
       "    <tr>\n",
       "      <th>0</th>\n",
       "      <td>24890</td>\n",
       "      <td>2019</td>\n",
       "      <td>cf</td>\n",
       "      <td>Sex Not Available</td>\n",
       "      <td>nopre</td>\n",
       "      <td>type1</td>\n",
       "      <td>p1</td>\n",
       "      <td>l1</td>\n",
       "      <td>nopc</td>\n",
       "      <td>nob/c</td>\n",
       "      <td>...</td>\n",
       "      <td>sb</td>\n",
       "      <td>pr</td>\n",
       "      <td>1740.0</td>\n",
       "      <td>EXP</td>\n",
       "      <td>758.0</td>\n",
       "      <td>25-34</td>\n",
       "      <td>to_inst</td>\n",
       "      <td>98.728814</td>\n",
       "      <td>south</td>\n",
       "      <td>1.0</td>\n",
       "    </tr>\n",
       "    <tr>\n",
       "      <th>1</th>\n",
       "      <td>24891</td>\n",
       "      <td>2019</td>\n",
       "      <td>cf</td>\n",
       "      <td>Male</td>\n",
       "      <td>nopre</td>\n",
       "      <td>type2</td>\n",
       "      <td>p1</td>\n",
       "      <td>l1</td>\n",
       "      <td>nopc</td>\n",
       "      <td>b/c</td>\n",
       "      <td>...</td>\n",
       "      <td>sb</td>\n",
       "      <td>pr</td>\n",
       "      <td>4980.0</td>\n",
       "      <td>EQUI</td>\n",
       "      <td>552.0</td>\n",
       "      <td>55-64</td>\n",
       "      <td>to_inst</td>\n",
       "      <td>NaN</td>\n",
       "      <td>North</td>\n",
       "      <td>1.0</td>\n",
       "    </tr>\n",
       "    <tr>\n",
       "      <th>2</th>\n",
       "      <td>24892</td>\n",
       "      <td>2019</td>\n",
       "      <td>cf</td>\n",
       "      <td>Male</td>\n",
       "      <td>pre</td>\n",
       "      <td>type1</td>\n",
       "      <td>p1</td>\n",
       "      <td>l1</td>\n",
       "      <td>nopc</td>\n",
       "      <td>nob/c</td>\n",
       "      <td>...</td>\n",
       "      <td>sb</td>\n",
       "      <td>pr</td>\n",
       "      <td>9480.0</td>\n",
       "      <td>EXP</td>\n",
       "      <td>834.0</td>\n",
       "      <td>35-44</td>\n",
       "      <td>to_inst</td>\n",
       "      <td>80.019685</td>\n",
       "      <td>south</td>\n",
       "      <td>0.0</td>\n",
       "    </tr>\n",
       "    <tr>\n",
       "      <th>3</th>\n",
       "      <td>24893</td>\n",
       "      <td>2019</td>\n",
       "      <td>cf</td>\n",
       "      <td>Male</td>\n",
       "      <td>nopre</td>\n",
       "      <td>type1</td>\n",
       "      <td>p4</td>\n",
       "      <td>l1</td>\n",
       "      <td>nopc</td>\n",
       "      <td>nob/c</td>\n",
       "      <td>...</td>\n",
       "      <td>sb</td>\n",
       "      <td>pr</td>\n",
       "      <td>11880.0</td>\n",
       "      <td>EXP</td>\n",
       "      <td>587.0</td>\n",
       "      <td>45-54</td>\n",
       "      <td>not_inst</td>\n",
       "      <td>69.376900</td>\n",
       "      <td>North</td>\n",
       "      <td>0.0</td>\n",
       "    </tr>\n",
       "    <tr>\n",
       "      <th>4</th>\n",
       "      <td>24894</td>\n",
       "      <td>2019</td>\n",
       "      <td>cf</td>\n",
       "      <td>Joint</td>\n",
       "      <td>pre</td>\n",
       "      <td>type1</td>\n",
       "      <td>p1</td>\n",
       "      <td>l1</td>\n",
       "      <td>nopc</td>\n",
       "      <td>nob/c</td>\n",
       "      <td>...</td>\n",
       "      <td>sb</td>\n",
       "      <td>pr</td>\n",
       "      <td>10440.0</td>\n",
       "      <td>CRIF</td>\n",
       "      <td>602.0</td>\n",
       "      <td>25-34</td>\n",
       "      <td>not_inst</td>\n",
       "      <td>91.886544</td>\n",
       "      <td>North</td>\n",
       "      <td>0.0</td>\n",
       "    </tr>\n",
       "  </tbody>\n",
       "</table>\n",
       "<p>5 rows × 25 columns</p>\n",
       "</div>"
      ],
      "text/plain": [
       "      ID  year loan_limit             Gender approv_in_adv loan_type  \\\n",
       "0  24890  2019         cf  Sex Not Available         nopre     type1   \n",
       "1  24891  2019         cf               Male         nopre     type2   \n",
       "2  24892  2019         cf               Male           pre     type1   \n",
       "3  24893  2019         cf               Male         nopre     type1   \n",
       "4  24894  2019         cf              Joint           pre     type1   \n",
       "\n",
       "  loan_purpose Credit_Worthiness open_credit business_or_commercial  ...  \\\n",
       "0           p1                l1        nopc                  nob/c  ...   \n",
       "1           p1                l1        nopc                    b/c  ...   \n",
       "2           p1                l1        nopc                  nob/c  ...   \n",
       "3           p4                l1        nopc                  nob/c  ...   \n",
       "4           p1                l1        nopc                  nob/c  ...   \n",
       "\n",
       "   construction_type  occupancy_type   income credit_type  Credit_Score  \\\n",
       "0                 sb              pr   1740.0         EXP         758.0   \n",
       "1                 sb              pr   4980.0        EQUI         552.0   \n",
       "2                 sb              pr   9480.0         EXP         834.0   \n",
       "3                 sb              pr  11880.0         EXP         587.0   \n",
       "4                 sb              pr  10440.0        CRIF         602.0   \n",
       "\n",
       "     age submission_of_application        LTV Region  Status  \n",
       "0  25-34                   to_inst  98.728814  south     1.0  \n",
       "1  55-64                   to_inst        NaN  North     1.0  \n",
       "2  35-44                   to_inst  80.019685  south     0.0  \n",
       "3  45-54                  not_inst  69.376900  North     0.0  \n",
       "4  25-34                  not_inst  91.886544  North     0.0  \n",
       "\n",
       "[5 rows x 25 columns]"
      ]
     },
     "execution_count": 2,
     "metadata": {},
     "output_type": "execute_result"
    }
   ],
   "source": [
    "df_loan = pd.read_csv('./dados/Loan_Default.csv')\n",
    "df_loan.head()"
   ]
  },
  {
   "cell_type": "code",
   "execution_count": 3,
   "id": "b38d3627",
   "metadata": {},
   "outputs": [
    {
     "data": {
      "text/plain": [
       "(117044, 25)"
      ]
     },
     "execution_count": 3,
     "metadata": {},
     "output_type": "execute_result"
    }
   ],
   "source": [
    "df_loan.shape"
   ]
  },
  {
   "cell_type": "code",
   "execution_count": 4,
   "id": "5f7ae475",
   "metadata": {},
   "outputs": [
    {
     "data": {
      "text/plain": [
       "Index(['ID', 'year', 'loan_limit', 'Gender', 'approv_in_adv', 'loan_type',\n",
       "       'loan_purpose', 'Credit_Worthiness', 'open_credit',\n",
       "       'business_or_commercial', 'loan_amount', 'rate_of_interest',\n",
       "       'interest_only', 'lump_sum_payment', 'property_value',\n",
       "       'construction_type', 'occupancy_type', 'income', 'credit_type',\n",
       "       'Credit_Score', 'age', 'submission_of_application', 'LTV', 'Region',\n",
       "       'Status'],\n",
       "      dtype='object')"
      ]
     },
     "execution_count": 4,
     "metadata": {},
     "output_type": "execute_result"
    }
   ],
   "source": [
    "df_loan.columns"
   ]
  },
  {
   "cell_type": "code",
   "execution_count": 5,
   "id": "a9ec3bc8",
   "metadata": {},
   "outputs": [
    {
     "name": "stdout",
     "output_type": "stream",
     "text": [
      "<class 'pandas.core.frame.DataFrame'>\n",
      "RangeIndex: 117044 entries, 0 to 117043\n",
      "Data columns (total 25 columns):\n",
      " #   Column                     Non-Null Count   Dtype  \n",
      "---  ------                     --------------   -----  \n",
      " 0   ID                         117044 non-null  int64  \n",
      " 1   year                       117044 non-null  int64  \n",
      " 2   loan_limit                 114428 non-null  object \n",
      " 3   Gender                     117044 non-null  object \n",
      " 4   approv_in_adv              116313 non-null  object \n",
      " 5   loan_type                  117044 non-null  object \n",
      " 6   loan_purpose               116940 non-null  object \n",
      " 7   Credit_Worthiness          117044 non-null  object \n",
      " 8   open_credit                117044 non-null  object \n",
      " 9   business_or_commercial     117044 non-null  object \n",
      " 10  loan_amount                117044 non-null  int64  \n",
      " 11  rate_of_interest           88391 non-null   float64\n",
      " 12  interest_only              117043 non-null  object \n",
      " 13  lump_sum_payment           117043 non-null  object \n",
      " 14  property_value             105218 non-null  float64\n",
      " 15  construction_type          117043 non-null  object \n",
      " 16  occupancy_type             117043 non-null  object \n",
      " 17  income                     109879 non-null  float64\n",
      " 18  credit_type                117043 non-null  object \n",
      " 19  Credit_Score               117043 non-null  float64\n",
      " 20  age                        116884 non-null  object \n",
      " 21  submission_of_application  116884 non-null  object \n",
      " 22  LTV                        105218 non-null  float64\n",
      " 23  Region                     117043 non-null  object \n",
      " 24  Status                     117043 non-null  float64\n",
      "dtypes: float64(6), int64(3), object(16)\n",
      "memory usage: 22.3+ MB\n"
     ]
    }
   ],
   "source": [
    "df_loan.info()"
   ]
  },
  {
   "cell_type": "code",
   "execution_count": 6,
   "id": "66b98b86",
   "metadata": {},
   "outputs": [
    {
     "data": {
      "text/html": [
       "<div>\n",
       "<style scoped>\n",
       "    .dataframe tbody tr th:only-of-type {\n",
       "        vertical-align: middle;\n",
       "    }\n",
       "\n",
       "    .dataframe tbody tr th {\n",
       "        vertical-align: top;\n",
       "    }\n",
       "\n",
       "    .dataframe thead th {\n",
       "        text-align: right;\n",
       "    }\n",
       "</style>\n",
       "<table border=\"1\" class=\"dataframe\">\n",
       "  <thead>\n",
       "    <tr style=\"text-align: right;\">\n",
       "      <th></th>\n",
       "      <th>ID</th>\n",
       "      <th>year</th>\n",
       "      <th>loan_amount</th>\n",
       "      <th>rate_of_interest</th>\n",
       "      <th>property_value</th>\n",
       "      <th>income</th>\n",
       "      <th>Credit_Score</th>\n",
       "      <th>LTV</th>\n",
       "      <th>Status</th>\n",
       "    </tr>\n",
       "  </thead>\n",
       "  <tbody>\n",
       "    <tr>\n",
       "      <th>count</th>\n",
       "      <td>117044.000000</td>\n",
       "      <td>117044.0</td>\n",
       "      <td>1.170440e+05</td>\n",
       "      <td>88391.000000</td>\n",
       "      <td>1.052180e+05</td>\n",
       "      <td>109879.000000</td>\n",
       "      <td>117043.000000</td>\n",
       "      <td>105218.000000</td>\n",
       "      <td>117043.000000</td>\n",
       "    </tr>\n",
       "    <tr>\n",
       "      <th>mean</th>\n",
       "      <td>83411.500000</td>\n",
       "      <td>2019.0</td>\n",
       "      <td>3.307953e+05</td>\n",
       "      <td>4.045446</td>\n",
       "      <td>4.975552e+05</td>\n",
       "      <td>6952.177759</td>\n",
       "      <td>699.859129</td>\n",
       "      <td>72.808342</td>\n",
       "      <td>0.246157</td>\n",
       "    </tr>\n",
       "    <tr>\n",
       "      <th>std</th>\n",
       "      <td>33787.836791</td>\n",
       "      <td>0.0</td>\n",
       "      <td>1.836386e+05</td>\n",
       "      <td>0.561351</td>\n",
       "      <td>3.619082e+05</td>\n",
       "      <td>6547.280574</td>\n",
       "      <td>115.942163</td>\n",
       "      <td>43.390083</td>\n",
       "      <td>0.430773</td>\n",
       "    </tr>\n",
       "    <tr>\n",
       "      <th>min</th>\n",
       "      <td>24890.000000</td>\n",
       "      <td>2019.0</td>\n",
       "      <td>6.060000e+02</td>\n",
       "      <td>0.000000</td>\n",
       "      <td>8.000000e+03</td>\n",
       "      <td>0.000000</td>\n",
       "      <td>500.000000</td>\n",
       "      <td>0.967478</td>\n",
       "      <td>0.000000</td>\n",
       "    </tr>\n",
       "    <tr>\n",
       "      <th>25%</th>\n",
       "      <td>54150.750000</td>\n",
       "      <td>2019.0</td>\n",
       "      <td>1.965000e+05</td>\n",
       "      <td>3.625000</td>\n",
       "      <td>2.680000e+05</td>\n",
       "      <td>3720.000000</td>\n",
       "      <td>599.000000</td>\n",
       "      <td>60.474860</td>\n",
       "      <td>0.000000</td>\n",
       "    </tr>\n",
       "    <tr>\n",
       "      <th>50%</th>\n",
       "      <td>83411.500000</td>\n",
       "      <td>2019.0</td>\n",
       "      <td>2.965000e+05</td>\n",
       "      <td>3.990000</td>\n",
       "      <td>4.180000e+05</td>\n",
       "      <td>5700.000000</td>\n",
       "      <td>699.000000</td>\n",
       "      <td>75.152439</td>\n",
       "      <td>0.000000</td>\n",
       "    </tr>\n",
       "    <tr>\n",
       "      <th>75%</th>\n",
       "      <td>112672.250000</td>\n",
       "      <td>2019.0</td>\n",
       "      <td>4.365000e+05</td>\n",
       "      <td>4.375000</td>\n",
       "      <td>6.180000e+05</td>\n",
       "      <td>8520.000000</td>\n",
       "      <td>801.000000</td>\n",
       "      <td>86.369193</td>\n",
       "      <td>0.000000</td>\n",
       "    </tr>\n",
       "    <tr>\n",
       "      <th>max</th>\n",
       "      <td>141933.000000</td>\n",
       "      <td>2019.0</td>\n",
       "      <td>3.576500e+06</td>\n",
       "      <td>8.000000</td>\n",
       "      <td>1.650800e+07</td>\n",
       "      <td>578580.000000</td>\n",
       "      <td>900.000000</td>\n",
       "      <td>7831.250000</td>\n",
       "      <td>1.000000</td>\n",
       "    </tr>\n",
       "  </tbody>\n",
       "</table>\n",
       "</div>"
      ],
      "text/plain": [
       "                  ID      year   loan_amount  rate_of_interest  \\\n",
       "count  117044.000000  117044.0  1.170440e+05      88391.000000   \n",
       "mean    83411.500000    2019.0  3.307953e+05          4.045446   \n",
       "std     33787.836791       0.0  1.836386e+05          0.561351   \n",
       "min     24890.000000    2019.0  6.060000e+02          0.000000   \n",
       "25%     54150.750000    2019.0  1.965000e+05          3.625000   \n",
       "50%     83411.500000    2019.0  2.965000e+05          3.990000   \n",
       "75%    112672.250000    2019.0  4.365000e+05          4.375000   \n",
       "max    141933.000000    2019.0  3.576500e+06          8.000000   \n",
       "\n",
       "       property_value         income   Credit_Score            LTV  \\\n",
       "count    1.052180e+05  109879.000000  117043.000000  105218.000000   \n",
       "mean     4.975552e+05    6952.177759     699.859129      72.808342   \n",
       "std      3.619082e+05    6547.280574     115.942163      43.390083   \n",
       "min      8.000000e+03       0.000000     500.000000       0.967478   \n",
       "25%      2.680000e+05    3720.000000     599.000000      60.474860   \n",
       "50%      4.180000e+05    5700.000000     699.000000      75.152439   \n",
       "75%      6.180000e+05    8520.000000     801.000000      86.369193   \n",
       "max      1.650800e+07  578580.000000     900.000000    7831.250000   \n",
       "\n",
       "              Status  \n",
       "count  117043.000000  \n",
       "mean        0.246157  \n",
       "std         0.430773  \n",
       "min         0.000000  \n",
       "25%         0.000000  \n",
       "50%         0.000000  \n",
       "75%         0.000000  \n",
       "max         1.000000  "
      ]
     },
     "execution_count": 6,
     "metadata": {},
     "output_type": "execute_result"
    }
   ],
   "source": [
    "df_loan.describe()"
   ]
  },
  {
   "cell_type": "markdown",
   "id": "5fda49d3",
   "metadata": {},
   "source": [
    "missing values"
   ]
  },
  {
   "cell_type": "code",
   "execution_count": 10,
   "id": "3f5fc6ed",
   "metadata": {},
   "outputs": [
    {
     "data": {
      "text/plain": [
       "ID                            0.000000\n",
       "year                          0.000000\n",
       "loan_limit                    2.235057\n",
       "Gender                        0.000000\n",
       "approv_in_adv                 0.624551\n",
       "loan_type                     0.000000\n",
       "loan_purpose                  0.088855\n",
       "Credit_Worthiness             0.000000\n",
       "open_credit                   0.000000\n",
       "business_or_commercial        0.000000\n",
       "loan_amount                   0.000000\n",
       "rate_of_interest             24.480537\n",
       "interest_only                 0.000854\n",
       "lump_sum_payment              0.000854\n",
       "property_value               10.103893\n",
       "construction_type             0.000854\n",
       "occupancy_type                0.000854\n",
       "income                        6.121629\n",
       "credit_type                   0.000854\n",
       "Credit_Score                  0.000854\n",
       "age                           0.136701\n",
       "submission_of_application     0.136701\n",
       "LTV                          10.103893\n",
       "Region                        0.000854\n",
       "Status                        0.000854\n",
       "dtype: float64"
      ]
     },
     "execution_count": 10,
     "metadata": {},
     "output_type": "execute_result"
    }
   ],
   "source": [
    "(df_loan.isnull().sum() / len(df_loan))*100"
   ]
  },
  {
   "cell_type": "markdown",
   "id": "6e32ab6b",
   "metadata": {},
   "source": [
    "### Identificando os outliers\n",
    "\n",
    "Uma forma de identificar estatisticamente os outliers é utilizando o **boxplot**.\n",
    "\n",
    "Os box-plot, assim como os histogramas, são gráficos estatísticos que permitem analisar uma distribuição dos dados, mas com uma representação diferente. Apesar de muito utilizados por estatísticos e cientistas de dados, a maioria das pessoas que não estão acostumadas a eles, têm dificuldade em interpretá-los. \n",
    "\n",
    "A representação do box-plot se baseia em medidas de quartis: uma caixinha central é desenhada ligando o primeiro (Q1) e terceiro (Q3) quartis (25% e 75%, respectivamente), e uma reta corta essa 'caixa' no quartil central (Q2 = 50%). Na parte inferior e superior do gráfico, é traçada uma reta de tamanho máximo 1.5xIQ, em que IQ = Q3-Q1. Essa reta é traçada até o último valor da variável que ainda esteja dentro desse limite. Observações acima ou abaixo dele, são representadas por bolinhas, e muito chamadas de 'outliers' (valor atípico). Abaixo, uma representação dos componentes de um box-plot, e um gráfico exibindo box-plots das distribuições de temperaturas de diferentes cidades.  \n",
    "\n",
    "<p align='center'> \n",
    "<img src=\"./images/boxplot2.png\" alt=\"Drawing\" style=\"width: 500px;\"/>\n",
    "</p>"
   ]
  },
  {
   "cell_type": "code",
   "execution_count": 12,
   "id": "6c890f95",
   "metadata": {},
   "outputs": [
    {
     "data": {
      "text/html": [
       "<div>\n",
       "<style scoped>\n",
       "    .dataframe tbody tr th:only-of-type {\n",
       "        vertical-align: middle;\n",
       "    }\n",
       "\n",
       "    .dataframe tbody tr th {\n",
       "        vertical-align: top;\n",
       "    }\n",
       "\n",
       "    .dataframe thead th {\n",
       "        text-align: right;\n",
       "    }\n",
       "</style>\n",
       "<table border=\"1\" class=\"dataframe\">\n",
       "  <thead>\n",
       "    <tr style=\"text-align: right;\">\n",
       "      <th></th>\n",
       "      <th>Credit_Score</th>\n",
       "    </tr>\n",
       "  </thead>\n",
       "  <tbody>\n",
       "    <tr>\n",
       "      <th>count</th>\n",
       "      <td>117043.000000</td>\n",
       "    </tr>\n",
       "    <tr>\n",
       "      <th>mean</th>\n",
       "      <td>699.859129</td>\n",
       "    </tr>\n",
       "    <tr>\n",
       "      <th>std</th>\n",
       "      <td>115.942163</td>\n",
       "    </tr>\n",
       "    <tr>\n",
       "      <th>min</th>\n",
       "      <td>500.000000</td>\n",
       "    </tr>\n",
       "    <tr>\n",
       "      <th>25%</th>\n",
       "      <td>599.000000</td>\n",
       "    </tr>\n",
       "    <tr>\n",
       "      <th>50%</th>\n",
       "      <td>699.000000</td>\n",
       "    </tr>\n",
       "    <tr>\n",
       "      <th>75%</th>\n",
       "      <td>801.000000</td>\n",
       "    </tr>\n",
       "    <tr>\n",
       "      <th>max</th>\n",
       "      <td>900.000000</td>\n",
       "    </tr>\n",
       "  </tbody>\n",
       "</table>\n",
       "</div>"
      ],
      "text/plain": [
       "        Credit_Score\n",
       "count  117043.000000\n",
       "mean      699.859129\n",
       "std       115.942163\n",
       "min       500.000000\n",
       "25%       599.000000\n",
       "50%       699.000000\n",
       "75%       801.000000\n",
       "max       900.000000"
      ]
     },
     "execution_count": 12,
     "metadata": {},
     "output_type": "execute_result"
    }
   ],
   "source": [
    "df_loan[['Credit_Score']].describe()"
   ]
  },
  {
   "cell_type": "code",
   "execution_count": 13,
   "id": "a710a546",
   "metadata": {},
   "outputs": [
    {
     "data": {
      "text/plain": [
       "<AxesSubplot:>"
      ]
     },
     "execution_count": 13,
     "metadata": {},
     "output_type": "execute_result"
    },
    {
     "data": {
      "image/png": "[encoded data removed]",
      "text/plain": [
       "<Figure size 640x480 with 1 Axes>"
      ]
     },
     "metadata": {},
     "output_type": "display_data"
    }
   ],
   "source": [
    "df_loan[['Credit_Score']].plot(kind='box')"
   ]
  },
  {
   "cell_type": "code",
   "execution_count": 16,
   "id": "7770c546",
   "metadata": {
    "scrolled": true
   },
   "outputs": [
    {
     "data": {
      "image/png": "[encoded data removed]",
      "text/plain": [
       "<Figure size 640x480 with 1 Axes>"
      ]
     },
     "metadata": {},
     "output_type": "display_data"
    }
   ],
   "source": [
    "df_loan[['income']].plot(kind='box');"
   ]
  },
  {
   "cell_type": "markdown",
   "id": "b6e5590f",
   "metadata": {},
   "source": [
    "Vamos analisar nossa variável de interesse **Status**"
   ]
  },
  {
   "cell_type": "code",
   "execution_count": 17,
   "id": "001d6ad7",
   "metadata": {},
   "outputs": [
    {
     "data": {
      "text/plain": [
       "0.0    88232\n",
       "1.0    28811\n",
       "Name: Status, dtype: int64"
      ]
     },
     "execution_count": 17,
     "metadata": {},
     "output_type": "execute_result"
    }
   ],
   "source": [
    "df_loan['Status'].value_counts()"
   ]
  },
  {
   "cell_type": "code",
   "execution_count": 18,
   "id": "7a631bcc",
   "metadata": {},
   "outputs": [
    {
     "data": {
      "text/plain": [
       "0.0    0.753843\n",
       "1.0    0.246157\n",
       "Name: Status, dtype: float64"
      ]
     },
     "execution_count": 18,
     "metadata": {},
     "output_type": "execute_result"
    }
   ],
   "source": [
    "df_loan['Status'].value_counts(normalize=True)"
   ]
  },
  {
   "cell_type": "code",
   "execution_count": 20,
   "id": "700c6d37",
   "metadata": {},
   "outputs": [
    {
     "data": {
      "text/plain": [
       "0.24615739514537394"
      ]
     },
     "execution_count": 20,
     "metadata": {},
     "output_type": "execute_result"
    }
   ],
   "source": [
    "df_loan['Status'].mean()"
   ]
  },
  {
   "cell_type": "code",
   "execution_count": 23,
   "id": "f2de2de9",
   "metadata": {},
   "outputs": [
    {
     "data": {
      "text/plain": [
       "45-54    27371\n",
       "35-44    25847\n",
       "55-64    25569\n",
       "65-74    16281\n",
       "25-34    15117\n",
       ">74       5663\n",
       "<25       1036\n",
       "Name: age, dtype: int64"
      ]
     },
     "execution_count": 23,
     "metadata": {},
     "output_type": "execute_result"
    }
   ],
   "source": [
    "df_loan['age'].value_counts()"
   ]
  },
  {
   "cell_type": "code",
   "execution_count": 24,
   "id": "fb5c609d",
   "metadata": {},
   "outputs": [
    {
     "data": {
      "text/plain": [
       "CIB     37959\n",
       "CRIF    34535\n",
       "EXP     32563\n",
       "EQUI    11986\n",
       "Name: credit_type, dtype: int64"
      ]
     },
     "execution_count": 24,
     "metadata": {},
     "output_type": "execute_result"
    }
   ],
   "source": [
    "df_loan['credit_type'].value_counts()"
   ]
  },
  {
   "cell_type": "code",
   "execution_count": 25,
   "id": "d7e2f410",
   "metadata": {},
   "outputs": [
    {
     "data": {
      "text/plain": [
       "array(['EXP', 'EQUI', 'CRIF', 'CIB', nan], dtype=object)"
      ]
     },
     "execution_count": 25,
     "metadata": {},
     "output_type": "execute_result"
    }
   ],
   "source": [
    "df_loan['credit_type'].unique()"
   ]
  },
  {
   "cell_type": "markdown",
   "id": "a447c806",
   "metadata": {},
   "source": [
    "Agora podemos verificar as relações das variáveis presentes no dataset com a nossa variável de interesse."
   ]
  },
  {
   "cell_type": "code",
   "execution_count": 26,
   "id": "29ba332f",
   "metadata": {},
   "outputs": [
    {
     "data": {
      "text/html": [
       "<div>\n",
       "<style scoped>\n",
       "    .dataframe tbody tr th:only-of-type {\n",
       "        vertical-align: middle;\n",
       "    }\n",
       "\n",
       "    .dataframe tbody tr th {\n",
       "        vertical-align: top;\n",
       "    }\n",
       "\n",
       "    .dataframe thead th {\n",
       "        text-align: right;\n",
       "    }\n",
       "</style>\n",
       "<table border=\"1\" class=\"dataframe\">\n",
       "  <thead>\n",
       "    <tr style=\"text-align: right;\">\n",
       "      <th></th>\n",
       "      <th>Status</th>\n",
       "    </tr>\n",
       "    <tr>\n",
       "      <th>credit_type</th>\n",
       "      <th></th>\n",
       "    </tr>\n",
       "  </thead>\n",
       "  <tbody>\n",
       "    <tr>\n",
       "      <th>CIB</th>\n",
       "      <td>0.158539</td>\n",
       "    </tr>\n",
       "    <tr>\n",
       "      <th>CRIF</th>\n",
       "      <td>0.162791</td>\n",
       "    </tr>\n",
       "    <tr>\n",
       "      <th>EQUI</th>\n",
       "      <td>0.999917</td>\n",
       "    </tr>\n",
       "    <tr>\n",
       "      <th>EXP</th>\n",
       "      <td>0.159261</td>\n",
       "    </tr>\n",
       "  </tbody>\n",
       "</table>\n",
       "</div>"
      ],
      "text/plain": [
       "               Status\n",
       "credit_type          \n",
       "CIB          0.158539\n",
       "CRIF         0.162791\n",
       "EQUI         0.999917\n",
       "EXP          0.159261"
      ]
     },
     "execution_count": 26,
     "metadata": {},
     "output_type": "execute_result"
    }
   ],
   "source": [
    "df_loan.pivot_table(index='credit_type', values='Status', aggfunc='mean')"
   ]
  },
  {
   "cell_type": "code",
   "execution_count": 27,
   "id": "b447e68f",
   "metadata": {},
   "outputs": [
    {
     "data": {
      "text/html": [
       "<div>\n",
       "<style scoped>\n",
       "    .dataframe tbody tr th:only-of-type {\n",
       "        vertical-align: middle;\n",
       "    }\n",
       "\n",
       "    .dataframe tbody tr th {\n",
       "        vertical-align: top;\n",
       "    }\n",
       "\n",
       "    .dataframe thead th {\n",
       "        text-align: right;\n",
       "    }\n",
       "</style>\n",
       "<table border=\"1\" class=\"dataframe\">\n",
       "  <thead>\n",
       "    <tr style=\"text-align: right;\">\n",
       "      <th></th>\n",
       "      <th>Status</th>\n",
       "    </tr>\n",
       "    <tr>\n",
       "      <th>Region</th>\n",
       "      <th></th>\n",
       "    </tr>\n",
       "  </thead>\n",
       "  <tbody>\n",
       "    <tr>\n",
       "      <th>North</th>\n",
       "      <td>0.223902</td>\n",
       "    </tr>\n",
       "    <tr>\n",
       "      <th>North-East</th>\n",
       "      <td>0.305296</td>\n",
       "    </tr>\n",
       "    <tr>\n",
       "      <th>central</th>\n",
       "      <td>0.276260</td>\n",
       "    </tr>\n",
       "    <tr>\n",
       "      <th>south</th>\n",
       "      <td>0.266903</td>\n",
       "    </tr>\n",
       "  </tbody>\n",
       "</table>\n",
       "</div>"
      ],
      "text/plain": [
       "              Status\n",
       "Region              \n",
       "North       0.223902\n",
       "North-East  0.305296\n",
       "central     0.276260\n",
       "south       0.266903"
      ]
     },
     "execution_count": 27,
     "metadata": {},
     "output_type": "execute_result"
    }
   ],
   "source": [
    "df_loan.pivot_table(index='Region', values='Status', aggfunc='mean')"
   ]
  },
  {
   "cell_type": "code",
   "execution_count": 29,
   "id": "beefc3cc",
   "metadata": {},
   "outputs": [
    {
     "data": {
      "text/html": [
       "<div>\n",
       "<style scoped>\n",
       "    .dataframe tbody tr th:only-of-type {\n",
       "        vertical-align: middle;\n",
       "    }\n",
       "\n",
       "    .dataframe tbody tr th {\n",
       "        vertical-align: top;\n",
       "    }\n",
       "\n",
       "    .dataframe thead th {\n",
       "        text-align: right;\n",
       "    }\n",
       "</style>\n",
       "<table border=\"1\" class=\"dataframe\">\n",
       "  <thead>\n",
       "    <tr style=\"text-align: right;\">\n",
       "      <th></th>\n",
       "      <th>Status</th>\n",
       "    </tr>\n",
       "    <tr>\n",
       "      <th>age</th>\n",
       "      <th></th>\n",
       "    </tr>\n",
       "  </thead>\n",
       "  <tbody>\n",
       "    <tr>\n",
       "      <th>25-34</th>\n",
       "      <td>0.222068</td>\n",
       "    </tr>\n",
       "    <tr>\n",
       "      <th>35-44</th>\n",
       "      <td>0.221805</td>\n",
       "    </tr>\n",
       "    <tr>\n",
       "      <th>45-54</th>\n",
       "      <td>0.240656</td>\n",
       "    </tr>\n",
       "    <tr>\n",
       "      <th>55-64</th>\n",
       "      <td>0.258125</td>\n",
       "    </tr>\n",
       "    <tr>\n",
       "      <th>65-74</th>\n",
       "      <td>0.268780</td>\n",
       "    </tr>\n",
       "    <tr>\n",
       "      <th>&lt;25</th>\n",
       "      <td>0.291506</td>\n",
       "    </tr>\n",
       "    <tr>\n",
       "      <th>&gt;74</th>\n",
       "      <td>0.299664</td>\n",
       "    </tr>\n",
       "  </tbody>\n",
       "</table>\n",
       "</div>"
      ],
      "text/plain": [
       "         Status\n",
       "age            \n",
       "25-34  0.222068\n",
       "35-44  0.221805\n",
       "45-54  0.240656\n",
       "55-64  0.258125\n",
       "65-74  0.268780\n",
       "<25    0.291506\n",
       ">74    0.299664"
      ]
     },
     "execution_count": 29,
     "metadata": {},
     "output_type": "execute_result"
    }
   ],
   "source": [
    "df_loan.pivot_table(index='age', values='Status', aggfunc='mean')"
   ]
  },
  {
   "cell_type": "code",
   "execution_count": 30,
   "id": "207de00d",
   "metadata": {},
   "outputs": [
    {
     "data": {
      "text/html": [
       "<div>\n",
       "<style scoped>\n",
       "    .dataframe tbody tr th:only-of-type {\n",
       "        vertical-align: middle;\n",
       "    }\n",
       "\n",
       "    .dataframe tbody tr th {\n",
       "        vertical-align: top;\n",
       "    }\n",
       "\n",
       "    .dataframe thead th {\n",
       "        text-align: right;\n",
       "    }\n",
       "</style>\n",
       "<table border=\"1\" class=\"dataframe\">\n",
       "  <thead>\n",
       "    <tr style=\"text-align: right;\">\n",
       "      <th>credit_type</th>\n",
       "      <th>CIB</th>\n",
       "      <th>CRIF</th>\n",
       "      <th>EQUI</th>\n",
       "      <th>EXP</th>\n",
       "    </tr>\n",
       "    <tr>\n",
       "      <th>age</th>\n",
       "      <th></th>\n",
       "      <th></th>\n",
       "      <th></th>\n",
       "      <th></th>\n",
       "    </tr>\n",
       "  </thead>\n",
       "  <tbody>\n",
       "    <tr>\n",
       "      <th>25-34</th>\n",
       "      <td>0.140685</td>\n",
       "      <td>0.139584</td>\n",
       "      <td>1.000000</td>\n",
       "      <td>0.132067</td>\n",
       "    </tr>\n",
       "    <tr>\n",
       "      <th>35-44</th>\n",
       "      <td>0.133107</td>\n",
       "      <td>0.143454</td>\n",
       "      <td>0.999601</td>\n",
       "      <td>0.139235</td>\n",
       "    </tr>\n",
       "    <tr>\n",
       "      <th>45-54</th>\n",
       "      <td>0.157912</td>\n",
       "      <td>0.167046</td>\n",
       "      <td>1.000000</td>\n",
       "      <td>0.157669</td>\n",
       "    </tr>\n",
       "    <tr>\n",
       "      <th>55-64</th>\n",
       "      <td>0.171146</td>\n",
       "      <td>0.179521</td>\n",
       "      <td>1.000000</td>\n",
       "      <td>0.179321</td>\n",
       "    </tr>\n",
       "    <tr>\n",
       "      <th>65-74</th>\n",
       "      <td>0.177193</td>\n",
       "      <td>0.170124</td>\n",
       "      <td>1.000000</td>\n",
       "      <td>0.178993</td>\n",
       "    </tr>\n",
       "    <tr>\n",
       "      <th>&lt;25</th>\n",
       "      <td>0.204893</td>\n",
       "      <td>0.221239</td>\n",
       "      <td>1.000000</td>\n",
       "      <td>0.176471</td>\n",
       "    </tr>\n",
       "    <tr>\n",
       "      <th>&gt;74</th>\n",
       "      <td>0.210012</td>\n",
       "      <td>0.185386</td>\n",
       "      <td>1.000000</td>\n",
       "      <td>0.185864</td>\n",
       "    </tr>\n",
       "  </tbody>\n",
       "</table>\n",
       "</div>"
      ],
      "text/plain": [
       "credit_type       CIB      CRIF      EQUI       EXP\n",
       "age                                                \n",
       "25-34        0.140685  0.139584  1.000000  0.132067\n",
       "35-44        0.133107  0.143454  0.999601  0.139235\n",
       "45-54        0.157912  0.167046  1.000000  0.157669\n",
       "55-64        0.171146  0.179521  1.000000  0.179321\n",
       "65-74        0.177193  0.170124  1.000000  0.178993\n",
       "<25          0.204893  0.221239  1.000000  0.176471\n",
       ">74          0.210012  0.185386  1.000000  0.185864"
      ]
     },
     "execution_count": 30,
     "metadata": {},
     "output_type": "execute_result"
    }
   ],
   "source": [
    "df_loan.pivot_table(index='age', columns='credit_type' ,values='Status', aggfunc='mean')"
   ]
  },
  {
   "cell_type": "code",
   "execution_count": 31,
   "id": "f264a594",
   "metadata": {},
   "outputs": [
    {
     "data": {
      "text/html": [
       "<div>\n",
       "<style scoped>\n",
       "    .dataframe tbody tr th:only-of-type {\n",
       "        vertical-align: middle;\n",
       "    }\n",
       "\n",
       "    .dataframe tbody tr th {\n",
       "        vertical-align: top;\n",
       "    }\n",
       "\n",
       "    .dataframe thead th {\n",
       "        text-align: right;\n",
       "    }\n",
       "</style>\n",
       "<table border=\"1\" class=\"dataframe\">\n",
       "  <thead>\n",
       "    <tr style=\"text-align: right;\">\n",
       "      <th></th>\n",
       "      <th>ID</th>\n",
       "      <th>year</th>\n",
       "      <th>loan_amount</th>\n",
       "      <th>rate_of_interest</th>\n",
       "      <th>property_value</th>\n",
       "      <th>income</th>\n",
       "      <th>Credit_Score</th>\n",
       "      <th>LTV</th>\n",
       "      <th>Status</th>\n",
       "    </tr>\n",
       "  </thead>\n",
       "  <tbody>\n",
       "    <tr>\n",
       "      <th>ID</th>\n",
       "      <td>1.000000</td>\n",
       "      <td>NaN</td>\n",
       "      <td>-0.005252</td>\n",
       "      <td>0.000577</td>\n",
       "      <td>-0.000840</td>\n",
       "      <td>0.001887</td>\n",
       "      <td>-0.000766</td>\n",
       "      <td>-0.005568</td>\n",
       "      <td>0.001626</td>\n",
       "    </tr>\n",
       "    <tr>\n",
       "      <th>year</th>\n",
       "      <td>NaN</td>\n",
       "      <td>NaN</td>\n",
       "      <td>NaN</td>\n",
       "      <td>NaN</td>\n",
       "      <td>NaN</td>\n",
       "      <td>NaN</td>\n",
       "      <td>NaN</td>\n",
       "      <td>NaN</td>\n",
       "      <td>NaN</td>\n",
       "    </tr>\n",
       "    <tr>\n",
       "      <th>loan_amount</th>\n",
       "      <td>-0.005252</td>\n",
       "      <td>NaN</td>\n",
       "      <td>1.000000</td>\n",
       "      <td>-0.151755</td>\n",
       "      <td>0.730958</td>\n",
       "      <td>0.454937</td>\n",
       "      <td>0.004136</td>\n",
       "      <td>0.036887</td>\n",
       "      <td>-0.035785</td>\n",
       "    </tr>\n",
       "    <tr>\n",
       "      <th>rate_of_interest</th>\n",
       "      <td>0.000577</td>\n",
       "      <td>NaN</td>\n",
       "      <td>-0.151755</td>\n",
       "      <td>1.000000</td>\n",
       "      <td>-0.125196</td>\n",
       "      <td>-0.042804</td>\n",
       "      <td>-0.001647</td>\n",
       "      <td>0.000369</td>\n",
       "      <td>0.021857</td>\n",
       "    </tr>\n",
       "    <tr>\n",
       "      <th>property_value</th>\n",
       "      <td>-0.000840</td>\n",
       "      <td>NaN</td>\n",
       "      <td>0.730958</td>\n",
       "      <td>-0.125196</td>\n",
       "      <td>1.000000</td>\n",
       "      <td>0.413022</td>\n",
       "      <td>0.002474</td>\n",
       "      <td>-0.199328</td>\n",
       "      <td>-0.046881</td>\n",
       "    </tr>\n",
       "    <tr>\n",
       "      <th>income</th>\n",
       "      <td>0.001887</td>\n",
       "      <td>NaN</td>\n",
       "      <td>0.454937</td>\n",
       "      <td>-0.042804</td>\n",
       "      <td>0.413022</td>\n",
       "      <td>1.000000</td>\n",
       "      <td>0.000367</td>\n",
       "      <td>-0.066805</td>\n",
       "      <td>-0.063128</td>\n",
       "    </tr>\n",
       "    <tr>\n",
       "      <th>Credit_Score</th>\n",
       "      <td>-0.000766</td>\n",
       "      <td>NaN</td>\n",
       "      <td>0.004136</td>\n",
       "      <td>-0.001647</td>\n",
       "      <td>0.002474</td>\n",
       "      <td>0.000367</td>\n",
       "      <td>1.000000</td>\n",
       "      <td>-0.006280</td>\n",
       "      <td>0.005494</td>\n",
       "    </tr>\n",
       "    <tr>\n",
       "      <th>LTV</th>\n",
       "      <td>-0.005568</td>\n",
       "      <td>NaN</td>\n",
       "      <td>0.036887</td>\n",
       "      <td>0.000369</td>\n",
       "      <td>-0.199328</td>\n",
       "      <td>-0.066805</td>\n",
       "      <td>-0.006280</td>\n",
       "      <td>1.000000</td>\n",
       "      <td>0.035755</td>\n",
       "    </tr>\n",
       "    <tr>\n",
       "      <th>Status</th>\n",
       "      <td>0.001626</td>\n",
       "      <td>NaN</td>\n",
       "      <td>-0.035785</td>\n",
       "      <td>0.021857</td>\n",
       "      <td>-0.046881</td>\n",
       "      <td>-0.063128</td>\n",
       "      <td>0.005494</td>\n",
       "      <td>0.035755</td>\n",
       "      <td>1.000000</td>\n",
       "    </tr>\n",
       "  </tbody>\n",
       "</table>\n",
       "</div>"
      ],
      "text/plain": [
       "                        ID  year  loan_amount  rate_of_interest  \\\n",
       "ID                1.000000   NaN    -0.005252          0.000577   \n",
       "year                   NaN   NaN          NaN               NaN   \n",
       "loan_amount      -0.005252   NaN     1.000000         -0.151755   \n",
       "rate_of_interest  0.000577   NaN    -0.151755          1.000000   \n",
       "property_value   -0.000840   NaN     0.730958         -0.125196   \n",
       "income            0.001887   NaN     0.454937         -0.042804   \n",
       "Credit_Score     -0.000766   NaN     0.004136         -0.001647   \n",
       "LTV              -0.005568   NaN     0.036887          0.000369   \n",
       "Status            0.001626   NaN    -0.035785          0.021857   \n",
       "\n",
       "                  property_value    income  Credit_Score       LTV    Status  \n",
       "ID                     -0.000840  0.001887     -0.000766 -0.005568  0.001626  \n",
       "year                         NaN       NaN           NaN       NaN       NaN  \n",
       "loan_amount             0.730958  0.454937      0.004136  0.036887 -0.035785  \n",
       "rate_of_interest       -0.125196 -0.042804     -0.001647  0.000369  0.021857  \n",
       "property_value          1.000000  0.413022      0.002474 -0.199328 -0.046881  \n",
       "income                  0.413022  1.000000      0.000367 -0.066805 -0.063128  \n",
       "Credit_Score            0.002474  0.000367      1.000000 -0.006280  0.005494  \n",
       "LTV                    -0.199328 -0.066805     -0.006280  1.000000  0.035755  \n",
       "Status                 -0.046881 -0.063128      0.005494  0.035755  1.000000  "
      ]
     },
     "execution_count": 31,
     "metadata": {},
     "output_type": "execute_result"
    }
   ],
   "source": [
    "df_loan.corr()"
   ]
  }
 ],
 "metadata": {
  "kernelspec": {
   "display_name": "Python 3 (ipykernel)",
   "language": "python",
   "name": "python3"
  },
  "language_info": {
   "codemirror_mode": {
    "name": "ipython",
    "version": 3
   },
   "file_extension": ".py",
   "mimetype": "text/x-python",
   "name": "python",
   "nbconvert_exporter": "python",
   "pygments_lexer": "ipython3",
   "version": "3.9.13"
  }
 },
 "nbformat": 4,
 "nbformat_minor": 5
}
