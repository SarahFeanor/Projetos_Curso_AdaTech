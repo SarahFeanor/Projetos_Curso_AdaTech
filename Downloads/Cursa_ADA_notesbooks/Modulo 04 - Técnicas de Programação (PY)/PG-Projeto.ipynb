{
 "cells": [
  {
   "cell_type": "markdown",
   "metadata": {},
   "source": [
    "## Projeto\n",
    "  \n",
    "O projeto desde módulo será uma aplicação prática do conteúdo de Técnicas de Programação I no python.  \n",
    "  \n",
    "**Objetivo**  \n",
    "Realizar um EDA (Exploratory Data Analysis) com os conhecimentos obtidos até o momento (Pandas e Numpy). \n",
    "  \n",
    "**Base de Dados**  \n",
    "Cada grupo será responsável por buscar uma base de dados de seu interesse  \n",
    "Dica: [Kaggle](https://www.kaggle.com/datasets)\n",
    "  \n",
    "**Composição dos grupos**  \n",
    "Os grupos foram formados aleatoriamente tendo entre 4 e 5 integrantes.\n",
    "  \n",
    "**Github**  \n",
    "Na mesma planilha de composição dos grupos insiram o link para o github de pelo menos um dos integrantes no qual o projeto será armazenado.  \n",
    "  \n",
    "**Apresentação**  \n",
    "A apresentação poderá ser construída no formato de preferência (jupyter notebook, power point..)  \n",
    "  \n",
    "**Tempo de apresentação**  \n",
    "Cada grupo terá no máximo 10 minutos para apresentar o EDA  \n",
    "  \n",
    "**Avaliação**  \n",
    "Para a avaliação serão considerados os seguintes pontos\n",
    "1. Explicação e entendimento do contexto em que se encaixa a base de dados\n",
    "2. Uso dos conhecimentos obtidos no decorrer do módulo\n",
    "3. Apresentação das características do conjunto de dados fornecido, destacando sua visão geral acerca do conjunto de dados e tecendo críticas e comentários \n",
    "4. Identificação e discussão de missings ou outliers na base de dados\n",
    "5. Outras análises que sejam pertinentes \n",
    "  \n",
    "**Data de apresentação**  \n",
    "24/01/2021  \n",
    "  \n",
    "**Obs. 1**: Não esqueçam de considerar se as informações são públicas  \n",
    "**Obs. 2**: É obrigatório que todos apresentem, portanto organizem-se com o tempo  \n",
    "**Obs. 3**: Não esqueçam de se divertirem fazendo isso! :D  \n",
    "  \n",
    "**BOM TRABALHO!**"
   ]
  }
 ],
 "metadata": {
  "kernelspec": {
   "display_name": "Python 3 (ipykernel)",
   "language": "python",
   "name": "python3"
  },
  "language_info": {
   "codemirror_mode": {
    "name": "ipython",
    "version": 3
   },
   "file_extension": ".py",
   "mimetype": "text/x-python",
   "name": "python",
   "nbconvert_exporter": "python",
   "pygments_lexer": "ipython3",
   "version": "3.9.13"
  }
 },
 "nbformat": 4,
 "nbformat_minor": 2
}
