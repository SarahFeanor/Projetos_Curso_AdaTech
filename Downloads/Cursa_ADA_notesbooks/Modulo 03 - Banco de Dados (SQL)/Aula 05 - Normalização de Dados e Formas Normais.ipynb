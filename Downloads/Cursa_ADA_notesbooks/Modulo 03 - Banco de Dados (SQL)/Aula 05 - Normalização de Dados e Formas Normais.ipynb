{
 "cells": [
  {
   "cell_type": "markdown",
   "id": "69341d99",
   "metadata": {},
   "source": [
    "# Banco de Dados: Normalização de Dados e Formas Normais\n",
    "## Normalização\n",
    " \n",
    "A normalização é o processo em que aplicamos regras chamadas de **formas normais** nas tabelas que temos no banco de dados com o objetivo de eliminar, ou pelo menos minimizar, a redundância no banco.\n",
    " \n",
    "Utilizando essas regras normalmente temos que remover uma ou mais colunas de uma tabela, dependendo da anomalia identificada e criar uma segunda tabela, com suas próprias chaves primárias e o relacionamento da primeira com a segunda tabela a fim de evitarmos redundância de informações.\n",
    " \n",
    "Um banco de dados **normalizado** é mais otimizado para não armazenar dados redundantes, o que faz com que utilizemos cada vez menos espaço de armazenamento de forma desnecessária.\n",
    " \n",
    "## Formas normais\n",
    " \n",
    "Como dito no início, as formas normais são um conjunto de regras que iremos aplicar no nosso banco de dados e deixá-lo compatível com elas. Devemos sempre começar aplicando a primeira forma normal, a partir daí aplicamos a segunda, terceira e assim sucessivamente. Para aplicarmos uma regra, ela precisa ser compatível com a anterior, então para aplicarmos no banco de dados a segunda forma normal, o banco já precisa ser compatível com a primeira, e assim sucessivamente.\n",
    " \n",
    "## Primeira forma normal\n",
    " \n",
    "A primeira forma normal é chamada também de 1FN, e dizemos que uma tabela está na 1FN quando não há grupo de dados repetidos, e também não há campos que guardam valores compostos.\n",
    " \n",
    "Podemos seguir em sequência os passos abaixo para aplicar a 1FN:\n",
    " \n",
    "1° - Identificar a chave primária da tabela;\n",
    " \n",
    "2° - Identificar o grupo repetitivo e removê-lo da tabela;\n",
    " \n",
    "3° - Criar uma tabela com a chave primária da tabela anterior e o grupo repetitivo.\n",
    " \n",
    "A chave primária da nova tabela será obtida pela concatenação da chave primária da entidade inicial e a do grupo repetitivo.\n",
    " \n",
    "Para isto vamos utilizar como exemplo a tabela de **estudantes** abaixo:\n",
    " \n",
    "![](https://s3-sa-east-1.amazonaws.com/lcpi/40fee761-0408-4c39-a532-dc2951eb3bd0.PNG)\n",
    "##### Fonte: Autoria própria.\n",
    " \n",
    " \n",
    "Partindo dos passos citados acima, podemos identificar que:\n",
    " \n",
    "- A coluna **ID** é a chave primária da tabela;\n",
    "- Temos um grupo repetitivo na coluna de **telefone**;\n",
    "- Temos um campo com dados compostos na coluna de **endereço**.\n",
    " \n",
    "Então aplicando a 1FN, vamos criar uma tabela chamada **telefones**, onde a chave primária será o **id** do estudante, e criaremos para cada dado repetitivo, uma linha com o telefone do estudante. E vamos destrinchar o campo **endereço** que é composto, em campos como rua, número, bairro, cidade, estado e cep.\n",
    " \n",
    "Após os ajustes teremos a tabela de **estudantes** da seguinte forma:\n",
    " \n",
    "![](https://s3-sa-east-1.amazonaws.com/lcpi/27ff9c85-17d4-48c0-96e7-1ff15c9f4db6.PNG)\n",
    "##### Fonte: Autoria própria.\n",
    " \n",
    " \n",
    "E a tabela de telefones ficaria da seguinte forma:\n",
    " \n",
    "![](https://s3-sa-east-1.amazonaws.com/lcpi/f2334c2d-8136-46ed-953b-66a7c65f3938.PNG)\n",
    "##### Fonte: Autoria própria.\n",
    " \n"
   ]
  },
  {
   "cell_type": "markdown",
   "id": "01f3ee18",
   "metadata": {},
   "source": [
    "### Exemplo 1:\n",
    "\n",
    "Aplique a primeira forma normal na seguinte tabela:\n",
    "\n",
    "<img src='1fn-1.png' width=500>"
   ]
  },
  {
   "cell_type": "code",
   "execution_count": null,
   "id": "550872af",
   "metadata": {},
   "outputs": [],
   "source": [
    "   "
   ]
  },
  {
   "cell_type": "markdown",
   "id": "b0abe173",
   "metadata": {},
   "source": [
    "### Exemplo 2:\n",
    "\n",
    "Aplique a primeira forma normal na seguinte tabela:\n",
    "\n",
    "<img src='1fn-2.png' width=500>"
   ]
  },
  {
   "cell_type": "code",
   "execution_count": null,
   "id": "32aadbbf",
   "metadata": {},
   "outputs": [],
   "source": []
  },
  {
   "cell_type": "markdown",
   "id": "147d815e",
   "metadata": {},
   "source": [
    " \n",
    "## Segunda forma normal\n",
    " \n",
    "Dizemos que uma tabela está na segunda forma normal (2FN) se ela estiver na 1FN e todos os atributos que são não chave (PK/FK) forem totalmente dependentes da chave primária da tabela, ou seja, não podem ter atributos dependendo parcialmente da chave primária.\n",
    " \n",
    "Podemos seguir em sequência os passos abaixo para aplicar a 2FN:\n",
    " \n",
    "1° - Identificar os atributos que não são dependentes somente da chave primária;\n",
    " \n",
    "2° - Remover da entidade todos esses atributos identificados e criar uma entidade com eles.\n",
    " \n",
    "A chave primária da nova entidade será o atributo do qual os atributos removidos são dependentes.\n",
    " \n",
    "Vamos utilizar como exemplo a tabela de **cursos** abaixo:\n",
    " \n",
    "![](https://s3-sa-east-1.amazonaws.com/lcpi/74678233-68b7-4c64-b277-52cbb7e15684.PNG)\n",
    "##### Fonte: Autoria própria.\n",
    " \n",
    " \n",
    "Aplicando os passos acima na tabela teremos:\n",
    " \n",
    "1° - O atributo NOME_PROFESSOR, depende da chave primária da tabela de cursos, mas também está ligado a coluna ID_PROFESSOR o que faria com que precisássemos repetir o nome do professor na tabela caso fossemos inserir mais uma linha atribuindo o professor a outro curso como **PI Data Science**. Então vamos ao segundo passo e movendo esse atributo para uma nova entidade, levando a chave que ele depende como primária para outra tabela que no caso é **ID_PROFESSOR**, teremos uma tabela chamada **PROFESSORES** com o seguinte resultado:\n",
    " \n",
    "![](https://s3-sa-east-1.amazonaws.com/lcpi/002cd5ff-bbd8-4c09-ad81-537b72856656.PNG)\n",
    "##### Fonte: Autoria própria.\n",
    " \n",
    " \n",
    "E agora toda vez que formos incluir um curso novo, vamos somente passar na coluna de **ID_PROFESSOR** a referência do ID que está na tabela de professores, ficando com a estrutura da tabela de cursos desta forma:\n",
    " \n",
    "![](https://s3-sa-east-1.amazonaws.com/lcpi/e3a3f9f7-ccd9-4adb-8df4-ea458bb9054d.PNG)\n",
    "##### Fonte: Autoria própria.\n",
    " \n",
    " \n"
   ]
  },
  {
   "cell_type": "markdown",
   "id": "a5bb0795",
   "metadata": {},
   "source": [
    "### Exemplo 3:\n",
    "\n",
    "Aplique a segunda forma normal na seguinte tabela:\n",
    "\n",
    "<img src='2fn-1.png' width=500>"
   ]
  },
  {
   "cell_type": "markdown",
   "id": "57f41345",
   "metadata": {},
   "source": [
    "#### Aqui a Solução\n",
    "\n",
    "\n",
    "- "
   ]
  },
  {
   "cell_type": "markdown",
   "id": "e7be663b",
   "metadata": {},
   "source": [
    "## Terceira forma normal\n",
    " \n",
    "Dizemos que uma tabela está na terceira forma normal(3FN) se ela estiver na 2FN e não tivermos uma coluna não chave dependente de outra coluna não chave.\n",
    " \n",
    "Podemos seguir em sequência os passos abaixo para aplicar a 3FN:\n",
    " \n",
    "1° - Identificar as colunas não chave que dependem de outras colunas não chave;\n",
    " \n",
    "2° - Remover da tabela essas colunas e criar uma outra tabela onde a coluna que está gerando a relação será a chave primária e a coluna dependente armazenará o valor.\n",
    " \n",
    " \n",
    "Vamos utilizar como exemplo a tabela de **carros** abaixo:\n",
    " \n",
    "![](https://s3-sa-east-1.amazonaws.com/lcpi/367571af-0160-4878-a135-15730da5aa19.PNG)\n",
    "##### Fonte: Autoria própria.\n",
    " \n",
    " \n",
    "Aplicando o primeiro passo, podemos identificar que a coluna de **fabricante** é dependente da coluna **cod_fabricante**, então neste caso criaremos uma tabela chamada **fabricantes**, onde a coluna **cod_fabricante** será nossa chave primária e a coluna **fabricante** armazenará o nome.\n",
    " \n",
    "Este será o resultado:\n",
    " \n",
    "![](https://s3-sa-east-1.amazonaws.com/lcpi/6a1c1c2d-6805-416a-826b-ce2b1b339896.PNG)\n",
    "##### Fonte: Autoria própria.\n",
    " \n",
    " \n",
    "Agora só precisamos ajustar a tabela de **carros** e esta será a nova estrutura:\n",
    " \n",
    "![](https://s3-sa-east-1.amazonaws.com/lcpi/1243d3f4-b94d-4af3-bf67-a8547e881572.PNG)\n",
    "##### Fonte: Autoria própria.\n",
    " \n",
    " \n",
    "\n"
   ]
  },
  {
   "cell_type": "markdown",
   "id": "3ccddbe4",
   "metadata": {},
   "source": [
    "### Exemplo 3:\n",
    "\n",
    "Aplique a segunda forma normal na seguinte tabela:\n",
    "\n",
    "<img src='3fn-1.png' width=500>"
   ]
  },
  {
   "cell_type": "markdown",
   "id": "bad27a8b",
   "metadata": {},
   "source": [
    "# Solução\n",
    "\n",
    "Analise da 3FN: \n",
    "\n",
    "-"
   ]
  },
  {
   "cell_type": "markdown",
   "id": "0916e5b9",
   "metadata": {},
   "source": [
    "## Resumo\n",
    "\n",
    "<img src='resumo.png' width=500>\n",
    "\n",
    "## Referências e materiais complementares\n",
    " \n",
    "[Normalização em Bancos de Dados][1]\n",
    " \n",
    "[NORMALIZAÇÃO DE DADOS E AS FORMAS NORMAIS][2]\n",
    " \n",
    "[Normalização de Bancos de Dados Relacionais][3]\n",
    " \n",
    "[Normalizando um banco de dados por meio das 3 principais formas][4]\n",
    " \n",
    "[1]: https://medium.com/@diegobmachado/normaliza%C3%A7%C3%A3o-em-banco-de-dados-5647cdf84a12\n",
    "[2]: https://www.luis.blog.br/normalizacao-de-dados-e-as-formas-normais.html\n",
    "[3]: http://www.dsc.ufcg.edu.br/~pet/jornal/maio2011/materias/recapitulando.html\n",
    "[4]: https://spaceprogrammer.com/bd/normalizando-um-banco-de-dados-por-meio-das-3-principais-formas/"
   ]
  }
 ],
 "metadata": {
  "kernelspec": {
   "display_name": "Python 3 (ipykernel)",
   "language": "python",
   "name": "python3"
  },
  "language_info": {
   "codemirror_mode": {
    "name": "ipython",
    "version": 3
   },
   "file_extension": ".py",
   "mimetype": "text/x-python",
   "name": "python",
   "nbconvert_exporter": "python",
   "pygments_lexer": "ipython3",
   "version": "3.11.2"
  }
 },
 "nbformat": 4,
 "nbformat_minor": 5
}
