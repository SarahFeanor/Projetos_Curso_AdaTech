{
 "cells": [
  {
   "cell_type": "markdown",
   "metadata": {
    "application/vnd.databricks.v1+cell": {
     "cellMetadata": {},
     "inputWidgets": {},
     "nuid": "2d2ab891-e74a-4070-91a6-c7cc6c71926b",
     "showTitle": false,
     "title": ""
    }
   },
   "source": [
    "## Demo 001 - Conceitos iniciais\n",
    "\n"
   ]
  },
  {
   "cell_type": "markdown",
   "metadata": {
    "application/vnd.databricks.v1+cell": {
     "cellMetadata": {},
     "inputWidgets": {},
     "nuid": "a30852c2-6e3e-4755-8c7b-c8c23053a4e0",
     "showTitle": false,
     "title": ""
    }
   },
   "source": [
    "### Demo para mostrar os principios de como criar algumas formas de criar uma tabela e como popular"
   ]
  },
  {
   "cell_type": "markdown",
   "metadata": {
    "application/vnd.databricks.v1+cell": {
     "cellMetadata": {},
     "inputWidgets": {},
     "nuid": "2d4306ad-4135-448a-869c-42db402aeb01",
     "showTitle": false,
     "title": ""
    }
   },
   "source": [
    "#### Para separar nossos dados vamos de inicio começar criando um catalogo proprio nosso para esse laboratório"
   ]
  },
  {
   "cell_type": "markdown",
   "metadata": {
    "application/vnd.databricks.v1+cell": {
     "cellMetadata": {},
     "inputWidgets": {},
     "nuid": "e0021ab8-c9ae-480b-828c-e134c3163722",
     "showTitle": false,
     "title": ""
    }
   },
   "source": [
    "![](https://learn.microsoft.com/pt-br/azure/databricks/_static/images/unity-catalog/object-model.png)"
   ]
  },
  {
   "cell_type": "markdown",
   "metadata": {
    "application/vnd.databricks.v1+cell": {
     "cellMetadata": {},
     "inputWidgets": {},
     "nuid": "fd116eb3-fb66-407e-a1ff-fa9320f4332c",
     "showTitle": false,
     "title": ""
    }
   },
   "source": [
    "#### Um catalogo é o 3o nivel hierarquico dentro do databricks. \n",
    "#### Acima dele fica somente a metastore aonde efetivamente ficam os dados, abaixo dele temos schemas e abixo dos schemas todos os demais objetos"
   ]
  },
  {
   "cell_type": "code",
   "execution_count": null,
   "metadata": {
    "application/vnd.databricks.v1+cell": {
     "cellMetadata": {},
     "inputWidgets": {},
     "nuid": "9b043f7c-cd17-4f2c-9934-782819ff240f",
     "showTitle": false,
     "title": ""
    }
   },
   "outputs": [],
   "source": [
    "%sql\n",
    "-- CREATE CATALOG jorge"
   ]
  },
  {
   "cell_type": "markdown",
   "metadata": {
    "application/vnd.databricks.v1+cell": {
     "cellMetadata": {},
     "inputWidgets": {},
     "nuid": "bd33ff87-ea2d-48f1-ac4f-7a9ea0a70bb7",
     "showTitle": false,
     "title": ""
    }
   },
   "source": [
    "Abaixo dele vai ficar o schema, vamos criar um dentro dele para podermos colocar nossos objetos"
   ]
  },
  {
   "cell_type": "code",
   "execution_count": null,
   "metadata": {
    "application/vnd.databricks.v1+cell": {
     "cellMetadata": {
      "byteLimit": 2048000,
      "rowLimit": 10000
     },
     "inputWidgets": {},
     "nuid": "29190420-578c-4756-bb83-49bf01d36435",
     "showTitle": false,
     "title": ""
    }
   },
   "outputs": [],
   "source": [
    "%sql\n",
    "-- CREATE SCHEMA jorge.workshop"
   ]
  },
  {
   "cell_type": "markdown",
   "metadata": {
    "application/vnd.databricks.v1+cell": {
     "cellMetadata": {},
     "inputWidgets": {},
     "nuid": "d7ae261d-afcd-496b-9987-4dc773ab71c9",
     "showTitle": false,
     "title": ""
    }
   },
   "source": [
    "Por fim vamos criar uma tabela de cores dentro do schema que criamos"
   ]
  },
  {
   "cell_type": "code",
   "execution_count": null,
   "metadata": {
    "application/vnd.databricks.v1+cell": {
     "cellMetadata": {
      "byteLimit": 2048000,
      "rowLimit": 10000
     },
     "inputWidgets": {},
     "nuid": "08bd0a1a-0cfe-46ba-ab46-2362b05fa78c",
     "showTitle": false,
     "title": ""
    }
   },
   "outputs": [],
   "source": [
    "%sql\n",
    "CREATE TABLE default.cores  (\n",
    "  idCor int,\n",
    "  descCor string\n",
    ")"
   ]
  },
  {
   "cell_type": "markdown",
   "metadata": {
    "application/vnd.databricks.v1+cell": {
     "cellMetadata": {},
     "inputWidgets": {},
     "nuid": "7788c357-88d3-48ff-80c3-5d14a1a98019",
     "showTitle": false,
     "title": ""
    }
   },
   "source": [
    "Vamos ver o que temos dentro da nossa tabela"
   ]
  },
  {
   "cell_type": "code",
   "execution_count": null,
   "metadata": {
    "application/vnd.databricks.v1+cell": {
     "cellMetadata": {
      "byteLimit": 2048000,
      "rowLimit": 10000
     },
     "inputWidgets": {},
     "nuid": "66b1e5eb-9742-4f9b-a5d6-2504c0488672",
     "showTitle": false,
     "title": ""
    }
   },
   "outputs": [],
   "source": [
    "%sql\n",
    "SELECT * FROM default.cores"
   ]
  },
  {
   "cell_type": "markdown",
   "metadata": {
    "application/vnd.databricks.v1+cell": {
     "cellMetadata": {},
     "inputWidgets": {},
     "nuid": "0dbf3946-8a49-4002-8f6e-edcfdba376bd",
     "showTitle": false,
     "title": ""
    }
   },
   "source": [
    "Vamos inserir manualmente dados dentro dela"
   ]
  },
  {
   "cell_type": "code",
   "execution_count": null,
   "metadata": {
    "application/vnd.databricks.v1+cell": {
     "cellMetadata": {
      "byteLimit": 2048000,
      "rowLimit": 10000
     },
     "inputWidgets": {},
     "nuid": "4899201f-3800-44ef-a6ec-085df0ff747b",
     "showTitle": false,
     "title": ""
    }
   },
   "outputs": [],
   "source": [
    "%sql\n",
    "INSERT INTO default.cores VALUES ( 1, \"Preto\") , (2, \"Branco\") , (3, \"Azul\")"
   ]
  },
  {
   "cell_type": "markdown",
   "metadata": {
    "application/vnd.databricks.v1+cell": {
     "cellMetadata": {},
     "inputWidgets": {},
     "nuid": "2614f14e-5ab3-4095-97d0-31334931dc77",
     "showTitle": false,
     "title": ""
    }
   },
   "source": [
    "Vamos ver agora os dados dela"
   ]
  },
  {
   "cell_type": "code",
   "execution_count": null,
   "metadata": {
    "application/vnd.databricks.v1+cell": {
     "cellMetadata": {
      "byteLimit": 2048000,
      "rowLimit": 10000
     },
     "inputWidgets": {},
     "nuid": "a439ff4a-fd74-49b8-88fb-755c23a93d33",
     "showTitle": false,
     "title": ""
    }
   },
   "outputs": [],
   "source": [
    "%sql\n",
    "SELECT * FROM default.cores"
   ]
  },
  {
   "cell_type": "markdown",
   "metadata": {
    "application/vnd.databricks.v1+cell": {
     "cellMetadata": {},
     "inputWidgets": {},
     "nuid": "269760d0-0d35-4296-b670-4ff1036b3a5b",
     "showTitle": false,
     "title": ""
    }
   },
   "source": [
    "#### Lendo os dados da tabela usando python"
   ]
  },
  {
   "cell_type": "code",
   "execution_count": null,
   "metadata": {
    "application/vnd.databricks.v1+cell": {
     "cellMetadata": {
      "byteLimit": 2048000,
      "rowLimit": 10000
     },
     "inputWidgets": {},
     "nuid": "b7454768-74a9-4b36-87f4-0d6dc8d6b8dc",
     "showTitle": false,
     "title": ""
    }
   },
   "outputs": [],
   "source": [
    "df_cores = spark.sql(\"SELECT * FROM default.cores\")\n",
    "\n",
    "df_cores.display()"
   ]
  },
  {
   "cell_type": "markdown",
   "metadata": {
    "application/vnd.databricks.v1+cell": {
     "cellMetadata": {},
     "inputWidgets": {},
     "nuid": "f6c24d91-51d5-444e-ad2e-8b55b4f8acc1",
     "showTitle": false,
     "title": ""
    }
   },
   "source": [
    "\n",
    "#### Criando nova coluna usando python"
   ]
  },
  {
   "cell_type": "code",
   "execution_count": null,
   "metadata": {
    "application/vnd.databricks.v1+cell": {
     "cellMetadata": {
      "byteLimit": 2048000,
      "rowLimit": 10000
     },
     "inputWidgets": {},
     "nuid": "8018ff22-6f49-4eb5-b188-324fd7c930bc",
     "showTitle": false,
     "title": ""
    }
   },
   "outputs": [],
   "source": [
    "from pyspark.sql.functions import lit\n",
    "\n",
    "df_cores = df_cores.withColumn(\"criadorCor\", lit(\"Jorge\"))\n",
    "\n",
    "df_cores.display()"
   ]
  },
  {
   "cell_type": "markdown",
   "metadata": {
    "application/vnd.databricks.v1+cell": {
     "cellMetadata": {},
     "inputWidgets": {},
     "nuid": "c3fc2cc1-77ff-411f-ae35-96b6e4580646",
     "showTitle": false,
     "title": ""
    }
   },
   "source": [
    "\n",
    "#### Criando tempView para poder fazer `leitura` da tabela criada com python"
   ]
  },
  {
   "cell_type": "code",
   "execution_count": null,
   "metadata": {
    "application/vnd.databricks.v1+cell": {
     "cellMetadata": {
      "byteLimit": 2048000,
      "rowLimit": 10000
     },
     "inputWidgets": {},
     "nuid": "779a536d-dc52-4a79-9e70-e2a93fd11100",
     "showTitle": false,
     "title": ""
    }
   },
   "outputs": [],
   "source": [
    "df_cores.createOrReplaceTempView(\"temp_python_cores\")"
   ]
  },
  {
   "cell_type": "code",
   "execution_count": null,
   "metadata": {
    "application/vnd.databricks.v1+cell": {
     "cellMetadata": {
      "byteLimit": 2048000,
      "rowLimit": 10000
     },
     "inputWidgets": {},
     "nuid": "1a4e44af-1acc-4c47-b2a4-40812e56d65a",
     "showTitle": false,
     "title": ""
    }
   },
   "outputs": [],
   "source": [
    "%sql\n",
    "SELECT * FROM temp_python_cores"
   ]
  },
  {
   "cell_type": "markdown",
   "metadata": {
    "application/vnd.databricks.v1+cell": {
     "cellMetadata": {},
     "inputWidgets": {},
     "nuid": "597cc4b7-737b-4e15-a71f-ac70896fe343",
     "showTitle": false,
     "title": ""
    }
   },
   "source": [
    "\n",
    "Perceba que é uma nova tabela temporal, a tabela `cores` contonua existindo, mas não estamos alterando ela"
   ]
  },
  {
   "cell_type": "code",
   "execution_count": null,
   "metadata": {
    "application/vnd.databricks.v1+cell": {
     "cellMetadata": {
      "byteLimit": 2048000,
      "rowLimit": 10000
     },
     "inputWidgets": {},
     "nuid": "224a43dc-7f5c-41bc-a532-017369e2e49b",
     "showTitle": false,
     "title": ""
    }
   },
   "outputs": [],
   "source": [
    "%sql\n",
    "SELECT * FROM default.cores"
   ]
  },
  {
   "cell_type": "markdown",
   "metadata": {
    "application/vnd.databricks.v1+cell": {
     "cellMetadata": {},
     "inputWidgets": {},
     "nuid": "b197bd86-7c4e-42bd-a8ca-9125ab476e04",
     "showTitle": false,
     "title": ""
    }
   },
   "source": [
    "#### Criando tempView com SQL"
   ]
  },
  {
   "cell_type": "code",
   "execution_count": null,
   "metadata": {
    "application/vnd.databricks.v1+cell": {
     "cellMetadata": {
      "byteLimit": 2048000,
      "rowLimit": 10000
     },
     "inputWidgets": {},
     "nuid": "d54819c2-6b87-4694-9c46-430febd01eb6",
     "showTitle": false,
     "title": ""
    }
   },
   "outputs": [],
   "source": [
    "%sql\n",
    "CREATE OR REPLACE TEMP VIEW temp_sql_cores AS\n",
    "SELECT * \n",
    "FROM temp_python_cores"
   ]
  },
  {
   "cell_type": "markdown",
   "metadata": {
    "application/vnd.databricks.v1+cell": {
     "cellMetadata": {},
     "inputWidgets": {},
     "nuid": "f8f9ba12-d008-49f6-bfe8-fdc611ceb5f1",
     "showTitle": false,
     "title": ""
    }
   },
   "source": [
    "#### Lendo os dados da tempView de SQL usando python"
   ]
  },
  {
   "cell_type": "code",
   "execution_count": null,
   "metadata": {
    "application/vnd.databricks.v1+cell": {
     "cellMetadata": {
      "byteLimit": 2048000,
      "rowLimit": 10000
     },
     "inputWidgets": {},
     "nuid": "8980a01a-ee45-4e33-8976-e39633ea4f14",
     "showTitle": false,
     "title": ""
    }
   },
   "outputs": [],
   "source": [
    "df_temp_cores = spark.sql(\"SELECT * FROM temp_sql_cores\")\n",
    "\n",
    "df_temp_cores.display()"
   ]
  },
  {
   "cell_type": "markdown",
   "metadata": {
    "application/vnd.databricks.v1+cell": {
     "cellMetadata": {},
     "inputWidgets": {},
     "nuid": "ec4b6f2a-8809-4a41-a2a4-7bea3d9c476d",
     "showTitle": false,
     "title": ""
    }
   },
   "source": [
    "## Lendo Arquivo upload\n",
    "\n",
    "Primeiro precisamos fazer o upload do arquivo"
   ]
  },
  {
   "cell_type": "code",
   "execution_count": null,
   "metadata": {
    "application/vnd.databricks.v1+cell": {
     "cellMetadata": {
      "byteLimit": 2048000,
      "rowLimit": 10000
     },
     "inputWidgets": {},
     "nuid": "cb8a9e4f-1909-4d16-98d1-d2ab489fa4ad",
     "showTitle": false,
     "title": ""
    }
   },
   "outputs": [],
   "source": [
    "caminho_arquivo = \"dbfs:/FileStore/shared_uploads/jchambyd@gmail.com/Sales_Data.csv\"\n",
    "\n",
    "# Lê o arquivo CSV e infere o schema automaticamente\n",
    "dataframe = spark.read.csv(caminho_arquivo, header=True, inferSchema=True)\n",
    "\n",
    "# Renomeamos a coluna 'Quantity Sold'\n",
    "dataframe = dataframe.withColumnRenamed(\"Quantity Sold\", \"QuantitySold\")\n",
    "dataframe = dataframe.withColumnRenamed(\"Sub Brand\", \"SubBrand\")\n",
    "\n",
    "display(dataframe)"
   ]
  },
  {
   "cell_type": "markdown",
   "metadata": {
    "application/vnd.databricks.v1+cell": {
     "cellMetadata": {},
     "inputWidgets": {},
     "nuid": "d045f3ad-35c9-455c-9ba1-eb3188544600",
     "showTitle": false,
     "title": ""
    }
   },
   "source": [
    "\n",
    "Agora salvamos como tabela dentro do databricks\n"
   ]
  },
  {
   "cell_type": "code",
   "execution_count": null,
   "metadata": {
    "application/vnd.databricks.v1+cell": {
     "cellMetadata": {
      "byteLimit": 2048000,
      "rowLimit": 10000
     },
     "inputWidgets": {},
     "nuid": "0456bf18-16c9-45b3-98d6-cdea3a69678c",
     "showTitle": false,
     "title": ""
    }
   },
   "outputs": [],
   "source": [
    "dataframe.write.mode(\"overwrite\").saveAsTable(\"SalesData\")"
   ]
  },
  {
   "cell_type": "markdown",
   "metadata": {
    "application/vnd.databricks.v1+cell": {
     "cellMetadata": {},
     "inputWidgets": {},
     "nuid": "0559c34b-8fa7-46fc-87e7-278d184179c8",
     "showTitle": false,
     "title": ""
    }
   },
   "source": [
    "\n",
    "Consultamos os dados da tabela"
   ]
  },
  {
   "cell_type": "code",
   "execution_count": null,
   "metadata": {
    "application/vnd.databricks.v1+cell": {
     "cellMetadata": {
      "byteLimit": 2048000,
      "rowLimit": 10000
     },
     "inputWidgets": {},
     "nuid": "f2032e1b-f994-4b89-948c-5c6cbe1d2876",
     "showTitle": false,
     "title": ""
    }
   },
   "outputs": [],
   "source": [
    "%sql\n",
    "SELECT * FROM SalesData"
   ]
  }
 ],
 "metadata": {
  "application/vnd.databricks.v1+notebook": {
   "dashboards": [],
   "language": "python",
   "notebookMetadata": {
    "mostRecentlyExecutedCommandWithImplicitDF": {
     "commandId": 2066903323464890,
     "dataframes": [
      "_sqldf"
     ]
    },
    "pythonIndentUnit": 4
   },
   "notebookName": "Demo 001",
   "widgets": {}
  },
  "language_info": {
   "name": "python"
  }
 },
 "nbformat": 4,
 "nbformat_minor": 0
}
