{
 "cells": [
  {
   "cell_type": "markdown",
   "metadata": {},
   "source": [
    "# Projeto de Modelagem de Banco de Dados em um Cenário Real\n",
    "\n",
    "## Objetivo:\n",
    "O objetivo deste projeto é permitir aos alunos aplicarem os conhecimentos adquiridos sobre modelagem de banco de dados em um contexto do mundo real. Os alunos serão desafiados a selecionar um cenário específico e desenvolver um modelo de banco de dados completo para armazenar e gerenciar as informações relacionadas a esse cenário.\n",
    "\n",
    "## Entregas Esperadas:\n",
    "\n",
    "1. Dados de Entrada Originais: Os alunos devem fornecer os dados originais do cenário escolhido. Isso pode ser um exemplo real, como uma nota fiscal, dados de um sistema de gerenciamento de vendas, informações de um catálogo de produtos, entre outros.\n",
    "\n",
    "2. Modelagem Feita: Desenvolvimento de um modelo conceitual e lógico do banco de dados, mostrando as entidades, atributos e relacionamentos. Isso pode ser apresentado através de diagramas ER (Entidade-Relacionamento).\n",
    "\n",
    "3. Modelo Entidade-Relacionamento (ER): O modelo ER detalhado e completo que representa a estrutura do banco de dados proposto.\n",
    "\n",
    "4. Consultas SQL para Criação de Tabelas e Relacionamentos: Conjunto de consultas SQL necessárias para criar todas as tabelas do banco de dados, considerando os relacionamentos entre as entidades. Essas consultas devem ser claras e detalhadas.\n",
    "\n",
    "5. Inserção de Dados nas Tabelas: Scripts ou comandos SQL para inserir dados nas tabelas criadas, garantindo que o banco de dados tenha um conjunto inicial de informações para demonstração e análise.\n",
    "\n",
    "6. Consultas Complexas: Devem ser fornecidas pelo menos três consultas SQL mais complexas e elaboradas, que explorem a capacidade do banco de dados e extraiam informações relevantes e interessantes do conjunto de dados. Devem evitar consultas simples, como seleção de todos os registros de uma tabela.\n",
    "\n",
    "7. Tarefa Adicional (Voluntária): Escrever código em Python para conectar-se ao banco de dados, realizando consultas, inserções e atualizações. Isso demonstrará habilidades práticas de interação com o banco de dados usando uma linguagem de programação.\n",
    "\n",
    "## Documentação:\n",
    "O projeto deve ser amplamente documentado, com explicações detalhadas de cada etapa, justificativas para as decisões tomadas na modelagem do banco de dados, descrição dos dados originais utilizados e exemplos de consultas SQL e código Python (se aplicável).\n",
    "\n",
    "## Critérios de Avaliação:\n",
    "Os projetos serão avaliados com base na qualidade da modelagem do banco de dados, na clareza e precisão das consultas SQL, na eficiência do código Python (se fornecido) e na documentação detalhada de todas as etapas do projeto.\n",
    "\n",
    "## Considerações Finais:\n",
    "Este projeto visa fornecer aos alunos uma experiência prática na criação de um banco de dados a partir de um cenário do mundo real, aplicando os conceitos aprendidos em modelagem de banco de dados e SQL. A capacidade de documentar e apresentar o trabalho de maneira clara e estruturada também será um aspecto fundamental da avaliação."
   ]
  },
  {
   "cell_type": "markdown",
   "metadata": {},
   "source": [
    "### Organização e entregáveis\n",
    "\n",
    "1. O projeto pode ser feito em grupo de até 05 participantes.\n",
    "2. O projeto completo (Notebook, slides, código-fonte, link para fontes, bases e demais artefatos) deve ser enviado por e-mail ``jchambyd@gmail.com`` com nome dos participantes. Colocar no assunto do e-mail: ``Projeto Vem Ser Tech 2023 - Banco de Dados - Turma 1102``\n",
    "\n",
    "Boa sorte e divirta-se!!"
   ]
  }
 ],
 "metadata": {
  "language_info": {
   "name": "python"
  }
 },
 "nbformat": 4,
 "nbformat_minor": 2
}
