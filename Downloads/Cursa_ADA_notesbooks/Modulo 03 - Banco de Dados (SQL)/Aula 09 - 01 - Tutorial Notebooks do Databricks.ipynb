{
 "cells": [
  {
   "cell_type": "code",
   "execution_count": 2,
   "metadata": {},
   "outputs": [
    {
     "name": "stdout",
     "output_type": "stream",
     "text": [
      "Print\n"
     ]
    }
   ],
   "source": [
    "print('Print')"
   ]
  },
  {
   "cell_type": "markdown",
   "metadata": {
    "application/vnd.databricks.v1+cell": {
     "cellMetadata": {},
     "inputWidgets": {},
     "nuid": "3c41a356-a67b-470b-bbae-b3901b8e6f90",
     "showTitle": false,
     "title": ""
    }
   },
   "source": [
    "# Noções básicas de notebook\n",
    "Um notebook é uma interface baseada na Web para um documento que contém código executável, visualizações e texto narrativo. Eles fornecem os meios de desenvolvimento e execução de código interativamente no Databricks."
   ]
  },
  {
   "cell_type": "markdown",
   "metadata": {
    "application/vnd.databricks.v1+cell": {
     "cellMetadata": {},
     "inputWidgets": {},
     "nuid": "93cad525-477a-43e8-875a-ab5588ce6267",
     "showTitle": false,
     "title": ""
    }
   },
   "source": [
    "# Anexar a um cluster\n",
    "Diretamente abaixo do nome do notebook na parte superior da tela, use a lista suspensa para conectar esse notebook ao seu cluster.\n",
    "\n",
    "**OBSERVAÇÃO**: a implantação de um cluster pode levar vários minutos. Uma seta verde aparecerá à direita do nome do cluster assim que os recursos forem implantados. Se o cluster tiver um círculo cinza sólido à esquerda, você precisará iniciar o cluster antes de executar o código do notebook."
   ]
  },
  {
   "cell_type": "markdown",
   "metadata": {
    "application/vnd.databricks.v1+cell": {
     "cellMetadata": {},
     "inputWidgets": {},
     "nuid": "f7110fec-d16b-41b0-b230-48ec203b426d",
     "showTitle": false,
     "title": ""
    }
   },
   "source": [
    "# Noções básicas de notebooks\n",
    "\n",
    "Os notebooks fornecem execução de código célula por célula. Vários idiomas podem ser misturados em um notebook. Os usuários podem adicionar plotagens, imagens e texto de marcação para aprimorar a legibilidade do código.\n",
    "\n",
    "## Execute uma célula\n",
    "* Execute a célula abaixo usando uma das seguintes opções:\n",
    "   1. **CTRL+ENTER** ou **CTRL+RETURN**\n",
    "   2. **SHIFT+ENTER** ou **SHIFT+RETURN** para executar a célula e passar para a próxima\n",
    "   3. Usando **Run Cell**, **Run All Above** ou **Run All Below** como visto aqui<br/><img style=\"box-shadow: 5px 5px 5px 0px rgba(0,0,0,0.25); border: 1px solid rgba(0,0,0,0.25);\" src=\"https://files.training.databricks.com/images/notebook-cell-run-cmd.png\"/>\n",
    "  \n",
    "**NOTA**: A execução do código célula a célula significa que as células podem ser executadas várias vezes ou fora de ordem."
   ]
  },
  {
   "cell_type": "code",
   "execution_count": 0,
   "metadata": {
    "application/vnd.databricks.v1+cell": {
     "cellMetadata": {},
     "inputWidgets": {},
     "nuid": "5917d0fa-7bc9-4ab8-865c-c46ae6009de1",
     "showTitle": false,
     "title": ""
    }
   },
   "outputs": [
    {
     "data": {
      "text/html": [
       "<style scoped>\n",
       "  .ansiout {\n",
       "    display: block;\n",
       "    unicode-bidi: embed;\n",
       "    white-space: pre-wrap;\n",
       "    word-wrap: break-word;\n",
       "    word-break: break-all;\n",
       "    font-family: \"Source Code Pro\", \"Menlo\", monospace;;\n",
       "    font-size: 13px;\n",
       "    color: #555;\n",
       "    margin-left: 4px;\n",
       "    line-height: 19px;\n",
       "  }\n",
       "</style>\n",
       "<div class=\"ansiout\">Estou executando meu primeiro comando!\n",
       "</div>"
      ]
     },
     "metadata": {
      "application/vnd.databricks.v1+output": {
       "addedWidgets": {},
       "arguments": {},
       "data": "<div class=\"ansiout\">Estou executando meu primeiro comando!\n</div>",
       "datasetInfos": [],
       "metadata": {},
       "removedWidgets": [],
       "type": "html"
      }
     },
     "output_type": "display_data"
    }
   ],
   "source": [
    "print(\"Estou executando meu primeiro comando!\")"
   ]
  },
  {
   "cell_type": "markdown",
   "metadata": {
    "application/vnd.databricks.v1+cell": {
     "cellMetadata": {},
     "inputWidgets": {},
     "nuid": "60bc6e23-fa3f-4bca-b0f9-d37f51dc9e99",
     "showTitle": false,
     "title": ""
    }
   },
   "source": [
    "# Definindo a linguagem padrão do notebook\n",
    "\n",
    "A célula acima executa um comando Python porque nosso idioma padrão para o notebook é definido como Python.\n",
    "\n",
    "Os notebooks Databricks oferecem suporte a Python, SQL, Scala e R. Um idioma pode ser selecionado quando um notebook é criado, mas isso pode ser alterado a qualquer momento.\n",
    "\n",
    "O idioma padrão aparece diretamente à direita do título do notebook na parte superior da página.\n",
    "Mudaremos a linguagem padrão deste notebook para SQL.\n",
    "\n",
    "Passos:\n",
    "1. Clique em **Python** ao lado do título do notebook na parte superior da tela\n",
    "2. Na IU que aparece, selecione **SQL** na lista suspensa\n",
    "\n",
    "**NOTA**: Na célula logo antes desta, você verá uma nova linha aparecer com <strong><code>&#37;python</code></strong>."
   ]
  },
  {
   "cell_type": "markdown",
   "metadata": {
    "application/vnd.databricks.v1+cell": {
     "cellMetadata": {},
     "inputWidgets": {},
     "nuid": "d8c7316e-89e9-47f7-a8d0-d9645c86beaa",
     "showTitle": false,
     "title": ""
    }
   },
   "source": [
    "# Criar e executar uma célula SQL\n",
    "1. Para executar uma célula SQL em um notebook cuja linguagem padrão não é SQL, você precisa adicionar o comando mágico %sql.\n",
    "2. Execute a célula abaixo para executar um comando sql"
   ]
  },
  {
   "cell_type": "code",
   "execution_count": 0,
   "metadata": {
    "application/vnd.databricks.v1+cell": {
     "cellMetadata": {
      "implicitDf": true
     },
     "inputWidgets": {},
     "nuid": "986e076f-5547-42df-ba09-e7ce75f46a70",
     "showTitle": false,
     "title": ""
    }
   },
   "outputs": [
    {
     "data": {
      "text/html": [
       "<style scoped>\n",
       "  .table-result-container {\n",
       "    max-height: 300px;\n",
       "    overflow: auto;\n",
       "  }\n",
       "  table, th, td {\n",
       "    border: 1px solid black;\n",
       "    border-collapse: collapse;\n",
       "  }\n",
       "  th, td {\n",
       "    padding: 5px;\n",
       "  }\n",
       "  th {\n",
       "    text-align: left;\n",
       "  }\n",
       "</style><div class='table-result-container'><table class='table-result'><thead style='background-color: white'><tr><th>Estou executando um comando SQL</th></tr></thead><tbody><tr><td>Estou executando um comando SQL</td></tr></tbody></table></div>"
      ]
     },
     "metadata": {
      "application/vnd.databricks.v1+output": {
       "addedWidgets": {},
       "aggData": [],
       "aggError": "",
       "aggOverflow": false,
       "aggSchema": [],
       "aggSeriesLimitReached": false,
       "aggType": "",
       "arguments": {},
       "columnCustomDisplayInfos": {},
       "data": [
        [
         "Estou executando um comando SQL"
        ]
       ],
       "datasetInfos": [],
       "dbfsResultPath": null,
       "isJsonSchema": true,
       "metadata": {},
       "overflow": false,
       "plotOptions": {
        "customPlotOptions": {},
        "displayType": "table",
        "pivotAggregation": null,
        "pivotColumns": null,
        "xColumns": null,
        "yColumns": null
       },
       "removedWidgets": [],
       "schema": [
        {
         "metadata": "{}",
         "name": "Estou executando um comando SQL",
         "type": "\"string\""
        }
       ],
       "type": "table"
      }
     },
     "output_type": "display_data"
    }
   ],
   "source": [
    "%sql\n",
    "select \"Estou executando um comando SQL\""
   ]
  },
  {
   "cell_type": "markdown",
   "metadata": {
    "application/vnd.databricks.v1+cell": {
     "cellMetadata": {},
     "inputWidgets": {},
     "nuid": "81985191-ec57-4915-b77c-7d7c927d9ec4",
     "showTitle": false,
     "title": ""
    }
   },
   "source": [
    "# Comandos Mágicos\n",
    "1. Comandos mágicos são específicos para notebooks Databricks\n",
    "2. Esses são comandos integrados que fornecem o mesmo resultado, independentemente da linguagem do notebook\n",
    "3. Um único símbolo de porcentagem (%) no início de uma célula identifica um comando mágico\n",
    "   * Você só pode ter um comando mágico por célula\n",
    "   * Um comando mágico deve ser a primeira coisa em uma célula"
   ]
  },
  {
   "cell_type": "markdown",
   "metadata": {
    "application/vnd.databricks.v1+cell": {
     "cellMetadata": {},
     "inputWidgets": {},
     "nuid": "34c2cddd-c3f5-44fa-beee-20d08a8083e5",
     "showTitle": false,
     "title": ""
    }
   },
   "source": [
    "# Linguagens Mágicas\n",
    "Os comandos de linguagem mágica permitem a execução de código em idiomas diferentes do padrão do notebook.\n",
    "* <strong><code>&#37;python</code></strong>\n",
    "* <strong><code>&#37;sql</code></strong>\n",
    "\n",
    "Não é necessário adicionar a linguagem mágica o tipo de notebook definido atualmente.\n",
    "\n",
    "Quando alteramos a linguagem do notebook de Python para SQL acima, as células existentes escritas em Python tinham o comando <strong><code>&#37;python</code></strong> adicionado.\n",
    "\n",
    "**OBSERVAÇÃO**: Em vez de alterar constantemente o idioma padrão de um notebook, você deve manter um idioma principal como padrão e usar apenas as mágicas de idioma necessárias para executar o código em outro idioma."
   ]
  },
  {
   "cell_type": "code",
   "execution_count": 0,
   "metadata": {
    "application/vnd.databricks.v1+cell": {
     "cellMetadata": {},
     "inputWidgets": {},
     "nuid": "4e580944-839e-4285-8399-b515ebb18ec6",
     "showTitle": false,
     "title": ""
    }
   },
   "outputs": [],
   "source": [
    "print(\"Python\")"
   ]
  },
  {
   "cell_type": "code",
   "execution_count": 0,
   "metadata": {
    "application/vnd.databricks.v1+cell": {
     "cellMetadata": {},
     "inputWidgets": {},
     "nuid": "5c843eb4-31c8-4a55-ad72-99cfbcff9a4d",
     "showTitle": false,
     "title": ""
    }
   },
   "outputs": [],
   "source": [
    "%sql\n",
    "select \"SQL\""
   ]
  },
  {
   "cell_type": "markdown",
   "metadata": {
    "application/vnd.databricks.v1+cell": {
     "cellMetadata": {},
     "inputWidgets": {},
     "nuid": "2ff12cbc-e557-4cb4-91ca-b72af87353c2",
     "showTitle": false,
     "title": ""
    }
   },
   "source": [
    "# Remarcação\n",
    "\n",
    "O comando mágico **&percnt;md** nos permite renderizar Markdown em uma célula:\n",
    "* Clique duas vezes nesta célula para começar a editá-la\n",
    "* Em seguida, pressione **`Esc`** para parar de editar\n",
    "\n",
    "# Título Um\n",
    "## Título Dois\n",
    "### Título Três\n",
    "\n",
    "\n",
    "**Texto em negrito**\n",
    "*Texto em itálico*\n",
    "\n",
    "Esta é uma lista ordenada\n",
    "1. um\n",
    "1. dois\n",
    "1. três\n",
    "\n",
    "Esta é uma lista não ordenada\n",
    "* A\n",
    "* B\n",
    "* C"
   ]
  },
  {
   "cell_type": "markdown",
   "metadata": {
    "application/vnd.databricks.v1+cell": {
     "cellMetadata": {},
     "inputWidgets": {},
     "nuid": "9dd8f91c-379c-47a6-b94a-edc29e0e154d",
     "showTitle": false,
     "title": ""
    }
   },
   "source": [
    "# %run\n",
    "1. Você pode executar um notebook de outro notebook usando o comando mágico **%run**\n",
    "2. Os notebooks a serem executados são especificados com caminhos relativos\n",
    "3. O notebook referenciado é executado como se fosse parte do notebook atual, portanto, todas as variáveis, exibições e outras declarações locais estarão disponíveis no notebook chamador"
   ]
  },
  {
   "cell_type": "markdown",
   "metadata": {
    "application/vnd.databricks.v1+cell": {
     "cellMetadata": {},
     "inputWidgets": {},
     "nuid": "a917891b-7f7d-4d13-8943-679289bbd3c3",
     "showTitle": false,
     "title": ""
    }
   },
   "source": [
    "Podemos chamar o comando **display** em um dataframe para renderizar sua saída em um formato tabular.\n",
    "O comando **display()** tem os seguintes recursos e limitações:\n",
    "* Pré-visualização dos resultados limitada a 1000 registos\n",
    "* Fornece botão para baixar dados de resultados como csv\n",
    "* pode renderizar a saída como gráficos (a seleção de gráficos está disponível)"
   ]
  },
  {
   "cell_type": "markdown",
   "metadata": {
    "application/vnd.databricks.v1+cell": {
     "cellMetadata": {},
     "inputWidgets": {},
     "nuid": "39cd50e7-ebf6-4bbe-bb51-8c23103b4449",
     "showTitle": false,
     "title": ""
    }
   },
   "source": [
    "# Baixando Notebooks\n",
    "Há várias opções para baixar notebooks individuais ou coleções de notebooks.\n",
    "Passos:\n",
    "1. Clique na opção **File** no canto direito na parte superior do notebook\n",
    "2. No menu, passe o mouse sobre **Export** e selecione **Source File**\n",
    "\n",
    "O notebook será baixado para o seu laptop pessoal. Ele será nomeado com o nome do notebook atual e terá a extensão de arquivo para a linguagem padrão. Você pode abrir este notebook com qualquer editor de arquivo e ver o conteúdo bruto dos notebooks do Databricks.\n",
    "\n",
    "Além disso, você pode carregar esses arquivos baixados em qualquer espaço de trabalho do Databricks usando a opção **Importar**."
   ]
  }
 ],
 "metadata": {
  "application/vnd.databricks.v1+notebook": {
   "dashboards": [],
   "language": "python",
   "notebookMetadata": {
    "mostRecentlyExecutedCommandWithImplicitDF": {
     "commandId": 1979926274443496,
     "dataframes": [
      "_sqldf"
     ]
    },
    "pythonIndentUnit": 4
   },
   "notebookName": "1.1 Getting started with Databricks Notebooks",
   "notebookOrigID": 1979926274443489,
   "widgets": {}
  },
  "kernelspec": {
   "display_name": "Python 3 (ipykernel)",
   "language": "python",
   "name": "python3"
  },
  "language_info": {
   "codemirror_mode": {
    "name": "ipython",
    "version": 3
   },
   "file_extension": ".py",
   "mimetype": "text/x-python",
   "name": "python",
   "nbconvert_exporter": "python",
   "pygments_lexer": "ipython3",
   "version": "3.10.5"
  }
 },
 "nbformat": 4,
 "nbformat_minor": 1
}
