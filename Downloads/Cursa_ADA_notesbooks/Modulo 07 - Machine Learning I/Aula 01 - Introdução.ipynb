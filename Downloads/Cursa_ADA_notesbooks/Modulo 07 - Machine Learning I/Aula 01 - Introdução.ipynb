{
 "cells": [
  {
   "cell_type": "markdown",
   "metadata": {},
   "source": [
    "# Boas-vindas ao módulo de Machine Learning I!\n",
    "\n",
    "- Professor : Carlos Stefano\n",
    "    - Linkedin: https://www.linkedin.com/in/carlos-stefano/\n",
    "    \n",
    "\n",
    "- **ML1: 06/10 a 27/10**\n",
    "(Lembrando que **não** teremos aula no dia 13/10, devido à emenda de feriado!)\n",
    "____\n",
    "[**Formulário de início de módulo**](https://docs.google.com/forms/d/e/1FAIpQLSfGDHx9bp1gZOaiFdvzJVw7UvkLe8gbgYHc3WR6FyetujIXlg/viewform?usp=sf_link)"
   ]
  },
  {
   "cell_type": "markdown",
   "metadata": {},
   "source": [
    "___\n",
    "# Aula 01 - Introdução\n",
    "\n",
    "____________\n",
    "\n",
    "A esta altura, estamos no encaminhando para o fim do nosso curso!\n",
    "\n",
    "Parabéns por ter chegado até aqui --- certamente a jornada foi de muito aprendizado, estudo e dedicação!\n",
    "\n",
    "A partir de hoje, iniciaremos nossos estudos em **machine learning**, e aprenderemos um conjunto de técnicas que é fundamental para todo cientista de dados.\n",
    "\n",
    "Antes de começarmos a nos aprofundar no conteúdo, vamos fazer uma pequena revisão do contexto geral de ciência de dados, e introduzir um pouco de terminologia."
   ]
  },
  {
   "cell_type": "markdown",
   "metadata": {},
   "source": [
    "____"
   ]
  },
  {
   "cell_type": "markdown",
   "metadata": {},
   "source": [
    "## Data Science\n",
    "\n",
    "Como o próprio nome diz, o termo **Data Science** se refere a um conjunto de técnicas e ferramentas utilizadas para a resolução de problemas segundo uma abordagem **data driven**, isto é, **baseada em dados**, cujo objetivo é direcionar o processo de **tomada de decisão** e/ou **produção de novos insights**!\n",
    "\n",
    "Ciência de dados é uma área interdisciplinar baseada em três pilares, conforme a imagem abaixo:\n",
    "\n",
    "<img src=https://s3.amazonaws.com/uploads.hotmart.com/blog/2018/04/data-science-1.png>"
   ]
  },
  {
   "cell_type": "markdown",
   "metadata": {},
   "source": [
    "___"
   ]
  },
  {
   "cell_type": "markdown",
   "metadata": {},
   "source": [
    "## A jornada de um projeto de Data Science\n",
    "\n",
    "Um projeto de data science é dividido, essencialmente, nas seguintes etapas:\n",
    "\n",
    "- 0) Formulação do problema;\n",
    "- 1) Ingestão dos dados;\n",
    "- 2) Preparação dos dados;\n",
    "- 3) Exploração dos dados;\n",
    "- 4) Modelagem;\n",
    "- 5) Apresentação ou deploy;\n",
    "\n",
    "Depois da etapa 0), a mais trabalhosa (e que provavelmente mais vai levar tempo) são de 2) a 3)!\n",
    "\n",
    "E há quem diga que estas são as etapas mais importantes! **(Garbage in, garbage out!)**"
   ]
  },
  {
   "cell_type": "markdown",
   "metadata": {},
   "source": [
    "Além disso, vale ressaltar que a etapa inicial, **Formulação do problema**, pode parecer banal, mas, em realidade, **ela é fundamental para que o restante do desenvolvimento de um projeto em Ciência de Dados seja bem sucedido!** Sem o entendimento e formulação apropriados do problema, podemos cair em \"armadilhas\" e acabar resolvendo outros problemas, que não aquele que precisávamos originalmente resolver!\n",
    "\n",
    "Assim, é muito importante entender bem o problema, e sabermos formular o quê, exatamente, precisamos responder."
   ]
  },
  {
   "cell_type": "markdown",
   "metadata": {},
   "source": [
    "<img src=\"https://www.abgconsultoria.com.br/blog/wp-content/uploads/img33-768x242.png\" width=700>"
   ]
  },
  {
   "cell_type": "markdown",
   "metadata": {},
   "source": [
    "<img src=\"https://www.researchgate.net/profile/Eduardo_Garcia_Del_Valle/publication/327612291/figure/fig4/AS:670200676511747@1536799701256/Sequence-of-functional-units-of-a-data-science-pipeline-including-data.ppm\" width=700>"
   ]
  },
  {
   "cell_type": "markdown",
   "metadata": {},
   "source": [
    "Até o momento, conhecemos diversas técnicas e ferramentas para executamos os passos de 0) a 3).\n",
    "\n",
    "Finalmente, chegou o momento de começarmos a explorar etapa 4)!\n",
    "\n",
    "Vamos então, inicialmente, enunciar alguns termos e conceitos importantes."
   ]
  },
  {
   "cell_type": "markdown",
   "metadata": {},
   "source": [
    "___\n",
    "## Inteligência Artificial\n",
    "\n",
    "É a área que estuda sistemas computacionais **capazes de realizar tarefas que normalmente exigiriam interferência ou ação humana**, mediada pela inteligência natural.\n",
    "\n",
    "Algumas das tarefas que originalmente demandam inteligência natural são: \n",
    "\n",
    "- **percepção visual**;\n",
    "- **reconhecimento de fala**;\n",
    "- **tomada de decisão**;\n",
    "- **tradução entre línguas naturais**.\n",
    "\n",
    "É formidável imaginar que estas tarefas possam ser realizadas por sistemas que não desenvolveram biologicamente o que conhecemos por \"inteligência\". No entanto, este é justamente o objetvio da AI: fazer com que sistemas computacionais resolvam tais tarefas!\n",
    "\n",
    "Neste curso, focaremos em apenas uma **sub-área** da AI, o **Aprendizado de Máquina** (no inglês, **Machine Learning**).\n",
    "\n",
    "<img src=\"https://www.researchgate.net/profile/Ma_Louella_Salenga/publication/324183626/figure/fig1/AS:611807588798464@1522877704466/Fields-of-artificial-intelligence-10.png\" width=650>"
   ]
  },
  {
   "cell_type": "markdown",
   "metadata": {},
   "source": [
    "E também é importante dizer que não apenas de Machine Learning se faz a ciência de dados!\n",
    "\n",
    "<img src=\"https://miro.medium.com/max/1000/1*_0A4I9mXjl6H0Qw401qWRg.png\" width=500>"
   ]
  },
  {
   "cell_type": "markdown",
   "metadata": {},
   "source": [
    "____"
   ]
  },
  {
   "cell_type": "markdown",
   "metadata": {},
   "source": [
    "## Machine Learning\n",
    "\n",
    "A **aprendizagem de máquina** se divide em três grandes áreas, cada uma caracterizada por uma abordagem e escopo específicos:\n",
    "\n",
    "<img src=\"https://i.pinimg.com/originals/67/70/5d/67705d8c7aee0c6b601c16548076e924.png\" width=700>"
   ]
  },
  {
   "cell_type": "markdown",
   "metadata": {},
   "source": [
    "### Deep Learning\n",
    "\n",
    "**Redes neurais artificiais profundas**\n",
    "\n",
    "<img src=\"https://www.institutodeengenharia.org.br/site/wp-content/uploads/2019/04/2.png\" width=650>\n",
    "    \n",
    "<br>\n",
    "\n",
    "<img src=\"https://i2.wp.com/semiengineering.com/wp-content/uploads/2018/01/MLvsDL.png?resize=733%2C405&ssl=1\" width=650>\n",
    "\n",
    "<br>\n",
    "\n",
    "<img src=\"https://www.researchgate.net/publication/331540139/figure/fig3/AS:733273504378885@1551837435876/The-performance-of-deep-learning-with-respect-to-the-amount-of-data.ppm\" width=600>"
   ]
  },
  {
   "cell_type": "markdown",
   "metadata": {},
   "source": [
    "____"
   ]
  },
  {
   "cell_type": "markdown",
   "metadata": {},
   "source": [
    "## O que é \"modelagem\"?\n",
    "\n",
    "Já vimos anteriormente do que se trata machine learning, em um sentido mais amplo.\n",
    "\n",
    "Agora, o que exatamente é a \"modelagem\"? Ou melhor, **o que queremos alcançar ao construir um modelo?** \n",
    "\n",
    "Ou ainda, **o que um modelo representa?**\n",
    "\n",
    "Em linhas gerais, construímos um modelo com o objetivo de **representar a realidade** de maneira quantitativa e matemática.\n",
    "\n",
    "> Um modelo é uma descrição matemática/quantitativa de algum aspecto do problema que desejamos resolver."
   ]
  },
  {
   "cell_type": "markdown",
   "metadata": {},
   "source": [
    "Muitaz vezes, nos interessa **descobrir relações** em nosso universo de interesse, como, por exemplo, como as variáveis **se relacionam para produzir determinado resultado** ou **como elas estão estruturadas**.\n",
    "\n",
    "> É possível descobrir essas relações e estruturas partindo de uma **teoria**, em uma abordagem que chama-se **theory-driven**. Neste caso, partimos de **princípios fundamentais** para explicar o universo de interesse.\n",
    "\n",
    "> Como a abordagem acima é usualmente bastante complexa, partimos para a aboragem **data-driven**, na qual **coletamos amostras do universo de interesse**, e essa amostra é utilizada para que tiremos conclusões, descubramos relações, etc.\n",
    "\n",
    "Observação: muitas vezes, **ambas as abordagens são utilizadas simultaneamente!** Elas não são exludentes!\n",
    "\n",
    "Ambas as abordagens resultam em **um modelo** para descrever a realidade.\n",
    "\n",
    "Contudo, a segunda abordagem é **muito mais dependente da estatística**, para que seja possível avaliar **o quanto você pode confiar no modelo que você construiu**, ou ainda, **o quão útil ele é**.\n",
    "\n",
    "## <i>\"All models are wrong. But some are useful.\"\n",
    "_______"
   ]
  },
  {
   "cell_type": "markdown",
   "metadata": {},
   "source": [
    "Quando utilizamos **Machine Learning** para construir um modelo, os detalhes desta representação são **determinados (“aprendidos”)** a partir de dados, empiricamente, em contraste a uma abordagem theory-driven.\n",
    "\n",
    "Em geral, resolver um problema utilizando técnicas de ML é uma boa ideia se:\n",
    "\n",
    "    • Há dados disponíveis sobre o problema em questão;\n",
    "\n",
    "    • Existe um padrão que é refletido nos dados;\n",
    "\n",
    "    • Uma descrição teórica não é praticável."
   ]
  },
  {
   "cell_type": "markdown",
   "metadata": {},
   "source": [
    "No fim, todo modelo será representado **por uma equação matemática**.\n",
    "\n",
    "No entanto, essa equação pode ser extremamente complexa, de modo que raramente seremos capazes de escrever a equação completa. Mas não se preocupe com isso!\n",
    "\n",
    "<img src=\"https://miro.medium.com/max/2404/1*yLvf2jr_TNkEe9PKYOBDkA.png\" width=500>\n",
    "\n",
    "<img src=\"https://st3.ning.com/topology/rest/1.0/file/get/2808372468?profile=original\" width=500>\n",
    "\n",
    "____"
   ]
  },
  {
   "cell_type": "markdown",
   "metadata": {},
   "source": [
    "Muitas vezes, um modelo complexo não é necessário. \n",
    "\n",
    "Há problemas que são resolvidos com uma simples média!!\n",
    "\n",
    "Então, é muito importante que você como cientista de dados **foque em resolver o problema**, não importa como você fará isso. **Não tente matar uma mosca com um canhão!**\n",
    "\n",
    "É importante, sim, que você **tenha conhecimentos amplos** sobre o maior número possível de técnicas e ferramentas!\n",
    "\n",
    "\n",
    "Mas isso não quer dizer que você **precisa** de machine learning sempre! \n",
    "\n",
    "Então, novamente: foco no problema, não na técnica pela técnica com fim em si mesma!\n",
    "\n",
    "____"
   ]
  },
  {
   "cell_type": "markdown",
   "metadata": {},
   "source": [
    "Vamos focar agora um pouco mais no **ciclo de modelagem**:"
   ]
  },
  {
   "cell_type": "markdown",
   "metadata": {},
   "source": [
    "<img src=\"https://miro.medium.com/max/656/0*FKrWuLRbB_MiEIKh\">"
   ]
  },
  {
   "cell_type": "markdown",
   "metadata": {},
   "source": [
    "- **Conjunto de dados de treino**: são os dados utilizados para a construção do modelo, os dados que o modelo utilizará \"para aprender\"\n",
    "\n",
    "\n",
    "- **Treinamento do modelo/aprendizagem**: é a etapa em que cálculos matemáticos são feitos para que a equação que descreve o modelo seja criada! É assim que \"o modelo aprende!\". Não se preocupe: usaremos bibliotecas para fazer isso!\n",
    "\n",
    "\n",
    "- **Conjunto de dados de teste**: conjunto de dados utilizado para testar o modelo após ele ter sido treinado.\n",
    "\n",
    "\n",
    "- **Avaliação do modelo**: forma de avaliar a performance do modelo. Há várias métricas e formas diferentes de avaliação, que conheceremos melhor mais tarde."
   ]
  },
  {
   "cell_type": "markdown",
   "metadata": {},
   "source": [
    "Além dos elementos discutidos acima, há dois conceitos importantes, que veremos em maiores detalhes mais adiante no curso:\n",
    "\n",
    "- **Conjunto de dados de validação**: conjunto de dados usados para testar o modelo ainda em desenvolvimento, sobretudo com o objetivo de otimização de hiperparâmetros. Vamos discutir melhor sua importância quando falarmos de validação cruzada.\n",
    "\n",
    "- **Seleção de hiperparâmetros/seleção de modelo**: etapa em que os hiperperâmetros que constituem o modelo são selecionados. Aqui, técnicas como **grid search** e **cross validation** são muito importantes! Falaremos disso mais tarde.\n",
    "\n",
    "\n",
    "<img src=\"https://cdn-images-1.medium.com/max/1000/1*ZiYvylk60EY2XG7ck1lqJA.png\" width=400>\n",
    "\n",
    "___________"
   ]
  },
  {
   "cell_type": "markdown",
   "metadata": {},
   "source": [
    "No esquema acima, fica evidente que há duas grandes etapas no **ciclo de modelagem**:\n",
    "\n",
    "### Passo 1: construção do modelo\n",
    "\n",
    "### Passo 2: avaliação do modelo\n",
    "\n",
    "No decorrer do curso, vamos entender a fundo cada uma destas etapas, e as ferramentas associadas a cada uma delas!\n",
    "\n",
    "___________"
   ]
  },
  {
   "cell_type": "markdown",
   "metadata": {},
   "source": [
    "Nas aulas seguintes vamos estudar exemplos específicos de como iterar no ciclo de machine learning.\n",
    "\n",
    "Veremos que, de forma geral, o processo consiste em:\n",
    "\n",
    "- 0) Conhecer os dados com os quais estamos trabalhando --- fazer todo o processo de EDA, etc., etc.\n",
    "\n",
    "\n",
    "- 1) Importar a **classe do estimador que se deseja treinar** - escolher a hipótese!\n",
    "    - Usaremos a biblioteca [scikit-learn](https://scikit-learn.org/stable/)\n",
    "  \n",
    "  \n",
    "- 2) Instanciar a classe do estimador, **escolhendo os hiperparâmetros desejados**\n",
    "    - Para a primeira versão do modelo, pode ser uma boa escolha utilizar os hiperparâmetros default;\n",
    "    - Veremos mais pra frente como escolher os hiperparâmetros adequadamente;\n",
    "   \n",
    "   \n",
    "- 3) Separe os dados em **dados de treino** e **dados de teste**.\n",
    "    - Em alguns casos, pode ser interessante criar também um conjunto de **dados de validação**\n",
    "    - Para fazer a separação, usamos o [train-test split](https://scikit-learn.org/stable/modules/generated/sklearn.model_selection.train_test_split.html)\n",
    "    \n",
    "    \n",
    "- 4) Treine o modelo, usando **os dados de treino**\n",
    "\n",
    "\n",
    "- 5) Use o modelo treinado para **fazer previsões** usando os **dados de teste** (ou **de validação**)\n",
    "\n",
    "\n",
    "- 6) **Avalie a performance do modelo com base nas previsões acima**\n",
    "\n",
    "\n",
    "- 7) Se necessário, reinicie o ciclo!\n",
    "\n",
    "\n",
    "- 8) Quando o modelo estiver suficientemente bom, faça o **deploy**"
   ]
  },
  {
   "cell_type": "markdown",
   "metadata": {},
   "source": [
    "_____\n",
    "\n",
    "Antes de criarmos qualquer modelo, precisamos nos perguntar: **que tipo de problema estou querendo resolver?**\n",
    "\n",
    "Pois o algoritmo de ML que você vai utilizar depende diretamente do tipo de problema que você deseja resolver!\n",
    "\n",
    "Como um guia inicial, a imagem a seguir é muitíssimo útil:"
   ]
  },
  {
   "cell_type": "markdown",
   "metadata": {},
   "source": [
    "<img src=\"https://scikit-learn.org/stable/_static/ml_map.png\" width=900>\n",
    "\n",
    "[Clique Aqui](https://scikit-learn.org/stable/tutorial/machine_learning_map/index.html) para a versão interativa online com links para as páginas de cada estimador!"
   ]
  },
  {
   "cell_type": "markdown",
   "metadata": {},
   "source": [
    "___________\n",
    "\n",
    "Inicialmente, focaremos em métodos de **aprendizagem supervisionada**, que nos auxiliarão a endereçar problemas de **regressão** e **classificação**, que se diferem de maneira muito simples:\n",
    "\n",
    "> Um problema de regressão tem **target contínuo**;\n",
    "\n",
    "> Um problema de classificação **tem target discreto**;\n",
    "\n",
    "<img src=https://static.javatpoint.com/tutorial/machine-learning/images/regression-vs-classification-in-machine-learning.png width=400>\n",
    "\n",
    "<img src=https://miro.medium.com/max/1400/1*wH09k0DhF4JQhVMymtVQHQ.jpeg width=400>\n",
    "\n",
    "A diferenciação entre problemas de classificação e regressão é muito importante (e muito simples de fazer, conforme indicado acima!), sendo nosso principal guia para a determinação dos métodos a serem utilizados tanto na construção quanto na avaliação de um modelo!"
   ]
  },
  {
   "cell_type": "markdown",
   "metadata": {},
   "source": [
    "____\n",
    "\n",
    "Nas próximas aulas, vamos ver exemplos específicos de algoritmos e problemas que eles resolvem.\n",
    "\n",
    "Nossa abordagem será prática e direta. Falaremos brevemente da teoria, mas evitaremos detalhes matemáticos desnecessariamente profundos.\n",
    "\n",
    "Para quem tiver interessado em descobrir mais a fundo sobre os modelos que vamos discutir, recomendo [este livro](https://www.statlearning.com/) para uma primeira exposição, e [este livro](https://web.stanford.edu/~hastie/ElemStatLearn/) para uma abordagem ainda mais profunda e detalhada!\n",
    "\n",
    "Durante as aulas, tocaremos em alguns conceitos da chamada **teoria de aprendizagem estatística**, que é a teoria matemática que fundamenta o que é feito em ML. Aos interessados em maior formalização matemática, indico [este curso](https://work.caltech.edu/telecourse), para uma introdução com rigor matemático, mas acessível; e indico [este livro](https://cs.nyu.edu/~mohri/mlbook/) para quem quiser se aprofundar mais na matemática."
   ]
  },
  {
   "cell_type": "markdown",
   "metadata": {},
   "source": [
    "______\n",
    "\n",
    "E para quem quise descobir um pouco mais sobre estatística, inferência, e as bases para ML, recomendo alguns dos livros [deste site](https://www.openintro.org/book/stat/). O site também tem ótimos tutoriais e um fórum!"
   ]
  },
  {
   "cell_type": "markdown",
   "metadata": {},
   "source": [
    "___\n",
    "## Vamos praticar?"
   ]
  },
  {
   "cell_type": "markdown",
   "metadata": {},
   "source": [
    "Apesar de ainda não termos começado a estudar modelos específicos, pode ser interessante tentarmos formular abordagens para tentar resolver problemas em Ciência de Dados!\n",
    "\n",
    "[Esta base de dados](https://www.kaggle.com/datasets/fedesoriano/stroke-prediction-dataset) traz um conjunto de pacientes com algumas características fisiológicas, e uma varíavel-alvo que indica se aquele paciente teve, ou não, um acidente vascular cerebral (AVC). Você consegue pensar em maneiras de tentar prever se um dado paciente terá um AVC, a partir de suas características fisiológicas?\n",
    "\n",
    "**Importante:** para esse exercício, tente explorar abordagens **sem** utilizar modelos de Machine Learning!"
   ]
  },
  {
   "cell_type": "markdown",
   "metadata": {},
   "source": [
    "Vamos começar nossa exploração de dados!"
   ]
  },
  {
   "cell_type": "code",
   "execution_count": 1,
   "metadata": {},
   "outputs": [],
   "source": [
    "import pandas as pd"
   ]
  },
  {
   "cell_type": "code",
   "execution_count": 2,
   "metadata": {},
   "outputs": [],
   "source": [
    "# leitura dos dados\n",
    "df = pd.read_csv(\"healthcare-dataset-stroke-data.csv\")"
   ]
  },
  {
   "cell_type": "code",
   "execution_count": 3,
   "metadata": {},
   "outputs": [
    {
     "data": {
      "text/html": [
       "<div>\n",
       "<style scoped>\n",
       "    .dataframe tbody tr th:only-of-type {\n",
       "        vertical-align: middle;\n",
       "    }\n",
       "\n",
       "    .dataframe tbody tr th {\n",
       "        vertical-align: top;\n",
       "    }\n",
       "\n",
       "    .dataframe thead th {\n",
       "        text-align: right;\n",
       "    }\n",
       "</style>\n",
       "<table border=\"1\" class=\"dataframe\">\n",
       "  <thead>\n",
       "    <tr style=\"text-align: right;\">\n",
       "      <th></th>\n",
       "      <th>id</th>\n",
       "      <th>gender</th>\n",
       "      <th>age</th>\n",
       "      <th>hypertension</th>\n",
       "      <th>heart_disease</th>\n",
       "      <th>ever_married</th>\n",
       "      <th>work_type</th>\n",
       "      <th>Residence_type</th>\n",
       "      <th>avg_glucose_level</th>\n",
       "      <th>bmi</th>\n",
       "      <th>smoking_status</th>\n",
       "      <th>stroke</th>\n",
       "    </tr>\n",
       "  </thead>\n",
       "  <tbody>\n",
       "    <tr>\n",
       "      <th>0</th>\n",
       "      <td>9046</td>\n",
       "      <td>Male</td>\n",
       "      <td>67.0</td>\n",
       "      <td>0</td>\n",
       "      <td>1</td>\n",
       "      <td>Yes</td>\n",
       "      <td>Private</td>\n",
       "      <td>Urban</td>\n",
       "      <td>228.69</td>\n",
       "      <td>36.6</td>\n",
       "      <td>formerly smoked</td>\n",
       "      <td>1</td>\n",
       "    </tr>\n",
       "    <tr>\n",
       "      <th>1</th>\n",
       "      <td>51676</td>\n",
       "      <td>Female</td>\n",
       "      <td>61.0</td>\n",
       "      <td>0</td>\n",
       "      <td>0</td>\n",
       "      <td>Yes</td>\n",
       "      <td>Self-employed</td>\n",
       "      <td>Rural</td>\n",
       "      <td>202.21</td>\n",
       "      <td>NaN</td>\n",
       "      <td>never smoked</td>\n",
       "      <td>1</td>\n",
       "    </tr>\n",
       "    <tr>\n",
       "      <th>2</th>\n",
       "      <td>31112</td>\n",
       "      <td>Male</td>\n",
       "      <td>80.0</td>\n",
       "      <td>0</td>\n",
       "      <td>1</td>\n",
       "      <td>Yes</td>\n",
       "      <td>Private</td>\n",
       "      <td>Rural</td>\n",
       "      <td>105.92</td>\n",
       "      <td>32.5</td>\n",
       "      <td>never smoked</td>\n",
       "      <td>1</td>\n",
       "    </tr>\n",
       "    <tr>\n",
       "      <th>3</th>\n",
       "      <td>60182</td>\n",
       "      <td>Female</td>\n",
       "      <td>49.0</td>\n",
       "      <td>0</td>\n",
       "      <td>0</td>\n",
       "      <td>Yes</td>\n",
       "      <td>Private</td>\n",
       "      <td>Urban</td>\n",
       "      <td>171.23</td>\n",
       "      <td>34.4</td>\n",
       "      <td>smokes</td>\n",
       "      <td>1</td>\n",
       "    </tr>\n",
       "    <tr>\n",
       "      <th>4</th>\n",
       "      <td>1665</td>\n",
       "      <td>Female</td>\n",
       "      <td>79.0</td>\n",
       "      <td>1</td>\n",
       "      <td>0</td>\n",
       "      <td>Yes</td>\n",
       "      <td>Self-employed</td>\n",
       "      <td>Rural</td>\n",
       "      <td>174.12</td>\n",
       "      <td>24.0</td>\n",
       "      <td>never smoked</td>\n",
       "      <td>1</td>\n",
       "    </tr>\n",
       "  </tbody>\n",
       "</table>\n",
       "</div>"
      ],
      "text/plain": [
       "      id  gender   age  hypertension  heart_disease ever_married  \\\n",
       "0   9046    Male  67.0             0              1          Yes   \n",
       "1  51676  Female  61.0             0              0          Yes   \n",
       "2  31112    Male  80.0             0              1          Yes   \n",
       "3  60182  Female  49.0             0              0          Yes   \n",
       "4   1665  Female  79.0             1              0          Yes   \n",
       "\n",
       "       work_type Residence_type  avg_glucose_level   bmi   smoking_status  \\\n",
       "0        Private          Urban             228.69  36.6  formerly smoked   \n",
       "1  Self-employed          Rural             202.21   NaN     never smoked   \n",
       "2        Private          Rural             105.92  32.5     never smoked   \n",
       "3        Private          Urban             171.23  34.4           smokes   \n",
       "4  Self-employed          Rural             174.12  24.0     never smoked   \n",
       "\n",
       "   stroke  \n",
       "0       1  \n",
       "1       1  \n",
       "2       1  \n",
       "3       1  \n",
       "4       1  "
      ]
     },
     "execution_count": 3,
     "metadata": {},
     "output_type": "execute_result"
    }
   ],
   "source": [
    "# visualização dos dados no dataframe\n",
    "df.head()"
   ]
  },
  {
   "cell_type": "markdown",
   "metadata": {},
   "source": [
    "Verificando as proporções de classes na variável \"stroke\", que indica se o paciente sofreu, ou não, AVC, observamos que, aproximadamente, 95 % das entradas na base **não** tiveram AVC."
   ]
  },
  {
   "cell_type": "code",
   "execution_count": 4,
   "metadata": {},
   "outputs": [
    {
     "data": {
      "text/plain": [
       "0    0.951272\n",
       "1    0.048728\n",
       "Name: stroke, dtype: float64"
      ]
     },
     "execution_count": 4,
     "metadata": {},
     "output_type": "execute_result"
    }
   ],
   "source": [
    "df[\"stroke\"].value_counts(normalize = True)"
   ]
  },
  {
   "cell_type": "code",
   "execution_count": 5,
   "metadata": {},
   "outputs": [
    {
     "data": {
      "text/plain": [
       "0    4861\n",
       "1     249\n",
       "Name: stroke, dtype: int64"
      ]
     },
     "execution_count": 5,
     "metadata": {},
     "output_type": "execute_result"
    }
   ],
   "source": [
    "df[\"stroke\"].value_counts()"
   ]
  },
  {
   "cell_type": "markdown",
   "metadata": {},
   "source": [
    "Temos, assim, um dataset bastante desbalanceado. "
   ]
  },
  {
   "cell_type": "markdown",
   "metadata": {},
   "source": [
    "A seguir, podemos computar algumas correlações, para explorar possíveis relações entre as variáveis do conjunto de dados."
   ]
  },
  {
   "cell_type": "code",
   "execution_count": 5,
   "metadata": {},
   "outputs": [
    {
     "data": {
      "text/html": [
       "<div>\n",
       "<style scoped>\n",
       "    .dataframe tbody tr th:only-of-type {\n",
       "        vertical-align: middle;\n",
       "    }\n",
       "\n",
       "    .dataframe tbody tr th {\n",
       "        vertical-align: top;\n",
       "    }\n",
       "\n",
       "    .dataframe thead th {\n",
       "        text-align: right;\n",
       "    }\n",
       "</style>\n",
       "<table border=\"1\" class=\"dataframe\">\n",
       "  <thead>\n",
       "    <tr style=\"text-align: right;\">\n",
       "      <th></th>\n",
       "      <th>id</th>\n",
       "      <th>age</th>\n",
       "      <th>hypertension</th>\n",
       "      <th>heart_disease</th>\n",
       "      <th>avg_glucose_level</th>\n",
       "      <th>bmi</th>\n",
       "      <th>stroke</th>\n",
       "    </tr>\n",
       "  </thead>\n",
       "  <tbody>\n",
       "    <tr>\n",
       "      <th>id</th>\n",
       "      <td>1.000000</td>\n",
       "      <td>0.003741</td>\n",
       "      <td>0.003553</td>\n",
       "      <td>-0.001205</td>\n",
       "      <td>-0.053058</td>\n",
       "      <td>0.008945</td>\n",
       "      <td>0.006499</td>\n",
       "    </tr>\n",
       "    <tr>\n",
       "      <th>age</th>\n",
       "      <td>0.003741</td>\n",
       "      <td>1.000000</td>\n",
       "      <td>0.280647</td>\n",
       "      <td>0.269627</td>\n",
       "      <td>0.145168</td>\n",
       "      <td>0.375650</td>\n",
       "      <td>0.249531</td>\n",
       "    </tr>\n",
       "    <tr>\n",
       "      <th>hypertension</th>\n",
       "      <td>0.003553</td>\n",
       "      <td>0.280647</td>\n",
       "      <td>1.000000</td>\n",
       "      <td>0.108306</td>\n",
       "      <td>0.114041</td>\n",
       "      <td>0.167493</td>\n",
       "      <td>0.127904</td>\n",
       "    </tr>\n",
       "    <tr>\n",
       "      <th>heart_disease</th>\n",
       "      <td>-0.001205</td>\n",
       "      <td>0.269627</td>\n",
       "      <td>0.108306</td>\n",
       "      <td>1.000000</td>\n",
       "      <td>0.106360</td>\n",
       "      <td>0.066144</td>\n",
       "      <td>0.134914</td>\n",
       "    </tr>\n",
       "    <tr>\n",
       "      <th>avg_glucose_level</th>\n",
       "      <td>-0.053058</td>\n",
       "      <td>0.145168</td>\n",
       "      <td>0.114041</td>\n",
       "      <td>0.106360</td>\n",
       "      <td>1.000000</td>\n",
       "      <td>0.114370</td>\n",
       "      <td>0.082541</td>\n",
       "    </tr>\n",
       "    <tr>\n",
       "      <th>bmi</th>\n",
       "      <td>0.008945</td>\n",
       "      <td>0.375650</td>\n",
       "      <td>0.167493</td>\n",
       "      <td>0.066144</td>\n",
       "      <td>0.114370</td>\n",
       "      <td>1.000000</td>\n",
       "      <td>0.055445</td>\n",
       "    </tr>\n",
       "    <tr>\n",
       "      <th>stroke</th>\n",
       "      <td>0.006499</td>\n",
       "      <td>0.249531</td>\n",
       "      <td>0.127904</td>\n",
       "      <td>0.134914</td>\n",
       "      <td>0.082541</td>\n",
       "      <td>0.055445</td>\n",
       "      <td>1.000000</td>\n",
       "    </tr>\n",
       "  </tbody>\n",
       "</table>\n",
       "</div>"
      ],
      "text/plain": [
       "                         id       age  hypertension  heart_disease  \\\n",
       "id                 1.000000  0.003741      0.003553      -0.001205   \n",
       "age                0.003741  1.000000      0.280647       0.269627   \n",
       "hypertension       0.003553  0.280647      1.000000       0.108306   \n",
       "heart_disease     -0.001205  0.269627      0.108306       1.000000   \n",
       "avg_glucose_level -0.053058  0.145168      0.114041       0.106360   \n",
       "bmi                0.008945  0.375650      0.167493       0.066144   \n",
       "stroke             0.006499  0.249531      0.127904       0.134914   \n",
       "\n",
       "                   avg_glucose_level       bmi    stroke  \n",
       "id                         -0.053058  0.008945  0.006499  \n",
       "age                         0.145168  0.375650  0.249531  \n",
       "hypertension                0.114041  0.167493  0.127904  \n",
       "heart_disease               0.106360  0.066144  0.134914  \n",
       "avg_glucose_level           1.000000  0.114370  0.082541  \n",
       "bmi                         0.114370  1.000000  0.055445  \n",
       "stroke                      0.082541  0.055445  1.000000  "
      ]
     },
     "execution_count": 5,
     "metadata": {},
     "output_type": "execute_result"
    }
   ],
   "source": [
    "df.corr(method = \"spearman\", numeric_only = True)"
   ]
  },
  {
   "cell_type": "code",
   "execution_count": 6,
   "metadata": {},
   "outputs": [
    {
     "data": {
      "text/html": [
       "<div>\n",
       "<style scoped>\n",
       "    .dataframe tbody tr th:only-of-type {\n",
       "        vertical-align: middle;\n",
       "    }\n",
       "\n",
       "    .dataframe tbody tr th {\n",
       "        vertical-align: top;\n",
       "    }\n",
       "\n",
       "    .dataframe thead th {\n",
       "        text-align: right;\n",
       "    }\n",
       "</style>\n",
       "<table border=\"1\" class=\"dataframe\">\n",
       "  <thead>\n",
       "    <tr style=\"text-align: right;\">\n",
       "      <th></th>\n",
       "      <th>id</th>\n",
       "      <th>age</th>\n",
       "      <th>hypertension</th>\n",
       "      <th>heart_disease</th>\n",
       "      <th>avg_glucose_level</th>\n",
       "      <th>bmi</th>\n",
       "      <th>stroke</th>\n",
       "    </tr>\n",
       "  </thead>\n",
       "  <tbody>\n",
       "    <tr>\n",
       "      <th>id</th>\n",
       "      <td>1.000000</td>\n",
       "      <td>0.003538</td>\n",
       "      <td>0.003550</td>\n",
       "      <td>-0.001296</td>\n",
       "      <td>0.001092</td>\n",
       "      <td>0.003084</td>\n",
       "      <td>0.006388</td>\n",
       "    </tr>\n",
       "    <tr>\n",
       "      <th>age</th>\n",
       "      <td>0.003538</td>\n",
       "      <td>1.000000</td>\n",
       "      <td>0.276398</td>\n",
       "      <td>0.263796</td>\n",
       "      <td>0.238171</td>\n",
       "      <td>0.333398</td>\n",
       "      <td>0.245257</td>\n",
       "    </tr>\n",
       "    <tr>\n",
       "      <th>hypertension</th>\n",
       "      <td>0.003550</td>\n",
       "      <td>0.276398</td>\n",
       "      <td>1.000000</td>\n",
       "      <td>0.108306</td>\n",
       "      <td>0.174474</td>\n",
       "      <td>0.167811</td>\n",
       "      <td>0.127904</td>\n",
       "    </tr>\n",
       "    <tr>\n",
       "      <th>heart_disease</th>\n",
       "      <td>-0.001296</td>\n",
       "      <td>0.263796</td>\n",
       "      <td>0.108306</td>\n",
       "      <td>1.000000</td>\n",
       "      <td>0.161857</td>\n",
       "      <td>0.041357</td>\n",
       "      <td>0.134914</td>\n",
       "    </tr>\n",
       "    <tr>\n",
       "      <th>avg_glucose_level</th>\n",
       "      <td>0.001092</td>\n",
       "      <td>0.238171</td>\n",
       "      <td>0.174474</td>\n",
       "      <td>0.161857</td>\n",
       "      <td>1.000000</td>\n",
       "      <td>0.175502</td>\n",
       "      <td>0.131945</td>\n",
       "    </tr>\n",
       "    <tr>\n",
       "      <th>bmi</th>\n",
       "      <td>0.003084</td>\n",
       "      <td>0.333398</td>\n",
       "      <td>0.167811</td>\n",
       "      <td>0.041357</td>\n",
       "      <td>0.175502</td>\n",
       "      <td>1.000000</td>\n",
       "      <td>0.042374</td>\n",
       "    </tr>\n",
       "    <tr>\n",
       "      <th>stroke</th>\n",
       "      <td>0.006388</td>\n",
       "      <td>0.245257</td>\n",
       "      <td>0.127904</td>\n",
       "      <td>0.134914</td>\n",
       "      <td>0.131945</td>\n",
       "      <td>0.042374</td>\n",
       "      <td>1.000000</td>\n",
       "    </tr>\n",
       "  </tbody>\n",
       "</table>\n",
       "</div>"
      ],
      "text/plain": [
       "                         id       age  hypertension  heart_disease  \\\n",
       "id                 1.000000  0.003538      0.003550      -0.001296   \n",
       "age                0.003538  1.000000      0.276398       0.263796   \n",
       "hypertension       0.003550  0.276398      1.000000       0.108306   \n",
       "heart_disease     -0.001296  0.263796      0.108306       1.000000   \n",
       "avg_glucose_level  0.001092  0.238171      0.174474       0.161857   \n",
       "bmi                0.003084  0.333398      0.167811       0.041357   \n",
       "stroke             0.006388  0.245257      0.127904       0.134914   \n",
       "\n",
       "                   avg_glucose_level       bmi    stroke  \n",
       "id                          0.001092  0.003084  0.006388  \n",
       "age                         0.238171  0.333398  0.245257  \n",
       "hypertension                0.174474  0.167811  0.127904  \n",
       "heart_disease               0.161857  0.041357  0.134914  \n",
       "avg_glucose_level           1.000000  0.175502  0.131945  \n",
       "bmi                         0.175502  1.000000  0.042374  \n",
       "stroke                      0.131945  0.042374  1.000000  "
      ]
     },
     "execution_count": 6,
     "metadata": {},
     "output_type": "execute_result"
    }
   ],
   "source": [
    "df.corr(method = 'pearson', numeric_only = True)"
   ]
  },
  {
   "cell_type": "code",
   "execution_count": 7,
   "metadata": {},
   "outputs": [
    {
     "data": {
      "text/plain": [
       "<AxesSubplot: xlabel='bmi', ylabel='age'>"
      ]
     },
     "execution_count": 7,
     "metadata": {},
     "output_type": "execute_result"
    },
    {
     "data": {
      "image/png": "[encoded data removed]",
      "text/plain": [
       "<Figure size 432x288 with 1 Axes>"
      ]
     },
     "metadata": {
      "needs_background": "light"
     },
     "output_type": "display_data"
    }
   ],
   "source": [
    "import seaborn as sns\n",
    "sns.scatterplot(data = df,\n",
    "               x = \"bmi\",\n",
    "               y = \"age\")"
   ]
  },
  {
   "cell_type": "markdown",
   "metadata": {},
   "source": [
    "E como podemos tratar variáveis categóricas, para que possamos computar correlações?"
   ]
  },
  {
   "cell_type": "code",
   "execution_count": 8,
   "metadata": {},
   "outputs": [
    {
     "data": {
      "text/html": [
       "<div>\n",
       "<style scoped>\n",
       "    .dataframe tbody tr th:only-of-type {\n",
       "        vertical-align: middle;\n",
       "    }\n",
       "\n",
       "    .dataframe tbody tr th {\n",
       "        vertical-align: top;\n",
       "    }\n",
       "\n",
       "    .dataframe thead th {\n",
       "        text-align: right;\n",
       "    }\n",
       "</style>\n",
       "<table border=\"1\" class=\"dataframe\">\n",
       "  <thead>\n",
       "    <tr style=\"text-align: right;\">\n",
       "      <th></th>\n",
       "      <th>id</th>\n",
       "      <th>gender</th>\n",
       "      <th>age</th>\n",
       "      <th>hypertension</th>\n",
       "      <th>heart_disease</th>\n",
       "      <th>ever_married</th>\n",
       "      <th>work_type</th>\n",
       "      <th>Residence_type</th>\n",
       "      <th>avg_glucose_level</th>\n",
       "      <th>bmi</th>\n",
       "      <th>smoking_status</th>\n",
       "      <th>stroke</th>\n",
       "    </tr>\n",
       "  </thead>\n",
       "  <tbody>\n",
       "    <tr>\n",
       "      <th>0</th>\n",
       "      <td>9046</td>\n",
       "      <td>Male</td>\n",
       "      <td>67.0</td>\n",
       "      <td>0</td>\n",
       "      <td>1</td>\n",
       "      <td>Yes</td>\n",
       "      <td>Private</td>\n",
       "      <td>Urban</td>\n",
       "      <td>228.69</td>\n",
       "      <td>36.6</td>\n",
       "      <td>formerly smoked</td>\n",
       "      <td>1</td>\n",
       "    </tr>\n",
       "    <tr>\n",
       "      <th>1</th>\n",
       "      <td>51676</td>\n",
       "      <td>Female</td>\n",
       "      <td>61.0</td>\n",
       "      <td>0</td>\n",
       "      <td>0</td>\n",
       "      <td>Yes</td>\n",
       "      <td>Self-employed</td>\n",
       "      <td>Rural</td>\n",
       "      <td>202.21</td>\n",
       "      <td>NaN</td>\n",
       "      <td>never smoked</td>\n",
       "      <td>1</td>\n",
       "    </tr>\n",
       "    <tr>\n",
       "      <th>2</th>\n",
       "      <td>31112</td>\n",
       "      <td>Male</td>\n",
       "      <td>80.0</td>\n",
       "      <td>0</td>\n",
       "      <td>1</td>\n",
       "      <td>Yes</td>\n",
       "      <td>Private</td>\n",
       "      <td>Rural</td>\n",
       "      <td>105.92</td>\n",
       "      <td>32.5</td>\n",
       "      <td>never smoked</td>\n",
       "      <td>1</td>\n",
       "    </tr>\n",
       "    <tr>\n",
       "      <th>3</th>\n",
       "      <td>60182</td>\n",
       "      <td>Female</td>\n",
       "      <td>49.0</td>\n",
       "      <td>0</td>\n",
       "      <td>0</td>\n",
       "      <td>Yes</td>\n",
       "      <td>Private</td>\n",
       "      <td>Urban</td>\n",
       "      <td>171.23</td>\n",
       "      <td>34.4</td>\n",
       "      <td>smokes</td>\n",
       "      <td>1</td>\n",
       "    </tr>\n",
       "    <tr>\n",
       "      <th>4</th>\n",
       "      <td>1665</td>\n",
       "      <td>Female</td>\n",
       "      <td>79.0</td>\n",
       "      <td>1</td>\n",
       "      <td>0</td>\n",
       "      <td>Yes</td>\n",
       "      <td>Self-employed</td>\n",
       "      <td>Rural</td>\n",
       "      <td>174.12</td>\n",
       "      <td>24.0</td>\n",
       "      <td>never smoked</td>\n",
       "      <td>1</td>\n",
       "    </tr>\n",
       "  </tbody>\n",
       "</table>\n",
       "</div>"
      ],
      "text/plain": [
       "      id  gender   age  hypertension  heart_disease ever_married  \\\n",
       "0   9046    Male  67.0             0              1          Yes   \n",
       "1  51676  Female  61.0             0              0          Yes   \n",
       "2  31112    Male  80.0             0              1          Yes   \n",
       "3  60182  Female  49.0             0              0          Yes   \n",
       "4   1665  Female  79.0             1              0          Yes   \n",
       "\n",
       "       work_type Residence_type  avg_glucose_level   bmi   smoking_status  \\\n",
       "0        Private          Urban             228.69  36.6  formerly smoked   \n",
       "1  Self-employed          Rural             202.21   NaN     never smoked   \n",
       "2        Private          Rural             105.92  32.5     never smoked   \n",
       "3        Private          Urban             171.23  34.4           smokes   \n",
       "4  Self-employed          Rural             174.12  24.0     never smoked   \n",
       "\n",
       "   stroke  \n",
       "0       1  \n",
       "1       1  \n",
       "2       1  \n",
       "3       1  \n",
       "4       1  "
      ]
     },
     "execution_count": 8,
     "metadata": {},
     "output_type": "execute_result"
    }
   ],
   "source": [
    "df.head()"
   ]
  },
  {
   "cell_type": "code",
   "execution_count": 9,
   "metadata": {},
   "outputs": [
    {
     "data": {
      "text/plain": [
       "array(['Private', 'Self-employed', 'Govt_job', 'children', 'Never_worked'],\n",
       "      dtype=object)"
      ]
     },
     "execution_count": 9,
     "metadata": {},
     "output_type": "execute_result"
    }
   ],
   "source": [
    "df[\"work_type\"].unique()"
   ]
  },
  {
   "cell_type": "markdown",
   "metadata": {},
   "source": [
    "Utilizando a função *get_dummies()* do pandas, podemos criar \"N\" variáveis, representando cada uma das possíveis categorias da variável categórica original. Vejamos, abaixo, o exemplo para a grandeza \"work_type\"."
   ]
  },
  {
   "cell_type": "code",
   "execution_count": 10,
   "metadata": {},
   "outputs": [
    {
     "data": {
      "text/html": [
       "<div>\n",
       "<style scoped>\n",
       "    .dataframe tbody tr th:only-of-type {\n",
       "        vertical-align: middle;\n",
       "    }\n",
       "\n",
       "    .dataframe tbody tr th {\n",
       "        vertical-align: top;\n",
       "    }\n",
       "\n",
       "    .dataframe thead th {\n",
       "        text-align: right;\n",
       "    }\n",
       "</style>\n",
       "<table border=\"1\" class=\"dataframe\">\n",
       "  <thead>\n",
       "    <tr style=\"text-align: right;\">\n",
       "      <th></th>\n",
       "      <th>Govt_job</th>\n",
       "      <th>Never_worked</th>\n",
       "      <th>Private</th>\n",
       "      <th>Self-employed</th>\n",
       "      <th>children</th>\n",
       "    </tr>\n",
       "  </thead>\n",
       "  <tbody>\n",
       "    <tr>\n",
       "      <th>0</th>\n",
       "      <td>0</td>\n",
       "      <td>0</td>\n",
       "      <td>1</td>\n",
       "      <td>0</td>\n",
       "      <td>0</td>\n",
       "    </tr>\n",
       "    <tr>\n",
       "      <th>1</th>\n",
       "      <td>0</td>\n",
       "      <td>0</td>\n",
       "      <td>0</td>\n",
       "      <td>1</td>\n",
       "      <td>0</td>\n",
       "    </tr>\n",
       "    <tr>\n",
       "      <th>2</th>\n",
       "      <td>0</td>\n",
       "      <td>0</td>\n",
       "      <td>1</td>\n",
       "      <td>0</td>\n",
       "      <td>0</td>\n",
       "    </tr>\n",
       "    <tr>\n",
       "      <th>3</th>\n",
       "      <td>0</td>\n",
       "      <td>0</td>\n",
       "      <td>1</td>\n",
       "      <td>0</td>\n",
       "      <td>0</td>\n",
       "    </tr>\n",
       "    <tr>\n",
       "      <th>4</th>\n",
       "      <td>0</td>\n",
       "      <td>0</td>\n",
       "      <td>0</td>\n",
       "      <td>1</td>\n",
       "      <td>0</td>\n",
       "    </tr>\n",
       "    <tr>\n",
       "      <th>...</th>\n",
       "      <td>...</td>\n",
       "      <td>...</td>\n",
       "      <td>...</td>\n",
       "      <td>...</td>\n",
       "      <td>...</td>\n",
       "    </tr>\n",
       "    <tr>\n",
       "      <th>5105</th>\n",
       "      <td>0</td>\n",
       "      <td>0</td>\n",
       "      <td>1</td>\n",
       "      <td>0</td>\n",
       "      <td>0</td>\n",
       "    </tr>\n",
       "    <tr>\n",
       "      <th>5106</th>\n",
       "      <td>0</td>\n",
       "      <td>0</td>\n",
       "      <td>0</td>\n",
       "      <td>1</td>\n",
       "      <td>0</td>\n",
       "    </tr>\n",
       "    <tr>\n",
       "      <th>5107</th>\n",
       "      <td>0</td>\n",
       "      <td>0</td>\n",
       "      <td>0</td>\n",
       "      <td>1</td>\n",
       "      <td>0</td>\n",
       "    </tr>\n",
       "    <tr>\n",
       "      <th>5108</th>\n",
       "      <td>0</td>\n",
       "      <td>0</td>\n",
       "      <td>1</td>\n",
       "      <td>0</td>\n",
       "      <td>0</td>\n",
       "    </tr>\n",
       "    <tr>\n",
       "      <th>5109</th>\n",
       "      <td>1</td>\n",
       "      <td>0</td>\n",
       "      <td>0</td>\n",
       "      <td>0</td>\n",
       "      <td>0</td>\n",
       "    </tr>\n",
       "  </tbody>\n",
       "</table>\n",
       "<p>5110 rows × 5 columns</p>\n",
       "</div>"
      ],
      "text/plain": [
       "      Govt_job  Never_worked  Private  Self-employed  children\n",
       "0            0             0        1              0         0\n",
       "1            0             0        0              1         0\n",
       "2            0             0        1              0         0\n",
       "3            0             0        1              0         0\n",
       "4            0             0        0              1         0\n",
       "...        ...           ...      ...            ...       ...\n",
       "5105         0             0        1              0         0\n",
       "5106         0             0        0              1         0\n",
       "5107         0             0        0              1         0\n",
       "5108         0             0        1              0         0\n",
       "5109         1             0        0              0         0\n",
       "\n",
       "[5110 rows x 5 columns]"
      ]
     },
     "execution_count": 10,
     "metadata": {},
     "output_type": "execute_result"
    }
   ],
   "source": [
    "pd.get_dummies(df[\"work_type\"])"
   ]
  },
  {
   "cell_type": "code",
   "execution_count": 13,
   "metadata": {},
   "outputs": [],
   "source": [
    "df2 = pd.get_dummies(df, columns = [\"work_type\"])"
   ]
  },
  {
   "cell_type": "code",
   "execution_count": 14,
   "metadata": {},
   "outputs": [
    {
     "data": {
      "text/html": [
       "<div>\n",
       "<style scoped>\n",
       "    .dataframe tbody tr th:only-of-type {\n",
       "        vertical-align: middle;\n",
       "    }\n",
       "\n",
       "    .dataframe tbody tr th {\n",
       "        vertical-align: top;\n",
       "    }\n",
       "\n",
       "    .dataframe thead th {\n",
       "        text-align: right;\n",
       "    }\n",
       "</style>\n",
       "<table border=\"1\" class=\"dataframe\">\n",
       "  <thead>\n",
       "    <tr style=\"text-align: right;\">\n",
       "      <th></th>\n",
       "      <th>id</th>\n",
       "      <th>gender</th>\n",
       "      <th>age</th>\n",
       "      <th>hypertension</th>\n",
       "      <th>heart_disease</th>\n",
       "      <th>ever_married</th>\n",
       "      <th>Residence_type</th>\n",
       "      <th>avg_glucose_level</th>\n",
       "      <th>bmi</th>\n",
       "      <th>smoking_status</th>\n",
       "      <th>stroke</th>\n",
       "      <th>work_type_Govt_job</th>\n",
       "      <th>work_type_Never_worked</th>\n",
       "      <th>work_type_Private</th>\n",
       "      <th>work_type_Self-employed</th>\n",
       "      <th>work_type_children</th>\n",
       "    </tr>\n",
       "  </thead>\n",
       "  <tbody>\n",
       "    <tr>\n",
       "      <th>0</th>\n",
       "      <td>9046</td>\n",
       "      <td>Male</td>\n",
       "      <td>67.0</td>\n",
       "      <td>0</td>\n",
       "      <td>1</td>\n",
       "      <td>Yes</td>\n",
       "      <td>Urban</td>\n",
       "      <td>228.69</td>\n",
       "      <td>36.6</td>\n",
       "      <td>formerly smoked</td>\n",
       "      <td>1</td>\n",
       "      <td>0</td>\n",
       "      <td>0</td>\n",
       "      <td>1</td>\n",
       "      <td>0</td>\n",
       "      <td>0</td>\n",
       "    </tr>\n",
       "    <tr>\n",
       "      <th>1</th>\n",
       "      <td>51676</td>\n",
       "      <td>Female</td>\n",
       "      <td>61.0</td>\n",
       "      <td>0</td>\n",
       "      <td>0</td>\n",
       "      <td>Yes</td>\n",
       "      <td>Rural</td>\n",
       "      <td>202.21</td>\n",
       "      <td>NaN</td>\n",
       "      <td>never smoked</td>\n",
       "      <td>1</td>\n",
       "      <td>0</td>\n",
       "      <td>0</td>\n",
       "      <td>0</td>\n",
       "      <td>1</td>\n",
       "      <td>0</td>\n",
       "    </tr>\n",
       "    <tr>\n",
       "      <th>2</th>\n",
       "      <td>31112</td>\n",
       "      <td>Male</td>\n",
       "      <td>80.0</td>\n",
       "      <td>0</td>\n",
       "      <td>1</td>\n",
       "      <td>Yes</td>\n",
       "      <td>Rural</td>\n",
       "      <td>105.92</td>\n",
       "      <td>32.5</td>\n",
       "      <td>never smoked</td>\n",
       "      <td>1</td>\n",
       "      <td>0</td>\n",
       "      <td>0</td>\n",
       "      <td>1</td>\n",
       "      <td>0</td>\n",
       "      <td>0</td>\n",
       "    </tr>\n",
       "    <tr>\n",
       "      <th>3</th>\n",
       "      <td>60182</td>\n",
       "      <td>Female</td>\n",
       "      <td>49.0</td>\n",
       "      <td>0</td>\n",
       "      <td>0</td>\n",
       "      <td>Yes</td>\n",
       "      <td>Urban</td>\n",
       "      <td>171.23</td>\n",
       "      <td>34.4</td>\n",
       "      <td>smokes</td>\n",
       "      <td>1</td>\n",
       "      <td>0</td>\n",
       "      <td>0</td>\n",
       "      <td>1</td>\n",
       "      <td>0</td>\n",
       "      <td>0</td>\n",
       "    </tr>\n",
       "    <tr>\n",
       "      <th>4</th>\n",
       "      <td>1665</td>\n",
       "      <td>Female</td>\n",
       "      <td>79.0</td>\n",
       "      <td>1</td>\n",
       "      <td>0</td>\n",
       "      <td>Yes</td>\n",
       "      <td>Rural</td>\n",
       "      <td>174.12</td>\n",
       "      <td>24.0</td>\n",
       "      <td>never smoked</td>\n",
       "      <td>1</td>\n",
       "      <td>0</td>\n",
       "      <td>0</td>\n",
       "      <td>0</td>\n",
       "      <td>1</td>\n",
       "      <td>0</td>\n",
       "    </tr>\n",
       "    <tr>\n",
       "      <th>...</th>\n",
       "      <td>...</td>\n",
       "      <td>...</td>\n",
       "      <td>...</td>\n",
       "      <td>...</td>\n",
       "      <td>...</td>\n",
       "      <td>...</td>\n",
       "      <td>...</td>\n",
       "      <td>...</td>\n",
       "      <td>...</td>\n",
       "      <td>...</td>\n",
       "      <td>...</td>\n",
       "      <td>...</td>\n",
       "      <td>...</td>\n",
       "      <td>...</td>\n",
       "      <td>...</td>\n",
       "      <td>...</td>\n",
       "    </tr>\n",
       "    <tr>\n",
       "      <th>5105</th>\n",
       "      <td>18234</td>\n",
       "      <td>Female</td>\n",
       "      <td>80.0</td>\n",
       "      <td>1</td>\n",
       "      <td>0</td>\n",
       "      <td>Yes</td>\n",
       "      <td>Urban</td>\n",
       "      <td>83.75</td>\n",
       "      <td>NaN</td>\n",
       "      <td>never smoked</td>\n",
       "      <td>0</td>\n",
       "      <td>0</td>\n",
       "      <td>0</td>\n",
       "      <td>1</td>\n",
       "      <td>0</td>\n",
       "      <td>0</td>\n",
       "    </tr>\n",
       "    <tr>\n",
       "      <th>5106</th>\n",
       "      <td>44873</td>\n",
       "      <td>Female</td>\n",
       "      <td>81.0</td>\n",
       "      <td>0</td>\n",
       "      <td>0</td>\n",
       "      <td>Yes</td>\n",
       "      <td>Urban</td>\n",
       "      <td>125.20</td>\n",
       "      <td>40.0</td>\n",
       "      <td>never smoked</td>\n",
       "      <td>0</td>\n",
       "      <td>0</td>\n",
       "      <td>0</td>\n",
       "      <td>0</td>\n",
       "      <td>1</td>\n",
       "      <td>0</td>\n",
       "    </tr>\n",
       "    <tr>\n",
       "      <th>5107</th>\n",
       "      <td>19723</td>\n",
       "      <td>Female</td>\n",
       "      <td>35.0</td>\n",
       "      <td>0</td>\n",
       "      <td>0</td>\n",
       "      <td>Yes</td>\n",
       "      <td>Rural</td>\n",
       "      <td>82.99</td>\n",
       "      <td>30.6</td>\n",
       "      <td>never smoked</td>\n",
       "      <td>0</td>\n",
       "      <td>0</td>\n",
       "      <td>0</td>\n",
       "      <td>0</td>\n",
       "      <td>1</td>\n",
       "      <td>0</td>\n",
       "    </tr>\n",
       "    <tr>\n",
       "      <th>5108</th>\n",
       "      <td>37544</td>\n",
       "      <td>Male</td>\n",
       "      <td>51.0</td>\n",
       "      <td>0</td>\n",
       "      <td>0</td>\n",
       "      <td>Yes</td>\n",
       "      <td>Rural</td>\n",
       "      <td>166.29</td>\n",
       "      <td>25.6</td>\n",
       "      <td>formerly smoked</td>\n",
       "      <td>0</td>\n",
       "      <td>0</td>\n",
       "      <td>0</td>\n",
       "      <td>1</td>\n",
       "      <td>0</td>\n",
       "      <td>0</td>\n",
       "    </tr>\n",
       "    <tr>\n",
       "      <th>5109</th>\n",
       "      <td>44679</td>\n",
       "      <td>Female</td>\n",
       "      <td>44.0</td>\n",
       "      <td>0</td>\n",
       "      <td>0</td>\n",
       "      <td>Yes</td>\n",
       "      <td>Urban</td>\n",
       "      <td>85.28</td>\n",
       "      <td>26.2</td>\n",
       "      <td>Unknown</td>\n",
       "      <td>0</td>\n",
       "      <td>1</td>\n",
       "      <td>0</td>\n",
       "      <td>0</td>\n",
       "      <td>0</td>\n",
       "      <td>0</td>\n",
       "    </tr>\n",
       "  </tbody>\n",
       "</table>\n",
       "<p>5110 rows × 16 columns</p>\n",
       "</div>"
      ],
      "text/plain": [
       "         id  gender   age  hypertension  heart_disease ever_married  \\\n",
       "0      9046    Male  67.0             0              1          Yes   \n",
       "1     51676  Female  61.0             0              0          Yes   \n",
       "2     31112    Male  80.0             0              1          Yes   \n",
       "3     60182  Female  49.0             0              0          Yes   \n",
       "4      1665  Female  79.0             1              0          Yes   \n",
       "...     ...     ...   ...           ...            ...          ...   \n",
       "5105  18234  Female  80.0             1              0          Yes   \n",
       "5106  44873  Female  81.0             0              0          Yes   \n",
       "5107  19723  Female  35.0             0              0          Yes   \n",
       "5108  37544    Male  51.0             0              0          Yes   \n",
       "5109  44679  Female  44.0             0              0          Yes   \n",
       "\n",
       "     Residence_type  avg_glucose_level   bmi   smoking_status  stroke  \\\n",
       "0             Urban             228.69  36.6  formerly smoked       1   \n",
       "1             Rural             202.21   NaN     never smoked       1   \n",
       "2             Rural             105.92  32.5     never smoked       1   \n",
       "3             Urban             171.23  34.4           smokes       1   \n",
       "4             Rural             174.12  24.0     never smoked       1   \n",
       "...             ...                ...   ...              ...     ...   \n",
       "5105          Urban              83.75   NaN     never smoked       0   \n",
       "5106          Urban             125.20  40.0     never smoked       0   \n",
       "5107          Rural              82.99  30.6     never smoked       0   \n",
       "5108          Rural             166.29  25.6  formerly smoked       0   \n",
       "5109          Urban              85.28  26.2          Unknown       0   \n",
       "\n",
       "      work_type_Govt_job  work_type_Never_worked  work_type_Private  \\\n",
       "0                      0                       0                  1   \n",
       "1                      0                       0                  0   \n",
       "2                      0                       0                  1   \n",
       "3                      0                       0                  1   \n",
       "4                      0                       0                  0   \n",
       "...                  ...                     ...                ...   \n",
       "5105                   0                       0                  1   \n",
       "5106                   0                       0                  0   \n",
       "5107                   0                       0                  0   \n",
       "5108                   0                       0                  1   \n",
       "5109                   1                       0                  0   \n",
       "\n",
       "      work_type_Self-employed  work_type_children  \n",
       "0                           0                   0  \n",
       "1                           1                   0  \n",
       "2                           0                   0  \n",
       "3                           0                   0  \n",
       "4                           1                   0  \n",
       "...                       ...                 ...  \n",
       "5105                        0                   0  \n",
       "5106                        1                   0  \n",
       "5107                        1                   0  \n",
       "5108                        0                   0  \n",
       "5109                        0                   0  \n",
       "\n",
       "[5110 rows x 16 columns]"
      ]
     },
     "execution_count": 14,
     "metadata": {},
     "output_type": "execute_result"
    }
   ],
   "source": [
    "df2"
   ]
  },
  {
   "cell_type": "code",
   "execution_count": 15,
   "metadata": {},
   "outputs": [
    {
     "name": "stderr",
     "output_type": "stream",
     "text": [
      "<ipython-input-15-e7f2bc1779b3>:1: FutureWarning: The default value of numeric_only in DataFrame.corr is deprecated. In a future version, it will default to False. Select only valid columns or specify the value of numeric_only to silence this warning.\n",
      "  df2.corr(method = 'spearman')\n"
     ]
    },
    {
     "data": {
      "text/html": [
       "<div>\n",
       "<style scoped>\n",
       "    .dataframe tbody tr th:only-of-type {\n",
       "        vertical-align: middle;\n",
       "    }\n",
       "\n",
       "    .dataframe tbody tr th {\n",
       "        vertical-align: top;\n",
       "    }\n",
       "\n",
       "    .dataframe thead th {\n",
       "        text-align: right;\n",
       "    }\n",
       "</style>\n",
       "<table border=\"1\" class=\"dataframe\">\n",
       "  <thead>\n",
       "    <tr style=\"text-align: right;\">\n",
       "      <th></th>\n",
       "      <th>id</th>\n",
       "      <th>age</th>\n",
       "      <th>hypertension</th>\n",
       "      <th>heart_disease</th>\n",
       "      <th>avg_glucose_level</th>\n",
       "      <th>bmi</th>\n",
       "      <th>stroke</th>\n",
       "      <th>work_type_Govt_job</th>\n",
       "      <th>work_type_Never_worked</th>\n",
       "      <th>work_type_Private</th>\n",
       "      <th>work_type_Self-employed</th>\n",
       "      <th>work_type_children</th>\n",
       "    </tr>\n",
       "  </thead>\n",
       "  <tbody>\n",
       "    <tr>\n",
       "      <th>id</th>\n",
       "      <td>1.000000</td>\n",
       "      <td>0.003741</td>\n",
       "      <td>0.003553</td>\n",
       "      <td>-0.001205</td>\n",
       "      <td>-0.053058</td>\n",
       "      <td>0.008945</td>\n",
       "      <td>0.006499</td>\n",
       "      <td>-0.000112</td>\n",
       "      <td>0.005728</td>\n",
       "      <td>0.023444</td>\n",
       "      <td>-0.019798</td>\n",
       "      <td>-0.013699</td>\n",
       "    </tr>\n",
       "    <tr>\n",
       "      <th>age</th>\n",
       "      <td>0.003741</td>\n",
       "      <td>1.000000</td>\n",
       "      <td>0.280647</td>\n",
       "      <td>0.269627</td>\n",
       "      <td>0.145168</td>\n",
       "      <td>0.375650</td>\n",
       "      <td>0.249531</td>\n",
       "      <td>0.124216</td>\n",
       "      <td>-0.078914</td>\n",
       "      <td>0.089099</td>\n",
       "      <td>0.328754</td>\n",
       "      <td>-0.589511</td>\n",
       "    </tr>\n",
       "    <tr>\n",
       "      <th>hypertension</th>\n",
       "      <td>0.003553</td>\n",
       "      <td>0.280647</td>\n",
       "      <td>1.000000</td>\n",
       "      <td>0.108306</td>\n",
       "      <td>0.114041</td>\n",
       "      <td>0.167493</td>\n",
       "      <td>0.127904</td>\n",
       "      <td>0.017685</td>\n",
       "      <td>-0.021608</td>\n",
       "      <td>-0.005413</td>\n",
       "      <td>0.115442</td>\n",
       "      <td>-0.129506</td>\n",
       "    </tr>\n",
       "    <tr>\n",
       "      <th>heart_disease</th>\n",
       "      <td>-0.001205</td>\n",
       "      <td>0.269627</td>\n",
       "      <td>0.108306</td>\n",
       "      <td>1.000000</td>\n",
       "      <td>0.106360</td>\n",
       "      <td>0.066144</td>\n",
       "      <td>0.134914</td>\n",
       "      <td>0.001330</td>\n",
       "      <td>-0.015712</td>\n",
       "      <td>0.000027</td>\n",
       "      <td>0.086760</td>\n",
       "      <td>-0.091634</td>\n",
       "    </tr>\n",
       "    <tr>\n",
       "      <th>avg_glucose_level</th>\n",
       "      <td>-0.053058</td>\n",
       "      <td>0.145168</td>\n",
       "      <td>0.114041</td>\n",
       "      <td>0.106360</td>\n",
       "      <td>1.000000</td>\n",
       "      <td>0.114370</td>\n",
       "      <td>0.082541</td>\n",
       "      <td>0.002481</td>\n",
       "      <td>-0.008346</td>\n",
       "      <td>0.013114</td>\n",
       "      <td>0.030928</td>\n",
       "      <td>-0.053113</td>\n",
       "    </tr>\n",
       "    <tr>\n",
       "      <th>bmi</th>\n",
       "      <td>0.008945</td>\n",
       "      <td>0.375650</td>\n",
       "      <td>0.167493</td>\n",
       "      <td>0.066144</td>\n",
       "      <td>0.114370</td>\n",
       "      <td>1.000000</td>\n",
       "      <td>0.055445</td>\n",
       "      <td>0.091313</td>\n",
       "      <td>-0.033397</td>\n",
       "      <td>0.213132</td>\n",
       "      <td>0.092733</td>\n",
       "      <td>-0.487774</td>\n",
       "    </tr>\n",
       "    <tr>\n",
       "      <th>stroke</th>\n",
       "      <td>0.006499</td>\n",
       "      <td>0.249531</td>\n",
       "      <td>0.127904</td>\n",
       "      <td>0.134914</td>\n",
       "      <td>0.082541</td>\n",
       "      <td>0.055445</td>\n",
       "      <td>1.000000</td>\n",
       "      <td>0.002677</td>\n",
       "      <td>-0.014882</td>\n",
       "      <td>0.011888</td>\n",
       "      <td>0.062168</td>\n",
       "      <td>-0.083869</td>\n",
       "    </tr>\n",
       "    <tr>\n",
       "      <th>work_type_Govt_job</th>\n",
       "      <td>-0.000112</td>\n",
       "      <td>0.124216</td>\n",
       "      <td>0.017685</td>\n",
       "      <td>0.001330</td>\n",
       "      <td>0.002481</td>\n",
       "      <td>0.091313</td>\n",
       "      <td>0.002677</td>\n",
       "      <td>1.000000</td>\n",
       "      <td>-0.025258</td>\n",
       "      <td>-0.444420</td>\n",
       "      <td>-0.167810</td>\n",
       "      <td>-0.151383</td>\n",
       "    </tr>\n",
       "    <tr>\n",
       "      <th>work_type_Never_worked</th>\n",
       "      <td>0.005728</td>\n",
       "      <td>-0.078914</td>\n",
       "      <td>-0.021608</td>\n",
       "      <td>-0.015712</td>\n",
       "      <td>-0.008346</td>\n",
       "      <td>-0.033397</td>\n",
       "      <td>-0.014882</td>\n",
       "      <td>-0.025258</td>\n",
       "      <td>1.000000</td>\n",
       "      <td>-0.076081</td>\n",
       "      <td>-0.028728</td>\n",
       "      <td>-0.025915</td>\n",
       "    </tr>\n",
       "    <tr>\n",
       "      <th>work_type_Private</th>\n",
       "      <td>0.023444</td>\n",
       "      <td>0.089099</td>\n",
       "      <td>-0.005413</td>\n",
       "      <td>0.000027</td>\n",
       "      <td>0.013114</td>\n",
       "      <td>0.213132</td>\n",
       "      <td>0.011888</td>\n",
       "      <td>-0.444420</td>\n",
       "      <td>-0.076081</td>\n",
       "      <td>1.000000</td>\n",
       "      <td>-0.505475</td>\n",
       "      <td>-0.455992</td>\n",
       "    </tr>\n",
       "    <tr>\n",
       "      <th>work_type_Self-employed</th>\n",
       "      <td>-0.019798</td>\n",
       "      <td>0.328754</td>\n",
       "      <td>0.115442</td>\n",
       "      <td>0.086760</td>\n",
       "      <td>0.030928</td>\n",
       "      <td>0.092733</td>\n",
       "      <td>0.062168</td>\n",
       "      <td>-0.167810</td>\n",
       "      <td>-0.028728</td>\n",
       "      <td>-0.505475</td>\n",
       "      <td>1.000000</td>\n",
       "      <td>-0.172180</td>\n",
       "    </tr>\n",
       "    <tr>\n",
       "      <th>work_type_children</th>\n",
       "      <td>-0.013699</td>\n",
       "      <td>-0.589511</td>\n",
       "      <td>-0.129506</td>\n",
       "      <td>-0.091634</td>\n",
       "      <td>-0.053113</td>\n",
       "      <td>-0.487774</td>\n",
       "      <td>-0.083869</td>\n",
       "      <td>-0.151383</td>\n",
       "      <td>-0.025915</td>\n",
       "      <td>-0.455992</td>\n",
       "      <td>-0.172180</td>\n",
       "      <td>1.000000</td>\n",
       "    </tr>\n",
       "  </tbody>\n",
       "</table>\n",
       "</div>"
      ],
      "text/plain": [
       "                               id       age  hypertension  heart_disease  \\\n",
       "id                       1.000000  0.003741      0.003553      -0.001205   \n",
       "age                      0.003741  1.000000      0.280647       0.269627   \n",
       "hypertension             0.003553  0.280647      1.000000       0.108306   \n",
       "heart_disease           -0.001205  0.269627      0.108306       1.000000   \n",
       "avg_glucose_level       -0.053058  0.145168      0.114041       0.106360   \n",
       "bmi                      0.008945  0.375650      0.167493       0.066144   \n",
       "stroke                   0.006499  0.249531      0.127904       0.134914   \n",
       "work_type_Govt_job      -0.000112  0.124216      0.017685       0.001330   \n",
       "work_type_Never_worked   0.005728 -0.078914     -0.021608      -0.015712   \n",
       "work_type_Private        0.023444  0.089099     -0.005413       0.000027   \n",
       "work_type_Self-employed -0.019798  0.328754      0.115442       0.086760   \n",
       "work_type_children      -0.013699 -0.589511     -0.129506      -0.091634   \n",
       "\n",
       "                         avg_glucose_level       bmi    stroke  \\\n",
       "id                               -0.053058  0.008945  0.006499   \n",
       "age                               0.145168  0.375650  0.249531   \n",
       "hypertension                      0.114041  0.167493  0.127904   \n",
       "heart_disease                     0.106360  0.066144  0.134914   \n",
       "avg_glucose_level                 1.000000  0.114370  0.082541   \n",
       "bmi                               0.114370  1.000000  0.055445   \n",
       "stroke                            0.082541  0.055445  1.000000   \n",
       "work_type_Govt_job                0.002481  0.091313  0.002677   \n",
       "work_type_Never_worked           -0.008346 -0.033397 -0.014882   \n",
       "work_type_Private                 0.013114  0.213132  0.011888   \n",
       "work_type_Self-employed           0.030928  0.092733  0.062168   \n",
       "work_type_children               -0.053113 -0.487774 -0.083869   \n",
       "\n",
       "                         work_type_Govt_job  work_type_Never_worked  \\\n",
       "id                                -0.000112                0.005728   \n",
       "age                                0.124216               -0.078914   \n",
       "hypertension                       0.017685               -0.021608   \n",
       "heart_disease                      0.001330               -0.015712   \n",
       "avg_glucose_level                  0.002481               -0.008346   \n",
       "bmi                                0.091313               -0.033397   \n",
       "stroke                             0.002677               -0.014882   \n",
       "work_type_Govt_job                 1.000000               -0.025258   \n",
       "work_type_Never_worked            -0.025258                1.000000   \n",
       "work_type_Private                 -0.444420               -0.076081   \n",
       "work_type_Self-employed           -0.167810               -0.028728   \n",
       "work_type_children                -0.151383               -0.025915   \n",
       "\n",
       "                         work_type_Private  work_type_Self-employed  \\\n",
       "id                                0.023444                -0.019798   \n",
       "age                               0.089099                 0.328754   \n",
       "hypertension                     -0.005413                 0.115442   \n",
       "heart_disease                     0.000027                 0.086760   \n",
       "avg_glucose_level                 0.013114                 0.030928   \n",
       "bmi                               0.213132                 0.092733   \n",
       "stroke                            0.011888                 0.062168   \n",
       "work_type_Govt_job               -0.444420                -0.167810   \n",
       "work_type_Never_worked           -0.076081                -0.028728   \n",
       "work_type_Private                 1.000000                -0.505475   \n",
       "work_type_Self-employed          -0.505475                 1.000000   \n",
       "work_type_children               -0.455992                -0.172180   \n",
       "\n",
       "                         work_type_children  \n",
       "id                                -0.013699  \n",
       "age                               -0.589511  \n",
       "hypertension                      -0.129506  \n",
       "heart_disease                     -0.091634  \n",
       "avg_glucose_level                 -0.053113  \n",
       "bmi                               -0.487774  \n",
       "stroke                            -0.083869  \n",
       "work_type_Govt_job                -0.151383  \n",
       "work_type_Never_worked            -0.025915  \n",
       "work_type_Private                 -0.455992  \n",
       "work_type_Self-employed           -0.172180  \n",
       "work_type_children                 1.000000  "
      ]
     },
     "execution_count": 15,
     "metadata": {},
     "output_type": "execute_result"
    }
   ],
   "source": [
    "df2.corr(method = 'spearman')"
   ]
  },
  {
   "cell_type": "code",
   "execution_count": 19,
   "metadata": {},
   "outputs": [
    {
     "data": {
      "text/plain": [
       "<AxesSubplot: >"
      ]
     },
     "execution_count": 19,
     "metadata": {},
     "output_type": "execute_result"
    },
    {
     "data": {
      "image/png": "[encoded data removed]",
      "text/plain": [
       "<Figure size 432x288 with 1 Axes>"
      ]
     },
     "metadata": {
      "needs_background": "light"
     },
     "output_type": "display_data"
    }
   ],
   "source": [
    "df2.corr(method = \"spearman\", numeric_only = True)[\"stroke\"].sort_values().plot(kind = 'barh')"
   ]
  },
  {
   "cell_type": "code",
   "execution_count": 20,
   "metadata": {},
   "outputs": [
    {
     "data": {
      "text/plain": [
       "<AxesSubplot: xlabel='stroke', ylabel='age'>"
      ]
     },
     "execution_count": 20,
     "metadata": {},
     "output_type": "execute_result"
    },
    {
     "data": {
      "image/png": "[encoded data removed]",
      "text/plain": [
       "<Figure size 432x288 with 1 Axes>"
      ]
     },
     "metadata": {
      "needs_background": "light"
     },
     "output_type": "display_data"
    }
   ],
   "source": [
    "sns.boxplot(data = df,\n",
    "           x = \"stroke\",\n",
    "           y = \"age\")"
   ]
  },
  {
   "cell_type": "markdown",
   "metadata": {},
   "source": [
    "Embora ainda não estejamos utilizando modelos de Machine Learning, vemos como é possível, a partir de uma análise exploratória de dados, inferir algumas relações sobre nossos dados.\n",
    "\n",
    "Por exemplo, com o plot acima, vemos que existe clara tendência de pessoas mais velhas terem maiores chances de apresentarem um episódio de AVC.\n",
    "\n",
    "Mas como verificamos se essa tendência é **estatisticamente significante**?"
   ]
  },
  {
   "cell_type": "code",
   "execution_count": 21,
   "metadata": {},
   "outputs": [
    {
     "data": {
      "text/plain": [
       "<AxesSubplot: xlabel='age', ylabel='Density'>"
      ]
     },
     "execution_count": 21,
     "metadata": {},
     "output_type": "execute_result"
    },
    {
     "data": {
      "image/png": "[encoded data removed]",
      "text/plain": [
       "<Figure size 432x288 with 1 Axes>"
      ]
     },
     "metadata": {
      "needs_background": "light"
     },
     "output_type": "display_data"
    }
   ],
   "source": [
    "sns.kdeplot(data = df,\n",
    "           x = \"age\",\n",
    "           hue = \"stroke\",\n",
    "           common_norm = False)"
   ]
  },
  {
   "cell_type": "code",
   "execution_count": 22,
   "metadata": {},
   "outputs": [],
   "source": [
    "from scipy.stats import ttest_ind"
   ]
  },
  {
   "cell_type": "code",
   "execution_count": 23,
   "metadata": {},
   "outputs": [
    {
     "data": {
      "text/plain": [
       "Ttest_indResult(statistic=-18.08083426887953, pvalue=7.0307775129939774e-71)"
      ]
     },
     "execution_count": 23,
     "metadata": {},
     "output_type": "execute_result"
    }
   ],
   "source": [
    "x = df[df[\"stroke\"] == 0][\"age\"]\n",
    "y = df[df[\"stroke\"] == 1][\"age\"]\n",
    "\n",
    "ttest_ind(x,y)"
   ]
  },
  {
   "cell_type": "markdown",
   "metadata": {},
   "source": [
    "Vemos, com a aplicação de um **test-T para amostras independentes**, que o p-valor do teste é menor que 0.05; e, de fato, ele é muito pequeno, da ordem de $10^{-71}$. Isso mostra que existe, portanto, uma chance muitíssimo baixa de que a diferença observada nas médias entre as distribuições de idades para os pacientes que apresentaram, ou não, um episódio de AVC, seja devido simplesmente ao acaso.\n",
    "\n",
    "Portanto, as distirbuições **diferem significativamente segundo o critério do teste-T (p < 0.05)**."
   ]
  },
  {
   "cell_type": "markdown",
   "metadata": {},
   "source": [
    "Podemos aplicar um raciocínio similar e buscar nos nossos dados, por exemplo, quais variáveis apresentam distribuições diferentes, estatisticamente, entre as condições \"0\" e \"1\" para a variável \"stroke\". Com isso, teremos uma ideia de possíveis variáveis que provavelmente estão mais associadas à apresentação de um episódio de AVC."
   ]
  },
  {
   "cell_type": "markdown",
   "metadata": {},
   "source": [
    "**IMPORTANTE:** vale lembrar que há testes estatísticos, como é o caso do teste-T, que assumem que a distribuição da caracterísitca possui um formato bem definido (ex: uma normal). **Esse pode não ser o caso para algumas das nossas variáveis** (como, por exemplo, as características binárias). É importante que utilizemos o teste apropriado.\n",
    "\n",
    "Há testes, como o de Mann-Whitney, que são chamados de **não-paramétricos**, o que significa dizer que eles não assumem qualquer tipo de hipótese sobre o formato da distribuição dos dados (podem ser mais apropriados nesse caso)."
   ]
  },
  {
   "cell_type": "code",
   "execution_count": 24,
   "metadata": {},
   "outputs": [],
   "source": [
    "from scipy.stats import mannwhitneyu"
   ]
  },
  {
   "cell_type": "code",
   "execution_count": 25,
   "metadata": {},
   "outputs": [
    {
     "data": {
      "text/html": [
       "<div>\n",
       "<style scoped>\n",
       "    .dataframe tbody tr th:only-of-type {\n",
       "        vertical-align: middle;\n",
       "    }\n",
       "\n",
       "    .dataframe tbody tr th {\n",
       "        vertical-align: top;\n",
       "    }\n",
       "\n",
       "    .dataframe thead th {\n",
       "        text-align: right;\n",
       "    }\n",
       "</style>\n",
       "<table border=\"1\" class=\"dataframe\">\n",
       "  <thead>\n",
       "    <tr style=\"text-align: right;\">\n",
       "      <th></th>\n",
       "      <th>id</th>\n",
       "      <th>gender</th>\n",
       "      <th>age</th>\n",
       "      <th>hypertension</th>\n",
       "      <th>heart_disease</th>\n",
       "      <th>ever_married</th>\n",
       "      <th>Residence_type</th>\n",
       "      <th>avg_glucose_level</th>\n",
       "      <th>bmi</th>\n",
       "      <th>smoking_status</th>\n",
       "      <th>stroke</th>\n",
       "      <th>work_type_Govt_job</th>\n",
       "      <th>work_type_Never_worked</th>\n",
       "      <th>work_type_Private</th>\n",
       "      <th>work_type_Self-employed</th>\n",
       "      <th>work_type_children</th>\n",
       "    </tr>\n",
       "  </thead>\n",
       "  <tbody>\n",
       "    <tr>\n",
       "      <th>0</th>\n",
       "      <td>9046</td>\n",
       "      <td>Male</td>\n",
       "      <td>67.0</td>\n",
       "      <td>0</td>\n",
       "      <td>1</td>\n",
       "      <td>Yes</td>\n",
       "      <td>Urban</td>\n",
       "      <td>228.69</td>\n",
       "      <td>36.6</td>\n",
       "      <td>formerly smoked</td>\n",
       "      <td>1</td>\n",
       "      <td>0</td>\n",
       "      <td>0</td>\n",
       "      <td>1</td>\n",
       "      <td>0</td>\n",
       "      <td>0</td>\n",
       "    </tr>\n",
       "    <tr>\n",
       "      <th>1</th>\n",
       "      <td>51676</td>\n",
       "      <td>Female</td>\n",
       "      <td>61.0</td>\n",
       "      <td>0</td>\n",
       "      <td>0</td>\n",
       "      <td>Yes</td>\n",
       "      <td>Rural</td>\n",
       "      <td>202.21</td>\n",
       "      <td>NaN</td>\n",
       "      <td>never smoked</td>\n",
       "      <td>1</td>\n",
       "      <td>0</td>\n",
       "      <td>0</td>\n",
       "      <td>0</td>\n",
       "      <td>1</td>\n",
       "      <td>0</td>\n",
       "    </tr>\n",
       "    <tr>\n",
       "      <th>2</th>\n",
       "      <td>31112</td>\n",
       "      <td>Male</td>\n",
       "      <td>80.0</td>\n",
       "      <td>0</td>\n",
       "      <td>1</td>\n",
       "      <td>Yes</td>\n",
       "      <td>Rural</td>\n",
       "      <td>105.92</td>\n",
       "      <td>32.5</td>\n",
       "      <td>never smoked</td>\n",
       "      <td>1</td>\n",
       "      <td>0</td>\n",
       "      <td>0</td>\n",
       "      <td>1</td>\n",
       "      <td>0</td>\n",
       "      <td>0</td>\n",
       "    </tr>\n",
       "    <tr>\n",
       "      <th>3</th>\n",
       "      <td>60182</td>\n",
       "      <td>Female</td>\n",
       "      <td>49.0</td>\n",
       "      <td>0</td>\n",
       "      <td>0</td>\n",
       "      <td>Yes</td>\n",
       "      <td>Urban</td>\n",
       "      <td>171.23</td>\n",
       "      <td>34.4</td>\n",
       "      <td>smokes</td>\n",
       "      <td>1</td>\n",
       "      <td>0</td>\n",
       "      <td>0</td>\n",
       "      <td>1</td>\n",
       "      <td>0</td>\n",
       "      <td>0</td>\n",
       "    </tr>\n",
       "    <tr>\n",
       "      <th>4</th>\n",
       "      <td>1665</td>\n",
       "      <td>Female</td>\n",
       "      <td>79.0</td>\n",
       "      <td>1</td>\n",
       "      <td>0</td>\n",
       "      <td>Yes</td>\n",
       "      <td>Rural</td>\n",
       "      <td>174.12</td>\n",
       "      <td>24.0</td>\n",
       "      <td>never smoked</td>\n",
       "      <td>1</td>\n",
       "      <td>0</td>\n",
       "      <td>0</td>\n",
       "      <td>0</td>\n",
       "      <td>1</td>\n",
       "      <td>0</td>\n",
       "    </tr>\n",
       "  </tbody>\n",
       "</table>\n",
       "</div>"
      ],
      "text/plain": [
       "      id  gender   age  hypertension  heart_disease ever_married  \\\n",
       "0   9046    Male  67.0             0              1          Yes   \n",
       "1  51676  Female  61.0             0              0          Yes   \n",
       "2  31112    Male  80.0             0              1          Yes   \n",
       "3  60182  Female  49.0             0              0          Yes   \n",
       "4   1665  Female  79.0             1              0          Yes   \n",
       "\n",
       "  Residence_type  avg_glucose_level   bmi   smoking_status  stroke  \\\n",
       "0          Urban             228.69  36.6  formerly smoked       1   \n",
       "1          Rural             202.21   NaN     never smoked       1   \n",
       "2          Rural             105.92  32.5     never smoked       1   \n",
       "3          Urban             171.23  34.4           smokes       1   \n",
       "4          Rural             174.12  24.0     never smoked       1   \n",
       "\n",
       "   work_type_Govt_job  work_type_Never_worked  work_type_Private  \\\n",
       "0                   0                       0                  1   \n",
       "1                   0                       0                  0   \n",
       "2                   0                       0                  1   \n",
       "3                   0                       0                  1   \n",
       "4                   0                       0                  0   \n",
       "\n",
       "   work_type_Self-employed  work_type_children  \n",
       "0                        0                   0  \n",
       "1                        1                   0  \n",
       "2                        0                   0  \n",
       "3                        0                   0  \n",
       "4                        1                   0  "
      ]
     },
     "execution_count": 25,
     "metadata": {},
     "output_type": "execute_result"
    }
   ],
   "source": [
    "df2.head()"
   ]
  },
  {
   "cell_type": "code",
   "execution_count": 27,
   "metadata": {},
   "outputs": [],
   "source": [
    "p = {}\n",
    "\n",
    "for column in df2.drop(columns = [\"id\", \"stroke\"]).columns:\n",
    "    x = df2[df2[\"stroke\"] == 0][column]\n",
    "    y = df2[df2[\"stroke\"] == 1][column]\n",
    "    \n",
    "    _, p[column] = mannwhitneyu(x,y)"
   ]
  },
  {
   "cell_type": "code",
   "execution_count": 28,
   "metadata": {},
   "outputs": [
    {
     "data": {
      "text/plain": [
       "{'gender': 0.26032655936787225,\n",
       " 'age': 1.8633173329500057e-71,\n",
       " 'hypertension': 3.060486974084128e-20,\n",
       " 'heart_disease': 2.6255159268144732e-22,\n",
       " 'ever_married': 4.824357368165758e-15,\n",
       " 'Residence_type': 0.13460845421732237,\n",
       " 'avg_glucose_level': 1.8201836355446618e-09,\n",
       " 'bmi': 4.457203798365287e-12,\n",
       " 'smoking_status': 0.02954642277307332,\n",
       " 'work_type_Govt_job': 0.42415094206760295,\n",
       " 'work_type_Never_worked': 0.14376330231856627,\n",
       " 'work_type_Private': 0.19774236663009614,\n",
       " 'work_type_Self-employed': 4.423658406046504e-06,\n",
       " 'work_type_children': 1.0192517729759562e-09}"
      ]
     },
     "execution_count": 28,
     "metadata": {},
     "output_type": "execute_result"
    }
   ],
   "source": [
    "p"
   ]
  },
  {
   "cell_type": "markdown",
   "metadata": {},
   "source": [
    "Usualmente, esperaríamos que características mais correlacionadas apresentassem os menores p-valores. Vale lembrar, também, que, embora com o pandas não seja possível, utilizando as funções de correlação do scipy, conseguimos obter os p-valores das próprias correlações (em que a hipótese nula, nestes casos, é que **não** existe relação entre as variáveis estudadas)."
   ]
  },
  {
   "cell_type": "markdown",
   "metadata": {},
   "source": [
    "A partir dessas tendências, podemos tentar desenhar estratégias para predizer se um dado paciente teve um episódio de AVC."
   ]
  },
  {
   "cell_type": "code",
   "execution_count": 29,
   "metadata": {},
   "outputs": [
    {
     "data": {
      "text/plain": [
       "<AxesSubplot: xlabel='age', ylabel='Density'>"
      ]
     },
     "execution_count": 29,
     "metadata": {},
     "output_type": "execute_result"
    },
    {
     "data": {
      "image/png": "[encoded data removed]",
      "text/plain": [
       "<Figure size 432x288 with 1 Axes>"
      ]
     },
     "metadata": {
      "needs_background": "light"
     },
     "output_type": "display_data"
    }
   ],
   "source": [
    "sns.kdeplot(data = df,\n",
    "           x = \"age\",\n",
    "           hue = \"stroke\",\n",
    "           common_norm = False)"
   ]
  },
  {
   "cell_type": "markdown",
   "metadata": {},
   "source": [
    "Se usarmos como critério, por exemplo, que diremos que um paciente teve um AVC caso sua idade seja maior que 60:"
   ]
  },
  {
   "cell_type": "code",
   "execution_count": 30,
   "metadata": {},
   "outputs": [],
   "source": [
    "df[\"stroke_prediction\"] = df[\"age\"].apply(lambda x: 1 if x > 60 else 0)"
   ]
  },
  {
   "cell_type": "code",
   "execution_count": 32,
   "metadata": {},
   "outputs": [
    {
     "data": {
      "text/html": [
       "<div>\n",
       "<style scoped>\n",
       "    .dataframe tbody tr th:only-of-type {\n",
       "        vertical-align: middle;\n",
       "    }\n",
       "\n",
       "    .dataframe tbody tr th {\n",
       "        vertical-align: top;\n",
       "    }\n",
       "\n",
       "    .dataframe thead th {\n",
       "        text-align: right;\n",
       "    }\n",
       "</style>\n",
       "<table border=\"1\" class=\"dataframe\">\n",
       "  <thead>\n",
       "    <tr style=\"text-align: right;\">\n",
       "      <th></th>\n",
       "      <th>stroke</th>\n",
       "      <th>stroke_prediction</th>\n",
       "    </tr>\n",
       "  </thead>\n",
       "  <tbody>\n",
       "    <tr>\n",
       "      <th>0</th>\n",
       "      <td>1</td>\n",
       "      <td>1</td>\n",
       "    </tr>\n",
       "    <tr>\n",
       "      <th>1</th>\n",
       "      <td>1</td>\n",
       "      <td>1</td>\n",
       "    </tr>\n",
       "    <tr>\n",
       "      <th>2</th>\n",
       "      <td>1</td>\n",
       "      <td>1</td>\n",
       "    </tr>\n",
       "    <tr>\n",
       "      <th>3</th>\n",
       "      <td>1</td>\n",
       "      <td>0</td>\n",
       "    </tr>\n",
       "    <tr>\n",
       "      <th>4</th>\n",
       "      <td>1</td>\n",
       "      <td>1</td>\n",
       "    </tr>\n",
       "    <tr>\n",
       "      <th>...</th>\n",
       "      <td>...</td>\n",
       "      <td>...</td>\n",
       "    </tr>\n",
       "    <tr>\n",
       "      <th>5105</th>\n",
       "      <td>0</td>\n",
       "      <td>1</td>\n",
       "    </tr>\n",
       "    <tr>\n",
       "      <th>5106</th>\n",
       "      <td>0</td>\n",
       "      <td>1</td>\n",
       "    </tr>\n",
       "    <tr>\n",
       "      <th>5107</th>\n",
       "      <td>0</td>\n",
       "      <td>0</td>\n",
       "    </tr>\n",
       "    <tr>\n",
       "      <th>5108</th>\n",
       "      <td>0</td>\n",
       "      <td>0</td>\n",
       "    </tr>\n",
       "    <tr>\n",
       "      <th>5109</th>\n",
       "      <td>0</td>\n",
       "      <td>0</td>\n",
       "    </tr>\n",
       "  </tbody>\n",
       "</table>\n",
       "<p>5110 rows × 2 columns</p>\n",
       "</div>"
      ],
      "text/plain": [
       "      stroke  stroke_prediction\n",
       "0          1                  1\n",
       "1          1                  1\n",
       "2          1                  1\n",
       "3          1                  0\n",
       "4          1                  1\n",
       "...      ...                ...\n",
       "5105       0                  1\n",
       "5106       0                  1\n",
       "5107       0                  0\n",
       "5108       0                  0\n",
       "5109       0                  0\n",
       "\n",
       "[5110 rows x 2 columns]"
      ]
     },
     "execution_count": 32,
     "metadata": {},
     "output_type": "execute_result"
    }
   ],
   "source": [
    "df[[\"stroke\", \"stroke_prediction\"]]"
   ]
  },
  {
   "cell_type": "code",
   "execution_count": 36,
   "metadata": {},
   "outputs": [
    {
     "data": {
      "text/plain": [
       "1199"
      ]
     },
     "execution_count": 36,
     "metadata": {},
     "output_type": "execute_result"
    }
   ],
   "source": [
    "abs(df[\"stroke\"] - df[\"stroke_prediction\"]).sum() # número de vezes que o critério errou"
   ]
  },
  {
   "cell_type": "code",
   "execution_count": 37,
   "metadata": {},
   "outputs": [
    {
     "data": {
      "text/plain": [
       "0.23463796477495108"
      ]
     },
     "execution_count": 37,
     "metadata": {},
     "output_type": "execute_result"
    }
   ],
   "source": [
    "abs(df[\"stroke\"] - df[\"stroke_prediction\"]).sum()/df.shape[0]"
   ]
  },
  {
   "cell_type": "markdown",
   "metadata": {},
   "source": [
    "Ao avaliarmos da maneira proposta acima, vemos que **erramos 23 % das previsões**, simplesmente com uma regra bastante simplória. Será que essa abordagem seria bom o suficiente? Como poderíamos melhorá-la?"
   ]
  },
  {
   "cell_type": "markdown",
   "metadata": {},
   "source": [
    "Além disso, será que conseguimos identificar se acertamos mais para uma classe do que para a outra? Ou seja, conseguimos prever melhor a classe \"0\", ou a classe \"1\"?"
   ]
  },
  {
   "cell_type": "code",
   "execution_count": 42,
   "metadata": {},
   "outputs": [
    {
     "data": {
      "text/plain": [
       "0.2891566265060241"
      ]
     },
     "execution_count": 42,
     "metadata": {},
     "output_type": "execute_result"
    }
   ],
   "source": [
    "abs(df[df[\"stroke\"] == 1][\"stroke\"] - df[df[\"stroke\"] == 1][\"stroke_prediction\"]).sum()/df[df[\"stroke\"] == 1].shape[0]"
   ]
  },
  {
   "cell_type": "code",
   "execution_count": 43,
   "metadata": {},
   "outputs": [
    {
     "data": {
      "text/plain": [
       "0.23184529932112735"
      ]
     },
     "execution_count": 43,
     "metadata": {},
     "output_type": "execute_result"
    }
   ],
   "source": [
    "abs(df[df[\"stroke\"] == 0][\"stroke\"] - df[df[\"stroke\"] == 0][\"stroke_prediction\"]).sum()/df[df[\"stroke\"] == 0].shape[0]"
   ]
  },
  {
   "cell_type": "markdown",
   "metadata": {},
   "source": [
    "Devido à desproporção entre as classes, vemos como a predominância da classe \"0\" tende a se aproximar mais do valor geral que calculamos anteriormente, antes da divisão entre as duas classes de dados."
   ]
  },
  {
   "cell_type": "markdown",
   "metadata": {},
   "source": [
    "O processo que desenvolvemos aqui embasa muito do raciocínio que embasa o desenvolvimento de vários modelos de Machine Learning, mesmo que tenha sido bem mais simples. Nas próximas aulas, começaremos a entender melhor o formalismo por trás de tais modelos, e veremos como, partindo de uma série de hipóteses bem definidas, conseguimos criar modelos robustos."
   ]
  }
 ],
 "metadata": {
  "kernelspec": {
   "display_name": "Python 3",
   "language": "python",
   "name": "python3"
  },
  "language_info": {
   "codemirror_mode": {
    "name": "ipython",
    "version": 3
   },
   "file_extension": ".py",
   "mimetype": "text/x-python",
   "name": "python",
   "nbconvert_exporter": "python",
   "pygments_lexer": "ipython3",
   "version": "3.8.5"
  },
  "varInspector": {
   "cols": {
    "lenName": 16,
    "lenType": 16,
    "lenVar": 40
   },
   "kernels_config": {
    "python": {
     "delete_cmd_postfix": "",
     "delete_cmd_prefix": "del ",
     "library": "var_list.py",
     "varRefreshCmd": "print(var_dic_list())"
    },
    "r": {
     "delete_cmd_postfix": ") ",
     "delete_cmd_prefix": "rm(",
     "library": "var_list.r",
     "varRefreshCmd": "cat(var_dic_list()) "
    }
   },
   "types_to_exclude": [
    "module",
    "function",
    "builtin_function_or_method",
    "instance",
    "_Feature"
   ],
   "window_display": false
  }
 },
 "nbformat": 4,
 "nbformat_minor": 4
}
